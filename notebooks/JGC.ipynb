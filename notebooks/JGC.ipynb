{
 "cells": [
  {
   "cell_type": "markdown",
   "metadata": {},
   "source": [
    "# Jumeirah Garden City"
   ]
  },
  {
   "cell_type": "code",
   "execution_count": 1,
   "metadata": {},
   "outputs": [],
   "source": [
    "import numpy as np\n",
    "import pandas as pd\n",
    "import matplotlib.pyplot as plt\n",
    "import seaborn as sns\n",
    "import plotly.express as px\n",
    "import plotly.graph_objects as go"
   ]
  },
  {
   "cell_type": "code",
   "execution_count": 2,
   "metadata": {},
   "outputs": [],
   "source": [
    "# Load the data\n",
    "transactions_satwa = pd.read_csv(\"../data/processed/transactions_satwa.csv\")\n",
    "rent_contracts_satwa = pd.read_csv(\"../data/processed/rent_contracts_satwa.csv\")\n",
    "valuations_satwa = pd.read_csv(\"../data/processed/valuations_satwa.csv\")\n",
    "projects_satwa = pd.read_csv(\"../data/processed/projects_satwa.csv\")\n",
    "buildings_satwa = pd.read_csv(\"../data/processed/buildings_satwa.csv\")\n",
    "units_satwa = pd.read_csv(\"../data/processed/units_satwa.csv\")"
   ]
  },
  {
   "cell_type": "code",
   "execution_count": 4,
   "metadata": {},
   "outputs": [],
   "source": [
    "# Settoing pandas options to display all columns and rows\n",
    "pd.set_option('display.max_columns', None)\n",
    "pd.set_option('display.max_rows', None)"
   ]
  },
  {
   "cell_type": "code",
   "execution_count": 5,
   "metadata": {},
   "outputs": [
    {
     "data": {
      "text/html": [
       "<div>\n",
       "<style scoped>\n",
       "    .dataframe tbody tr th:only-of-type {\n",
       "        vertical-align: middle;\n",
       "    }\n",
       "\n",
       "    .dataframe tbody tr th {\n",
       "        vertical-align: top;\n",
       "    }\n",
       "\n",
       "    .dataframe thead th {\n",
       "        text-align: right;\n",
       "    }\n",
       "</style>\n",
       "<table border=\"1\" class=\"dataframe\">\n",
       "  <thead>\n",
       "    <tr style=\"text-align: right;\">\n",
       "      <th></th>\n",
       "      <th>transaction_id</th>\n",
       "      <th>procedure_id</th>\n",
       "      <th>trans_group_id</th>\n",
       "      <th>trans_group_ar</th>\n",
       "      <th>trans_group_en</th>\n",
       "      <th>procedure_name_ar</th>\n",
       "      <th>procedure_name_en</th>\n",
       "      <th>instance_date</th>\n",
       "      <th>property_type_id</th>\n",
       "      <th>property_type_ar</th>\n",
       "      <th>property_type_en</th>\n",
       "      <th>property_sub_type_id</th>\n",
       "      <th>property_sub_type_ar</th>\n",
       "      <th>property_sub_type_en</th>\n",
       "      <th>property_usage_ar</th>\n",
       "      <th>property_usage_en</th>\n",
       "      <th>reg_type_id</th>\n",
       "      <th>reg_type_ar</th>\n",
       "      <th>reg_type_en</th>\n",
       "      <th>area_id</th>\n",
       "      <th>area_name_ar</th>\n",
       "      <th>area_name_en</th>\n",
       "      <th>building_name_ar</th>\n",
       "      <th>building_name_en</th>\n",
       "      <th>project_number</th>\n",
       "      <th>project_name_ar</th>\n",
       "      <th>project_name_en</th>\n",
       "      <th>master_project_en</th>\n",
       "      <th>master_project_ar</th>\n",
       "      <th>nearest_landmark_ar</th>\n",
       "      <th>nearest_landmark_en</th>\n",
       "      <th>nearest_metro_ar</th>\n",
       "      <th>nearest_metro_en</th>\n",
       "      <th>nearest_mall_ar</th>\n",
       "      <th>nearest_mall_en</th>\n",
       "      <th>rooms_ar</th>\n",
       "      <th>rooms_en</th>\n",
       "      <th>has_parking</th>\n",
       "      <th>procedure_area</th>\n",
       "      <th>actual_worth</th>\n",
       "      <th>meter_sale_price</th>\n",
       "      <th>rent_value</th>\n",
       "      <th>meter_rent_price</th>\n",
       "      <th>no_of_parties_role_1</th>\n",
       "      <th>no_of_parties_role_2</th>\n",
       "      <th>no_of_parties_role_3</th>\n",
       "    </tr>\n",
       "  </thead>\n",
       "  <tbody>\n",
       "    <tr>\n",
       "      <th>0</th>\n",
       "      <td>1-11-2015-5530</td>\n",
       "      <td>11</td>\n",
       "      <td>1</td>\n",
       "      <td>مبايعات</td>\n",
       "      <td>Sales</td>\n",
       "      <td>بيع</td>\n",
       "      <td>Sell</td>\n",
       "      <td>26-03-2015</td>\n",
       "      <td>2</td>\n",
       "      <td>مبنى</td>\n",
       "      <td>Building</td>\n",
       "      <td>NaN</td>\n",
       "      <td>NaN</td>\n",
       "      <td>NaN</td>\n",
       "      <td>تجاري</td>\n",
       "      <td>Commercial</td>\n",
       "      <td>1</td>\n",
       "      <td>العقارات القائمة</td>\n",
       "      <td>Existing Properties</td>\n",
       "      <td>266</td>\n",
       "      <td>السطوه</td>\n",
       "      <td>Al Satwa</td>\n",
       "      <td>NaN</td>\n",
       "      <td>NaN</td>\n",
       "      <td>NaN</td>\n",
       "      <td>NaN</td>\n",
       "      <td>NaN</td>\n",
       "      <td>NaN</td>\n",
       "      <td>NaN</td>\n",
       "      <td>برج خليفة</td>\n",
       "      <td>Burj Khalifa</td>\n",
       "      <td>محطة مترو المركز التجاري</td>\n",
       "      <td>Trade Centre Metro Station</td>\n",
       "      <td>مول دبي</td>\n",
       "      <td>Dubai Mall</td>\n",
       "      <td>NaN</td>\n",
       "      <td>NaN</td>\n",
       "      <td>0</td>\n",
       "      <td>40.65</td>\n",
       "      <td>2012703.0</td>\n",
       "      <td>49512.99</td>\n",
       "      <td>NaN</td>\n",
       "      <td>NaN</td>\n",
       "      <td>3.0</td>\n",
       "      <td>4.0</td>\n",
       "      <td>0.0</td>\n",
       "    </tr>\n",
       "    <tr>\n",
       "      <th>1</th>\n",
       "      <td>1-11-2006-1314</td>\n",
       "      <td>11</td>\n",
       "      <td>1</td>\n",
       "      <td>مبايعات</td>\n",
       "      <td>Sales</td>\n",
       "      <td>بيع</td>\n",
       "      <td>Sell</td>\n",
       "      <td>14-08-2006</td>\n",
       "      <td>1</td>\n",
       "      <td>أرض</td>\n",
       "      <td>Land</td>\n",
       "      <td>NaN</td>\n",
       "      <td>NaN</td>\n",
       "      <td>NaN</td>\n",
       "      <td>سكني</td>\n",
       "      <td>Residential</td>\n",
       "      <td>1</td>\n",
       "      <td>العقارات القائمة</td>\n",
       "      <td>Existing Properties</td>\n",
       "      <td>266</td>\n",
       "      <td>السطوه</td>\n",
       "      <td>Al Satwa</td>\n",
       "      <td>NaN</td>\n",
       "      <td>NaN</td>\n",
       "      <td>NaN</td>\n",
       "      <td>NaN</td>\n",
       "      <td>NaN</td>\n",
       "      <td>NaN</td>\n",
       "      <td>NaN</td>\n",
       "      <td>برج خليفة</td>\n",
       "      <td>Burj Khalifa</td>\n",
       "      <td>محطة مترو المركز التجاري</td>\n",
       "      <td>Trade Centre Metro Station</td>\n",
       "      <td>مول دبي</td>\n",
       "      <td>Dubai Mall</td>\n",
       "      <td>NaN</td>\n",
       "      <td>NaN</td>\n",
       "      <td>0</td>\n",
       "      <td>221.02</td>\n",
       "      <td>1550000.0</td>\n",
       "      <td>7012.94</td>\n",
       "      <td>NaN</td>\n",
       "      <td>NaN</td>\n",
       "      <td>1.0</td>\n",
       "      <td>1.0</td>\n",
       "      <td>0.0</td>\n",
       "    </tr>\n",
       "    <tr>\n",
       "      <th>2</th>\n",
       "      <td>1-11-2003-1074</td>\n",
       "      <td>11</td>\n",
       "      <td>1</td>\n",
       "      <td>مبايعات</td>\n",
       "      <td>Sales</td>\n",
       "      <td>بيع</td>\n",
       "      <td>Sell</td>\n",
       "      <td>21-07-2003</td>\n",
       "      <td>2</td>\n",
       "      <td>مبنى</td>\n",
       "      <td>Building</td>\n",
       "      <td>NaN</td>\n",
       "      <td>NaN</td>\n",
       "      <td>NaN</td>\n",
       "      <td>سكني</td>\n",
       "      <td>Residential</td>\n",
       "      <td>1</td>\n",
       "      <td>العقارات القائمة</td>\n",
       "      <td>Existing Properties</td>\n",
       "      <td>266</td>\n",
       "      <td>السطوه</td>\n",
       "      <td>Al Satwa</td>\n",
       "      <td>NaN</td>\n",
       "      <td>NaN</td>\n",
       "      <td>NaN</td>\n",
       "      <td>NaN</td>\n",
       "      <td>NaN</td>\n",
       "      <td>NaN</td>\n",
       "      <td>NaN</td>\n",
       "      <td>برج خليفة</td>\n",
       "      <td>Burj Khalifa</td>\n",
       "      <td>محطة مترو المركز التجاري</td>\n",
       "      <td>Trade Centre Metro Station</td>\n",
       "      <td>مول دبي</td>\n",
       "      <td>Dubai Mall</td>\n",
       "      <td>NaN</td>\n",
       "      <td>NaN</td>\n",
       "      <td>0</td>\n",
       "      <td>231.70</td>\n",
       "      <td>780000.0</td>\n",
       "      <td>3366.42</td>\n",
       "      <td>NaN</td>\n",
       "      <td>NaN</td>\n",
       "      <td>9.0</td>\n",
       "      <td>1.0</td>\n",
       "      <td>0.0</td>\n",
       "    </tr>\n",
       "    <tr>\n",
       "      <th>3</th>\n",
       "      <td>3-9-2006-300121</td>\n",
       "      <td>9</td>\n",
       "      <td>3</td>\n",
       "      <td>هبات</td>\n",
       "      <td>Gifts</td>\n",
       "      <td>هبه</td>\n",
       "      <td>Grant</td>\n",
       "      <td>18-09-2006</td>\n",
       "      <td>1</td>\n",
       "      <td>أرض</td>\n",
       "      <td>Land</td>\n",
       "      <td>NaN</td>\n",
       "      <td>NaN</td>\n",
       "      <td>NaN</td>\n",
       "      <td>سكني</td>\n",
       "      <td>Residential</td>\n",
       "      <td>1</td>\n",
       "      <td>العقارات القائمة</td>\n",
       "      <td>Existing Properties</td>\n",
       "      <td>266</td>\n",
       "      <td>السطوه</td>\n",
       "      <td>Al Satwa</td>\n",
       "      <td>NaN</td>\n",
       "      <td>NaN</td>\n",
       "      <td>NaN</td>\n",
       "      <td>NaN</td>\n",
       "      <td>NaN</td>\n",
       "      <td>NaN</td>\n",
       "      <td>NaN</td>\n",
       "      <td>برج خليفة</td>\n",
       "      <td>Burj Khalifa</td>\n",
       "      <td>محطة مترو أبراج الإمارات</td>\n",
       "      <td>Emirates Towers Metro Station</td>\n",
       "      <td>مول دبي</td>\n",
       "      <td>Dubai Mall</td>\n",
       "      <td>NaN</td>\n",
       "      <td>NaN</td>\n",
       "      <td>0</td>\n",
       "      <td>19.35</td>\n",
       "      <td>124992.0</td>\n",
       "      <td>6459.53</td>\n",
       "      <td>NaN</td>\n",
       "      <td>NaN</td>\n",
       "      <td>1.0</td>\n",
       "      <td>1.0</td>\n",
       "      <td>0.0</td>\n",
       "    </tr>\n",
       "    <tr>\n",
       "      <th>4</th>\n",
       "      <td>1-11-2021-10599</td>\n",
       "      <td>11</td>\n",
       "      <td>1</td>\n",
       "      <td>مبايعات</td>\n",
       "      <td>Sales</td>\n",
       "      <td>بيع</td>\n",
       "      <td>Sell</td>\n",
       "      <td>23-06-2021</td>\n",
       "      <td>4</td>\n",
       "      <td>فيلا</td>\n",
       "      <td>Villa</td>\n",
       "      <td>NaN</td>\n",
       "      <td>NaN</td>\n",
       "      <td>NaN</td>\n",
       "      <td>سكني</td>\n",
       "      <td>Residential</td>\n",
       "      <td>1</td>\n",
       "      <td>العقارات القائمة</td>\n",
       "      <td>Existing Properties</td>\n",
       "      <td>266</td>\n",
       "      <td>السطوه</td>\n",
       "      <td>Al Satwa</td>\n",
       "      <td>NaN</td>\n",
       "      <td>NaN</td>\n",
       "      <td>NaN</td>\n",
       "      <td>NaN</td>\n",
       "      <td>NaN</td>\n",
       "      <td>NaN</td>\n",
       "      <td>NaN</td>\n",
       "      <td>برج خليفة</td>\n",
       "      <td>Burj Khalifa</td>\n",
       "      <td>محطة مترو المركز التجاري</td>\n",
       "      <td>Trade Centre Metro Station</td>\n",
       "      <td>مول دبي</td>\n",
       "      <td>Dubai Mall</td>\n",
       "      <td>NaN</td>\n",
       "      <td>NaN</td>\n",
       "      <td>0</td>\n",
       "      <td>239.23</td>\n",
       "      <td>3000000.0</td>\n",
       "      <td>12540.23</td>\n",
       "      <td>NaN</td>\n",
       "      <td>NaN</td>\n",
       "      <td>3.0</td>\n",
       "      <td>1.0</td>\n",
       "      <td>0.0</td>\n",
       "    </tr>\n",
       "  </tbody>\n",
       "</table>\n",
       "</div>"
      ],
      "text/plain": [
       "    transaction_id  procedure_id  trans_group_id trans_group_ar  \\\n",
       "0   1-11-2015-5530            11               1        مبايعات   \n",
       "1   1-11-2006-1314            11               1        مبايعات   \n",
       "2   1-11-2003-1074            11               1        مبايعات   \n",
       "3  3-9-2006-300121             9               3           هبات   \n",
       "4  1-11-2021-10599            11               1        مبايعات   \n",
       "\n",
       "  trans_group_en procedure_name_ar procedure_name_en instance_date  \\\n",
       "0          Sales               بيع              Sell    26-03-2015   \n",
       "1          Sales               بيع              Sell    14-08-2006   \n",
       "2          Sales               بيع              Sell    21-07-2003   \n",
       "3          Gifts               هبه             Grant    18-09-2006   \n",
       "4          Sales               بيع              Sell    23-06-2021   \n",
       "\n",
       "   property_type_id property_type_ar property_type_en  property_sub_type_id  \\\n",
       "0                 2             مبنى         Building                   NaN   \n",
       "1                 1              أرض             Land                   NaN   \n",
       "2                 2             مبنى         Building                   NaN   \n",
       "3                 1              أرض             Land                   NaN   \n",
       "4                 4             فيلا            Villa                   NaN   \n",
       "\n",
       "  property_sub_type_ar property_sub_type_en property_usage_ar  \\\n",
       "0                  NaN                  NaN             تجاري   \n",
       "1                  NaN                  NaN              سكني   \n",
       "2                  NaN                  NaN              سكني   \n",
       "3                  NaN                  NaN              سكني   \n",
       "4                  NaN                  NaN              سكني   \n",
       "\n",
       "  property_usage_en  reg_type_id       reg_type_ar          reg_type_en  \\\n",
       "0        Commercial            1  العقارات القائمة  Existing Properties   \n",
       "1       Residential            1  العقارات القائمة  Existing Properties   \n",
       "2       Residential            1  العقارات القائمة  Existing Properties   \n",
       "3       Residential            1  العقارات القائمة  Existing Properties   \n",
       "4       Residential            1  العقارات القائمة  Existing Properties   \n",
       "\n",
       "   area_id area_name_ar area_name_en building_name_ar building_name_en  \\\n",
       "0      266       السطوه     Al Satwa              NaN              NaN   \n",
       "1      266       السطوه     Al Satwa              NaN              NaN   \n",
       "2      266       السطوه     Al Satwa              NaN              NaN   \n",
       "3      266       السطوه     Al Satwa              NaN              NaN   \n",
       "4      266       السطوه     Al Satwa              NaN              NaN   \n",
       "\n",
       "   project_number project_name_ar project_name_en master_project_en  \\\n",
       "0             NaN             NaN             NaN               NaN   \n",
       "1             NaN             NaN             NaN               NaN   \n",
       "2             NaN             NaN             NaN               NaN   \n",
       "3             NaN             NaN             NaN               NaN   \n",
       "4             NaN             NaN             NaN               NaN   \n",
       "\n",
       "  master_project_ar nearest_landmark_ar nearest_landmark_en  \\\n",
       "0               NaN           برج خليفة        Burj Khalifa   \n",
       "1               NaN           برج خليفة        Burj Khalifa   \n",
       "2               NaN           برج خليفة        Burj Khalifa   \n",
       "3               NaN           برج خليفة        Burj Khalifa   \n",
       "4               NaN           برج خليفة        Burj Khalifa   \n",
       "\n",
       "           nearest_metro_ar               nearest_metro_en nearest_mall_ar  \\\n",
       "0  محطة مترو المركز التجاري     Trade Centre Metro Station         مول دبي   \n",
       "1  محطة مترو المركز التجاري     Trade Centre Metro Station         مول دبي   \n",
       "2  محطة مترو المركز التجاري     Trade Centre Metro Station         مول دبي   \n",
       "3  محطة مترو أبراج الإمارات  Emirates Towers Metro Station         مول دبي   \n",
       "4  محطة مترو المركز التجاري     Trade Centre Metro Station         مول دبي   \n",
       "\n",
       "  nearest_mall_en rooms_ar rooms_en  has_parking  procedure_area  \\\n",
       "0      Dubai Mall      NaN      NaN            0           40.65   \n",
       "1      Dubai Mall      NaN      NaN            0          221.02   \n",
       "2      Dubai Mall      NaN      NaN            0          231.70   \n",
       "3      Dubai Mall      NaN      NaN            0           19.35   \n",
       "4      Dubai Mall      NaN      NaN            0          239.23   \n",
       "\n",
       "   actual_worth  meter_sale_price  rent_value  meter_rent_price  \\\n",
       "0     2012703.0          49512.99         NaN               NaN   \n",
       "1     1550000.0           7012.94         NaN               NaN   \n",
       "2      780000.0           3366.42         NaN               NaN   \n",
       "3      124992.0           6459.53         NaN               NaN   \n",
       "4     3000000.0          12540.23         NaN               NaN   \n",
       "\n",
       "   no_of_parties_role_1  no_of_parties_role_2  no_of_parties_role_3  \n",
       "0                   3.0                   4.0                   0.0  \n",
       "1                   1.0                   1.0                   0.0  \n",
       "2                   9.0                   1.0                   0.0  \n",
       "3                   1.0                   1.0                   0.0  \n",
       "4                   3.0                   1.0                   0.0  "
      ]
     },
     "execution_count": 5,
     "metadata": {},
     "output_type": "execute_result"
    }
   ],
   "source": [
    "# Displaying the transactions dataset\n",
    "transactions_satwa.head()"
   ]
  },
  {
   "cell_type": "code",
   "execution_count": 6,
   "metadata": {},
   "outputs": [
    {
     "data": {
      "text/html": [
       "<div>\n",
       "<style scoped>\n",
       "    .dataframe tbody tr th:only-of-type {\n",
       "        vertical-align: middle;\n",
       "    }\n",
       "\n",
       "    .dataframe tbody tr th {\n",
       "        vertical-align: top;\n",
       "    }\n",
       "\n",
       "    .dataframe thead th {\n",
       "        text-align: right;\n",
       "    }\n",
       "</style>\n",
       "<table border=\"1\" class=\"dataframe\">\n",
       "  <thead>\n",
       "    <tr style=\"text-align: right;\">\n",
       "      <th></th>\n",
       "      <th>instance_date</th>\n",
       "      <th>transaction_id</th>\n",
       "      <th>trans_group_id</th>\n",
       "      <th>trans_group_en</th>\n",
       "      <th>trans_group_ar</th>\n",
       "      <th>procedure_id</th>\n",
       "      <th>procedure_name_en</th>\n",
       "      <th>procedure_name_ar</th>\n",
       "      <th>property_type_id</th>\n",
       "      <th>property_type_en</th>\n",
       "      <th>property_type_ar</th>\n",
       "      <th>property_sub_type_id</th>\n",
       "      <th>property_sub_type_en</th>\n",
       "      <th>property_sub_type_ar</th>\n",
       "      <th>property_usage_en</th>\n",
       "      <th>property_usage_ar</th>\n",
       "      <th>reg_type_id</th>\n",
       "      <th>reg_type_en</th>\n",
       "      <th>reg_type_ar</th>\n",
       "      <th>area_id</th>\n",
       "      <th>area_name_en</th>\n",
       "      <th>area_name_ar</th>\n",
       "      <th>master_project_en</th>\n",
       "      <th>master_project_ar</th>\n",
       "      <th>project_number</th>\n",
       "      <th>project_name_en</th>\n",
       "      <th>project_name_ar</th>\n",
       "      <th>building_name_en</th>\n",
       "      <th>building_name_ar</th>\n",
       "      <th>rooms_en</th>\n",
       "      <th>rooms_ar</th>\n",
       "      <th>has_parking</th>\n",
       "      <th>procedure_area</th>\n",
       "      <th>meter_sale_price</th>\n",
       "      <th>actual_worth</th>\n",
       "    </tr>\n",
       "  </thead>\n",
       "  <tbody>\n",
       "    <tr>\n",
       "      <th>0</th>\n",
       "      <td>26-03-2015</td>\n",
       "      <td>1-11-2015-5530</td>\n",
       "      <td>1</td>\n",
       "      <td>Sales</td>\n",
       "      <td>مبايعات</td>\n",
       "      <td>11</td>\n",
       "      <td>Sell</td>\n",
       "      <td>بيع</td>\n",
       "      <td>2</td>\n",
       "      <td>Building</td>\n",
       "      <td>مبنى</td>\n",
       "      <td>NaN</td>\n",
       "      <td>NaN</td>\n",
       "      <td>NaN</td>\n",
       "      <td>Commercial</td>\n",
       "      <td>تجاري</td>\n",
       "      <td>1</td>\n",
       "      <td>Existing Properties</td>\n",
       "      <td>العقارات القائمة</td>\n",
       "      <td>266</td>\n",
       "      <td>Al Satwa</td>\n",
       "      <td>السطوه</td>\n",
       "      <td>NaN</td>\n",
       "      <td>NaN</td>\n",
       "      <td>NaN</td>\n",
       "      <td>NaN</td>\n",
       "      <td>NaN</td>\n",
       "      <td>NaN</td>\n",
       "      <td>NaN</td>\n",
       "      <td>NaN</td>\n",
       "      <td>NaN</td>\n",
       "      <td>0</td>\n",
       "      <td>40.65</td>\n",
       "      <td>49512.99</td>\n",
       "      <td>2012703.0</td>\n",
       "    </tr>\n",
       "    <tr>\n",
       "      <th>1</th>\n",
       "      <td>14-08-2006</td>\n",
       "      <td>1-11-2006-1314</td>\n",
       "      <td>1</td>\n",
       "      <td>Sales</td>\n",
       "      <td>مبايعات</td>\n",
       "      <td>11</td>\n",
       "      <td>Sell</td>\n",
       "      <td>بيع</td>\n",
       "      <td>1</td>\n",
       "      <td>Land</td>\n",
       "      <td>أرض</td>\n",
       "      <td>NaN</td>\n",
       "      <td>NaN</td>\n",
       "      <td>NaN</td>\n",
       "      <td>Residential</td>\n",
       "      <td>سكني</td>\n",
       "      <td>1</td>\n",
       "      <td>Existing Properties</td>\n",
       "      <td>العقارات القائمة</td>\n",
       "      <td>266</td>\n",
       "      <td>Al Satwa</td>\n",
       "      <td>السطوه</td>\n",
       "      <td>NaN</td>\n",
       "      <td>NaN</td>\n",
       "      <td>NaN</td>\n",
       "      <td>NaN</td>\n",
       "      <td>NaN</td>\n",
       "      <td>NaN</td>\n",
       "      <td>NaN</td>\n",
       "      <td>NaN</td>\n",
       "      <td>NaN</td>\n",
       "      <td>0</td>\n",
       "      <td>221.02</td>\n",
       "      <td>7012.94</td>\n",
       "      <td>1550000.0</td>\n",
       "    </tr>\n",
       "    <tr>\n",
       "      <th>2</th>\n",
       "      <td>21-07-2003</td>\n",
       "      <td>1-11-2003-1074</td>\n",
       "      <td>1</td>\n",
       "      <td>Sales</td>\n",
       "      <td>مبايعات</td>\n",
       "      <td>11</td>\n",
       "      <td>Sell</td>\n",
       "      <td>بيع</td>\n",
       "      <td>2</td>\n",
       "      <td>Building</td>\n",
       "      <td>مبنى</td>\n",
       "      <td>NaN</td>\n",
       "      <td>NaN</td>\n",
       "      <td>NaN</td>\n",
       "      <td>Residential</td>\n",
       "      <td>سكني</td>\n",
       "      <td>1</td>\n",
       "      <td>Existing Properties</td>\n",
       "      <td>العقارات القائمة</td>\n",
       "      <td>266</td>\n",
       "      <td>Al Satwa</td>\n",
       "      <td>السطوه</td>\n",
       "      <td>NaN</td>\n",
       "      <td>NaN</td>\n",
       "      <td>NaN</td>\n",
       "      <td>NaN</td>\n",
       "      <td>NaN</td>\n",
       "      <td>NaN</td>\n",
       "      <td>NaN</td>\n",
       "      <td>NaN</td>\n",
       "      <td>NaN</td>\n",
       "      <td>0</td>\n",
       "      <td>231.70</td>\n",
       "      <td>3366.42</td>\n",
       "      <td>780000.0</td>\n",
       "    </tr>\n",
       "    <tr>\n",
       "      <th>3</th>\n",
       "      <td>18-09-2006</td>\n",
       "      <td>3-9-2006-300121</td>\n",
       "      <td>3</td>\n",
       "      <td>Gifts</td>\n",
       "      <td>هبات</td>\n",
       "      <td>9</td>\n",
       "      <td>Grant</td>\n",
       "      <td>هبه</td>\n",
       "      <td>1</td>\n",
       "      <td>Land</td>\n",
       "      <td>أرض</td>\n",
       "      <td>NaN</td>\n",
       "      <td>NaN</td>\n",
       "      <td>NaN</td>\n",
       "      <td>Residential</td>\n",
       "      <td>سكني</td>\n",
       "      <td>1</td>\n",
       "      <td>Existing Properties</td>\n",
       "      <td>العقارات القائمة</td>\n",
       "      <td>266</td>\n",
       "      <td>Al Satwa</td>\n",
       "      <td>السطوه</td>\n",
       "      <td>NaN</td>\n",
       "      <td>NaN</td>\n",
       "      <td>NaN</td>\n",
       "      <td>NaN</td>\n",
       "      <td>NaN</td>\n",
       "      <td>NaN</td>\n",
       "      <td>NaN</td>\n",
       "      <td>NaN</td>\n",
       "      <td>NaN</td>\n",
       "      <td>0</td>\n",
       "      <td>19.35</td>\n",
       "      <td>6459.53</td>\n",
       "      <td>124992.0</td>\n",
       "    </tr>\n",
       "    <tr>\n",
       "      <th>4</th>\n",
       "      <td>23-06-2021</td>\n",
       "      <td>1-11-2021-10599</td>\n",
       "      <td>1</td>\n",
       "      <td>Sales</td>\n",
       "      <td>مبايعات</td>\n",
       "      <td>11</td>\n",
       "      <td>Sell</td>\n",
       "      <td>بيع</td>\n",
       "      <td>4</td>\n",
       "      <td>Villa</td>\n",
       "      <td>فيلا</td>\n",
       "      <td>NaN</td>\n",
       "      <td>NaN</td>\n",
       "      <td>NaN</td>\n",
       "      <td>Residential</td>\n",
       "      <td>سكني</td>\n",
       "      <td>1</td>\n",
       "      <td>Existing Properties</td>\n",
       "      <td>العقارات القائمة</td>\n",
       "      <td>266</td>\n",
       "      <td>Al Satwa</td>\n",
       "      <td>السطوه</td>\n",
       "      <td>NaN</td>\n",
       "      <td>NaN</td>\n",
       "      <td>NaN</td>\n",
       "      <td>NaN</td>\n",
       "      <td>NaN</td>\n",
       "      <td>NaN</td>\n",
       "      <td>NaN</td>\n",
       "      <td>NaN</td>\n",
       "      <td>NaN</td>\n",
       "      <td>0</td>\n",
       "      <td>239.23</td>\n",
       "      <td>12540.23</td>\n",
       "      <td>3000000.0</td>\n",
       "    </tr>\n",
       "  </tbody>\n",
       "</table>\n",
       "</div>"
      ],
      "text/plain": [
       "  instance_date   transaction_id  trans_group_id trans_group_en  \\\n",
       "0    26-03-2015   1-11-2015-5530               1          Sales   \n",
       "1    14-08-2006   1-11-2006-1314               1          Sales   \n",
       "2    21-07-2003   1-11-2003-1074               1          Sales   \n",
       "3    18-09-2006  3-9-2006-300121               3          Gifts   \n",
       "4    23-06-2021  1-11-2021-10599               1          Sales   \n",
       "\n",
       "  trans_group_ar  procedure_id procedure_name_en procedure_name_ar  \\\n",
       "0        مبايعات            11              Sell               بيع   \n",
       "1        مبايعات            11              Sell               بيع   \n",
       "2        مبايعات            11              Sell               بيع   \n",
       "3           هبات             9             Grant               هبه   \n",
       "4        مبايعات            11              Sell               بيع   \n",
       "\n",
       "   property_type_id property_type_en property_type_ar  property_sub_type_id  \\\n",
       "0                 2         Building             مبنى                   NaN   \n",
       "1                 1             Land              أرض                   NaN   \n",
       "2                 2         Building             مبنى                   NaN   \n",
       "3                 1             Land              أرض                   NaN   \n",
       "4                 4            Villa             فيلا                   NaN   \n",
       "\n",
       "  property_sub_type_en property_sub_type_ar property_usage_en  \\\n",
       "0                  NaN                  NaN        Commercial   \n",
       "1                  NaN                  NaN       Residential   \n",
       "2                  NaN                  NaN       Residential   \n",
       "3                  NaN                  NaN       Residential   \n",
       "4                  NaN                  NaN       Residential   \n",
       "\n",
       "  property_usage_ar  reg_type_id          reg_type_en       reg_type_ar  \\\n",
       "0             تجاري            1  Existing Properties  العقارات القائمة   \n",
       "1              سكني            1  Existing Properties  العقارات القائمة   \n",
       "2              سكني            1  Existing Properties  العقارات القائمة   \n",
       "3              سكني            1  Existing Properties  العقارات القائمة   \n",
       "4              سكني            1  Existing Properties  العقارات القائمة   \n",
       "\n",
       "   area_id area_name_en area_name_ar master_project_en master_project_ar  \\\n",
       "0      266     Al Satwa       السطوه               NaN               NaN   \n",
       "1      266     Al Satwa       السطوه               NaN               NaN   \n",
       "2      266     Al Satwa       السطوه               NaN               NaN   \n",
       "3      266     Al Satwa       السطوه               NaN               NaN   \n",
       "4      266     Al Satwa       السطوه               NaN               NaN   \n",
       "\n",
       "   project_number project_name_en project_name_ar building_name_en  \\\n",
       "0             NaN             NaN             NaN              NaN   \n",
       "1             NaN             NaN             NaN              NaN   \n",
       "2             NaN             NaN             NaN              NaN   \n",
       "3             NaN             NaN             NaN              NaN   \n",
       "4             NaN             NaN             NaN              NaN   \n",
       "\n",
       "  building_name_ar rooms_en rooms_ar  has_parking  procedure_area  \\\n",
       "0              NaN      NaN      NaN            0           40.65   \n",
       "1              NaN      NaN      NaN            0          221.02   \n",
       "2              NaN      NaN      NaN            0          231.70   \n",
       "3              NaN      NaN      NaN            0           19.35   \n",
       "4              NaN      NaN      NaN            0          239.23   \n",
       "\n",
       "   meter_sale_price  actual_worth  \n",
       "0          49512.99     2012703.0  \n",
       "1           7012.94     1550000.0  \n",
       "2           3366.42      780000.0  \n",
       "3           6459.53      124992.0  \n",
       "4          12540.23     3000000.0  "
      ]
     },
     "execution_count": 6,
     "metadata": {},
     "output_type": "execute_result"
    }
   ],
   "source": [
    "transactions_satwa = transactions_satwa[['instance_date', 'transaction_id', 'trans_group_id', 'trans_group_en', 'trans_group_ar', \n",
    "                                         'procedure_id', 'procedure_name_en', 'procedure_name_ar', 'property_type_id', 'property_type_en',\n",
    "                                         'property_type_ar', 'property_sub_type_id', 'property_sub_type_en', 'property_sub_type_ar',\n",
    "                                         'property_usage_en', 'property_usage_ar', 'reg_type_id', 'reg_type_en', 'reg_type_ar', 'area_id',\n",
    "                                         'area_name_en', 'area_name_ar', 'master_project_en', 'master_project_ar', 'project_number',\n",
    "                                         'project_name_en', 'project_name_ar', 'building_name_en', 'building_name_ar', 'rooms_en',\n",
    "                                         'rooms_ar', 'has_parking', 'procedure_area', 'meter_sale_price', 'actual_worth']]\n",
    "\n",
    "transactions_satwa.head()"
   ]
  },
  {
   "cell_type": "code",
   "execution_count": 7,
   "metadata": {},
   "outputs": [
    {
     "name": "stdout",
     "output_type": "stream",
     "text": [
      "<class 'pandas.core.frame.DataFrame'>\n",
      "RangeIndex: 2133 entries, 0 to 2132\n",
      "Data columns (total 35 columns):\n",
      " #   Column                Non-Null Count  Dtype  \n",
      "---  ------                --------------  -----  \n",
      " 0   instance_date         2133 non-null   object \n",
      " 1   transaction_id        2133 non-null   object \n",
      " 2   trans_group_id        2133 non-null   int64  \n",
      " 3   trans_group_en        2133 non-null   object \n",
      " 4   trans_group_ar        2133 non-null   object \n",
      " 5   procedure_id          2133 non-null   int64  \n",
      " 6   procedure_name_en     2133 non-null   object \n",
      " 7   procedure_name_ar     2133 non-null   object \n",
      " 8   property_type_id      2133 non-null   int64  \n",
      " 9   property_type_en      2133 non-null   object \n",
      " 10  property_type_ar      2133 non-null   object \n",
      " 11  property_sub_type_id  111 non-null    float64\n",
      " 12  property_sub_type_en  111 non-null    object \n",
      " 13  property_sub_type_ar  111 non-null    object \n",
      " 14  property_usage_en     2133 non-null   object \n",
      " 15  property_usage_ar     2133 non-null   object \n",
      " 16  reg_type_id           2133 non-null   int64  \n",
      " 17  reg_type_en           2133 non-null   object \n",
      " 18  reg_type_ar           2133 non-null   object \n",
      " 19  area_id               2133 non-null   int64  \n",
      " 20  area_name_en          2133 non-null   object \n",
      " 21  area_name_ar          2133 non-null   object \n",
      " 22  master_project_en     528 non-null    object \n",
      " 23  master_project_ar     528 non-null    object \n",
      " 24  project_number        120 non-null    float64\n",
      " 25  project_name_en       120 non-null    object \n",
      " 26  project_name_ar       120 non-null    object \n",
      " 27  building_name_en      111 non-null    object \n",
      " 28  building_name_ar      111 non-null    object \n",
      " 29  rooms_en              111 non-null    object \n",
      " 30  rooms_ar              111 non-null    object \n",
      " 31  has_parking           2133 non-null   int64  \n",
      " 32  procedure_area        2133 non-null   float64\n",
      " 33  meter_sale_price      2133 non-null   float64\n",
      " 34  actual_worth          2133 non-null   float64\n",
      "dtypes: float64(5), int64(6), object(24)\n",
      "memory usage: 583.4+ KB\n"
     ]
    }
   ],
   "source": [
    "transactions_satwa.info()"
   ]
  },
  {
   "cell_type": "code",
   "execution_count": 9,
   "metadata": {},
   "outputs": [
    {
     "data": {
      "text/plain": [
       "instance_date            0.000000\n",
       "transaction_id           0.000000\n",
       "trans_group_id           0.000000\n",
       "trans_group_en           0.000000\n",
       "trans_group_ar           0.000000\n",
       "procedure_id             0.000000\n",
       "procedure_name_en        0.000000\n",
       "procedure_name_ar        0.000000\n",
       "property_type_id         0.000000\n",
       "property_type_en         0.000000\n",
       "property_type_ar         0.000000\n",
       "property_sub_type_id    94.796062\n",
       "property_sub_type_en    94.796062\n",
       "property_sub_type_ar    94.796062\n",
       "property_usage_en        0.000000\n",
       "property_usage_ar        0.000000\n",
       "reg_type_id              0.000000\n",
       "reg_type_en              0.000000\n",
       "reg_type_ar              0.000000\n",
       "area_id                  0.000000\n",
       "area_name_en             0.000000\n",
       "area_name_ar             0.000000\n",
       "master_project_en       75.246132\n",
       "master_project_ar       75.246132\n",
       "project_number          94.374121\n",
       "project_name_en         94.374121\n",
       "project_name_ar         94.374121\n",
       "building_name_en        94.796062\n",
       "building_name_ar        94.796062\n",
       "rooms_en                94.796062\n",
       "rooms_ar                94.796062\n",
       "has_parking              0.000000\n",
       "procedure_area           0.000000\n",
       "meter_sale_price         0.000000\n",
       "actual_worth             0.000000\n",
       "dtype: float64"
      ]
     },
     "execution_count": 9,
     "metadata": {},
     "output_type": "execute_result"
    }
   ],
   "source": [
    "# Missing percentages values in transactions dataset\n",
    "transactions_satwa.isnull().sum() / transactions_satwa.shape[0] * 100"
   ]
  },
  {
   "cell_type": "code",
   "execution_count": 12,
   "metadata": {},
   "outputs": [
    {
     "name": "stdout",
     "output_type": "stream",
     "text": [
      "  instance_date   transaction_id  trans_group_id trans_group_en  \\\n",
      "0    2015-03-26   1-11-2015-5530               1          Sales   \n",
      "1    2006-08-14   1-11-2006-1314               1          Sales   \n",
      "2    2003-07-21   1-11-2003-1074               1          Sales   \n",
      "3    2006-09-18  3-9-2006-300121               3          Gifts   \n",
      "4    2021-06-23  1-11-2021-10599               1          Sales   \n",
      "\n",
      "  trans_group_ar  procedure_id procedure_name_en procedure_name_ar  \\\n",
      "0        مبايعات            11              Sell               بيع   \n",
      "1        مبايعات            11              Sell               بيع   \n",
      "2        مبايعات            11              Sell               بيع   \n",
      "3           هبات             9             Grant               هبه   \n",
      "4        مبايعات            11              Sell               بيع   \n",
      "\n",
      "   property_type_id property_type_en property_type_ar  property_sub_type_id  \\\n",
      "0                 2         Building             مبنى                   NaN   \n",
      "1                 1             Land              أرض                   NaN   \n",
      "2                 2         Building             مبنى                   NaN   \n",
      "3                 1             Land              أرض                   NaN   \n",
      "4                 4            Villa             فيلا                   NaN   \n",
      "\n",
      "  property_sub_type_en property_sub_type_ar property_usage_en  \\\n",
      "0                  NaN                  NaN        Commercial   \n",
      "1                  NaN                  NaN       Residential   \n",
      "2                  NaN                  NaN       Residential   \n",
      "3                  NaN                  NaN       Residential   \n",
      "4                  NaN                  NaN       Residential   \n",
      "\n",
      "  property_usage_ar  reg_type_id          reg_type_en       reg_type_ar  \\\n",
      "0             تجاري            1  Existing Properties  العقارات القائمة   \n",
      "1              سكني            1  Existing Properties  العقارات القائمة   \n",
      "2              سكني            1  Existing Properties  العقارات القائمة   \n",
      "3              سكني            1  Existing Properties  العقارات القائمة   \n",
      "4              سكني            1  Existing Properties  العقارات القائمة   \n",
      "\n",
      "   area_id area_name_en area_name_ar master_project_en master_project_ar  \\\n",
      "0      266     Al Satwa       السطوه               NaN               NaN   \n",
      "1      266     Al Satwa       السطوه               NaN               NaN   \n",
      "2      266     Al Satwa       السطوه               NaN               NaN   \n",
      "3      266     Al Satwa       السطوه               NaN               NaN   \n",
      "4      266     Al Satwa       السطوه               NaN               NaN   \n",
      "\n",
      "   project_number project_name_en project_name_ar building_name_en  \\\n",
      "0             NaN             NaN             NaN              NaN   \n",
      "1             NaN             NaN             NaN              NaN   \n",
      "2             NaN             NaN             NaN              NaN   \n",
      "3             NaN             NaN             NaN              NaN   \n",
      "4             NaN             NaN             NaN              NaN   \n",
      "\n",
      "  building_name_ar rooms_en rooms_ar  has_parking  procedure_area  \\\n",
      "0              NaN      NaN      NaN            0           40.65   \n",
      "1              NaN      NaN      NaN            0          221.02   \n",
      "2              NaN      NaN      NaN            0          231.70   \n",
      "3              NaN      NaN      NaN            0           19.35   \n",
      "4              NaN      NaN      NaN            0          239.23   \n",
      "\n",
      "   meter_sale_price  actual_worth  \n",
      "0          49512.99     2012703.0  \n",
      "1           7012.94     1550000.0  \n",
      "2           3366.42      780000.0  \n",
      "3           6459.53      124992.0  \n",
      "4          12540.23     3000000.0  \n"
     ]
    }
   ],
   "source": [
    "print(transactions_satwa.head())"
   ]
  },
  {
   "cell_type": "markdown",
   "metadata": {},
   "source": [
    "## Step 1: Transaction Volume by Year and Month\n",
    "\n",
    "**Objective**:\n",
    "\n",
    "We want to analyze how transaction activity has changed over time, focusing on the number of transactions per month and year. This will help the real estate agent identify periods of high and low activity."
   ]
  },
  {
   "cell_type": "markdown",
   "metadata": {},
   "source": [
    "**Approach**:\n",
    "\n",
    "1. Convert instance_date to a datetime format if not already done.\n",
    "\n",
    "2. Extract the year and month from the instance_date.\n",
    "\n",
    "3. Group the data by year and month to count the number of transactions.\n",
    "\n",
    "4. Visualize the transaction volume trend over time."
   ]
  },
  {
   "cell_type": "code",
   "execution_count": 16,
   "metadata": {},
   "outputs": [
    {
     "data": {
      "application/vnd.plotly.v1+json": {
       "config": {
        "plotlyServerURL": "https://plot.ly"
       },
       "data": [
        {
         "hovertemplate": "Year=%{x}<br>Transactions Count=%{y}<extra></extra>",
         "legendgroup": "",
         "line": {
          "color": "#636efa",
          "dash": "solid"
         },
         "marker": {
          "symbol": "circle"
         },
         "mode": "lines",
         "name": "",
         "orientation": "v",
         "showlegend": false,
         "type": "scatter",
         "x": [
          1978,
          1987,
          1990,
          1991,
          1992,
          1993,
          1994,
          1995,
          1996,
          1997,
          1998,
          1999,
          2000,
          2001,
          2002,
          2003,
          2004,
          2005,
          2006,
          2007,
          2008,
          2009,
          2010,
          2011,
          2012,
          2013,
          2014,
          2015,
          2016,
          2017,
          2018,
          2019,
          2020,
          2021,
          2022,
          2023,
          2024
         ],
         "xaxis": "x",
         "y": [
          1,
          1,
          2,
          1,
          2,
          4,
          1,
          6,
          1,
          2,
          61,
          71,
          66,
          69,
          76,
          132,
          141,
          156,
          122,
          76,
          4,
          6,
          15,
          25,
          60,
          71,
          48,
          39,
          40,
          241,
          56,
          53,
          47,
          46,
          58,
          105,
          228
         ],
         "yaxis": "y"
        }
       ],
       "layout": {
        "legend": {
         "tracegroupgap": 0
        },
        "template": {
         "data": {
          "bar": [
           {
            "error_x": {
             "color": "#2a3f5f"
            },
            "error_y": {
             "color": "#2a3f5f"
            },
            "marker": {
             "line": {
              "color": "#E5ECF6",
              "width": 0.5
             },
             "pattern": {
              "fillmode": "overlay",
              "size": 10,
              "solidity": 0.2
             }
            },
            "type": "bar"
           }
          ],
          "barpolar": [
           {
            "marker": {
             "line": {
              "color": "#E5ECF6",
              "width": 0.5
             },
             "pattern": {
              "fillmode": "overlay",
              "size": 10,
              "solidity": 0.2
             }
            },
            "type": "barpolar"
           }
          ],
          "carpet": [
           {
            "aaxis": {
             "endlinecolor": "#2a3f5f",
             "gridcolor": "white",
             "linecolor": "white",
             "minorgridcolor": "white",
             "startlinecolor": "#2a3f5f"
            },
            "baxis": {
             "endlinecolor": "#2a3f5f",
             "gridcolor": "white",
             "linecolor": "white",
             "minorgridcolor": "white",
             "startlinecolor": "#2a3f5f"
            },
            "type": "carpet"
           }
          ],
          "choropleth": [
           {
            "colorbar": {
             "outlinewidth": 0,
             "ticks": ""
            },
            "type": "choropleth"
           }
          ],
          "contour": [
           {
            "colorbar": {
             "outlinewidth": 0,
             "ticks": ""
            },
            "colorscale": [
             [
              0,
              "#0d0887"
             ],
             [
              0.1111111111111111,
              "#46039f"
             ],
             [
              0.2222222222222222,
              "#7201a8"
             ],
             [
              0.3333333333333333,
              "#9c179e"
             ],
             [
              0.4444444444444444,
              "#bd3786"
             ],
             [
              0.5555555555555556,
              "#d8576b"
             ],
             [
              0.6666666666666666,
              "#ed7953"
             ],
             [
              0.7777777777777778,
              "#fb9f3a"
             ],
             [
              0.8888888888888888,
              "#fdca26"
             ],
             [
              1,
              "#f0f921"
             ]
            ],
            "type": "contour"
           }
          ],
          "contourcarpet": [
           {
            "colorbar": {
             "outlinewidth": 0,
             "ticks": ""
            },
            "type": "contourcarpet"
           }
          ],
          "heatmap": [
           {
            "colorbar": {
             "outlinewidth": 0,
             "ticks": ""
            },
            "colorscale": [
             [
              0,
              "#0d0887"
             ],
             [
              0.1111111111111111,
              "#46039f"
             ],
             [
              0.2222222222222222,
              "#7201a8"
             ],
             [
              0.3333333333333333,
              "#9c179e"
             ],
             [
              0.4444444444444444,
              "#bd3786"
             ],
             [
              0.5555555555555556,
              "#d8576b"
             ],
             [
              0.6666666666666666,
              "#ed7953"
             ],
             [
              0.7777777777777778,
              "#fb9f3a"
             ],
             [
              0.8888888888888888,
              "#fdca26"
             ],
             [
              1,
              "#f0f921"
             ]
            ],
            "type": "heatmap"
           }
          ],
          "heatmapgl": [
           {
            "colorbar": {
             "outlinewidth": 0,
             "ticks": ""
            },
            "colorscale": [
             [
              0,
              "#0d0887"
             ],
             [
              0.1111111111111111,
              "#46039f"
             ],
             [
              0.2222222222222222,
              "#7201a8"
             ],
             [
              0.3333333333333333,
              "#9c179e"
             ],
             [
              0.4444444444444444,
              "#bd3786"
             ],
             [
              0.5555555555555556,
              "#d8576b"
             ],
             [
              0.6666666666666666,
              "#ed7953"
             ],
             [
              0.7777777777777778,
              "#fb9f3a"
             ],
             [
              0.8888888888888888,
              "#fdca26"
             ],
             [
              1,
              "#f0f921"
             ]
            ],
            "type": "heatmapgl"
           }
          ],
          "histogram": [
           {
            "marker": {
             "pattern": {
              "fillmode": "overlay",
              "size": 10,
              "solidity": 0.2
             }
            },
            "type": "histogram"
           }
          ],
          "histogram2d": [
           {
            "colorbar": {
             "outlinewidth": 0,
             "ticks": ""
            },
            "colorscale": [
             [
              0,
              "#0d0887"
             ],
             [
              0.1111111111111111,
              "#46039f"
             ],
             [
              0.2222222222222222,
              "#7201a8"
             ],
             [
              0.3333333333333333,
              "#9c179e"
             ],
             [
              0.4444444444444444,
              "#bd3786"
             ],
             [
              0.5555555555555556,
              "#d8576b"
             ],
             [
              0.6666666666666666,
              "#ed7953"
             ],
             [
              0.7777777777777778,
              "#fb9f3a"
             ],
             [
              0.8888888888888888,
              "#fdca26"
             ],
             [
              1,
              "#f0f921"
             ]
            ],
            "type": "histogram2d"
           }
          ],
          "histogram2dcontour": [
           {
            "colorbar": {
             "outlinewidth": 0,
             "ticks": ""
            },
            "colorscale": [
             [
              0,
              "#0d0887"
             ],
             [
              0.1111111111111111,
              "#46039f"
             ],
             [
              0.2222222222222222,
              "#7201a8"
             ],
             [
              0.3333333333333333,
              "#9c179e"
             ],
             [
              0.4444444444444444,
              "#bd3786"
             ],
             [
              0.5555555555555556,
              "#d8576b"
             ],
             [
              0.6666666666666666,
              "#ed7953"
             ],
             [
              0.7777777777777778,
              "#fb9f3a"
             ],
             [
              0.8888888888888888,
              "#fdca26"
             ],
             [
              1,
              "#f0f921"
             ]
            ],
            "type": "histogram2dcontour"
           }
          ],
          "mesh3d": [
           {
            "colorbar": {
             "outlinewidth": 0,
             "ticks": ""
            },
            "type": "mesh3d"
           }
          ],
          "parcoords": [
           {
            "line": {
             "colorbar": {
              "outlinewidth": 0,
              "ticks": ""
             }
            },
            "type": "parcoords"
           }
          ],
          "pie": [
           {
            "automargin": true,
            "type": "pie"
           }
          ],
          "scatter": [
           {
            "fillpattern": {
             "fillmode": "overlay",
             "size": 10,
             "solidity": 0.2
            },
            "type": "scatter"
           }
          ],
          "scatter3d": [
           {
            "line": {
             "colorbar": {
              "outlinewidth": 0,
              "ticks": ""
             }
            },
            "marker": {
             "colorbar": {
              "outlinewidth": 0,
              "ticks": ""
             }
            },
            "type": "scatter3d"
           }
          ],
          "scattercarpet": [
           {
            "marker": {
             "colorbar": {
              "outlinewidth": 0,
              "ticks": ""
             }
            },
            "type": "scattercarpet"
           }
          ],
          "scattergeo": [
           {
            "marker": {
             "colorbar": {
              "outlinewidth": 0,
              "ticks": ""
             }
            },
            "type": "scattergeo"
           }
          ],
          "scattergl": [
           {
            "marker": {
             "colorbar": {
              "outlinewidth": 0,
              "ticks": ""
             }
            },
            "type": "scattergl"
           }
          ],
          "scattermapbox": [
           {
            "marker": {
             "colorbar": {
              "outlinewidth": 0,
              "ticks": ""
             }
            },
            "type": "scattermapbox"
           }
          ],
          "scatterpolar": [
           {
            "marker": {
             "colorbar": {
              "outlinewidth": 0,
              "ticks": ""
             }
            },
            "type": "scatterpolar"
           }
          ],
          "scatterpolargl": [
           {
            "marker": {
             "colorbar": {
              "outlinewidth": 0,
              "ticks": ""
             }
            },
            "type": "scatterpolargl"
           }
          ],
          "scatterternary": [
           {
            "marker": {
             "colorbar": {
              "outlinewidth": 0,
              "ticks": ""
             }
            },
            "type": "scatterternary"
           }
          ],
          "surface": [
           {
            "colorbar": {
             "outlinewidth": 0,
             "ticks": ""
            },
            "colorscale": [
             [
              0,
              "#0d0887"
             ],
             [
              0.1111111111111111,
              "#46039f"
             ],
             [
              0.2222222222222222,
              "#7201a8"
             ],
             [
              0.3333333333333333,
              "#9c179e"
             ],
             [
              0.4444444444444444,
              "#bd3786"
             ],
             [
              0.5555555555555556,
              "#d8576b"
             ],
             [
              0.6666666666666666,
              "#ed7953"
             ],
             [
              0.7777777777777778,
              "#fb9f3a"
             ],
             [
              0.8888888888888888,
              "#fdca26"
             ],
             [
              1,
              "#f0f921"
             ]
            ],
            "type": "surface"
           }
          ],
          "table": [
           {
            "cells": {
             "fill": {
              "color": "#EBF0F8"
             },
             "line": {
              "color": "white"
             }
            },
            "header": {
             "fill": {
              "color": "#C8D4E3"
             },
             "line": {
              "color": "white"
             }
            },
            "type": "table"
           }
          ]
         },
         "layout": {
          "annotationdefaults": {
           "arrowcolor": "#2a3f5f",
           "arrowhead": 0,
           "arrowwidth": 1
          },
          "autotypenumbers": "strict",
          "coloraxis": {
           "colorbar": {
            "outlinewidth": 0,
            "ticks": ""
           }
          },
          "colorscale": {
           "diverging": [
            [
             0,
             "#8e0152"
            ],
            [
             0.1,
             "#c51b7d"
            ],
            [
             0.2,
             "#de77ae"
            ],
            [
             0.3,
             "#f1b6da"
            ],
            [
             0.4,
             "#fde0ef"
            ],
            [
             0.5,
             "#f7f7f7"
            ],
            [
             0.6,
             "#e6f5d0"
            ],
            [
             0.7,
             "#b8e186"
            ],
            [
             0.8,
             "#7fbc41"
            ],
            [
             0.9,
             "#4d9221"
            ],
            [
             1,
             "#276419"
            ]
           ],
           "sequential": [
            [
             0,
             "#0d0887"
            ],
            [
             0.1111111111111111,
             "#46039f"
            ],
            [
             0.2222222222222222,
             "#7201a8"
            ],
            [
             0.3333333333333333,
             "#9c179e"
            ],
            [
             0.4444444444444444,
             "#bd3786"
            ],
            [
             0.5555555555555556,
             "#d8576b"
            ],
            [
             0.6666666666666666,
             "#ed7953"
            ],
            [
             0.7777777777777778,
             "#fb9f3a"
            ],
            [
             0.8888888888888888,
             "#fdca26"
            ],
            [
             1,
             "#f0f921"
            ]
           ],
           "sequentialminus": [
            [
             0,
             "#0d0887"
            ],
            [
             0.1111111111111111,
             "#46039f"
            ],
            [
             0.2222222222222222,
             "#7201a8"
            ],
            [
             0.3333333333333333,
             "#9c179e"
            ],
            [
             0.4444444444444444,
             "#bd3786"
            ],
            [
             0.5555555555555556,
             "#d8576b"
            ],
            [
             0.6666666666666666,
             "#ed7953"
            ],
            [
             0.7777777777777778,
             "#fb9f3a"
            ],
            [
             0.8888888888888888,
             "#fdca26"
            ],
            [
             1,
             "#f0f921"
            ]
           ]
          },
          "colorway": [
           "#636efa",
           "#EF553B",
           "#00cc96",
           "#ab63fa",
           "#FFA15A",
           "#19d3f3",
           "#FF6692",
           "#B6E880",
           "#FF97FF",
           "#FECB52"
          ],
          "font": {
           "color": "#2a3f5f"
          },
          "geo": {
           "bgcolor": "white",
           "lakecolor": "white",
           "landcolor": "#E5ECF6",
           "showlakes": true,
           "showland": true,
           "subunitcolor": "white"
          },
          "hoverlabel": {
           "align": "left"
          },
          "hovermode": "closest",
          "mapbox": {
           "style": "light"
          },
          "paper_bgcolor": "white",
          "plot_bgcolor": "#E5ECF6",
          "polar": {
           "angularaxis": {
            "gridcolor": "white",
            "linecolor": "white",
            "ticks": ""
           },
           "bgcolor": "#E5ECF6",
           "radialaxis": {
            "gridcolor": "white",
            "linecolor": "white",
            "ticks": ""
           }
          },
          "scene": {
           "xaxis": {
            "backgroundcolor": "#E5ECF6",
            "gridcolor": "white",
            "gridwidth": 2,
            "linecolor": "white",
            "showbackground": true,
            "ticks": "",
            "zerolinecolor": "white"
           },
           "yaxis": {
            "backgroundcolor": "#E5ECF6",
            "gridcolor": "white",
            "gridwidth": 2,
            "linecolor": "white",
            "showbackground": true,
            "ticks": "",
            "zerolinecolor": "white"
           },
           "zaxis": {
            "backgroundcolor": "#E5ECF6",
            "gridcolor": "white",
            "gridwidth": 2,
            "linecolor": "white",
            "showbackground": true,
            "ticks": "",
            "zerolinecolor": "white"
           }
          },
          "shapedefaults": {
           "line": {
            "color": "#2a3f5f"
           }
          },
          "ternary": {
           "aaxis": {
            "gridcolor": "white",
            "linecolor": "white",
            "ticks": ""
           },
           "baxis": {
            "gridcolor": "white",
            "linecolor": "white",
            "ticks": ""
           },
           "bgcolor": "#E5ECF6",
           "caxis": {
            "gridcolor": "white",
            "linecolor": "white",
            "ticks": ""
           }
          },
          "title": {
           "x": 0.05
          },
          "xaxis": {
           "automargin": true,
           "gridcolor": "white",
           "linecolor": "white",
           "ticks": "",
           "title": {
            "standoff": 15
           },
           "zerolinecolor": "white",
           "zerolinewidth": 2
          },
          "yaxis": {
           "automargin": true,
           "gridcolor": "white",
           "linecolor": "white",
           "ticks": "",
           "title": {
            "standoff": 15
           },
           "zerolinecolor": "white",
           "zerolinewidth": 2
          }
         }
        },
        "title": {
         "text": "Transaction Volume Over Time"
        },
        "xaxis": {
         "anchor": "y",
         "domain": [
          0,
          1
         ],
         "title": {
          "text": "Year"
         }
        },
        "yaxis": {
         "anchor": "x",
         "domain": [
          0,
          1
         ],
         "title": {
          "text": "Transactions Count"
         }
        }
       }
      }
     },
     "metadata": {},
     "output_type": "display_data"
    },
    {
     "name": "stdout",
     "output_type": "stream",
     "text": [
      "     year  month  transactions_count\n",
      "0    1978      4                   1\n",
      "1    1987     10                   1\n",
      "2    1990      1                   2\n",
      "3    1991     10                   1\n",
      "4    1992      3                   1\n",
      "5    1992     10                   1\n",
      "6    1993      2                   1\n",
      "7    1993      5                   1\n",
      "8    1993     10                   1\n",
      "9    1993     12                   1\n",
      "10   1994      9                   1\n",
      "11   1995      5                   1\n",
      "12   1995      6                   1\n",
      "13   1995      7                   1\n",
      "14   1995      9                   1\n",
      "15   1995     10                   1\n",
      "16   1995     11                   1\n",
      "17   1996      1                   1\n",
      "18   1997     11                   1\n",
      "19   1997     12                   1\n",
      "20   1998      1                   1\n",
      "21   1998      2                   3\n",
      "22   1998      3                  11\n",
      "23   1998      4                   4\n",
      "24   1998      5                   7\n",
      "25   1998      6                   9\n",
      "26   1998      7                   5\n",
      "27   1998      8                   6\n",
      "28   1998      9                   1\n",
      "29   1998     10                   3\n",
      "30   1998     11                   7\n",
      "31   1998     12                   4\n",
      "32   1999      1                   1\n",
      "33   1999      2                   3\n",
      "34   1999      3                   7\n",
      "35   1999      4                   3\n",
      "36   1999      5                   6\n",
      "37   1999      6                  10\n",
      "38   1999      7                   6\n",
      "39   1999      8                  18\n",
      "40   1999      9                   4\n",
      "41   1999     10                   5\n",
      "42   1999     11                   5\n",
      "43   1999     12                   3\n",
      "44   2000      1                   4\n",
      "45   2000      2                   9\n",
      "46   2000      3                   4\n",
      "47   2000      4                   8\n",
      "48   2000      5                  11\n",
      "49   2000      6                   4\n",
      "50   2000      7                  10\n",
      "51   2000      9                   3\n",
      "52   2000     10                   3\n",
      "53   2000     11                   5\n",
      "54   2000     12                   5\n",
      "55   2001      1                   8\n",
      "56   2001      2                   8\n",
      "57   2001      3                   1\n",
      "58   2001      4                   9\n",
      "59   2001      5                   9\n",
      "60   2001      6                   7\n",
      "61   2001      7                  11\n",
      "62   2001      8                   3\n",
      "63   2001      9                   2\n",
      "64   2001     10                   7\n",
      "65   2001     11                   3\n",
      "66   2001     12                   1\n",
      "67   2002      1                   6\n",
      "68   2002      2                   7\n",
      "69   2002      3                   3\n",
      "70   2002      4                   8\n",
      "71   2002      5                   8\n",
      "72   2002      6                   9\n",
      "73   2002      7                   6\n",
      "74   2002      8                   3\n",
      "75   2002      9                   3\n",
      "76   2002     10                   8\n",
      "77   2002     11                   7\n",
      "78   2002     12                   8\n",
      "79   2003      1                   9\n",
      "80   2003      2                  10\n",
      "81   2003      3                   7\n",
      "82   2003      4                  14\n",
      "83   2003      5                  12\n",
      "84   2003      6                   8\n",
      "85   2003      7                  16\n",
      "86   2003      8                   9\n",
      "87   2003      9                  11\n",
      "88   2003     10                  11\n",
      "89   2003     11                  10\n",
      "90   2003     12                  15\n",
      "91   2004      1                  10\n",
      "92   2004      2                   5\n",
      "93   2004      3                  16\n",
      "94   2004      4                  20\n",
      "95   2004      5                  13\n",
      "96   2004      6                  16\n",
      "97   2004      7                  14\n",
      "98   2004      8                  15\n",
      "99   2004      9                  11\n",
      "100  2004     10                   3\n",
      "101  2004     11                   7\n",
      "102  2004     12                  11\n",
      "103  2005      1                  13\n",
      "104  2005      2                  22\n",
      "105  2005      3                  13\n",
      "106  2005      4                  14\n",
      "107  2005      5                  11\n",
      "108  2005      6                  14\n",
      "109  2005      7                   9\n",
      "110  2005      8                  12\n",
      "111  2005      9                  14\n",
      "112  2005     10                  14\n",
      "113  2005     11                   9\n",
      "114  2005     12                  11\n",
      "115  2006      1                   8\n",
      "116  2006      2                  17\n",
      "117  2006      3                  10\n",
      "118  2006      4                  12\n",
      "119  2006      5                   8\n",
      "120  2006      6                   7\n",
      "121  2006      7                  13\n",
      "122  2006      8                   7\n",
      "123  2006      9                   7\n",
      "124  2006     10                   8\n",
      "125  2006     11                  12\n",
      "126  2006     12                  13\n",
      "127  2007      1                  13\n",
      "128  2007      2                   9\n",
      "129  2007      3                  17\n",
      "130  2007      4                  13\n",
      "131  2007      5                   8\n",
      "132  2007      6                  10\n",
      "133  2007      7                   5\n",
      "134  2007      9                   1\n",
      "135  2008      2                   3\n",
      "136  2008      3                   1\n",
      "137  2009      4                   2\n",
      "138  2009      6                   1\n",
      "139  2009      8                   1\n",
      "140  2009      9                   1\n",
      "141  2009     12                   1\n",
      "142  2010      1                   1\n",
      "143  2010      2                   1\n",
      "144  2010      4                   2\n",
      "145  2010      5                   2\n",
      "146  2010      6                   1\n",
      "147  2010      8                   1\n",
      "148  2010      9                   1\n",
      "149  2010     10                   1\n",
      "150  2010     11                   3\n",
      "151  2010     12                   2\n",
      "152  2011      1                   1\n",
      "153  2011      2                   2\n",
      "154  2011      3                   2\n",
      "155  2011      4                   1\n",
      "156  2011      6                   5\n",
      "157  2011      7                   4\n",
      "158  2011      8                   3\n",
      "159  2011     10                   4\n",
      "160  2011     11                   2\n",
      "161  2011     12                   1\n",
      "162  2012      1                   7\n",
      "163  2012      2                   1\n",
      "164  2012      3                   3\n",
      "165  2012      4                   7\n",
      "166  2012      5                   7\n",
      "167  2012      6                   1\n",
      "168  2012      7                   7\n",
      "169  2012      8                   4\n",
      "170  2012      9                   7\n",
      "171  2012     10                  10\n",
      "172  2012     11                   1\n",
      "173  2012     12                   5\n",
      "174  2013      1                   4\n",
      "175  2013      2                   9\n",
      "176  2013      3                   4\n",
      "177  2013      4                   9\n",
      "178  2013      5                  10\n",
      "179  2013      6                   9\n",
      "180  2013      7                   2\n",
      "181  2013      8                   4\n",
      "182  2013      9                   5\n",
      "183  2013     10                   7\n",
      "184  2013     11                   4\n",
      "185  2013     12                   4\n",
      "186  2014      1                   7\n",
      "187  2014      2                   6\n",
      "188  2014      3                   3\n",
      "189  2014      4                   3\n",
      "190  2014      5                   8\n",
      "191  2014      6                   2\n",
      "192  2014      7                   2\n",
      "193  2014      8                   3\n",
      "194  2014      9                   6\n",
      "195  2014     10                   2\n",
      "196  2014     11                   5\n",
      "197  2014     12                   1\n",
      "198  2015      1                   2\n",
      "199  2015      2                   3\n",
      "200  2015      3                   6\n",
      "201  2015      4                   2\n",
      "202  2015      5                   7\n",
      "203  2015      6                   2\n",
      "204  2015      7                   4\n",
      "205  2015      8                   1\n",
      "206  2015      9                   1\n",
      "207  2015     10                   4\n",
      "208  2015     11                   5\n",
      "209  2015     12                   2\n",
      "210  2016      1                   4\n",
      "211  2016      2                   4\n",
      "212  2016      3                   5\n",
      "213  2016      5                   2\n",
      "214  2016      6                   2\n",
      "215  2016      7                   3\n",
      "216  2016      8                   2\n",
      "217  2016      9                   4\n",
      "218  2016     10                   3\n",
      "219  2016     11                   3\n",
      "220  2016     12                   8\n",
      "221  2017      1                  63\n",
      "222  2017      2                  20\n",
      "223  2017      3                  57\n",
      "224  2017      4                  20\n",
      "225  2017      5                  18\n",
      "226  2017      6                   5\n",
      "227  2017      7                  10\n",
      "228  2017      8                   5\n",
      "229  2017      9                   9\n",
      "230  2017     10                  13\n",
      "231  2017     11                  16\n",
      "232  2017     12                   5\n",
      "233  2018      1                  11\n",
      "234  2018      2                   2\n",
      "235  2018      3                   2\n",
      "236  2018      4                   2\n",
      "237  2018      5                   6\n",
      "238  2018      6                   2\n",
      "239  2018      7                   9\n",
      "240  2018      8                   4\n",
      "241  2018      9                   2\n",
      "242  2018     10                   6\n",
      "243  2018     11                   4\n",
      "244  2018     12                   6\n",
      "245  2019      1                   3\n",
      "246  2019      2                   9\n",
      "247  2019      3                   2\n",
      "248  2019      4                   5\n",
      "249  2019      5                  10\n",
      "250  2019      6                   1\n",
      "251  2019      7                   3\n",
      "252  2019      8                   1\n",
      "253  2019      9                   5\n",
      "254  2019     10                   8\n",
      "255  2019     11                   4\n",
      "256  2019     12                   2\n",
      "257  2020      1                   6\n",
      "258  2020      2                   6\n",
      "259  2020      3                   7\n",
      "260  2020      4                   1\n",
      "261  2020      5                   2\n",
      "262  2020      6                   3\n",
      "263  2020      7                   9\n",
      "264  2020      8                   5\n",
      "265  2020      9                   1\n",
      "266  2020     10                   4\n",
      "267  2020     11                   1\n",
      "268  2020     12                   2\n",
      "269  2021      1                   3\n",
      "270  2021      3                   3\n",
      "271  2021      4                   6\n",
      "272  2021      5                   3\n",
      "273  2021      6                   7\n",
      "274  2021      7                   5\n",
      "275  2021      8                   5\n",
      "276  2021      9                   1\n",
      "277  2021     10                   4\n",
      "278  2021     11                   8\n",
      "279  2021     12                   1\n",
      "280  2022      1                   4\n",
      "281  2022      2                   3\n",
      "282  2022      3                  12\n",
      "283  2022      4                   1\n",
      "284  2022      5                   6\n",
      "285  2022      6                   5\n",
      "286  2022      7                   4\n",
      "287  2022      8                   4\n",
      "288  2022      9                   7\n",
      "289  2022     10                   7\n",
      "290  2022     11                   1\n",
      "291  2022     12                   4\n",
      "292  2023      1                   7\n",
      "293  2023      2                  12\n",
      "294  2023      3                  14\n",
      "295  2023      4                   6\n",
      "296  2023      5                   9\n",
      "297  2023      6                  10\n",
      "298  2023      7                   7\n",
      "299  2023      8                   2\n",
      "300  2023      9                  11\n",
      "301  2023     10                   7\n",
      "302  2023     11                   9\n",
      "303  2023     12                  11\n",
      "304  2024      1                  18\n",
      "305  2024      2                  74\n",
      "306  2024      3                  32\n",
      "307  2024      4                  17\n",
      "308  2024      5                  13\n",
      "309  2024      6                  16\n",
      "310  2024      7                  18\n",
      "311  2024      8                  14\n",
      "312  2024      9                  23\n",
      "313  2024     10                   3\n"
     ]
    }
   ],
   "source": [
    "# Ensure instance_date is in datetime format\n",
    "transactions_satwa['instance_date'] = pd.to_datetime(transactions_satwa['instance_date'])\n",
    "\n",
    "# Extract year and month from instance_date\n",
    "transactions_satwa['year'] = transactions_satwa['instance_date'].dt.year\n",
    "transactions_satwa['month'] = transactions_satwa['instance_date'].dt.month\n",
    "\n",
    "# Group by year and month, then count the number of transactions\n",
    "monthly_transactions = transactions_satwa.groupby(['year', 'month']).size().reset_index(name='transactions_count')\n",
    "\n",
    "# Sort by year and month for better visualization\n",
    "monthly_transactions = monthly_transactions.sort_values(['year', 'month'])\n",
    "\n",
    "# Visualize transactions volume over time\n",
    "fig = px.line( transactions_satwa.groupby(['year']).size().reset_index(name='transactions_count'), x='year', y='transactions_count', \n",
    "              title='Transaction Volume Over Time', labels={'year': 'Year', 'transactions_count': 'Transactions Count'})\n",
    "fig.show()\n",
    "\n",
    "# Displaying the monthly transactions\n",
    "print(monthly_transactions)"
   ]
  },
  {
   "cell_type": "code",
   "execution_count": 17,
   "metadata": {},
   "outputs": [
    {
     "data": {
      "application/vnd.plotly.v1+json": {
       "config": {
        "plotlyServerURL": "https://plot.ly"
       },
       "data": [
        {
         "hovertemplate": "Year-Month=%{x}<br>Transaction Count=%{y}<extra></extra>",
         "legendgroup": "",
         "line": {
          "color": "#636efa",
          "dash": "solid"
         },
         "marker": {
          "symbol": "circle"
         },
         "mode": "lines",
         "name": "",
         "orientation": "v",
         "showlegend": false,
         "type": "scatter",
         "x": [
          "1978-4",
          "1987-10",
          "1990-1",
          "1991-10",
          "1992-10",
          "1992-3",
          "1993-10",
          "1993-12",
          "1993-2",
          "1993-5",
          "1994-9",
          "1995-10",
          "1995-11",
          "1995-5",
          "1995-6",
          "1995-7",
          "1995-9",
          "1996-1",
          "1997-11",
          "1997-12",
          "1998-1",
          "1998-10",
          "1998-11",
          "1998-12",
          "1998-2",
          "1998-3",
          "1998-4",
          "1998-5",
          "1998-6",
          "1998-7",
          "1998-8",
          "1998-9",
          "1999-1",
          "1999-10",
          "1999-11",
          "1999-12",
          "1999-2",
          "1999-3",
          "1999-4",
          "1999-5",
          "1999-6",
          "1999-7",
          "1999-8",
          "1999-9",
          "2000-1",
          "2000-10",
          "2000-11",
          "2000-12",
          "2000-2",
          "2000-3",
          "2000-4",
          "2000-5",
          "2000-6",
          "2000-7",
          "2000-9",
          "2001-1",
          "2001-10",
          "2001-11",
          "2001-12",
          "2001-2",
          "2001-3",
          "2001-4",
          "2001-5",
          "2001-6",
          "2001-7",
          "2001-8",
          "2001-9",
          "2002-1",
          "2002-10",
          "2002-11",
          "2002-12",
          "2002-2",
          "2002-3",
          "2002-4",
          "2002-5",
          "2002-6",
          "2002-7",
          "2002-8",
          "2002-9",
          "2003-1",
          "2003-10",
          "2003-11",
          "2003-12",
          "2003-2",
          "2003-3",
          "2003-4",
          "2003-5",
          "2003-6",
          "2003-7",
          "2003-8",
          "2003-9",
          "2004-1",
          "2004-10",
          "2004-11",
          "2004-12",
          "2004-2",
          "2004-3",
          "2004-4",
          "2004-5",
          "2004-6",
          "2004-7",
          "2004-8",
          "2004-9",
          "2005-1",
          "2005-10",
          "2005-11",
          "2005-12",
          "2005-2",
          "2005-3",
          "2005-4",
          "2005-5",
          "2005-6",
          "2005-7",
          "2005-8",
          "2005-9",
          "2006-1",
          "2006-10",
          "2006-11",
          "2006-12",
          "2006-2",
          "2006-3",
          "2006-4",
          "2006-5",
          "2006-6",
          "2006-7",
          "2006-8",
          "2006-9",
          "2007-1",
          "2007-2",
          "2007-3",
          "2007-4",
          "2007-5",
          "2007-6",
          "2007-7",
          "2007-9",
          "2008-2",
          "2008-3",
          "2009-12",
          "2009-4",
          "2009-6",
          "2009-8",
          "2009-9",
          "2010-1",
          "2010-10",
          "2010-11",
          "2010-12",
          "2010-2",
          "2010-4",
          "2010-5",
          "2010-6",
          "2010-8",
          "2010-9",
          "2011-1",
          "2011-10",
          "2011-11",
          "2011-12",
          "2011-2",
          "2011-3",
          "2011-4",
          "2011-6",
          "2011-7",
          "2011-8",
          "2012-1",
          "2012-10",
          "2012-11",
          "2012-12",
          "2012-2",
          "2012-3",
          "2012-4",
          "2012-5",
          "2012-6",
          "2012-7",
          "2012-8",
          "2012-9",
          "2013-1",
          "2013-10",
          "2013-11",
          "2013-12",
          "2013-2",
          "2013-3",
          "2013-4",
          "2013-5",
          "2013-6",
          "2013-7",
          "2013-8",
          "2013-9",
          "2014-1",
          "2014-10",
          "2014-11",
          "2014-12",
          "2014-2",
          "2014-3",
          "2014-4",
          "2014-5",
          "2014-6",
          "2014-7",
          "2014-8",
          "2014-9",
          "2015-1",
          "2015-10",
          "2015-11",
          "2015-12",
          "2015-2",
          "2015-3",
          "2015-4",
          "2015-5",
          "2015-6",
          "2015-7",
          "2015-8",
          "2015-9",
          "2016-1",
          "2016-10",
          "2016-11",
          "2016-12",
          "2016-2",
          "2016-3",
          "2016-5",
          "2016-6",
          "2016-7",
          "2016-8",
          "2016-9",
          "2017-1",
          "2017-10",
          "2017-11",
          "2017-12",
          "2017-2",
          "2017-3",
          "2017-4",
          "2017-5",
          "2017-6",
          "2017-7",
          "2017-8",
          "2017-9",
          "2018-1",
          "2018-10",
          "2018-11",
          "2018-12",
          "2018-2",
          "2018-3",
          "2018-4",
          "2018-5",
          "2018-6",
          "2018-7",
          "2018-8",
          "2018-9",
          "2019-1",
          "2019-10",
          "2019-11",
          "2019-12",
          "2019-2",
          "2019-3",
          "2019-4",
          "2019-5",
          "2019-6",
          "2019-7",
          "2019-8",
          "2019-9",
          "2020-1",
          "2020-10",
          "2020-11",
          "2020-12",
          "2020-2",
          "2020-3",
          "2020-4",
          "2020-5",
          "2020-6",
          "2020-7",
          "2020-8",
          "2020-9",
          "2021-1",
          "2021-10",
          "2021-11",
          "2021-12",
          "2021-3",
          "2021-4",
          "2021-5",
          "2021-6",
          "2021-7",
          "2021-8",
          "2021-9",
          "2022-1",
          "2022-10",
          "2022-11",
          "2022-12",
          "2022-2",
          "2022-3",
          "2022-4",
          "2022-5",
          "2022-6",
          "2022-7",
          "2022-8",
          "2022-9",
          "2023-1",
          "2023-10",
          "2023-11",
          "2023-12",
          "2023-2",
          "2023-3",
          "2023-4",
          "2023-5",
          "2023-6",
          "2023-7",
          "2023-8",
          "2023-9",
          "2024-1",
          "2024-10",
          "2024-2",
          "2024-3",
          "2024-4",
          "2024-5",
          "2024-6",
          "2024-7",
          "2024-8",
          "2024-9"
         ],
         "xaxis": "x",
         "y": [
          1,
          1,
          2,
          1,
          1,
          1,
          1,
          1,
          1,
          1,
          1,
          1,
          1,
          1,
          1,
          1,
          1,
          1,
          1,
          1,
          1,
          3,
          7,
          4,
          3,
          11,
          4,
          7,
          9,
          5,
          6,
          1,
          1,
          5,
          5,
          3,
          3,
          7,
          3,
          6,
          10,
          6,
          18,
          4,
          4,
          3,
          5,
          5,
          9,
          4,
          8,
          11,
          4,
          10,
          3,
          8,
          7,
          3,
          1,
          8,
          1,
          9,
          9,
          7,
          11,
          3,
          2,
          6,
          8,
          7,
          8,
          7,
          3,
          8,
          8,
          9,
          6,
          3,
          3,
          9,
          11,
          10,
          15,
          10,
          7,
          14,
          12,
          8,
          16,
          9,
          11,
          10,
          3,
          7,
          11,
          5,
          16,
          20,
          13,
          16,
          14,
          15,
          11,
          13,
          14,
          9,
          11,
          22,
          13,
          14,
          11,
          14,
          9,
          12,
          14,
          8,
          8,
          12,
          13,
          17,
          10,
          12,
          8,
          7,
          13,
          7,
          7,
          13,
          9,
          17,
          13,
          8,
          10,
          5,
          1,
          3,
          1,
          1,
          2,
          1,
          1,
          1,
          1,
          1,
          3,
          2,
          1,
          2,
          2,
          1,
          1,
          1,
          1,
          4,
          2,
          1,
          2,
          2,
          1,
          5,
          4,
          3,
          7,
          10,
          1,
          5,
          1,
          3,
          7,
          7,
          1,
          7,
          4,
          7,
          4,
          7,
          4,
          4,
          9,
          4,
          9,
          10,
          9,
          2,
          4,
          5,
          7,
          2,
          5,
          1,
          6,
          3,
          3,
          8,
          2,
          2,
          3,
          6,
          2,
          4,
          5,
          2,
          3,
          6,
          2,
          7,
          2,
          4,
          1,
          1,
          4,
          3,
          3,
          8,
          4,
          5,
          2,
          2,
          3,
          2,
          4,
          63,
          13,
          16,
          5,
          20,
          57,
          20,
          18,
          5,
          10,
          5,
          9,
          11,
          6,
          4,
          6,
          2,
          2,
          2,
          6,
          2,
          9,
          4,
          2,
          3,
          8,
          4,
          2,
          9,
          2,
          5,
          10,
          1,
          3,
          1,
          5,
          6,
          4,
          1,
          2,
          6,
          7,
          1,
          2,
          3,
          9,
          5,
          1,
          3,
          4,
          8,
          1,
          3,
          6,
          3,
          7,
          5,
          5,
          1,
          4,
          7,
          1,
          4,
          3,
          12,
          1,
          6,
          5,
          4,
          4,
          7,
          7,
          7,
          9,
          11,
          12,
          14,
          6,
          9,
          10,
          7,
          2,
          11,
          18,
          3,
          74,
          32,
          17,
          13,
          16,
          18,
          14,
          23
         ],
         "yaxis": "y"
        }
       ],
       "layout": {
        "legend": {
         "tracegroupgap": 0
        },
        "template": {
         "data": {
          "bar": [
           {
            "error_x": {
             "color": "#2a3f5f"
            },
            "error_y": {
             "color": "#2a3f5f"
            },
            "marker": {
             "line": {
              "color": "#E5ECF6",
              "width": 0.5
             },
             "pattern": {
              "fillmode": "overlay",
              "size": 10,
              "solidity": 0.2
             }
            },
            "type": "bar"
           }
          ],
          "barpolar": [
           {
            "marker": {
             "line": {
              "color": "#E5ECF6",
              "width": 0.5
             },
             "pattern": {
              "fillmode": "overlay",
              "size": 10,
              "solidity": 0.2
             }
            },
            "type": "barpolar"
           }
          ],
          "carpet": [
           {
            "aaxis": {
             "endlinecolor": "#2a3f5f",
             "gridcolor": "white",
             "linecolor": "white",
             "minorgridcolor": "white",
             "startlinecolor": "#2a3f5f"
            },
            "baxis": {
             "endlinecolor": "#2a3f5f",
             "gridcolor": "white",
             "linecolor": "white",
             "minorgridcolor": "white",
             "startlinecolor": "#2a3f5f"
            },
            "type": "carpet"
           }
          ],
          "choropleth": [
           {
            "colorbar": {
             "outlinewidth": 0,
             "ticks": ""
            },
            "type": "choropleth"
           }
          ],
          "contour": [
           {
            "colorbar": {
             "outlinewidth": 0,
             "ticks": ""
            },
            "colorscale": [
             [
              0,
              "#0d0887"
             ],
             [
              0.1111111111111111,
              "#46039f"
             ],
             [
              0.2222222222222222,
              "#7201a8"
             ],
             [
              0.3333333333333333,
              "#9c179e"
             ],
             [
              0.4444444444444444,
              "#bd3786"
             ],
             [
              0.5555555555555556,
              "#d8576b"
             ],
             [
              0.6666666666666666,
              "#ed7953"
             ],
             [
              0.7777777777777778,
              "#fb9f3a"
             ],
             [
              0.8888888888888888,
              "#fdca26"
             ],
             [
              1,
              "#f0f921"
             ]
            ],
            "type": "contour"
           }
          ],
          "contourcarpet": [
           {
            "colorbar": {
             "outlinewidth": 0,
             "ticks": ""
            },
            "type": "contourcarpet"
           }
          ],
          "heatmap": [
           {
            "colorbar": {
             "outlinewidth": 0,
             "ticks": ""
            },
            "colorscale": [
             [
              0,
              "#0d0887"
             ],
             [
              0.1111111111111111,
              "#46039f"
             ],
             [
              0.2222222222222222,
              "#7201a8"
             ],
             [
              0.3333333333333333,
              "#9c179e"
             ],
             [
              0.4444444444444444,
              "#bd3786"
             ],
             [
              0.5555555555555556,
              "#d8576b"
             ],
             [
              0.6666666666666666,
              "#ed7953"
             ],
             [
              0.7777777777777778,
              "#fb9f3a"
             ],
             [
              0.8888888888888888,
              "#fdca26"
             ],
             [
              1,
              "#f0f921"
             ]
            ],
            "type": "heatmap"
           }
          ],
          "heatmapgl": [
           {
            "colorbar": {
             "outlinewidth": 0,
             "ticks": ""
            },
            "colorscale": [
             [
              0,
              "#0d0887"
             ],
             [
              0.1111111111111111,
              "#46039f"
             ],
             [
              0.2222222222222222,
              "#7201a8"
             ],
             [
              0.3333333333333333,
              "#9c179e"
             ],
             [
              0.4444444444444444,
              "#bd3786"
             ],
             [
              0.5555555555555556,
              "#d8576b"
             ],
             [
              0.6666666666666666,
              "#ed7953"
             ],
             [
              0.7777777777777778,
              "#fb9f3a"
             ],
             [
              0.8888888888888888,
              "#fdca26"
             ],
             [
              1,
              "#f0f921"
             ]
            ],
            "type": "heatmapgl"
           }
          ],
          "histogram": [
           {
            "marker": {
             "pattern": {
              "fillmode": "overlay",
              "size": 10,
              "solidity": 0.2
             }
            },
            "type": "histogram"
           }
          ],
          "histogram2d": [
           {
            "colorbar": {
             "outlinewidth": 0,
             "ticks": ""
            },
            "colorscale": [
             [
              0,
              "#0d0887"
             ],
             [
              0.1111111111111111,
              "#46039f"
             ],
             [
              0.2222222222222222,
              "#7201a8"
             ],
             [
              0.3333333333333333,
              "#9c179e"
             ],
             [
              0.4444444444444444,
              "#bd3786"
             ],
             [
              0.5555555555555556,
              "#d8576b"
             ],
             [
              0.6666666666666666,
              "#ed7953"
             ],
             [
              0.7777777777777778,
              "#fb9f3a"
             ],
             [
              0.8888888888888888,
              "#fdca26"
             ],
             [
              1,
              "#f0f921"
             ]
            ],
            "type": "histogram2d"
           }
          ],
          "histogram2dcontour": [
           {
            "colorbar": {
             "outlinewidth": 0,
             "ticks": ""
            },
            "colorscale": [
             [
              0,
              "#0d0887"
             ],
             [
              0.1111111111111111,
              "#46039f"
             ],
             [
              0.2222222222222222,
              "#7201a8"
             ],
             [
              0.3333333333333333,
              "#9c179e"
             ],
             [
              0.4444444444444444,
              "#bd3786"
             ],
             [
              0.5555555555555556,
              "#d8576b"
             ],
             [
              0.6666666666666666,
              "#ed7953"
             ],
             [
              0.7777777777777778,
              "#fb9f3a"
             ],
             [
              0.8888888888888888,
              "#fdca26"
             ],
             [
              1,
              "#f0f921"
             ]
            ],
            "type": "histogram2dcontour"
           }
          ],
          "mesh3d": [
           {
            "colorbar": {
             "outlinewidth": 0,
             "ticks": ""
            },
            "type": "mesh3d"
           }
          ],
          "parcoords": [
           {
            "line": {
             "colorbar": {
              "outlinewidth": 0,
              "ticks": ""
             }
            },
            "type": "parcoords"
           }
          ],
          "pie": [
           {
            "automargin": true,
            "type": "pie"
           }
          ],
          "scatter": [
           {
            "fillpattern": {
             "fillmode": "overlay",
             "size": 10,
             "solidity": 0.2
            },
            "type": "scatter"
           }
          ],
          "scatter3d": [
           {
            "line": {
             "colorbar": {
              "outlinewidth": 0,
              "ticks": ""
             }
            },
            "marker": {
             "colorbar": {
              "outlinewidth": 0,
              "ticks": ""
             }
            },
            "type": "scatter3d"
           }
          ],
          "scattercarpet": [
           {
            "marker": {
             "colorbar": {
              "outlinewidth": 0,
              "ticks": ""
             }
            },
            "type": "scattercarpet"
           }
          ],
          "scattergeo": [
           {
            "marker": {
             "colorbar": {
              "outlinewidth": 0,
              "ticks": ""
             }
            },
            "type": "scattergeo"
           }
          ],
          "scattergl": [
           {
            "marker": {
             "colorbar": {
              "outlinewidth": 0,
              "ticks": ""
             }
            },
            "type": "scattergl"
           }
          ],
          "scattermapbox": [
           {
            "marker": {
             "colorbar": {
              "outlinewidth": 0,
              "ticks": ""
             }
            },
            "type": "scattermapbox"
           }
          ],
          "scatterpolar": [
           {
            "marker": {
             "colorbar": {
              "outlinewidth": 0,
              "ticks": ""
             }
            },
            "type": "scatterpolar"
           }
          ],
          "scatterpolargl": [
           {
            "marker": {
             "colorbar": {
              "outlinewidth": 0,
              "ticks": ""
             }
            },
            "type": "scatterpolargl"
           }
          ],
          "scatterternary": [
           {
            "marker": {
             "colorbar": {
              "outlinewidth": 0,
              "ticks": ""
             }
            },
            "type": "scatterternary"
           }
          ],
          "surface": [
           {
            "colorbar": {
             "outlinewidth": 0,
             "ticks": ""
            },
            "colorscale": [
             [
              0,
              "#0d0887"
             ],
             [
              0.1111111111111111,
              "#46039f"
             ],
             [
              0.2222222222222222,
              "#7201a8"
             ],
             [
              0.3333333333333333,
              "#9c179e"
             ],
             [
              0.4444444444444444,
              "#bd3786"
             ],
             [
              0.5555555555555556,
              "#d8576b"
             ],
             [
              0.6666666666666666,
              "#ed7953"
             ],
             [
              0.7777777777777778,
              "#fb9f3a"
             ],
             [
              0.8888888888888888,
              "#fdca26"
             ],
             [
              1,
              "#f0f921"
             ]
            ],
            "type": "surface"
           }
          ],
          "table": [
           {
            "cells": {
             "fill": {
              "color": "#EBF0F8"
             },
             "line": {
              "color": "white"
             }
            },
            "header": {
             "fill": {
              "color": "#C8D4E3"
             },
             "line": {
              "color": "white"
             }
            },
            "type": "table"
           }
          ]
         },
         "layout": {
          "annotationdefaults": {
           "arrowcolor": "#2a3f5f",
           "arrowhead": 0,
           "arrowwidth": 1
          },
          "autotypenumbers": "strict",
          "coloraxis": {
           "colorbar": {
            "outlinewidth": 0,
            "ticks": ""
           }
          },
          "colorscale": {
           "diverging": [
            [
             0,
             "#8e0152"
            ],
            [
             0.1,
             "#c51b7d"
            ],
            [
             0.2,
             "#de77ae"
            ],
            [
             0.3,
             "#f1b6da"
            ],
            [
             0.4,
             "#fde0ef"
            ],
            [
             0.5,
             "#f7f7f7"
            ],
            [
             0.6,
             "#e6f5d0"
            ],
            [
             0.7,
             "#b8e186"
            ],
            [
             0.8,
             "#7fbc41"
            ],
            [
             0.9,
             "#4d9221"
            ],
            [
             1,
             "#276419"
            ]
           ],
           "sequential": [
            [
             0,
             "#0d0887"
            ],
            [
             0.1111111111111111,
             "#46039f"
            ],
            [
             0.2222222222222222,
             "#7201a8"
            ],
            [
             0.3333333333333333,
             "#9c179e"
            ],
            [
             0.4444444444444444,
             "#bd3786"
            ],
            [
             0.5555555555555556,
             "#d8576b"
            ],
            [
             0.6666666666666666,
             "#ed7953"
            ],
            [
             0.7777777777777778,
             "#fb9f3a"
            ],
            [
             0.8888888888888888,
             "#fdca26"
            ],
            [
             1,
             "#f0f921"
            ]
           ],
           "sequentialminus": [
            [
             0,
             "#0d0887"
            ],
            [
             0.1111111111111111,
             "#46039f"
            ],
            [
             0.2222222222222222,
             "#7201a8"
            ],
            [
             0.3333333333333333,
             "#9c179e"
            ],
            [
             0.4444444444444444,
             "#bd3786"
            ],
            [
             0.5555555555555556,
             "#d8576b"
            ],
            [
             0.6666666666666666,
             "#ed7953"
            ],
            [
             0.7777777777777778,
             "#fb9f3a"
            ],
            [
             0.8888888888888888,
             "#fdca26"
            ],
            [
             1,
             "#f0f921"
            ]
           ]
          },
          "colorway": [
           "#636efa",
           "#EF553B",
           "#00cc96",
           "#ab63fa",
           "#FFA15A",
           "#19d3f3",
           "#FF6692",
           "#B6E880",
           "#FF97FF",
           "#FECB52"
          ],
          "font": {
           "color": "#2a3f5f"
          },
          "geo": {
           "bgcolor": "white",
           "lakecolor": "white",
           "landcolor": "#E5ECF6",
           "showlakes": true,
           "showland": true,
           "subunitcolor": "white"
          },
          "hoverlabel": {
           "align": "left"
          },
          "hovermode": "closest",
          "mapbox": {
           "style": "light"
          },
          "paper_bgcolor": "white",
          "plot_bgcolor": "#E5ECF6",
          "polar": {
           "angularaxis": {
            "gridcolor": "white",
            "linecolor": "white",
            "ticks": ""
           },
           "bgcolor": "#E5ECF6",
           "radialaxis": {
            "gridcolor": "white",
            "linecolor": "white",
            "ticks": ""
           }
          },
          "scene": {
           "xaxis": {
            "backgroundcolor": "#E5ECF6",
            "gridcolor": "white",
            "gridwidth": 2,
            "linecolor": "white",
            "showbackground": true,
            "ticks": "",
            "zerolinecolor": "white"
           },
           "yaxis": {
            "backgroundcolor": "#E5ECF6",
            "gridcolor": "white",
            "gridwidth": 2,
            "linecolor": "white",
            "showbackground": true,
            "ticks": "",
            "zerolinecolor": "white"
           },
           "zaxis": {
            "backgroundcolor": "#E5ECF6",
            "gridcolor": "white",
            "gridwidth": 2,
            "linecolor": "white",
            "showbackground": true,
            "ticks": "",
            "zerolinecolor": "white"
           }
          },
          "shapedefaults": {
           "line": {
            "color": "#2a3f5f"
           }
          },
          "ternary": {
           "aaxis": {
            "gridcolor": "white",
            "linecolor": "white",
            "ticks": ""
           },
           "baxis": {
            "gridcolor": "white",
            "linecolor": "white",
            "ticks": ""
           },
           "bgcolor": "#E5ECF6",
           "caxis": {
            "gridcolor": "white",
            "linecolor": "white",
            "ticks": ""
           }
          },
          "title": {
           "x": 0.05
          },
          "xaxis": {
           "automargin": true,
           "gridcolor": "white",
           "linecolor": "white",
           "ticks": "",
           "title": {
            "standoff": 15
           },
           "zerolinecolor": "white",
           "zerolinewidth": 2
          },
          "yaxis": {
           "automargin": true,
           "gridcolor": "white",
           "linecolor": "white",
           "ticks": "",
           "title": {
            "standoff": 15
           },
           "zerolinecolor": "white",
           "zerolinewidth": 2
          }
         }
        },
        "title": {
         "text": "Transaction Volume Over Time (Year-Month)"
        },
        "xaxis": {
         "anchor": "y",
         "domain": [
          0,
          1
         ],
         "tickangle": -45,
         "title": {
          "text": "Year-Month"
         }
        },
        "yaxis": {
         "anchor": "x",
         "domain": [
          0,
          1
         ],
         "title": {
          "text": "Transaction Count"
         }
        }
       }
      }
     },
     "metadata": {},
     "output_type": "display_data"
    }
   ],
   "source": [
    "# Create a new column combining year and month into a single string\n",
    "transactions_satwa['year_month'] = transactions_satwa['year'].astype(str) + '-' + transactions_satwa['month'].astype(str)\n",
    "\n",
    "# Group by the new year_month column and count the number of transactions\n",
    "monthly_transactions = transactions_satwa.groupby(['year_month']).size().reset_index(name='transaction_count')\n",
    "\n",
    "# Sort by the year_month for visualization\n",
    "monthly_transactions = monthly_transactions.sort_values(by=['year_month'])\n",
    "\n",
    "fig = px.line(monthly_transactions, x='year_month', y='transaction_count', \n",
    "              title='Transaction Volume Over Time (Year-Month)', labels={'year_month': 'Year-Month', 'transaction_count': 'Transaction Count'})\n",
    "fig.update_layout(xaxis_tickangle=-45)  # Rotate x-axis labels for better readability\n",
    "fig.show()"
   ]
  },
  {
   "cell_type": "code",
   "execution_count": 18,
   "metadata": {},
   "outputs": [
    {
     "data": {
      "text/plain": [
       "0    2015-3\n",
       "1    2006-8\n",
       "2    2003-7\n",
       "3    2006-9\n",
       "4    2021-6\n",
       "Name: year_month, dtype: object"
      ]
     },
     "execution_count": 18,
     "metadata": {},
     "output_type": "execute_result"
    }
   ],
   "source": [
    "transactions_satwa['year_month'].head()"
   ]
  },
  {
   "cell_type": "code",
   "execution_count": 19,
   "metadata": {},
   "outputs": [
    {
     "data": {
      "text/html": [
       "<div>\n",
       "<style scoped>\n",
       "    .dataframe tbody tr th:only-of-type {\n",
       "        vertical-align: middle;\n",
       "    }\n",
       "\n",
       "    .dataframe tbody tr th {\n",
       "        vertical-align: top;\n",
       "    }\n",
       "\n",
       "    .dataframe thead th {\n",
       "        text-align: right;\n",
       "    }\n",
       "</style>\n",
       "<table border=\"1\" class=\"dataframe\">\n",
       "  <thead>\n",
       "    <tr style=\"text-align: right;\">\n",
       "      <th></th>\n",
       "      <th>project_id</th>\n",
       "      <th>project_number</th>\n",
       "      <th>project_name</th>\n",
       "      <th>developer_id</th>\n",
       "      <th>developer_number</th>\n",
       "      <th>developer_name</th>\n",
       "      <th>master_developer_id</th>\n",
       "      <th>master_developer_number</th>\n",
       "      <th>master_developer_name</th>\n",
       "      <th>project_start_date</th>\n",
       "      <th>project_end_date</th>\n",
       "      <th>project_type_id</th>\n",
       "      <th>project_type_ar</th>\n",
       "      <th>project_classification_id</th>\n",
       "      <th>project_classification_ar</th>\n",
       "      <th>escrow_agent_id</th>\n",
       "      <th>escrow_agent_name</th>\n",
       "      <th>project_status</th>\n",
       "      <th>project_status_ar</th>\n",
       "      <th>percent_completed</th>\n",
       "      <th>completion_date</th>\n",
       "      <th>cancellation_date</th>\n",
       "      <th>project_description_ar</th>\n",
       "      <th>project_description_en</th>\n",
       "      <th>property_id</th>\n",
       "      <th>area_id</th>\n",
       "      <th>area_name_ar</th>\n",
       "      <th>area_name_en</th>\n",
       "      <th>master_project_ar</th>\n",
       "      <th>master_project_en</th>\n",
       "      <th>zoning_authority_id</th>\n",
       "      <th>zoning_authority_ar</th>\n",
       "      <th>zoning_authority_en</th>\n",
       "      <th>no_of_lands</th>\n",
       "      <th>no_of_buildings</th>\n",
       "      <th>no_of_villas</th>\n",
       "      <th>no_of_units</th>\n",
       "    </tr>\n",
       "  </thead>\n",
       "  <tbody>\n",
       "    <tr>\n",
       "      <th>0</th>\n",
       "      <td>608783969</td>\n",
       "      <td>3061</td>\n",
       "      <td>جردن أسترل</td>\n",
       "      <td>578485446.0</td>\n",
       "      <td>1831.0</td>\n",
       "      <td>مراس العقارية (ش.ذ.م.م)</td>\n",
       "      <td>1</td>\n",
       "      <td>1</td>\n",
       "      <td>مراس العقارية (ش.ذ.م.م)</td>\n",
       "      <td>01-08-2024</td>\n",
       "      <td>01-08-2026</td>\n",
       "      <td>1</td>\n",
       "      <td>عادي</td>\n",
       "      <td>1</td>\n",
       "      <td>مباني</td>\n",
       "      <td>7.0</td>\n",
       "      <td>بنك الإمارات دبي الوطني (ش.م.ع)</td>\n",
       "      <td>NOT_STARTED</td>\n",
       "      <td>تحت الانشاء</td>\n",
       "      <td>0.0</td>\n",
       "      <td>01-08-2026</td>\n",
       "      <td>NaN</td>\n",
       "      <td>G+2P+8+R</td>\n",
       "      <td>G+2P+8+R</td>\n",
       "      <td>1100229506</td>\n",
       "      <td>266.0</td>\n",
       "      <td>السطوه</td>\n",
       "      <td>Al Satwa</td>\n",
       "      <td>جميرا جاردن ستي</td>\n",
       "      <td>Jumeriah Garden City</td>\n",
       "      <td>2</td>\n",
       "      <td>سلطة دبي للتطوير</td>\n",
       "      <td>Dubai Development Authority (DDA)</td>\n",
       "      <td>0</td>\n",
       "      <td>1</td>\n",
       "      <td>0</td>\n",
       "      <td>46</td>\n",
       "    </tr>\n",
       "    <tr>\n",
       "      <th>1</th>\n",
       "      <td>611464821</td>\n",
       "      <td>3084</td>\n",
       "      <td>161 جميرا لين</td>\n",
       "      <td>33210278.0</td>\n",
       "      <td>1149.0</td>\n",
       "      <td>مراس العقارية (ش.ذ.م.م)</td>\n",
       "      <td>1</td>\n",
       "      <td>1</td>\n",
       "      <td>مراس العقارية (ش.ذ.م.م)</td>\n",
       "      <td>01-04-2024</td>\n",
       "      <td>01-03-2026</td>\n",
       "      <td>1</td>\n",
       "      <td>عادي</td>\n",
       "      <td>1</td>\n",
       "      <td>مباني</td>\n",
       "      <td>1.0</td>\n",
       "      <td>بنك دبي الاسلامي (شركة مساهمة عامة)</td>\n",
       "      <td>ACTIVE</td>\n",
       "      <td>فعال</td>\n",
       "      <td>1.0</td>\n",
       "      <td>NaN</td>\n",
       "      <td>NaN</td>\n",
       "      <td>تطوير مبنى سكني مكون من G+2P+Roof,مجموع عدد ال...</td>\n",
       "      <td>Development of (G+2P+8+Roof) Residential Build...</td>\n",
       "      <td>1100203348</td>\n",
       "      <td>266.0</td>\n",
       "      <td>السطوه</td>\n",
       "      <td>Al Satwa</td>\n",
       "      <td>جميرا جاردن ستي</td>\n",
       "      <td>Jumeriah Garden City</td>\n",
       "      <td>2</td>\n",
       "      <td>سلطة دبي للتطوير</td>\n",
       "      <td>Dubai Development Authority (DDA)</td>\n",
       "      <td>0</td>\n",
       "      <td>1</td>\n",
       "      <td>0</td>\n",
       "      <td>161</td>\n",
       "    </tr>\n",
       "    <tr>\n",
       "      <th>2</th>\n",
       "      <td>641239356</td>\n",
       "      <td>3207</td>\n",
       "      <td>حدائق مايفاير مجيد</td>\n",
       "      <td>520108999.0</td>\n",
       "      <td>1655.0</td>\n",
       "      <td>مراس العقارية (ش.ذ.م.م)</td>\n",
       "      <td>1</td>\n",
       "      <td>1</td>\n",
       "      <td>مراس العقارية (ش.ذ.م.م)</td>\n",
       "      <td>15-08-2024</td>\n",
       "      <td>14-08-2026</td>\n",
       "      <td>1</td>\n",
       "      <td>عادي</td>\n",
       "      <td>1</td>\n",
       "      <td>مباني</td>\n",
       "      <td>7.0</td>\n",
       "      <td>بنك الإمارات دبي الوطني (ش.م.ع)</td>\n",
       "      <td>NOT_STARTED</td>\n",
       "      <td>تحت الانشاء</td>\n",
       "      <td>0.0</td>\n",
       "      <td>NaN</td>\n",
       "      <td>NaN</td>\n",
       "      <td>RESIDENTIAL BUILDING G+2P+8+ROOF</td>\n",
       "      <td>RESIDENTIAL BUILDING G+2P+8+ROOF</td>\n",
       "      <td>1100204496</td>\n",
       "      <td>266.0</td>\n",
       "      <td>السطوه</td>\n",
       "      <td>Al Satwa</td>\n",
       "      <td>جميرا جاردن ستي</td>\n",
       "      <td>Jumeriah Garden City</td>\n",
       "      <td>2</td>\n",
       "      <td>سلطة دبي للتطوير</td>\n",
       "      <td>Dubai Development Authority (DDA)</td>\n",
       "      <td>0</td>\n",
       "      <td>1</td>\n",
       "      <td>0</td>\n",
       "      <td>64</td>\n",
       "    </tr>\n",
       "    <tr>\n",
       "      <th>3</th>\n",
       "      <td>603796305</td>\n",
       "      <td>3037</td>\n",
       "      <td>كورال باي فيجن</td>\n",
       "      <td>571314921.0</td>\n",
       "      <td>1806.0</td>\n",
       "      <td>مراس العقارية (ش.ذ.م.م)</td>\n",
       "      <td>1</td>\n",
       "      <td>1</td>\n",
       "      <td>مراس العقارية (ش.ذ.م.م)</td>\n",
       "      <td>15-04-2024</td>\n",
       "      <td>NaN</td>\n",
       "      <td>1</td>\n",
       "      <td>عادي</td>\n",
       "      <td>1</td>\n",
       "      <td>مباني</td>\n",
       "      <td>10985665.0</td>\n",
       "      <td>بنك الفجيره الوطنى ش م ع</td>\n",
       "      <td>PENDING</td>\n",
       "      <td>قيد التسجيل</td>\n",
       "      <td>0.0</td>\n",
       "      <td>NaN</td>\n",
       "      <td>NaN</td>\n",
       "      <td>أرضي + 2 بوديوم + 8 أدوار + سطح</td>\n",
       "      <td>Ground+2 podium+8 Floors +Roof</td>\n",
       "      <td>1100203394</td>\n",
       "      <td>266.0</td>\n",
       "      <td>السطوه</td>\n",
       "      <td>Al Satwa</td>\n",
       "      <td>جميرا جاردن ستي</td>\n",
       "      <td>Jumeriah Garden City</td>\n",
       "      <td>2</td>\n",
       "      <td>سلطة دبي للتطوير</td>\n",
       "      <td>Dubai Development Authority (DDA)</td>\n",
       "      <td>0</td>\n",
       "      <td>1</td>\n",
       "      <td>0</td>\n",
       "      <td>81</td>\n",
       "    </tr>\n",
       "    <tr>\n",
       "      <th>4</th>\n",
       "      <td>561397314</td>\n",
       "      <td>2860</td>\n",
       "      <td>هايد ووك ريزيدنس من امتياز</td>\n",
       "      <td>29075838.0</td>\n",
       "      <td>1129.0</td>\n",
       "      <td>مراس العقارية (ش.ذ.م.م)</td>\n",
       "      <td>1</td>\n",
       "      <td>1</td>\n",
       "      <td>مراس العقارية (ش.ذ.م.م)</td>\n",
       "      <td>15-12-2023</td>\n",
       "      <td>NaN</td>\n",
       "      <td>1</td>\n",
       "      <td>عادي</td>\n",
       "      <td>1</td>\n",
       "      <td>مباني</td>\n",
       "      <td>19.0</td>\n",
       "      <td>بنك أبوظبي الأول ش.م.ع.</td>\n",
       "      <td>ACTIVE</td>\n",
       "      <td>فعال</td>\n",
       "      <td>16.0</td>\n",
       "      <td>NaN</td>\n",
       "      <td>NaN</td>\n",
       "      <td>NaN</td>\n",
       "      <td>G+2P+8 Typical Floors Residential Building.The...</td>\n",
       "      <td>1100203358</td>\n",
       "      <td>266.0</td>\n",
       "      <td>السطوه</td>\n",
       "      <td>Al Satwa</td>\n",
       "      <td>جميرا جاردن ستي</td>\n",
       "      <td>Jumeriah Garden City</td>\n",
       "      <td>2</td>\n",
       "      <td>سلطة دبي للتطوير</td>\n",
       "      <td>Dubai Development Authority (DDA)</td>\n",
       "      <td>0</td>\n",
       "      <td>1</td>\n",
       "      <td>0</td>\n",
       "      <td>89</td>\n",
       "    </tr>\n",
       "  </tbody>\n",
       "</table>\n",
       "</div>"
      ],
      "text/plain": [
       "   project_id  project_number                project_name  developer_id  \\\n",
       "0   608783969            3061                  جردن أسترل   578485446.0   \n",
       "1   611464821            3084               161 جميرا لين    33210278.0   \n",
       "2   641239356            3207          حدائق مايفاير مجيد   520108999.0   \n",
       "3   603796305            3037              كورال باي فيجن   571314921.0   \n",
       "4   561397314            2860  هايد ووك ريزيدنس من امتياز    29075838.0   \n",
       "\n",
       "   developer_number           developer_name  master_developer_id  \\\n",
       "0            1831.0  مراس العقارية (ش.ذ.م.م)                    1   \n",
       "1            1149.0  مراس العقارية (ش.ذ.م.م)                    1   \n",
       "2            1655.0  مراس العقارية (ش.ذ.م.م)                    1   \n",
       "3            1806.0  مراس العقارية (ش.ذ.م.م)                    1   \n",
       "4            1129.0  مراس العقارية (ش.ذ.م.م)                    1   \n",
       "\n",
       "   master_developer_number    master_developer_name project_start_date  \\\n",
       "0                        1  مراس العقارية (ش.ذ.م.م)         01-08-2024   \n",
       "1                        1  مراس العقارية (ش.ذ.م.م)         01-04-2024   \n",
       "2                        1  مراس العقارية (ش.ذ.م.م)         15-08-2024   \n",
       "3                        1  مراس العقارية (ش.ذ.م.م)         15-04-2024   \n",
       "4                        1  مراس العقارية (ش.ذ.م.م)         15-12-2023   \n",
       "\n",
       "  project_end_date  project_type_id project_type_ar  \\\n",
       "0       01-08-2026                1            عادي   \n",
       "1       01-03-2026                1            عادي   \n",
       "2       14-08-2026                1            عادي   \n",
       "3              NaN                1            عادي   \n",
       "4              NaN                1            عادي   \n",
       "\n",
       "   project_classification_id project_classification_ar  escrow_agent_id  \\\n",
       "0                          1                     مباني              7.0   \n",
       "1                          1                     مباني              1.0   \n",
       "2                          1                     مباني              7.0   \n",
       "3                          1                     مباني       10985665.0   \n",
       "4                          1                     مباني             19.0   \n",
       "\n",
       "                     escrow_agent_name project_status project_status_ar  \\\n",
       "0      بنك الإمارات دبي الوطني (ش.م.ع)    NOT_STARTED       تحت الانشاء   \n",
       "1  بنك دبي الاسلامي (شركة مساهمة عامة)         ACTIVE              فعال   \n",
       "2      بنك الإمارات دبي الوطني (ش.م.ع)    NOT_STARTED       تحت الانشاء   \n",
       "3             بنك الفجيره الوطنى ش م ع        PENDING       قيد التسجيل   \n",
       "4              بنك أبوظبي الأول ش.م.ع.         ACTIVE              فعال   \n",
       "\n",
       "   percent_completed completion_date  cancellation_date  \\\n",
       "0                0.0      01-08-2026                NaN   \n",
       "1                1.0             NaN                NaN   \n",
       "2                0.0             NaN                NaN   \n",
       "3                0.0             NaN                NaN   \n",
       "4               16.0             NaN                NaN   \n",
       "\n",
       "                              project_description_ar  \\\n",
       "0                                           G+2P+8+R   \n",
       "1  تطوير مبنى سكني مكون من G+2P+Roof,مجموع عدد ال...   \n",
       "2                   RESIDENTIAL BUILDING G+2P+8+ROOF   \n",
       "3                    أرضي + 2 بوديوم + 8 أدوار + سطح   \n",
       "4                                                NaN   \n",
       "\n",
       "                              project_description_en  property_id  area_id  \\\n",
       "0                                           G+2P+8+R   1100229506    266.0   \n",
       "1  Development of (G+2P+8+Roof) Residential Build...   1100203348    266.0   \n",
       "2                   RESIDENTIAL BUILDING G+2P+8+ROOF   1100204496    266.0   \n",
       "3                     Ground+2 podium+8 Floors +Roof   1100203394    266.0   \n",
       "4  G+2P+8 Typical Floors Residential Building.The...   1100203358    266.0   \n",
       "\n",
       "  area_name_ar area_name_en master_project_ar     master_project_en  \\\n",
       "0       السطوه     Al Satwa   جميرا جاردن ستي  Jumeriah Garden City   \n",
       "1       السطوه     Al Satwa   جميرا جاردن ستي  Jumeriah Garden City   \n",
       "2       السطوه     Al Satwa   جميرا جاردن ستي  Jumeriah Garden City   \n",
       "3       السطوه     Al Satwa   جميرا جاردن ستي  Jumeriah Garden City   \n",
       "4       السطوه     Al Satwa   جميرا جاردن ستي  Jumeriah Garden City   \n",
       "\n",
       "   zoning_authority_id zoning_authority_ar                zoning_authority_en  \\\n",
       "0                    2    سلطة دبي للتطوير  Dubai Development Authority (DDA)   \n",
       "1                    2    سلطة دبي للتطوير  Dubai Development Authority (DDA)   \n",
       "2                    2    سلطة دبي للتطوير  Dubai Development Authority (DDA)   \n",
       "3                    2    سلطة دبي للتطوير  Dubai Development Authority (DDA)   \n",
       "4                    2    سلطة دبي للتطوير  Dubai Development Authority (DDA)   \n",
       "\n",
       "   no_of_lands  no_of_buildings  no_of_villas  no_of_units  \n",
       "0            0                1             0           46  \n",
       "1            0                1             0          161  \n",
       "2            0                1             0           64  \n",
       "3            0                1             0           81  \n",
       "4            0                1             0           89  "
      ]
     },
     "execution_count": 19,
     "metadata": {},
     "output_type": "execute_result"
    }
   ],
   "source": [
    "projects_satwa.head()"
   ]
  },
  {
   "cell_type": "code",
   "execution_count": 21,
   "metadata": {},
   "outputs": [],
   "source": [
    "assert all(projects_satwa['developer_name']) == all(projects_satwa['master_developer_name'])"
   ]
  },
  {
   "cell_type": "code",
   "execution_count": 22,
   "metadata": {},
   "outputs": [
    {
     "data": {
      "text/plain": [
       "project_id                     0.00\n",
       "project_number                 0.00\n",
       "project_name                   0.00\n",
       "developer_id                   0.00\n",
       "developer_number               0.00\n",
       "developer_name                 0.00\n",
       "master_developer_id            0.00\n",
       "master_developer_number        0.00\n",
       "master_developer_name          0.00\n",
       "project_start_date             0.00\n",
       "project_end_date              12.50\n",
       "project_type_id                0.00\n",
       "project_type_ar                0.00\n",
       "project_classification_id      0.00\n",
       "project_classification_ar      0.00\n",
       "escrow_agent_id                0.00\n",
       "escrow_agent_name              0.00\n",
       "project_status                 0.00\n",
       "project_status_ar              0.00\n",
       "percent_completed              0.00\n",
       "completion_date               68.75\n",
       "cancellation_date            100.00\n",
       "project_description_ar         6.25\n",
       "project_description_en         0.00\n",
       "property_id                    0.00\n",
       "area_id                        0.00\n",
       "area_name_ar                   0.00\n",
       "area_name_en                   0.00\n",
       "master_project_ar              0.00\n",
       "master_project_en              0.00\n",
       "zoning_authority_id            0.00\n",
       "zoning_authority_ar            0.00\n",
       "zoning_authority_en            0.00\n",
       "no_of_lands                    0.00\n",
       "no_of_buildings                0.00\n",
       "no_of_villas                   0.00\n",
       "no_of_units                    0.00\n",
       "dtype: float64"
      ]
     },
     "execution_count": 22,
     "metadata": {},
     "output_type": "execute_result"
    }
   ],
   "source": [
    "projects_satwa.isnull().sum() / projects_satwa.shape[0] * 100"
   ]
  },
  {
   "cell_type": "code",
   "execution_count": 25,
   "metadata": {},
   "outputs": [],
   "source": [
    "projects_satwa_cleaned = projects_satwa[['project_name', 'master_project_en', 'developer_name', 'project_start_date', 'project_end_date', 'project_classification_ar',\n",
    "                                         'escrow_agent_name', 'project_status', 'percent_completed', 'project_description_en',\n",
    "                                         'no_of_lands', 'no_of_buildings', 'no_of_villas', 'no_of_units']]"
   ]
  },
  {
   "cell_type": "code",
   "execution_count": 26,
   "metadata": {},
   "outputs": [
    {
     "data": {
      "text/html": [
       "<div>\n",
       "<style scoped>\n",
       "    .dataframe tbody tr th:only-of-type {\n",
       "        vertical-align: middle;\n",
       "    }\n",
       "\n",
       "    .dataframe tbody tr th {\n",
       "        vertical-align: top;\n",
       "    }\n",
       "\n",
       "    .dataframe thead th {\n",
       "        text-align: right;\n",
       "    }\n",
       "</style>\n",
       "<table border=\"1\" class=\"dataframe\">\n",
       "  <thead>\n",
       "    <tr style=\"text-align: right;\">\n",
       "      <th></th>\n",
       "      <th>project_name</th>\n",
       "      <th>master_project_en</th>\n",
       "      <th>developer_name</th>\n",
       "      <th>project_start_date</th>\n",
       "      <th>project_end_date</th>\n",
       "      <th>project_classification_ar</th>\n",
       "      <th>escrow_agent_name</th>\n",
       "      <th>project_status</th>\n",
       "      <th>percent_completed</th>\n",
       "      <th>project_description_en</th>\n",
       "      <th>no_of_lands</th>\n",
       "      <th>no_of_buildings</th>\n",
       "      <th>no_of_villas</th>\n",
       "      <th>no_of_units</th>\n",
       "    </tr>\n",
       "  </thead>\n",
       "  <tbody>\n",
       "    <tr>\n",
       "      <th>0</th>\n",
       "      <td>جردن أسترل</td>\n",
       "      <td>Jumeriah Garden City</td>\n",
       "      <td>مراس العقارية (ش.ذ.م.م)</td>\n",
       "      <td>01-08-2024</td>\n",
       "      <td>01-08-2026</td>\n",
       "      <td>مباني</td>\n",
       "      <td>بنك الإمارات دبي الوطني (ش.م.ع)</td>\n",
       "      <td>NOT_STARTED</td>\n",
       "      <td>0.0</td>\n",
       "      <td>G+2P+8+R</td>\n",
       "      <td>0</td>\n",
       "      <td>1</td>\n",
       "      <td>0</td>\n",
       "      <td>46</td>\n",
       "    </tr>\n",
       "    <tr>\n",
       "      <th>1</th>\n",
       "      <td>161 جميرا لين</td>\n",
       "      <td>Jumeriah Garden City</td>\n",
       "      <td>مراس العقارية (ش.ذ.م.م)</td>\n",
       "      <td>01-04-2024</td>\n",
       "      <td>01-03-2026</td>\n",
       "      <td>مباني</td>\n",
       "      <td>بنك دبي الاسلامي (شركة مساهمة عامة)</td>\n",
       "      <td>ACTIVE</td>\n",
       "      <td>1.0</td>\n",
       "      <td>Development of (G+2P+8+Roof) Residential Build...</td>\n",
       "      <td>0</td>\n",
       "      <td>1</td>\n",
       "      <td>0</td>\n",
       "      <td>161</td>\n",
       "    </tr>\n",
       "    <tr>\n",
       "      <th>2</th>\n",
       "      <td>حدائق مايفاير مجيد</td>\n",
       "      <td>Jumeriah Garden City</td>\n",
       "      <td>مراس العقارية (ش.ذ.م.م)</td>\n",
       "      <td>15-08-2024</td>\n",
       "      <td>14-08-2026</td>\n",
       "      <td>مباني</td>\n",
       "      <td>بنك الإمارات دبي الوطني (ش.م.ع)</td>\n",
       "      <td>NOT_STARTED</td>\n",
       "      <td>0.0</td>\n",
       "      <td>RESIDENTIAL BUILDING G+2P+8+ROOF</td>\n",
       "      <td>0</td>\n",
       "      <td>1</td>\n",
       "      <td>0</td>\n",
       "      <td>64</td>\n",
       "    </tr>\n",
       "    <tr>\n",
       "      <th>3</th>\n",
       "      <td>كورال باي فيجن</td>\n",
       "      <td>Jumeriah Garden City</td>\n",
       "      <td>مراس العقارية (ش.ذ.م.م)</td>\n",
       "      <td>15-04-2024</td>\n",
       "      <td>NaN</td>\n",
       "      <td>مباني</td>\n",
       "      <td>بنك الفجيره الوطنى ش م ع</td>\n",
       "      <td>PENDING</td>\n",
       "      <td>0.0</td>\n",
       "      <td>Ground+2 podium+8 Floors +Roof</td>\n",
       "      <td>0</td>\n",
       "      <td>1</td>\n",
       "      <td>0</td>\n",
       "      <td>81</td>\n",
       "    </tr>\n",
       "    <tr>\n",
       "      <th>4</th>\n",
       "      <td>هايد ووك ريزيدنس من امتياز</td>\n",
       "      <td>Jumeriah Garden City</td>\n",
       "      <td>مراس العقارية (ش.ذ.م.م)</td>\n",
       "      <td>15-12-2023</td>\n",
       "      <td>NaN</td>\n",
       "      <td>مباني</td>\n",
       "      <td>بنك أبوظبي الأول ش.م.ع.</td>\n",
       "      <td>ACTIVE</td>\n",
       "      <td>16.0</td>\n",
       "      <td>G+2P+8 Typical Floors Residential Building.The...</td>\n",
       "      <td>0</td>\n",
       "      <td>1</td>\n",
       "      <td>0</td>\n",
       "      <td>89</td>\n",
       "    </tr>\n",
       "  </tbody>\n",
       "</table>\n",
       "</div>"
      ],
      "text/plain": [
       "                 project_name     master_project_en           developer_name  \\\n",
       "0                  جردن أسترل  Jumeriah Garden City  مراس العقارية (ش.ذ.م.م)   \n",
       "1               161 جميرا لين  Jumeriah Garden City  مراس العقارية (ش.ذ.م.م)   \n",
       "2          حدائق مايفاير مجيد  Jumeriah Garden City  مراس العقارية (ش.ذ.م.م)   \n",
       "3              كورال باي فيجن  Jumeriah Garden City  مراس العقارية (ش.ذ.م.م)   \n",
       "4  هايد ووك ريزيدنس من امتياز  Jumeriah Garden City  مراس العقارية (ش.ذ.م.م)   \n",
       "\n",
       "  project_start_date project_end_date project_classification_ar  \\\n",
       "0         01-08-2024       01-08-2026                     مباني   \n",
       "1         01-04-2024       01-03-2026                     مباني   \n",
       "2         15-08-2024       14-08-2026                     مباني   \n",
       "3         15-04-2024              NaN                     مباني   \n",
       "4         15-12-2023              NaN                     مباني   \n",
       "\n",
       "                     escrow_agent_name project_status  percent_completed  \\\n",
       "0      بنك الإمارات دبي الوطني (ش.م.ع)    NOT_STARTED                0.0   \n",
       "1  بنك دبي الاسلامي (شركة مساهمة عامة)         ACTIVE                1.0   \n",
       "2      بنك الإمارات دبي الوطني (ش.م.ع)    NOT_STARTED                0.0   \n",
       "3             بنك الفجيره الوطنى ش م ع        PENDING                0.0   \n",
       "4              بنك أبوظبي الأول ش.م.ع.         ACTIVE               16.0   \n",
       "\n",
       "                              project_description_en  no_of_lands  \\\n",
       "0                                           G+2P+8+R            0   \n",
       "1  Development of (G+2P+8+Roof) Residential Build...            0   \n",
       "2                   RESIDENTIAL BUILDING G+2P+8+ROOF            0   \n",
       "3                     Ground+2 podium+8 Floors +Roof            0   \n",
       "4  G+2P+8 Typical Floors Residential Building.The...            0   \n",
       "\n",
       "   no_of_buildings  no_of_villas  no_of_units  \n",
       "0                1             0           46  \n",
       "1                1             0          161  \n",
       "2                1             0           64  \n",
       "3                1             0           81  \n",
       "4                1             0           89  "
      ]
     },
     "execution_count": 26,
     "metadata": {},
     "output_type": "execute_result"
    }
   ],
   "source": [
    "projects_satwa_cleaned.head()"
   ]
  },
  {
   "cell_type": "code",
   "execution_count": 27,
   "metadata": {},
   "outputs": [
    {
     "name": "stderr",
     "output_type": "stream",
     "text": [
      "/var/folders/06/yylywj097mx17kt26t7k_0g40000gn/T/ipykernel_68736/3047838969.py:1: SettingWithCopyWarning:\n",
      "\n",
      "\n",
      "A value is trying to be set on a copy of a slice from a DataFrame\n",
      "\n",
      "See the caveats in the documentation: https://pandas.pydata.org/pandas-docs/stable/user_guide/indexing.html#returning-a-view-versus-a-copy\n",
      "\n"
     ]
    },
    {
     "data": {
      "text/html": [
       "<div>\n",
       "<style scoped>\n",
       "    .dataframe tbody tr th:only-of-type {\n",
       "        vertical-align: middle;\n",
       "    }\n",
       "\n",
       "    .dataframe tbody tr th {\n",
       "        vertical-align: top;\n",
       "    }\n",
       "\n",
       "    .dataframe thead th {\n",
       "        text-align: right;\n",
       "    }\n",
       "</style>\n",
       "<table border=\"1\" class=\"dataframe\">\n",
       "  <thead>\n",
       "    <tr style=\"text-align: right;\">\n",
       "      <th></th>\n",
       "      <th>Project Name</th>\n",
       "      <th>Master Project</th>\n",
       "      <th>Developer Name</th>\n",
       "      <th>Start Date</th>\n",
       "      <th>End Date</th>\n",
       "      <th>Project Classification</th>\n",
       "      <th>Escrow Agent</th>\n",
       "      <th>Project Status</th>\n",
       "      <th>Percent Completed</th>\n",
       "      <th>Project Description</th>\n",
       "      <th>Number of Lands</th>\n",
       "      <th>Number of Buildings</th>\n",
       "      <th>Number of Villas</th>\n",
       "      <th>Number of Units</th>\n",
       "    </tr>\n",
       "  </thead>\n",
       "  <tbody>\n",
       "    <tr>\n",
       "      <th>0</th>\n",
       "      <td>جردن أسترل</td>\n",
       "      <td>Jumeriah Garden City</td>\n",
       "      <td>مراس العقارية (ش.ذ.م.م)</td>\n",
       "      <td>01-08-2024</td>\n",
       "      <td>01-08-2026</td>\n",
       "      <td>مباني</td>\n",
       "      <td>بنك الإمارات دبي الوطني (ش.م.ع)</td>\n",
       "      <td>NOT_STARTED</td>\n",
       "      <td>0.0</td>\n",
       "      <td>G+2P+8+R</td>\n",
       "      <td>0</td>\n",
       "      <td>1</td>\n",
       "      <td>0</td>\n",
       "      <td>46</td>\n",
       "    </tr>\n",
       "    <tr>\n",
       "      <th>1</th>\n",
       "      <td>161 جميرا لين</td>\n",
       "      <td>Jumeriah Garden City</td>\n",
       "      <td>مراس العقارية (ش.ذ.م.م)</td>\n",
       "      <td>01-04-2024</td>\n",
       "      <td>01-03-2026</td>\n",
       "      <td>مباني</td>\n",
       "      <td>بنك دبي الاسلامي (شركة مساهمة عامة)</td>\n",
       "      <td>ACTIVE</td>\n",
       "      <td>1.0</td>\n",
       "      <td>Development of (G+2P+8+Roof) Residential Build...</td>\n",
       "      <td>0</td>\n",
       "      <td>1</td>\n",
       "      <td>0</td>\n",
       "      <td>161</td>\n",
       "    </tr>\n",
       "    <tr>\n",
       "      <th>2</th>\n",
       "      <td>حدائق مايفاير مجيد</td>\n",
       "      <td>Jumeriah Garden City</td>\n",
       "      <td>مراس العقارية (ش.ذ.م.م)</td>\n",
       "      <td>15-08-2024</td>\n",
       "      <td>14-08-2026</td>\n",
       "      <td>مباني</td>\n",
       "      <td>بنك الإمارات دبي الوطني (ش.م.ع)</td>\n",
       "      <td>NOT_STARTED</td>\n",
       "      <td>0.0</td>\n",
       "      <td>RESIDENTIAL BUILDING G+2P+8+ROOF</td>\n",
       "      <td>0</td>\n",
       "      <td>1</td>\n",
       "      <td>0</td>\n",
       "      <td>64</td>\n",
       "    </tr>\n",
       "    <tr>\n",
       "      <th>3</th>\n",
       "      <td>كورال باي فيجن</td>\n",
       "      <td>Jumeriah Garden City</td>\n",
       "      <td>مراس العقارية (ش.ذ.م.م)</td>\n",
       "      <td>15-04-2024</td>\n",
       "      <td>NaN</td>\n",
       "      <td>مباني</td>\n",
       "      <td>بنك الفجيره الوطنى ش م ع</td>\n",
       "      <td>PENDING</td>\n",
       "      <td>0.0</td>\n",
       "      <td>Ground+2 podium+8 Floors +Roof</td>\n",
       "      <td>0</td>\n",
       "      <td>1</td>\n",
       "      <td>0</td>\n",
       "      <td>81</td>\n",
       "    </tr>\n",
       "    <tr>\n",
       "      <th>4</th>\n",
       "      <td>هايد ووك ريزيدنس من امتياز</td>\n",
       "      <td>Jumeriah Garden City</td>\n",
       "      <td>مراس العقارية (ش.ذ.م.م)</td>\n",
       "      <td>15-12-2023</td>\n",
       "      <td>NaN</td>\n",
       "      <td>مباني</td>\n",
       "      <td>بنك أبوظبي الأول ش.م.ع.</td>\n",
       "      <td>ACTIVE</td>\n",
       "      <td>16.0</td>\n",
       "      <td>G+2P+8 Typical Floors Residential Building.The...</td>\n",
       "      <td>0</td>\n",
       "      <td>1</td>\n",
       "      <td>0</td>\n",
       "      <td>89</td>\n",
       "    </tr>\n",
       "  </tbody>\n",
       "</table>\n",
       "</div>"
      ],
      "text/plain": [
       "                 Project Name        Master Project           Developer Name  \\\n",
       "0                  جردن أسترل  Jumeriah Garden City  مراس العقارية (ش.ذ.م.م)   \n",
       "1               161 جميرا لين  Jumeriah Garden City  مراس العقارية (ش.ذ.م.م)   \n",
       "2          حدائق مايفاير مجيد  Jumeriah Garden City  مراس العقارية (ش.ذ.م.م)   \n",
       "3              كورال باي فيجن  Jumeriah Garden City  مراس العقارية (ش.ذ.م.م)   \n",
       "4  هايد ووك ريزيدنس من امتياز  Jumeriah Garden City  مراس العقارية (ش.ذ.م.م)   \n",
       "\n",
       "   Start Date    End Date Project Classification  \\\n",
       "0  01-08-2024  01-08-2026                  مباني   \n",
       "1  01-04-2024  01-03-2026                  مباني   \n",
       "2  15-08-2024  14-08-2026                  مباني   \n",
       "3  15-04-2024         NaN                  مباني   \n",
       "4  15-12-2023         NaN                  مباني   \n",
       "\n",
       "                          Escrow Agent Project Status  Percent Completed  \\\n",
       "0      بنك الإمارات دبي الوطني (ش.م.ع)    NOT_STARTED                0.0   \n",
       "1  بنك دبي الاسلامي (شركة مساهمة عامة)         ACTIVE                1.0   \n",
       "2      بنك الإمارات دبي الوطني (ش.م.ع)    NOT_STARTED                0.0   \n",
       "3             بنك الفجيره الوطنى ش م ع        PENDING                0.0   \n",
       "4              بنك أبوظبي الأول ش.م.ع.         ACTIVE               16.0   \n",
       "\n",
       "                                 Project Description  Number of Lands  \\\n",
       "0                                           G+2P+8+R                0   \n",
       "1  Development of (G+2P+8+Roof) Residential Build...                0   \n",
       "2                   RESIDENTIAL BUILDING G+2P+8+ROOF                0   \n",
       "3                     Ground+2 podium+8 Floors +Roof                0   \n",
       "4  G+2P+8 Typical Floors Residential Building.The...                0   \n",
       "\n",
       "   Number of Buildings  Number of Villas  Number of Units  \n",
       "0                    1                 0               46  \n",
       "1                    1                 0              161  \n",
       "2                    1                 0               64  \n",
       "3                    1                 0               81  \n",
       "4                    1                 0               89  "
      ]
     },
     "execution_count": 27,
     "metadata": {},
     "output_type": "execute_result"
    }
   ],
   "source": [
    "projects_satwa_cleaned.rename(columns={\n",
    "    'project_name': 'Project Name',\n",
    "    'master_project_en': 'Master Project',\n",
    "    'developer_name': 'Developer Name',\n",
    "    'project_start_date': 'Start Date',\n",
    "    'project_end_date': 'End Date',\n",
    "    'project_classification_ar': 'Project Classification',\n",
    "    'escrow_agent_name': 'Escrow Agent',\n",
    "    'project_status': 'Project Status',\n",
    "    'percent_completed': 'Percent Completed',\n",
    "    'project_description_en': 'Project Description',\n",
    "    'no_of_lands': 'Number of Lands',\n",
    "    'no_of_buildings': 'Number of Buildings',\n",
    "    'no_of_villas': 'Number of Villas',\n",
    "    'no_of_units': 'Number of Units'\n",
    "}, inplace=True)\n",
    "\n",
    "projects_satwa_cleaned.head()"
   ]
  },
  {
   "cell_type": "code",
   "execution_count": 28,
   "metadata": {},
   "outputs": [],
   "source": [
    "projects_satwa_cleaned.to_csv('../data/processed/Jumeriah Garden City Projects.csv', index=False)"
   ]
  },
  {
   "cell_type": "code",
   "execution_count": 29,
   "metadata": {},
   "outputs": [
    {
     "data": {
      "text/html": [
       "<div>\n",
       "<style scoped>\n",
       "    .dataframe tbody tr th:only-of-type {\n",
       "        vertical-align: middle;\n",
       "    }\n",
       "\n",
       "    .dataframe tbody tr th {\n",
       "        vertical-align: top;\n",
       "    }\n",
       "\n",
       "    .dataframe thead th {\n",
       "        text-align: right;\n",
       "    }\n",
       "</style>\n",
       "<table border=\"1\" class=\"dataframe\">\n",
       "  <thead>\n",
       "    <tr style=\"text-align: right;\">\n",
       "      <th></th>\n",
       "      <th>Project Name</th>\n",
       "      <th>Master Project</th>\n",
       "      <th>Developer Name</th>\n",
       "      <th>Start Date</th>\n",
       "      <th>End Date</th>\n",
       "      <th>Project Classification</th>\n",
       "      <th>Escrow Agent</th>\n",
       "      <th>Project Status</th>\n",
       "      <th>Percent Completed</th>\n",
       "      <th>Project Description</th>\n",
       "      <th>Number of Lands</th>\n",
       "      <th>Number of Buildings</th>\n",
       "      <th>Number of Villas</th>\n",
       "      <th>Number of Units</th>\n",
       "    </tr>\n",
       "  </thead>\n",
       "  <tbody>\n",
       "    <tr>\n",
       "      <th>0</th>\n",
       "      <td>جردن أسترل</td>\n",
       "      <td>Jumeriah Garden City</td>\n",
       "      <td>مراس العقارية (ش.ذ.م.م)</td>\n",
       "      <td>01-08-2024</td>\n",
       "      <td>01-08-2026</td>\n",
       "      <td>مباني</td>\n",
       "      <td>بنك الإمارات دبي الوطني (ش.م.ع)</td>\n",
       "      <td>NOT_STARTED</td>\n",
       "      <td>0.0</td>\n",
       "      <td>G+2P+8+R</td>\n",
       "      <td>0</td>\n",
       "      <td>1</td>\n",
       "      <td>0</td>\n",
       "      <td>46</td>\n",
       "    </tr>\n",
       "    <tr>\n",
       "      <th>1</th>\n",
       "      <td>161 جميرا لين</td>\n",
       "      <td>Jumeriah Garden City</td>\n",
       "      <td>مراس العقارية (ش.ذ.م.م)</td>\n",
       "      <td>01-04-2024</td>\n",
       "      <td>01-03-2026</td>\n",
       "      <td>مباني</td>\n",
       "      <td>بنك دبي الاسلامي (شركة مساهمة عامة)</td>\n",
       "      <td>ACTIVE</td>\n",
       "      <td>1.0</td>\n",
       "      <td>Development of (G+2P+8+Roof) Residential Build...</td>\n",
       "      <td>0</td>\n",
       "      <td>1</td>\n",
       "      <td>0</td>\n",
       "      <td>161</td>\n",
       "    </tr>\n",
       "    <tr>\n",
       "      <th>2</th>\n",
       "      <td>حدائق مايفاير مجيد</td>\n",
       "      <td>Jumeriah Garden City</td>\n",
       "      <td>مراس العقارية (ش.ذ.م.م)</td>\n",
       "      <td>15-08-2024</td>\n",
       "      <td>14-08-2026</td>\n",
       "      <td>مباني</td>\n",
       "      <td>بنك الإمارات دبي الوطني (ش.م.ع)</td>\n",
       "      <td>NOT_STARTED</td>\n",
       "      <td>0.0</td>\n",
       "      <td>RESIDENTIAL BUILDING G+2P+8+ROOF</td>\n",
       "      <td>0</td>\n",
       "      <td>1</td>\n",
       "      <td>0</td>\n",
       "      <td>64</td>\n",
       "    </tr>\n",
       "    <tr>\n",
       "      <th>3</th>\n",
       "      <td>كورال باي فيجن</td>\n",
       "      <td>Jumeriah Garden City</td>\n",
       "      <td>مراس العقارية (ش.ذ.م.م)</td>\n",
       "      <td>15-04-2024</td>\n",
       "      <td>NaN</td>\n",
       "      <td>مباني</td>\n",
       "      <td>بنك الفجيره الوطنى ش م ع</td>\n",
       "      <td>PENDING</td>\n",
       "      <td>0.0</td>\n",
       "      <td>Ground+2 podium+8 Floors +Roof</td>\n",
       "      <td>0</td>\n",
       "      <td>1</td>\n",
       "      <td>0</td>\n",
       "      <td>81</td>\n",
       "    </tr>\n",
       "    <tr>\n",
       "      <th>4</th>\n",
       "      <td>هايد ووك ريزيدنس من امتياز</td>\n",
       "      <td>Jumeriah Garden City</td>\n",
       "      <td>مراس العقارية (ش.ذ.م.م)</td>\n",
       "      <td>15-12-2023</td>\n",
       "      <td>NaN</td>\n",
       "      <td>مباني</td>\n",
       "      <td>بنك أبوظبي الأول ش.م.ع.</td>\n",
       "      <td>ACTIVE</td>\n",
       "      <td>16.0</td>\n",
       "      <td>G+2P+8 Typical Floors Residential Building.The...</td>\n",
       "      <td>0</td>\n",
       "      <td>1</td>\n",
       "      <td>0</td>\n",
       "      <td>89</td>\n",
       "    </tr>\n",
       "    <tr>\n",
       "      <th>5</th>\n",
       "      <td>STAMN ONE</td>\n",
       "      <td>Jumeriah Garden City</td>\n",
       "      <td>مراس العقارية (ش.ذ.م.م)</td>\n",
       "      <td>01-08-2024</td>\n",
       "      <td>01-08-2025</td>\n",
       "      <td>مباني</td>\n",
       "      <td>Procedure Participant Ar</td>\n",
       "      <td>PENDING</td>\n",
       "      <td>0.0</td>\n",
       "      <td>G + 5</td>\n",
       "      <td>0</td>\n",
       "      <td>0</td>\n",
       "      <td>0</td>\n",
       "      <td>0</td>\n",
       "    </tr>\n",
       "    <tr>\n",
       "      <th>6</th>\n",
       "      <td>إنسو جاد</td>\n",
       "      <td>Jumeriah Garden City</td>\n",
       "      <td>دبي للعقارات (ش.ذ.م.م)</td>\n",
       "      <td>01-09-2024</td>\n",
       "      <td>30-06-2026</td>\n",
       "      <td>مباني</td>\n",
       "      <td>بنك المشرق (شركة مساهمة عامة)</td>\n",
       "      <td>PENDING</td>\n",
       "      <td>0.0</td>\n",
       "      <td>G+2P+8.The project designed to have a concrete...</td>\n",
       "      <td>0</td>\n",
       "      <td>1</td>\n",
       "      <td>0</td>\n",
       "      <td>105</td>\n",
       "    </tr>\n",
       "    <tr>\n",
       "      <th>7</th>\n",
       "      <td>البا تاور</td>\n",
       "      <td>Jumeriah Garden City</td>\n",
       "      <td>دبي للعقارات (ش.ذ.م.م)</td>\n",
       "      <td>30-09-2024</td>\n",
       "      <td>30-06-2028</td>\n",
       "      <td>مباني</td>\n",
       "      <td>بنك دبي التجاري (ش.م.ع)</td>\n",
       "      <td>NOT_STARTED</td>\n",
       "      <td>0.0</td>\n",
       "      <td>8 Floor + roof + 2 basement</td>\n",
       "      <td>0</td>\n",
       "      <td>1</td>\n",
       "      <td>0</td>\n",
       "      <td>73</td>\n",
       "    </tr>\n",
       "    <tr>\n",
       "      <th>8</th>\n",
       "      <td>أيفرجرين هاوس</td>\n",
       "      <td>Jumeriah Garden City</td>\n",
       "      <td>مراس العقارية (ش.ذ.م.م)</td>\n",
       "      <td>19-11-2024</td>\n",
       "      <td>23-05-2026</td>\n",
       "      <td>مباني</td>\n",
       "      <td>مصرف ابوظبى الاسلامى</td>\n",
       "      <td>PENDING</td>\n",
       "      <td>0.0</td>\n",
       "      <td>U.G Watertank+G+2P+8+R Residential Building</td>\n",
       "      <td>0</td>\n",
       "      <td>0</td>\n",
       "      <td>0</td>\n",
       "      <td>0</td>\n",
       "    </tr>\n",
       "    <tr>\n",
       "      <th>9</th>\n",
       "      <td>دي جي ام فيجن</td>\n",
       "      <td>Jumeriah Garden City</td>\n",
       "      <td>مراس العقارية (ش.ذ.م.م)</td>\n",
       "      <td>15-04-2024</td>\n",
       "      <td>14-08-2025</td>\n",
       "      <td>مباني</td>\n",
       "      <td>بنك الفجيره الوطنى ش م ع</td>\n",
       "      <td>PENDING</td>\n",
       "      <td>13.0</td>\n",
       "      <td>G+2PODUIM+8TYPICAL FLOORS +ROOF (Residential B...</td>\n",
       "      <td>0</td>\n",
       "      <td>0</td>\n",
       "      <td>0</td>\n",
       "      <td>0</td>\n",
       "    </tr>\n",
       "    <tr>\n",
       "      <th>10</th>\n",
       "      <td>تريليوم هايتس</td>\n",
       "      <td>Jumeriah Garden City</td>\n",
       "      <td>مراس العقارية (ش.ذ.م.م)</td>\n",
       "      <td>01-06-2024</td>\n",
       "      <td>31-12-2025</td>\n",
       "      <td>مباني</td>\n",
       "      <td>بنك أبوظبي الأول ش.م.ع.</td>\n",
       "      <td>NOT_STARTED</td>\n",
       "      <td>0.0</td>\n",
       "      <td>G + P1 + P2 + 8 Floors + Roof,40 Bedroom Apart...</td>\n",
       "      <td>0</td>\n",
       "      <td>1</td>\n",
       "      <td>0</td>\n",
       "      <td>56</td>\n",
       "    </tr>\n",
       "    <tr>\n",
       "      <th>11</th>\n",
       "      <td>171 جاردن هايتس</td>\n",
       "      <td>Jumeriah Garden City</td>\n",
       "      <td>مراس العقارية (ش.ذ.م.م)</td>\n",
       "      <td>11-09-2024</td>\n",
       "      <td>31-12-2026</td>\n",
       "      <td>مباني</td>\n",
       "      <td>بنك دبي الاسلامي (شركة مساهمة عامة)</td>\n",
       "      <td>NOT_STARTED</td>\n",
       "      <td>0.0</td>\n",
       "      <td>Development of (G+2P+8+Story) Residential Buil...</td>\n",
       "      <td>0</td>\n",
       "      <td>1</td>\n",
       "      <td>0</td>\n",
       "      <td>159</td>\n",
       "    </tr>\n",
       "    <tr>\n",
       "      <th>12</th>\n",
       "      <td>جراندالا</td>\n",
       "      <td>Jumeriah Garden City</td>\n",
       "      <td>مراس العقارية (ش.ذ.م.م)</td>\n",
       "      <td>01-06-2024</td>\n",
       "      <td>31-01-2026</td>\n",
       "      <td>مباني</td>\n",
       "      <td>بنك ابوظبى التجارى</td>\n",
       "      <td>NOT_STARTED</td>\n",
       "      <td>0.0</td>\n",
       "      <td>Residential Building (GROUND + 2 PODIUM + 8 FL...</td>\n",
       "      <td>0</td>\n",
       "      <td>1</td>\n",
       "      <td>0</td>\n",
       "      <td>83</td>\n",
       "    </tr>\n",
       "    <tr>\n",
       "      <th>13</th>\n",
       "      <td>البا تاور</td>\n",
       "      <td>Jumeriah Garden City</td>\n",
       "      <td>دبي لاند (ش.ذ.م.م)</td>\n",
       "      <td>31-12-2024</td>\n",
       "      <td>30-12-2027</td>\n",
       "      <td>مباني</td>\n",
       "      <td>بنك دبي التجاري (ش.م.ع)</td>\n",
       "      <td>PENDING</td>\n",
       "      <td>0.0</td>\n",
       "      <td>8 Floor + roof + 2 basement</td>\n",
       "      <td>0</td>\n",
       "      <td>0</td>\n",
       "      <td>0</td>\n",
       "      <td>0</td>\n",
       "    </tr>\n",
       "    <tr>\n",
       "      <th>14</th>\n",
       "      <td>براند سنترو</td>\n",
       "      <td>Jumeriah Garden City</td>\n",
       "      <td>مراس العقارية (ش.ذ.م.م)</td>\n",
       "      <td>13-08-2024</td>\n",
       "      <td>13-08-2026</td>\n",
       "      <td>مباني</td>\n",
       "      <td>بنك الإمارات دبي الوطني (ش.م.ع)</td>\n",
       "      <td>PENDING</td>\n",
       "      <td>0.0</td>\n",
       "      <td>Residential Building (G+ 2 Podium + 8 Floors +...</td>\n",
       "      <td>0</td>\n",
       "      <td>0</td>\n",
       "      <td>0</td>\n",
       "      <td>0</td>\n",
       "    </tr>\n",
       "    <tr>\n",
       "      <th>15</th>\n",
       "      <td>إنسو عنبر</td>\n",
       "      <td>Jumeriah Garden City</td>\n",
       "      <td>دبي للعقارات (ش.ذ.م.م)</td>\n",
       "      <td>01-09-2024</td>\n",
       "      <td>30-06-2026</td>\n",
       "      <td>مباني</td>\n",
       "      <td>بنك المشرق (شركة مساهمة عامة)</td>\n",
       "      <td>PENDING</td>\n",
       "      <td>0.0</td>\n",
       "      <td>G+2P+8+R.The project designed to have a concre...</td>\n",
       "      <td>0</td>\n",
       "      <td>1</td>\n",
       "      <td>0</td>\n",
       "      <td>71</td>\n",
       "    </tr>\n",
       "  </tbody>\n",
       "</table>\n",
       "</div>"
      ],
      "text/plain": [
       "                  Project Name        Master Project           Developer Name  \\\n",
       "0                   جردن أسترل  Jumeriah Garden City  مراس العقارية (ش.ذ.م.م)   \n",
       "1                161 جميرا لين  Jumeriah Garden City  مراس العقارية (ش.ذ.م.م)   \n",
       "2           حدائق مايفاير مجيد  Jumeriah Garden City  مراس العقارية (ش.ذ.م.م)   \n",
       "3               كورال باي فيجن  Jumeriah Garden City  مراس العقارية (ش.ذ.م.م)   \n",
       "4   هايد ووك ريزيدنس من امتياز  Jumeriah Garden City  مراس العقارية (ش.ذ.م.م)   \n",
       "5                    STAMN ONE  Jumeriah Garden City  مراس العقارية (ش.ذ.م.م)   \n",
       "6                     إنسو جاد  Jumeriah Garden City   دبي للعقارات (ش.ذ.م.م)   \n",
       "7                    البا تاور  Jumeriah Garden City   دبي للعقارات (ش.ذ.م.م)   \n",
       "8                أيفرجرين هاوس  Jumeriah Garden City  مراس العقارية (ش.ذ.م.م)   \n",
       "9                دي جي ام فيجن  Jumeriah Garden City  مراس العقارية (ش.ذ.م.م)   \n",
       "10               تريليوم هايتس  Jumeriah Garden City  مراس العقارية (ش.ذ.م.م)   \n",
       "11             171 جاردن هايتس  Jumeriah Garden City  مراس العقارية (ش.ذ.م.م)   \n",
       "12                    جراندالا  Jumeriah Garden City  مراس العقارية (ش.ذ.م.م)   \n",
       "13                   البا تاور  Jumeriah Garden City       دبي لاند (ش.ذ.م.م)   \n",
       "14                 براند سنترو  Jumeriah Garden City  مراس العقارية (ش.ذ.م.م)   \n",
       "15                   إنسو عنبر  Jumeriah Garden City   دبي للعقارات (ش.ذ.م.م)   \n",
       "\n",
       "    Start Date    End Date Project Classification  \\\n",
       "0   01-08-2024  01-08-2026                  مباني   \n",
       "1   01-04-2024  01-03-2026                  مباني   \n",
       "2   15-08-2024  14-08-2026                  مباني   \n",
       "3   15-04-2024         NaN                  مباني   \n",
       "4   15-12-2023         NaN                  مباني   \n",
       "5   01-08-2024  01-08-2025                  مباني   \n",
       "6   01-09-2024  30-06-2026                  مباني   \n",
       "7   30-09-2024  30-06-2028                  مباني   \n",
       "8   19-11-2024  23-05-2026                  مباني   \n",
       "9   15-04-2024  14-08-2025                  مباني   \n",
       "10  01-06-2024  31-12-2025                  مباني   \n",
       "11  11-09-2024  31-12-2026                  مباني   \n",
       "12  01-06-2024  31-01-2026                  مباني   \n",
       "13  31-12-2024  30-12-2027                  مباني   \n",
       "14  13-08-2024  13-08-2026                  مباني   \n",
       "15  01-09-2024  30-06-2026                  مباني   \n",
       "\n",
       "                           Escrow Agent Project Status  Percent Completed  \\\n",
       "0       بنك الإمارات دبي الوطني (ش.م.ع)    NOT_STARTED                0.0   \n",
       "1   بنك دبي الاسلامي (شركة مساهمة عامة)         ACTIVE                1.0   \n",
       "2       بنك الإمارات دبي الوطني (ش.م.ع)    NOT_STARTED                0.0   \n",
       "3              بنك الفجيره الوطنى ش م ع        PENDING                0.0   \n",
       "4               بنك أبوظبي الأول ش.م.ع.         ACTIVE               16.0   \n",
       "5              Procedure Participant Ar        PENDING                0.0   \n",
       "6         بنك المشرق (شركة مساهمة عامة)        PENDING                0.0   \n",
       "7               بنك دبي التجاري (ش.م.ع)    NOT_STARTED                0.0   \n",
       "8                  مصرف ابوظبى الاسلامى        PENDING                0.0   \n",
       "9              بنك الفجيره الوطنى ش م ع        PENDING               13.0   \n",
       "10              بنك أبوظبي الأول ش.م.ع.    NOT_STARTED                0.0   \n",
       "11  بنك دبي الاسلامي (شركة مساهمة عامة)    NOT_STARTED                0.0   \n",
       "12                   بنك ابوظبى التجارى    NOT_STARTED                0.0   \n",
       "13              بنك دبي التجاري (ش.م.ع)        PENDING                0.0   \n",
       "14      بنك الإمارات دبي الوطني (ش.م.ع)        PENDING                0.0   \n",
       "15        بنك المشرق (شركة مساهمة عامة)        PENDING                0.0   \n",
       "\n",
       "                                  Project Description  Number of Lands  \\\n",
       "0                                            G+2P+8+R                0   \n",
       "1   Development of (G+2P+8+Roof) Residential Build...                0   \n",
       "2                    RESIDENTIAL BUILDING G+2P+8+ROOF                0   \n",
       "3                      Ground+2 podium+8 Floors +Roof                0   \n",
       "4   G+2P+8 Typical Floors Residential Building.The...                0   \n",
       "5                                               G + 5                0   \n",
       "6   G+2P+8.The project designed to have a concrete...                0   \n",
       "7                        8 Floor + roof + 2 basement                 0   \n",
       "8         U.G Watertank+G+2P+8+R Residential Building                0   \n",
       "9   G+2PODUIM+8TYPICAL FLOORS +ROOF (Residential B...                0   \n",
       "10  G + P1 + P2 + 8 Floors + Roof,40 Bedroom Apart...                0   \n",
       "11  Development of (G+2P+8+Story) Residential Buil...                0   \n",
       "12  Residential Building (GROUND + 2 PODIUM + 8 FL...                0   \n",
       "13                       8 Floor + roof + 2 basement                 0   \n",
       "14  Residential Building (G+ 2 Podium + 8 Floors +...                0   \n",
       "15  G+2P+8+R.The project designed to have a concre...                0   \n",
       "\n",
       "    Number of Buildings  Number of Villas  Number of Units  \n",
       "0                     1                 0               46  \n",
       "1                     1                 0              161  \n",
       "2                     1                 0               64  \n",
       "3                     1                 0               81  \n",
       "4                     1                 0               89  \n",
       "5                     0                 0                0  \n",
       "6                     1                 0              105  \n",
       "7                     1                 0               73  \n",
       "8                     0                 0                0  \n",
       "9                     0                 0                0  \n",
       "10                    1                 0               56  \n",
       "11                    1                 0              159  \n",
       "12                    1                 0               83  \n",
       "13                    0                 0                0  \n",
       "14                    0                 0                0  \n",
       "15                    1                 0               71  "
      ]
     },
     "execution_count": 29,
     "metadata": {},
     "output_type": "execute_result"
    }
   ],
   "source": [
    "projects_satwa_cleaned "
   ]
  },
  {
   "cell_type": "code",
   "execution_count": 30,
   "metadata": {},
   "outputs": [
    {
     "data": {
      "text/html": [
       "<div>\n",
       "<style scoped>\n",
       "    .dataframe tbody tr th:only-of-type {\n",
       "        vertical-align: middle;\n",
       "    }\n",
       "\n",
       "    .dataframe tbody tr th {\n",
       "        vertical-align: top;\n",
       "    }\n",
       "\n",
       "    .dataframe thead th {\n",
       "        text-align: right;\n",
       "    }\n",
       "</style>\n",
       "<table border=\"1\" class=\"dataframe\">\n",
       "  <thead>\n",
       "    <tr style=\"text-align: right;\">\n",
       "      <th></th>\n",
       "      <th>instance_date</th>\n",
       "      <th>transaction_id</th>\n",
       "      <th>trans_group_id</th>\n",
       "      <th>trans_group_en</th>\n",
       "      <th>trans_group_ar</th>\n",
       "      <th>procedure_id</th>\n",
       "      <th>procedure_name_en</th>\n",
       "      <th>procedure_name_ar</th>\n",
       "      <th>property_type_id</th>\n",
       "      <th>property_type_en</th>\n",
       "      <th>property_type_ar</th>\n",
       "      <th>property_sub_type_id</th>\n",
       "      <th>property_sub_type_en</th>\n",
       "      <th>property_sub_type_ar</th>\n",
       "      <th>property_usage_en</th>\n",
       "      <th>property_usage_ar</th>\n",
       "      <th>reg_type_id</th>\n",
       "      <th>reg_type_en</th>\n",
       "      <th>reg_type_ar</th>\n",
       "      <th>area_id</th>\n",
       "      <th>area_name_en</th>\n",
       "      <th>area_name_ar</th>\n",
       "      <th>master_project_en</th>\n",
       "      <th>master_project_ar</th>\n",
       "      <th>project_number</th>\n",
       "      <th>project_name_en</th>\n",
       "      <th>project_name_ar</th>\n",
       "      <th>building_name_en</th>\n",
       "      <th>building_name_ar</th>\n",
       "      <th>rooms_en</th>\n",
       "      <th>rooms_ar</th>\n",
       "      <th>has_parking</th>\n",
       "      <th>procedure_area</th>\n",
       "      <th>meter_sale_price</th>\n",
       "      <th>actual_worth</th>\n",
       "      <th>year</th>\n",
       "      <th>month</th>\n",
       "      <th>year_month</th>\n",
       "    </tr>\n",
       "  </thead>\n",
       "  <tbody>\n",
       "    <tr>\n",
       "      <th>0</th>\n",
       "      <td>2015-03-26</td>\n",
       "      <td>1-11-2015-5530</td>\n",
       "      <td>1</td>\n",
       "      <td>Sales</td>\n",
       "      <td>مبايعات</td>\n",
       "      <td>11</td>\n",
       "      <td>Sell</td>\n",
       "      <td>بيع</td>\n",
       "      <td>2</td>\n",
       "      <td>Building</td>\n",
       "      <td>مبنى</td>\n",
       "      <td>NaN</td>\n",
       "      <td>NaN</td>\n",
       "      <td>NaN</td>\n",
       "      <td>Commercial</td>\n",
       "      <td>تجاري</td>\n",
       "      <td>1</td>\n",
       "      <td>Existing Properties</td>\n",
       "      <td>العقارات القائمة</td>\n",
       "      <td>266</td>\n",
       "      <td>Al Satwa</td>\n",
       "      <td>السطوه</td>\n",
       "      <td>NaN</td>\n",
       "      <td>NaN</td>\n",
       "      <td>NaN</td>\n",
       "      <td>NaN</td>\n",
       "      <td>NaN</td>\n",
       "      <td>NaN</td>\n",
       "      <td>NaN</td>\n",
       "      <td>NaN</td>\n",
       "      <td>NaN</td>\n",
       "      <td>0</td>\n",
       "      <td>40.65</td>\n",
       "      <td>49512.99</td>\n",
       "      <td>2012703.0</td>\n",
       "      <td>2015</td>\n",
       "      <td>3</td>\n",
       "      <td>2015-3</td>\n",
       "    </tr>\n",
       "    <tr>\n",
       "      <th>1</th>\n",
       "      <td>2006-08-14</td>\n",
       "      <td>1-11-2006-1314</td>\n",
       "      <td>1</td>\n",
       "      <td>Sales</td>\n",
       "      <td>مبايعات</td>\n",
       "      <td>11</td>\n",
       "      <td>Sell</td>\n",
       "      <td>بيع</td>\n",
       "      <td>1</td>\n",
       "      <td>Land</td>\n",
       "      <td>أرض</td>\n",
       "      <td>NaN</td>\n",
       "      <td>NaN</td>\n",
       "      <td>NaN</td>\n",
       "      <td>Residential</td>\n",
       "      <td>سكني</td>\n",
       "      <td>1</td>\n",
       "      <td>Existing Properties</td>\n",
       "      <td>العقارات القائمة</td>\n",
       "      <td>266</td>\n",
       "      <td>Al Satwa</td>\n",
       "      <td>السطوه</td>\n",
       "      <td>NaN</td>\n",
       "      <td>NaN</td>\n",
       "      <td>NaN</td>\n",
       "      <td>NaN</td>\n",
       "      <td>NaN</td>\n",
       "      <td>NaN</td>\n",
       "      <td>NaN</td>\n",
       "      <td>NaN</td>\n",
       "      <td>NaN</td>\n",
       "      <td>0</td>\n",
       "      <td>221.02</td>\n",
       "      <td>7012.94</td>\n",
       "      <td>1550000.0</td>\n",
       "      <td>2006</td>\n",
       "      <td>8</td>\n",
       "      <td>2006-8</td>\n",
       "    </tr>\n",
       "    <tr>\n",
       "      <th>2</th>\n",
       "      <td>2003-07-21</td>\n",
       "      <td>1-11-2003-1074</td>\n",
       "      <td>1</td>\n",
       "      <td>Sales</td>\n",
       "      <td>مبايعات</td>\n",
       "      <td>11</td>\n",
       "      <td>Sell</td>\n",
       "      <td>بيع</td>\n",
       "      <td>2</td>\n",
       "      <td>Building</td>\n",
       "      <td>مبنى</td>\n",
       "      <td>NaN</td>\n",
       "      <td>NaN</td>\n",
       "      <td>NaN</td>\n",
       "      <td>Residential</td>\n",
       "      <td>سكني</td>\n",
       "      <td>1</td>\n",
       "      <td>Existing Properties</td>\n",
       "      <td>العقارات القائمة</td>\n",
       "      <td>266</td>\n",
       "      <td>Al Satwa</td>\n",
       "      <td>السطوه</td>\n",
       "      <td>NaN</td>\n",
       "      <td>NaN</td>\n",
       "      <td>NaN</td>\n",
       "      <td>NaN</td>\n",
       "      <td>NaN</td>\n",
       "      <td>NaN</td>\n",
       "      <td>NaN</td>\n",
       "      <td>NaN</td>\n",
       "      <td>NaN</td>\n",
       "      <td>0</td>\n",
       "      <td>231.70</td>\n",
       "      <td>3366.42</td>\n",
       "      <td>780000.0</td>\n",
       "      <td>2003</td>\n",
       "      <td>7</td>\n",
       "      <td>2003-7</td>\n",
       "    </tr>\n",
       "    <tr>\n",
       "      <th>3</th>\n",
       "      <td>2006-09-18</td>\n",
       "      <td>3-9-2006-300121</td>\n",
       "      <td>3</td>\n",
       "      <td>Gifts</td>\n",
       "      <td>هبات</td>\n",
       "      <td>9</td>\n",
       "      <td>Grant</td>\n",
       "      <td>هبه</td>\n",
       "      <td>1</td>\n",
       "      <td>Land</td>\n",
       "      <td>أرض</td>\n",
       "      <td>NaN</td>\n",
       "      <td>NaN</td>\n",
       "      <td>NaN</td>\n",
       "      <td>Residential</td>\n",
       "      <td>سكني</td>\n",
       "      <td>1</td>\n",
       "      <td>Existing Properties</td>\n",
       "      <td>العقارات القائمة</td>\n",
       "      <td>266</td>\n",
       "      <td>Al Satwa</td>\n",
       "      <td>السطوه</td>\n",
       "      <td>NaN</td>\n",
       "      <td>NaN</td>\n",
       "      <td>NaN</td>\n",
       "      <td>NaN</td>\n",
       "      <td>NaN</td>\n",
       "      <td>NaN</td>\n",
       "      <td>NaN</td>\n",
       "      <td>NaN</td>\n",
       "      <td>NaN</td>\n",
       "      <td>0</td>\n",
       "      <td>19.35</td>\n",
       "      <td>6459.53</td>\n",
       "      <td>124992.0</td>\n",
       "      <td>2006</td>\n",
       "      <td>9</td>\n",
       "      <td>2006-9</td>\n",
       "    </tr>\n",
       "    <tr>\n",
       "      <th>4</th>\n",
       "      <td>2021-06-23</td>\n",
       "      <td>1-11-2021-10599</td>\n",
       "      <td>1</td>\n",
       "      <td>Sales</td>\n",
       "      <td>مبايعات</td>\n",
       "      <td>11</td>\n",
       "      <td>Sell</td>\n",
       "      <td>بيع</td>\n",
       "      <td>4</td>\n",
       "      <td>Villa</td>\n",
       "      <td>فيلا</td>\n",
       "      <td>NaN</td>\n",
       "      <td>NaN</td>\n",
       "      <td>NaN</td>\n",
       "      <td>Residential</td>\n",
       "      <td>سكني</td>\n",
       "      <td>1</td>\n",
       "      <td>Existing Properties</td>\n",
       "      <td>العقارات القائمة</td>\n",
       "      <td>266</td>\n",
       "      <td>Al Satwa</td>\n",
       "      <td>السطوه</td>\n",
       "      <td>NaN</td>\n",
       "      <td>NaN</td>\n",
       "      <td>NaN</td>\n",
       "      <td>NaN</td>\n",
       "      <td>NaN</td>\n",
       "      <td>NaN</td>\n",
       "      <td>NaN</td>\n",
       "      <td>NaN</td>\n",
       "      <td>NaN</td>\n",
       "      <td>0</td>\n",
       "      <td>239.23</td>\n",
       "      <td>12540.23</td>\n",
       "      <td>3000000.0</td>\n",
       "      <td>2021</td>\n",
       "      <td>6</td>\n",
       "      <td>2021-6</td>\n",
       "    </tr>\n",
       "  </tbody>\n",
       "</table>\n",
       "</div>"
      ],
      "text/plain": [
       "  instance_date   transaction_id  trans_group_id trans_group_en  \\\n",
       "0    2015-03-26   1-11-2015-5530               1          Sales   \n",
       "1    2006-08-14   1-11-2006-1314               1          Sales   \n",
       "2    2003-07-21   1-11-2003-1074               1          Sales   \n",
       "3    2006-09-18  3-9-2006-300121               3          Gifts   \n",
       "4    2021-06-23  1-11-2021-10599               1          Sales   \n",
       "\n",
       "  trans_group_ar  procedure_id procedure_name_en procedure_name_ar  \\\n",
       "0        مبايعات            11              Sell               بيع   \n",
       "1        مبايعات            11              Sell               بيع   \n",
       "2        مبايعات            11              Sell               بيع   \n",
       "3           هبات             9             Grant               هبه   \n",
       "4        مبايعات            11              Sell               بيع   \n",
       "\n",
       "   property_type_id property_type_en property_type_ar  property_sub_type_id  \\\n",
       "0                 2         Building             مبنى                   NaN   \n",
       "1                 1             Land              أرض                   NaN   \n",
       "2                 2         Building             مبنى                   NaN   \n",
       "3                 1             Land              أرض                   NaN   \n",
       "4                 4            Villa             فيلا                   NaN   \n",
       "\n",
       "  property_sub_type_en property_sub_type_ar property_usage_en  \\\n",
       "0                  NaN                  NaN        Commercial   \n",
       "1                  NaN                  NaN       Residential   \n",
       "2                  NaN                  NaN       Residential   \n",
       "3                  NaN                  NaN       Residential   \n",
       "4                  NaN                  NaN       Residential   \n",
       "\n",
       "  property_usage_ar  reg_type_id          reg_type_en       reg_type_ar  \\\n",
       "0             تجاري            1  Existing Properties  العقارات القائمة   \n",
       "1              سكني            1  Existing Properties  العقارات القائمة   \n",
       "2              سكني            1  Existing Properties  العقارات القائمة   \n",
       "3              سكني            1  Existing Properties  العقارات القائمة   \n",
       "4              سكني            1  Existing Properties  العقارات القائمة   \n",
       "\n",
       "   area_id area_name_en area_name_ar master_project_en master_project_ar  \\\n",
       "0      266     Al Satwa       السطوه               NaN               NaN   \n",
       "1      266     Al Satwa       السطوه               NaN               NaN   \n",
       "2      266     Al Satwa       السطوه               NaN               NaN   \n",
       "3      266     Al Satwa       السطوه               NaN               NaN   \n",
       "4      266     Al Satwa       السطوه               NaN               NaN   \n",
       "\n",
       "   project_number project_name_en project_name_ar building_name_en  \\\n",
       "0             NaN             NaN             NaN              NaN   \n",
       "1             NaN             NaN             NaN              NaN   \n",
       "2             NaN             NaN             NaN              NaN   \n",
       "3             NaN             NaN             NaN              NaN   \n",
       "4             NaN             NaN             NaN              NaN   \n",
       "\n",
       "  building_name_ar rooms_en rooms_ar  has_parking  procedure_area  \\\n",
       "0              NaN      NaN      NaN            0           40.65   \n",
       "1              NaN      NaN      NaN            0          221.02   \n",
       "2              NaN      NaN      NaN            0          231.70   \n",
       "3              NaN      NaN      NaN            0           19.35   \n",
       "4              NaN      NaN      NaN            0          239.23   \n",
       "\n",
       "   meter_sale_price  actual_worth  year  month year_month  \n",
       "0          49512.99     2012703.0  2015      3     2015-3  \n",
       "1           7012.94     1550000.0  2006      8     2006-8  \n",
       "2           3366.42      780000.0  2003      7     2003-7  \n",
       "3           6459.53      124992.0  2006      9     2006-9  \n",
       "4          12540.23     3000000.0  2021      6     2021-6  "
      ]
     },
     "execution_count": 30,
     "metadata": {},
     "output_type": "execute_result"
    }
   ],
   "source": [
    "transactions_satwa.head()"
   ]
  },
  {
   "cell_type": "code",
   "execution_count": 31,
   "metadata": {},
   "outputs": [
    {
     "data": {
      "text/html": [
       "<div>\n",
       "<style scoped>\n",
       "    .dataframe tbody tr th:only-of-type {\n",
       "        vertical-align: middle;\n",
       "    }\n",
       "\n",
       "    .dataframe tbody tr th {\n",
       "        vertical-align: top;\n",
       "    }\n",
       "\n",
       "    .dataframe thead th {\n",
       "        text-align: right;\n",
       "    }\n",
       "</style>\n",
       "<table border=\"1\" class=\"dataframe\">\n",
       "  <thead>\n",
       "    <tr style=\"text-align: right;\">\n",
       "      <th></th>\n",
       "      <th>project_id</th>\n",
       "      <th>project_number</th>\n",
       "      <th>project_name</th>\n",
       "      <th>developer_id</th>\n",
       "      <th>developer_number</th>\n",
       "      <th>developer_name</th>\n",
       "      <th>master_developer_id</th>\n",
       "      <th>master_developer_number</th>\n",
       "      <th>master_developer_name</th>\n",
       "      <th>project_start_date</th>\n",
       "      <th>project_end_date</th>\n",
       "      <th>project_type_id</th>\n",
       "      <th>project_type_ar</th>\n",
       "      <th>project_classification_id</th>\n",
       "      <th>project_classification_ar</th>\n",
       "      <th>escrow_agent_id</th>\n",
       "      <th>escrow_agent_name</th>\n",
       "      <th>project_status</th>\n",
       "      <th>project_status_ar</th>\n",
       "      <th>percent_completed</th>\n",
       "      <th>completion_date</th>\n",
       "      <th>cancellation_date</th>\n",
       "      <th>project_description_ar</th>\n",
       "      <th>project_description_en</th>\n",
       "      <th>property_id</th>\n",
       "      <th>area_id</th>\n",
       "      <th>area_name_ar</th>\n",
       "      <th>area_name_en</th>\n",
       "      <th>master_project_ar</th>\n",
       "      <th>master_project_en</th>\n",
       "      <th>zoning_authority_id</th>\n",
       "      <th>zoning_authority_ar</th>\n",
       "      <th>zoning_authority_en</th>\n",
       "      <th>no_of_lands</th>\n",
       "      <th>no_of_buildings</th>\n",
       "      <th>no_of_villas</th>\n",
       "      <th>no_of_units</th>\n",
       "    </tr>\n",
       "  </thead>\n",
       "  <tbody>\n",
       "    <tr>\n",
       "      <th>0</th>\n",
       "      <td>608783969</td>\n",
       "      <td>3061</td>\n",
       "      <td>جردن أسترل</td>\n",
       "      <td>578485446.0</td>\n",
       "      <td>1831.0</td>\n",
       "      <td>مراس العقارية (ش.ذ.م.م)</td>\n",
       "      <td>1</td>\n",
       "      <td>1</td>\n",
       "      <td>مراس العقارية (ش.ذ.م.م)</td>\n",
       "      <td>01-08-2024</td>\n",
       "      <td>01-08-2026</td>\n",
       "      <td>1</td>\n",
       "      <td>عادي</td>\n",
       "      <td>1</td>\n",
       "      <td>مباني</td>\n",
       "      <td>7.0</td>\n",
       "      <td>بنك الإمارات دبي الوطني (ش.م.ع)</td>\n",
       "      <td>NOT_STARTED</td>\n",
       "      <td>تحت الانشاء</td>\n",
       "      <td>0.0</td>\n",
       "      <td>01-08-2026</td>\n",
       "      <td>NaN</td>\n",
       "      <td>G+2P+8+R</td>\n",
       "      <td>G+2P+8+R</td>\n",
       "      <td>1100229506</td>\n",
       "      <td>266.0</td>\n",
       "      <td>السطوه</td>\n",
       "      <td>Al Satwa</td>\n",
       "      <td>جميرا جاردن ستي</td>\n",
       "      <td>Jumeriah Garden City</td>\n",
       "      <td>2</td>\n",
       "      <td>سلطة دبي للتطوير</td>\n",
       "      <td>Dubai Development Authority (DDA)</td>\n",
       "      <td>0</td>\n",
       "      <td>1</td>\n",
       "      <td>0</td>\n",
       "      <td>46</td>\n",
       "    </tr>\n",
       "    <tr>\n",
       "      <th>1</th>\n",
       "      <td>611464821</td>\n",
       "      <td>3084</td>\n",
       "      <td>161 جميرا لين</td>\n",
       "      <td>33210278.0</td>\n",
       "      <td>1149.0</td>\n",
       "      <td>مراس العقارية (ش.ذ.م.م)</td>\n",
       "      <td>1</td>\n",
       "      <td>1</td>\n",
       "      <td>مراس العقارية (ش.ذ.م.م)</td>\n",
       "      <td>01-04-2024</td>\n",
       "      <td>01-03-2026</td>\n",
       "      <td>1</td>\n",
       "      <td>عادي</td>\n",
       "      <td>1</td>\n",
       "      <td>مباني</td>\n",
       "      <td>1.0</td>\n",
       "      <td>بنك دبي الاسلامي (شركة مساهمة عامة)</td>\n",
       "      <td>ACTIVE</td>\n",
       "      <td>فعال</td>\n",
       "      <td>1.0</td>\n",
       "      <td>NaN</td>\n",
       "      <td>NaN</td>\n",
       "      <td>تطوير مبنى سكني مكون من G+2P+Roof,مجموع عدد ال...</td>\n",
       "      <td>Development of (G+2P+8+Roof) Residential Build...</td>\n",
       "      <td>1100203348</td>\n",
       "      <td>266.0</td>\n",
       "      <td>السطوه</td>\n",
       "      <td>Al Satwa</td>\n",
       "      <td>جميرا جاردن ستي</td>\n",
       "      <td>Jumeriah Garden City</td>\n",
       "      <td>2</td>\n",
       "      <td>سلطة دبي للتطوير</td>\n",
       "      <td>Dubai Development Authority (DDA)</td>\n",
       "      <td>0</td>\n",
       "      <td>1</td>\n",
       "      <td>0</td>\n",
       "      <td>161</td>\n",
       "    </tr>\n",
       "    <tr>\n",
       "      <th>2</th>\n",
       "      <td>641239356</td>\n",
       "      <td>3207</td>\n",
       "      <td>حدائق مايفاير مجيد</td>\n",
       "      <td>520108999.0</td>\n",
       "      <td>1655.0</td>\n",
       "      <td>مراس العقارية (ش.ذ.م.م)</td>\n",
       "      <td>1</td>\n",
       "      <td>1</td>\n",
       "      <td>مراس العقارية (ش.ذ.م.م)</td>\n",
       "      <td>15-08-2024</td>\n",
       "      <td>14-08-2026</td>\n",
       "      <td>1</td>\n",
       "      <td>عادي</td>\n",
       "      <td>1</td>\n",
       "      <td>مباني</td>\n",
       "      <td>7.0</td>\n",
       "      <td>بنك الإمارات دبي الوطني (ش.م.ع)</td>\n",
       "      <td>NOT_STARTED</td>\n",
       "      <td>تحت الانشاء</td>\n",
       "      <td>0.0</td>\n",
       "      <td>NaN</td>\n",
       "      <td>NaN</td>\n",
       "      <td>RESIDENTIAL BUILDING G+2P+8+ROOF</td>\n",
       "      <td>RESIDENTIAL BUILDING G+2P+8+ROOF</td>\n",
       "      <td>1100204496</td>\n",
       "      <td>266.0</td>\n",
       "      <td>السطوه</td>\n",
       "      <td>Al Satwa</td>\n",
       "      <td>جميرا جاردن ستي</td>\n",
       "      <td>Jumeriah Garden City</td>\n",
       "      <td>2</td>\n",
       "      <td>سلطة دبي للتطوير</td>\n",
       "      <td>Dubai Development Authority (DDA)</td>\n",
       "      <td>0</td>\n",
       "      <td>1</td>\n",
       "      <td>0</td>\n",
       "      <td>64</td>\n",
       "    </tr>\n",
       "    <tr>\n",
       "      <th>3</th>\n",
       "      <td>603796305</td>\n",
       "      <td>3037</td>\n",
       "      <td>كورال باي فيجن</td>\n",
       "      <td>571314921.0</td>\n",
       "      <td>1806.0</td>\n",
       "      <td>مراس العقارية (ش.ذ.م.م)</td>\n",
       "      <td>1</td>\n",
       "      <td>1</td>\n",
       "      <td>مراس العقارية (ش.ذ.م.م)</td>\n",
       "      <td>15-04-2024</td>\n",
       "      <td>NaN</td>\n",
       "      <td>1</td>\n",
       "      <td>عادي</td>\n",
       "      <td>1</td>\n",
       "      <td>مباني</td>\n",
       "      <td>10985665.0</td>\n",
       "      <td>بنك الفجيره الوطنى ش م ع</td>\n",
       "      <td>PENDING</td>\n",
       "      <td>قيد التسجيل</td>\n",
       "      <td>0.0</td>\n",
       "      <td>NaN</td>\n",
       "      <td>NaN</td>\n",
       "      <td>أرضي + 2 بوديوم + 8 أدوار + سطح</td>\n",
       "      <td>Ground+2 podium+8 Floors +Roof</td>\n",
       "      <td>1100203394</td>\n",
       "      <td>266.0</td>\n",
       "      <td>السطوه</td>\n",
       "      <td>Al Satwa</td>\n",
       "      <td>جميرا جاردن ستي</td>\n",
       "      <td>Jumeriah Garden City</td>\n",
       "      <td>2</td>\n",
       "      <td>سلطة دبي للتطوير</td>\n",
       "      <td>Dubai Development Authority (DDA)</td>\n",
       "      <td>0</td>\n",
       "      <td>1</td>\n",
       "      <td>0</td>\n",
       "      <td>81</td>\n",
       "    </tr>\n",
       "    <tr>\n",
       "      <th>4</th>\n",
       "      <td>561397314</td>\n",
       "      <td>2860</td>\n",
       "      <td>هايد ووك ريزيدنس من امتياز</td>\n",
       "      <td>29075838.0</td>\n",
       "      <td>1129.0</td>\n",
       "      <td>مراس العقارية (ش.ذ.م.م)</td>\n",
       "      <td>1</td>\n",
       "      <td>1</td>\n",
       "      <td>مراس العقارية (ش.ذ.م.م)</td>\n",
       "      <td>15-12-2023</td>\n",
       "      <td>NaN</td>\n",
       "      <td>1</td>\n",
       "      <td>عادي</td>\n",
       "      <td>1</td>\n",
       "      <td>مباني</td>\n",
       "      <td>19.0</td>\n",
       "      <td>بنك أبوظبي الأول ش.م.ع.</td>\n",
       "      <td>ACTIVE</td>\n",
       "      <td>فعال</td>\n",
       "      <td>16.0</td>\n",
       "      <td>NaN</td>\n",
       "      <td>NaN</td>\n",
       "      <td>NaN</td>\n",
       "      <td>G+2P+8 Typical Floors Residential Building.The...</td>\n",
       "      <td>1100203358</td>\n",
       "      <td>266.0</td>\n",
       "      <td>السطوه</td>\n",
       "      <td>Al Satwa</td>\n",
       "      <td>جميرا جاردن ستي</td>\n",
       "      <td>Jumeriah Garden City</td>\n",
       "      <td>2</td>\n",
       "      <td>سلطة دبي للتطوير</td>\n",
       "      <td>Dubai Development Authority (DDA)</td>\n",
       "      <td>0</td>\n",
       "      <td>1</td>\n",
       "      <td>0</td>\n",
       "      <td>89</td>\n",
       "    </tr>\n",
       "  </tbody>\n",
       "</table>\n",
       "</div>"
      ],
      "text/plain": [
       "   project_id  project_number                project_name  developer_id  \\\n",
       "0   608783969            3061                  جردن أسترل   578485446.0   \n",
       "1   611464821            3084               161 جميرا لين    33210278.0   \n",
       "2   641239356            3207          حدائق مايفاير مجيد   520108999.0   \n",
       "3   603796305            3037              كورال باي فيجن   571314921.0   \n",
       "4   561397314            2860  هايد ووك ريزيدنس من امتياز    29075838.0   \n",
       "\n",
       "   developer_number           developer_name  master_developer_id  \\\n",
       "0            1831.0  مراس العقارية (ش.ذ.م.م)                    1   \n",
       "1            1149.0  مراس العقارية (ش.ذ.م.م)                    1   \n",
       "2            1655.0  مراس العقارية (ش.ذ.م.م)                    1   \n",
       "3            1806.0  مراس العقارية (ش.ذ.م.م)                    1   \n",
       "4            1129.0  مراس العقارية (ش.ذ.م.م)                    1   \n",
       "\n",
       "   master_developer_number    master_developer_name project_start_date  \\\n",
       "0                        1  مراس العقارية (ش.ذ.م.م)         01-08-2024   \n",
       "1                        1  مراس العقارية (ش.ذ.م.م)         01-04-2024   \n",
       "2                        1  مراس العقارية (ش.ذ.م.م)         15-08-2024   \n",
       "3                        1  مراس العقارية (ش.ذ.م.م)         15-04-2024   \n",
       "4                        1  مراس العقارية (ش.ذ.م.م)         15-12-2023   \n",
       "\n",
       "  project_end_date  project_type_id project_type_ar  \\\n",
       "0       01-08-2026                1            عادي   \n",
       "1       01-03-2026                1            عادي   \n",
       "2       14-08-2026                1            عادي   \n",
       "3              NaN                1            عادي   \n",
       "4              NaN                1            عادي   \n",
       "\n",
       "   project_classification_id project_classification_ar  escrow_agent_id  \\\n",
       "0                          1                     مباني              7.0   \n",
       "1                          1                     مباني              1.0   \n",
       "2                          1                     مباني              7.0   \n",
       "3                          1                     مباني       10985665.0   \n",
       "4                          1                     مباني             19.0   \n",
       "\n",
       "                     escrow_agent_name project_status project_status_ar  \\\n",
       "0      بنك الإمارات دبي الوطني (ش.م.ع)    NOT_STARTED       تحت الانشاء   \n",
       "1  بنك دبي الاسلامي (شركة مساهمة عامة)         ACTIVE              فعال   \n",
       "2      بنك الإمارات دبي الوطني (ش.م.ع)    NOT_STARTED       تحت الانشاء   \n",
       "3             بنك الفجيره الوطنى ش م ع        PENDING       قيد التسجيل   \n",
       "4              بنك أبوظبي الأول ش.م.ع.         ACTIVE              فعال   \n",
       "\n",
       "   percent_completed completion_date  cancellation_date  \\\n",
       "0                0.0      01-08-2026                NaN   \n",
       "1                1.0             NaN                NaN   \n",
       "2                0.0             NaN                NaN   \n",
       "3                0.0             NaN                NaN   \n",
       "4               16.0             NaN                NaN   \n",
       "\n",
       "                              project_description_ar  \\\n",
       "0                                           G+2P+8+R   \n",
       "1  تطوير مبنى سكني مكون من G+2P+Roof,مجموع عدد ال...   \n",
       "2                   RESIDENTIAL BUILDING G+2P+8+ROOF   \n",
       "3                    أرضي + 2 بوديوم + 8 أدوار + سطح   \n",
       "4                                                NaN   \n",
       "\n",
       "                              project_description_en  property_id  area_id  \\\n",
       "0                                           G+2P+8+R   1100229506    266.0   \n",
       "1  Development of (G+2P+8+Roof) Residential Build...   1100203348    266.0   \n",
       "2                   RESIDENTIAL BUILDING G+2P+8+ROOF   1100204496    266.0   \n",
       "3                     Ground+2 podium+8 Floors +Roof   1100203394    266.0   \n",
       "4  G+2P+8 Typical Floors Residential Building.The...   1100203358    266.0   \n",
       "\n",
       "  area_name_ar area_name_en master_project_ar     master_project_en  \\\n",
       "0       السطوه     Al Satwa   جميرا جاردن ستي  Jumeriah Garden City   \n",
       "1       السطوه     Al Satwa   جميرا جاردن ستي  Jumeriah Garden City   \n",
       "2       السطوه     Al Satwa   جميرا جاردن ستي  Jumeriah Garden City   \n",
       "3       السطوه     Al Satwa   جميرا جاردن ستي  Jumeriah Garden City   \n",
       "4       السطوه     Al Satwa   جميرا جاردن ستي  Jumeriah Garden City   \n",
       "\n",
       "   zoning_authority_id zoning_authority_ar                zoning_authority_en  \\\n",
       "0                    2    سلطة دبي للتطوير  Dubai Development Authority (DDA)   \n",
       "1                    2    سلطة دبي للتطوير  Dubai Development Authority (DDA)   \n",
       "2                    2    سلطة دبي للتطوير  Dubai Development Authority (DDA)   \n",
       "3                    2    سلطة دبي للتطوير  Dubai Development Authority (DDA)   \n",
       "4                    2    سلطة دبي للتطوير  Dubai Development Authority (DDA)   \n",
       "\n",
       "   no_of_lands  no_of_buildings  no_of_villas  no_of_units  \n",
       "0            0                1             0           46  \n",
       "1            0                1             0          161  \n",
       "2            0                1             0           64  \n",
       "3            0                1             0           81  \n",
       "4            0                1             0           89  "
      ]
     },
     "execution_count": 31,
     "metadata": {},
     "output_type": "execute_result"
    }
   ],
   "source": [
    "projects_satwa.head()"
   ]
  },
  {
   "cell_type": "code",
   "execution_count": 33,
   "metadata": {},
   "outputs": [
    {
     "data": {
      "text/html": [
       "<div>\n",
       "<style scoped>\n",
       "    .dataframe tbody tr th:only-of-type {\n",
       "        vertical-align: middle;\n",
       "    }\n",
       "\n",
       "    .dataframe tbody tr th {\n",
       "        vertical-align: top;\n",
       "    }\n",
       "\n",
       "    .dataframe thead th {\n",
       "        text-align: right;\n",
       "    }\n",
       "</style>\n",
       "<table border=\"1\" class=\"dataframe\">\n",
       "  <thead>\n",
       "    <tr style=\"text-align: right;\">\n",
       "      <th></th>\n",
       "      <th>project_id</th>\n",
       "      <th>project_number</th>\n",
       "      <th>project_name</th>\n",
       "      <th>developer_id</th>\n",
       "      <th>developer_number</th>\n",
       "      <th>developer_name</th>\n",
       "      <th>master_developer_id</th>\n",
       "      <th>master_developer_number</th>\n",
       "      <th>master_developer_name</th>\n",
       "      <th>project_start_date</th>\n",
       "      <th>project_end_date</th>\n",
       "      <th>project_type_id</th>\n",
       "      <th>project_type_ar</th>\n",
       "      <th>project_classification_id</th>\n",
       "      <th>project_classification_ar</th>\n",
       "      <th>escrow_agent_id</th>\n",
       "      <th>escrow_agent_name</th>\n",
       "      <th>project_status</th>\n",
       "      <th>project_status_ar</th>\n",
       "      <th>percent_completed</th>\n",
       "      <th>completion_date</th>\n",
       "      <th>cancellation_date</th>\n",
       "      <th>project_description_ar</th>\n",
       "      <th>project_description_en</th>\n",
       "      <th>property_id</th>\n",
       "      <th>area_id</th>\n",
       "      <th>area_name_ar</th>\n",
       "      <th>area_name_en</th>\n",
       "      <th>master_project_ar</th>\n",
       "      <th>master_project_en</th>\n",
       "      <th>zoning_authority_id</th>\n",
       "      <th>zoning_authority_ar</th>\n",
       "      <th>zoning_authority_en</th>\n",
       "      <th>no_of_lands</th>\n",
       "      <th>no_of_buildings</th>\n",
       "      <th>no_of_villas</th>\n",
       "      <th>no_of_units</th>\n",
       "    </tr>\n",
       "  </thead>\n",
       "  <tbody>\n",
       "    <tr>\n",
       "      <th>4</th>\n",
       "      <td>561397314</td>\n",
       "      <td>2860</td>\n",
       "      <td>هايد ووك ريزيدنس من امتياز</td>\n",
       "      <td>29075838.0</td>\n",
       "      <td>1129.0</td>\n",
       "      <td>مراس العقارية (ش.ذ.م.م)</td>\n",
       "      <td>1</td>\n",
       "      <td>1</td>\n",
       "      <td>مراس العقارية (ش.ذ.م.م)</td>\n",
       "      <td>15-12-2023</td>\n",
       "      <td>NaN</td>\n",
       "      <td>1</td>\n",
       "      <td>عادي</td>\n",
       "      <td>1</td>\n",
       "      <td>مباني</td>\n",
       "      <td>19.0</td>\n",
       "      <td>بنك أبوظبي الأول ش.م.ع.</td>\n",
       "      <td>ACTIVE</td>\n",
       "      <td>فعال</td>\n",
       "      <td>16.0</td>\n",
       "      <td>NaN</td>\n",
       "      <td>NaN</td>\n",
       "      <td>NaN</td>\n",
       "      <td>G+2P+8 Typical Floors Residential Building.The...</td>\n",
       "      <td>1100203358</td>\n",
       "      <td>266.0</td>\n",
       "      <td>السطوه</td>\n",
       "      <td>Al Satwa</td>\n",
       "      <td>جميرا جاردن ستي</td>\n",
       "      <td>Jumeriah Garden City</td>\n",
       "      <td>2</td>\n",
       "      <td>سلطة دبي للتطوير</td>\n",
       "      <td>Dubai Development Authority (DDA)</td>\n",
       "      <td>0</td>\n",
       "      <td>1</td>\n",
       "      <td>0</td>\n",
       "      <td>89</td>\n",
       "    </tr>\n",
       "  </tbody>\n",
       "</table>\n",
       "</div>"
      ],
      "text/plain": [
       "   project_id  project_number                project_name  developer_id  \\\n",
       "4   561397314            2860  هايد ووك ريزيدنس من امتياز    29075838.0   \n",
       "\n",
       "   developer_number           developer_name  master_developer_id  \\\n",
       "4            1129.0  مراس العقارية (ش.ذ.م.م)                    1   \n",
       "\n",
       "   master_developer_number    master_developer_name project_start_date  \\\n",
       "4                        1  مراس العقارية (ش.ذ.م.م)         15-12-2023   \n",
       "\n",
       "  project_end_date  project_type_id project_type_ar  \\\n",
       "4              NaN                1            عادي   \n",
       "\n",
       "   project_classification_id project_classification_ar  escrow_agent_id  \\\n",
       "4                          1                     مباني             19.0   \n",
       "\n",
       "         escrow_agent_name project_status project_status_ar  \\\n",
       "4  بنك أبوظبي الأول ش.م.ع.         ACTIVE              فعال   \n",
       "\n",
       "   percent_completed completion_date  cancellation_date  \\\n",
       "4               16.0             NaN                NaN   \n",
       "\n",
       "  project_description_ar                             project_description_en  \\\n",
       "4                    NaN  G+2P+8 Typical Floors Residential Building.The...   \n",
       "\n",
       "   property_id  area_id area_name_ar area_name_en master_project_ar  \\\n",
       "4   1100203358    266.0       السطوه     Al Satwa   جميرا جاردن ستي   \n",
       "\n",
       "      master_project_en  zoning_authority_id zoning_authority_ar  \\\n",
       "4  Jumeriah Garden City                    2    سلطة دبي للتطوير   \n",
       "\n",
       "                 zoning_authority_en  no_of_lands  no_of_buildings  \\\n",
       "4  Dubai Development Authority (DDA)            0                1   \n",
       "\n",
       "   no_of_villas  no_of_units  \n",
       "4             0           89  "
      ]
     },
     "execution_count": 33,
     "metadata": {},
     "output_type": "execute_result"
    }
   ],
   "source": [
    "projects_satwa[projects_satwa['project_name'].str.contains('هايد ووك')]"
   ]
  },
  {
   "cell_type": "code",
   "execution_count": null,
   "metadata": {},
   "outputs": [],
   "source": []
  }
 ],
 "metadata": {
  "kernelspec": {
   "display_name": "base",
   "language": "python",
   "name": "python3"
  },
  "language_info": {
   "codemirror_mode": {
    "name": "ipython",
    "version": 3
   },
   "file_extension": ".py",
   "mimetype": "text/x-python",
   "name": "python",
   "nbconvert_exporter": "python",
   "pygments_lexer": "ipython3",
   "version": "3.11.0"
  }
 },
 "nbformat": 4,
 "nbformat_minor": 2
}
