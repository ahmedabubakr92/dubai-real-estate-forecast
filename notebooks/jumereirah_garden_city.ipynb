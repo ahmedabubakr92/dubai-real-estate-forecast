{
 "cells": [
  {
   "cell_type": "markdown",
   "metadata": {},
   "source": [
    "# Jumereirah Garden City"
   ]
  },
  {
   "cell_type": "markdown",
   "metadata": {},
   "source": [
    "## Objective\n",
    "\n",
    "The objective of this analysis is to gain insights into the **Dubai real estate market** by analyzing key datasets such as **transactions**, **rent contracts**, **valuations**, **projects**, **units**, and **buildings**. The goal is to create a comprehensive model that predicts future property prices and rental yields, offering valuable insights for potential buyers, investors, and stakeholders.\n",
    "\n",
    "## What I Will Provide\n",
    "\n",
    "1. **Data Exploration and Cleaning**: I will thoroughly explore the datasets, clean the data by handling missing values, and remove irrelevant columns.\n",
    "   \n",
    "2. **Data Integration**: After filtering and cleaning the **transactions dataset**, I will integrate additional datasets like **rent contracts**, **valuations**, **projects**, **units**, and **buildings** to enrich the analysis.\n",
    "\n",
    "3. **Feature Engineering**: I will create and engineer new features that contribute to improving the forecasting model, focusing on property type, location, project details, and other relevant variables.\n",
    "\n",
    "4. **Model Development**: I will develop a model to forecast future property prices, leveraging the clean and enriched data from all relevant datasets.\n",
    "\n",
    "5. **Actionable Insights**: The end result will provide actionable insights for stakeholders, offering forecasts of property prices and rental yields, and allowing better decision-making for real estate investments in Dubai.\n",
    "\n",
    "### Step 1: Begin with the Transactions Dataset\n",
    "\n",
    "In this first step, I will focus on the **transactions dataset**. The goal is to filter and clean the data to retain only relevant information that will contribute to our objective. Once the transactions dataset is prepared, I will gradually integrate other datasets to enrich the analysis."
   ]
  },
  {
   "cell_type": "code",
   "execution_count": 1,
   "metadata": {},
   "outputs": [],
   "source": [
    "import numpy as np\n",
    "import pandas as pd\n",
    "import matplotlib.pyplot as plt\n",
    "import seaborn as sns\n",
    "import plotly.express as px\n",
    "import plotly.graph_objects as go"
   ]
  },
  {
   "cell_type": "code",
   "execution_count": 2,
   "metadata": {},
   "outputs": [],
   "source": [
    "# Loading transactions dataset\n",
    "transactions = pd.read_csv('../data/raw/transactions.csv')"
   ]
  },
  {
   "cell_type": "code",
   "execution_count": 5,
   "metadata": {},
   "outputs": [],
   "source": [
    "# Enable displaying of all columns and rows\n",
    "pd.set_option('display.max_columns', None)\n",
    "pd.set_option('display.max_rows', None)"
   ]
  },
  {
   "cell_type": "code",
   "execution_count": 6,
   "metadata": {},
   "outputs": [
    {
     "name": "stdout",
     "output_type": "stream",
     "text": [
      "<class 'pandas.core.frame.DataFrame'>\n",
      "RangeIndex: 1314126 entries, 0 to 1314125\n",
      "Data columns (total 46 columns):\n",
      " #   Column                Non-Null Count    Dtype  \n",
      "---  ------                --------------    -----  \n",
      " 0   transaction_id        1314126 non-null  object \n",
      " 1   procedure_id          1314126 non-null  int64  \n",
      " 2   trans_group_id        1314126 non-null  int64  \n",
      " 3   trans_group_ar        1314126 non-null  object \n",
      " 4   trans_group_en        1314126 non-null  object \n",
      " 5   procedure_name_ar     1314126 non-null  object \n",
      " 6   procedure_name_en     1314126 non-null  object \n",
      " 7   instance_date         1314126 non-null  object \n",
      " 8   property_type_id      1314126 non-null  int64  \n",
      " 9   property_type_ar      1314126 non-null  object \n",
      " 10  property_type_en      1314126 non-null  object \n",
      " 11  property_sub_type_id  1029207 non-null  float64\n",
      " 12  property_sub_type_ar  1029207 non-null  object \n",
      " 13  property_sub_type_en  1029207 non-null  object \n",
      " 14  property_usage_ar     1314126 non-null  object \n",
      " 15  property_usage_en     1314126 non-null  object \n",
      " 16  reg_type_id           1314126 non-null  int64  \n",
      " 17  reg_type_ar           1314126 non-null  object \n",
      " 18  reg_type_en           1314126 non-null  object \n",
      " 19  area_id               1314126 non-null  int64  \n",
      " 20  area_name_ar          1314126 non-null  object \n",
      " 21  area_name_en          1314126 non-null  object \n",
      " 22  building_name_ar      913092 non-null   object \n",
      " 23  building_name_en      913516 non-null   object \n",
      " 24  project_number        899566 non-null   float64\n",
      " 25  project_name_ar       899566 non-null   object \n",
      " 26  project_name_en       899566 non-null   object \n",
      " 27  master_project_en     1077119 non-null  object \n",
      " 28  master_project_ar     1077067 non-null  object \n",
      " 29  nearest_landmark_ar   1110153 non-null  object \n",
      " 30  nearest_landmark_en   1110153 non-null  object \n",
      " 31  nearest_metro_ar      970593 non-null   object \n",
      " 32  nearest_metro_en      970593 non-null   object \n",
      " 33  nearest_mall_ar       964798 non-null   object \n",
      " 34  nearest_mall_en       964798 non-null   object \n",
      " 35  rooms_ar              1011201 non-null  object \n",
      " 36  rooms_en              1011201 non-null  object \n",
      " 37  has_parking           1314126 non-null  int64  \n",
      " 38  procedure_area        1314126 non-null  float64\n",
      " 39  actual_worth          1314126 non-null  float64\n",
      " 40  meter_sale_price      1314126 non-null  float64\n",
      " 41  rent_value            35081 non-null    float64\n",
      " 42  meter_rent_price      35081 non-null    float64\n",
      " 43  no_of_parties_role_1  1313201 non-null  float64\n",
      " 44  no_of_parties_role_2  1313201 non-null  float64\n",
      " 45  no_of_parties_role_3  1313201 non-null  float64\n",
      "dtypes: float64(10), int64(6), object(30)\n",
      "memory usage: 461.2+ MB\n"
     ]
    }
   ],
   "source": [
    "# Information about transactions dataset\n",
    "transactions.info()"
   ]
  },
  {
   "cell_type": "code",
   "execution_count": 7,
   "metadata": {},
   "outputs": [
    {
     "data": {
      "text/html": [
       "<div>\n",
       "<style scoped>\n",
       "    .dataframe tbody tr th:only-of-type {\n",
       "        vertical-align: middle;\n",
       "    }\n",
       "\n",
       "    .dataframe tbody tr th {\n",
       "        vertical-align: top;\n",
       "    }\n",
       "\n",
       "    .dataframe thead th {\n",
       "        text-align: right;\n",
       "    }\n",
       "</style>\n",
       "<table border=\"1\" class=\"dataframe\">\n",
       "  <thead>\n",
       "    <tr style=\"text-align: right;\">\n",
       "      <th></th>\n",
       "      <th>transaction_id</th>\n",
       "      <th>procedure_id</th>\n",
       "      <th>trans_group_id</th>\n",
       "      <th>trans_group_ar</th>\n",
       "      <th>trans_group_en</th>\n",
       "      <th>procedure_name_ar</th>\n",
       "      <th>procedure_name_en</th>\n",
       "      <th>instance_date</th>\n",
       "      <th>property_type_id</th>\n",
       "      <th>property_type_ar</th>\n",
       "      <th>property_type_en</th>\n",
       "      <th>property_sub_type_id</th>\n",
       "      <th>property_sub_type_ar</th>\n",
       "      <th>property_sub_type_en</th>\n",
       "      <th>property_usage_ar</th>\n",
       "      <th>property_usage_en</th>\n",
       "      <th>reg_type_id</th>\n",
       "      <th>reg_type_ar</th>\n",
       "      <th>reg_type_en</th>\n",
       "      <th>area_id</th>\n",
       "      <th>area_name_ar</th>\n",
       "      <th>area_name_en</th>\n",
       "      <th>building_name_ar</th>\n",
       "      <th>building_name_en</th>\n",
       "      <th>project_number</th>\n",
       "      <th>project_name_ar</th>\n",
       "      <th>project_name_en</th>\n",
       "      <th>master_project_en</th>\n",
       "      <th>master_project_ar</th>\n",
       "      <th>nearest_landmark_ar</th>\n",
       "      <th>nearest_landmark_en</th>\n",
       "      <th>nearest_metro_ar</th>\n",
       "      <th>nearest_metro_en</th>\n",
       "      <th>nearest_mall_ar</th>\n",
       "      <th>nearest_mall_en</th>\n",
       "      <th>rooms_ar</th>\n",
       "      <th>rooms_en</th>\n",
       "      <th>has_parking</th>\n",
       "      <th>procedure_area</th>\n",
       "      <th>actual_worth</th>\n",
       "      <th>meter_sale_price</th>\n",
       "      <th>rent_value</th>\n",
       "      <th>meter_rent_price</th>\n",
       "      <th>no_of_parties_role_1</th>\n",
       "      <th>no_of_parties_role_2</th>\n",
       "      <th>no_of_parties_role_3</th>\n",
       "    </tr>\n",
       "  </thead>\n",
       "  <tbody>\n",
       "    <tr>\n",
       "      <th>0</th>\n",
       "      <td>1-11-2018-8205</td>\n",
       "      <td>11</td>\n",
       "      <td>1</td>\n",
       "      <td>مبايعات</td>\n",
       "      <td>Sales</td>\n",
       "      <td>بيع</td>\n",
       "      <td>Sell</td>\n",
       "      <td>13-08-2018</td>\n",
       "      <td>4</td>\n",
       "      <td>فيلا</td>\n",
       "      <td>Villa</td>\n",
       "      <td>NaN</td>\n",
       "      <td>NaN</td>\n",
       "      <td>NaN</td>\n",
       "      <td>أخرى</td>\n",
       "      <td>Other</td>\n",
       "      <td>1</td>\n",
       "      <td>العقارات القائمة</td>\n",
       "      <td>Existing Properties</td>\n",
       "      <td>278</td>\n",
       "      <td>منخول</td>\n",
       "      <td>Mankhool</td>\n",
       "      <td>NaN</td>\n",
       "      <td>NaN</td>\n",
       "      <td>NaN</td>\n",
       "      <td>NaN</td>\n",
       "      <td>NaN</td>\n",
       "      <td>NaN</td>\n",
       "      <td>NaN</td>\n",
       "      <td>برج خليفة</td>\n",
       "      <td>Burj Khalifa</td>\n",
       "      <td>محطة مترو بنك أبوظبي التجاري</td>\n",
       "      <td>ADCB Metro Station</td>\n",
       "      <td>مول دبي</td>\n",
       "      <td>Dubai Mall</td>\n",
       "      <td>NaN</td>\n",
       "      <td>NaN</td>\n",
       "      <td>0</td>\n",
       "      <td>34.41</td>\n",
       "      <td>165000.0</td>\n",
       "      <td>4795.12</td>\n",
       "      <td>NaN</td>\n",
       "      <td>NaN</td>\n",
       "      <td>1.0</td>\n",
       "      <td>2.0</td>\n",
       "      <td>0.0</td>\n",
       "    </tr>\n",
       "    <tr>\n",
       "      <th>1</th>\n",
       "      <td>1-11-2016-12930</td>\n",
       "      <td>11</td>\n",
       "      <td>1</td>\n",
       "      <td>مبايعات</td>\n",
       "      <td>Sales</td>\n",
       "      <td>بيع</td>\n",
       "      <td>Sell</td>\n",
       "      <td>02-11-2016</td>\n",
       "      <td>4</td>\n",
       "      <td>فيلا</td>\n",
       "      <td>Villa</td>\n",
       "      <td>NaN</td>\n",
       "      <td>NaN</td>\n",
       "      <td>NaN</td>\n",
       "      <td>سكني</td>\n",
       "      <td>Residential</td>\n",
       "      <td>1</td>\n",
       "      <td>العقارات القائمة</td>\n",
       "      <td>Existing Properties</td>\n",
       "      <td>276</td>\n",
       "      <td>البدع</td>\n",
       "      <td>Al Bada</td>\n",
       "      <td>NaN</td>\n",
       "      <td>NaN</td>\n",
       "      <td>NaN</td>\n",
       "      <td>NaN</td>\n",
       "      <td>NaN</td>\n",
       "      <td>NaN</td>\n",
       "      <td>NaN</td>\n",
       "      <td>برج خليفة</td>\n",
       "      <td>Burj Khalifa</td>\n",
       "      <td>محطة مترو أبراج الإمارات</td>\n",
       "      <td>Emirates Towers Metro Station</td>\n",
       "      <td>مول دبي</td>\n",
       "      <td>Dubai Mall</td>\n",
       "      <td>NaN</td>\n",
       "      <td>NaN</td>\n",
       "      <td>0</td>\n",
       "      <td>390.00</td>\n",
       "      <td>2089900.0</td>\n",
       "      <td>5358.72</td>\n",
       "      <td>NaN</td>\n",
       "      <td>NaN</td>\n",
       "      <td>1.0</td>\n",
       "      <td>1.0</td>\n",
       "      <td>0.0</td>\n",
       "    </tr>\n",
       "    <tr>\n",
       "      <th>2</th>\n",
       "      <td>1-11-2016-13524</td>\n",
       "      <td>11</td>\n",
       "      <td>1</td>\n",
       "      <td>مبايعات</td>\n",
       "      <td>Sales</td>\n",
       "      <td>بيع</td>\n",
       "      <td>Sell</td>\n",
       "      <td>15-11-2016</td>\n",
       "      <td>4</td>\n",
       "      <td>فيلا</td>\n",
       "      <td>Villa</td>\n",
       "      <td>NaN</td>\n",
       "      <td>NaN</td>\n",
       "      <td>NaN</td>\n",
       "      <td>أخرى</td>\n",
       "      <td>Other</td>\n",
       "      <td>1</td>\n",
       "      <td>العقارات القائمة</td>\n",
       "      <td>Existing Properties</td>\n",
       "      <td>276</td>\n",
       "      <td>البدع</td>\n",
       "      <td>Al Bada</td>\n",
       "      <td>NaN</td>\n",
       "      <td>NaN</td>\n",
       "      <td>NaN</td>\n",
       "      <td>NaN</td>\n",
       "      <td>NaN</td>\n",
       "      <td>NaN</td>\n",
       "      <td>NaN</td>\n",
       "      <td>برج خليفة</td>\n",
       "      <td>Burj Khalifa</td>\n",
       "      <td>محطة مترو أبراج الإمارات</td>\n",
       "      <td>Emirates Towers Metro Station</td>\n",
       "      <td>مول دبي</td>\n",
       "      <td>Dubai Mall</td>\n",
       "      <td>NaN</td>\n",
       "      <td>NaN</td>\n",
       "      <td>0</td>\n",
       "      <td>278.71</td>\n",
       "      <td>2800000.0</td>\n",
       "      <td>10046.28</td>\n",
       "      <td>NaN</td>\n",
       "      <td>NaN</td>\n",
       "      <td>1.0</td>\n",
       "      <td>1.0</td>\n",
       "      <td>0.0</td>\n",
       "    </tr>\n",
       "    <tr>\n",
       "      <th>3</th>\n",
       "      <td>2-13-2014-4939</td>\n",
       "      <td>13</td>\n",
       "      <td>2</td>\n",
       "      <td>رهون</td>\n",
       "      <td>Mortgages</td>\n",
       "      <td>تسجيل رهن</td>\n",
       "      <td>Mortgage Registration</td>\n",
       "      <td>23-06-2014</td>\n",
       "      <td>4</td>\n",
       "      <td>فيلا</td>\n",
       "      <td>Villa</td>\n",
       "      <td>NaN</td>\n",
       "      <td>NaN</td>\n",
       "      <td>NaN</td>\n",
       "      <td>تجاري</td>\n",
       "      <td>Commercial</td>\n",
       "      <td>1</td>\n",
       "      <td>العقارات القائمة</td>\n",
       "      <td>Existing Properties</td>\n",
       "      <td>276</td>\n",
       "      <td>البدع</td>\n",
       "      <td>Al Bada</td>\n",
       "      <td>NaN</td>\n",
       "      <td>NaN</td>\n",
       "      <td>NaN</td>\n",
       "      <td>NaN</td>\n",
       "      <td>NaN</td>\n",
       "      <td>NaN</td>\n",
       "      <td>NaN</td>\n",
       "      <td>برج خليفة</td>\n",
       "      <td>Burj Khalifa</td>\n",
       "      <td>محطة مترو المركز التجاري</td>\n",
       "      <td>Trade Centre Metro Station</td>\n",
       "      <td>مول دبي</td>\n",
       "      <td>Dubai Mall</td>\n",
       "      <td>NaN</td>\n",
       "      <td>NaN</td>\n",
       "      <td>0</td>\n",
       "      <td>16952.94</td>\n",
       "      <td>12000000.0</td>\n",
       "      <td>707.84</td>\n",
       "      <td>NaN</td>\n",
       "      <td>NaN</td>\n",
       "      <td>1.0</td>\n",
       "      <td>1.0</td>\n",
       "      <td>0.0</td>\n",
       "    </tr>\n",
       "    <tr>\n",
       "      <th>4</th>\n",
       "      <td>1-11-2002-81</td>\n",
       "      <td>11</td>\n",
       "      <td>1</td>\n",
       "      <td>مبايعات</td>\n",
       "      <td>Sales</td>\n",
       "      <td>بيع</td>\n",
       "      <td>Sell</td>\n",
       "      <td>14-01-2002</td>\n",
       "      <td>2</td>\n",
       "      <td>مبنى</td>\n",
       "      <td>Building</td>\n",
       "      <td>NaN</td>\n",
       "      <td>NaN</td>\n",
       "      <td>NaN</td>\n",
       "      <td>تجاري</td>\n",
       "      <td>Commercial</td>\n",
       "      <td>1</td>\n",
       "      <td>العقارات القائمة</td>\n",
       "      <td>Existing Properties</td>\n",
       "      <td>271</td>\n",
       "      <td>الكرامه</td>\n",
       "      <td>Al Karama</td>\n",
       "      <td>NaN</td>\n",
       "      <td>NaN</td>\n",
       "      <td>NaN</td>\n",
       "      <td>NaN</td>\n",
       "      <td>NaN</td>\n",
       "      <td>NaN</td>\n",
       "      <td>NaN</td>\n",
       "      <td>مطار دبي الدولي</td>\n",
       "      <td>Dubai International Airport</td>\n",
       "      <td>محطة مترو بنك أبوظبي التجاري</td>\n",
       "      <td>ADCB Metro Station</td>\n",
       "      <td>مول دبي</td>\n",
       "      <td>Dubai Mall</td>\n",
       "      <td>NaN</td>\n",
       "      <td>NaN</td>\n",
       "      <td>0</td>\n",
       "      <td>232.26</td>\n",
       "      <td>1500000.0</td>\n",
       "      <td>6458.28</td>\n",
       "      <td>NaN</td>\n",
       "      <td>NaN</td>\n",
       "      <td>2.0</td>\n",
       "      <td>1.0</td>\n",
       "      <td>0.0</td>\n",
       "    </tr>\n",
       "  </tbody>\n",
       "</table>\n",
       "</div>"
      ],
      "text/plain": [
       "    transaction_id  procedure_id  trans_group_id trans_group_ar  \\\n",
       "0   1-11-2018-8205            11               1        مبايعات   \n",
       "1  1-11-2016-12930            11               1        مبايعات   \n",
       "2  1-11-2016-13524            11               1        مبايعات   \n",
       "3   2-13-2014-4939            13               2           رهون   \n",
       "4     1-11-2002-81            11               1        مبايعات   \n",
       "\n",
       "  trans_group_en procedure_name_ar      procedure_name_en instance_date  \\\n",
       "0          Sales               بيع                   Sell    13-08-2018   \n",
       "1          Sales               بيع                   Sell    02-11-2016   \n",
       "2          Sales               بيع                   Sell    15-11-2016   \n",
       "3      Mortgages         تسجيل رهن  Mortgage Registration    23-06-2014   \n",
       "4          Sales               بيع                   Sell    14-01-2002   \n",
       "\n",
       "   property_type_id property_type_ar property_type_en  property_sub_type_id  \\\n",
       "0                 4             فيلا            Villa                   NaN   \n",
       "1                 4             فيلا            Villa                   NaN   \n",
       "2                 4             فيلا            Villa                   NaN   \n",
       "3                 4             فيلا            Villa                   NaN   \n",
       "4                 2             مبنى         Building                   NaN   \n",
       "\n",
       "  property_sub_type_ar property_sub_type_en property_usage_ar  \\\n",
       "0                  NaN                  NaN              أخرى   \n",
       "1                  NaN                  NaN              سكني   \n",
       "2                  NaN                  NaN              أخرى   \n",
       "3                  NaN                  NaN             تجاري   \n",
       "4                  NaN                  NaN             تجاري   \n",
       "\n",
       "  property_usage_en  reg_type_id       reg_type_ar          reg_type_en  \\\n",
       "0             Other            1  العقارات القائمة  Existing Properties   \n",
       "1       Residential            1  العقارات القائمة  Existing Properties   \n",
       "2             Other            1  العقارات القائمة  Existing Properties   \n",
       "3        Commercial            1  العقارات القائمة  Existing Properties   \n",
       "4        Commercial            1  العقارات القائمة  Existing Properties   \n",
       "\n",
       "   area_id area_name_ar area_name_en building_name_ar building_name_en  \\\n",
       "0      278        منخول     Mankhool              NaN              NaN   \n",
       "1      276        البدع      Al Bada              NaN              NaN   \n",
       "2      276        البدع      Al Bada              NaN              NaN   \n",
       "3      276        البدع      Al Bada              NaN              NaN   \n",
       "4      271      الكرامه    Al Karama              NaN              NaN   \n",
       "\n",
       "   project_number project_name_ar project_name_en master_project_en  \\\n",
       "0             NaN             NaN             NaN               NaN   \n",
       "1             NaN             NaN             NaN               NaN   \n",
       "2             NaN             NaN             NaN               NaN   \n",
       "3             NaN             NaN             NaN               NaN   \n",
       "4             NaN             NaN             NaN               NaN   \n",
       "\n",
       "  master_project_ar nearest_landmark_ar          nearest_landmark_en  \\\n",
       "0               NaN           برج خليفة                 Burj Khalifa   \n",
       "1               NaN           برج خليفة                 Burj Khalifa   \n",
       "2               NaN           برج خليفة                 Burj Khalifa   \n",
       "3               NaN           برج خليفة                 Burj Khalifa   \n",
       "4               NaN     مطار دبي الدولي  Dubai International Airport   \n",
       "\n",
       "               nearest_metro_ar               nearest_metro_en  \\\n",
       "0  محطة مترو بنك أبوظبي التجاري             ADCB Metro Station   \n",
       "1      محطة مترو أبراج الإمارات  Emirates Towers Metro Station   \n",
       "2      محطة مترو أبراج الإمارات  Emirates Towers Metro Station   \n",
       "3      محطة مترو المركز التجاري     Trade Centre Metro Station   \n",
       "4  محطة مترو بنك أبوظبي التجاري             ADCB Metro Station   \n",
       "\n",
       "  nearest_mall_ar nearest_mall_en rooms_ar rooms_en  has_parking  \\\n",
       "0         مول دبي      Dubai Mall      NaN      NaN            0   \n",
       "1         مول دبي      Dubai Mall      NaN      NaN            0   \n",
       "2         مول دبي      Dubai Mall      NaN      NaN            0   \n",
       "3         مول دبي      Dubai Mall      NaN      NaN            0   \n",
       "4         مول دبي      Dubai Mall      NaN      NaN            0   \n",
       "\n",
       "   procedure_area  actual_worth  meter_sale_price  rent_value  \\\n",
       "0           34.41      165000.0           4795.12         NaN   \n",
       "1          390.00     2089900.0           5358.72         NaN   \n",
       "2          278.71     2800000.0          10046.28         NaN   \n",
       "3        16952.94    12000000.0            707.84         NaN   \n",
       "4          232.26     1500000.0           6458.28         NaN   \n",
       "\n",
       "   meter_rent_price  no_of_parties_role_1  no_of_parties_role_2  \\\n",
       "0               NaN                   1.0                   2.0   \n",
       "1               NaN                   1.0                   1.0   \n",
       "2               NaN                   1.0                   1.0   \n",
       "3               NaN                   1.0                   1.0   \n",
       "4               NaN                   2.0                   1.0   \n",
       "\n",
       "   no_of_parties_role_3  \n",
       "0                   0.0  \n",
       "1                   0.0  \n",
       "2                   0.0  \n",
       "3                   0.0  \n",
       "4                   0.0  "
      ]
     },
     "execution_count": 7,
     "metadata": {},
     "output_type": "execute_result"
    }
   ],
   "source": [
    "# Displaying first 5 rows of transactions dataset\n",
    "transactions.head()"
   ]
  },
  {
   "cell_type": "code",
   "execution_count": 9,
   "metadata": {},
   "outputs": [
    {
     "data": {
      "text/html": [
       "<div>\n",
       "<style scoped>\n",
       "    .dataframe tbody tr th:only-of-type {\n",
       "        vertical-align: middle;\n",
       "    }\n",
       "\n",
       "    .dataframe tbody tr th {\n",
       "        vertical-align: top;\n",
       "    }\n",
       "\n",
       "    .dataframe thead th {\n",
       "        text-align: right;\n",
       "    }\n",
       "</style>\n",
       "<table border=\"1\" class=\"dataframe\">\n",
       "  <thead>\n",
       "    <tr style=\"text-align: right;\">\n",
       "      <th></th>\n",
       "      <th>transaction_id</th>\n",
       "      <th>instance_date</th>\n",
       "      <th>trans_group_id</th>\n",
       "      <th>trans_group_en</th>\n",
       "      <th>trans_group_ar</th>\n",
       "      <th>procedure_id</th>\n",
       "      <th>procedure_name_en</th>\n",
       "      <th>procedure_name_ar</th>\n",
       "      <th>property_type_id</th>\n",
       "      <th>property_type_en</th>\n",
       "      <th>property_type_ar</th>\n",
       "      <th>property_sub_type_id</th>\n",
       "      <th>property_sub_type_en</th>\n",
       "      <th>property_usage_en</th>\n",
       "      <th>property_usage_ar</th>\n",
       "      <th>reg_type_id</th>\n",
       "      <th>reg_type_en</th>\n",
       "      <th>reg_type_ar</th>\n",
       "      <th>area_id</th>\n",
       "      <th>area_name_en</th>\n",
       "      <th>area_name_ar</th>\n",
       "      <th>master_project_en</th>\n",
       "      <th>master_project_ar</th>\n",
       "      <th>project_number</th>\n",
       "      <th>project_name_en</th>\n",
       "      <th>project_name_ar</th>\n",
       "      <th>building_name_en</th>\n",
       "      <th>building_name_ar</th>\n",
       "      <th>rooms_en</th>\n",
       "      <th>rooms_ar</th>\n",
       "      <th>has_parking</th>\n",
       "      <th>procedure_area</th>\n",
       "      <th>meter_sale_price</th>\n",
       "      <th>actual_worth</th>\n",
       "    </tr>\n",
       "  </thead>\n",
       "  <tbody>\n",
       "    <tr>\n",
       "      <th>0</th>\n",
       "      <td>1-11-2018-8205</td>\n",
       "      <td>13-08-2018</td>\n",
       "      <td>1</td>\n",
       "      <td>Sales</td>\n",
       "      <td>مبايعات</td>\n",
       "      <td>11</td>\n",
       "      <td>Sell</td>\n",
       "      <td>بيع</td>\n",
       "      <td>4</td>\n",
       "      <td>Villa</td>\n",
       "      <td>فيلا</td>\n",
       "      <td>NaN</td>\n",
       "      <td>NaN</td>\n",
       "      <td>Other</td>\n",
       "      <td>أخرى</td>\n",
       "      <td>1</td>\n",
       "      <td>Existing Properties</td>\n",
       "      <td>العقارات القائمة</td>\n",
       "      <td>278</td>\n",
       "      <td>Mankhool</td>\n",
       "      <td>منخول</td>\n",
       "      <td>NaN</td>\n",
       "      <td>NaN</td>\n",
       "      <td>NaN</td>\n",
       "      <td>NaN</td>\n",
       "      <td>NaN</td>\n",
       "      <td>NaN</td>\n",
       "      <td>NaN</td>\n",
       "      <td>NaN</td>\n",
       "      <td>NaN</td>\n",
       "      <td>0</td>\n",
       "      <td>34.41</td>\n",
       "      <td>4795.12</td>\n",
       "      <td>165000.0</td>\n",
       "    </tr>\n",
       "    <tr>\n",
       "      <th>1</th>\n",
       "      <td>1-11-2016-12930</td>\n",
       "      <td>02-11-2016</td>\n",
       "      <td>1</td>\n",
       "      <td>Sales</td>\n",
       "      <td>مبايعات</td>\n",
       "      <td>11</td>\n",
       "      <td>Sell</td>\n",
       "      <td>بيع</td>\n",
       "      <td>4</td>\n",
       "      <td>Villa</td>\n",
       "      <td>فيلا</td>\n",
       "      <td>NaN</td>\n",
       "      <td>NaN</td>\n",
       "      <td>Residential</td>\n",
       "      <td>سكني</td>\n",
       "      <td>1</td>\n",
       "      <td>Existing Properties</td>\n",
       "      <td>العقارات القائمة</td>\n",
       "      <td>276</td>\n",
       "      <td>Al Bada</td>\n",
       "      <td>البدع</td>\n",
       "      <td>NaN</td>\n",
       "      <td>NaN</td>\n",
       "      <td>NaN</td>\n",
       "      <td>NaN</td>\n",
       "      <td>NaN</td>\n",
       "      <td>NaN</td>\n",
       "      <td>NaN</td>\n",
       "      <td>NaN</td>\n",
       "      <td>NaN</td>\n",
       "      <td>0</td>\n",
       "      <td>390.00</td>\n",
       "      <td>5358.72</td>\n",
       "      <td>2089900.0</td>\n",
       "    </tr>\n",
       "    <tr>\n",
       "      <th>2</th>\n",
       "      <td>1-11-2016-13524</td>\n",
       "      <td>15-11-2016</td>\n",
       "      <td>1</td>\n",
       "      <td>Sales</td>\n",
       "      <td>مبايعات</td>\n",
       "      <td>11</td>\n",
       "      <td>Sell</td>\n",
       "      <td>بيع</td>\n",
       "      <td>4</td>\n",
       "      <td>Villa</td>\n",
       "      <td>فيلا</td>\n",
       "      <td>NaN</td>\n",
       "      <td>NaN</td>\n",
       "      <td>Other</td>\n",
       "      <td>أخرى</td>\n",
       "      <td>1</td>\n",
       "      <td>Existing Properties</td>\n",
       "      <td>العقارات القائمة</td>\n",
       "      <td>276</td>\n",
       "      <td>Al Bada</td>\n",
       "      <td>البدع</td>\n",
       "      <td>NaN</td>\n",
       "      <td>NaN</td>\n",
       "      <td>NaN</td>\n",
       "      <td>NaN</td>\n",
       "      <td>NaN</td>\n",
       "      <td>NaN</td>\n",
       "      <td>NaN</td>\n",
       "      <td>NaN</td>\n",
       "      <td>NaN</td>\n",
       "      <td>0</td>\n",
       "      <td>278.71</td>\n",
       "      <td>10046.28</td>\n",
       "      <td>2800000.0</td>\n",
       "    </tr>\n",
       "    <tr>\n",
       "      <th>3</th>\n",
       "      <td>2-13-2014-4939</td>\n",
       "      <td>23-06-2014</td>\n",
       "      <td>2</td>\n",
       "      <td>Mortgages</td>\n",
       "      <td>رهون</td>\n",
       "      <td>13</td>\n",
       "      <td>Mortgage Registration</td>\n",
       "      <td>تسجيل رهن</td>\n",
       "      <td>4</td>\n",
       "      <td>Villa</td>\n",
       "      <td>فيلا</td>\n",
       "      <td>NaN</td>\n",
       "      <td>NaN</td>\n",
       "      <td>Commercial</td>\n",
       "      <td>تجاري</td>\n",
       "      <td>1</td>\n",
       "      <td>Existing Properties</td>\n",
       "      <td>العقارات القائمة</td>\n",
       "      <td>276</td>\n",
       "      <td>Al Bada</td>\n",
       "      <td>البدع</td>\n",
       "      <td>NaN</td>\n",
       "      <td>NaN</td>\n",
       "      <td>NaN</td>\n",
       "      <td>NaN</td>\n",
       "      <td>NaN</td>\n",
       "      <td>NaN</td>\n",
       "      <td>NaN</td>\n",
       "      <td>NaN</td>\n",
       "      <td>NaN</td>\n",
       "      <td>0</td>\n",
       "      <td>16952.94</td>\n",
       "      <td>707.84</td>\n",
       "      <td>12000000.0</td>\n",
       "    </tr>\n",
       "    <tr>\n",
       "      <th>4</th>\n",
       "      <td>1-11-2002-81</td>\n",
       "      <td>14-01-2002</td>\n",
       "      <td>1</td>\n",
       "      <td>Sales</td>\n",
       "      <td>مبايعات</td>\n",
       "      <td>11</td>\n",
       "      <td>Sell</td>\n",
       "      <td>بيع</td>\n",
       "      <td>2</td>\n",
       "      <td>Building</td>\n",
       "      <td>مبنى</td>\n",
       "      <td>NaN</td>\n",
       "      <td>NaN</td>\n",
       "      <td>Commercial</td>\n",
       "      <td>تجاري</td>\n",
       "      <td>1</td>\n",
       "      <td>Existing Properties</td>\n",
       "      <td>العقارات القائمة</td>\n",
       "      <td>271</td>\n",
       "      <td>Al Karama</td>\n",
       "      <td>الكرامه</td>\n",
       "      <td>NaN</td>\n",
       "      <td>NaN</td>\n",
       "      <td>NaN</td>\n",
       "      <td>NaN</td>\n",
       "      <td>NaN</td>\n",
       "      <td>NaN</td>\n",
       "      <td>NaN</td>\n",
       "      <td>NaN</td>\n",
       "      <td>NaN</td>\n",
       "      <td>0</td>\n",
       "      <td>232.26</td>\n",
       "      <td>6458.28</td>\n",
       "      <td>1500000.0</td>\n",
       "    </tr>\n",
       "  </tbody>\n",
       "</table>\n",
       "</div>"
      ],
      "text/plain": [
       "    transaction_id instance_date  trans_group_id trans_group_en  \\\n",
       "0   1-11-2018-8205    13-08-2018               1          Sales   \n",
       "1  1-11-2016-12930    02-11-2016               1          Sales   \n",
       "2  1-11-2016-13524    15-11-2016               1          Sales   \n",
       "3   2-13-2014-4939    23-06-2014               2      Mortgages   \n",
       "4     1-11-2002-81    14-01-2002               1          Sales   \n",
       "\n",
       "  trans_group_ar  procedure_id      procedure_name_en procedure_name_ar  \\\n",
       "0        مبايعات            11                   Sell               بيع   \n",
       "1        مبايعات            11                   Sell               بيع   \n",
       "2        مبايعات            11                   Sell               بيع   \n",
       "3           رهون            13  Mortgage Registration         تسجيل رهن   \n",
       "4        مبايعات            11                   Sell               بيع   \n",
       "\n",
       "   property_type_id property_type_en property_type_ar  property_sub_type_id  \\\n",
       "0                 4            Villa             فيلا                   NaN   \n",
       "1                 4            Villa             فيلا                   NaN   \n",
       "2                 4            Villa             فيلا                   NaN   \n",
       "3                 4            Villa             فيلا                   NaN   \n",
       "4                 2         Building             مبنى                   NaN   \n",
       "\n",
       "  property_sub_type_en property_usage_en property_usage_ar  reg_type_id  \\\n",
       "0                  NaN             Other              أخرى            1   \n",
       "1                  NaN       Residential              سكني            1   \n",
       "2                  NaN             Other              أخرى            1   \n",
       "3                  NaN        Commercial             تجاري            1   \n",
       "4                  NaN        Commercial             تجاري            1   \n",
       "\n",
       "           reg_type_en       reg_type_ar  area_id area_name_en area_name_ar  \\\n",
       "0  Existing Properties  العقارات القائمة      278     Mankhool        منخول   \n",
       "1  Existing Properties  العقارات القائمة      276      Al Bada        البدع   \n",
       "2  Existing Properties  العقارات القائمة      276      Al Bada        البدع   \n",
       "3  Existing Properties  العقارات القائمة      276      Al Bada        البدع   \n",
       "4  Existing Properties  العقارات القائمة      271    Al Karama      الكرامه   \n",
       "\n",
       "  master_project_en master_project_ar  project_number project_name_en  \\\n",
       "0               NaN               NaN             NaN             NaN   \n",
       "1               NaN               NaN             NaN             NaN   \n",
       "2               NaN               NaN             NaN             NaN   \n",
       "3               NaN               NaN             NaN             NaN   \n",
       "4               NaN               NaN             NaN             NaN   \n",
       "\n",
       "  project_name_ar building_name_en building_name_ar rooms_en rooms_ar  \\\n",
       "0             NaN              NaN              NaN      NaN      NaN   \n",
       "1             NaN              NaN              NaN      NaN      NaN   \n",
       "2             NaN              NaN              NaN      NaN      NaN   \n",
       "3             NaN              NaN              NaN      NaN      NaN   \n",
       "4             NaN              NaN              NaN      NaN      NaN   \n",
       "\n",
       "   has_parking  procedure_area  meter_sale_price  actual_worth  \n",
       "0            0           34.41           4795.12      165000.0  \n",
       "1            0          390.00           5358.72     2089900.0  \n",
       "2            0          278.71          10046.28     2800000.0  \n",
       "3            0        16952.94            707.84    12000000.0  \n",
       "4            0          232.26           6458.28     1500000.0  "
      ]
     },
     "execution_count": 9,
     "metadata": {},
     "output_type": "execute_result"
    }
   ],
   "source": [
    "# Reordering columns in a more logical manner and dropping non-essential columns\n",
    "transactions_df = transactions[['transaction_id', 'instance_date', 'trans_group_id', 'trans_group_en', 'trans_group_ar',\n",
    "                                'procedure_id', 'procedure_name_en', 'procedure_name_ar', 'property_type_id', 'property_type_en',\n",
    "                                'property_type_ar', 'property_sub_type_id', 'property_sub_type_en', 'property_usage_en', \n",
    "                                'property_usage_ar', 'reg_type_id', 'reg_type_en', 'reg_type_ar', 'area_id', 'area_name_en',\n",
    "                                'area_name_ar', 'master_project_en', 'master_project_ar', 'project_number', 'project_name_en',\n",
    "                                'project_name_ar', 'building_name_en', 'building_name_ar', 'rooms_en', 'rooms_ar', 'has_parking', \n",
    "                                'procedure_area', 'meter_sale_price', 'actual_worth']]\n",
    "\n",
    "# Displaying new ordered dataset\n",
    "transactions_df.head()"
   ]
  },
  {
   "cell_type": "code",
   "execution_count": 11,
   "metadata": {},
   "outputs": [
    {
     "data": {
      "text/plain": [
       "master_project_en\n",
       "Business Bay                                     85521\n",
       "Dubai Marina                                     81884\n",
       "Jumeirah Village Circle                          75720\n",
       "Jumeirah Lakes Towers                            63838\n",
       "Burj Khalifa                                     58352\n",
       "International City Phase 1                       53040\n",
       "Palm Jumeirah                                    39320\n",
       "Dubai Sports City                                33783\n",
       "Silicon Oasis                                    27696\n",
       "Al Furjan                                        25544\n",
       "The Greens                                       22530\n",
       "The Lagoons                                      21414\n",
       "Jumeriah Beach Residence  - JBR                  20550\n",
       "Arjan                                            19451\n",
       "TOWN SQUARE                                      19247\n",
       "Residential Complex                              18913\n",
       "DAMAC HILLS 2                                    18167\n",
       "International Media Production Zone              17415\n",
       "DAMAC HILLS                                      16346\n",
       "Discovery Gardens                                16100\n",
       "Motor City                                       14909\n",
       "Jumeirah Village Triangle                        13936\n",
       "DUBAI HILLS                                      13459\n",
       "Remraam                                          11042\n",
       "Jumeirah Islands                                 11026\n",
       "Dubai World Central                              10967\n",
       "Jumeirah Park                                     9933\n",
       "Dubai Investment Park First                       9752\n",
       "Dubai South Residential District                  9338\n",
       "Liwan                                             9106\n",
       "TECOM Site C                                      7578\n",
       "Mudon                                             7564\n",
       "SOBHA HARTLAND                                    7506\n",
       "The Villa                                         7369\n",
       "Jumeirah Golf Estates                             6956\n",
       "City Walk                                         6914\n",
       "DUBAI HILLS - PARK                                6610\n",
       "DAMAC Lagoons                                     6312\n",
       "Dubiotech                                         6277\n",
       "Springs - 1                                       5633\n",
       "TILAL AL GHAF                                     5019\n",
       "Dubai Health Care City Phase 2                    4483\n",
       "Arabian Ranches - Saheel                          4284\n",
       "Dubai Investment Park Second                      4123\n",
       "Culture Village                                   4040\n",
       "Meydan                                            3959\n",
       "Dubai Maritime City                               3941\n",
       "JABEL ALI HILLS                                   3858\n",
       "Springs - 2                                       3638\n",
       "Majan                                             3546\n",
       "Falcon City                                       3537\n",
       "International City Phase 3                        3482\n",
       "Living Legends                                    3466\n",
       "800 Villas                                        3297\n",
       "Wasl 1                                            3065\n",
       "Nad Al Shiba Villas                               3062\n",
       "Dubai Studio City                                 2999\n",
       "LA MER                                            2831\n",
       "Mina Rashid                                       2747\n",
       "Wasl Gate                                         2487\n",
       "Emirates Hills                                    2425\n",
       "Mohammed Bin Rashid AL Maktoum District 11        2354\n",
       "Springs - 3                                       2299\n",
       "Down Town Jabal Ali                               2270\n",
       "Rukan                                             2231\n",
       "Arabian Ranches - Al Reem 1                       2188\n",
       "HADAEQ SHEIKH MOHAMMED BIN RASHID - DISRICT 7     2101\n",
       "Springs - 7                                       1900\n",
       "Palm Deira                                        1887\n",
       "Meadows 9                                         1870\n",
       "Springs - 6                                       1787\n",
       "Springs - 4                                       1690\n",
       "Meadows 1                                         1683\n",
       "DUBAI HILLS - MAPLE 1                             1651\n",
       "Al Barari                                         1588\n",
       "TECOM Site B                                      1581\n",
       "DUBAI HILLS - MAPLE 2                             1576\n",
       "Meadows 2                                         1538\n",
       "Arabian Ranches - Al Reem 2                       1460\n",
       "Arabian Ranches - Al Reem 3                       1416\n",
       "DMCC-EZ2                                          1415\n",
       "TECOM Site A                                      1400\n",
       "THE SUSTAINABLE CITY                              1361\n",
       "Arabian Ranches - Mirador                         1335\n",
       "DUBAI HILLS - MAPLE 3                             1326\n",
       "DUBAI HILLS - SIDRA 1                             1295\n",
       "Sama Al Jadaf                                     1290\n",
       "Lakes - Maeen                                     1277\n",
       "Uptown Mirdif                                     1251\n",
       "Springs - 5                                       1229\n",
       "Arabian Ranches - Savannah                        1164\n",
       "Jabal Ali Village                                 1099\n",
       "DUBAI HILLS - SIDRA 2                             1099\n",
       "The World                                         1095\n",
       "JABAL ALI INDUSTRIAL DEVELOPMENT                   982\n",
       "Jumeirah Heights                                   981\n",
       "Festival City                                      979\n",
       "WARSAN FIRST DEVELOPMENT                           973\n",
       "Meadows 5                                          929\n",
       "Al Waha Villas                                     923\n",
       "Arabian Ranches II - CASA                          882\n",
       "Arabian Ranches - Alma 1                           853\n",
       "Dubai Industrial City                              818\n",
       "Arabian Ranches - Almahra                          816\n",
       "City Of Arabia                                     807\n",
       "Arabian Ranches - Palmera - II                     780\n",
       "DUBAI HILLS - SIDRA 3                              771\n",
       "Palm Jabal Ali                                     767\n",
       "Arabian Ranches II - LILA                          610\n",
       "Arabian Ranches - Palmera - III                    596\n",
       "Arabian Ranches II - Camelia                       596\n",
       "Meadows 6                                          586\n",
       "Arabian Ranches - Palmera - I                      559\n",
       "Arabian Ranches - Palmera - IV                     537\n",
       "Arabian Ranches - Terranova                        532\n",
       "Jumeriah Garden City                               528\n",
       "Business Park                                      527\n",
       "DMCC-EZ1                                           526\n",
       "Meadows 8                                          525\n",
       "Badra                                              524\n",
       "Arabian Ranches II - Reem Community                519\n",
       "Meadows 7                                          517\n",
       "Meadows 4                                          509\n",
       "Lakes - Ghadeer                                    472\n",
       "Arabian Ranches - Alvorada - 2                     465\n",
       "Arabian Ranches - Mirador La Colccion 2            461\n",
       "Arabian Ranches II - SAMARA                        455\n",
       "Arabian Ranches - Alvorada - 4                     436\n",
       "Arabian Ranches II - ROSA                          412\n",
       "DUBAI HILLS - GOLF PLACE                           409\n",
       "AL KHAWANEEJ DISTRICT                              406\n",
       "Arabian Ranches - Hattan                           384\n",
       "Arabian Ranches II - RASHA                         373\n",
       "DUBAI HILLS - GOLF GROVE                           360\n",
       "Arabian Ranches II - PALMA                         358\n",
       "DUBAI HILLS - CLUB VILLAS                          342\n",
       "Dubai Health Care City Phase 1                     340\n",
       "Lakes - Hattan II                                  331\n",
       "DUBAI HILLS - FAIRWAYS                             328\n",
       "Lakes - Deema 1                                    319\n",
       "DUBAI HILLS - EMERALD HILLS                        317\n",
       "Arabian Ranches - Mirador La Colccion 1            299\n",
       "Al Wasl District                                   294\n",
       "Arabian Ranches - Polo Homes                       292\n",
       "Lakes - Forat                                      279\n",
       "Arabian Ranches II - AZALEA                        262\n",
       "Lakes - Deema 3                                    262\n",
       "Arabian Ranches II - YASMIN                        261\n",
       "Arabian Ranches - Alvorada - 1                     257\n",
       "Arabian Ranches - Alvorada - 3                     256\n",
       "Meadows 3                                          252\n",
       "Lakes - Deema 4                                    250\n",
       "DUBAI HILLS - PARKWAYS                             247\n",
       "Lakes - Deema 2                                    223\n",
       "DUBAI HILLS - GOLF TERRACES                        215\n",
       "Lakes - Hattan I                                   196\n",
       "Dubai Water Front                                  177\n",
       "DUBAI HILLS - FAIRWAY VISTAS                       174\n",
       "Arabian Ranches - Alma 2                           174\n",
       "Arabian Ranches - La Avenida                       164\n",
       "DUBAI HILLS - PARKWAY VISTAS                       160\n",
       "DUBAI HILLS - PALM HILLS                           147\n",
       "DUBAI HILLS - HILLS VIEW                           144\n",
       "Lakes - Hattan III                                 135\n",
       "AL WARSAN INDUSTRIAL                               114\n",
       "Dubai Life Style City                               90\n",
       "The Palmarosa                                       70\n",
       "Arabian Ranches - Golf Homes                        57\n",
       "Dubai International Academic City                   52\n",
       "Veneto                                              40\n",
       "DUBAI HILLS - LAMBOURGHINI                          32\n",
       "Emaar's Street Of Dreams                            31\n",
       "DUBAI HILLS - HILLS GROVE                           30\n",
       "Ibn Battuta                                         16\n",
       "TECOM Site D                                         8\n",
       "Dubai International Financial Center                 7\n",
       "Global Village                                       6\n",
       "The Gardens                                          4\n",
       "Garden View                                          4\n",
       "International City Phase 2                           3\n",
       "Arabian Ranches II                                   1\n",
       "Tijara Town                                          1\n",
       "Name: count, dtype: int64"
      ]
     },
     "execution_count": 11,
     "metadata": {},
     "output_type": "execute_result"
    }
   ],
   "source": [
    "# Looking at all the unique values count in master_project_en column\n",
    "transactions_df['master_project_en'].value_counts()"
   ]
  },
  {
   "cell_type": "code",
   "execution_count": 12,
   "metadata": {},
   "outputs": [
    {
     "data": {
      "text/plain": [
       "area_name_en\n",
       "Marsa Dubai                          121524\n",
       "Business Bay                          91328\n",
       "Al Thanyah Fifth                      86427\n",
       "Al Barsha South Fourth                76481\n",
       "Burj Khalifa                          63830\n",
       "Al Warsan First                       54013\n",
       "Jabal Ali First                       46704\n",
       "Palm Jumeirah                         39728\n",
       "Wadi Al Safa 5                        39505\n",
       "Al Hebiah Fourth                      38805\n",
       "Al Merkadh                            33049\n",
       "Hadaeq Sheikh Mohammed Bin Rashid     32800\n",
       "Al Thanyah Third                      31527\n",
       "Al Thanayah Fourth                    30038\n",
       "Nadd Hessa                            27593\n",
       "Me'Aisem First                        23963\n",
       "Al Hebiah Fifth                       22908\n",
       "Al Khairan First                      21410\n",
       "Madinat Al Mataar                     20305\n",
       "Al Barshaa South Third                19748\n",
       "Wadi Al Safa 6                        19580\n",
       "Al Yelayiss 2                         19259\n",
       "Al Hebiah Third                       18952\n",
       "Al Hebiah First                       14909\n",
       "Al Barsha South Fifth                 14793\n",
       "Wadi Al Safa 7                        14143\n",
       "Wadi Al Safa 2                        13474\n",
       "Wadi Al Safa 3                        12641\n",
       "Al Wasl                               10171\n",
       "Al Yelayiss 1                         10094\n",
       "Al Jadaf                               9824\n",
       "Dubai Investment Park First            9752\n",
       "Mirdif                                 9273\n",
       "Madinat Hind 4                         8895\n",
       "Nad Al Shiba First                     8383\n",
       "Al Thanyah First                       7580\n",
       "Al Barshaa South Second                7282\n",
       "Madinat Dubai Almelaheyah              6727\n",
       "Al Yufrah 1                            6084\n",
       "Al Yufrah 2                            5853\n",
       "Dubai Investment Park Second           5202\n",
       "Al Hebiah Sixth                        5085\n",
       "Jumeirah First                         4749\n",
       "Um Suqaim Third                        4170\n",
       "Saih Shuaib 1                          3881\n",
       "Zaabeel Second                         3875\n",
       "Al Goze Fourth                         3727\n",
       "Al Aweer First                         3721\n",
       "Al Yufrah 3                            3556\n",
       "Warsan Fourth                          3493\n",
       "Nad Al Shiba Third                     3382\n",
       "Al Hebiah Second                       3291\n",
       "Bukadra                                3165\n",
       "Al Kifaf                               3099\n",
       "Al Khawaneej First                     2806\n",
       "Hor Al Anz                             2647\n",
       "Ras Al Khor Industrial First           2609\n",
       "Al Barsha Second                       2554\n",
       "Al Warqa Third                         2523\n",
       "Nad Al Hamar                           2498\n",
       "Al Barsha Third                        2471\n",
       "Al Khawaneej Second                    2239\n",
       "Jabal Ali Industrial Second            2234\n",
       "Al Mizhar First                        2179\n",
       "Al Barshaa South First                 2159\n",
       "Zaabeel First                          2133\n",
       "Al Satwa                               2133\n",
       "Al Ruwayyah                            2110\n",
       "Al Barsha First                        1977\n",
       "Palm Deira                             1887\n",
       "Muhaisanah First                       1770\n",
       "Al Warqa Fourth                        1746\n",
       "Al Rashidiya                           1664\n",
       "Al Safouh First                        1615\n",
       "Wadi Al Safa 4                         1549\n",
       "Saih Shuaib 2                          1504\n",
       "Jabal Ali                              1497\n",
       "Al Warqa Second                        1473\n",
       "Al Mizhar Second                       1440\n",
       "Al Safouh Second                       1407\n",
       "Ghadeer Al tair                        1389\n",
       "Abu Hail                               1369\n",
       "Port Saeed                             1368\n",
       "Al Bada                                1282\n",
       "Oud Al Muteena First                   1245\n",
       "Jabal Ali Industrial First             1245\n",
       "Trade Center Second                    1245\n",
       "Um Suqaim Second                       1233\n",
       "Nad Al Shiba                           1222\n",
       "World Islands                          1146\n",
       "Um Al Sheif                            1132\n",
       "Nad Al Shiba Fourth                    1124\n",
       "Naif                                   1123\n",
       "Jumeirah Third                         1118\n",
       "Al Murqabat                            1096\n",
       "Al Muteena                             1068\n",
       "Um Suqaim First                        1056\n",
       "Al Kheeran                             1054\n",
       "Al Karama                              1051\n",
       "Al Raffa                               1046\n",
       "Al Mararr                              1021\n",
       "Al Manara                              1015\n",
       "Mankhool                               1013\n",
       "Al Nahda Second                        1007\n",
       "Al Waheda                              1001\n",
       "Al Goze First                           947\n",
       "Al Suq Al Kabeer                        922\n",
       "Island 2                                920\n",
       "Muhaisanah Third                        885\n",
       "Al Mizhar Third                         850\n",
       "Jumeirah Second                         808\n",
       "Al Warqa First                          776\n",
       "AL Athbah                               768\n",
       "Palm Jabal Ali                          767\n",
       "Madinat Hind 3                          754\n",
       "Al Twar Third                           740\n",
       "Al Hamriya                              724\n",
       "Al Baraha                               719\n",
       "Al Saffa Second                         674\n",
       "Al Mamzer                               673\n",
       "Trade Center First                      644\n",
       "Hessyan First                           629\n",
       "Al Dhagaya                              596\n",
       "Hor Al Anz East                         575\n",
       "Me'Aisem Second                         568\n",
       "Saih Shuaib 4                           568\n",
       "Um Suqaim                               551\n",
       "Al Qusais First                         529\n",
       "Al Garhoud                              525\n",
       "Al Twar Fourth                          512\n",
       "Rega Al Buteen                          500\n",
       "Al Jafliya                              490\n",
       "Eyal Nasser                             482\n",
       "Al Khabeesi                             461\n",
       "Wadi Al Amardi                          444\n",
       "Al Ras                                  439\n",
       "Al Qusais Second                        377\n",
       "Um Hurair Second                        373\n",
       "Al Twar First                           342\n",
       "Al Buteen                               315\n",
       "Al Qusais Industrial Fifth              301\n",
       "Al Nahda First                          299\n",
       "Al Qusais Industrial Fourth             285\n",
       "Al Ttay                                 272\n",
       "Al Aweer Second                         262\n",
       "Saih Shuaib 3                           250\n",
       "Oud Metha                               238\n",
       "Nad Al Shiba Second                     233\n",
       "Al Saffa First                          226\n",
       "Al Twar Second                          209\n",
       "Mushrif                                 198\n",
       "Ras Al Khor Industrial Second           198\n",
       "Muhaisanah Fourth                       191\n",
       "Um Ramool                               167\n",
       "Al Rega                                 161\n",
       "Jumeirah                                143\n",
       "Al Khawaneej                            142\n",
       "Nad Shamma                              123\n",
       "Al Barsha                               123\n",
       "Al Goze Industrial Third                119\n",
       "Al Qusais Industrial First              118\n",
       "Al Warsan Second                        117\n",
       "Al Hudaiba                              109\n",
       "Al Yelayiss 5                           106\n",
       "Al Goze Third                           103\n",
       "Al Sabkha                               103\n",
       "Al Goze Industrial First                100\n",
       "Al Goze Industrial Second                84\n",
       "Um Hurair First                          80\n",
       "Ras Al Khor Industrial Third             79\n",
       "Al Qusais                                76\n",
       "Muhaisanah Second                        74\n",
       "Al Mizhar                                74\n",
       "Al Qusais Industrial Second              69\n",
       "Nad Rashid                               66\n",
       "Lehbab                                   64\n",
       "Al Goze Industrial Fourth                64\n",
       "Al Lusaily                               62\n",
       "Mena Jabal Ali                           60\n",
       "Al-Murar Qadeem                          59\n",
       "Hessyan Second                           56\n",
       "Al Qoaz                                  53\n",
       "Al Rowaiyah First                        52\n",
       "Al Eyas                                  51\n",
       "Al-Tawar                                 51\n",
       "Ras Al Khor                              50\n",
       "Al Musalla (Dubai)                       45\n",
       "Al Qusais Industrial Third               45\n",
       "Margham                                  45\n",
       "Al Safaa                                 41\n",
       "Jabal Ali Industrial Third               39\n",
       "Tawaa Al Sayegh                          36\n",
       "Lehbab First                             36\n",
       "Al-Aweer                                 36\n",
       "Burj Nahar                               35\n",
       "Dubai International Airport              34\n",
       "Al-Safiyyah                              29\n",
       "Al-Murar Jadeed                          29\n",
       "Al Warsan Third                          29\n",
       "Zareeba Duviya                           27\n",
       "Tawi Al Muraqqab                         27\n",
       "Saih Aldahal                             26\n",
       "Al-Riqqa East                            26\n",
       "Lehbab Second                            25\n",
       "Grayteesah                               23\n",
       "Madinat Hind 1                           23\n",
       "Al-Nakhal                                18\n",
       "Muhaisna                                 17\n",
       "Al Asbaq                                 17\n",
       "Al-Raulah                                17\n",
       "Muragab                                  16\n",
       "Al-Souq Al Kabeer (Deira)                12\n",
       "Al-Riqqa West                            12\n",
       "Al Rowaiyah Third                        10\n",
       "Al-Shumaal                                9\n",
       "Sikkat Al Khail North                     9\n",
       "Al-Muhaisnah North                        8\n",
       "Naif North                                7\n",
       "Al-Bastakiyah                             7\n",
       "Naif South                                7\n",
       "Madinat Latifa                            7\n",
       "Al-Zarouniyyah                            7\n",
       "Sikkat Al Khail South                     6\n",
       "Nazwah                                    6\n",
       "Al Baharna                                5\n",
       "Al Yelayiss 4                             5\n",
       "Um Esalay                                 5\n",
       "Al Maha                                   5\n",
       "Bur Dubai                                 4\n",
       "Mugatrah                                  4\n",
       "Hatta                                     3\n",
       "Muashrah Al Bahraana                      3\n",
       "Umm Addamin                               3\n",
       "Jabal Ali Third                           3\n",
       "Al-Mustashfa West                         2\n",
       "Madinat Hind 2                            2\n",
       "Al-Musalla (Deira)                        2\n",
       "Al Yufrah 4                               2\n",
       "Al Marmoom                                2\n",
       "Al Khairan  Second                        2\n",
       "Shandagha East                            1\n",
       "Festival City First                       1\n",
       "Al-Qiyadah                                1\n",
       "Remah                                     1\n",
       "Al Rowaiyah Second                        1\n",
       "Cornich Deira                             1\n",
       "Al-Cornich                                1\n",
       "Al-Baloosh                                1\n",
       "Al-Nahdah                                 1\n",
       "Le Hemaira                                1\n",
       "Al Layan1                                 1\n",
       "Al Fahidi                                 1\n",
       "Al Yelayiss 3                             1\n",
       "Al-Dzahiyyah Al-Jadeedah                  1\n",
       "Shandagha West                            1\n",
       "Name: count, dtype: int64"
      ]
     },
     "execution_count": 12,
     "metadata": {},
     "output_type": "execute_result"
    }
   ],
   "source": [
    "# Looking at all the unique values count in area_name_en column\n",
    "transactions_df['area_name_en'].value_counts()"
   ]
  },
  {
   "cell_type": "code",
   "execution_count": 13,
   "metadata": {},
   "outputs": [
    {
     "name": "stdout",
     "output_type": "stream",
     "text": [
      "<class 'pandas.core.frame.DataFrame'>\n",
      "Index: 2133 entries, 21 to 1312825\n",
      "Data columns (total 34 columns):\n",
      " #   Column                Non-Null Count  Dtype  \n",
      "---  ------                --------------  -----  \n",
      " 0   transaction_id        2133 non-null   object \n",
      " 1   instance_date         2133 non-null   object \n",
      " 2   trans_group_id        2133 non-null   int64  \n",
      " 3   trans_group_en        2133 non-null   object \n",
      " 4   trans_group_ar        2133 non-null   object \n",
      " 5   procedure_id          2133 non-null   int64  \n",
      " 6   procedure_name_en     2133 non-null   object \n",
      " 7   procedure_name_ar     2133 non-null   object \n",
      " 8   property_type_id      2133 non-null   int64  \n",
      " 9   property_type_en      2133 non-null   object \n",
      " 10  property_type_ar      2133 non-null   object \n",
      " 11  property_sub_type_id  111 non-null    float64\n",
      " 12  property_sub_type_en  111 non-null    object \n",
      " 13  property_usage_en     2133 non-null   object \n",
      " 14  property_usage_ar     2133 non-null   object \n",
      " 15  reg_type_id           2133 non-null   int64  \n",
      " 16  reg_type_en           2133 non-null   object \n",
      " 17  reg_type_ar           2133 non-null   object \n",
      " 18  area_id               2133 non-null   int64  \n",
      " 19  area_name_en          2133 non-null   object \n",
      " 20  area_name_ar          2133 non-null   object \n",
      " 21  master_project_en     528 non-null    object \n",
      " 22  master_project_ar     528 non-null    object \n",
      " 23  project_number        120 non-null    float64\n",
      " 24  project_name_en       120 non-null    object \n",
      " 25  project_name_ar       120 non-null    object \n",
      " 26  building_name_en      111 non-null    object \n",
      " 27  building_name_ar      111 non-null    object \n",
      " 28  rooms_en              111 non-null    object \n",
      " 29  rooms_ar              111 non-null    object \n",
      " 30  has_parking           2133 non-null   int64  \n",
      " 31  procedure_area        2133 non-null   float64\n",
      " 32  meter_sale_price      2133 non-null   float64\n",
      " 33  actual_worth          2133 non-null   float64\n",
      "dtypes: float64(5), int64(6), object(23)\n",
      "memory usage: 583.2+ KB\n"
     ]
    }
   ],
   "source": [
    "# Filtering the dataset by \"Al Satwa\" area\n",
    "transactions_satwa = transactions_df[transactions_df['area_name_en'] == 'Al Satwa']\n",
    "\n",
    "# Checking the information about the filtered dataset\n",
    "transactions_satwa.info()"
   ]
  },
  {
   "cell_type": "code",
   "execution_count": 16,
   "metadata": {},
   "outputs": [
    {
     "data": {
      "text/plain": [
       "transaction_id           0.000000\n",
       "instance_date            0.000000\n",
       "trans_group_id           0.000000\n",
       "trans_group_en           0.000000\n",
       "trans_group_ar           0.000000\n",
       "procedure_id             0.000000\n",
       "procedure_name_en        0.000000\n",
       "procedure_name_ar        0.000000\n",
       "property_type_id         0.000000\n",
       "property_type_en         0.000000\n",
       "property_type_ar         0.000000\n",
       "property_sub_type_id    94.796062\n",
       "property_sub_type_en    94.796062\n",
       "property_usage_en        0.000000\n",
       "property_usage_ar        0.000000\n",
       "reg_type_id              0.000000\n",
       "reg_type_en              0.000000\n",
       "reg_type_ar              0.000000\n",
       "area_id                  0.000000\n",
       "area_name_en             0.000000\n",
       "area_name_ar             0.000000\n",
       "master_project_en       75.246132\n",
       "master_project_ar       75.246132\n",
       "project_number          94.374121\n",
       "project_name_en         94.374121\n",
       "project_name_ar         94.374121\n",
       "building_name_en        94.796062\n",
       "building_name_ar        94.796062\n",
       "rooms_en                94.796062\n",
       "rooms_ar                94.796062\n",
       "has_parking              0.000000\n",
       "procedure_area           0.000000\n",
       "meter_sale_price         0.000000\n",
       "actual_worth             0.000000\n",
       "dtype: float64"
      ]
     },
     "execution_count": 16,
     "metadata": {},
     "output_type": "execute_result"
    }
   ],
   "source": [
    "# Checking the missing percentages in the filtered dataset\n",
    "transactions_satwa.isnull().sum() / transactions_satwa.shape[0] * 100"
   ]
  },
  {
   "cell_type": "code",
   "execution_count": 29,
   "metadata": {},
   "outputs": [
    {
     "data": {
      "text/html": [
       "<div>\n",
       "<style scoped>\n",
       "    .dataframe tbody tr th:only-of-type {\n",
       "        vertical-align: middle;\n",
       "    }\n",
       "\n",
       "    .dataframe tbody tr th {\n",
       "        vertical-align: top;\n",
       "    }\n",
       "\n",
       "    .dataframe thead th {\n",
       "        text-align: right;\n",
       "    }\n",
       "</style>\n",
       "<table border=\"1\" class=\"dataframe\">\n",
       "  <thead>\n",
       "    <tr style=\"text-align: right;\">\n",
       "      <th></th>\n",
       "      <th>transaction_id</th>\n",
       "      <th>instance_date</th>\n",
       "      <th>trans_group_id</th>\n",
       "      <th>trans_group_en</th>\n",
       "      <th>trans_group_ar</th>\n",
       "      <th>procedure_id</th>\n",
       "      <th>procedure_name_en</th>\n",
       "      <th>procedure_name_ar</th>\n",
       "      <th>property_type_id</th>\n",
       "      <th>property_type_en</th>\n",
       "      <th>property_type_ar</th>\n",
       "      <th>property_sub_type_id</th>\n",
       "      <th>property_sub_type_en</th>\n",
       "      <th>property_usage_en</th>\n",
       "      <th>property_usage_ar</th>\n",
       "      <th>reg_type_id</th>\n",
       "      <th>reg_type_en</th>\n",
       "      <th>reg_type_ar</th>\n",
       "      <th>area_id</th>\n",
       "      <th>area_name_en</th>\n",
       "      <th>area_name_ar</th>\n",
       "      <th>master_project_en</th>\n",
       "      <th>master_project_ar</th>\n",
       "      <th>project_number</th>\n",
       "      <th>project_name_en</th>\n",
       "      <th>project_name_ar</th>\n",
       "      <th>building_name_en</th>\n",
       "      <th>building_name_ar</th>\n",
       "      <th>rooms_en</th>\n",
       "      <th>rooms_ar</th>\n",
       "      <th>has_parking</th>\n",
       "      <th>procedure_area</th>\n",
       "      <th>meter_sale_price</th>\n",
       "      <th>actual_worth</th>\n",
       "    </tr>\n",
       "  </thead>\n",
       "  <tbody>\n",
       "    <tr>\n",
       "      <th>21</th>\n",
       "      <td>1-11-2015-5530</td>\n",
       "      <td>26-03-2015</td>\n",
       "      <td>1</td>\n",
       "      <td>Sales</td>\n",
       "      <td>مبايعات</td>\n",
       "      <td>11</td>\n",
       "      <td>Sell</td>\n",
       "      <td>بيع</td>\n",
       "      <td>2</td>\n",
       "      <td>Building</td>\n",
       "      <td>مبنى</td>\n",
       "      <td>NaN</td>\n",
       "      <td>NaN</td>\n",
       "      <td>Commercial</td>\n",
       "      <td>تجاري</td>\n",
       "      <td>1</td>\n",
       "      <td>Existing Properties</td>\n",
       "      <td>العقارات القائمة</td>\n",
       "      <td>266</td>\n",
       "      <td>Al Satwa</td>\n",
       "      <td>السطوه</td>\n",
       "      <td>NaN</td>\n",
       "      <td>NaN</td>\n",
       "      <td>NaN</td>\n",
       "      <td>NaN</td>\n",
       "      <td>NaN</td>\n",
       "      <td>NaN</td>\n",
       "      <td>NaN</td>\n",
       "      <td>NaN</td>\n",
       "      <td>NaN</td>\n",
       "      <td>0</td>\n",
       "      <td>40.65</td>\n",
       "      <td>49512.99</td>\n",
       "      <td>2012703.0</td>\n",
       "    </tr>\n",
       "    <tr>\n",
       "      <th>22</th>\n",
       "      <td>1-11-2006-1314</td>\n",
       "      <td>14-08-2006</td>\n",
       "      <td>1</td>\n",
       "      <td>Sales</td>\n",
       "      <td>مبايعات</td>\n",
       "      <td>11</td>\n",
       "      <td>Sell</td>\n",
       "      <td>بيع</td>\n",
       "      <td>1</td>\n",
       "      <td>Land</td>\n",
       "      <td>أرض</td>\n",
       "      <td>NaN</td>\n",
       "      <td>NaN</td>\n",
       "      <td>Residential</td>\n",
       "      <td>سكني</td>\n",
       "      <td>1</td>\n",
       "      <td>Existing Properties</td>\n",
       "      <td>العقارات القائمة</td>\n",
       "      <td>266</td>\n",
       "      <td>Al Satwa</td>\n",
       "      <td>السطوه</td>\n",
       "      <td>NaN</td>\n",
       "      <td>NaN</td>\n",
       "      <td>NaN</td>\n",
       "      <td>NaN</td>\n",
       "      <td>NaN</td>\n",
       "      <td>NaN</td>\n",
       "      <td>NaN</td>\n",
       "      <td>NaN</td>\n",
       "      <td>NaN</td>\n",
       "      <td>0</td>\n",
       "      <td>221.02</td>\n",
       "      <td>7012.94</td>\n",
       "      <td>1550000.0</td>\n",
       "    </tr>\n",
       "    <tr>\n",
       "      <th>23</th>\n",
       "      <td>1-11-2003-1074</td>\n",
       "      <td>21-07-2003</td>\n",
       "      <td>1</td>\n",
       "      <td>Sales</td>\n",
       "      <td>مبايعات</td>\n",
       "      <td>11</td>\n",
       "      <td>Sell</td>\n",
       "      <td>بيع</td>\n",
       "      <td>2</td>\n",
       "      <td>Building</td>\n",
       "      <td>مبنى</td>\n",
       "      <td>NaN</td>\n",
       "      <td>NaN</td>\n",
       "      <td>Residential</td>\n",
       "      <td>سكني</td>\n",
       "      <td>1</td>\n",
       "      <td>Existing Properties</td>\n",
       "      <td>العقارات القائمة</td>\n",
       "      <td>266</td>\n",
       "      <td>Al Satwa</td>\n",
       "      <td>السطوه</td>\n",
       "      <td>NaN</td>\n",
       "      <td>NaN</td>\n",
       "      <td>NaN</td>\n",
       "      <td>NaN</td>\n",
       "      <td>NaN</td>\n",
       "      <td>NaN</td>\n",
       "      <td>NaN</td>\n",
       "      <td>NaN</td>\n",
       "      <td>NaN</td>\n",
       "      <td>0</td>\n",
       "      <td>231.70</td>\n",
       "      <td>3366.42</td>\n",
       "      <td>780000.0</td>\n",
       "    </tr>\n",
       "    <tr>\n",
       "      <th>24</th>\n",
       "      <td>3-9-2006-300121</td>\n",
       "      <td>18-09-2006</td>\n",
       "      <td>3</td>\n",
       "      <td>Gifts</td>\n",
       "      <td>هبات</td>\n",
       "      <td>9</td>\n",
       "      <td>Grant</td>\n",
       "      <td>هبه</td>\n",
       "      <td>1</td>\n",
       "      <td>Land</td>\n",
       "      <td>أرض</td>\n",
       "      <td>NaN</td>\n",
       "      <td>NaN</td>\n",
       "      <td>Residential</td>\n",
       "      <td>سكني</td>\n",
       "      <td>1</td>\n",
       "      <td>Existing Properties</td>\n",
       "      <td>العقارات القائمة</td>\n",
       "      <td>266</td>\n",
       "      <td>Al Satwa</td>\n",
       "      <td>السطوه</td>\n",
       "      <td>NaN</td>\n",
       "      <td>NaN</td>\n",
       "      <td>NaN</td>\n",
       "      <td>NaN</td>\n",
       "      <td>NaN</td>\n",
       "      <td>NaN</td>\n",
       "      <td>NaN</td>\n",
       "      <td>NaN</td>\n",
       "      <td>NaN</td>\n",
       "      <td>0</td>\n",
       "      <td>19.35</td>\n",
       "      <td>6459.53</td>\n",
       "      <td>124992.0</td>\n",
       "    </tr>\n",
       "    <tr>\n",
       "      <th>25</th>\n",
       "      <td>1-11-2021-10599</td>\n",
       "      <td>23-06-2021</td>\n",
       "      <td>1</td>\n",
       "      <td>Sales</td>\n",
       "      <td>مبايعات</td>\n",
       "      <td>11</td>\n",
       "      <td>Sell</td>\n",
       "      <td>بيع</td>\n",
       "      <td>4</td>\n",
       "      <td>Villa</td>\n",
       "      <td>فيلا</td>\n",
       "      <td>NaN</td>\n",
       "      <td>NaN</td>\n",
       "      <td>Residential</td>\n",
       "      <td>سكني</td>\n",
       "      <td>1</td>\n",
       "      <td>Existing Properties</td>\n",
       "      <td>العقارات القائمة</td>\n",
       "      <td>266</td>\n",
       "      <td>Al Satwa</td>\n",
       "      <td>السطوه</td>\n",
       "      <td>NaN</td>\n",
       "      <td>NaN</td>\n",
       "      <td>NaN</td>\n",
       "      <td>NaN</td>\n",
       "      <td>NaN</td>\n",
       "      <td>NaN</td>\n",
       "      <td>NaN</td>\n",
       "      <td>NaN</td>\n",
       "      <td>NaN</td>\n",
       "      <td>0</td>\n",
       "      <td>239.23</td>\n",
       "      <td>12540.23</td>\n",
       "      <td>3000000.0</td>\n",
       "    </tr>\n",
       "  </tbody>\n",
       "</table>\n",
       "</div>"
      ],
      "text/plain": [
       "     transaction_id instance_date  trans_group_id trans_group_en  \\\n",
       "21   1-11-2015-5530    26-03-2015               1          Sales   \n",
       "22   1-11-2006-1314    14-08-2006               1          Sales   \n",
       "23   1-11-2003-1074    21-07-2003               1          Sales   \n",
       "24  3-9-2006-300121    18-09-2006               3          Gifts   \n",
       "25  1-11-2021-10599    23-06-2021               1          Sales   \n",
       "\n",
       "   trans_group_ar  procedure_id procedure_name_en procedure_name_ar  \\\n",
       "21        مبايعات            11              Sell               بيع   \n",
       "22        مبايعات            11              Sell               بيع   \n",
       "23        مبايعات            11              Sell               بيع   \n",
       "24           هبات             9             Grant               هبه   \n",
       "25        مبايعات            11              Sell               بيع   \n",
       "\n",
       "    property_type_id property_type_en property_type_ar  property_sub_type_id  \\\n",
       "21                 2         Building             مبنى                   NaN   \n",
       "22                 1             Land              أرض                   NaN   \n",
       "23                 2         Building             مبنى                   NaN   \n",
       "24                 1             Land              أرض                   NaN   \n",
       "25                 4            Villa             فيلا                   NaN   \n",
       "\n",
       "   property_sub_type_en property_usage_en property_usage_ar  reg_type_id  \\\n",
       "21                  NaN        Commercial             تجاري            1   \n",
       "22                  NaN       Residential              سكني            1   \n",
       "23                  NaN       Residential              سكني            1   \n",
       "24                  NaN       Residential              سكني            1   \n",
       "25                  NaN       Residential              سكني            1   \n",
       "\n",
       "            reg_type_en       reg_type_ar  area_id area_name_en area_name_ar  \\\n",
       "21  Existing Properties  العقارات القائمة      266     Al Satwa       السطوه   \n",
       "22  Existing Properties  العقارات القائمة      266     Al Satwa       السطوه   \n",
       "23  Existing Properties  العقارات القائمة      266     Al Satwa       السطوه   \n",
       "24  Existing Properties  العقارات القائمة      266     Al Satwa       السطوه   \n",
       "25  Existing Properties  العقارات القائمة      266     Al Satwa       السطوه   \n",
       "\n",
       "   master_project_en master_project_ar  project_number project_name_en  \\\n",
       "21               NaN               NaN             NaN             NaN   \n",
       "22               NaN               NaN             NaN             NaN   \n",
       "23               NaN               NaN             NaN             NaN   \n",
       "24               NaN               NaN             NaN             NaN   \n",
       "25               NaN               NaN             NaN             NaN   \n",
       "\n",
       "   project_name_ar building_name_en building_name_ar rooms_en rooms_ar  \\\n",
       "21             NaN              NaN              NaN      NaN      NaN   \n",
       "22             NaN              NaN              NaN      NaN      NaN   \n",
       "23             NaN              NaN              NaN      NaN      NaN   \n",
       "24             NaN              NaN              NaN      NaN      NaN   \n",
       "25             NaN              NaN              NaN      NaN      NaN   \n",
       "\n",
       "    has_parking  procedure_area  meter_sale_price  actual_worth  \n",
       "21            0           40.65          49512.99     2012703.0  \n",
       "22            0          221.02           7012.94     1550000.0  \n",
       "23            0          231.70           3366.42      780000.0  \n",
       "24            0           19.35           6459.53      124992.0  \n",
       "25            0          239.23          12540.23     3000000.0  "
      ]
     },
     "metadata": {},
     "output_type": "display_data"
    }
   ],
   "source": [
    "# Checking the first 5 rows of the filtered dataset\n",
    "display(transactions_satwa.head())"
   ]
  },
  {
   "cell_type": "code",
   "execution_count": 15,
   "metadata": {},
   "outputs": [
    {
     "data": {
      "text/plain": [
       "trans_group_en\n",
       "Sales        1580\n",
       "Mortgages     402\n",
       "Gifts         151\n",
       "Name: count, dtype: int64"
      ]
     },
     "execution_count": 15,
     "metadata": {},
     "output_type": "execute_result"
    }
   ],
   "source": [
    "# Checking the different type of transactions that occurs in Al Satwa\n",
    "transactions_satwa[\"trans_group_en\"].value_counts()"
   ]
  },
  {
   "cell_type": "code",
   "execution_count": 21,
   "metadata": {},
   "outputs": [
    {
     "data": {
      "text/plain": [
       "procedure_name_en\n",
       "Sell                          1203\n",
       "Mortgage Registration          327\n",
       "Delayed Sell                   255\n",
       "Grant                          150\n",
       "Sell - Pre registration        106\n",
       "Modify Mortgage                 61\n",
       "Adding Land By Sell             12\n",
       "Lease Finance Registration       9\n",
       "Lease to Own Registration        6\n",
       "Development Mortgage             1\n",
       "Lease Finance Modification       1\n",
       "Grant on Delayed Sell            1\n",
       "Development Registration         1\n",
       "Name: count, dtype: int64"
      ]
     },
     "execution_count": 21,
     "metadata": {},
     "output_type": "execute_result"
    }
   ],
   "source": [
    "# Checking the different type of transactions procedures that occurs in Al Satwa\n",
    "transactions_satwa[\"procedure_name_en\"].value_counts(dropna=False)"
   ]
  },
  {
   "cell_type": "code",
   "execution_count": 22,
   "metadata": {},
   "outputs": [
    {
     "data": {
      "text/plain": [
       "property_type_en\n",
       "Land        1144\n",
       "Villa        599\n",
       "Building     279\n",
       "Unit         111\n",
       "Name: count, dtype: int64"
      ]
     },
     "execution_count": 22,
     "metadata": {},
     "output_type": "execute_result"
    }
   ],
   "source": [
    "# Checking the different type of transactions properties that occurs in Al Satwa\n",
    "transactions_satwa[\"property_type_en\"].value_counts(dropna=False)"
   ]
  },
  {
   "cell_type": "code",
   "execution_count": 23,
   "metadata": {},
   "outputs": [
    {
     "data": {
      "text/plain": [
       "property_usage_en\n",
       "Residential                 1637\n",
       "Other                        271\n",
       "Commercial                   182\n",
       "Multi-Use                     28\n",
       "Industrial                     8\n",
       "Hospitality                    4\n",
       "Residential / Commercial       3\n",
       "Name: count, dtype: int64"
      ]
     },
     "execution_count": 23,
     "metadata": {},
     "output_type": "execute_result"
    }
   ],
   "source": [
    "# Checking the different type of properties usage in Al Satwa\n",
    "transactions_satwa[\"property_usage_en\"].value_counts(dropna=False)"
   ]
  },
  {
   "cell_type": "code",
   "execution_count": 24,
   "metadata": {},
   "outputs": [
    {
     "data": {
      "text/plain": [
       "reg_type_en\n",
       "Existing Properties    2027\n",
       "Off-Plan Properties     106\n",
       "Name: count, dtype: int64"
      ]
     },
     "execution_count": 24,
     "metadata": {},
     "output_type": "execute_result"
    }
   ],
   "source": [
    "# Checking the different type of properties registrations in Al Satwa\n",
    "transactions_satwa[\"reg_type_en\"].value_counts(dropna=False)"
   ]
  },
  {
   "cell_type": "code",
   "execution_count": 25,
   "metadata": {},
   "outputs": [
    {
     "data": {
      "text/plain": [
       "master_project_en\n",
       "NaN                     1605\n",
       "Jumeriah Garden City     528\n",
       "Name: count, dtype: int64"
      ]
     },
     "execution_count": 25,
     "metadata": {},
     "output_type": "execute_result"
    }
   ],
   "source": [
    "# Checking the different master_project_en in Al Satwa\n",
    "transactions_satwa[\"master_project_en\"].value_counts(dropna=False)"
   ]
  },
  {
   "cell_type": "code",
   "execution_count": 26,
   "metadata": {},
   "outputs": [
    {
     "data": {
      "text/plain": [
       "project_name_en\n",
       "NaN                               2013\n",
       "Hyde Walk Residence by Imtiaz       95\n",
       "Jardin Astral                        9\n",
       "The Grandala                         8\n",
       "MAYFAIR GARDENS BY MAJID             3\n",
       "ALBA TOWER                           2\n",
       "161 Jumeirah Lane                    1\n",
       "Trillium Heights                     1\n",
       "171 Garden Heights                   1\n",
       "Name: count, dtype: int64"
      ]
     },
     "execution_count": 26,
     "metadata": {},
     "output_type": "execute_result"
    }
   ],
   "source": [
    "# Checking the different project_name_en in Al Satwa\n",
    "transactions_satwa[\"project_name_en\"].value_counts(dropna=False)"
   ]
  },
  {
   "cell_type": "code",
   "execution_count": 27,
   "metadata": {},
   "outputs": [
    {
     "data": {
      "text/plain": [
       "building_name_en\n",
       "NaN                              2022\n",
       "HYDE WALK RESIDENCE BY IMTIAZ      93\n",
       "Jardin Astral                       7\n",
       "The Grandala                        6\n",
       "Diamond Building                    5\n",
       "Name: count, dtype: int64"
      ]
     },
     "execution_count": 27,
     "metadata": {},
     "output_type": "execute_result"
    }
   ],
   "source": [
    "# Checking the different building_name_en in Al Satwa\n",
    "transactions_satwa[\"building_name_en\"].value_counts(dropna=False)"
   ]
  },
  {
   "cell_type": "code",
   "execution_count": 30,
   "metadata": {},
   "outputs": [
    {
     "data": {
      "text/plain": [
       "rooms_en\n",
       "NaN       2022\n",
       "Studio      57\n",
       "1 B/R       50\n",
       "2 B/R        4\n",
       "Name: count, dtype: int64"
      ]
     },
     "execution_count": 30,
     "metadata": {},
     "output_type": "execute_result"
    }
   ],
   "source": [
    "# Checking the different rooms_en in Al Satwa\n",
    "transactions_satwa[\"rooms_en\"].value_counts(dropna=False)"
   ]
  },
  {
   "cell_type": "code",
   "execution_count": 31,
   "metadata": {},
   "outputs": [
    {
     "data": {
      "text/plain": [
       "count     2133.000000\n",
       "mean       773.377829\n",
       "std       2243.637882\n",
       "min          3.450000\n",
       "25%        232.000000\n",
       "50%        232.260000\n",
       "75%       1068.380000\n",
       "max      45545.970000\n",
       "Name: procedure_area, dtype: float64"
      ]
     },
     "execution_count": 31,
     "metadata": {},
     "output_type": "execute_result"
    }
   ],
   "source": [
    "# Statistical summary of procedure_area column\n",
    "transactions_satwa['procedure_area'].describe()"
   ]
  },
  {
   "cell_type": "code",
   "execution_count": 32,
   "metadata": {},
   "outputs": [
    {
     "data": {
      "text/plain": [
       "count      2133.000000\n",
       "mean      10314.636882\n",
       "std       10816.164545\n",
       "min         181.820000\n",
       "25%        3014.120000\n",
       "50%        7837.770000\n",
       "75%       13992.880000\n",
       "max      180831.830000\n",
       "Name: meter_sale_price, dtype: float64"
      ]
     },
     "execution_count": 32,
     "metadata": {},
     "output_type": "execute_result"
    }
   ],
   "source": [
    "# Checking the statistical summary of meter_sale_price column\n",
    "transactions_satwa['meter_sale_price'].describe()"
   ]
  },
  {
   "cell_type": "code",
   "execution_count": 33,
   "metadata": {},
   "outputs": [
    {
     "data": {
      "text/plain": [
       "count    2.133000e+03\n",
       "mean     7.332873e+06\n",
       "std      2.128794e+07\n",
       "min      9.000000e+03\n",
       "25%      8.000000e+05\n",
       "50%      1.900000e+06\n",
       "75%      6.060000e+06\n",
       "max      4.200000e+08\n",
       "Name: actual_worth, dtype: float64"
      ]
     },
     "execution_count": 33,
     "metadata": {},
     "output_type": "execute_result"
    }
   ],
   "source": [
    "# Checkling the statistical summary of actual_worth column\n",
    "transactions_satwa['actual_worth'].describe()"
   ]
  },
  {
   "cell_type": "markdown",
   "metadata": {},
   "source": [
    "**Key Insights and Observations**\n",
    "\n",
    "1.\t**Transaction Types**:\n",
    "\n",
    "    - The majority of the transactions are **Sales (1,580)**, with a smaller proportion for **Mortgages (402)** and **Gifts (151)**. This aligns with the dataset’s focus on property transactions, so focusing on **Sales** for further modeling could be valuable since it dominates the data.\n",
    "\n",
    "2.\t**Procedure Name**:\n",
    "\n",
    "    - The most frequent procedure is **Sell (1,203)**, followed by **Mortgage Registration (327)**. Procedures like **Delayed Sell (255)** also appear relatively often. Procedures such as **Development Mortgage** and **Grant on Delayed Sell** are rare, suggesting they can be dropped due to their low occurrence, which may not add value to the model.\n",
    "\n",
    "3.\t**Property Types**:\n",
    "\n",
    "    - **Land** dominates **(1,144)**, followed by **Villa (599)** and **Building (279)**. **Unit** properties are relatively few **(111)**. \n",
    "\n",
    "4.\t**Property Usage**:\n",
    "\n",
    "    - **Residential** is the dominant usage **(1,637)**, with a few **Commercial (182)** and Other categories. Given your focus on residential properties, this is a good direction to filter down and drop other property usages.\n",
    "\n",
    "5.\t**Registration Type**:\n",
    "\n",
    "    - Most properties are **Existing Properties (2,027)** with a small proportion of **Off-Plan Properties (106)**. \n",
    "\n",
    "6.\t**Master Projects**:\n",
    "\n",
    "    - **Jumeirah Garden City** is the only named master project **(528 entries)**. The remaining entries have missing values **(1,605)**. This could indicate many of the properties are not tied to larger development projects, which may be a notable feature to investigate for further analysis or imputation.\n",
    "\n",
    "7.\t**Project and Building Names**:\n",
    "\n",
    "    - Many entries have **missing Project (2,013)** and **Building (2,022)** names. Only a few specific projects like **Hyde Walk Residence by Imtiaz** and **Jardin Astral** are mentioned. Depending on their relevance, you may want to exclude missing project/building names or impute them where necessary.\n",
    "\n",
    "8.\t**Rooms**:\n",
    "\n",
    "    - A large portion of entries have missing room information (**2,022 missing values**), while a small fraction specifies **Studio (57)**, **1 B/R (50)**, or **2 B/R (4)**. The high proportion of missing values here may need special attention, and filtering non-residential properties (like “Other” or “Commercial”) could reduce this issue.\n",
    "\n",
    "9.\t**Procedure Area**, **Sale Price**, and **Actual Worth**:\n",
    "\n",
    "    - **Procedure Area** ranges significantly, with an average of **773 sq.m** but can be as large as **45,545 sq.m**.\n",
    "\n",
    "    - The **meter sale price** also has a wide range, with an average of **10,314 AED** per sq.m, but values range from **181 AED** to **180,831 AED**, indicating the diversity of property values.\n",
    "\n",
    "    - Actual worth ranges from **9,000 AED** to as much as **420 million AED**, reflecting a highly varied dataset in terms of property value."
   ]
  },
  {
   "cell_type": "markdown",
   "metadata": {},
   "source": [
    "### Property Type & Usage"
   ]
  },
  {
   "cell_type": "code",
   "execution_count": 57,
   "metadata": {},
   "outputs": [
    {
     "data": {
      "application/vnd.plotly.v1+json": {
       "config": {
        "plotlyServerURL": "https://plot.ly"
       },
       "data": [
        {
         "alignmentgroup": "True",
         "hovertemplate": "Count=count<br>Property Type=%{x}<br>value=%{y}<br>text=%{text}<extra></extra>",
         "legendgroup": "count",
         "marker": {
          "color": "#636efa",
          "pattern": {
           "shape": ""
          }
         },
         "name": "count",
         "offsetgroup": "count",
         "orientation": "v",
         "showlegend": true,
         "text": [
          1144,
          599,
          279,
          111
         ],
         "textposition": "auto",
         "type": "bar",
         "x": [
          "Land",
          "Villa",
          "Building",
          "Unit"
         ],
         "xaxis": "x",
         "y": [
          1144,
          599,
          279,
          111
         ],
         "yaxis": "y"
        }
       ],
       "layout": {
        "barmode": "relative",
        "legend": {
         "title": {
          "text": "Count"
         },
         "tracegroupgap": 0
        },
        "showlegend": false,
        "template": {
         "data": {
          "bar": [
           {
            "error_x": {
             "color": "#2a3f5f"
            },
            "error_y": {
             "color": "#2a3f5f"
            },
            "marker": {
             "line": {
              "color": "#E5ECF6",
              "width": 0.5
             },
             "pattern": {
              "fillmode": "overlay",
              "size": 10,
              "solidity": 0.2
             }
            },
            "type": "bar"
           }
          ],
          "barpolar": [
           {
            "marker": {
             "line": {
              "color": "#E5ECF6",
              "width": 0.5
             },
             "pattern": {
              "fillmode": "overlay",
              "size": 10,
              "solidity": 0.2
             }
            },
            "type": "barpolar"
           }
          ],
          "carpet": [
           {
            "aaxis": {
             "endlinecolor": "#2a3f5f",
             "gridcolor": "white",
             "linecolor": "white",
             "minorgridcolor": "white",
             "startlinecolor": "#2a3f5f"
            },
            "baxis": {
             "endlinecolor": "#2a3f5f",
             "gridcolor": "white",
             "linecolor": "white",
             "minorgridcolor": "white",
             "startlinecolor": "#2a3f5f"
            },
            "type": "carpet"
           }
          ],
          "choropleth": [
           {
            "colorbar": {
             "outlinewidth": 0,
             "ticks": ""
            },
            "type": "choropleth"
           }
          ],
          "contour": [
           {
            "colorbar": {
             "outlinewidth": 0,
             "ticks": ""
            },
            "colorscale": [
             [
              0,
              "#0d0887"
             ],
             [
              0.1111111111111111,
              "#46039f"
             ],
             [
              0.2222222222222222,
              "#7201a8"
             ],
             [
              0.3333333333333333,
              "#9c179e"
             ],
             [
              0.4444444444444444,
              "#bd3786"
             ],
             [
              0.5555555555555556,
              "#d8576b"
             ],
             [
              0.6666666666666666,
              "#ed7953"
             ],
             [
              0.7777777777777778,
              "#fb9f3a"
             ],
             [
              0.8888888888888888,
              "#fdca26"
             ],
             [
              1,
              "#f0f921"
             ]
            ],
            "type": "contour"
           }
          ],
          "contourcarpet": [
           {
            "colorbar": {
             "outlinewidth": 0,
             "ticks": ""
            },
            "type": "contourcarpet"
           }
          ],
          "heatmap": [
           {
            "colorbar": {
             "outlinewidth": 0,
             "ticks": ""
            },
            "colorscale": [
             [
              0,
              "#0d0887"
             ],
             [
              0.1111111111111111,
              "#46039f"
             ],
             [
              0.2222222222222222,
              "#7201a8"
             ],
             [
              0.3333333333333333,
              "#9c179e"
             ],
             [
              0.4444444444444444,
              "#bd3786"
             ],
             [
              0.5555555555555556,
              "#d8576b"
             ],
             [
              0.6666666666666666,
              "#ed7953"
             ],
             [
              0.7777777777777778,
              "#fb9f3a"
             ],
             [
              0.8888888888888888,
              "#fdca26"
             ],
             [
              1,
              "#f0f921"
             ]
            ],
            "type": "heatmap"
           }
          ],
          "heatmapgl": [
           {
            "colorbar": {
             "outlinewidth": 0,
             "ticks": ""
            },
            "colorscale": [
             [
              0,
              "#0d0887"
             ],
             [
              0.1111111111111111,
              "#46039f"
             ],
             [
              0.2222222222222222,
              "#7201a8"
             ],
             [
              0.3333333333333333,
              "#9c179e"
             ],
             [
              0.4444444444444444,
              "#bd3786"
             ],
             [
              0.5555555555555556,
              "#d8576b"
             ],
             [
              0.6666666666666666,
              "#ed7953"
             ],
             [
              0.7777777777777778,
              "#fb9f3a"
             ],
             [
              0.8888888888888888,
              "#fdca26"
             ],
             [
              1,
              "#f0f921"
             ]
            ],
            "type": "heatmapgl"
           }
          ],
          "histogram": [
           {
            "marker": {
             "pattern": {
              "fillmode": "overlay",
              "size": 10,
              "solidity": 0.2
             }
            },
            "type": "histogram"
           }
          ],
          "histogram2d": [
           {
            "colorbar": {
             "outlinewidth": 0,
             "ticks": ""
            },
            "colorscale": [
             [
              0,
              "#0d0887"
             ],
             [
              0.1111111111111111,
              "#46039f"
             ],
             [
              0.2222222222222222,
              "#7201a8"
             ],
             [
              0.3333333333333333,
              "#9c179e"
             ],
             [
              0.4444444444444444,
              "#bd3786"
             ],
             [
              0.5555555555555556,
              "#d8576b"
             ],
             [
              0.6666666666666666,
              "#ed7953"
             ],
             [
              0.7777777777777778,
              "#fb9f3a"
             ],
             [
              0.8888888888888888,
              "#fdca26"
             ],
             [
              1,
              "#f0f921"
             ]
            ],
            "type": "histogram2d"
           }
          ],
          "histogram2dcontour": [
           {
            "colorbar": {
             "outlinewidth": 0,
             "ticks": ""
            },
            "colorscale": [
             [
              0,
              "#0d0887"
             ],
             [
              0.1111111111111111,
              "#46039f"
             ],
             [
              0.2222222222222222,
              "#7201a8"
             ],
             [
              0.3333333333333333,
              "#9c179e"
             ],
             [
              0.4444444444444444,
              "#bd3786"
             ],
             [
              0.5555555555555556,
              "#d8576b"
             ],
             [
              0.6666666666666666,
              "#ed7953"
             ],
             [
              0.7777777777777778,
              "#fb9f3a"
             ],
             [
              0.8888888888888888,
              "#fdca26"
             ],
             [
              1,
              "#f0f921"
             ]
            ],
            "type": "histogram2dcontour"
           }
          ],
          "mesh3d": [
           {
            "colorbar": {
             "outlinewidth": 0,
             "ticks": ""
            },
            "type": "mesh3d"
           }
          ],
          "parcoords": [
           {
            "line": {
             "colorbar": {
              "outlinewidth": 0,
              "ticks": ""
             }
            },
            "type": "parcoords"
           }
          ],
          "pie": [
           {
            "automargin": true,
            "type": "pie"
           }
          ],
          "scatter": [
           {
            "fillpattern": {
             "fillmode": "overlay",
             "size": 10,
             "solidity": 0.2
            },
            "type": "scatter"
           }
          ],
          "scatter3d": [
           {
            "line": {
             "colorbar": {
              "outlinewidth": 0,
              "ticks": ""
             }
            },
            "marker": {
             "colorbar": {
              "outlinewidth": 0,
              "ticks": ""
             }
            },
            "type": "scatter3d"
           }
          ],
          "scattercarpet": [
           {
            "marker": {
             "colorbar": {
              "outlinewidth": 0,
              "ticks": ""
             }
            },
            "type": "scattercarpet"
           }
          ],
          "scattergeo": [
           {
            "marker": {
             "colorbar": {
              "outlinewidth": 0,
              "ticks": ""
             }
            },
            "type": "scattergeo"
           }
          ],
          "scattergl": [
           {
            "marker": {
             "colorbar": {
              "outlinewidth": 0,
              "ticks": ""
             }
            },
            "type": "scattergl"
           }
          ],
          "scattermapbox": [
           {
            "marker": {
             "colorbar": {
              "outlinewidth": 0,
              "ticks": ""
             }
            },
            "type": "scattermapbox"
           }
          ],
          "scatterpolar": [
           {
            "marker": {
             "colorbar": {
              "outlinewidth": 0,
              "ticks": ""
             }
            },
            "type": "scatterpolar"
           }
          ],
          "scatterpolargl": [
           {
            "marker": {
             "colorbar": {
              "outlinewidth": 0,
              "ticks": ""
             }
            },
            "type": "scatterpolargl"
           }
          ],
          "scatterternary": [
           {
            "marker": {
             "colorbar": {
              "outlinewidth": 0,
              "ticks": ""
             }
            },
            "type": "scatterternary"
           }
          ],
          "surface": [
           {
            "colorbar": {
             "outlinewidth": 0,
             "ticks": ""
            },
            "colorscale": [
             [
              0,
              "#0d0887"
             ],
             [
              0.1111111111111111,
              "#46039f"
             ],
             [
              0.2222222222222222,
              "#7201a8"
             ],
             [
              0.3333333333333333,
              "#9c179e"
             ],
             [
              0.4444444444444444,
              "#bd3786"
             ],
             [
              0.5555555555555556,
              "#d8576b"
             ],
             [
              0.6666666666666666,
              "#ed7953"
             ],
             [
              0.7777777777777778,
              "#fb9f3a"
             ],
             [
              0.8888888888888888,
              "#fdca26"
             ],
             [
              1,
              "#f0f921"
             ]
            ],
            "type": "surface"
           }
          ],
          "table": [
           {
            "cells": {
             "fill": {
              "color": "#EBF0F8"
             },
             "line": {
              "color": "white"
             }
            },
            "header": {
             "fill": {
              "color": "#C8D4E3"
             },
             "line": {
              "color": "white"
             }
            },
            "type": "table"
           }
          ]
         },
         "layout": {
          "annotationdefaults": {
           "arrowcolor": "#2a3f5f",
           "arrowhead": 0,
           "arrowwidth": 1
          },
          "autotypenumbers": "strict",
          "coloraxis": {
           "colorbar": {
            "outlinewidth": 0,
            "ticks": ""
           }
          },
          "colorscale": {
           "diverging": [
            [
             0,
             "#8e0152"
            ],
            [
             0.1,
             "#c51b7d"
            ],
            [
             0.2,
             "#de77ae"
            ],
            [
             0.3,
             "#f1b6da"
            ],
            [
             0.4,
             "#fde0ef"
            ],
            [
             0.5,
             "#f7f7f7"
            ],
            [
             0.6,
             "#e6f5d0"
            ],
            [
             0.7,
             "#b8e186"
            ],
            [
             0.8,
             "#7fbc41"
            ],
            [
             0.9,
             "#4d9221"
            ],
            [
             1,
             "#276419"
            ]
           ],
           "sequential": [
            [
             0,
             "#0d0887"
            ],
            [
             0.1111111111111111,
             "#46039f"
            ],
            [
             0.2222222222222222,
             "#7201a8"
            ],
            [
             0.3333333333333333,
             "#9c179e"
            ],
            [
             0.4444444444444444,
             "#bd3786"
            ],
            [
             0.5555555555555556,
             "#d8576b"
            ],
            [
             0.6666666666666666,
             "#ed7953"
            ],
            [
             0.7777777777777778,
             "#fb9f3a"
            ],
            [
             0.8888888888888888,
             "#fdca26"
            ],
            [
             1,
             "#f0f921"
            ]
           ],
           "sequentialminus": [
            [
             0,
             "#0d0887"
            ],
            [
             0.1111111111111111,
             "#46039f"
            ],
            [
             0.2222222222222222,
             "#7201a8"
            ],
            [
             0.3333333333333333,
             "#9c179e"
            ],
            [
             0.4444444444444444,
             "#bd3786"
            ],
            [
             0.5555555555555556,
             "#d8576b"
            ],
            [
             0.6666666666666666,
             "#ed7953"
            ],
            [
             0.7777777777777778,
             "#fb9f3a"
            ],
            [
             0.8888888888888888,
             "#fdca26"
            ],
            [
             1,
             "#f0f921"
            ]
           ]
          },
          "colorway": [
           "#636efa",
           "#EF553B",
           "#00cc96",
           "#ab63fa",
           "#FFA15A",
           "#19d3f3",
           "#FF6692",
           "#B6E880",
           "#FF97FF",
           "#FECB52"
          ],
          "font": {
           "color": "#2a3f5f"
          },
          "geo": {
           "bgcolor": "white",
           "lakecolor": "white",
           "landcolor": "#E5ECF6",
           "showlakes": true,
           "showland": true,
           "subunitcolor": "white"
          },
          "hoverlabel": {
           "align": "left"
          },
          "hovermode": "closest",
          "mapbox": {
           "style": "light"
          },
          "paper_bgcolor": "white",
          "plot_bgcolor": "#E5ECF6",
          "polar": {
           "angularaxis": {
            "gridcolor": "white",
            "linecolor": "white",
            "ticks": ""
           },
           "bgcolor": "#E5ECF6",
           "radialaxis": {
            "gridcolor": "white",
            "linecolor": "white",
            "ticks": ""
           }
          },
          "scene": {
           "xaxis": {
            "backgroundcolor": "#E5ECF6",
            "gridcolor": "white",
            "gridwidth": 2,
            "linecolor": "white",
            "showbackground": true,
            "ticks": "",
            "zerolinecolor": "white"
           },
           "yaxis": {
            "backgroundcolor": "#E5ECF6",
            "gridcolor": "white",
            "gridwidth": 2,
            "linecolor": "white",
            "showbackground": true,
            "ticks": "",
            "zerolinecolor": "white"
           },
           "zaxis": {
            "backgroundcolor": "#E5ECF6",
            "gridcolor": "white",
            "gridwidth": 2,
            "linecolor": "white",
            "showbackground": true,
            "ticks": "",
            "zerolinecolor": "white"
           }
          },
          "shapedefaults": {
           "line": {
            "color": "#2a3f5f"
           }
          },
          "ternary": {
           "aaxis": {
            "gridcolor": "white",
            "linecolor": "white",
            "ticks": ""
           },
           "baxis": {
            "gridcolor": "white",
            "linecolor": "white",
            "ticks": ""
           },
           "bgcolor": "#E5ECF6",
           "caxis": {
            "gridcolor": "white",
            "linecolor": "white",
            "ticks": ""
           }
          },
          "title": {
           "x": 0.05
          },
          "xaxis": {
           "automargin": true,
           "gridcolor": "white",
           "linecolor": "white",
           "ticks": "",
           "title": {
            "standoff": 15
           },
           "zerolinecolor": "white",
           "zerolinewidth": 2
          },
          "yaxis": {
           "automargin": true,
           "gridcolor": "white",
           "linecolor": "white",
           "ticks": "",
           "title": {
            "standoff": 15
           },
           "zerolinecolor": "white",
           "zerolinewidth": 2
          }
         }
        },
        "title": {
         "text": "Property Type Distribution"
        },
        "xaxis": {
         "anchor": "y",
         "domain": [
          0,
          1
         ],
         "title": {
          "text": "Property Type"
         }
        },
        "yaxis": {
         "anchor": "x",
         "domain": [
          0,
          1
         ],
         "title": {
          "text": "value"
         }
        }
       }
      }
     },
     "metadata": {},
     "output_type": "display_data"
    },
    {
     "data": {
      "application/vnd.plotly.v1+json": {
       "config": {
        "plotlyServerURL": "https://plot.ly"
       },
       "data": [
        {
         "alignmentgroup": "True",
         "hovertemplate": "Count=count<br>Property Usage=%{x}<br>value=%{y}<br>text=%{text}<extra></extra>",
         "legendgroup": "count",
         "marker": {
          "color": "#636efa",
          "pattern": {
           "shape": ""
          }
         },
         "name": "count",
         "offsetgroup": "count",
         "orientation": "v",
         "showlegend": true,
         "text": [
          1637,
          271,
          182,
          28,
          8,
          4,
          3
         ],
         "textposition": "auto",
         "type": "bar",
         "x": [
          "Residential",
          "Other",
          "Commercial",
          "Multi-Use",
          "Industrial",
          "Hospitality ",
          "Residential / Commercial"
         ],
         "xaxis": "x",
         "y": [
          1637,
          271,
          182,
          28,
          8,
          4,
          3
         ],
         "yaxis": "y"
        }
       ],
       "layout": {
        "barmode": "relative",
        "legend": {
         "title": {
          "text": "Count"
         },
         "tracegroupgap": 0
        },
        "showlegend": false,
        "template": {
         "data": {
          "bar": [
           {
            "error_x": {
             "color": "#2a3f5f"
            },
            "error_y": {
             "color": "#2a3f5f"
            },
            "marker": {
             "line": {
              "color": "#E5ECF6",
              "width": 0.5
             },
             "pattern": {
              "fillmode": "overlay",
              "size": 10,
              "solidity": 0.2
             }
            },
            "type": "bar"
           }
          ],
          "barpolar": [
           {
            "marker": {
             "line": {
              "color": "#E5ECF6",
              "width": 0.5
             },
             "pattern": {
              "fillmode": "overlay",
              "size": 10,
              "solidity": 0.2
             }
            },
            "type": "barpolar"
           }
          ],
          "carpet": [
           {
            "aaxis": {
             "endlinecolor": "#2a3f5f",
             "gridcolor": "white",
             "linecolor": "white",
             "minorgridcolor": "white",
             "startlinecolor": "#2a3f5f"
            },
            "baxis": {
             "endlinecolor": "#2a3f5f",
             "gridcolor": "white",
             "linecolor": "white",
             "minorgridcolor": "white",
             "startlinecolor": "#2a3f5f"
            },
            "type": "carpet"
           }
          ],
          "choropleth": [
           {
            "colorbar": {
             "outlinewidth": 0,
             "ticks": ""
            },
            "type": "choropleth"
           }
          ],
          "contour": [
           {
            "colorbar": {
             "outlinewidth": 0,
             "ticks": ""
            },
            "colorscale": [
             [
              0,
              "#0d0887"
             ],
             [
              0.1111111111111111,
              "#46039f"
             ],
             [
              0.2222222222222222,
              "#7201a8"
             ],
             [
              0.3333333333333333,
              "#9c179e"
             ],
             [
              0.4444444444444444,
              "#bd3786"
             ],
             [
              0.5555555555555556,
              "#d8576b"
             ],
             [
              0.6666666666666666,
              "#ed7953"
             ],
             [
              0.7777777777777778,
              "#fb9f3a"
             ],
             [
              0.8888888888888888,
              "#fdca26"
             ],
             [
              1,
              "#f0f921"
             ]
            ],
            "type": "contour"
           }
          ],
          "contourcarpet": [
           {
            "colorbar": {
             "outlinewidth": 0,
             "ticks": ""
            },
            "type": "contourcarpet"
           }
          ],
          "heatmap": [
           {
            "colorbar": {
             "outlinewidth": 0,
             "ticks": ""
            },
            "colorscale": [
             [
              0,
              "#0d0887"
             ],
             [
              0.1111111111111111,
              "#46039f"
             ],
             [
              0.2222222222222222,
              "#7201a8"
             ],
             [
              0.3333333333333333,
              "#9c179e"
             ],
             [
              0.4444444444444444,
              "#bd3786"
             ],
             [
              0.5555555555555556,
              "#d8576b"
             ],
             [
              0.6666666666666666,
              "#ed7953"
             ],
             [
              0.7777777777777778,
              "#fb9f3a"
             ],
             [
              0.8888888888888888,
              "#fdca26"
             ],
             [
              1,
              "#f0f921"
             ]
            ],
            "type": "heatmap"
           }
          ],
          "heatmapgl": [
           {
            "colorbar": {
             "outlinewidth": 0,
             "ticks": ""
            },
            "colorscale": [
             [
              0,
              "#0d0887"
             ],
             [
              0.1111111111111111,
              "#46039f"
             ],
             [
              0.2222222222222222,
              "#7201a8"
             ],
             [
              0.3333333333333333,
              "#9c179e"
             ],
             [
              0.4444444444444444,
              "#bd3786"
             ],
             [
              0.5555555555555556,
              "#d8576b"
             ],
             [
              0.6666666666666666,
              "#ed7953"
             ],
             [
              0.7777777777777778,
              "#fb9f3a"
             ],
             [
              0.8888888888888888,
              "#fdca26"
             ],
             [
              1,
              "#f0f921"
             ]
            ],
            "type": "heatmapgl"
           }
          ],
          "histogram": [
           {
            "marker": {
             "pattern": {
              "fillmode": "overlay",
              "size": 10,
              "solidity": 0.2
             }
            },
            "type": "histogram"
           }
          ],
          "histogram2d": [
           {
            "colorbar": {
             "outlinewidth": 0,
             "ticks": ""
            },
            "colorscale": [
             [
              0,
              "#0d0887"
             ],
             [
              0.1111111111111111,
              "#46039f"
             ],
             [
              0.2222222222222222,
              "#7201a8"
             ],
             [
              0.3333333333333333,
              "#9c179e"
             ],
             [
              0.4444444444444444,
              "#bd3786"
             ],
             [
              0.5555555555555556,
              "#d8576b"
             ],
             [
              0.6666666666666666,
              "#ed7953"
             ],
             [
              0.7777777777777778,
              "#fb9f3a"
             ],
             [
              0.8888888888888888,
              "#fdca26"
             ],
             [
              1,
              "#f0f921"
             ]
            ],
            "type": "histogram2d"
           }
          ],
          "histogram2dcontour": [
           {
            "colorbar": {
             "outlinewidth": 0,
             "ticks": ""
            },
            "colorscale": [
             [
              0,
              "#0d0887"
             ],
             [
              0.1111111111111111,
              "#46039f"
             ],
             [
              0.2222222222222222,
              "#7201a8"
             ],
             [
              0.3333333333333333,
              "#9c179e"
             ],
             [
              0.4444444444444444,
              "#bd3786"
             ],
             [
              0.5555555555555556,
              "#d8576b"
             ],
             [
              0.6666666666666666,
              "#ed7953"
             ],
             [
              0.7777777777777778,
              "#fb9f3a"
             ],
             [
              0.8888888888888888,
              "#fdca26"
             ],
             [
              1,
              "#f0f921"
             ]
            ],
            "type": "histogram2dcontour"
           }
          ],
          "mesh3d": [
           {
            "colorbar": {
             "outlinewidth": 0,
             "ticks": ""
            },
            "type": "mesh3d"
           }
          ],
          "parcoords": [
           {
            "line": {
             "colorbar": {
              "outlinewidth": 0,
              "ticks": ""
             }
            },
            "type": "parcoords"
           }
          ],
          "pie": [
           {
            "automargin": true,
            "type": "pie"
           }
          ],
          "scatter": [
           {
            "fillpattern": {
             "fillmode": "overlay",
             "size": 10,
             "solidity": 0.2
            },
            "type": "scatter"
           }
          ],
          "scatter3d": [
           {
            "line": {
             "colorbar": {
              "outlinewidth": 0,
              "ticks": ""
             }
            },
            "marker": {
             "colorbar": {
              "outlinewidth": 0,
              "ticks": ""
             }
            },
            "type": "scatter3d"
           }
          ],
          "scattercarpet": [
           {
            "marker": {
             "colorbar": {
              "outlinewidth": 0,
              "ticks": ""
             }
            },
            "type": "scattercarpet"
           }
          ],
          "scattergeo": [
           {
            "marker": {
             "colorbar": {
              "outlinewidth": 0,
              "ticks": ""
             }
            },
            "type": "scattergeo"
           }
          ],
          "scattergl": [
           {
            "marker": {
             "colorbar": {
              "outlinewidth": 0,
              "ticks": ""
             }
            },
            "type": "scattergl"
           }
          ],
          "scattermapbox": [
           {
            "marker": {
             "colorbar": {
              "outlinewidth": 0,
              "ticks": ""
             }
            },
            "type": "scattermapbox"
           }
          ],
          "scatterpolar": [
           {
            "marker": {
             "colorbar": {
              "outlinewidth": 0,
              "ticks": ""
             }
            },
            "type": "scatterpolar"
           }
          ],
          "scatterpolargl": [
           {
            "marker": {
             "colorbar": {
              "outlinewidth": 0,
              "ticks": ""
             }
            },
            "type": "scatterpolargl"
           }
          ],
          "scatterternary": [
           {
            "marker": {
             "colorbar": {
              "outlinewidth": 0,
              "ticks": ""
             }
            },
            "type": "scatterternary"
           }
          ],
          "surface": [
           {
            "colorbar": {
             "outlinewidth": 0,
             "ticks": ""
            },
            "colorscale": [
             [
              0,
              "#0d0887"
             ],
             [
              0.1111111111111111,
              "#46039f"
             ],
             [
              0.2222222222222222,
              "#7201a8"
             ],
             [
              0.3333333333333333,
              "#9c179e"
             ],
             [
              0.4444444444444444,
              "#bd3786"
             ],
             [
              0.5555555555555556,
              "#d8576b"
             ],
             [
              0.6666666666666666,
              "#ed7953"
             ],
             [
              0.7777777777777778,
              "#fb9f3a"
             ],
             [
              0.8888888888888888,
              "#fdca26"
             ],
             [
              1,
              "#f0f921"
             ]
            ],
            "type": "surface"
           }
          ],
          "table": [
           {
            "cells": {
             "fill": {
              "color": "#EBF0F8"
             },
             "line": {
              "color": "white"
             }
            },
            "header": {
             "fill": {
              "color": "#C8D4E3"
             },
             "line": {
              "color": "white"
             }
            },
            "type": "table"
           }
          ]
         },
         "layout": {
          "annotationdefaults": {
           "arrowcolor": "#2a3f5f",
           "arrowhead": 0,
           "arrowwidth": 1
          },
          "autotypenumbers": "strict",
          "coloraxis": {
           "colorbar": {
            "outlinewidth": 0,
            "ticks": ""
           }
          },
          "colorscale": {
           "diverging": [
            [
             0,
             "#8e0152"
            ],
            [
             0.1,
             "#c51b7d"
            ],
            [
             0.2,
             "#de77ae"
            ],
            [
             0.3,
             "#f1b6da"
            ],
            [
             0.4,
             "#fde0ef"
            ],
            [
             0.5,
             "#f7f7f7"
            ],
            [
             0.6,
             "#e6f5d0"
            ],
            [
             0.7,
             "#b8e186"
            ],
            [
             0.8,
             "#7fbc41"
            ],
            [
             0.9,
             "#4d9221"
            ],
            [
             1,
             "#276419"
            ]
           ],
           "sequential": [
            [
             0,
             "#0d0887"
            ],
            [
             0.1111111111111111,
             "#46039f"
            ],
            [
             0.2222222222222222,
             "#7201a8"
            ],
            [
             0.3333333333333333,
             "#9c179e"
            ],
            [
             0.4444444444444444,
             "#bd3786"
            ],
            [
             0.5555555555555556,
             "#d8576b"
            ],
            [
             0.6666666666666666,
             "#ed7953"
            ],
            [
             0.7777777777777778,
             "#fb9f3a"
            ],
            [
             0.8888888888888888,
             "#fdca26"
            ],
            [
             1,
             "#f0f921"
            ]
           ],
           "sequentialminus": [
            [
             0,
             "#0d0887"
            ],
            [
             0.1111111111111111,
             "#46039f"
            ],
            [
             0.2222222222222222,
             "#7201a8"
            ],
            [
             0.3333333333333333,
             "#9c179e"
            ],
            [
             0.4444444444444444,
             "#bd3786"
            ],
            [
             0.5555555555555556,
             "#d8576b"
            ],
            [
             0.6666666666666666,
             "#ed7953"
            ],
            [
             0.7777777777777778,
             "#fb9f3a"
            ],
            [
             0.8888888888888888,
             "#fdca26"
            ],
            [
             1,
             "#f0f921"
            ]
           ]
          },
          "colorway": [
           "#636efa",
           "#EF553B",
           "#00cc96",
           "#ab63fa",
           "#FFA15A",
           "#19d3f3",
           "#FF6692",
           "#B6E880",
           "#FF97FF",
           "#FECB52"
          ],
          "font": {
           "color": "#2a3f5f"
          },
          "geo": {
           "bgcolor": "white",
           "lakecolor": "white",
           "landcolor": "#E5ECF6",
           "showlakes": true,
           "showland": true,
           "subunitcolor": "white"
          },
          "hoverlabel": {
           "align": "left"
          },
          "hovermode": "closest",
          "mapbox": {
           "style": "light"
          },
          "paper_bgcolor": "white",
          "plot_bgcolor": "#E5ECF6",
          "polar": {
           "angularaxis": {
            "gridcolor": "white",
            "linecolor": "white",
            "ticks": ""
           },
           "bgcolor": "#E5ECF6",
           "radialaxis": {
            "gridcolor": "white",
            "linecolor": "white",
            "ticks": ""
           }
          },
          "scene": {
           "xaxis": {
            "backgroundcolor": "#E5ECF6",
            "gridcolor": "white",
            "gridwidth": 2,
            "linecolor": "white",
            "showbackground": true,
            "ticks": "",
            "zerolinecolor": "white"
           },
           "yaxis": {
            "backgroundcolor": "#E5ECF6",
            "gridcolor": "white",
            "gridwidth": 2,
            "linecolor": "white",
            "showbackground": true,
            "ticks": "",
            "zerolinecolor": "white"
           },
           "zaxis": {
            "backgroundcolor": "#E5ECF6",
            "gridcolor": "white",
            "gridwidth": 2,
            "linecolor": "white",
            "showbackground": true,
            "ticks": "",
            "zerolinecolor": "white"
           }
          },
          "shapedefaults": {
           "line": {
            "color": "#2a3f5f"
           }
          },
          "ternary": {
           "aaxis": {
            "gridcolor": "white",
            "linecolor": "white",
            "ticks": ""
           },
           "baxis": {
            "gridcolor": "white",
            "linecolor": "white",
            "ticks": ""
           },
           "bgcolor": "#E5ECF6",
           "caxis": {
            "gridcolor": "white",
            "linecolor": "white",
            "ticks": ""
           }
          },
          "title": {
           "x": 0.05
          },
          "xaxis": {
           "automargin": true,
           "gridcolor": "white",
           "linecolor": "white",
           "ticks": "",
           "title": {
            "standoff": 15
           },
           "zerolinecolor": "white",
           "zerolinewidth": 2
          },
          "yaxis": {
           "automargin": true,
           "gridcolor": "white",
           "linecolor": "white",
           "ticks": "",
           "title": {
            "standoff": 15
           },
           "zerolinecolor": "white",
           "zerolinewidth": 2
          }
         }
        },
        "title": {
         "text": "Property Usage Distribution"
        },
        "xaxis": {
         "anchor": "y",
         "domain": [
          0,
          1
         ],
         "title": {
          "text": "Property Usage"
         }
        },
        "yaxis": {
         "anchor": "x",
         "domain": [
          0,
          1
         ],
         "title": {
          "text": "value"
         }
        }
       }
      }
     },
     "metadata": {},
     "output_type": "display_data"
    },
    {
     "name": "stdout",
     "output_type": "stream",
     "text": [
      "Property Type Distribution:\n",
      "property_type_en\n",
      "Land        1144\n",
      "Villa        599\n",
      "Building     279\n",
      "Unit         111\n",
      "Name: count, dtype: int64\n",
      "Property Usage Distribution:\n",
      "property_usage_en\n",
      "Residential                 1637\n",
      "Other                        271\n",
      "Commercial                   182\n",
      "Multi-Use                     28\n",
      "Industrial                     8\n",
      "Hospitality                    4\n",
      "Residential / Commercial       3\n",
      "Name: count, dtype: int64\n"
     ]
    }
   ],
   "source": [
    "import os \n",
    "\n",
    "# Create output folder for saving plots\n",
    "output_dir = \"plots/\"\n",
    "os.makedirs(output_dir, exist_ok=True)\n",
    "\n",
    "# Group by property type\n",
    "property_type_counts = transactions_satwa['property_type_en'].value_counts()\n",
    "property_type_fig = px.bar(property_type_counts, title=\"Property Type Distribution\", \n",
    "                           labels={'property_type_en': 'Property Type', 'variable': 'Count'}, \n",
    "                           text=property_type_counts.values)\n",
    "# Hide the legend\n",
    "property_type_fig.update_layout(showlegend=False)\n",
    "\n",
    "property_type_fig.write_image(f\"{output_dir}/property_type_distribution.png\")\n",
    "property_type_fig.show()\n",
    "\n",
    "# Group by property usage\n",
    "property_usage_counts = transactions_satwa['property_usage_en'].value_counts()\n",
    "property_usage_fig = px.bar(property_usage_counts, title=\"Property Usage Distribution\", \n",
    "                            labels={'property_usage_en': 'Property Usage', 'variable': 'Count'}, \n",
    "                            text=property_usage_counts.values)\n",
    "\n",
    "# Hide the legend\n",
    "property_usage_fig.update_layout(showlegend=False)\n",
    "\n",
    "property_usage_fig.write_image(f\"{output_dir}/property_usage_distribution.png\")\n",
    "property_usage_fig.show()\n",
    "\n",
    "print(\"Property Type Distribution:\")\n",
    "print(property_type_counts)\n",
    "\n",
    "print(\"Property Usage Distribution:\")\n",
    "print(property_usage_counts)"
   ]
  },
  {
   "cell_type": "markdown",
   "metadata": {},
   "source": [
    "**Property Type Distribution**:\n",
    "\n",
    "- **Land (1144)**: The majority of properties in this dataset are land plots. This might indicate a high potential for new developments or investment opportunities in this area. Investors or developers looking to build may find this significant.\n",
    "\n",
    "- **Villa (599)**: Villas represent a substantial portion of the properties, indicating that the area is residential in nature with a focus on high-value properties. Villas typically appeal to families or luxury buyers, so this could be a key selling point.\n",
    "\n",
    "- **Building (279)**: There are a moderate number of buildings, possibly including both commercial and residential. This adds diversity to the property market and could attract investors looking for multi-unit buildings.\n",
    "\n",
    "- **Unit (111)**: Apartments or smaller residential units make up a smaller segment, indicating that while there is availability for smaller units, the focus is more on land and villas.\n",
    "\n",
    "**Property Usage Distribution**:\n",
    "\n",
    "- **Residential (1637)**: The vast majority of properties are residential, which shows that this area is heavily geared towards housing rather than commercial or industrial use. This is valuable for agents targeting families, expatriates, or long-term residents.\n",
    "\n",
    "- **Other (271) and Commercial (182)**: While significantly smaller, these categories suggest some diversity in property use, potentially offering opportunities for mixed-use developments or retail spaces.\n",
    "\n",
    "- **Multi-Use (28)**: There is some potential for mixed-use projects, which could attract buyers looking for both commercial and residential opportunities in one place.\n",
    "\n",
    "- **Industrial (8) and Hospitality (4)**: These are very minimal, suggesting that the area is not primarily industrial or focused on tourism, but it’s good to know there are some commercial opportunities.\n",
    "\n",
    "**Insights**:\n",
    "\n",
    "- The dominance of residential properties and land suggests this area is ripe for development, particularly in the residential and villa market. The significant portion of land and villas shows potential for luxury residential projects or investment in new developments.\n",
    "\n",
    "- The relatively smaller presence of units and buildings indicates that there is room for growth in higher-density housing if developers are looking for areas with untapped potential.\n"
   ]
  },
  {
   "cell_type": "markdown",
   "metadata": {},
   "source": [
    "### Property Size (Procedure Area)"
   ]
  },
  {
   "cell_type": "code",
   "execution_count": 58,
   "metadata": {},
   "outputs": [
    {
     "name": "stdout",
     "output_type": "stream",
     "text": [
      "\n",
      "Property Size (Procedure Area) Stats:\n",
      "count     2133.000000\n",
      "mean       773.377829\n",
      "std       2243.637882\n",
      "min          3.450000\n",
      "25%        232.000000\n",
      "50%        232.260000\n",
      "75%       1068.380000\n",
      "max      45545.970000\n",
      "Name: procedure_area, dtype: float64\n"
     ]
    },
    {
     "data": {
      "application/vnd.plotly.v1+json": {
       "config": {
        "plotlyServerURL": "https://plot.ly"
       },
       "data": [
        {
         "alignmentgroup": "True",
         "bingroup": "x",
         "hovertemplate": "Property Size (sqm)=%{x}<br>count=%{y}<extra></extra>",
         "legendgroup": "",
         "marker": {
          "color": "#636efa",
          "pattern": {
           "shape": ""
          }
         },
         "name": "",
         "nbinsx": 100,
         "offsetgroup": "",
         "orientation": "v",
         "showlegend": false,
         "type": "histogram",
         "x": [
          40.65,
          221.02,
          231.7,
          19.35,
          239.23,
          232.26,
          232.26,
          231.24,
          232.82,
          232.26,
          222.04,
          1393.55,
          297.29,
          232,
          1401.84,
          1157.81,
          35.6,
          89.64,
          1543.72,
          1662.63,
          185.81,
          228.73,
          46.45,
          551.84,
          474.26,
          232.26,
          232.26,
          232.26,
          232.26,
          224.45,
          232.26,
          232.26,
          226.87,
          1347.95,
          234.67,
          1395,
          232.26,
          77.42,
          232.26,
          232.26,
          232.26,
          232.81,
          232.26,
          487.74,
          230.12,
          1129.33,
          1393.55,
          232.26,
          227.61,
          929.03,
          1340,
          2722.74,
          1395.38,
          935.81,
          227.61,
          1152.13,
          232.26,
          232.26,
          231.42,
          232.81,
          232.26,
          227.61,
          1345.37,
          651.25,
          243.22,
          234.12,
          181.16,
          232.26,
          232.26,
          232.63,
          1719.36,
          232.26,
          232.26,
          278.71,
          1504.1,
          1374.96,
          1068.38,
          1393.55,
          232.26,
          928.59,
          87.56,
          35.88,
          97.28,
          883.92,
          178.37,
          263.19,
          232.26,
          231.33,
          233.37,
          232.26,
          232.26,
          1858.06,
          232.26,
          232.26,
          1393.55,
          232.26,
          106,
          253.24,
          213.68,
          594.58,
          3646.54,
          868.64,
          1374.96,
          1114.97,
          39.36,
          872.75,
          1195.44,
          1109.49,
          1314.14,
          232.26,
          278.71,
          232.26,
          505.21,
          929.01,
          232.26,
          116.13,
          232.26,
          482.17,
          232.26,
          1129.33,
          594.58,
          232.26,
          1150.12,
          1395.37,
          35.6,
          2483.66,
          1033.07,
          232.26,
          231.79,
          232.26,
          232.26,
          213.68,
          231.89,
          231.89,
          92.9,
          1774.65,
          232.26,
          25.79,
          1719.36,
          232.26,
          232.26,
          230.12,
          1393.55,
          3660.47,
          1393.55,
          2448.89,
          89.64,
          35.6,
          1315.38,
          1044,
          69.37,
          1436.58,
          1376.55,
          1448.76,
          1662.9,
          234.21,
          262.92,
          232.26,
          232.26,
          232.26,
          1395.37,
          1323.87,
          1098.91,
          559.83,
          106,
          232.26,
          1157.8,
          480.4,
          232.26,
          232.26,
          232.26,
          232.81,
          116.13,
          230.12,
          232.26,
          504.46,
          230.59,
          232.26,
          45545.97,
          232,
          35.76,
          35.76,
          87.56,
          1114.81,
          1377.37,
          1158.6,
          1395.69,
          1350.02,
          1209,
          232.26,
          233.09,
          233.37,
          232.26,
          301.66,
          232.26,
          929.03,
          232.26,
          1548.93,
          232.26,
          232.26,
          232.26,
          213.03,
          243.92,
          233.65,
          225.85,
          213.68,
          232.26,
          278.71,
          510.97,
          234.58,
          243.87,
          1858.06,
          1393.55,
          1025.25,
          87.31,
          70.87,
          929.37,
          1394.28,
          232.26,
          225.75,
          234.21,
          232.26,
          185.81,
          496.57,
          232,
          232.26,
          199.74,
          929.03,
          232.26,
          196.52,
          232.26,
          231.05,
          232.26,
          232.26,
          25.4,
          584.73,
          232.26,
          202.65,
          15.99,
          116.13,
          482.17,
          233.37,
          487.74,
          232.26,
          232.26,
          116.13,
          282.43,
          282.43,
          1157.81,
          35.88,
          35.94,
          71.62,
          1395.37,
          1374.96,
          2797.05,
          1443.97,
          1282.06,
          227.61,
          803.8,
          136.45,
          232.26,
          232.26,
          205.87,
          231.51,
          1156.17,
          234.95,
          232.26,
          334.45,
          1393.55,
          1157.8,
          929.03,
          348.39,
          232.26,
          232.26,
          232.26,
          464.52,
          38.71,
          232.26,
          230.12,
          1335.48,
          232.26,
          232.26,
          232.24,
          39.6,
          89.64,
          35.76,
          1315.38,
          1395.38,
          934.81,
          1190.11,
          10285.76,
          232.26,
          232.26,
          1374.96,
          228.82,
          1393.55,
          238.48,
          232.26,
          458.66,
          334.45,
          1037.69,
          1209.09,
          231.33,
          127.83,
          222.97,
          2739.26,
          234.58,
          232.81,
          236.35,
          236.35,
          229.28,
          233.37,
          233.37,
          232.26,
          232.26,
          213.68,
          232.26,
          70.33,
          223.86,
          1393.55,
          35.6,
          87.31,
          883.92,
          73.95,
          232.26,
          232.26,
          228.73,
          232.81,
          113.06,
          232.26,
          232.26,
          225.29,
          232.26,
          232.26,
          232.26,
          1395.34,
          1939.16,
          229.28,
          232.26,
          139.35,
          482.17,
          232.26,
          116.13,
          416.84,
          232.26,
          1623.94,
          4162.95,
          39.34,
          1033.07,
          223.8,
          2489.8,
          910.45,
          232.26,
          227.61,
          1393.55,
          1401.84,
          1300.64,
          1325.88,
          2770.65,
          277.32,
          194.92,
          232.26,
          358.05,
          232.26,
          232.26,
          227.61,
          230.12,
          1068.38,
          226.31,
          594.58,
          232.26,
          594.58,
          232,
          1377.38,
          70.87,
          54.71,
          71.62,
          2044.33,
          923.24,
          1044,
          919.03,
          1044,
          929.15,
          929.37,
          721.74,
          1620.52,
          1043.86,
          1374.93,
          225.75,
          929.03,
          232.26,
          929.03,
          1335.95,
          232.26,
          227.61,
          1224.44,
          213.68,
          232.26,
          232.26,
          232.26,
          234.95,
          232.26,
          1898.29,
          232.26,
          232.26,
          233.37,
          232.26,
          482.17,
          232.26,
          195.1,
          233.47,
          234.58,
          1068.38,
          1335.48,
          232.63,
          1374.96,
          594.58,
          1305.29,
          2136.77,
          221.02,
          95.92,
          1340,
          928.91,
          54.71,
          96,
          87.56,
          883.92,
          1154.83,
          233.37,
          929.03,
          232.26,
          232.26,
          151.43,
          1774.45,
          230.4,
          230.4,
          929.03,
          594.58,
          594.58,
          615.76,
          222.97,
          232.63,
          234.02,
          232.26,
          232.26,
          232.26,
          234.12,
          278.71,
          232.26,
          1393.55,
          11259.84,
          1232.85,
          1391.62,
          1246.47,
          872.75,
          1125.85,
          232.26,
          232.26,
          232.26,
          227.98,
          231.51,
          113.87,
          2581.58,
          54.2,
          232.26,
          57.76,
          1395.38,
          1399.12,
          234.12,
          168.82,
          231.61,
          229.28,
          232.26,
          274.06,
          232.81,
          232.26,
          232.26,
          232.82,
          232.26,
          1392.15,
          166.95,
          1393.55,
          1401.84,
          35.88,
          1503.18,
          1081.79,
          1382.87,
          929.26,
          1412.97,
          253.07,
          232.26,
          205.13,
          228.91,
          232.26,
          232.26,
          232.26,
          232.26,
          1173.36,
          1325.88,
          232.26,
          232.26,
          1132.99,
          232.26,
          232.26,
          1040.9,
          1000.38,
          232.26,
          226,
          232.26,
          227.61,
          232.26,
          1347.09,
          180.22,
          232.26,
          1393.55,
          87.31,
          1395.37,
          152.96,
          1443.47,
          2831.24,
          1413.55,
          231.42,
          227.61,
          232,
          232.26,
          230.4,
          232.26,
          232.26,
          232.26,
          230.68,
          1224.45,
          232.26,
          27.1,
          232.26,
          232.26,
          234.12,
          464.52,
          227.61,
          235.32,
          232.26,
          1393.55,
          226.31,
          1374.96,
          944.17,
          13679.87,
          1814.47,
          910.45,
          71.62,
          39.67,
          39.6,
          1325.74,
          1044,
          2790.74,
          232.26,
          232,
          227.61,
          230.77,
          1323.87,
          929.23,
          71.82,
          135.21,
          234.12,
          229.28,
          117.29,
          232.26,
          1393.55,
          1393.55,
          1393.55,
          1305.29,
          12253.91,
          232.26,
          36529.32,
          35.88,
          1102.88,
          1134.2,
          441.96,
          1395.38,
          1394.28,
          1477.36,
          225.2,
          232.26,
          232.26,
          227.61,
          232.26,
          232.81,
          232.26,
          446.86,
          232.26,
          234.95,
          1939.16,
          1393.55,
          232.26,
          1395.37,
          276.76,
          231.79,
          232.26,
          232.26,
          232.26,
          205.78,
          232.26,
          1059.09,
          232.26,
          1323.87,
          1305.29,
          226.31,
          1553.34,
          1384.25,
          928.83,
          4141.82,
          1369.91,
          1377.61,
          227.61,
          232.26,
          183.86,
          232.26,
          369.57,
          227.61,
          232.26,
          162.86,
          232.26,
          232.26,
          232.26,
          232.26,
          232.26,
          1393.55,
          222.97,
          1325.88,
          233.37,
          232.26,
          234.02,
          232.26,
          233.37,
          209.03,
          231.51,
          232.63,
          1241.09,
          227.61,
          232.26,
          35.88,
          39.59,
          929.09,
          1158.49,
          1395.36,
          1785.32,
          232.26,
          232.26,
          232.26,
          232.26,
          230.4,
          232.26,
          29.03,
          232.26,
          227.61,
          232.26,
          232.26,
          1401.84,
          535.68,
          232.26,
          113.74,
          232.26,
          232.26,
          232.26,
          233,
          232.26,
          232.26,
          1393.55,
          160.41,
          278.71,
          29.03,
          1393.55,
          594.58,
          594.58,
          929.03,
          668.9,
          232,
          1421,
          1527.06,
          54.71,
          71.62,
          1210.18,
          1833.06,
          1395.37,
          911.96,
          232.26,
          232.26,
          58.06,
          232.26,
          232.26,
          1177.75,
          9.35,
          232.26,
          1393.55,
          277.32,
          232.26,
          232.26,
          9606.8,
          166.95,
          984.77,
          232.26,
          232,
          1395.37,
          46.42,
          1232.85,
          1545.7,
          1395.09,
          232.26,
          226.68,
          232.26,
          232.26,
          232.26,
          228.17,
          231.42,
          232,
          232.26,
          224.45,
          232.25,
          929.03,
          232.26,
          230.4,
          232.26,
          232.26,
          234.95,
          1393.55,
          213.03,
          994.15,
          232.26,
          232.26,
          48.53,
          276.76,
          276.76,
          232.26,
          236.07,
          232.26,
          232.26,
          233.47,
          222.97,
          77.42,
          1371.53,
          724.64,
          232,
          1430.47,
          928.83,
          1377.37,
          1224.44,
          1377.38,
          35.75,
          35.76,
          1044,
          1345.37,
          1373.63,
          253.07,
          232.26,
          232.26,
          222.97,
          232.26,
          232.26,
          232.26,
          232.26,
          1323.87,
          1094.95,
          181.16,
          232.26,
          232.26,
          213.68,
          232.26,
          232.26,
          232.26,
          232.26,
          232.26,
          594.58,
          1393.55,
          1393.55,
          232.26,
          1305.29,
          926.94,
          1326.01,
          883.92,
          929.13,
          232.26,
          230.03,
          232.26,
          232.26,
          232.26,
          232.26,
          1194.06,
          232.26,
          232.26,
          232.26,
          1325.88,
          1224.45,
          232.26,
          232.26,
          232.26,
          226.13,
          232.26,
          1003.35,
          1950.96,
          1393.55,
          230.59,
          668.9,
          232,
          232.26,
          1040.72,
          89.64,
          70.87,
          1395.38,
          1415.35,
          1395.04,
          1043.86,
          232.26,
          1377.37,
          232.26,
          183.86,
          232.26,
          232.26,
          232.26,
          218.79,
          228.91,
          232.26,
          51.61,
          232.26,
          181.16,
          483.08,
          1898.29,
          222.87,
          232.26,
          232.26,
          231.51,
          233,
          40.64,
          227.61,
          231.89,
          233.37,
          1068.38,
          1393.55,
          227.61,
          929.03,
          1398.84,
          1395.38,
          1395.38,
          35.76,
          87.56,
          1008.3,
          1076.28,
          1395.37,
          929.03,
          232.26,
          232.26,
          232.26,
          232.26,
          232.26,
          212,
          232.26,
          232.26,
          232.26,
          232.26,
          232.26,
          2023.43,
          231.05,
          234.95,
          67.74,
          203.22,
          142.73,
          232.81,
          10.34,
          232.26,
          232.26,
          232.26,
          232.26,
          233.93,
          209.03,
          227.61,
          1950.96,
          229.01,
          222.04,
          1374.96,
          255.35,
          1391.62,
          1040.75,
          929.02,
          89.64,
          35.6,
          39.4,
          1345.37,
          929.37,
          1373.63,
          1409.66,
          1394.93,
          232.26,
          231.42,
          444.07,
          232.35,
          233.19,
          232.26,
          278.71,
          2581.58,
          226.78,
          227.61,
          1133.21,
          1395,
          38.71,
          229.93,
          117.29,
          213.68,
          482.17,
          227.61,
          232.26,
          234.58,
          243.22,
          1347.09,
          594.58,
          16.59,
          1677.76,
          1540.46,
          35.76,
          1395.38,
          1194.52,
          883.92,
          934.81,
          1159.87,
          1626.21,
          1394.93,
          232.26,
          232.26,
          232.26,
          232.26,
          205.87,
          238.48,
          230.77,
          232.26,
          1124.13,
          232.26,
          1316.9,
          231.89,
          1898.29,
          2733.81,
          1358.88,
          232.26,
          232.26,
          232.26,
          232.26,
          209.31,
          487.74,
          464.52,
          1393.55,
          929.03,
          1003.35,
          233,
          1393.55,
          1323.87,
          1305.29,
          13679.87,
          1398.84,
          89.64,
          54.71,
          80.7,
          1008.31,
          1395.37,
          1395.37,
          1246.77,
          1576.99,
          4110.86,
          231.33,
          232.26,
          210.33,
          232.26,
          232.26,
          232.26,
          231.7,
          232.26,
          1374.96,
          232.63,
          1376.47,
          1266.16,
          232.26,
          230.86,
          232.26,
          482.17,
          231.05,
          232.26,
          232.26,
          1393.55,
          597.64,
          1049.8,
          3646.54,
          163.42,
          1393.55,
          1398.84,
          1325.74,
          1395.37,
          1033.07,
          1544.34,
          232.26,
          227.61,
          232.26,
          278.71,
          232.26,
          232.26,
          203.23,
          232.26,
          420.85,
          232.26,
          334.45,
          234.12,
          234.12,
          1395.37,
          232.26,
          1393.55,
          1393.55,
          209.03,
          232.26,
          482.17,
          1405.53,
          231.89,
          1068.38,
          1393.55,
          1421,
          35.94,
          1210,
          1373.63,
          2859.67,
          1224.44,
          1544.89,
          1441.56,
          929.03,
          227.61,
          232.26,
          232.26,
          874.68,
          232.26,
          232.26,
          232.26,
          232.26,
          232.26,
          929.03,
          230.4,
          243.22,
          260.13,
          232.63,
          929.03,
          232.26,
          1224.45,
          137.42,
          487.74,
          1068.38,
          3646.54,
          1393.55,
          724.64,
          227.61,
          1374.96,
          191.84,
          7771.4,
          1964.69,
          375.42,
          232.26,
          232.26,
          232.26,
          232.26,
          914.91,
          232.26,
          232.26,
          116.13,
          232.26,
          373.22,
          25.4,
          1393.55,
          1858.3,
          1939.16,
          1193.02,
          1222.73,
          232.26,
          480.4,
          232.26,
          232.26,
          222.97,
          232.26,
          233.84,
          232.26,
          232.81,
          232.26,
          594.58,
          1393.55,
          51.61,
          1305.29,
          510.97,
          13679.87,
          36529.32,
          1421,
          4162.95,
          51.27,
          70.87,
          39.67,
          1044,
          1774.63,
          1379.29,
          232.26,
          227.61,
          172.04,
          228.82,
          232.26,
          225.1,
          170.29,
          232.26,
          1548.93,
          217.11,
          1393.55,
          1393.55,
          227.61,
          222.87,
          929.15,
          236.35,
          236.35,
          233,
          232.26,
          232.26,
          232.26,
          232.26,
          464.52,
          232.26,
          232.26,
          232.26,
          1068.38,
          232,
          35.94,
          89.64,
          929.15,
          910.45,
          910.43,
          1639.26,
          1398.47,
          929.03,
          228.73,
          232.26,
          227.61,
          225.29,
          231.7,
          232.26,
          232.26,
          232.26,
          232.26,
          735.7,
          216.65,
          480.4,
          232.26,
          232.26,
          232.26,
          232.26,
          464.52,
          232.26,
          222.04,
          232,
          54.71,
          35.88,
          1044,
          1795.95,
          1371.22,
          1186.85,
          69.36,
          1421.6,
          233.37,
          232.26,
          232.26,
          232.26,
          232.26,
          232.26,
          232.26,
          1416.93,
          231.33,
          232.26,
          232.26,
          234.67,
          232.26,
          232.26,
          4.16,
          232.26,
          358.05,
          281.12,
          232.26,
          232.26,
          232.26,
          232.26,
          15.43,
          232.26,
          166.95,
          163.42,
          1393.55,
          225.75,
          232.26,
          136.57,
          944.17,
          74.32,
          87.56,
          35.76,
          1078.51,
          929.9,
          883.92,
          1395.38,
          1964.69,
          2330.58,
          1376.55,
          1379.29,
          222.22,
          929.03,
          228.17,
          232.26,
          113.06,
          232.26,
          232.26,
          232.26,
          232.26,
          20.2,
          1224.45,
          1161.24,
          1224.62,
          232.26,
          40.65,
          232.26,
          235.32,
          15.76,
          120.57,
          244.52,
          1049.8,
          232.26,
          232.26,
          594.58,
          232.26,
          13679.87,
          1040.91,
          2229.79,
          35.76,
          35.76,
          70.87,
          87.31,
          1315.55,
          1325.74,
          1237.22,
          1395.37,
          1374.9,
          232.26,
          185.81,
          227.61,
          232.26,
          232.26,
          232.26,
          232.26,
          1561.61,
          232.26,
          232.26,
          116.13,
          232.26,
          234.12,
          232.26,
          929.01,
          1266.16,
          243.92,
          232.26,
          230.86,
          116.13,
          232.26,
          482.17,
          232.26,
          232.26,
          232.26,
          232.26,
          278.71,
          235.32,
          232.26,
          232.26,
          1393.55,
          1319.22,
          504.46,
          918.54,
          1391.82,
          1395.37,
          1409.66,
          2859.67,
          1158.49,
          487.74,
          464.52,
          929.03,
          185.81,
          232.26,
          232,
          232.26,
          232.26,
          232.63,
          1394.86,
          232.26,
          743.22,
          135.21,
          1413.37,
          1719.36,
          221.02,
          231.89,
          482.17,
          464.52,
          49.42,
          232.26,
          232.26,
          227.61,
          222.04,
          1393.55,
          232.26,
          42.59,
          929,
          87.56,
          35.94,
          35.6,
          1325.82,
          1395.38,
          1845.7,
          1509.06,
          910.45,
          1544.4,
          1541.22,
          232.26,
          232.26,
          232.26,
          232.26,
          74.04,
          232.26,
          232.26,
          759.11,
          234.95,
          1413.37,
          315.87,
          229.28,
          232.26,
          232.81,
          228.17,
          232.26,
          227.61,
          594.58,
          232.26,
          594.58,
          232.26,
          817.55,
          232.26,
          175,
          1207.67,
          1774.62,
          1373.63,
          1394.28,
          1395.69,
          227.61,
          232.81,
          231.42,
          1374.96,
          232.26,
          232.26,
          232.26,
          238.48,
          232.26,
          278.71,
          584.73,
          232.26,
          232.26,
          226,
          232.26,
          244.52,
          244.52,
          234.39,
          230.12,
          1393.55,
          1923.09,
          230.59,
          969.26,
          1391.82,
          1858.6,
          87.31,
          1774.65,
          1509.06,
          1222.4,
          232.26,
          232.26,
          575.16,
          232.26,
          167.23,
          176.52,
          232.26,
          232.26,
          232.26,
          232.26,
          232.26,
          216.56,
          232.26,
          232.26,
          232.26,
          232.26,
          232.26,
          232.26,
          243.22,
          232.26,
          1128.77,
          1393.55,
          594.58,
          1393.55,
          225.75,
          226.31,
          226.31,
          130.06,
          70.87,
          1044,
          929.02,
          10285.76,
          255.48,
          232.26,
          232.26,
          232.26,
          232.26,
          228.17,
          232.26,
          232.26,
          232.26,
          218.79,
          228.91,
          231.79,
          232.26,
          594.58,
          232.26,
          57.76,
          232.26,
          929.82,
          929.03,
          229.19,
          232.26,
          482.17,
          232.26,
          3660.47,
          232.26,
          232.26,
          46.45,
          1393.55,
          35.6,
          87.31,
          1122.26,
          1395.37,
          441.96,
          2722.74,
          1350,
          1152.13,
          1444.03,
          232.26,
          206.06,
          929.03,
          1374.97,
          1216.17,
          232,
          232.26,
          232.26,
          232.26,
          232.26,
          232.63,
          1325.88,
          232.26,
          213.03,
          21.93,
          348.39,
          231.61,
          232.26,
          222.97,
          232.26,
          232.26,
          232.26,
          27.1,
          232.26,
          195.1,
          1347.09,
          227.61,
          246.38,
          140.29,
          1241.09,
          45545.97,
          1393.55,
          227.61,
          1395.38,
          1192.4,
          1395.37,
          883.92,
          1395.38,
          2859.67,
          1224.44,
          3665.05,
          1413.47,
          1374.9,
          232.26,
          278.71,
          228.82,
          225.1,
          232.26,
          232.26,
          230.77,
          57.77,
          1157.8,
          1266.16,
          213.68,
          1719.36,
          232.26,
          229.28,
          229.47,
          232.26,
          222.97,
          232.26,
          223.99,
          232.26,
          2059.66,
          1393.55,
          233,
          929.03,
          130.64,
          1086.22,
          1393.55,
          1374.96,
          594.58,
          724.64,
          1398.84,
          1040.72,
          82.77,
          1078.51,
          929.02,
          1439.94,
          1527.06,
          232.26,
          657.57,
          1374.96,
          232.26,
          916.53,
          232.26,
          230.68,
          232.26,
          1374.96,
          232.26,
          232.26,
          232.26,
          231.05,
          227.61,
          232.26,
          232.26,
          594.58,
          1950.96,
          1393.55,
          1393.55,
          232.26,
          510.97,
          227.61,
          928.91,
          1159.87,
          232.26,
          232.26,
          232.26,
          232.26,
          232.26,
          1347.09,
          232.26,
          232.26,
          455.22,
          232.26,
          458.66,
          71.82,
          229.19,
          233.84,
          243.92,
          278.71,
          232.26,
          221.02,
          232.81,
          209.03,
          222.97,
          232.26,
          116.13,
          232.26,
          233,
          1305.29,
          1393.55,
          510.97,
          232.26,
          45.9,
          1395.37,
          929.03,
          174.19,
          250.37,
          232.26,
          213.68,
          232.26,
          101.61,
          218.23,
          13.55,
          232.26,
          232.26,
          233.37,
          232.63,
          237.55,
          232.26,
          227.61,
          78.95,
          668.9,
          232.26,
          115.43,
          482.17,
          213.68,
          234.39,
          232.26,
          231.24,
          282.43,
          1393.55,
          77.42,
          232.26,
          35.76,
          71.62,
          35.94,
          929.35,
          1409.74,
          1332.77,
          1377.37,
          227.61,
          214.79,
          232.26,
          1335.95,
          232.26,
          218.79,
          213.68,
          232.26,
          206.85,
          77.42,
          232.26,
          229.93,
          220.64,
          31.18,
          1764.84,
          232.26,
          232.26,
          232.26,
          232.26,
          232.26,
          234.58,
          801.29,
          225.75,
          1421,
          35.76,
          35.88,
          35.94,
          1325.88,
          1157.8,
          14.52,
          232.26,
          232.26,
          227.98,
          230.77,
          1323.87,
          234.95,
          236.35,
          232.26,
          232.26,
          116.13,
          1347.09,
          1393.55,
          232.26,
          232.26,
          34857.51,
          44.81,
          70.87,
          1315.19,
          872.75,
          69.36,
          1393.66,
          1441.66,
          3276.69,
          228.17,
          232.26,
          231.42,
          232.26,
          232.26,
          230.4,
          213.68,
          33.87,
          228.91,
          232.26,
          199.74,
          232.35,
          185.81,
          232.25,
          222.97,
          774.18,
          929.03,
          232.26,
          269.42,
          211.35,
          234.58,
          232.26,
          232.26,
          232.26,
          1374.96,
          249.74,
          1323.87,
          232.26,
          51.63,
          1395.38,
          35.76,
          1540.46,
          1325.92,
          2483.66,
          1387.02,
          1535.32,
          1401.01,
          232.26,
          232.26,
          231.33,
          232.26,
          232.26,
          232.26,
          232.26,
          232.26,
          238.48,
          232.26,
          232.26,
          235.97,
          27.1,
          232.26,
          929.03,
          226.78,
          278.71,
          232.26,
          209.03,
          232.26,
          278.71,
          231.51,
          232.26,
          228.17,
          232.52,
          9606.8,
          1393.55,
          1068.38,
          594.58,
          2090.32,
          1393.55,
          226.31,
          232.26,
          594.58,
          57.26,
          1035.21,
          1395.37,
          87.31,
          54.71,
          1441.42,
          1934.85,
          233.37,
          232.26,
          38.71,
          232.26,
          232.26,
          232.26,
          229.93,
          232.26,
          232.26,
          232.26,
          232.26,
          1939.16,
          1393.55,
          227.61,
          232.26,
          232.26,
          227.61,
          510.97,
          1374.96,
          1393.55,
          1003.35,
          1393.55,
          1323.87,
          1390.01,
          916.68,
          929.03,
          1395.38,
          1395.38,
          82.33,
          1190.11,
          232.26,
          228.17,
          232.26,
          228.82,
          224.45,
          213.68,
          232.26,
          232.26,
          1325.88,
          883.92,
          334.45,
          1376.47,
          232.26,
          232.26,
          231.61,
          234.02,
          482.17,
          34.5,
          232.82,
          234.12,
          232.26,
          1374.96,
          227.61,
          594.58,
          227.61,
          944.17,
          1226.32,
          1527.95,
          1656.45,
          2790.75,
          1232.55,
          69.36,
          1129.19,
          1574.8,
          1402.18,
          1395,
          232.26,
          232.26,
          232.26,
          232.26,
          232.26,
          232.26,
          227.61,
          496.57,
          232.26,
          458.66,
          232.26,
          227.61,
          232.26,
          211.35,
          232.26,
          234.58,
          482.17,
          232.26,
          232.26,
          1393.55,
          1149.67,
          1393.55,
          1323.87,
          55.25,
          3.45,
          1393.55,
          1096.26,
          191.84,
          1391.62,
          464.41,
          1157.8,
          1115.56,
          227.61,
          1416.78,
          232.26,
          104.03,
          232.26,
          222.41,
          444.08,
          278.71,
          234.12,
          334.45,
          227.61,
          222.97,
          232.26,
          232.26,
          229.28,
          14.02,
          232.26,
          16.5,
          232.26,
          232.26,
          116.13,
          1393.55,
          232.26,
          1316.9,
          668.9,
          191.84,
          1040.57,
          2448.89,
          1315.55,
          1395.37,
          229.93,
          232.26,
          232.26,
          232.26,
          232.26,
          232.26,
          231.7,
          234.95,
          58.06,
          1395.37,
          227.61,
          1170.19,
          523.42,
          232.26,
          232.26,
          232.26,
          278.71,
          232.26,
          1347.09,
          3660.47,
          9648.91,
          232.26,
          230.59,
          232.24,
          1024.08,
          82.77,
          71.62,
          464.56,
          1774.65,
          1395.38,
          2749.93,
          1222.4,
          1159.87,
          1443.97,
          232.26,
          185.81,
          227.61,
          232.26,
          232.26,
          932.1,
          232.26,
          232.26,
          232.26,
          224.45,
          213.68,
          214.79,
          232.26,
          1323.87,
          232.26,
          1377.37,
          2739.26,
          994.15,
          278.71,
          232.26,
          232.26,
          233.19,
          213.68,
          227.61,
          232.26,
          227.61,
          232.26,
          1049.8,
          1393.55,
          576,
          13679.87,
          35.76,
          71.62,
          54.71,
          35.76,
          1315.38,
          3665.05,
          10285.76,
          1441.21,
          1652.05,
          232.26,
          232.26,
          232.26,
          206.06,
          232.26,
          1183.62,
          230.77,
          232.26,
          225.29,
          232.26,
          232.25,
          232.26,
          227.61,
          1377.37,
          1157.8,
          232.26,
          221.02,
          232.26,
          223.99,
          116.13,
          230.12,
          1074.05,
          235.32,
          232.26,
          594.58,
          232.26,
          232.26,
          54.71,
          35.94,
          1132.99,
          1310.77,
          1377.37,
          929.03,
          1395.37,
          1186.56,
          935.81,
          232.26,
          1229.5,
          232.26,
          232.26,
          115.2,
          209.03,
          1652.06,
          25.4,
          227.61,
          232.26,
          232.26,
          269.42,
          2034.93,
          232.26,
          218.32,
          232.26,
          232.26,
          232.26,
          523.42,
          232.26,
          103.22,
          1393.55,
          1395.38,
          1035.21,
          916.61,
          928.25,
          1395.69,
          232.26,
          185.81,
          487.74,
          232.26,
          688.64,
          232.26,
          232.26,
          232.26,
          232,
          227.61,
          232.26,
          232.26,
          232.26,
          594.58,
          226.78,
          2034.93,
          232.26,
          232.26,
          281.12,
          281.12,
          232.26,
          232.26,
          1393.55,
          17.31,
          576,
          232.26,
          13679.87,
          13679.87,
          1390.01,
          2229.95,
          929.02,
          35.76,
          1208.8,
          1833.06,
          1795.89,
          1795.89,
          1409.66,
          1395.38,
          2033.89,
          909.63,
          216.74,
          232.26,
          232.26,
          575.16,
          232.26,
          232.26,
          229.93,
          232.26,
          464.52,
          116.13,
          113.99,
          213.03,
          232.26,
          234.12,
          232.26,
          81.28,
          276.76,
          232.26,
          232.26,
          232.26,
          232.26,
          227.61,
          232.26,
          232.26,
          231.05,
          246.38,
          1323.87,
          13679.87,
          1372.55,
          87.56,
          1008.35,
          995.81,
          1964.69,
          1115.56,
          5088.86,
          232.2,
          231.33,
          232.26,
          231.42,
          232.81,
          218.79,
          232.26,
          232.26,
          230.03,
          470.27,
          232.26,
          232.26,
          232.26,
          1323.87,
          232.26,
          1083.66,
          1393.55,
          1374.96,
          1161.24,
          929.03,
          929.03,
          1784.49,
          232,
          232.26,
          232.26,
          929.03,
          1393.55,
          576,
          1157.8,
          1157.8,
          883.92,
          1527.06,
          1393.66,
          930.52,
          1115.56,
          232.26,
          127.83,
          803.8,
          233.93,
          29.03,
          205.87,
          594.58,
          1155.49,
          232.25,
          232.26,
          232.63,
          116.13,
          232.26
         ],
         "xaxis": "x",
         "yaxis": "y"
        }
       ],
       "layout": {
        "barmode": "relative",
        "legend": {
         "tracegroupgap": 0
        },
        "template": {
         "data": {
          "bar": [
           {
            "error_x": {
             "color": "#2a3f5f"
            },
            "error_y": {
             "color": "#2a3f5f"
            },
            "marker": {
             "line": {
              "color": "#E5ECF6",
              "width": 0.5
             },
             "pattern": {
              "fillmode": "overlay",
              "size": 10,
              "solidity": 0.2
             }
            },
            "type": "bar"
           }
          ],
          "barpolar": [
           {
            "marker": {
             "line": {
              "color": "#E5ECF6",
              "width": 0.5
             },
             "pattern": {
              "fillmode": "overlay",
              "size": 10,
              "solidity": 0.2
             }
            },
            "type": "barpolar"
           }
          ],
          "carpet": [
           {
            "aaxis": {
             "endlinecolor": "#2a3f5f",
             "gridcolor": "white",
             "linecolor": "white",
             "minorgridcolor": "white",
             "startlinecolor": "#2a3f5f"
            },
            "baxis": {
             "endlinecolor": "#2a3f5f",
             "gridcolor": "white",
             "linecolor": "white",
             "minorgridcolor": "white",
             "startlinecolor": "#2a3f5f"
            },
            "type": "carpet"
           }
          ],
          "choropleth": [
           {
            "colorbar": {
             "outlinewidth": 0,
             "ticks": ""
            },
            "type": "choropleth"
           }
          ],
          "contour": [
           {
            "colorbar": {
             "outlinewidth": 0,
             "ticks": ""
            },
            "colorscale": [
             [
              0,
              "#0d0887"
             ],
             [
              0.1111111111111111,
              "#46039f"
             ],
             [
              0.2222222222222222,
              "#7201a8"
             ],
             [
              0.3333333333333333,
              "#9c179e"
             ],
             [
              0.4444444444444444,
              "#bd3786"
             ],
             [
              0.5555555555555556,
              "#d8576b"
             ],
             [
              0.6666666666666666,
              "#ed7953"
             ],
             [
              0.7777777777777778,
              "#fb9f3a"
             ],
             [
              0.8888888888888888,
              "#fdca26"
             ],
             [
              1,
              "#f0f921"
             ]
            ],
            "type": "contour"
           }
          ],
          "contourcarpet": [
           {
            "colorbar": {
             "outlinewidth": 0,
             "ticks": ""
            },
            "type": "contourcarpet"
           }
          ],
          "heatmap": [
           {
            "colorbar": {
             "outlinewidth": 0,
             "ticks": ""
            },
            "colorscale": [
             [
              0,
              "#0d0887"
             ],
             [
              0.1111111111111111,
              "#46039f"
             ],
             [
              0.2222222222222222,
              "#7201a8"
             ],
             [
              0.3333333333333333,
              "#9c179e"
             ],
             [
              0.4444444444444444,
              "#bd3786"
             ],
             [
              0.5555555555555556,
              "#d8576b"
             ],
             [
              0.6666666666666666,
              "#ed7953"
             ],
             [
              0.7777777777777778,
              "#fb9f3a"
             ],
             [
              0.8888888888888888,
              "#fdca26"
             ],
             [
              1,
              "#f0f921"
             ]
            ],
            "type": "heatmap"
           }
          ],
          "heatmapgl": [
           {
            "colorbar": {
             "outlinewidth": 0,
             "ticks": ""
            },
            "colorscale": [
             [
              0,
              "#0d0887"
             ],
             [
              0.1111111111111111,
              "#46039f"
             ],
             [
              0.2222222222222222,
              "#7201a8"
             ],
             [
              0.3333333333333333,
              "#9c179e"
             ],
             [
              0.4444444444444444,
              "#bd3786"
             ],
             [
              0.5555555555555556,
              "#d8576b"
             ],
             [
              0.6666666666666666,
              "#ed7953"
             ],
             [
              0.7777777777777778,
              "#fb9f3a"
             ],
             [
              0.8888888888888888,
              "#fdca26"
             ],
             [
              1,
              "#f0f921"
             ]
            ],
            "type": "heatmapgl"
           }
          ],
          "histogram": [
           {
            "marker": {
             "pattern": {
              "fillmode": "overlay",
              "size": 10,
              "solidity": 0.2
             }
            },
            "type": "histogram"
           }
          ],
          "histogram2d": [
           {
            "colorbar": {
             "outlinewidth": 0,
             "ticks": ""
            },
            "colorscale": [
             [
              0,
              "#0d0887"
             ],
             [
              0.1111111111111111,
              "#46039f"
             ],
             [
              0.2222222222222222,
              "#7201a8"
             ],
             [
              0.3333333333333333,
              "#9c179e"
             ],
             [
              0.4444444444444444,
              "#bd3786"
             ],
             [
              0.5555555555555556,
              "#d8576b"
             ],
             [
              0.6666666666666666,
              "#ed7953"
             ],
             [
              0.7777777777777778,
              "#fb9f3a"
             ],
             [
              0.8888888888888888,
              "#fdca26"
             ],
             [
              1,
              "#f0f921"
             ]
            ],
            "type": "histogram2d"
           }
          ],
          "histogram2dcontour": [
           {
            "colorbar": {
             "outlinewidth": 0,
             "ticks": ""
            },
            "colorscale": [
             [
              0,
              "#0d0887"
             ],
             [
              0.1111111111111111,
              "#46039f"
             ],
             [
              0.2222222222222222,
              "#7201a8"
             ],
             [
              0.3333333333333333,
              "#9c179e"
             ],
             [
              0.4444444444444444,
              "#bd3786"
             ],
             [
              0.5555555555555556,
              "#d8576b"
             ],
             [
              0.6666666666666666,
              "#ed7953"
             ],
             [
              0.7777777777777778,
              "#fb9f3a"
             ],
             [
              0.8888888888888888,
              "#fdca26"
             ],
             [
              1,
              "#f0f921"
             ]
            ],
            "type": "histogram2dcontour"
           }
          ],
          "mesh3d": [
           {
            "colorbar": {
             "outlinewidth": 0,
             "ticks": ""
            },
            "type": "mesh3d"
           }
          ],
          "parcoords": [
           {
            "line": {
             "colorbar": {
              "outlinewidth": 0,
              "ticks": ""
             }
            },
            "type": "parcoords"
           }
          ],
          "pie": [
           {
            "automargin": true,
            "type": "pie"
           }
          ],
          "scatter": [
           {
            "fillpattern": {
             "fillmode": "overlay",
             "size": 10,
             "solidity": 0.2
            },
            "type": "scatter"
           }
          ],
          "scatter3d": [
           {
            "line": {
             "colorbar": {
              "outlinewidth": 0,
              "ticks": ""
             }
            },
            "marker": {
             "colorbar": {
              "outlinewidth": 0,
              "ticks": ""
             }
            },
            "type": "scatter3d"
           }
          ],
          "scattercarpet": [
           {
            "marker": {
             "colorbar": {
              "outlinewidth": 0,
              "ticks": ""
             }
            },
            "type": "scattercarpet"
           }
          ],
          "scattergeo": [
           {
            "marker": {
             "colorbar": {
              "outlinewidth": 0,
              "ticks": ""
             }
            },
            "type": "scattergeo"
           }
          ],
          "scattergl": [
           {
            "marker": {
             "colorbar": {
              "outlinewidth": 0,
              "ticks": ""
             }
            },
            "type": "scattergl"
           }
          ],
          "scattermapbox": [
           {
            "marker": {
             "colorbar": {
              "outlinewidth": 0,
              "ticks": ""
             }
            },
            "type": "scattermapbox"
           }
          ],
          "scatterpolar": [
           {
            "marker": {
             "colorbar": {
              "outlinewidth": 0,
              "ticks": ""
             }
            },
            "type": "scatterpolar"
           }
          ],
          "scatterpolargl": [
           {
            "marker": {
             "colorbar": {
              "outlinewidth": 0,
              "ticks": ""
             }
            },
            "type": "scatterpolargl"
           }
          ],
          "scatterternary": [
           {
            "marker": {
             "colorbar": {
              "outlinewidth": 0,
              "ticks": ""
             }
            },
            "type": "scatterternary"
           }
          ],
          "surface": [
           {
            "colorbar": {
             "outlinewidth": 0,
             "ticks": ""
            },
            "colorscale": [
             [
              0,
              "#0d0887"
             ],
             [
              0.1111111111111111,
              "#46039f"
             ],
             [
              0.2222222222222222,
              "#7201a8"
             ],
             [
              0.3333333333333333,
              "#9c179e"
             ],
             [
              0.4444444444444444,
              "#bd3786"
             ],
             [
              0.5555555555555556,
              "#d8576b"
             ],
             [
              0.6666666666666666,
              "#ed7953"
             ],
             [
              0.7777777777777778,
              "#fb9f3a"
             ],
             [
              0.8888888888888888,
              "#fdca26"
             ],
             [
              1,
              "#f0f921"
             ]
            ],
            "type": "surface"
           }
          ],
          "table": [
           {
            "cells": {
             "fill": {
              "color": "#EBF0F8"
             },
             "line": {
              "color": "white"
             }
            },
            "header": {
             "fill": {
              "color": "#C8D4E3"
             },
             "line": {
              "color": "white"
             }
            },
            "type": "table"
           }
          ]
         },
         "layout": {
          "annotationdefaults": {
           "arrowcolor": "#2a3f5f",
           "arrowhead": 0,
           "arrowwidth": 1
          },
          "autotypenumbers": "strict",
          "coloraxis": {
           "colorbar": {
            "outlinewidth": 0,
            "ticks": ""
           }
          },
          "colorscale": {
           "diverging": [
            [
             0,
             "#8e0152"
            ],
            [
             0.1,
             "#c51b7d"
            ],
            [
             0.2,
             "#de77ae"
            ],
            [
             0.3,
             "#f1b6da"
            ],
            [
             0.4,
             "#fde0ef"
            ],
            [
             0.5,
             "#f7f7f7"
            ],
            [
             0.6,
             "#e6f5d0"
            ],
            [
             0.7,
             "#b8e186"
            ],
            [
             0.8,
             "#7fbc41"
            ],
            [
             0.9,
             "#4d9221"
            ],
            [
             1,
             "#276419"
            ]
           ],
           "sequential": [
            [
             0,
             "#0d0887"
            ],
            [
             0.1111111111111111,
             "#46039f"
            ],
            [
             0.2222222222222222,
             "#7201a8"
            ],
            [
             0.3333333333333333,
             "#9c179e"
            ],
            [
             0.4444444444444444,
             "#bd3786"
            ],
            [
             0.5555555555555556,
             "#d8576b"
            ],
            [
             0.6666666666666666,
             "#ed7953"
            ],
            [
             0.7777777777777778,
             "#fb9f3a"
            ],
            [
             0.8888888888888888,
             "#fdca26"
            ],
            [
             1,
             "#f0f921"
            ]
           ],
           "sequentialminus": [
            [
             0,
             "#0d0887"
            ],
            [
             0.1111111111111111,
             "#46039f"
            ],
            [
             0.2222222222222222,
             "#7201a8"
            ],
            [
             0.3333333333333333,
             "#9c179e"
            ],
            [
             0.4444444444444444,
             "#bd3786"
            ],
            [
             0.5555555555555556,
             "#d8576b"
            ],
            [
             0.6666666666666666,
             "#ed7953"
            ],
            [
             0.7777777777777778,
             "#fb9f3a"
            ],
            [
             0.8888888888888888,
             "#fdca26"
            ],
            [
             1,
             "#f0f921"
            ]
           ]
          },
          "colorway": [
           "#636efa",
           "#EF553B",
           "#00cc96",
           "#ab63fa",
           "#FFA15A",
           "#19d3f3",
           "#FF6692",
           "#B6E880",
           "#FF97FF",
           "#FECB52"
          ],
          "font": {
           "color": "#2a3f5f"
          },
          "geo": {
           "bgcolor": "white",
           "lakecolor": "white",
           "landcolor": "#E5ECF6",
           "showlakes": true,
           "showland": true,
           "subunitcolor": "white"
          },
          "hoverlabel": {
           "align": "left"
          },
          "hovermode": "closest",
          "mapbox": {
           "style": "light"
          },
          "paper_bgcolor": "white",
          "plot_bgcolor": "#E5ECF6",
          "polar": {
           "angularaxis": {
            "gridcolor": "white",
            "linecolor": "white",
            "ticks": ""
           },
           "bgcolor": "#E5ECF6",
           "radialaxis": {
            "gridcolor": "white",
            "linecolor": "white",
            "ticks": ""
           }
          },
          "scene": {
           "xaxis": {
            "backgroundcolor": "#E5ECF6",
            "gridcolor": "white",
            "gridwidth": 2,
            "linecolor": "white",
            "showbackground": true,
            "ticks": "",
            "zerolinecolor": "white"
           },
           "yaxis": {
            "backgroundcolor": "#E5ECF6",
            "gridcolor": "white",
            "gridwidth": 2,
            "linecolor": "white",
            "showbackground": true,
            "ticks": "",
            "zerolinecolor": "white"
           },
           "zaxis": {
            "backgroundcolor": "#E5ECF6",
            "gridcolor": "white",
            "gridwidth": 2,
            "linecolor": "white",
            "showbackground": true,
            "ticks": "",
            "zerolinecolor": "white"
           }
          },
          "shapedefaults": {
           "line": {
            "color": "#2a3f5f"
           }
          },
          "ternary": {
           "aaxis": {
            "gridcolor": "white",
            "linecolor": "white",
            "ticks": ""
           },
           "baxis": {
            "gridcolor": "white",
            "linecolor": "white",
            "ticks": ""
           },
           "bgcolor": "#E5ECF6",
           "caxis": {
            "gridcolor": "white",
            "linecolor": "white",
            "ticks": ""
           }
          },
          "title": {
           "x": 0.05
          },
          "xaxis": {
           "automargin": true,
           "gridcolor": "white",
           "linecolor": "white",
           "ticks": "",
           "title": {
            "standoff": 15
           },
           "zerolinecolor": "white",
           "zerolinewidth": 2
          },
          "yaxis": {
           "automargin": true,
           "gridcolor": "white",
           "linecolor": "white",
           "ticks": "",
           "title": {
            "standoff": 15
           },
           "zerolinecolor": "white",
           "zerolinewidth": 2
          }
         }
        },
        "title": {
         "text": "Distribution of Property Sizes"
        },
        "xaxis": {
         "anchor": "y",
         "domain": [
          0,
          1
         ],
         "title": {
          "text": "Property Size (sqm)"
         }
        },
        "yaxis": {
         "anchor": "x",
         "domain": [
          0,
          1
         ],
         "title": {
          "text": "count"
         }
        }
       }
      }
     },
     "metadata": {},
     "output_type": "display_data"
    }
   ],
   "source": [
    "# Summary statistics for property size\n",
    "property_size_stats = transactions_satwa['procedure_area'].describe()\n",
    "print(\"\\nProperty Size (Procedure Area) Stats:\")\n",
    "print(property_size_stats)\n",
    "\n",
    "# Histogram for property size distribution\n",
    "property_size_fig = px.histogram(transactions_satwa, x='procedure_area', nbins=100, \n",
    "                                 title=\"Distribution of Property Sizes\",\n",
    "                                 labels={'procedure_area': 'Property Size (sqm)'})\n",
    "property_size_fig.write_image(f\"{output_dir}/property_size_distribution.png\")\n",
    "property_size_fig.show()"
   ]
  },
  {
   "cell_type": "markdown",
   "metadata": {},
   "source": [
    "**Property Size (Procedure Area)**:\n",
    "\n",
    "- **Count**: 2,133 entries were analyzed, indicating a moderate sample size for property sizes in this area.\n",
    "\n",
    "- **Mean (Average)**: The average property size is **773.38 square meters**, but with a high standard deviation, this suggests a wide variety of property sizes.\n",
    "\n",
    "- **Standard Deviation (Std)**: At **2,243.64**, the high standard deviation shows that property sizes vary greatly. This could mean the area has both small and large properties, potentially catering to a broad market of buyers.\n",
    "\n",
    "- **Minimum**: The smallest property size is **3.45 square meters**, which might be a very small unit or an anomaly. It could represent a storage unit or small shop space.\n",
    "\n",
    "- **25th Percentile**: A quarter of the properties are below **232 square meters**, suggesting there are a good number of smaller residential units or apartments.\n",
    "\n",
    "- **Median (50th Percentile)**: The median property size is **232.26 square meters**, indicating that half of the properties are around this size or smaller. This suggests that the area is more likely dominated by mid-sized homes, possibly villas or larger apartments.\n",
    "\n",
    "- **75th Percentile**: The upper quarter of properties have sizes above **1,068 square meters**, indicating there are large villas or estates in the area.\n",
    "\n",
    "- **Maximum**: The largest property size is a massive **45,545.97 square meters**, indicating some very large land plots or potentially commercial projects.\n",
    "\n",
    "**Insights**:\n",
    "\n",
    "- There is a significant variety in property sizes, with most falling into mid-sized residential plots or units (around the median of 232 square meters). However, the presence of large properties suggests opportunities for luxury developments or large estate sales.\n",
    "\n",
    "- The mix of small, medium, and very large properties provides the agent with flexibility in targeting different buyer segments, from individuals looking for smaller units to high-end buyers or investors seeking larger plots for development.\n",
    "\n",
    "This suggests that agents could market the diversity of property sizes, highlighting both the more accessible mid-sized properties and the luxury potential of larger estates or land plots."
   ]
  },
  {
   "cell_type": "markdown",
   "metadata": {},
   "source": [
    "### Property Worth"
   ]
  },
  {
   "cell_type": "code",
   "execution_count": 44,
   "metadata": {},
   "outputs": [
    {
     "data": {
      "application/vnd.plotly.v1+json": {
       "config": {
        "plotlyServerURL": "https://plot.ly"
       },
       "data": [
        {
         "hovertemplate": "Property Size (sqft)=%{x}<br>Actual Worth (AED)=%{y}<extra></extra>",
         "legendgroup": "",
         "marker": {
          "color": "#636efa",
          "opacity": 0.6,
          "symbol": "circle"
         },
         "mode": "markers",
         "name": "",
         "showlegend": false,
         "type": "scattergl",
         "x": [
          40.65,
          221.02,
          231.7,
          19.35,
          239.23,
          232.26,
          232.26,
          231.24,
          232.82,
          232.26,
          222.04,
          1393.55,
          297.29,
          232,
          1401.84,
          1157.81,
          35.6,
          89.64,
          1543.72,
          1662.63,
          185.81,
          228.73,
          46.45,
          551.84,
          474.26,
          232.26,
          232.26,
          232.26,
          232.26,
          224.45,
          232.26,
          232.26,
          226.87,
          1347.95,
          234.67,
          1395,
          232.26,
          77.42,
          232.26,
          232.26,
          232.26,
          232.81,
          232.26,
          487.74,
          230.12,
          1129.33,
          1393.55,
          232.26,
          227.61,
          929.03,
          1340,
          2722.74,
          1395.38,
          935.81,
          227.61,
          1152.13,
          232.26,
          232.26,
          231.42,
          232.81,
          232.26,
          227.61,
          1345.37,
          651.25,
          243.22,
          234.12,
          181.16,
          232.26,
          232.26,
          232.63,
          1719.36,
          232.26,
          232.26,
          278.71,
          1504.1,
          1374.96,
          1068.38,
          1393.55,
          232.26,
          928.59,
          87.56,
          35.88,
          97.28,
          883.92,
          178.37,
          263.19,
          232.26,
          231.33,
          233.37,
          232.26,
          232.26,
          1858.06,
          232.26,
          232.26,
          1393.55,
          232.26,
          106,
          253.24,
          213.68,
          594.58,
          3646.54,
          868.64,
          1374.96,
          1114.97,
          39.36,
          872.75,
          1195.44,
          1109.49,
          1314.14,
          232.26,
          278.71,
          232.26,
          505.21,
          929.01,
          232.26,
          116.13,
          232.26,
          482.17,
          232.26,
          1129.33,
          594.58,
          232.26,
          1150.12,
          1395.37,
          35.6,
          2483.66,
          1033.07,
          232.26,
          231.79,
          232.26,
          232.26,
          213.68,
          231.89,
          231.89,
          92.9,
          1774.65,
          232.26,
          25.79,
          1719.36,
          232.26,
          232.26,
          230.12,
          1393.55,
          3660.47,
          1393.55,
          2448.89,
          89.64,
          35.6,
          1315.38,
          1044,
          69.37,
          1436.58,
          1376.55,
          1448.76,
          1662.9,
          234.21,
          262.92,
          232.26,
          232.26,
          232.26,
          1395.37,
          1323.87,
          1098.91,
          559.83,
          106,
          232.26,
          1157.8,
          480.4,
          232.26,
          232.26,
          232.26,
          232.81,
          116.13,
          230.12,
          232.26,
          504.46,
          230.59,
          232.26,
          45545.97,
          232,
          35.76,
          35.76,
          87.56,
          1114.81,
          1377.37,
          1158.6,
          1395.69,
          1350.02,
          1209,
          232.26,
          233.09,
          233.37,
          232.26,
          301.66,
          232.26,
          929.03,
          232.26,
          1548.93,
          232.26,
          232.26,
          232.26,
          213.03,
          243.92,
          233.65,
          225.85,
          213.68,
          232.26,
          278.71,
          510.97,
          234.58,
          243.87,
          1858.06,
          1393.55,
          1025.25,
          87.31,
          70.87,
          929.37,
          1394.28,
          232.26,
          225.75,
          234.21,
          232.26,
          185.81,
          496.57,
          232,
          232.26,
          199.74,
          929.03,
          232.26,
          196.52,
          232.26,
          231.05,
          232.26,
          232.26,
          25.4,
          584.73,
          232.26,
          202.65,
          15.99,
          116.13,
          482.17,
          233.37,
          487.74,
          232.26,
          232.26,
          116.13,
          282.43,
          282.43,
          1157.81,
          35.88,
          35.94,
          71.62,
          1395.37,
          1374.96,
          2797.05,
          1443.97,
          1282.06,
          227.61,
          803.8,
          136.45,
          232.26,
          232.26,
          205.87,
          231.51,
          1156.17,
          234.95,
          232.26,
          334.45,
          1393.55,
          1157.8,
          929.03,
          348.39,
          232.26,
          232.26,
          232.26,
          464.52,
          38.71,
          232.26,
          230.12,
          1335.48,
          232.26,
          232.26,
          232.24,
          39.6,
          89.64,
          35.76,
          1315.38,
          1395.38,
          934.81,
          1190.11,
          10285.76,
          232.26,
          232.26,
          1374.96,
          228.82,
          1393.55,
          238.48,
          232.26,
          458.66,
          334.45,
          1037.69,
          1209.09,
          231.33,
          127.83,
          222.97,
          2739.26,
          234.58,
          232.81,
          236.35,
          236.35,
          229.28,
          233.37,
          233.37,
          232.26,
          232.26,
          213.68,
          232.26,
          70.33,
          223.86,
          1393.55,
          35.6,
          87.31,
          883.92,
          73.95,
          232.26,
          232.26,
          228.73,
          232.81,
          113.06,
          232.26,
          232.26,
          225.29,
          232.26,
          232.26,
          232.26,
          1395.34,
          1939.16,
          229.28,
          232.26,
          139.35,
          482.17,
          232.26,
          116.13,
          416.84,
          232.26,
          1623.94,
          4162.95,
          39.34,
          1033.07,
          223.8,
          2489.8,
          910.45,
          232.26,
          227.61,
          1393.55,
          1401.84,
          1300.64,
          1325.88,
          2770.65,
          277.32,
          194.92,
          232.26,
          358.05,
          232.26,
          232.26,
          227.61,
          230.12,
          1068.38,
          226.31,
          594.58,
          232.26,
          594.58,
          232,
          1377.38,
          70.87,
          54.71,
          71.62,
          2044.33,
          923.24,
          1044,
          919.03,
          1044,
          929.15,
          929.37,
          721.74,
          1620.52,
          1043.86,
          1374.93,
          225.75,
          929.03,
          232.26,
          929.03,
          1335.95,
          232.26,
          227.61,
          1224.44,
          213.68,
          232.26,
          232.26,
          232.26,
          234.95,
          232.26,
          1898.29,
          232.26,
          232.26,
          233.37,
          232.26,
          482.17,
          232.26,
          195.1,
          233.47,
          234.58,
          1068.38,
          1335.48,
          232.63,
          1374.96,
          594.58,
          1305.29,
          2136.77,
          221.02,
          95.92,
          1340,
          928.91,
          54.71,
          96,
          87.56,
          883.92,
          1154.83,
          233.37,
          929.03,
          232.26,
          232.26,
          151.43,
          1774.45,
          230.4,
          230.4,
          929.03,
          594.58,
          594.58,
          615.76,
          222.97,
          232.63,
          234.02,
          232.26,
          232.26,
          232.26,
          234.12,
          278.71,
          232.26,
          1393.55,
          11259.84,
          1232.85,
          1391.62,
          1246.47,
          872.75,
          1125.85,
          232.26,
          232.26,
          232.26,
          227.98,
          231.51,
          113.87,
          2581.58,
          54.2,
          232.26,
          57.76,
          1395.38,
          1399.12,
          234.12,
          168.82,
          231.61,
          229.28,
          232.26,
          274.06,
          232.81,
          232.26,
          232.26,
          232.82,
          232.26,
          1392.15,
          166.95,
          1393.55,
          1401.84,
          35.88,
          1503.18,
          1081.79,
          1382.87,
          929.26,
          1412.97,
          253.07,
          232.26,
          205.13,
          228.91,
          232.26,
          232.26,
          232.26,
          232.26,
          1173.36,
          1325.88,
          232.26,
          232.26,
          1132.99,
          232.26,
          232.26,
          1040.9,
          1000.38,
          232.26,
          226,
          232.26,
          227.61,
          232.26,
          1347.09,
          180.22,
          232.26,
          1393.55,
          87.31,
          1395.37,
          152.96,
          1443.47,
          2831.24,
          1413.55,
          231.42,
          227.61,
          232,
          232.26,
          230.4,
          232.26,
          232.26,
          232.26,
          230.68,
          1224.45,
          232.26,
          27.1,
          232.26,
          232.26,
          234.12,
          464.52,
          227.61,
          235.32,
          232.26,
          1393.55,
          226.31,
          1374.96,
          944.17,
          13679.87,
          1814.47,
          910.45,
          71.62,
          39.67,
          39.6,
          1325.74,
          1044,
          2790.74,
          232.26,
          232,
          227.61,
          230.77,
          1323.87,
          929.23,
          71.82,
          135.21,
          234.12,
          229.28,
          117.29,
          232.26,
          1393.55,
          1393.55,
          1393.55,
          1305.29,
          12253.91,
          232.26,
          36529.32,
          35.88,
          1102.88,
          1134.2,
          441.96,
          1395.38,
          1394.28,
          1477.36,
          225.2,
          232.26,
          232.26,
          227.61,
          232.26,
          232.81,
          232.26,
          446.86,
          232.26,
          234.95,
          1939.16,
          1393.55,
          232.26,
          1395.37,
          276.76,
          231.79,
          232.26,
          232.26,
          232.26,
          205.78,
          232.26,
          1059.09,
          232.26,
          1323.87,
          1305.29,
          226.31,
          1553.34,
          1384.25,
          928.83,
          4141.82,
          1369.91,
          1377.61,
          227.61,
          232.26,
          183.86,
          232.26,
          369.57,
          227.61,
          232.26,
          162.86,
          232.26,
          232.26,
          232.26,
          232.26,
          232.26,
          1393.55,
          222.97,
          1325.88,
          233.37,
          232.26,
          234.02,
          232.26,
          233.37,
          209.03,
          231.51,
          232.63,
          1241.09,
          227.61,
          232.26,
          35.88,
          39.59,
          929.09,
          1158.49,
          1395.36,
          1785.32,
          232.26,
          232.26,
          232.26,
          232.26,
          230.4,
          232.26,
          29.03,
          232.26,
          227.61,
          232.26,
          232.26,
          1401.84,
          535.68,
          232.26,
          113.74,
          232.26,
          232.26,
          232.26,
          233,
          232.26,
          232.26,
          1393.55,
          160.41,
          278.71,
          29.03,
          1393.55,
          594.58,
          594.58,
          929.03,
          668.9,
          232,
          1421,
          1527.06,
          54.71,
          71.62,
          1210.18,
          1833.06,
          1395.37,
          911.96,
          232.26,
          232.26,
          58.06,
          232.26,
          232.26,
          1177.75,
          9.35,
          232.26,
          1393.55,
          277.32,
          232.26,
          232.26,
          9606.8,
          166.95,
          984.77,
          232.26,
          232,
          1395.37,
          46.42,
          1232.85,
          1545.7,
          1395.09,
          232.26,
          226.68,
          232.26,
          232.26,
          232.26,
          228.17,
          231.42,
          232,
          232.26,
          224.45,
          232.25,
          929.03,
          232.26,
          230.4,
          232.26,
          232.26,
          234.95,
          1393.55,
          213.03,
          994.15,
          232.26,
          232.26,
          48.53,
          276.76,
          276.76,
          232.26,
          236.07,
          232.26,
          232.26,
          233.47,
          222.97,
          77.42,
          1371.53,
          724.64,
          232,
          1430.47,
          928.83,
          1377.37,
          1224.44,
          1377.38,
          35.75,
          35.76,
          1044,
          1345.37,
          1373.63,
          253.07,
          232.26,
          232.26,
          222.97,
          232.26,
          232.26,
          232.26,
          232.26,
          1323.87,
          1094.95,
          181.16,
          232.26,
          232.26,
          213.68,
          232.26,
          232.26,
          232.26,
          232.26,
          232.26,
          594.58,
          1393.55,
          1393.55,
          232.26,
          1305.29,
          926.94,
          1326.01,
          883.92,
          929.13,
          232.26,
          230.03,
          232.26,
          232.26,
          232.26,
          232.26,
          1194.06,
          232.26,
          232.26,
          232.26,
          1325.88,
          1224.45,
          232.26,
          232.26,
          232.26,
          226.13,
          232.26,
          1003.35,
          1950.96,
          1393.55,
          230.59,
          668.9,
          232,
          232.26,
          1040.72,
          89.64,
          70.87,
          1395.38,
          1415.35,
          1395.04,
          1043.86,
          232.26,
          1377.37,
          232.26,
          183.86,
          232.26,
          232.26,
          232.26,
          218.79,
          228.91,
          232.26,
          51.61,
          232.26,
          181.16,
          483.08,
          1898.29,
          222.87,
          232.26,
          232.26,
          231.51,
          233,
          40.64,
          227.61,
          231.89,
          233.37,
          1068.38,
          1393.55,
          227.61,
          929.03,
          1398.84,
          1395.38,
          1395.38,
          35.76,
          87.56,
          1008.3,
          1076.28,
          1395.37,
          929.03,
          232.26,
          232.26,
          232.26,
          232.26,
          232.26,
          212,
          232.26,
          232.26,
          232.26,
          232.26,
          232.26,
          2023.43,
          231.05,
          234.95,
          67.74,
          203.22,
          142.73,
          232.81,
          10.34,
          232.26,
          232.26,
          232.26,
          232.26,
          233.93,
          209.03,
          227.61,
          1950.96,
          229.01,
          222.04,
          1374.96,
          255.35,
          1391.62,
          1040.75,
          929.02,
          89.64,
          35.6,
          39.4,
          1345.37,
          929.37,
          1373.63,
          1409.66,
          1394.93,
          232.26,
          231.42,
          444.07,
          232.35,
          233.19,
          232.26,
          278.71,
          2581.58,
          226.78,
          227.61,
          1133.21,
          1395,
          38.71,
          229.93,
          117.29,
          213.68,
          482.17,
          227.61,
          232.26,
          234.58,
          243.22,
          1347.09,
          594.58,
          16.59,
          1677.76,
          1540.46,
          35.76,
          1395.38,
          1194.52,
          883.92,
          934.81,
          1159.87,
          1626.21,
          1394.93,
          232.26,
          232.26,
          232.26,
          232.26,
          205.87,
          238.48,
          230.77,
          232.26,
          1124.13,
          232.26,
          1316.9,
          231.89,
          1898.29,
          2733.81,
          1358.88,
          232.26,
          232.26,
          232.26,
          232.26,
          209.31,
          487.74,
          464.52,
          1393.55,
          929.03,
          1003.35,
          233,
          1393.55,
          1323.87,
          1305.29,
          13679.87,
          1398.84,
          89.64,
          54.71,
          80.7,
          1008.31,
          1395.37,
          1395.37,
          1246.77,
          1576.99,
          4110.86,
          231.33,
          232.26,
          210.33,
          232.26,
          232.26,
          232.26,
          231.7,
          232.26,
          1374.96,
          232.63,
          1376.47,
          1266.16,
          232.26,
          230.86,
          232.26,
          482.17,
          231.05,
          232.26,
          232.26,
          1393.55,
          597.64,
          1049.8,
          3646.54,
          163.42,
          1393.55,
          1398.84,
          1325.74,
          1395.37,
          1033.07,
          1544.34,
          232.26,
          227.61,
          232.26,
          278.71,
          232.26,
          232.26,
          203.23,
          232.26,
          420.85,
          232.26,
          334.45,
          234.12,
          234.12,
          1395.37,
          232.26,
          1393.55,
          1393.55,
          209.03,
          232.26,
          482.17,
          1405.53,
          231.89,
          1068.38,
          1393.55,
          1421,
          35.94,
          1210,
          1373.63,
          2859.67,
          1224.44,
          1544.89,
          1441.56,
          929.03,
          227.61,
          232.26,
          232.26,
          874.68,
          232.26,
          232.26,
          232.26,
          232.26,
          232.26,
          929.03,
          230.4,
          243.22,
          260.13,
          232.63,
          929.03,
          232.26,
          1224.45,
          137.42,
          487.74,
          1068.38,
          3646.54,
          1393.55,
          724.64,
          227.61,
          1374.96,
          191.84,
          7771.4,
          1964.69,
          375.42,
          232.26,
          232.26,
          232.26,
          232.26,
          914.91,
          232.26,
          232.26,
          116.13,
          232.26,
          373.22,
          25.4,
          1393.55,
          1858.3,
          1939.16,
          1193.02,
          1222.73,
          232.26,
          480.4,
          232.26,
          232.26,
          222.97,
          232.26,
          233.84,
          232.26,
          232.81,
          232.26,
          594.58,
          1393.55,
          51.61,
          1305.29,
          510.97,
          13679.87,
          36529.32,
          1421,
          4162.95,
          51.27,
          70.87,
          39.67,
          1044,
          1774.63,
          1379.29,
          232.26,
          227.61,
          172.04,
          228.82,
          232.26,
          225.1,
          170.29,
          232.26,
          1548.93,
          217.11,
          1393.55,
          1393.55,
          227.61,
          222.87,
          929.15,
          236.35,
          236.35,
          233,
          232.26,
          232.26,
          232.26,
          232.26,
          464.52,
          232.26,
          232.26,
          232.26,
          1068.38,
          232,
          35.94,
          89.64,
          929.15,
          910.45,
          910.43,
          1639.26,
          1398.47,
          929.03,
          228.73,
          232.26,
          227.61,
          225.29,
          231.7,
          232.26,
          232.26,
          232.26,
          232.26,
          735.7,
          216.65,
          480.4,
          232.26,
          232.26,
          232.26,
          232.26,
          464.52,
          232.26,
          222.04,
          232,
          54.71,
          35.88,
          1044,
          1795.95,
          1371.22,
          1186.85,
          69.36,
          1421.6,
          233.37,
          232.26,
          232.26,
          232.26,
          232.26,
          232.26,
          232.26,
          1416.93,
          231.33,
          232.26,
          232.26,
          234.67,
          232.26,
          232.26,
          4.16,
          232.26,
          358.05,
          281.12,
          232.26,
          232.26,
          232.26,
          232.26,
          15.43,
          232.26,
          166.95,
          163.42,
          1393.55,
          225.75,
          232.26,
          136.57,
          944.17,
          74.32,
          87.56,
          35.76,
          1078.51,
          929.9,
          883.92,
          1395.38,
          1964.69,
          2330.58,
          1376.55,
          1379.29,
          222.22,
          929.03,
          228.17,
          232.26,
          113.06,
          232.26,
          232.26,
          232.26,
          232.26,
          20.2,
          1224.45,
          1161.24,
          1224.62,
          232.26,
          40.65,
          232.26,
          235.32,
          15.76,
          120.57,
          244.52,
          1049.8,
          232.26,
          232.26,
          594.58,
          232.26,
          13679.87,
          1040.91,
          2229.79,
          35.76,
          35.76,
          70.87,
          87.31,
          1315.55,
          1325.74,
          1237.22,
          1395.37,
          1374.9,
          232.26,
          185.81,
          227.61,
          232.26,
          232.26,
          232.26,
          232.26,
          1561.61,
          232.26,
          232.26,
          116.13,
          232.26,
          234.12,
          232.26,
          929.01,
          1266.16,
          243.92,
          232.26,
          230.86,
          116.13,
          232.26,
          482.17,
          232.26,
          232.26,
          232.26,
          232.26,
          278.71,
          235.32,
          232.26,
          232.26,
          1393.55,
          1319.22,
          504.46,
          918.54,
          1391.82,
          1395.37,
          1409.66,
          2859.67,
          1158.49,
          487.74,
          464.52,
          929.03,
          185.81,
          232.26,
          232,
          232.26,
          232.26,
          232.63,
          1394.86,
          232.26,
          743.22,
          135.21,
          1413.37,
          1719.36,
          221.02,
          231.89,
          482.17,
          464.52,
          49.42,
          232.26,
          232.26,
          227.61,
          222.04,
          1393.55,
          232.26,
          42.59,
          929,
          87.56,
          35.94,
          35.6,
          1325.82,
          1395.38,
          1845.7,
          1509.06,
          910.45,
          1544.4,
          1541.22,
          232.26,
          232.26,
          232.26,
          232.26,
          74.04,
          232.26,
          232.26,
          759.11,
          234.95,
          1413.37,
          315.87,
          229.28,
          232.26,
          232.81,
          228.17,
          232.26,
          227.61,
          594.58,
          232.26,
          594.58,
          232.26,
          817.55,
          232.26,
          175,
          1207.67,
          1774.62,
          1373.63,
          1394.28,
          1395.69,
          227.61,
          232.81,
          231.42,
          1374.96,
          232.26,
          232.26,
          232.26,
          238.48,
          232.26,
          278.71,
          584.73,
          232.26,
          232.26,
          226,
          232.26,
          244.52,
          244.52,
          234.39,
          230.12,
          1393.55,
          1923.09,
          230.59,
          969.26,
          1391.82,
          1858.6,
          87.31,
          1774.65,
          1509.06,
          1222.4,
          232.26,
          232.26,
          575.16,
          232.26,
          167.23,
          176.52,
          232.26,
          232.26,
          232.26,
          232.26,
          232.26,
          216.56,
          232.26,
          232.26,
          232.26,
          232.26,
          232.26,
          232.26,
          243.22,
          232.26,
          1128.77,
          1393.55,
          594.58,
          1393.55,
          225.75,
          226.31,
          226.31,
          130.06,
          70.87,
          1044,
          929.02,
          10285.76,
          255.48,
          232.26,
          232.26,
          232.26,
          232.26,
          228.17,
          232.26,
          232.26,
          232.26,
          218.79,
          228.91,
          231.79,
          232.26,
          594.58,
          232.26,
          57.76,
          232.26,
          929.82,
          929.03,
          229.19,
          232.26,
          482.17,
          232.26,
          3660.47,
          232.26,
          232.26,
          46.45,
          1393.55,
          35.6,
          87.31,
          1122.26,
          1395.37,
          441.96,
          2722.74,
          1350,
          1152.13,
          1444.03,
          232.26,
          206.06,
          929.03,
          1374.97,
          1216.17,
          232,
          232.26,
          232.26,
          232.26,
          232.26,
          232.63,
          1325.88,
          232.26,
          213.03,
          21.93,
          348.39,
          231.61,
          232.26,
          222.97,
          232.26,
          232.26,
          232.26,
          27.1,
          232.26,
          195.1,
          1347.09,
          227.61,
          246.38,
          140.29,
          1241.09,
          45545.97,
          1393.55,
          227.61,
          1395.38,
          1192.4,
          1395.37,
          883.92,
          1395.38,
          2859.67,
          1224.44,
          3665.05,
          1413.47,
          1374.9,
          232.26,
          278.71,
          228.82,
          225.1,
          232.26,
          232.26,
          230.77,
          57.77,
          1157.8,
          1266.16,
          213.68,
          1719.36,
          232.26,
          229.28,
          229.47,
          232.26,
          222.97,
          232.26,
          223.99,
          232.26,
          2059.66,
          1393.55,
          233,
          929.03,
          130.64,
          1086.22,
          1393.55,
          1374.96,
          594.58,
          724.64,
          1398.84,
          1040.72,
          82.77,
          1078.51,
          929.02,
          1439.94,
          1527.06,
          232.26,
          657.57,
          1374.96,
          232.26,
          916.53,
          232.26,
          230.68,
          232.26,
          1374.96,
          232.26,
          232.26,
          232.26,
          231.05,
          227.61,
          232.26,
          232.26,
          594.58,
          1950.96,
          1393.55,
          1393.55,
          232.26,
          510.97,
          227.61,
          928.91,
          1159.87,
          232.26,
          232.26,
          232.26,
          232.26,
          232.26,
          1347.09,
          232.26,
          232.26,
          455.22,
          232.26,
          458.66,
          71.82,
          229.19,
          233.84,
          243.92,
          278.71,
          232.26,
          221.02,
          232.81,
          209.03,
          222.97,
          232.26,
          116.13,
          232.26,
          233,
          1305.29,
          1393.55,
          510.97,
          232.26,
          45.9,
          1395.37,
          929.03,
          174.19,
          250.37,
          232.26,
          213.68,
          232.26,
          101.61,
          218.23,
          13.55,
          232.26,
          232.26,
          233.37,
          232.63,
          237.55,
          232.26,
          227.61,
          78.95,
          668.9,
          232.26,
          115.43,
          482.17,
          213.68,
          234.39,
          232.26,
          231.24,
          282.43,
          1393.55,
          77.42,
          232.26,
          35.76,
          71.62,
          35.94,
          929.35,
          1409.74,
          1332.77,
          1377.37,
          227.61,
          214.79,
          232.26,
          1335.95,
          232.26,
          218.79,
          213.68,
          232.26,
          206.85,
          77.42,
          232.26,
          229.93,
          220.64,
          31.18,
          1764.84,
          232.26,
          232.26,
          232.26,
          232.26,
          232.26,
          234.58,
          801.29,
          225.75,
          1421,
          35.76,
          35.88,
          35.94,
          1325.88,
          1157.8,
          14.52,
          232.26,
          232.26,
          227.98,
          230.77,
          1323.87,
          234.95,
          236.35,
          232.26,
          232.26,
          116.13,
          1347.09,
          1393.55,
          232.26,
          232.26,
          34857.51,
          44.81,
          70.87,
          1315.19,
          872.75,
          69.36,
          1393.66,
          1441.66,
          3276.69,
          228.17,
          232.26,
          231.42,
          232.26,
          232.26,
          230.4,
          213.68,
          33.87,
          228.91,
          232.26,
          199.74,
          232.35,
          185.81,
          232.25,
          222.97,
          774.18,
          929.03,
          232.26,
          269.42,
          211.35,
          234.58,
          232.26,
          232.26,
          232.26,
          1374.96,
          249.74,
          1323.87,
          232.26,
          51.63,
          1395.38,
          35.76,
          1540.46,
          1325.92,
          2483.66,
          1387.02,
          1535.32,
          1401.01,
          232.26,
          232.26,
          231.33,
          232.26,
          232.26,
          232.26,
          232.26,
          232.26,
          238.48,
          232.26,
          232.26,
          235.97,
          27.1,
          232.26,
          929.03,
          226.78,
          278.71,
          232.26,
          209.03,
          232.26,
          278.71,
          231.51,
          232.26,
          228.17,
          232.52,
          9606.8,
          1393.55,
          1068.38,
          594.58,
          2090.32,
          1393.55,
          226.31,
          232.26,
          594.58,
          57.26,
          1035.21,
          1395.37,
          87.31,
          54.71,
          1441.42,
          1934.85,
          233.37,
          232.26,
          38.71,
          232.26,
          232.26,
          232.26,
          229.93,
          232.26,
          232.26,
          232.26,
          232.26,
          1939.16,
          1393.55,
          227.61,
          232.26,
          232.26,
          227.61,
          510.97,
          1374.96,
          1393.55,
          1003.35,
          1393.55,
          1323.87,
          1390.01,
          916.68,
          929.03,
          1395.38,
          1395.38,
          82.33,
          1190.11,
          232.26,
          228.17,
          232.26,
          228.82,
          224.45,
          213.68,
          232.26,
          232.26,
          1325.88,
          883.92,
          334.45,
          1376.47,
          232.26,
          232.26,
          231.61,
          234.02,
          482.17,
          34.5,
          232.82,
          234.12,
          232.26,
          1374.96,
          227.61,
          594.58,
          227.61,
          944.17,
          1226.32,
          1527.95,
          1656.45,
          2790.75,
          1232.55,
          69.36,
          1129.19,
          1574.8,
          1402.18,
          1395,
          232.26,
          232.26,
          232.26,
          232.26,
          232.26,
          232.26,
          227.61,
          496.57,
          232.26,
          458.66,
          232.26,
          227.61,
          232.26,
          211.35,
          232.26,
          234.58,
          482.17,
          232.26,
          232.26,
          1393.55,
          1149.67,
          1393.55,
          1323.87,
          55.25,
          3.45,
          1393.55,
          1096.26,
          191.84,
          1391.62,
          464.41,
          1157.8,
          1115.56,
          227.61,
          1416.78,
          232.26,
          104.03,
          232.26,
          222.41,
          444.08,
          278.71,
          234.12,
          334.45,
          227.61,
          222.97,
          232.26,
          232.26,
          229.28,
          14.02,
          232.26,
          16.5,
          232.26,
          232.26,
          116.13,
          1393.55,
          232.26,
          1316.9,
          668.9,
          191.84,
          1040.57,
          2448.89,
          1315.55,
          1395.37,
          229.93,
          232.26,
          232.26,
          232.26,
          232.26,
          232.26,
          231.7,
          234.95,
          58.06,
          1395.37,
          227.61,
          1170.19,
          523.42,
          232.26,
          232.26,
          232.26,
          278.71,
          232.26,
          1347.09,
          3660.47,
          9648.91,
          232.26,
          230.59,
          232.24,
          1024.08,
          82.77,
          71.62,
          464.56,
          1774.65,
          1395.38,
          2749.93,
          1222.4,
          1159.87,
          1443.97,
          232.26,
          185.81,
          227.61,
          232.26,
          232.26,
          932.1,
          232.26,
          232.26,
          232.26,
          224.45,
          213.68,
          214.79,
          232.26,
          1323.87,
          232.26,
          1377.37,
          2739.26,
          994.15,
          278.71,
          232.26,
          232.26,
          233.19,
          213.68,
          227.61,
          232.26,
          227.61,
          232.26,
          1049.8,
          1393.55,
          576,
          13679.87,
          35.76,
          71.62,
          54.71,
          35.76,
          1315.38,
          3665.05,
          10285.76,
          1441.21,
          1652.05,
          232.26,
          232.26,
          232.26,
          206.06,
          232.26,
          1183.62,
          230.77,
          232.26,
          225.29,
          232.26,
          232.25,
          232.26,
          227.61,
          1377.37,
          1157.8,
          232.26,
          221.02,
          232.26,
          223.99,
          116.13,
          230.12,
          1074.05,
          235.32,
          232.26,
          594.58,
          232.26,
          232.26,
          54.71,
          35.94,
          1132.99,
          1310.77,
          1377.37,
          929.03,
          1395.37,
          1186.56,
          935.81,
          232.26,
          1229.5,
          232.26,
          232.26,
          115.2,
          209.03,
          1652.06,
          25.4,
          227.61,
          232.26,
          232.26,
          269.42,
          2034.93,
          232.26,
          218.32,
          232.26,
          232.26,
          232.26,
          523.42,
          232.26,
          103.22,
          1393.55,
          1395.38,
          1035.21,
          916.61,
          928.25,
          1395.69,
          232.26,
          185.81,
          487.74,
          232.26,
          688.64,
          232.26,
          232.26,
          232.26,
          232,
          227.61,
          232.26,
          232.26,
          232.26,
          594.58,
          226.78,
          2034.93,
          232.26,
          232.26,
          281.12,
          281.12,
          232.26,
          232.26,
          1393.55,
          17.31,
          576,
          232.26,
          13679.87,
          13679.87,
          1390.01,
          2229.95,
          929.02,
          35.76,
          1208.8,
          1833.06,
          1795.89,
          1795.89,
          1409.66,
          1395.38,
          2033.89,
          909.63,
          216.74,
          232.26,
          232.26,
          575.16,
          232.26,
          232.26,
          229.93,
          232.26,
          464.52,
          116.13,
          113.99,
          213.03,
          232.26,
          234.12,
          232.26,
          81.28,
          276.76,
          232.26,
          232.26,
          232.26,
          232.26,
          227.61,
          232.26,
          232.26,
          231.05,
          246.38,
          1323.87,
          13679.87,
          1372.55,
          87.56,
          1008.35,
          995.81,
          1964.69,
          1115.56,
          5088.86,
          232.2,
          231.33,
          232.26,
          231.42,
          232.81,
          218.79,
          232.26,
          232.26,
          230.03,
          470.27,
          232.26,
          232.26,
          232.26,
          1323.87,
          232.26,
          1083.66,
          1393.55,
          1374.96,
          1161.24,
          929.03,
          929.03,
          1784.49,
          232,
          232.26,
          232.26,
          929.03,
          1393.55,
          576,
          1157.8,
          1157.8,
          883.92,
          1527.06,
          1393.66,
          930.52,
          1115.56,
          232.26,
          127.83,
          803.8,
          233.93,
          29.03,
          205.87,
          594.58,
          1155.49,
          232.25,
          232.26,
          232.63,
          116.13,
          232.26
         ],
         "xaxis": "x",
         "y": [
          2012703,
          1550000,
          780000,
          124992,
          3000000,
          5850000,
          2700000,
          3700000,
          5856588,
          2300000,
          830000,
          8000000,
          1000000,
          1700000,
          23000000,
          14000000,
          970000,
          1650000,
          16450296,
          22370775,
          1900000,
          2000000,
          150000,
          106920,
          890000,
          1200000,
          2380000,
          750000,
          1000000,
          600000,
          450000,
          400000,
          1300000,
          23215000,
          2425000,
          15316000,
          17020000,
          1000000,
          3200000,
          2500000,
          2400000,
          500000,
          1500000,
          2500000,
          6000000,
          3600000,
          1275000,
          2800000,
          4000000,
          4500000,
          20914800,
          35168761,
          23000012,
          12591250,
          229850,
          19224000,
          725000,
          2200000,
          250000,
          2400000,
          2482832,
          750000,
          18826600,
          2243200,
          780000,
          500000,
          1450000,
          2500000,
          6400000,
          2600000,
          7791000,
          5800000,
          2250000,
          561565,
          812846,
          250000,
          4000000,
          7000000,
          1450000,
          11994000,
          1925000,
          1099000,
          1650000,
          32400000,
          225000,
          3000000,
          2900000,
          250000,
          1200000,
          1350000,
          1800000,
          1900000,
          940000,
          1200000,
          500000,
          2400000,
          2229000,
          2725850,
          1170000,
          4300000,
          12000000,
          2000000,
          500000,
          14401200,
          1030000,
          13100000,
          15441600,
          17913000,
          21922000,
          1150000,
          200000,
          1150000,
          2475000,
          18914492,
          1260000,
          2250025,
          3083000,
          700000,
          5500000,
          5470200,
          950000,
          5800000,
          16094000,
          18775000,
          1145000,
          30000000,
          14456000,
          1850000,
          900000,
          2350000,
          1140000,
          500000,
          1000000,
          450000,
          240000,
          27697900,
          650000,
          1530200,
          9000000,
          2700000,
          570000,
          3500000,
          500000,
          22000000,
          3000000,
          33000000,
          1865000,
          1022070,
          18407000,
          9800000,
          1276855,
          15463220,
          15114000,
          19492500,
          22373750,
          2600000,
          665000,
          1350000,
          2800000,
          975000,
          18775000,
          1068750,
          15377700,
          2410400,
          2236500,
          2500000,
          12462000,
          24000000,
          9000000,
          1250000,
          680000,
          500000,
          400000,
          3048300,
          5650000,
          3050000,
          2500000,
          1350000,
          96000000,
          3100000,
          926144,
          1149000,
          1681035,
          14400000,
          19273800,
          13630109,
          22534500,
          17438400,
          15615600,
          700000,
          1000000,
          1799647,
          1080000,
          400000,
          515000,
          500000,
          340000,
          31000000,
          870000,
          3250000,
          2100000,
          1200000,
          500000,
          250000,
          4900000,
          3300000,
          1400000,
          800000,
          10175000,
          510000,
          210000,
          500000,
          500000,
          14346800,
          1673070,
          1424990,
          12505000,
          27600000,
          125000,
          800000,
          2500000,
          1425000,
          1600000,
          2262000,
          2000000,
          380000,
          650000,
          1000000,
          800000,
          5703500,
          550000,
          2800000,
          700000,
          700000,
          1639500,
          1200000,
          300000,
          5820000,
          757297,
          300000,
          11000000,
          700000,
          1900000,
          5900000,
          500000,
          600000,
          10000000,
          8500000,
          14955000,
          1060000,
          950000,
          1799000,
          50000000,
          44400000,
          40651000,
          22000000,
          2000000,
          1200000,
          6300000,
          587500,
          2000000,
          525000,
          1300000,
          1700000,
          13067500,
          4750000,
          737500,
          480000,
          6000000,
          20200000,
          521563,
          1550000,
          3350000,
          12000000,
          4000000,
          1500000,
          7000000,
          2900000,
          3234000,
          500000,
          3600000,
          3500000,
          2500000,
          1000000,
          1799000,
          1020000,
          24000000,
          18024000,
          12577500,
          14500000,
          214800000,
          764894,
          470000,
          6500000,
          575000,
          600000,
          800000,
          500000,
          10000000,
          1820000,
          14521000,
          16268000,
          2000000,
          62125,
          1800000,
          35383200,
          700000,
          1199970,
          2750000,
          700000,
          2200000,
          250000,
          3250000,
          5400000,
          2400000,
          3000000,
          4950000,
          37850,
          1083309,
          660000,
          1185000,
          1668400,
          12368200,
          1440000,
          2900000,
          1400000,
          1650000,
          600000,
          600000,
          1400000,
          1700000,
          440000,
          800000,
          630000,
          1800000,
          18024000,
          7500000,
          2400000,
          2350000,
          1500000,
          726000,
          800000,
          275000,
          1810000,
          900000,
          300000,
          58252600,
          1004250,
          20000000,
          500000,
          9380000,
          874445,
          300000,
          410000,
          500000,
          21000000,
          750000,
          14271000,
          37264000,
          625000,
          4333555,
          500000,
          500000,
          2850000,
          1300000,
          850000,
          5300000,
          746303,
          3421000,
          1470000,
          2000000,
          2800000,
          800000,
          18900000,
          1730000,
          1130000,
          1530000,
          33007500,
          15403900,
          10082423,
          13354200,
          16295100,
          13500000,
          13500000,
          7768737,
          15695000,
          250000,
          19240000,
          900000,
          500000,
          300000,
          500000,
          500000,
          580000,
          1050000,
          18452000,
          1200000,
          2350000,
          1000000,
          600000,
          9200000,
          5000000,
          3000000,
          1300000,
          250000,
          600000,
          13000000,
          10000000,
          1500000,
          4000000,
          1972500,
          570000,
          300000,
          500000,
          2500000,
          500000,
          2500000,
          7875000,
          2495000,
          2100000,
          2000000,
          38400000,
          9250000,
          1143900,
          1600000,
          1799000,
          15912500,
          15537500,
          600000,
          750000,
          480000,
          2500000,
          550000,
          1575750,
          800000,
          520000,
          1150000,
          2500000,
          900000,
          6000000,
          600000,
          3000000,
          480000,
          1286521,
          4000000,
          3200000,
          2100000,
          100000,
          3600000,
          500000,
          45000000,
          17251000,
          18500135,
          20125500,
          12681900,
          15148750,
          550000,
          1500000,
          250000,
          860000,
          2500000,
          328482,
          34300000,
          400000,
          2600000,
          300000,
          18775000,
          750000,
          1650000,
          3307234,
          1800000,
          3000000,
          2500000,
          1500000,
          650000,
          5240000,
          2800000,
          2060000,
          1300000,
          500000,
          14400000,
          6300000,
          18862500,
          1145000,
          20225000,
          17466000,
          22328000,
          12502500,
          15056910,
          430000,
          1150000,
          1000000,
          700000,
          400000,
          940000,
          2300000,
          850000,
          16419000,
          17126400,
          600000,
          904745,
          14634000,
          7000000,
          1500000,
          13444800,
          1000000,
          1650000,
          2200000,
          4250000,
          3300000,
          1600000,
          2000000,
          255000,
          1350000,
          3206000,
          1950000,
          37550000,
          1234834,
          21754000,
          27428000,
          13693500,
          940000,
          400000,
          2500000,
          450000,
          850000,
          450000,
          6000000,
          6787900,
          250000,
          15816000,
          650000,
          350038,
          1200000,
          2850000,
          3400000,
          500000,
          740000,
          850000,
          3500000,
          1125000,
          2800000,
          750000,
          7000000,
          20000000,
          25390300,
          13230000,
          1480000,
          1000000,
          1030000,
          60000000,
          16295100,
          37500000,
          2050000,
          2000000,
          800000,
          650000,
          4920000,
          13002600,
          1571700,
          2750000,
          1500000,
          2500000,
          850000,
          1050000,
          767000,
          500000,
          1900000,
          2000000,
          420000000,
          4129000,
          400000000,
          1099000,
          15432300,
          15260000,
          5500000,
          21750000,
          20000000,
          20664852,
          370000,
          600000,
          500000,
          10000000,
          650000,
          900000,
          250000,
          780000,
          510000,
          4750000,
          5700000,
          500000,
          900000,
          18024000,
          3800000,
          350000,
          450000,
          2200000,
          3400000,
          600000,
          2400000,
          500000,
          2000000,
          1900000,
          5000000,
          3500000,
          500000,
          300000,
          13000000,
          62414800,
          15777150,
          22236570,
          700000,
          700000,
          450000,
          1730000,
          1500000,
          4329000,
          1525000,
          50000,
          700000,
          1700000,
          400000,
          550000,
          1800000,
          500000,
          1450000,
          17127000,
          2250000,
          2000000,
          650000,
          1500000,
          2600000,
          500000,
          1150000,
          2000000,
          935130,
          4200000,
          1200000,
          1185000,
          1030000,
          13501350,
          20000000,
          18024000,
          22099573,
          500000,
          250000,
          2800000,
          590000,
          1300000,
          150000,
          100000,
          1000000,
          800000,
          800000,
          2200000,
          21880500,
          7140000,
          600000,
          6500000,
          2500000,
          1750000,
          3100000,
          250000,
          3100000,
          3000000,
          3950000,
          874989,
          1350000,
          50000,
          13750000,
          2000000,
          2130000,
          5000000,
          3700000,
          1600000,
          15000000,
          23833650,
          1183400,
          1720000,
          16282500,
          37500000,
          18775000,
          13251600,
          1170000,
          2500000,
          130000,
          250000,
          2100000,
          15842500,
          400000,
          2600000,
          1740000,
          625000,
          2200000,
          400000,
          65000000,
          4000000,
          1271075,
          950000,
          1800000,
          21779000,
          838880,
          17251000,
          16471719,
          15017000,
          1300000,
          1400000,
          250000,
          1400000,
          1400000,
          950000,
          1250000,
          1640000,
          2000000,
          1320000,
          1650000,
          1350000,
          2950000,
          470000,
          15595000,
          3013500,
          650000,
          2025000,
          2550000,
          5350438,
          2500000,
          7100000,
          810532,
          3556300,
          3556300,
          580615,
          4030000,
          3000000,
          2406947,
          2334800,
          250000,
          166666,
          500000,
          3500000,
          2200000,
          18477600,
          11997600,
          19273800,
          18452000,
          19273800,
          950000,
          926144,
          10000000,
          21723000,
          17742739,
          530000,
          860000,
          1400000,
          1600000,
          250000,
          1500000,
          1400000,
          1600000,
          1900000,
          300000,
          1100000,
          3000000,
          5050000,
          1080000,
          500000,
          3000000,
          2836362,
          2300000,
          2500000,
          700000,
          300000,
          500000,
          1125012,
          500000,
          13468950,
          19982200,
          12368200,
          12501250,
          820000,
          1300000,
          1140000,
          700000,
          250000,
          1290000,
          16708900,
          7300000,
          600000,
          5450000,
          17840000,
          16447390,
          3000000,
          6000000,
          3500000,
          1425000,
          3000000,
          1200000,
          1000000,
          483000,
          4000000,
          4300000,
          2750000,
          3000000,
          15682800,
          1767000,
          1799000,
          18775000,
          17139285,
          17268619,
          348730,
          815000,
          23350950,
          800000,
          3250000,
          900000,
          650000,
          300000,
          1500000,
          1655000,
          900000,
          388892,
          1450000,
          850000,
          2924902,
          3000000,
          5600000,
          1000000,
          2600000,
          7200000,
          4150000,
          577555,
          4800000,
          250000,
          750000,
          1200000,
          1350000,
          1500000,
          3850000,
          2700000,
          18775000,
          18024000,
          1114530,
          1970000,
          13023600,
          14465000,
          18775000,
          13000000,
          1750000,
          1400000,
          900000,
          550000,
          250000,
          500000,
          1180000,
          1950000,
          450000,
          1900000,
          2800000,
          4464900,
          3000000,
          4800000,
          131000,
          700000,
          1708500,
          400000,
          489709,
          1600000,
          2600000,
          600000,
          200000,
          4200000,
          3000000,
          300000,
          1323000,
          3000000,
          200000,
          750000,
          2100000,
          21721000,
          13443600,
          13000000,
          1785000,
          1055040,
          1030000,
          22809150,
          11500000,
          19221800,
          18966250,
          21021014,
          225000,
          1252906,
          440000,
          1800000,
          250000,
          1650000,
          2475000,
          40987300,
          750000,
          750000,
          14637600,
          18400000,
          416670,
          550000,
          250000,
          2600000,
          1400000,
          1000000,
          450000,
          530000,
          3200000,
          650000,
          3650000,
          59542,
          22577500,
          20726250,
          1103385,
          18024000,
          18001200,
          13500000,
          19032577,
          13982080,
          18729280,
          27000000,
          2900000,
          700000,
          720000,
          1150000,
          1600000,
          1252906,
          2500000,
          2000000,
          500000,
          300000,
          500000,
          1400000,
          7000000,
          37500000,
          44140500,
          750000,
          7300000,
          1000000,
          3150000,
          6759000,
          1500000,
          1500000,
          500000,
          470000,
          3060000,
          1500000,
          5163000,
          5000000,
          7875000,
          35500000,
          7500000,
          1885000,
          1220000,
          1480000,
          13566250,
          19600000,
          18775000,
          17446000,
          18673000,
          43500000,
          640000,
          730000,
          792400,
          1550000,
          1650000,
          1531278,
          1279071,
          3000000,
          300000,
          3650000,
          14816000,
          16353600,
          1430000,
          3000000,
          3700000,
          3700000,
          1450000,
          1300000,
          850000,
          500000,
          2470800,
          5000000,
          23551000,
          14500000,
          11500000,
          3500000,
          33600000,
          57000000,
          16680000,
          16124553,
          2500000,
          450000,
          400000,
          800000,
          1400000,
          1285000,
          1050000,
          3700000,
          4186601,
          850000,
          280000,
          3200000,
          2600000,
          21779000,
          2400000,
          1500000,
          5000000,
          1400000,
          3200000,
          14494274,
          500000,
          3300000,
          2200000,
          8500000,
          79000000,
          1064850,
          18235000,
          46375000,
          49000000,
          18452000,
          16129869,
          21723548,
          1300000,
          1500000,
          1200000,
          800000,
          1800000,
          1300000,
          2700000,
          450000,
          1250000,
          1500000,
          1000000,
          2000000,
          1000000,
          620000,
          1800000,
          600000,
          2000018,
          18452000,
          1952000,
          800000,
          500000,
          13300000,
          1200000,
          4000000,
          14000000,
          300000,
          2800000,
          217493000,
          20000000,
          3500000,
          570000,
          300000,
          920000,
          750000,
          500000,
          540000,
          670000,
          275000,
          550000,
          1205199,
          306000,
          500000,
          25003750,
          6000000,
          15411000,
          19741500,
          4100000,
          4000000,
          1700000,
          1650000,
          1600000,
          2375000,
          650000,
          1850000,
          2750000,
          2400000,
          5520000,
          500000,
          277713,
          2000000,
          5000000,
          40000000,
          400000000,
          19120000,
          70000000,
          1007000,
          1766070,
          1030000,
          15733200,
          27697900,
          23013000,
          1000000,
          3150000,
          962962,
          660000,
          650000,
          3300000,
          458250,
          1100000,
          25009500,
          1100000,
          1275000,
          1200000,
          16000000,
          2000000,
          13001300,
          500000,
          700000,
          2700000,
          2500000,
          3050000,
          1600000,
          800000,
          1500000,
          3500000,
          5350000,
          2850000,
          5500000,
          1500000,
          1099000,
          1950000,
          12501250,
          13230000,
          13230000,
          18880150,
          13547700,
          5000000,
          1550000,
          2350000,
          350000,
          500000,
          1151164,
          800000,
          650000,
          1950000,
          720000,
          31000000,
          1617500,
          18200000,
          1750000,
          590000,
          800000,
          370000,
          500000,
          5500000,
          675000,
          700000,
          1153200,
          1000000,
          8500000,
          27063400,
          22140000,
          15330000,
          1024000,
          15302000,
          2400000,
          520000,
          250000,
          300000,
          550000,
          1450000,
          700000,
          16319640,
          2325000,
          3000000,
          5350000,
          5850000,
          5300000,
          400000,
          67500,
          1500000,
          500000,
          3500000,
          3600000,
          3250000,
          950000,
          750000,
          64543,
          1020000,
          12000000,
          6600000,
          500000,
          2700000,
          5500000,
          1911024,
          8130400,
          374000,
          1899000,
          1199000,
          25920000,
          15013500,
          15600000,
          18775000,
          31722000,
          36999750,
          22000000,
          29000000,
          600000,
          1200000,
          250000,
          1700000,
          600000,
          250000,
          1700000,
          2500000,
          480000,
          304346,
          10543885,
          14999000,
          17136600,
          250000,
          87500,
          3600000,
          1300000,
          2000000,
          4000000,
          5000000,
          750000,
          2000000,
          2750000,
          2750000,
          3900000,
          30000000,
          13444800,
          28802400,
          1099000,
          1149000,
          1799000,
          1488645,
          16800000,
          17124000,
          19975500,
          21028000,
          22940000,
          1400000,
          640000,
          820000,
          2100000,
          1200000,
          1100000,
          400000,
          1756540,
          600000,
          1900000,
          375000,
          900000,
          3000000,
          2900000,
          12500000,
          11500000,
          1029150,
          3000000,
          3861000,
          2750000,
          2500000,
          600000,
          2500000,
          3700000,
          896017,
          1000000,
          580000,
          650000,
          1800000,
          1500000,
          639137,
          1200000,
          3000000,
          2842925,
          17979600,
          18775000,
          19500000,
          153000000,
          14964000,
          1400000,
          1000000,
          760209,
          180000,
          1300000,
          1350000,
          1150000,
          700000,
          1650000,
          25538911,
          1000000,
          1500000,
          2565000,
          17496100,
          12500000,
          1700000,
          575000,
          965000,
          1500000,
          125000,
          850000,
          770000,
          3600000,
          550000,
          500000,
          2200000,
          953000,
          12000000,
          1610000,
          1099000,
          930000,
          20692950,
          21028000,
          49500000,
          21117200,
          13230000,
          15792700,
          16423873,
          250000,
          670000,
          600000,
          1850000,
          149200,
          520000,
          1600000,
          416670,
          4800000,
          17499994,
          1150000,
          2000000,
          3000000,
          500000,
          900000,
          575000,
          3600000,
          2600000,
          2000000,
          3200000,
          4129000,
          3000000,
          3000000,
          1506945,
          15598800,
          26742800,
          54375000,
          21761600,
          15023000,
          750000,
          2000000,
          1200000,
          3400000,
          550000,
          500000,
          1150000,
          1500000,
          1400000,
          485000,
          500000,
          500000,
          2000000,
          3000000,
          8500000,
          4000000,
          3910000,
          1400000,
          2900000,
          9000000,
          1413278,
          6500000,
          1025000,
          18727500,
          25007500,
          1842030,
          24000000,
          24284780,
          17105400,
          600000,
          655000,
          1500000,
          500000,
          200000,
          800000,
          400000,
          2450000,
          970000,
          3550000,
          4300000,
          2000000,
          15200000,
          3000000,
          450000,
          500000,
          2100000,
          590000,
          2798699,
          2300000,
          789750,
          6000000,
          550000,
          6200000,
          1250000,
          880000,
          745402,
          420000,
          1720500,
          13485600,
          12000000,
          214800000,
          505165,
          400000,
          510000,
          1900000,
          740000,
          970000,
          1400000,
          600000,
          900000,
          1800000,
          917708,
          1075000,
          350000,
          605000,
          1150000,
          300000,
          540000,
          15012000,
          13000000,
          620000,
          1531000,
          11000000,
          3000000,
          17000000,
          4000000,
          650000,
          200000,
          3800000,
          1099000,
          1925000,
          15100000,
          23000000,
          9700000,
          2285969,
          16475000,
          19224000,
          18652800,
          750000,
          500000,
          600000,
          19240000,
          19636500,
          1500000,
          300000,
          1340000,
          2700000,
          2680000,
          3000000,
          10200000,
          1500000,
          1700000,
          70800,
          1570000,
          630000,
          2400000,
          3500000,
          950000,
          1900000,
          4500000,
          385000,
          3100000,
          4700000,
          2219237,
          4000000,
          4374983,
          357687,
          854976,
          160000000,
          4010000,
          3674956,
          21779000,
          16044000,
          23000144,
          11892500,
          18024000,
          43094800,
          15816000,
          50000000,
          13692600,
          17000000,
          977500,
          800000,
          3300000,
          3850000,
          1250000,
          550000,
          1650000,
          300000,
          14955000,
          27000000,
          850000,
          7000000,
          1700000,
          1615000,
          2900000,
          10000000,
          1900000,
          2000000,
          3000000,
          3900000,
          4500000,
          500000,
          1500000,
          365000,
          1125000,
          2705774,
          1125000,
          6014000,
          2559999,
          3900000,
          3300000,
          15682800,
          1500000,
          16252600,
          9400000,
          18600000,
          37500000,
          1200000,
          780000,
          300000,
          2600000,
          13317750,
          300000,
          550000,
          3000000,
          479025,
          700000,
          1400000,
          310000,
          2000000,
          640000,
          3000000,
          3100000,
          503243,
          500000,
          3000000,
          1162500,
          2335000,
          6000000,
          5100000,
          11998800,
          21000000,
          1900000,
          1100000,
          250000,
          2500000,
          830000,
          1450000,
          1600000,
          515000,
          900000,
          400000,
          9850000,
          1521000,
          600000,
          550000,
          1760000,
          380000,
          4750000,
          1200000,
          100000,
          1200000,
          2170000,
          2000000,
          650000,
          3000000,
          14000000,
          1053750,
          500000,
          10000000,
          3550000,
          850640,
          18775000,
          13000000,
          300000,
          600000,
          550000,
          1300000,
          620000,
          75000,
          2200000,
          110000,
          2000000,
          2300000,
          11500000,
          2100000,
          2600000,
          3000000,
          2400000,
          1611000,
          4100000,
          1450000,
          1500000,
          5600000,
          3000000,
          2021810,
          3880000,
          400000,
          10000000,
          3500000,
          400000,
          2100000,
          1066030,
          1420000,
          1185000,
          13504050,
          17450341,
          16489850,
          22239000,
          750000,
          1000000,
          2500000,
          2700000,
          700000,
          1650000,
          250000,
          1750000,
          623437,
          500000,
          850000,
          1070000,
          900000,
          311912,
          27545650,
          600000,
          600000,
          5800000,
          1150000,
          1300000,
          2125000,
          750030,
          2500000,
          24750000,
          1199000,
          1099000,
          1000000,
          17840000,
          15577500,
          124992,
          1250000,
          250000,
          1200000,
          1800000,
          5000000,
          7800000,
          715000,
          250000,
          2400000,
          1200000,
          2100000,
          5990000,
          1550000,
          2927000,
          133355164,
          905350,
          1540000,
          21235500,
          12681900,
          1474517,
          18751250,
          20949017,
          6600000,
          850000,
          450000,
          650000,
          1500000,
          2000000,
          480000,
          891000,
          58333,
          960000,
          630000,
          600000,
          250000,
          100000,
          700000,
          900000,
          4165863,
          650000,
          9300000,
          1500000,
          920000,
          4000000,
          800000,
          900000,
          1875018,
          300000,
          1402290,
          1068750,
          1300000,
          1089000,
          18775000,
          1020000,
          13265086,
          17840000,
          40101000,
          17916000,
          21483800,
          13572000,
          620000,
          280000,
          1435000,
          2000000,
          1400000,
          1158516,
          680000,
          2200000,
          1000000,
          1800000,
          1250000,
          2700000,
          116400,
          7000000,
          300000,
          750000,
          400000,
          10000000,
          1800000,
          6000000,
          2700000,
          6060000,
          10000000,
          720000,
          3300000,
          65000000,
          5000000,
          746303,
          2200000,
          1350000,
          1950000,
          1000000,
          3500000,
          2742000,
          493072,
          21000000,
          18024000,
          1865000,
          1220000,
          17843400,
          24991700,
          1500000,
          890000,
          250002,
          500000,
          390000,
          1700000,
          740000,
          750000,
          3600000,
          800000,
          3100000,
          500000,
          7500000,
          1350000,
          900000,
          1420000,
          2500000,
          12300000,
          500000,
          500000,
          1000000,
          500000,
          6565000,
          800000,
          15293850,
          12000000,
          25000000,
          18775000,
          1550000,
          15372000,
          300000,
          730000,
          250000,
          500000,
          1286521,
          1750000,
          700000,
          3700000,
          25199000,
          11892500,
          720000,
          19285000,
          600000,
          2350000,
          550000,
          570000,
          4660000,
          988690,
          5995500,
          9244387,
          886387,
          500000,
          500000,
          2500000,
          2372500,
          7000000,
          300000,
          21381100,
          26745000,
          100000000,
          17247100,
          1280000,
          15193750,
          18647000,
          16149510,
          14866000,
          1900000,
          870000,
          2000000,
          1850000,
          2300000,
          865000,
          1300000,
          2350000,
          1120000,
          27850000,
          1000000,
          900000,
          660000,
          1250000,
          1500000,
          870000,
          5300000,
          2800000,
          2550000,
          975000,
          825000,
          500000,
          1900000,
          150000,
          9000,
          300000,
          750000,
          3400000,
          17800000,
          4500000,
          15578000,
          16811200,
          3400000,
          17537500,
          1750000,
          895840,
          1111553,
          400000,
          585000,
          6400000,
          2600000,
          645000,
          2500000,
          1370000,
          250000,
          2000000,
          362423,
          603452,
          5700000,
          434700,
          5000000,
          3800000,
          200000,
          4000000,
          2750000,
          500000,
          1250000,
          1800000,
          15681400,
          36900000,
          21240000,
          18024000,
          350000,
          1200000,
          500000,
          1450000,
          2000000,
          1500000,
          1050000,
          4500000,
          350000,
          18024000,
          3500000,
          15000000,
          30000000,
          1400000,
          2250000,
          5050000,
          3000000,
          1100000,
          1200000,
          19000000,
          40000000,
          465000,
          3300000,
          5700000,
          14882000,
          1590000,
          1471740,
          4500000,
          26742800,
          23000000,
          37500000,
          12104000,
          14982000,
          19429000,
          350000,
          2300000,
          1200000,
          1000000,
          1500000,
          1400000,
          868545,
          550000,
          3000000,
          1150000,
          900000,
          800000,
          500000,
          9500000,
          490000,
          19273800,
          74000000,
          3500000,
          1350000,
          590000,
          5200000,
          486791,
          15000000,
          300000,
          2900000,
          4000000,
          2550000,
          1200000,
          3206000,
          3000000,
          40000000,
          926000,
          1830000,
          1099000,
          975000,
          18406700,
          50000000,
          185000000,
          15358000,
          20450266,
          4700000,
          1200000,
          600000,
          1200000,
          1300000,
          15925000,
          2000000,
          2350000,
          3050000,
          2500000,
          1800000,
          3997500,
          3300000,
          56000000,
          14955000,
          650000,
          800000,
          2000000,
          6200000,
          450000,
          3920000,
          300000,
          520000,
          1700000,
          2800000,
          340000,
          3005000,
          1000000,
          1099000,
          14634000,
          18341700,
          19273800,
          13000000,
          18024000,
          15326400,
          19052930,
          1300000,
          22498242,
          2000000,
          2000000,
          1100000,
          200000,
          20450266,
          136701,
          2000000,
          2400000,
          1800000,
          2500000,
          30000000,
          2500000,
          3483000,
          3800000,
          2600000,
          3300000,
          1000000,
          8000000,
          555427,
          7500000,
          18775000,
          17271650,
          13319100,
          12992200,
          25000000,
          500000,
          1687500,
          1180000,
          850000,
          741250,
          480000,
          2000000,
          4750000,
          850000,
          2500000,
          1200000,
          1100000,
          2500000,
          2700000,
          9600000,
          31760800,
          800000,
          2500000,
          4000000,
          3500000,
          2700000,
          2700000,
          1050000,
          81010,
          2093347,
          3000000,
          38500000,
          20000000,
          500000,
          28803600,
          13000000,
          926144,
          18215400,
          26635500,
          27063400,
          48000000,
          18967500,
          18024000,
          27362500,
          13217850,
          2000000,
          1200000,
          1380000,
          1650000,
          550000,
          1650000,
          725000,
          505000,
          880000,
          800000,
          2100000,
          2800000,
          1400000,
          1400000,
          3000000,
          4025001,
          3000000,
          1900000,
          2500000,
          530000,
          3200000,
          4100000,
          2200000,
          400000,
          500000,
          4374983,
          6565000,
          55000000,
          21425200,
          1490325,
          13568000,
          14470650,
          39000000,
          10560000,
          255000000,
          3100000,
          1250000,
          850000,
          750000,
          650000,
          850000,
          600000,
          400000,
          1500000,
          700000,
          560000,
          450000,
          2500000,
          1900000,
          450000,
          14580000,
          300000,
          500000,
          18200000,
          615000,
          750000,
          23817895,
          1600000,
          550000,
          14000000,
          500000,
          5380000,
          230000,
          12462000,
          14955000,
          32400000,
          20547500,
          18751250,
          12520000,
          14000000,
          450000,
          62125,
          5800000,
          720000,
          87500,
          1150000,
          2000000,
          15547500,
          3000000,
          440000,
          500000,
          500000,
          1100000
         ],
         "yaxis": "y"
        }
       ],
       "layout": {
        "legend": {
         "tracegroupgap": 0
        },
        "template": {
         "data": {
          "bar": [
           {
            "error_x": {
             "color": "#2a3f5f"
            },
            "error_y": {
             "color": "#2a3f5f"
            },
            "marker": {
             "line": {
              "color": "#E5ECF6",
              "width": 0.5
             },
             "pattern": {
              "fillmode": "overlay",
              "size": 10,
              "solidity": 0.2
             }
            },
            "type": "bar"
           }
          ],
          "barpolar": [
           {
            "marker": {
             "line": {
              "color": "#E5ECF6",
              "width": 0.5
             },
             "pattern": {
              "fillmode": "overlay",
              "size": 10,
              "solidity": 0.2
             }
            },
            "type": "barpolar"
           }
          ],
          "carpet": [
           {
            "aaxis": {
             "endlinecolor": "#2a3f5f",
             "gridcolor": "white",
             "linecolor": "white",
             "minorgridcolor": "white",
             "startlinecolor": "#2a3f5f"
            },
            "baxis": {
             "endlinecolor": "#2a3f5f",
             "gridcolor": "white",
             "linecolor": "white",
             "minorgridcolor": "white",
             "startlinecolor": "#2a3f5f"
            },
            "type": "carpet"
           }
          ],
          "choropleth": [
           {
            "colorbar": {
             "outlinewidth": 0,
             "ticks": ""
            },
            "type": "choropleth"
           }
          ],
          "contour": [
           {
            "colorbar": {
             "outlinewidth": 0,
             "ticks": ""
            },
            "colorscale": [
             [
              0,
              "#0d0887"
             ],
             [
              0.1111111111111111,
              "#46039f"
             ],
             [
              0.2222222222222222,
              "#7201a8"
             ],
             [
              0.3333333333333333,
              "#9c179e"
             ],
             [
              0.4444444444444444,
              "#bd3786"
             ],
             [
              0.5555555555555556,
              "#d8576b"
             ],
             [
              0.6666666666666666,
              "#ed7953"
             ],
             [
              0.7777777777777778,
              "#fb9f3a"
             ],
             [
              0.8888888888888888,
              "#fdca26"
             ],
             [
              1,
              "#f0f921"
             ]
            ],
            "type": "contour"
           }
          ],
          "contourcarpet": [
           {
            "colorbar": {
             "outlinewidth": 0,
             "ticks": ""
            },
            "type": "contourcarpet"
           }
          ],
          "heatmap": [
           {
            "colorbar": {
             "outlinewidth": 0,
             "ticks": ""
            },
            "colorscale": [
             [
              0,
              "#0d0887"
             ],
             [
              0.1111111111111111,
              "#46039f"
             ],
             [
              0.2222222222222222,
              "#7201a8"
             ],
             [
              0.3333333333333333,
              "#9c179e"
             ],
             [
              0.4444444444444444,
              "#bd3786"
             ],
             [
              0.5555555555555556,
              "#d8576b"
             ],
             [
              0.6666666666666666,
              "#ed7953"
             ],
             [
              0.7777777777777778,
              "#fb9f3a"
             ],
             [
              0.8888888888888888,
              "#fdca26"
             ],
             [
              1,
              "#f0f921"
             ]
            ],
            "type": "heatmap"
           }
          ],
          "heatmapgl": [
           {
            "colorbar": {
             "outlinewidth": 0,
             "ticks": ""
            },
            "colorscale": [
             [
              0,
              "#0d0887"
             ],
             [
              0.1111111111111111,
              "#46039f"
             ],
             [
              0.2222222222222222,
              "#7201a8"
             ],
             [
              0.3333333333333333,
              "#9c179e"
             ],
             [
              0.4444444444444444,
              "#bd3786"
             ],
             [
              0.5555555555555556,
              "#d8576b"
             ],
             [
              0.6666666666666666,
              "#ed7953"
             ],
             [
              0.7777777777777778,
              "#fb9f3a"
             ],
             [
              0.8888888888888888,
              "#fdca26"
             ],
             [
              1,
              "#f0f921"
             ]
            ],
            "type": "heatmapgl"
           }
          ],
          "histogram": [
           {
            "marker": {
             "pattern": {
              "fillmode": "overlay",
              "size": 10,
              "solidity": 0.2
             }
            },
            "type": "histogram"
           }
          ],
          "histogram2d": [
           {
            "colorbar": {
             "outlinewidth": 0,
             "ticks": ""
            },
            "colorscale": [
             [
              0,
              "#0d0887"
             ],
             [
              0.1111111111111111,
              "#46039f"
             ],
             [
              0.2222222222222222,
              "#7201a8"
             ],
             [
              0.3333333333333333,
              "#9c179e"
             ],
             [
              0.4444444444444444,
              "#bd3786"
             ],
             [
              0.5555555555555556,
              "#d8576b"
             ],
             [
              0.6666666666666666,
              "#ed7953"
             ],
             [
              0.7777777777777778,
              "#fb9f3a"
             ],
             [
              0.8888888888888888,
              "#fdca26"
             ],
             [
              1,
              "#f0f921"
             ]
            ],
            "type": "histogram2d"
           }
          ],
          "histogram2dcontour": [
           {
            "colorbar": {
             "outlinewidth": 0,
             "ticks": ""
            },
            "colorscale": [
             [
              0,
              "#0d0887"
             ],
             [
              0.1111111111111111,
              "#46039f"
             ],
             [
              0.2222222222222222,
              "#7201a8"
             ],
             [
              0.3333333333333333,
              "#9c179e"
             ],
             [
              0.4444444444444444,
              "#bd3786"
             ],
             [
              0.5555555555555556,
              "#d8576b"
             ],
             [
              0.6666666666666666,
              "#ed7953"
             ],
             [
              0.7777777777777778,
              "#fb9f3a"
             ],
             [
              0.8888888888888888,
              "#fdca26"
             ],
             [
              1,
              "#f0f921"
             ]
            ],
            "type": "histogram2dcontour"
           }
          ],
          "mesh3d": [
           {
            "colorbar": {
             "outlinewidth": 0,
             "ticks": ""
            },
            "type": "mesh3d"
           }
          ],
          "parcoords": [
           {
            "line": {
             "colorbar": {
              "outlinewidth": 0,
              "ticks": ""
             }
            },
            "type": "parcoords"
           }
          ],
          "pie": [
           {
            "automargin": true,
            "type": "pie"
           }
          ],
          "scatter": [
           {
            "fillpattern": {
             "fillmode": "overlay",
             "size": 10,
             "solidity": 0.2
            },
            "type": "scatter"
           }
          ],
          "scatter3d": [
           {
            "line": {
             "colorbar": {
              "outlinewidth": 0,
              "ticks": ""
             }
            },
            "marker": {
             "colorbar": {
              "outlinewidth": 0,
              "ticks": ""
             }
            },
            "type": "scatter3d"
           }
          ],
          "scattercarpet": [
           {
            "marker": {
             "colorbar": {
              "outlinewidth": 0,
              "ticks": ""
             }
            },
            "type": "scattercarpet"
           }
          ],
          "scattergeo": [
           {
            "marker": {
             "colorbar": {
              "outlinewidth": 0,
              "ticks": ""
             }
            },
            "type": "scattergeo"
           }
          ],
          "scattergl": [
           {
            "marker": {
             "colorbar": {
              "outlinewidth": 0,
              "ticks": ""
             }
            },
            "type": "scattergl"
           }
          ],
          "scattermapbox": [
           {
            "marker": {
             "colorbar": {
              "outlinewidth": 0,
              "ticks": ""
             }
            },
            "type": "scattermapbox"
           }
          ],
          "scatterpolar": [
           {
            "marker": {
             "colorbar": {
              "outlinewidth": 0,
              "ticks": ""
             }
            },
            "type": "scatterpolar"
           }
          ],
          "scatterpolargl": [
           {
            "marker": {
             "colorbar": {
              "outlinewidth": 0,
              "ticks": ""
             }
            },
            "type": "scatterpolargl"
           }
          ],
          "scatterternary": [
           {
            "marker": {
             "colorbar": {
              "outlinewidth": 0,
              "ticks": ""
             }
            },
            "type": "scatterternary"
           }
          ],
          "surface": [
           {
            "colorbar": {
             "outlinewidth": 0,
             "ticks": ""
            },
            "colorscale": [
             [
              0,
              "#0d0887"
             ],
             [
              0.1111111111111111,
              "#46039f"
             ],
             [
              0.2222222222222222,
              "#7201a8"
             ],
             [
              0.3333333333333333,
              "#9c179e"
             ],
             [
              0.4444444444444444,
              "#bd3786"
             ],
             [
              0.5555555555555556,
              "#d8576b"
             ],
             [
              0.6666666666666666,
              "#ed7953"
             ],
             [
              0.7777777777777778,
              "#fb9f3a"
             ],
             [
              0.8888888888888888,
              "#fdca26"
             ],
             [
              1,
              "#f0f921"
             ]
            ],
            "type": "surface"
           }
          ],
          "table": [
           {
            "cells": {
             "fill": {
              "color": "#EBF0F8"
             },
             "line": {
              "color": "white"
             }
            },
            "header": {
             "fill": {
              "color": "#C8D4E3"
             },
             "line": {
              "color": "white"
             }
            },
            "type": "table"
           }
          ]
         },
         "layout": {
          "annotationdefaults": {
           "arrowcolor": "#2a3f5f",
           "arrowhead": 0,
           "arrowwidth": 1
          },
          "autotypenumbers": "strict",
          "coloraxis": {
           "colorbar": {
            "outlinewidth": 0,
            "ticks": ""
           }
          },
          "colorscale": {
           "diverging": [
            [
             0,
             "#8e0152"
            ],
            [
             0.1,
             "#c51b7d"
            ],
            [
             0.2,
             "#de77ae"
            ],
            [
             0.3,
             "#f1b6da"
            ],
            [
             0.4,
             "#fde0ef"
            ],
            [
             0.5,
             "#f7f7f7"
            ],
            [
             0.6,
             "#e6f5d0"
            ],
            [
             0.7,
             "#b8e186"
            ],
            [
             0.8,
             "#7fbc41"
            ],
            [
             0.9,
             "#4d9221"
            ],
            [
             1,
             "#276419"
            ]
           ],
           "sequential": [
            [
             0,
             "#0d0887"
            ],
            [
             0.1111111111111111,
             "#46039f"
            ],
            [
             0.2222222222222222,
             "#7201a8"
            ],
            [
             0.3333333333333333,
             "#9c179e"
            ],
            [
             0.4444444444444444,
             "#bd3786"
            ],
            [
             0.5555555555555556,
             "#d8576b"
            ],
            [
             0.6666666666666666,
             "#ed7953"
            ],
            [
             0.7777777777777778,
             "#fb9f3a"
            ],
            [
             0.8888888888888888,
             "#fdca26"
            ],
            [
             1,
             "#f0f921"
            ]
           ],
           "sequentialminus": [
            [
             0,
             "#0d0887"
            ],
            [
             0.1111111111111111,
             "#46039f"
            ],
            [
             0.2222222222222222,
             "#7201a8"
            ],
            [
             0.3333333333333333,
             "#9c179e"
            ],
            [
             0.4444444444444444,
             "#bd3786"
            ],
            [
             0.5555555555555556,
             "#d8576b"
            ],
            [
             0.6666666666666666,
             "#ed7953"
            ],
            [
             0.7777777777777778,
             "#fb9f3a"
            ],
            [
             0.8888888888888888,
             "#fdca26"
            ],
            [
             1,
             "#f0f921"
            ]
           ]
          },
          "colorway": [
           "#636efa",
           "#EF553B",
           "#00cc96",
           "#ab63fa",
           "#FFA15A",
           "#19d3f3",
           "#FF6692",
           "#B6E880",
           "#FF97FF",
           "#FECB52"
          ],
          "font": {
           "color": "#2a3f5f"
          },
          "geo": {
           "bgcolor": "white",
           "lakecolor": "white",
           "landcolor": "#E5ECF6",
           "showlakes": true,
           "showland": true,
           "subunitcolor": "white"
          },
          "hoverlabel": {
           "align": "left"
          },
          "hovermode": "closest",
          "mapbox": {
           "style": "light"
          },
          "paper_bgcolor": "white",
          "plot_bgcolor": "#E5ECF6",
          "polar": {
           "angularaxis": {
            "gridcolor": "white",
            "linecolor": "white",
            "ticks": ""
           },
           "bgcolor": "#E5ECF6",
           "radialaxis": {
            "gridcolor": "white",
            "linecolor": "white",
            "ticks": ""
           }
          },
          "scene": {
           "xaxis": {
            "backgroundcolor": "#E5ECF6",
            "gridcolor": "white",
            "gridwidth": 2,
            "linecolor": "white",
            "showbackground": true,
            "ticks": "",
            "zerolinecolor": "white"
           },
           "yaxis": {
            "backgroundcolor": "#E5ECF6",
            "gridcolor": "white",
            "gridwidth": 2,
            "linecolor": "white",
            "showbackground": true,
            "ticks": "",
            "zerolinecolor": "white"
           },
           "zaxis": {
            "backgroundcolor": "#E5ECF6",
            "gridcolor": "white",
            "gridwidth": 2,
            "linecolor": "white",
            "showbackground": true,
            "ticks": "",
            "zerolinecolor": "white"
           }
          },
          "shapedefaults": {
           "line": {
            "color": "#2a3f5f"
           }
          },
          "ternary": {
           "aaxis": {
            "gridcolor": "white",
            "linecolor": "white",
            "ticks": ""
           },
           "baxis": {
            "gridcolor": "white",
            "linecolor": "white",
            "ticks": ""
           },
           "bgcolor": "#E5ECF6",
           "caxis": {
            "gridcolor": "white",
            "linecolor": "white",
            "ticks": ""
           }
          },
          "title": {
           "x": 0.05
          },
          "xaxis": {
           "automargin": true,
           "gridcolor": "white",
           "linecolor": "white",
           "ticks": "",
           "title": {
            "standoff": 15
           },
           "zerolinecolor": "white",
           "zerolinewidth": 2
          },
          "yaxis": {
           "automargin": true,
           "gridcolor": "white",
           "linecolor": "white",
           "ticks": "",
           "title": {
            "standoff": 15
           },
           "zerolinecolor": "white",
           "zerolinewidth": 2
          }
         }
        },
        "title": {
         "text": "Property Worth vs Size"
        },
        "xaxis": {
         "anchor": "y",
         "domain": [
          0,
          1
         ],
         "title": {
          "text": "Property Size (sqft)"
         }
        },
        "yaxis": {
         "anchor": "x",
         "domain": [
          0,
          1
         ],
         "title": {
          "text": "Actual Worth (AED)"
         }
        }
       }
      }
     },
     "metadata": {},
     "output_type": "display_data"
    },
    {
     "name": "stdout",
     "output_type": "stream",
     "text": [
      "\n",
      "Correlation between Actual Worth and Procedure Area:\n",
      "0.6857260289403518\n"
     ]
    }
   ],
   "source": [
    "# Scatter plot for actual worth vs size\n",
    "property_worth_fig = px.scatter(transactions_satwa, x='procedure_area', y='actual_worth', \n",
    "                                title=\"Property Worth vs Size\", \n",
    "                                labels={'procedure_area': 'Property Size (sqft)', \n",
    "                                        'actual_worth': 'Actual Worth (AED)'}, \n",
    "                                opacity=0.6)\n",
    "property_worth_fig.write_image(f\"{output_dir}/property_worth_vs_size.png\")\n",
    "property_worth_fig.show()\n",
    "\n",
    "# Checking the correlation between actual worth and procedure area\n",
    "print(\"\\nCorrelation between Actual Worth and Procedure Area:\")\n",
    "print(transactions_satwa['actual_worth'].corr(transactions_satwa['procedure_area']))"
   ]
  },
  {
   "cell_type": "markdown",
   "metadata": {},
   "source": [
    "**Property Worth**\n",
    "\n",
    "1. **Moderate Positive Correlation**:\n",
    "\n",
    "\t- The correlation score of **0.69** indicates a moderately strong positive relationship between property size and actual worth. This suggests that, generally, larger properties tend to have higher worth. However, the correlation is not perfect, meaning other factors could be influencing the price beyond size alone.\n",
    "\n",
    "2. **Outliers Affecting the Relationship**:\n",
    "\n",
    "\t- Several outliers, especially in the higher property worth range (100M AED and beyond), show that there are properties with high worth at moderate or even smaller sizes. These outliers may distort the overall correlation and should be further explored to determine why these properties deviate from the norm—likely due to premium locations, luxury features, or unique attributes.\n",
    "\n",
    "3.\t**Most Properties Cluster Below 10,000 sqm**:\n",
    "\n",
    "\t- The bulk of the data points are clustered below 10,000 square meter, with the property worth generally under 100 million AED. This reinforces the idea that most of the dataset consists of average-sized properties, possibly residential, which tend to have moderate values.\n",
    "\n",
    "4. **Large, High-Value Properties**:\n",
    "\n",
    "\t- The few properties that exceed 20,000 sqm are outliers, and they significantly drive up the property worth to over 400 million AED. These are likely commercial, industrial, or highly exclusive residential properties, potentially land plots or estates."
   ]
  },
  {
   "cell_type": "markdown",
   "metadata": {},
   "source": [
    "### Market Demand (Sales Trends)"
   ]
  },
  {
   "cell_type": "code",
   "execution_count": 54,
   "metadata": {},
   "outputs": [
    {
     "data": {
      "text/plain": [
       "instance_date\n",
       "1978-04-01     1\n",
       "1987-10-01     1\n",
       "1990-01-01     2\n",
       "1991-10-01     1\n",
       "1992-03-01     1\n",
       "1992-10-01     1\n",
       "1993-02-01     1\n",
       "1993-05-01     1\n",
       "1993-10-01     1\n",
       "1993-12-01     1\n",
       "1994-09-01     1\n",
       "1995-05-01     1\n",
       "1995-06-01     1\n",
       "1995-07-01     1\n",
       "1995-09-01     1\n",
       "1995-10-01     1\n",
       "1995-11-01     1\n",
       "1996-01-01     1\n",
       "1997-11-01     1\n",
       "1997-12-01     1\n",
       "1998-01-01     1\n",
       "1998-02-01     3\n",
       "1998-03-01    11\n",
       "1998-04-01     4\n",
       "1998-05-01     7\n",
       "1998-06-01     9\n",
       "1998-07-01     5\n",
       "1998-08-01     6\n",
       "1998-09-01     1\n",
       "1998-10-01     3\n",
       "1998-11-01     7\n",
       "1998-12-01     4\n",
       "1999-01-01     1\n",
       "1999-02-01     3\n",
       "1999-03-01     7\n",
       "1999-04-01     3\n",
       "1999-05-01     6\n",
       "1999-06-01    10\n",
       "1999-07-01     6\n",
       "1999-08-01    18\n",
       "1999-09-01     4\n",
       "1999-10-01     5\n",
       "1999-11-01     5\n",
       "1999-12-01     3\n",
       "2000-01-01     4\n",
       "2000-02-01     9\n",
       "2000-03-01     4\n",
       "2000-04-01     8\n",
       "2000-05-01    11\n",
       "2000-06-01     4\n",
       "2000-07-01    10\n",
       "2000-09-01     3\n",
       "2000-10-01     3\n",
       "2000-11-01     5\n",
       "2000-12-01     5\n",
       "2001-01-01     8\n",
       "2001-02-01     8\n",
       "2001-03-01     1\n",
       "2001-04-01     9\n",
       "2001-05-01     9\n",
       "2001-06-01     7\n",
       "2001-07-01    11\n",
       "2001-08-01     3\n",
       "2001-09-01     2\n",
       "2001-10-01     7\n",
       "2001-11-01     3\n",
       "2001-12-01     1\n",
       "2002-01-01     6\n",
       "2002-02-01     7\n",
       "2002-03-01     3\n",
       "2002-04-01     8\n",
       "2002-05-01     8\n",
       "2002-06-01     9\n",
       "2002-07-01     6\n",
       "2002-08-01     3\n",
       "2002-09-01     3\n",
       "2002-10-01     8\n",
       "2002-11-01     7\n",
       "2002-12-01     8\n",
       "2003-01-01     9\n",
       "2003-02-01    10\n",
       "2003-03-01     7\n",
       "2003-04-01    14\n",
       "2003-05-01    12\n",
       "2003-06-01     8\n",
       "2003-07-01    16\n",
       "2003-08-01     9\n",
       "2003-09-01    11\n",
       "2003-10-01    11\n",
       "2003-11-01    10\n",
       "2003-12-01    15\n",
       "2004-01-01    10\n",
       "2004-02-01     5\n",
       "2004-03-01    16\n",
       "2004-04-01    20\n",
       "2004-05-01    13\n",
       "2004-06-01    16\n",
       "2004-07-01    14\n",
       "2004-08-01    15\n",
       "2004-09-01    11\n",
       "2004-10-01     3\n",
       "2004-11-01     7\n",
       "2004-12-01    11\n",
       "2005-01-01    13\n",
       "2005-02-01    22\n",
       "2005-03-01    13\n",
       "2005-04-01    14\n",
       "2005-05-01    11\n",
       "2005-06-01    14\n",
       "2005-07-01     9\n",
       "2005-08-01    12\n",
       "2005-09-01    14\n",
       "2005-10-01    14\n",
       "2005-11-01     9\n",
       "2005-12-01    11\n",
       "2006-01-01     8\n",
       "2006-02-01    17\n",
       "2006-03-01    10\n",
       "2006-04-01    12\n",
       "2006-05-01     8\n",
       "2006-06-01     7\n",
       "2006-07-01    13\n",
       "2006-08-01     7\n",
       "2006-09-01     7\n",
       "2006-10-01     8\n",
       "2006-11-01    12\n",
       "2006-12-01    13\n",
       "2007-01-01    13\n",
       "2007-02-01     9\n",
       "2007-03-01    17\n",
       "2007-04-01    13\n",
       "2007-05-01     8\n",
       "2007-06-01    10\n",
       "2007-07-01     5\n",
       "2007-09-01     1\n",
       "2008-02-01     3\n",
       "2008-03-01     1\n",
       "2009-04-01     2\n",
       "2009-06-01     1\n",
       "2009-08-01     1\n",
       "2009-09-01     1\n",
       "2009-12-01     1\n",
       "2010-01-01     1\n",
       "2010-02-01     1\n",
       "2010-04-01     2\n",
       "2010-05-01     2\n",
       "2010-06-01     1\n",
       "2010-08-01     1\n",
       "2010-09-01     1\n",
       "2010-10-01     1\n",
       "2010-11-01     3\n",
       "2010-12-01     2\n",
       "2011-01-01     1\n",
       "2011-02-01     2\n",
       "2011-03-01     2\n",
       "2011-04-01     1\n",
       "2011-06-01     5\n",
       "2011-07-01     4\n",
       "2011-08-01     3\n",
       "2011-10-01     4\n",
       "2011-11-01     2\n",
       "2011-12-01     1\n",
       "2012-01-01     7\n",
       "2012-02-01     1\n",
       "2012-03-01     3\n",
       "2012-04-01     7\n",
       "2012-05-01     7\n",
       "2012-06-01     1\n",
       "2012-07-01     7\n",
       "2012-08-01     4\n",
       "2012-09-01     7\n",
       "2012-10-01    10\n",
       "2012-11-01     1\n",
       "2012-12-01     5\n",
       "2013-01-01     4\n",
       "2013-02-01     9\n",
       "2013-03-01     4\n",
       "2013-04-01     9\n",
       "2013-05-01    10\n",
       "2013-06-01     9\n",
       "2013-07-01     2\n",
       "2013-08-01     4\n",
       "2013-09-01     5\n",
       "2013-10-01     7\n",
       "2013-11-01     4\n",
       "2013-12-01     4\n",
       "2014-01-01     7\n",
       "2014-02-01     6\n",
       "2014-03-01     3\n",
       "2014-04-01     3\n",
       "2014-05-01     8\n",
       "2014-06-01     2\n",
       "2014-07-01     2\n",
       "2014-08-01     3\n",
       "2014-09-01     6\n",
       "2014-10-01     2\n",
       "2014-11-01     5\n",
       "2014-12-01     1\n",
       "2015-01-01     2\n",
       "2015-02-01     3\n",
       "2015-03-01     6\n",
       "2015-04-01     2\n",
       "2015-05-01     7\n",
       "2015-06-01     2\n",
       "2015-07-01     4\n",
       "2015-08-01     1\n",
       "2015-09-01     1\n",
       "2015-10-01     4\n",
       "2015-11-01     5\n",
       "2015-12-01     2\n",
       "2016-01-01     4\n",
       "2016-02-01     4\n",
       "2016-03-01     5\n",
       "2016-05-01     2\n",
       "2016-06-01     2\n",
       "2016-07-01     3\n",
       "2016-08-01     2\n",
       "2016-09-01     4\n",
       "2016-10-01     3\n",
       "2016-11-01     3\n",
       "2016-12-01     8\n",
       "2017-01-01    63\n",
       "2017-02-01    20\n",
       "2017-03-01    57\n",
       "2017-04-01    20\n",
       "2017-05-01    18\n",
       "2017-06-01     5\n",
       "2017-07-01    10\n",
       "2017-08-01     5\n",
       "2017-09-01     9\n",
       "2017-10-01    13\n",
       "2017-11-01    16\n",
       "2017-12-01     5\n",
       "2018-01-01    11\n",
       "2018-02-01     2\n",
       "2018-03-01     2\n",
       "2018-04-01     2\n",
       "2018-05-01     6\n",
       "2018-06-01     2\n",
       "2018-07-01     9\n",
       "2018-08-01     4\n",
       "2018-09-01     2\n",
       "2018-10-01     6\n",
       "2018-11-01     4\n",
       "2018-12-01     6\n",
       "2019-01-01     3\n",
       "2019-02-01     9\n",
       "2019-03-01     2\n",
       "2019-04-01     5\n",
       "2019-05-01    10\n",
       "2019-06-01     1\n",
       "2019-07-01     3\n",
       "2019-08-01     1\n",
       "2019-09-01     5\n",
       "2019-10-01     8\n",
       "2019-11-01     4\n",
       "2019-12-01     2\n",
       "2020-01-01     6\n",
       "2020-02-01     6\n",
       "2020-03-01     7\n",
       "2020-04-01     1\n",
       "2020-05-01     2\n",
       "2020-06-01     3\n",
       "2020-07-01     9\n",
       "2020-08-01     5\n",
       "2020-09-01     1\n",
       "2020-10-01     4\n",
       "2020-11-01     1\n",
       "2020-12-01     2\n",
       "2021-01-01     3\n",
       "2021-03-01     3\n",
       "2021-04-01     6\n",
       "2021-05-01     3\n",
       "2021-06-01     7\n",
       "2021-07-01     5\n",
       "2021-08-01     5\n",
       "2021-09-01     1\n",
       "2021-10-01     4\n",
       "2021-11-01     8\n",
       "2021-12-01     1\n",
       "2022-01-01     4\n",
       "2022-02-01     3\n",
       "2022-03-01    12\n",
       "2022-04-01     1\n",
       "2022-05-01     6\n",
       "2022-06-01     5\n",
       "2022-07-01     4\n",
       "2022-08-01     4\n",
       "2022-09-01     7\n",
       "2022-10-01     7\n",
       "2022-11-01     1\n",
       "2022-12-01     4\n",
       "2023-01-01     7\n",
       "2023-02-01    12\n",
       "2023-03-01    14\n",
       "2023-04-01     6\n",
       "2023-05-01     9\n",
       "2023-06-01    10\n",
       "2023-07-01     7\n",
       "2023-08-01     2\n",
       "2023-09-01    11\n",
       "2023-10-01     7\n",
       "2023-11-01     9\n",
       "2023-12-01    11\n",
       "2024-01-01    18\n",
       "2024-02-01    74\n",
       "2024-03-01    32\n",
       "2024-04-01    17\n",
       "2024-05-01    13\n",
       "2024-06-01    16\n",
       "2024-07-01    18\n",
       "2024-08-01    14\n",
       "2024-09-01    23\n",
       "2024-10-01     3\n",
       "dtype: int64"
      ]
     },
     "execution_count": 54,
     "metadata": {},
     "output_type": "execute_result"
    }
   ],
   "source": [
    "monthly_sales"
   ]
  },
  {
   "cell_type": "code",
   "execution_count": 55,
   "metadata": {},
   "outputs": [
    {
     "name": "stderr",
     "output_type": "stream",
     "text": [
      "/var/folders/06/yylywj097mx17kt26t7k_0g40000gn/T/ipykernel_9649/951779861.py:2: SettingWithCopyWarning:\n",
      "\n",
      "\n",
      "A value is trying to be set on a copy of a slice from a DataFrame.\n",
      "Try using .loc[row_indexer,col_indexer] = value instead\n",
      "\n",
      "See the caveats in the documentation: https://pandas.pydata.org/pandas-docs/stable/user_guide/indexing.html#returning-a-view-versus-a-copy\n",
      "\n"
     ]
    },
    {
     "data": {
      "application/vnd.plotly.v1+json": {
       "config": {
        "plotlyServerURL": "https://plot.ly"
       },
       "data": [
        {
         "hovertemplate": "variable=0<br>Date=%{x}<br>Number of Sales=%{y}<extra></extra>",
         "legendgroup": "0",
         "line": {
          "color": "#636efa",
          "dash": "solid"
         },
         "marker": {
          "symbol": "circle"
         },
         "mode": "lines",
         "name": "0",
         "orientation": "v",
         "showlegend": true,
         "type": "scatter",
         "x": [
          "1978-04-01",
          "1987-10-01",
          "1990-01-01",
          "1991-10-01",
          "1992-03-01",
          "1992-10-01",
          "1993-02-01",
          "1993-05-01",
          "1993-10-01",
          "1993-12-01",
          "1994-09-01",
          "1995-05-01",
          "1995-06-01",
          "1995-07-01",
          "1995-09-01",
          "1995-10-01",
          "1995-11-01",
          "1996-01-01",
          "1997-11-01",
          "1997-12-01",
          "1998-01-01",
          "1998-02-01",
          "1998-03-01",
          "1998-04-01",
          "1998-05-01",
          "1998-06-01",
          "1998-07-01",
          "1998-08-01",
          "1998-09-01",
          "1998-10-01",
          "1998-11-01",
          "1998-12-01",
          "1999-01-01",
          "1999-02-01",
          "1999-03-01",
          "1999-04-01",
          "1999-05-01",
          "1999-06-01",
          "1999-07-01",
          "1999-08-01",
          "1999-09-01",
          "1999-10-01",
          "1999-11-01",
          "1999-12-01",
          "2000-01-01",
          "2000-02-01",
          "2000-03-01",
          "2000-04-01",
          "2000-05-01",
          "2000-06-01",
          "2000-07-01",
          "2000-09-01",
          "2000-10-01",
          "2000-11-01",
          "2000-12-01",
          "2001-01-01",
          "2001-02-01",
          "2001-03-01",
          "2001-04-01",
          "2001-05-01",
          "2001-06-01",
          "2001-07-01",
          "2001-08-01",
          "2001-09-01",
          "2001-10-01",
          "2001-11-01",
          "2001-12-01",
          "2002-01-01",
          "2002-02-01",
          "2002-03-01",
          "2002-04-01",
          "2002-05-01",
          "2002-06-01",
          "2002-07-01",
          "2002-08-01",
          "2002-09-01",
          "2002-10-01",
          "2002-11-01",
          "2002-12-01",
          "2003-01-01",
          "2003-02-01",
          "2003-03-01",
          "2003-04-01",
          "2003-05-01",
          "2003-06-01",
          "2003-07-01",
          "2003-08-01",
          "2003-09-01",
          "2003-10-01",
          "2003-11-01",
          "2003-12-01",
          "2004-01-01",
          "2004-02-01",
          "2004-03-01",
          "2004-04-01",
          "2004-05-01",
          "2004-06-01",
          "2004-07-01",
          "2004-08-01",
          "2004-09-01",
          "2004-10-01",
          "2004-11-01",
          "2004-12-01",
          "2005-01-01",
          "2005-02-01",
          "2005-03-01",
          "2005-04-01",
          "2005-05-01",
          "2005-06-01",
          "2005-07-01",
          "2005-08-01",
          "2005-09-01",
          "2005-10-01",
          "2005-11-01",
          "2005-12-01",
          "2006-01-01",
          "2006-02-01",
          "2006-03-01",
          "2006-04-01",
          "2006-05-01",
          "2006-06-01",
          "2006-07-01",
          "2006-08-01",
          "2006-09-01",
          "2006-10-01",
          "2006-11-01",
          "2006-12-01",
          "2007-01-01",
          "2007-02-01",
          "2007-03-01",
          "2007-04-01",
          "2007-05-01",
          "2007-06-01",
          "2007-07-01",
          "2007-09-01",
          "2008-02-01",
          "2008-03-01",
          "2009-04-01",
          "2009-06-01",
          "2009-08-01",
          "2009-09-01",
          "2009-12-01",
          "2010-01-01",
          "2010-02-01",
          "2010-04-01",
          "2010-05-01",
          "2010-06-01",
          "2010-08-01",
          "2010-09-01",
          "2010-10-01",
          "2010-11-01",
          "2010-12-01",
          "2011-01-01",
          "2011-02-01",
          "2011-03-01",
          "2011-04-01",
          "2011-06-01",
          "2011-07-01",
          "2011-08-01",
          "2011-10-01",
          "2011-11-01",
          "2011-12-01",
          "2012-01-01",
          "2012-02-01",
          "2012-03-01",
          "2012-04-01",
          "2012-05-01",
          "2012-06-01",
          "2012-07-01",
          "2012-08-01",
          "2012-09-01",
          "2012-10-01",
          "2012-11-01",
          "2012-12-01",
          "2013-01-01",
          "2013-02-01",
          "2013-03-01",
          "2013-04-01",
          "2013-05-01",
          "2013-06-01",
          "2013-07-01",
          "2013-08-01",
          "2013-09-01",
          "2013-10-01",
          "2013-11-01",
          "2013-12-01",
          "2014-01-01",
          "2014-02-01",
          "2014-03-01",
          "2014-04-01",
          "2014-05-01",
          "2014-06-01",
          "2014-07-01",
          "2014-08-01",
          "2014-09-01",
          "2014-10-01",
          "2014-11-01",
          "2014-12-01",
          "2015-01-01",
          "2015-02-01",
          "2015-03-01",
          "2015-04-01",
          "2015-05-01",
          "2015-06-01",
          "2015-07-01",
          "2015-08-01",
          "2015-09-01",
          "2015-10-01",
          "2015-11-01",
          "2015-12-01",
          "2016-01-01",
          "2016-02-01",
          "2016-03-01",
          "2016-05-01",
          "2016-06-01",
          "2016-07-01",
          "2016-08-01",
          "2016-09-01",
          "2016-10-01",
          "2016-11-01",
          "2016-12-01",
          "2017-01-01",
          "2017-02-01",
          "2017-03-01",
          "2017-04-01",
          "2017-05-01",
          "2017-06-01",
          "2017-07-01",
          "2017-08-01",
          "2017-09-01",
          "2017-10-01",
          "2017-11-01",
          "2017-12-01",
          "2018-01-01",
          "2018-02-01",
          "2018-03-01",
          "2018-04-01",
          "2018-05-01",
          "2018-06-01",
          "2018-07-01",
          "2018-08-01",
          "2018-09-01",
          "2018-10-01",
          "2018-11-01",
          "2018-12-01",
          "2019-01-01",
          "2019-02-01",
          "2019-03-01",
          "2019-04-01",
          "2019-05-01",
          "2019-06-01",
          "2019-07-01",
          "2019-08-01",
          "2019-09-01",
          "2019-10-01",
          "2019-11-01",
          "2019-12-01",
          "2020-01-01",
          "2020-02-01",
          "2020-03-01",
          "2020-04-01",
          "2020-05-01",
          "2020-06-01",
          "2020-07-01",
          "2020-08-01",
          "2020-09-01",
          "2020-10-01",
          "2020-11-01",
          "2020-12-01",
          "2021-01-01",
          "2021-03-01",
          "2021-04-01",
          "2021-05-01",
          "2021-06-01",
          "2021-07-01",
          "2021-08-01",
          "2021-09-01",
          "2021-10-01",
          "2021-11-01",
          "2021-12-01",
          "2022-01-01",
          "2022-02-01",
          "2022-03-01",
          "2022-04-01",
          "2022-05-01",
          "2022-06-01",
          "2022-07-01",
          "2022-08-01",
          "2022-09-01",
          "2022-10-01",
          "2022-11-01",
          "2022-12-01",
          "2023-01-01",
          "2023-02-01",
          "2023-03-01",
          "2023-04-01",
          "2023-05-01",
          "2023-06-01",
          "2023-07-01",
          "2023-08-01",
          "2023-09-01",
          "2023-10-01",
          "2023-11-01",
          "2023-12-01",
          "2024-01-01",
          "2024-02-01",
          "2024-03-01",
          "2024-04-01",
          "2024-05-01",
          "2024-06-01",
          "2024-07-01",
          "2024-08-01",
          "2024-09-01",
          "2024-10-01"
         ],
         "xaxis": "x",
         "y": [
          1,
          1,
          2,
          1,
          1,
          1,
          1,
          1,
          1,
          1,
          1,
          1,
          1,
          1,
          1,
          1,
          1,
          1,
          1,
          1,
          1,
          3,
          11,
          4,
          7,
          9,
          5,
          6,
          1,
          3,
          7,
          4,
          1,
          3,
          7,
          3,
          6,
          10,
          6,
          18,
          4,
          5,
          5,
          3,
          4,
          9,
          4,
          8,
          11,
          4,
          10,
          3,
          3,
          5,
          5,
          8,
          8,
          1,
          9,
          9,
          7,
          11,
          3,
          2,
          7,
          3,
          1,
          6,
          7,
          3,
          8,
          8,
          9,
          6,
          3,
          3,
          8,
          7,
          8,
          9,
          10,
          7,
          14,
          12,
          8,
          16,
          9,
          11,
          11,
          10,
          15,
          10,
          5,
          16,
          20,
          13,
          16,
          14,
          15,
          11,
          3,
          7,
          11,
          13,
          22,
          13,
          14,
          11,
          14,
          9,
          12,
          14,
          14,
          9,
          11,
          8,
          17,
          10,
          12,
          8,
          7,
          13,
          7,
          7,
          8,
          12,
          13,
          13,
          9,
          17,
          13,
          8,
          10,
          5,
          1,
          3,
          1,
          2,
          1,
          1,
          1,
          1,
          1,
          1,
          2,
          2,
          1,
          1,
          1,
          1,
          3,
          2,
          1,
          2,
          2,
          1,
          5,
          4,
          3,
          4,
          2,
          1,
          7,
          1,
          3,
          7,
          7,
          1,
          7,
          4,
          7,
          10,
          1,
          5,
          4,
          9,
          4,
          9,
          10,
          9,
          2,
          4,
          5,
          7,
          4,
          4,
          7,
          6,
          3,
          3,
          8,
          2,
          2,
          3,
          6,
          2,
          5,
          1,
          2,
          3,
          6,
          2,
          7,
          2,
          4,
          1,
          1,
          4,
          5,
          2,
          4,
          4,
          5,
          2,
          2,
          3,
          2,
          4,
          3,
          3,
          8,
          63,
          20,
          57,
          20,
          18,
          5,
          10,
          5,
          9,
          13,
          16,
          5,
          11,
          2,
          2,
          2,
          6,
          2,
          9,
          4,
          2,
          6,
          4,
          6,
          3,
          9,
          2,
          5,
          10,
          1,
          3,
          1,
          5,
          8,
          4,
          2,
          6,
          6,
          7,
          1,
          2,
          3,
          9,
          5,
          1,
          4,
          1,
          2,
          3,
          3,
          6,
          3,
          7,
          5,
          5,
          1,
          4,
          8,
          1,
          4,
          3,
          12,
          1,
          6,
          5,
          4,
          4,
          7,
          7,
          1,
          4,
          7,
          12,
          14,
          6,
          9,
          10,
          7,
          2,
          11,
          7,
          9,
          11,
          18,
          74,
          32,
          17,
          13,
          16,
          18,
          14,
          23,
          3
         ],
         "yaxis": "y"
        }
       ],
       "layout": {
        "legend": {
         "title": {
          "text": "variable"
         },
         "tracegroupgap": 0
        },
        "showlegend": false,
        "template": {
         "data": {
          "bar": [
           {
            "error_x": {
             "color": "#2a3f5f"
            },
            "error_y": {
             "color": "#2a3f5f"
            },
            "marker": {
             "line": {
              "color": "#E5ECF6",
              "width": 0.5
             },
             "pattern": {
              "fillmode": "overlay",
              "size": 10,
              "solidity": 0.2
             }
            },
            "type": "bar"
           }
          ],
          "barpolar": [
           {
            "marker": {
             "line": {
              "color": "#E5ECF6",
              "width": 0.5
             },
             "pattern": {
              "fillmode": "overlay",
              "size": 10,
              "solidity": 0.2
             }
            },
            "type": "barpolar"
           }
          ],
          "carpet": [
           {
            "aaxis": {
             "endlinecolor": "#2a3f5f",
             "gridcolor": "white",
             "linecolor": "white",
             "minorgridcolor": "white",
             "startlinecolor": "#2a3f5f"
            },
            "baxis": {
             "endlinecolor": "#2a3f5f",
             "gridcolor": "white",
             "linecolor": "white",
             "minorgridcolor": "white",
             "startlinecolor": "#2a3f5f"
            },
            "type": "carpet"
           }
          ],
          "choropleth": [
           {
            "colorbar": {
             "outlinewidth": 0,
             "ticks": ""
            },
            "type": "choropleth"
           }
          ],
          "contour": [
           {
            "colorbar": {
             "outlinewidth": 0,
             "ticks": ""
            },
            "colorscale": [
             [
              0,
              "#0d0887"
             ],
             [
              0.1111111111111111,
              "#46039f"
             ],
             [
              0.2222222222222222,
              "#7201a8"
             ],
             [
              0.3333333333333333,
              "#9c179e"
             ],
             [
              0.4444444444444444,
              "#bd3786"
             ],
             [
              0.5555555555555556,
              "#d8576b"
             ],
             [
              0.6666666666666666,
              "#ed7953"
             ],
             [
              0.7777777777777778,
              "#fb9f3a"
             ],
             [
              0.8888888888888888,
              "#fdca26"
             ],
             [
              1,
              "#f0f921"
             ]
            ],
            "type": "contour"
           }
          ],
          "contourcarpet": [
           {
            "colorbar": {
             "outlinewidth": 0,
             "ticks": ""
            },
            "type": "contourcarpet"
           }
          ],
          "heatmap": [
           {
            "colorbar": {
             "outlinewidth": 0,
             "ticks": ""
            },
            "colorscale": [
             [
              0,
              "#0d0887"
             ],
             [
              0.1111111111111111,
              "#46039f"
             ],
             [
              0.2222222222222222,
              "#7201a8"
             ],
             [
              0.3333333333333333,
              "#9c179e"
             ],
             [
              0.4444444444444444,
              "#bd3786"
             ],
             [
              0.5555555555555556,
              "#d8576b"
             ],
             [
              0.6666666666666666,
              "#ed7953"
             ],
             [
              0.7777777777777778,
              "#fb9f3a"
             ],
             [
              0.8888888888888888,
              "#fdca26"
             ],
             [
              1,
              "#f0f921"
             ]
            ],
            "type": "heatmap"
           }
          ],
          "heatmapgl": [
           {
            "colorbar": {
             "outlinewidth": 0,
             "ticks": ""
            },
            "colorscale": [
             [
              0,
              "#0d0887"
             ],
             [
              0.1111111111111111,
              "#46039f"
             ],
             [
              0.2222222222222222,
              "#7201a8"
             ],
             [
              0.3333333333333333,
              "#9c179e"
             ],
             [
              0.4444444444444444,
              "#bd3786"
             ],
             [
              0.5555555555555556,
              "#d8576b"
             ],
             [
              0.6666666666666666,
              "#ed7953"
             ],
             [
              0.7777777777777778,
              "#fb9f3a"
             ],
             [
              0.8888888888888888,
              "#fdca26"
             ],
             [
              1,
              "#f0f921"
             ]
            ],
            "type": "heatmapgl"
           }
          ],
          "histogram": [
           {
            "marker": {
             "pattern": {
              "fillmode": "overlay",
              "size": 10,
              "solidity": 0.2
             }
            },
            "type": "histogram"
           }
          ],
          "histogram2d": [
           {
            "colorbar": {
             "outlinewidth": 0,
             "ticks": ""
            },
            "colorscale": [
             [
              0,
              "#0d0887"
             ],
             [
              0.1111111111111111,
              "#46039f"
             ],
             [
              0.2222222222222222,
              "#7201a8"
             ],
             [
              0.3333333333333333,
              "#9c179e"
             ],
             [
              0.4444444444444444,
              "#bd3786"
             ],
             [
              0.5555555555555556,
              "#d8576b"
             ],
             [
              0.6666666666666666,
              "#ed7953"
             ],
             [
              0.7777777777777778,
              "#fb9f3a"
             ],
             [
              0.8888888888888888,
              "#fdca26"
             ],
             [
              1,
              "#f0f921"
             ]
            ],
            "type": "histogram2d"
           }
          ],
          "histogram2dcontour": [
           {
            "colorbar": {
             "outlinewidth": 0,
             "ticks": ""
            },
            "colorscale": [
             [
              0,
              "#0d0887"
             ],
             [
              0.1111111111111111,
              "#46039f"
             ],
             [
              0.2222222222222222,
              "#7201a8"
             ],
             [
              0.3333333333333333,
              "#9c179e"
             ],
             [
              0.4444444444444444,
              "#bd3786"
             ],
             [
              0.5555555555555556,
              "#d8576b"
             ],
             [
              0.6666666666666666,
              "#ed7953"
             ],
             [
              0.7777777777777778,
              "#fb9f3a"
             ],
             [
              0.8888888888888888,
              "#fdca26"
             ],
             [
              1,
              "#f0f921"
             ]
            ],
            "type": "histogram2dcontour"
           }
          ],
          "mesh3d": [
           {
            "colorbar": {
             "outlinewidth": 0,
             "ticks": ""
            },
            "type": "mesh3d"
           }
          ],
          "parcoords": [
           {
            "line": {
             "colorbar": {
              "outlinewidth": 0,
              "ticks": ""
             }
            },
            "type": "parcoords"
           }
          ],
          "pie": [
           {
            "automargin": true,
            "type": "pie"
           }
          ],
          "scatter": [
           {
            "fillpattern": {
             "fillmode": "overlay",
             "size": 10,
             "solidity": 0.2
            },
            "type": "scatter"
           }
          ],
          "scatter3d": [
           {
            "line": {
             "colorbar": {
              "outlinewidth": 0,
              "ticks": ""
             }
            },
            "marker": {
             "colorbar": {
              "outlinewidth": 0,
              "ticks": ""
             }
            },
            "type": "scatter3d"
           }
          ],
          "scattercarpet": [
           {
            "marker": {
             "colorbar": {
              "outlinewidth": 0,
              "ticks": ""
             }
            },
            "type": "scattercarpet"
           }
          ],
          "scattergeo": [
           {
            "marker": {
             "colorbar": {
              "outlinewidth": 0,
              "ticks": ""
             }
            },
            "type": "scattergeo"
           }
          ],
          "scattergl": [
           {
            "marker": {
             "colorbar": {
              "outlinewidth": 0,
              "ticks": ""
             }
            },
            "type": "scattergl"
           }
          ],
          "scattermapbox": [
           {
            "marker": {
             "colorbar": {
              "outlinewidth": 0,
              "ticks": ""
             }
            },
            "type": "scattermapbox"
           }
          ],
          "scatterpolar": [
           {
            "marker": {
             "colorbar": {
              "outlinewidth": 0,
              "ticks": ""
             }
            },
            "type": "scatterpolar"
           }
          ],
          "scatterpolargl": [
           {
            "marker": {
             "colorbar": {
              "outlinewidth": 0,
              "ticks": ""
             }
            },
            "type": "scatterpolargl"
           }
          ],
          "scatterternary": [
           {
            "marker": {
             "colorbar": {
              "outlinewidth": 0,
              "ticks": ""
             }
            },
            "type": "scatterternary"
           }
          ],
          "surface": [
           {
            "colorbar": {
             "outlinewidth": 0,
             "ticks": ""
            },
            "colorscale": [
             [
              0,
              "#0d0887"
             ],
             [
              0.1111111111111111,
              "#46039f"
             ],
             [
              0.2222222222222222,
              "#7201a8"
             ],
             [
              0.3333333333333333,
              "#9c179e"
             ],
             [
              0.4444444444444444,
              "#bd3786"
             ],
             [
              0.5555555555555556,
              "#d8576b"
             ],
             [
              0.6666666666666666,
              "#ed7953"
             ],
             [
              0.7777777777777778,
              "#fb9f3a"
             ],
             [
              0.8888888888888888,
              "#fdca26"
             ],
             [
              1,
              "#f0f921"
             ]
            ],
            "type": "surface"
           }
          ],
          "table": [
           {
            "cells": {
             "fill": {
              "color": "#EBF0F8"
             },
             "line": {
              "color": "white"
             }
            },
            "header": {
             "fill": {
              "color": "#C8D4E3"
             },
             "line": {
              "color": "white"
             }
            },
            "type": "table"
           }
          ]
         },
         "layout": {
          "annotationdefaults": {
           "arrowcolor": "#2a3f5f",
           "arrowhead": 0,
           "arrowwidth": 1
          },
          "autotypenumbers": "strict",
          "coloraxis": {
           "colorbar": {
            "outlinewidth": 0,
            "ticks": ""
           }
          },
          "colorscale": {
           "diverging": [
            [
             0,
             "#8e0152"
            ],
            [
             0.1,
             "#c51b7d"
            ],
            [
             0.2,
             "#de77ae"
            ],
            [
             0.3,
             "#f1b6da"
            ],
            [
             0.4,
             "#fde0ef"
            ],
            [
             0.5,
             "#f7f7f7"
            ],
            [
             0.6,
             "#e6f5d0"
            ],
            [
             0.7,
             "#b8e186"
            ],
            [
             0.8,
             "#7fbc41"
            ],
            [
             0.9,
             "#4d9221"
            ],
            [
             1,
             "#276419"
            ]
           ],
           "sequential": [
            [
             0,
             "#0d0887"
            ],
            [
             0.1111111111111111,
             "#46039f"
            ],
            [
             0.2222222222222222,
             "#7201a8"
            ],
            [
             0.3333333333333333,
             "#9c179e"
            ],
            [
             0.4444444444444444,
             "#bd3786"
            ],
            [
             0.5555555555555556,
             "#d8576b"
            ],
            [
             0.6666666666666666,
             "#ed7953"
            ],
            [
             0.7777777777777778,
             "#fb9f3a"
            ],
            [
             0.8888888888888888,
             "#fdca26"
            ],
            [
             1,
             "#f0f921"
            ]
           ],
           "sequentialminus": [
            [
             0,
             "#0d0887"
            ],
            [
             0.1111111111111111,
             "#46039f"
            ],
            [
             0.2222222222222222,
             "#7201a8"
            ],
            [
             0.3333333333333333,
             "#9c179e"
            ],
            [
             0.4444444444444444,
             "#bd3786"
            ],
            [
             0.5555555555555556,
             "#d8576b"
            ],
            [
             0.6666666666666666,
             "#ed7953"
            ],
            [
             0.7777777777777778,
             "#fb9f3a"
            ],
            [
             0.8888888888888888,
             "#fdca26"
            ],
            [
             1,
             "#f0f921"
            ]
           ]
          },
          "colorway": [
           "#636efa",
           "#EF553B",
           "#00cc96",
           "#ab63fa",
           "#FFA15A",
           "#19d3f3",
           "#FF6692",
           "#B6E880",
           "#FF97FF",
           "#FECB52"
          ],
          "font": {
           "color": "#2a3f5f"
          },
          "geo": {
           "bgcolor": "white",
           "lakecolor": "white",
           "landcolor": "#E5ECF6",
           "showlakes": true,
           "showland": true,
           "subunitcolor": "white"
          },
          "hoverlabel": {
           "align": "left"
          },
          "hovermode": "closest",
          "mapbox": {
           "style": "light"
          },
          "paper_bgcolor": "white",
          "plot_bgcolor": "#E5ECF6",
          "polar": {
           "angularaxis": {
            "gridcolor": "white",
            "linecolor": "white",
            "ticks": ""
           },
           "bgcolor": "#E5ECF6",
           "radialaxis": {
            "gridcolor": "white",
            "linecolor": "white",
            "ticks": ""
           }
          },
          "scene": {
           "xaxis": {
            "backgroundcolor": "#E5ECF6",
            "gridcolor": "white",
            "gridwidth": 2,
            "linecolor": "white",
            "showbackground": true,
            "ticks": "",
            "zerolinecolor": "white"
           },
           "yaxis": {
            "backgroundcolor": "#E5ECF6",
            "gridcolor": "white",
            "gridwidth": 2,
            "linecolor": "white",
            "showbackground": true,
            "ticks": "",
            "zerolinecolor": "white"
           },
           "zaxis": {
            "backgroundcolor": "#E5ECF6",
            "gridcolor": "white",
            "gridwidth": 2,
            "linecolor": "white",
            "showbackground": true,
            "ticks": "",
            "zerolinecolor": "white"
           }
          },
          "shapedefaults": {
           "line": {
            "color": "#2a3f5f"
           }
          },
          "ternary": {
           "aaxis": {
            "gridcolor": "white",
            "linecolor": "white",
            "ticks": ""
           },
           "baxis": {
            "gridcolor": "white",
            "linecolor": "white",
            "ticks": ""
           },
           "bgcolor": "#E5ECF6",
           "caxis": {
            "gridcolor": "white",
            "linecolor": "white",
            "ticks": ""
           }
          },
          "title": {
           "x": 0.05
          },
          "xaxis": {
           "automargin": true,
           "gridcolor": "white",
           "linecolor": "white",
           "ticks": "",
           "title": {
            "standoff": 15
           },
           "zerolinecolor": "white",
           "zerolinewidth": 2
          },
          "yaxis": {
           "automargin": true,
           "gridcolor": "white",
           "linecolor": "white",
           "ticks": "",
           "title": {
            "standoff": 15
           },
           "zerolinecolor": "white",
           "zerolinewidth": 2
          }
         }
        },
        "title": {
         "text": "Sales Trend Over Time"
        },
        "xaxis": {
         "anchor": "y",
         "domain": [
          0,
          1
         ],
         "title": {
          "text": "Date"
         }
        },
        "yaxis": {
         "anchor": "x",
         "domain": [
          0,
          1
         ],
         "title": {
          "text": "Number of Sales"
         }
        }
       }
      }
     },
     "metadata": {},
     "output_type": "display_data"
    }
   ],
   "source": [
    "# Convert instance_date to datetime\n",
    "transactions_satwa['instance_date'] = pd.to_datetime(transactions_satwa['instance_date'], format=\"%d-%m-%Y\")\n",
    "\n",
    "# Group by year and month to count sales transactions\n",
    "monthly_sales = transactions_satwa.groupby(transactions_satwa['instance_date'].dt.to_period(\"M\")).size()\n",
    "\n",
    "# If your index is a PeriodIndex, convert it to string or datetime\n",
    "monthly_sales.index = monthly_sales.index.to_timestamp()  # Convert PeriodIndex to datetime\n",
    "# or \n",
    "monthly_sales.index = monthly_sales.index.astype(str)  # Convert PeriodIndex to string\n",
    "\n",
    "# Recreate the plot after converting the index\n",
    "sales_trend_fig = px.line(monthly_sales, title=\"Sales Trend Over Time\",\n",
    "                          labels={'value': 'Number of Sales', 'instance_date': 'Date'})\n",
    "\n",
    "# Hide the legend\n",
    "sales_trend_fig.update_layout(showlegend=False)\n",
    "\n",
    "sales_trend_fig.write_image(f\"{output_dir}/sales_trend_over_time.png\")\n",
    "sales_trend_fig.show()"
   ]
  },
  {
   "cell_type": "code",
   "execution_count": 60,
   "metadata": {},
   "outputs": [
    {
     "data": {
      "text/plain": [
       "instance_date\n",
       "2024-02-01    74\n",
       "2017-01-01    63\n",
       "2017-03-01    57\n",
       "2024-03-01    32\n",
       "2024-09-01    23\n",
       "2005-02-01    22\n",
       "2004-04-01    20\n",
       "2017-04-01    20\n",
       "2017-02-01    20\n",
       "1999-08-01    18\n",
       "2024-01-01    18\n",
       "2024-07-01    18\n",
       "2017-05-01    18\n",
       "2024-04-01    17\n",
       "2007-03-01    17\n",
       "2006-02-01    17\n",
       "2004-06-01    16\n",
       "2024-06-01    16\n",
       "2004-03-01    16\n",
       "2017-11-01    16\n",
       "2003-07-01    16\n",
       "2004-08-01    15\n",
       "2003-12-01    15\n",
       "2004-07-01    14\n",
       "2024-08-01    14\n",
       "2005-04-01    14\n",
       "2005-06-01    14\n",
       "2005-09-01    14\n",
       "2005-10-01    14\n",
       "2003-04-01    14\n",
       "2023-03-01    14\n",
       "2006-07-01    13\n",
       "2024-05-01    13\n",
       "2005-03-01    13\n",
       "2005-01-01    13\n",
       "2006-12-01    13\n",
       "2004-05-01    13\n",
       "2007-01-01    13\n",
       "2017-10-01    13\n",
       "2007-04-01    13\n",
       "2003-05-01    12\n",
       "2022-03-01    12\n",
       "2005-08-01    12\n",
       "2006-04-01    12\n",
       "2006-11-01    12\n",
       "2023-02-01    12\n",
       "2004-09-01    11\n",
       "2004-12-01    11\n",
       "2005-05-01    11\n",
       "2003-09-01    11\n",
       "2001-07-01    11\n",
       "2018-01-01    11\n",
       "2005-12-01    11\n",
       "2003-10-01    11\n",
       "2000-05-01    11\n",
       "1998-03-01    11\n",
       "2023-12-01    11\n",
       "2023-09-01    11\n",
       "2013-05-01    10\n",
       "2019-05-01    10\n",
       "2004-01-01    10\n",
       "2003-11-01    10\n",
       "2006-03-01    10\n",
       "2003-02-01    10\n",
       "2023-06-01    10\n",
       "1999-06-01    10\n",
       "2007-06-01    10\n",
       "2017-07-01    10\n",
       "2012-10-01    10\n",
       "2000-07-01    10\n",
       "2005-11-01     9\n",
       "2013-02-01     9\n",
       "1998-06-01     9\n",
       "2013-06-01     9\n",
       "2013-04-01     9\n",
       "2000-02-01     9\n",
       "2003-08-01     9\n",
       "2001-04-01     9\n",
       "2001-05-01     9\n",
       "2018-07-01     9\n",
       "2019-02-01     9\n",
       "2003-01-01     9\n",
       "2007-02-01     9\n",
       "2023-05-01     9\n",
       "2017-09-01     9\n",
       "2023-11-01     9\n",
       "2002-06-01     9\n",
       "2020-07-01     9\n",
       "2005-07-01     9\n",
       "2006-10-01     8\n",
       "2006-05-01     8\n",
       "2007-05-01     8\n",
       "2014-05-01     8\n",
       "2001-01-01     8\n",
       "2019-10-01     8\n",
       "2006-01-01     8\n",
       "2002-05-01     8\n",
       "2016-12-01     8\n",
       "2021-11-01     8\n",
       "2000-04-01     8\n",
       "2002-12-01     8\n",
       "2002-10-01     8\n",
       "2003-06-01     8\n",
       "2002-04-01     8\n",
       "2001-02-01     8\n",
       "2021-06-01     7\n",
       "2002-02-01     7\n",
       "2023-07-01     7\n",
       "2020-03-01     7\n",
       "2014-01-01     7\n",
       "2023-01-01     7\n",
       "2003-03-01     7\n",
       "2006-09-01     7\n",
       "2006-08-01     7\n",
       "2013-10-01     7\n",
       "2006-06-01     7\n",
       "2002-11-01     7\n",
       "1998-05-01     7\n",
       "2022-09-01     7\n",
       "2015-05-01     7\n",
       "2023-10-01     7\n",
       "2001-10-01     7\n",
       "2012-01-01     7\n",
       "2022-10-01     7\n",
       "2012-04-01     7\n",
       "1998-11-01     7\n",
       "2012-05-01     7\n",
       "2001-06-01     7\n",
       "2012-07-01     7\n",
       "2012-09-01     7\n",
       "1999-03-01     7\n",
       "2004-11-01     7\n",
       "2014-09-01     6\n",
       "2020-01-01     6\n",
       "2018-10-01     6\n",
       "2002-01-01     6\n",
       "2018-05-01     6\n",
       "2018-12-01     6\n",
       "2022-05-01     6\n",
       "2020-02-01     6\n",
       "2015-03-01     6\n",
       "2014-02-01     6\n",
       "1999-07-01     6\n",
       "1999-05-01     6\n",
       "1998-08-01     6\n",
       "2002-07-01     6\n",
       "2021-04-01     6\n",
       "2023-04-01     6\n",
       "2016-03-01     5\n",
       "2022-06-01     5\n",
       "1999-11-01     5\n",
       "2017-08-01     5\n",
       "2015-11-01     5\n",
       "2017-06-01     5\n",
       "2017-12-01     5\n",
       "2000-11-01     5\n",
       "2012-12-01     5\n",
       "1999-10-01     5\n",
       "1998-07-01     5\n",
       "2000-12-01     5\n",
       "2020-08-01     5\n",
       "2013-09-01     5\n",
       "2021-07-01     5\n",
       "2019-09-01     5\n",
       "2019-04-01     5\n",
       "2007-07-01     5\n",
       "2004-02-01     5\n",
       "2014-11-01     5\n",
       "2021-08-01     5\n",
       "2011-06-01     5\n",
       "2015-07-01     4\n",
       "2016-01-01     4\n",
       "2013-11-01     4\n",
       "2016-02-01     4\n",
       "2013-12-01     4\n",
       "2016-09-01     4\n",
       "2013-08-01     4\n",
       "2011-07-01     4\n",
       "2013-03-01     4\n",
       "2021-10-01     4\n",
       "1998-04-01     4\n",
       "2022-12-01     4\n",
       "1998-12-01     4\n",
       "2022-08-01     4\n",
       "2022-07-01     4\n",
       "1999-09-01     4\n",
       "2000-01-01     4\n",
       "2000-03-01     4\n",
       "2000-06-01     4\n",
       "2013-01-01     4\n",
       "2022-01-01     4\n",
       "2019-11-01     4\n",
       "2018-11-01     4\n",
       "2012-08-01     4\n",
       "2011-10-01     4\n",
       "2018-08-01     4\n",
       "2015-10-01     4\n",
       "2020-10-01     4\n",
       "2016-11-01     3\n",
       "2016-10-01     3\n",
       "2021-03-01     3\n",
       "2019-07-01     3\n",
       "2016-07-01     3\n",
       "2019-01-01     3\n",
       "2020-06-01     3\n",
       "2022-02-01     3\n",
       "2021-01-01     3\n",
       "2021-05-01     3\n",
       "2024-10-01     3\n",
       "2014-03-01     3\n",
       "2014-08-01     3\n",
       "2011-08-01     3\n",
       "2008-02-01     3\n",
       "2004-10-01     3\n",
       "2002-09-01     3\n",
       "2012-03-01     3\n",
       "2002-08-01     3\n",
       "2002-03-01     3\n",
       "2001-11-01     3\n",
       "2014-04-01     3\n",
       "2001-08-01     3\n",
       "2000-10-01     3\n",
       "2000-09-01     3\n",
       "1999-12-01     3\n",
       "2015-02-01     3\n",
       "1999-04-01     3\n",
       "1999-02-01     3\n",
       "1998-10-01     3\n",
       "1998-02-01     3\n",
       "2010-11-01     3\n",
       "2009-04-01     2\n",
       "2010-05-01     2\n",
       "2010-04-01     2\n",
       "2019-03-01     2\n",
       "2019-12-01     2\n",
       "2015-12-01     2\n",
       "2020-12-01     2\n",
       "2011-02-01     2\n",
       "2001-09-01     2\n",
       "2023-08-01     2\n",
       "1990-01-01     2\n",
       "2010-12-01     2\n",
       "2020-05-01     2\n",
       "2014-06-01     2\n",
       "2015-06-01     2\n",
       "2015-01-01     2\n",
       "2014-07-01     2\n",
       "2016-08-01     2\n",
       "2018-09-01     2\n",
       "2013-07-01     2\n",
       "2015-04-01     2\n",
       "2016-06-01     2\n",
       "2016-05-01     2\n",
       "2011-11-01     2\n",
       "2018-02-01     2\n",
       "2018-03-01     2\n",
       "2014-10-01     2\n",
       "2011-03-01     2\n",
       "2018-04-01     2\n",
       "2018-06-01     2\n",
       "1995-05-01     1\n",
       "1993-10-01     1\n",
       "2015-08-01     1\n",
       "1991-10-01     1\n",
       "1992-03-01     1\n",
       "1992-10-01     1\n",
       "1993-02-01     1\n",
       "1999-01-01     1\n",
       "1993-05-01     1\n",
       "2022-11-01     1\n",
       "1998-09-01     1\n",
       "1998-01-01     1\n",
       "1995-06-01     1\n",
       "1993-12-01     1\n",
       "1997-12-01     1\n",
       "1997-11-01     1\n",
       "1996-01-01     1\n",
       "1994-09-01     1\n",
       "2014-12-01     1\n",
       "1995-10-01     1\n",
       "1995-09-01     1\n",
       "1995-07-01     1\n",
       "1995-11-01     1\n",
       "2011-01-01     1\n",
       "2022-04-01     1\n",
       "2001-03-01     1\n",
       "2010-10-01     1\n",
       "2011-04-01     1\n",
       "2010-09-01     1\n",
       "2010-08-01     1\n",
       "2019-06-01     1\n",
       "2010-06-01     1\n",
       "2019-08-01     1\n",
       "1987-10-01     1\n",
       "2010-02-01     1\n",
       "2010-01-01     1\n",
       "2009-12-01     1\n",
       "2009-09-01     1\n",
       "2020-04-01     1\n",
       "2015-09-01     1\n",
       "2009-08-01     1\n",
       "2009-06-01     1\n",
       "2020-09-01     1\n",
       "2008-03-01     1\n",
       "2020-11-01     1\n",
       "2007-09-01     1\n",
       "2011-12-01     1\n",
       "2012-02-01     1\n",
       "2012-06-01     1\n",
       "2012-11-01     1\n",
       "2001-12-01     1\n",
       "2021-09-01     1\n",
       "2021-12-01     1\n",
       "1978-04-01     1\n",
       "dtype: int64"
      ]
     },
     "execution_count": 60,
     "metadata": {},
     "output_type": "execute_result"
    }
   ],
   "source": [
    "monthly_sales.sort_values(ascending=False)"
   ]
  },
  {
   "cell_type": "markdown",
   "metadata": {},
   "source": [
    "**Market Demand (Sales Trend)**:\n",
    "\n",
    "1. **High Sales Peaks (Recent Years)**:\n",
    "\n",
    "\t- The highest sales activity occurred in **February 2024** with 74 sales, followed by **January and March 2017**, and **March 2024**, which also saw strong activity. These peak periods suggest that there was likely high demand or favorable market conditions during these months.\n",
    "\n",
    "\t- This spike in sales during 2024 might indicate a booming real estate market that could be driven by specific projects or policies that affected sales during this period.\n",
    "\n",
    "2. **2017 Spike in Sales**:\n",
    "\n",
    "\t- The strong activity in **2017**, especially between **January** and **April**, is quite noticeable, as it ranks among the top months with the highest number of sales. This could have been driven by external factors such as significant real estate developments, promotional campaigns, or economic changes at that time.\n",
    "\n",
    "3. **Steady Sales Growth (2000-2020)**:\n",
    "\n",
    "\t- From the year 2000 onward, there is a steady increase in sales, with occasional dips. This gradual growth indicates a healthy market expansion over the years, which might correlate with Dubai’s overall real estate development and economic growth.\n",
    "\n",
    "\t- **2005** and **2006** saw a relatively strong number of transactions compared to the surrounding years, suggesting some market growth or increased activity during this period.\n",
    "\n",
    "4. **Early Trends and Lower Activity**:\n",
    "\n",
    "\t- The earlier periods (before 2000) show sporadic sales, indicating a much smaller market or a lower number of transactions being recorded at that time. This aligns with the idea that Dubai’s real estate market was not as large or as active in its earlier years compared to the recent two decades.\n",
    "\n",
    "5. **Pandemic Impact**:\n",
    "\n",
    "\t- A noticeable dip is seen around **2020**, likely caused by the **COVID-19 pandemic**, which temporarily slowed down economic activities, including real estate transactions.\n",
    "\n",
    "6. **Strong Activity in Specific Projects**:\n",
    "\n",
    "\t- Many of the top months with high sales correspond to ongoing or completed large-scale residential projects or new developments. Understanding the impact of specific projects (e.g., Dubai Hills, Jumeriah Garden City) on sales would provide more granular insights."
   ]
  },
  {
   "cell_type": "markdown",
   "metadata": {},
   "source": [
    "### Price per Sqm (Meter Sale Price)"
   ]
  },
  {
   "cell_type": "code",
   "execution_count": 71,
   "metadata": {},
   "outputs": [
    {
     "data": {
      "application/vnd.plotly.v1+json": {
       "config": {
        "plotlyServerURL": "https://plot.ly"
       },
       "data": [
        {
         "alignmentgroup": "True",
         "hovertemplate": "variable=meter_sale_price<br>Property Type=%{x}<br>Price per Sqm (AED)=%{y}<br>text=%{text}<extra></extra>",
         "legendgroup": "meter_sale_price",
         "marker": {
          "color": "#636efa",
          "pattern": {
           "shape": ""
          }
         },
         "name": "meter_sale_price",
         "offsetgroup": "meter_sale_price",
         "orientation": "v",
         "showlegend": true,
         "text": [
          15996.04,
          9167.23,
          24027.66,
          7318.61
         ],
         "textposition": "auto",
         "type": "bar",
         "x": [
          "Building",
          "Land",
          "Unit",
          "Villa"
         ],
         "xaxis": "x",
         "y": [
          15996.036451612903,
          9167.228260489512,
          24027.660810810812,
          7318.609048414024
         ],
         "yaxis": "y"
        }
       ],
       "layout": {
        "barmode": "relative",
        "legend": {
         "title": {
          "text": "variable"
         },
         "tracegroupgap": 0
        },
        "showlegend": false,
        "template": {
         "data": {
          "bar": [
           {
            "error_x": {
             "color": "#2a3f5f"
            },
            "error_y": {
             "color": "#2a3f5f"
            },
            "marker": {
             "line": {
              "color": "#E5ECF6",
              "width": 0.5
             },
             "pattern": {
              "fillmode": "overlay",
              "size": 10,
              "solidity": 0.2
             }
            },
            "type": "bar"
           }
          ],
          "barpolar": [
           {
            "marker": {
             "line": {
              "color": "#E5ECF6",
              "width": 0.5
             },
             "pattern": {
              "fillmode": "overlay",
              "size": 10,
              "solidity": 0.2
             }
            },
            "type": "barpolar"
           }
          ],
          "carpet": [
           {
            "aaxis": {
             "endlinecolor": "#2a3f5f",
             "gridcolor": "white",
             "linecolor": "white",
             "minorgridcolor": "white",
             "startlinecolor": "#2a3f5f"
            },
            "baxis": {
             "endlinecolor": "#2a3f5f",
             "gridcolor": "white",
             "linecolor": "white",
             "minorgridcolor": "white",
             "startlinecolor": "#2a3f5f"
            },
            "type": "carpet"
           }
          ],
          "choropleth": [
           {
            "colorbar": {
             "outlinewidth": 0,
             "ticks": ""
            },
            "type": "choropleth"
           }
          ],
          "contour": [
           {
            "colorbar": {
             "outlinewidth": 0,
             "ticks": ""
            },
            "colorscale": [
             [
              0,
              "#0d0887"
             ],
             [
              0.1111111111111111,
              "#46039f"
             ],
             [
              0.2222222222222222,
              "#7201a8"
             ],
             [
              0.3333333333333333,
              "#9c179e"
             ],
             [
              0.4444444444444444,
              "#bd3786"
             ],
             [
              0.5555555555555556,
              "#d8576b"
             ],
             [
              0.6666666666666666,
              "#ed7953"
             ],
             [
              0.7777777777777778,
              "#fb9f3a"
             ],
             [
              0.8888888888888888,
              "#fdca26"
             ],
             [
              1,
              "#f0f921"
             ]
            ],
            "type": "contour"
           }
          ],
          "contourcarpet": [
           {
            "colorbar": {
             "outlinewidth": 0,
             "ticks": ""
            },
            "type": "contourcarpet"
           }
          ],
          "heatmap": [
           {
            "colorbar": {
             "outlinewidth": 0,
             "ticks": ""
            },
            "colorscale": [
             [
              0,
              "#0d0887"
             ],
             [
              0.1111111111111111,
              "#46039f"
             ],
             [
              0.2222222222222222,
              "#7201a8"
             ],
             [
              0.3333333333333333,
              "#9c179e"
             ],
             [
              0.4444444444444444,
              "#bd3786"
             ],
             [
              0.5555555555555556,
              "#d8576b"
             ],
             [
              0.6666666666666666,
              "#ed7953"
             ],
             [
              0.7777777777777778,
              "#fb9f3a"
             ],
             [
              0.8888888888888888,
              "#fdca26"
             ],
             [
              1,
              "#f0f921"
             ]
            ],
            "type": "heatmap"
           }
          ],
          "heatmapgl": [
           {
            "colorbar": {
             "outlinewidth": 0,
             "ticks": ""
            },
            "colorscale": [
             [
              0,
              "#0d0887"
             ],
             [
              0.1111111111111111,
              "#46039f"
             ],
             [
              0.2222222222222222,
              "#7201a8"
             ],
             [
              0.3333333333333333,
              "#9c179e"
             ],
             [
              0.4444444444444444,
              "#bd3786"
             ],
             [
              0.5555555555555556,
              "#d8576b"
             ],
             [
              0.6666666666666666,
              "#ed7953"
             ],
             [
              0.7777777777777778,
              "#fb9f3a"
             ],
             [
              0.8888888888888888,
              "#fdca26"
             ],
             [
              1,
              "#f0f921"
             ]
            ],
            "type": "heatmapgl"
           }
          ],
          "histogram": [
           {
            "marker": {
             "pattern": {
              "fillmode": "overlay",
              "size": 10,
              "solidity": 0.2
             }
            },
            "type": "histogram"
           }
          ],
          "histogram2d": [
           {
            "colorbar": {
             "outlinewidth": 0,
             "ticks": ""
            },
            "colorscale": [
             [
              0,
              "#0d0887"
             ],
             [
              0.1111111111111111,
              "#46039f"
             ],
             [
              0.2222222222222222,
              "#7201a8"
             ],
             [
              0.3333333333333333,
              "#9c179e"
             ],
             [
              0.4444444444444444,
              "#bd3786"
             ],
             [
              0.5555555555555556,
              "#d8576b"
             ],
             [
              0.6666666666666666,
              "#ed7953"
             ],
             [
              0.7777777777777778,
              "#fb9f3a"
             ],
             [
              0.8888888888888888,
              "#fdca26"
             ],
             [
              1,
              "#f0f921"
             ]
            ],
            "type": "histogram2d"
           }
          ],
          "histogram2dcontour": [
           {
            "colorbar": {
             "outlinewidth": 0,
             "ticks": ""
            },
            "colorscale": [
             [
              0,
              "#0d0887"
             ],
             [
              0.1111111111111111,
              "#46039f"
             ],
             [
              0.2222222222222222,
              "#7201a8"
             ],
             [
              0.3333333333333333,
              "#9c179e"
             ],
             [
              0.4444444444444444,
              "#bd3786"
             ],
             [
              0.5555555555555556,
              "#d8576b"
             ],
             [
              0.6666666666666666,
              "#ed7953"
             ],
             [
              0.7777777777777778,
              "#fb9f3a"
             ],
             [
              0.8888888888888888,
              "#fdca26"
             ],
             [
              1,
              "#f0f921"
             ]
            ],
            "type": "histogram2dcontour"
           }
          ],
          "mesh3d": [
           {
            "colorbar": {
             "outlinewidth": 0,
             "ticks": ""
            },
            "type": "mesh3d"
           }
          ],
          "parcoords": [
           {
            "line": {
             "colorbar": {
              "outlinewidth": 0,
              "ticks": ""
             }
            },
            "type": "parcoords"
           }
          ],
          "pie": [
           {
            "automargin": true,
            "type": "pie"
           }
          ],
          "scatter": [
           {
            "fillpattern": {
             "fillmode": "overlay",
             "size": 10,
             "solidity": 0.2
            },
            "type": "scatter"
           }
          ],
          "scatter3d": [
           {
            "line": {
             "colorbar": {
              "outlinewidth": 0,
              "ticks": ""
             }
            },
            "marker": {
             "colorbar": {
              "outlinewidth": 0,
              "ticks": ""
             }
            },
            "type": "scatter3d"
           }
          ],
          "scattercarpet": [
           {
            "marker": {
             "colorbar": {
              "outlinewidth": 0,
              "ticks": ""
             }
            },
            "type": "scattercarpet"
           }
          ],
          "scattergeo": [
           {
            "marker": {
             "colorbar": {
              "outlinewidth": 0,
              "ticks": ""
             }
            },
            "type": "scattergeo"
           }
          ],
          "scattergl": [
           {
            "marker": {
             "colorbar": {
              "outlinewidth": 0,
              "ticks": ""
             }
            },
            "type": "scattergl"
           }
          ],
          "scattermapbox": [
           {
            "marker": {
             "colorbar": {
              "outlinewidth": 0,
              "ticks": ""
             }
            },
            "type": "scattermapbox"
           }
          ],
          "scatterpolar": [
           {
            "marker": {
             "colorbar": {
              "outlinewidth": 0,
              "ticks": ""
             }
            },
            "type": "scatterpolar"
           }
          ],
          "scatterpolargl": [
           {
            "marker": {
             "colorbar": {
              "outlinewidth": 0,
              "ticks": ""
             }
            },
            "type": "scatterpolargl"
           }
          ],
          "scatterternary": [
           {
            "marker": {
             "colorbar": {
              "outlinewidth": 0,
              "ticks": ""
             }
            },
            "type": "scatterternary"
           }
          ],
          "surface": [
           {
            "colorbar": {
             "outlinewidth": 0,
             "ticks": ""
            },
            "colorscale": [
             [
              0,
              "#0d0887"
             ],
             [
              0.1111111111111111,
              "#46039f"
             ],
             [
              0.2222222222222222,
              "#7201a8"
             ],
             [
              0.3333333333333333,
              "#9c179e"
             ],
             [
              0.4444444444444444,
              "#bd3786"
             ],
             [
              0.5555555555555556,
              "#d8576b"
             ],
             [
              0.6666666666666666,
              "#ed7953"
             ],
             [
              0.7777777777777778,
              "#fb9f3a"
             ],
             [
              0.8888888888888888,
              "#fdca26"
             ],
             [
              1,
              "#f0f921"
             ]
            ],
            "type": "surface"
           }
          ],
          "table": [
           {
            "cells": {
             "fill": {
              "color": "#EBF0F8"
             },
             "line": {
              "color": "white"
             }
            },
            "header": {
             "fill": {
              "color": "#C8D4E3"
             },
             "line": {
              "color": "white"
             }
            },
            "type": "table"
           }
          ]
         },
         "layout": {
          "annotationdefaults": {
           "arrowcolor": "#2a3f5f",
           "arrowhead": 0,
           "arrowwidth": 1
          },
          "autotypenumbers": "strict",
          "coloraxis": {
           "colorbar": {
            "outlinewidth": 0,
            "ticks": ""
           }
          },
          "colorscale": {
           "diverging": [
            [
             0,
             "#8e0152"
            ],
            [
             0.1,
             "#c51b7d"
            ],
            [
             0.2,
             "#de77ae"
            ],
            [
             0.3,
             "#f1b6da"
            ],
            [
             0.4,
             "#fde0ef"
            ],
            [
             0.5,
             "#f7f7f7"
            ],
            [
             0.6,
             "#e6f5d0"
            ],
            [
             0.7,
             "#b8e186"
            ],
            [
             0.8,
             "#7fbc41"
            ],
            [
             0.9,
             "#4d9221"
            ],
            [
             1,
             "#276419"
            ]
           ],
           "sequential": [
            [
             0,
             "#0d0887"
            ],
            [
             0.1111111111111111,
             "#46039f"
            ],
            [
             0.2222222222222222,
             "#7201a8"
            ],
            [
             0.3333333333333333,
             "#9c179e"
            ],
            [
             0.4444444444444444,
             "#bd3786"
            ],
            [
             0.5555555555555556,
             "#d8576b"
            ],
            [
             0.6666666666666666,
             "#ed7953"
            ],
            [
             0.7777777777777778,
             "#fb9f3a"
            ],
            [
             0.8888888888888888,
             "#fdca26"
            ],
            [
             1,
             "#f0f921"
            ]
           ],
           "sequentialminus": [
            [
             0,
             "#0d0887"
            ],
            [
             0.1111111111111111,
             "#46039f"
            ],
            [
             0.2222222222222222,
             "#7201a8"
            ],
            [
             0.3333333333333333,
             "#9c179e"
            ],
            [
             0.4444444444444444,
             "#bd3786"
            ],
            [
             0.5555555555555556,
             "#d8576b"
            ],
            [
             0.6666666666666666,
             "#ed7953"
            ],
            [
             0.7777777777777778,
             "#fb9f3a"
            ],
            [
             0.8888888888888888,
             "#fdca26"
            ],
            [
             1,
             "#f0f921"
            ]
           ]
          },
          "colorway": [
           "#636efa",
           "#EF553B",
           "#00cc96",
           "#ab63fa",
           "#FFA15A",
           "#19d3f3",
           "#FF6692",
           "#B6E880",
           "#FF97FF",
           "#FECB52"
          ],
          "font": {
           "color": "#2a3f5f"
          },
          "geo": {
           "bgcolor": "white",
           "lakecolor": "white",
           "landcolor": "#E5ECF6",
           "showlakes": true,
           "showland": true,
           "subunitcolor": "white"
          },
          "hoverlabel": {
           "align": "left"
          },
          "hovermode": "closest",
          "mapbox": {
           "style": "light"
          },
          "paper_bgcolor": "white",
          "plot_bgcolor": "#E5ECF6",
          "polar": {
           "angularaxis": {
            "gridcolor": "white",
            "linecolor": "white",
            "ticks": ""
           },
           "bgcolor": "#E5ECF6",
           "radialaxis": {
            "gridcolor": "white",
            "linecolor": "white",
            "ticks": ""
           }
          },
          "scene": {
           "xaxis": {
            "backgroundcolor": "#E5ECF6",
            "gridcolor": "white",
            "gridwidth": 2,
            "linecolor": "white",
            "showbackground": true,
            "ticks": "",
            "zerolinecolor": "white"
           },
           "yaxis": {
            "backgroundcolor": "#E5ECF6",
            "gridcolor": "white",
            "gridwidth": 2,
            "linecolor": "white",
            "showbackground": true,
            "ticks": "",
            "zerolinecolor": "white"
           },
           "zaxis": {
            "backgroundcolor": "#E5ECF6",
            "gridcolor": "white",
            "gridwidth": 2,
            "linecolor": "white",
            "showbackground": true,
            "ticks": "",
            "zerolinecolor": "white"
           }
          },
          "shapedefaults": {
           "line": {
            "color": "#2a3f5f"
           }
          },
          "ternary": {
           "aaxis": {
            "gridcolor": "white",
            "linecolor": "white",
            "ticks": ""
           },
           "baxis": {
            "gridcolor": "white",
            "linecolor": "white",
            "ticks": ""
           },
           "bgcolor": "#E5ECF6",
           "caxis": {
            "gridcolor": "white",
            "linecolor": "white",
            "ticks": ""
           }
          },
          "title": {
           "x": 0.05
          },
          "xaxis": {
           "automargin": true,
           "gridcolor": "white",
           "linecolor": "white",
           "ticks": "",
           "title": {
            "standoff": 15
           },
           "zerolinecolor": "white",
           "zerolinewidth": 2
          },
          "yaxis": {
           "automargin": true,
           "gridcolor": "white",
           "linecolor": "white",
           "ticks": "",
           "title": {
            "standoff": 15
           },
           "zerolinecolor": "white",
           "zerolinewidth": 2
          }
         }
        },
        "title": {
         "text": "Average Price per Sqm by Property Type"
        },
        "xaxis": {
         "anchor": "y",
         "domain": [
          0,
          1
         ],
         "title": {
          "text": "Property Type"
         }
        },
        "yaxis": {
         "anchor": "x",
         "domain": [
          0,
          1
         ],
         "title": {
          "text": "Price per Sqm (AED)"
         }
        }
       }
      }
     },
     "metadata": {},
     "output_type": "display_data"
    },
    {
     "name": "stdout",
     "output_type": "stream",
     "text": [
      "Average price per sqft for each property type:\n",
      "property_type_en\n",
      "Building    15996.036452\n",
      "Land         9167.228260\n",
      "Unit        24027.660811\n",
      "Villa        7318.609048\n",
      "Name: meter_sale_price, dtype: float64\n"
     ]
    }
   ],
   "source": [
    "# Average price per sqft for each property type\n",
    "price_per_sqm = transactions_satwa.groupby('property_type_en')['meter_sale_price'].mean()\n",
    "\n",
    "# Bar chart for price per sqft\n",
    "price_per_sqm_fig = px.bar(price_per_sqm, title=\"Average Price per Sqm by Property Type\",\n",
    "                            labels={'property_type_en': 'Property Type', 'value': 'Price per Sqm (AED)'},\n",
    "                            text=(price_per_sqm.values).round(2))\n",
    "# Hide the legend\n",
    "price_per_sqm_fig.update_layout(showlegend=False)\n",
    "price_per_sqm_fig.write_image(f\"{output_dir}/price_per_sqm.png\")\n",
    "price_per_sqm_fig.show()\n",
    "\n",
    "print(\"Average price per sqft for each property type:\")\n",
    "print(price_per_sqm)"
   ]
  },
  {
   "cell_type": "markdown",
   "metadata": {},
   "source": [
    "**Average Price per Sqm by Property Type**:\n",
    "\n",
    "1. **Units Command the Highest Price per Sqm**:\n",
    "\n",
    "\t- **Units** (apartments) have the highest average price per sqm, at **24,027.66 AED**. This indicates that units, often located in highly desirable areas or within luxury buildings, are in high demand, potentially driven by location, amenities, and smaller footprint compared to villas or land.\n",
    "\n",
    "2. **Buildings Have a High Price per Sqm**:\n",
    "\t\n",
    "    - **Buildings** follow closely, with an average price of **15,996.04 AED** per sqm. This suggests that entire buildings, likely in central or premium locations, are also highly valued due to their large size and potential for long-term commercial or residential use.\n",
    "\n",
    "3. **Land and Villas Have Lower Price per Sqm**:\n",
    "\n",
    "\t- **Land** comes in at **9,167.23 AED** per sqm, which is significantly lower than units or buildings. This may reflect that land prices are more variable and depend heavily on location, zoning, and future development potential.\n",
    "\n",
    "\t- **Villas**, priced at **7,318.61 AED** per sqm, have the lowest average price among the property types. Villas typically cover larger areas, so the price per square meter is often lower compared to smaller, more compact units or buildings. This also indicates that the market for villas may focus on spaciousness rather than premium cost per square meter.\n",
    "\n",
    "**Insights for the Agent**:\n",
    "\n",
    "1. **Units Offer Higher Returns per Sqm**:\n",
    "\n",
    "\t- Focusing on **units** can be beneficial for maximizing returns per square meter, especially in prime areas or developments where demand for high-rise living and luxury apartments is strong.\n",
    "\n",
    "2. **Villas Offer Affordability in Spaciousness**:\n",
    "\n",
    "\t- **Villas**, though offering larger living spaces, come with a much lower price per sqm. This could be appealing to buyers or investors looking for value in spacious residential properties at a lower price per square meter, especially in residential or suburban areas.\n",
    "\n",
    " 3. **Land as a Long-term Investment**:\n",
    "\n",
    "\t- **Land** could be an attractive option for investors who seek long-term growth potential. The relatively lower price per sqm indicates opportunities for future development, especially in growing areas or new developments."
   ]
  },
  {
   "cell_type": "markdown",
   "metadata": {},
   "source": [
    "## Focused Analysis on Recent Residential Trends\n",
    "\n",
    "After conducting a broad analysis of the area, including various property types like land, buildings, villas, and units, I now want to shift the focus toward more recent and relevant trends in residential properties. This step is crucial to gaining deeper insights into current investment opportunities, especially within the residential sector, which often holds the highest interest for both investors and buyers.\n",
    "\n",
    "By filtering the dataset to cover the last 5 years, I aim to provide a more specific and up-to-date analysis. This time-bound approach will help highlight recent sales patterns and trends in the market for units and villas. It will allow me to pinpoint more actionable insights related to property prices, sizes, and their corresponding values, all while focusing exclusively on residential properties.\n",
    "\n",
    "This more focused analysis should offer valuable information for investors or agents looking to make informed decisions about current opportunities in the residential sector."
   ]
  },
  {
   "cell_type": "code",
   "execution_count": 73,
   "metadata": {},
   "outputs": [
    {
     "data": {
      "text/html": [
       "<div>\n",
       "<style scoped>\n",
       "    .dataframe tbody tr th:only-of-type {\n",
       "        vertical-align: middle;\n",
       "    }\n",
       "\n",
       "    .dataframe tbody tr th {\n",
       "        vertical-align: top;\n",
       "    }\n",
       "\n",
       "    .dataframe thead th {\n",
       "        text-align: right;\n",
       "    }\n",
       "</style>\n",
       "<table border=\"1\" class=\"dataframe\">\n",
       "  <thead>\n",
       "    <tr style=\"text-align: right;\">\n",
       "      <th></th>\n",
       "      <th>transaction_id</th>\n",
       "      <th>instance_date</th>\n",
       "      <th>trans_group_id</th>\n",
       "      <th>trans_group_en</th>\n",
       "      <th>trans_group_ar</th>\n",
       "      <th>procedure_id</th>\n",
       "      <th>procedure_name_en</th>\n",
       "      <th>procedure_name_ar</th>\n",
       "      <th>property_type_id</th>\n",
       "      <th>property_type_en</th>\n",
       "      <th>property_type_ar</th>\n",
       "      <th>property_sub_type_id</th>\n",
       "      <th>property_sub_type_en</th>\n",
       "      <th>property_usage_en</th>\n",
       "      <th>property_usage_ar</th>\n",
       "      <th>reg_type_id</th>\n",
       "      <th>reg_type_en</th>\n",
       "      <th>reg_type_ar</th>\n",
       "      <th>area_id</th>\n",
       "      <th>area_name_en</th>\n",
       "      <th>area_name_ar</th>\n",
       "      <th>master_project_en</th>\n",
       "      <th>master_project_ar</th>\n",
       "      <th>project_number</th>\n",
       "      <th>project_name_en</th>\n",
       "      <th>project_name_ar</th>\n",
       "      <th>building_name_en</th>\n",
       "      <th>building_name_ar</th>\n",
       "      <th>rooms_en</th>\n",
       "      <th>rooms_ar</th>\n",
       "      <th>has_parking</th>\n",
       "      <th>procedure_area</th>\n",
       "      <th>meter_sale_price</th>\n",
       "      <th>actual_worth</th>\n",
       "    </tr>\n",
       "  </thead>\n",
       "  <tbody>\n",
       "    <tr>\n",
       "      <th>714319</th>\n",
       "      <td>1-11-2003-1504</td>\n",
       "      <td>2003-10-08</td>\n",
       "      <td>1</td>\n",
       "      <td>Sales</td>\n",
       "      <td>مبايعات</td>\n",
       "      <td>11</td>\n",
       "      <td>Sell</td>\n",
       "      <td>بيع</td>\n",
       "      <td>1</td>\n",
       "      <td>Land</td>\n",
       "      <td>أرض</td>\n",
       "      <td>NaN</td>\n",
       "      <td>NaN</td>\n",
       "      <td>Residential</td>\n",
       "      <td>سكني</td>\n",
       "      <td>1</td>\n",
       "      <td>Existing Properties</td>\n",
       "      <td>العقارات القائمة</td>\n",
       "      <td>266</td>\n",
       "      <td>Al Satwa</td>\n",
       "      <td>السطوه</td>\n",
       "      <td>NaN</td>\n",
       "      <td>NaN</td>\n",
       "      <td>NaN</td>\n",
       "      <td>NaN</td>\n",
       "      <td>NaN</td>\n",
       "      <td>NaN</td>\n",
       "      <td>NaN</td>\n",
       "      <td>NaN</td>\n",
       "      <td>NaN</td>\n",
       "      <td>0</td>\n",
       "      <td>232.26</td>\n",
       "      <td>3099.97</td>\n",
       "      <td>720000.0</td>\n",
       "    </tr>\n",
       "    <tr>\n",
       "      <th>1277310</th>\n",
       "      <td>1-11-2016-8531</td>\n",
       "      <td>2016-07-21</td>\n",
       "      <td>1</td>\n",
       "      <td>Sales</td>\n",
       "      <td>مبايعات</td>\n",
       "      <td>11</td>\n",
       "      <td>Sell</td>\n",
       "      <td>بيع</td>\n",
       "      <td>2</td>\n",
       "      <td>Building</td>\n",
       "      <td>مبنى</td>\n",
       "      <td>NaN</td>\n",
       "      <td>NaN</td>\n",
       "      <td>Industrial</td>\n",
       "      <td>صناعي</td>\n",
       "      <td>1</td>\n",
       "      <td>Existing Properties</td>\n",
       "      <td>العقارات القائمة</td>\n",
       "      <td>266</td>\n",
       "      <td>Al Satwa</td>\n",
       "      <td>السطوه</td>\n",
       "      <td>NaN</td>\n",
       "      <td>NaN</td>\n",
       "      <td>NaN</td>\n",
       "      <td>NaN</td>\n",
       "      <td>NaN</td>\n",
       "      <td>NaN</td>\n",
       "      <td>NaN</td>\n",
       "      <td>NaN</td>\n",
       "      <td>NaN</td>\n",
       "      <td>0</td>\n",
       "      <td>13679.87</td>\n",
       "      <td>4020.51</td>\n",
       "      <td>55000000.0</td>\n",
       "    </tr>\n",
       "    <tr>\n",
       "      <th>388406</th>\n",
       "      <td>1-11-2012-20028</td>\n",
       "      <td>2012-10-22</td>\n",
       "      <td>1</td>\n",
       "      <td>Sales</td>\n",
       "      <td>مبايعات</td>\n",
       "      <td>11</td>\n",
       "      <td>Sell</td>\n",
       "      <td>بيع</td>\n",
       "      <td>4</td>\n",
       "      <td>Villa</td>\n",
       "      <td>فيلا</td>\n",
       "      <td>NaN</td>\n",
       "      <td>NaN</td>\n",
       "      <td>Residential</td>\n",
       "      <td>سكني</td>\n",
       "      <td>1</td>\n",
       "      <td>Existing Properties</td>\n",
       "      <td>العقارات القائمة</td>\n",
       "      <td>266</td>\n",
       "      <td>Al Satwa</td>\n",
       "      <td>السطوه</td>\n",
       "      <td>NaN</td>\n",
       "      <td>NaN</td>\n",
       "      <td>NaN</td>\n",
       "      <td>NaN</td>\n",
       "      <td>NaN</td>\n",
       "      <td>NaN</td>\n",
       "      <td>NaN</td>\n",
       "      <td>NaN</td>\n",
       "      <td>NaN</td>\n",
       "      <td>0</td>\n",
       "      <td>1305.29</td>\n",
       "      <td>3830.57</td>\n",
       "      <td>5000000.0</td>\n",
       "    </tr>\n",
       "    <tr>\n",
       "      <th>253432</th>\n",
       "      <td>1-11-2013-11442</td>\n",
       "      <td>2013-04-15</td>\n",
       "      <td>1</td>\n",
       "      <td>Sales</td>\n",
       "      <td>مبايعات</td>\n",
       "      <td>11</td>\n",
       "      <td>Sell</td>\n",
       "      <td>بيع</td>\n",
       "      <td>4</td>\n",
       "      <td>Villa</td>\n",
       "      <td>فيلا</td>\n",
       "      <td>NaN</td>\n",
       "      <td>NaN</td>\n",
       "      <td>Commercial</td>\n",
       "      <td>تجاري</td>\n",
       "      <td>1</td>\n",
       "      <td>Existing Properties</td>\n",
       "      <td>العقارات القائمة</td>\n",
       "      <td>266</td>\n",
       "      <td>Al Satwa</td>\n",
       "      <td>السطوه</td>\n",
       "      <td>NaN</td>\n",
       "      <td>NaN</td>\n",
       "      <td>NaN</td>\n",
       "      <td>NaN</td>\n",
       "      <td>NaN</td>\n",
       "      <td>NaN</td>\n",
       "      <td>NaN</td>\n",
       "      <td>NaN</td>\n",
       "      <td>NaN</td>\n",
       "      <td>0</td>\n",
       "      <td>232.00</td>\n",
       "      <td>3448.28</td>\n",
       "      <td>800000.0</td>\n",
       "    </tr>\n",
       "    <tr>\n",
       "      <th>194995</th>\n",
       "      <td>1-11-2024-13244</td>\n",
       "      <td>2024-04-18</td>\n",
       "      <td>1</td>\n",
       "      <td>Sales</td>\n",
       "      <td>مبايعات</td>\n",
       "      <td>11</td>\n",
       "      <td>Sell</td>\n",
       "      <td>بيع</td>\n",
       "      <td>1</td>\n",
       "      <td>Land</td>\n",
       "      <td>أرض</td>\n",
       "      <td>NaN</td>\n",
       "      <td>NaN</td>\n",
       "      <td>Other</td>\n",
       "      <td>أخرى</td>\n",
       "      <td>1</td>\n",
       "      <td>Existing Properties</td>\n",
       "      <td>العقارات القائمة</td>\n",
       "      <td>266</td>\n",
       "      <td>Al Satwa</td>\n",
       "      <td>السطوه</td>\n",
       "      <td>Jumeriah Garden City</td>\n",
       "      <td>جميرا جاردن ستي</td>\n",
       "      <td>NaN</td>\n",
       "      <td>NaN</td>\n",
       "      <td>NaN</td>\n",
       "      <td>NaN</td>\n",
       "      <td>NaN</td>\n",
       "      <td>NaN</td>\n",
       "      <td>NaN</td>\n",
       "      <td>0</td>\n",
       "      <td>1315.38</td>\n",
       "      <td>18245.68</td>\n",
       "      <td>24000000.0</td>\n",
       "    </tr>\n",
       "  </tbody>\n",
       "</table>\n",
       "</div>"
      ],
      "text/plain": [
       "          transaction_id instance_date  trans_group_id trans_group_en  \\\n",
       "714319    1-11-2003-1504    2003-10-08               1          Sales   \n",
       "1277310   1-11-2016-8531    2016-07-21               1          Sales   \n",
       "388406   1-11-2012-20028    2012-10-22               1          Sales   \n",
       "253432   1-11-2013-11442    2013-04-15               1          Sales   \n",
       "194995   1-11-2024-13244    2024-04-18               1          Sales   \n",
       "\n",
       "        trans_group_ar  procedure_id procedure_name_en procedure_name_ar  \\\n",
       "714319         مبايعات            11              Sell               بيع   \n",
       "1277310        مبايعات            11              Sell               بيع   \n",
       "388406         مبايعات            11              Sell               بيع   \n",
       "253432         مبايعات            11              Sell               بيع   \n",
       "194995         مبايعات            11              Sell               بيع   \n",
       "\n",
       "         property_type_id property_type_en property_type_ar  \\\n",
       "714319                  1             Land              أرض   \n",
       "1277310                 2         Building             مبنى   \n",
       "388406                  4            Villa             فيلا   \n",
       "253432                  4            Villa             فيلا   \n",
       "194995                  1             Land              أرض   \n",
       "\n",
       "         property_sub_type_id property_sub_type_en property_usage_en  \\\n",
       "714319                    NaN                  NaN       Residential   \n",
       "1277310                   NaN                  NaN        Industrial   \n",
       "388406                    NaN                  NaN       Residential   \n",
       "253432                    NaN                  NaN        Commercial   \n",
       "194995                    NaN                  NaN             Other   \n",
       "\n",
       "        property_usage_ar  reg_type_id          reg_type_en       reg_type_ar  \\\n",
       "714319               سكني            1  Existing Properties  العقارات القائمة   \n",
       "1277310             صناعي            1  Existing Properties  العقارات القائمة   \n",
       "388406               سكني            1  Existing Properties  العقارات القائمة   \n",
       "253432              تجاري            1  Existing Properties  العقارات القائمة   \n",
       "194995               أخرى            1  Existing Properties  العقارات القائمة   \n",
       "\n",
       "         area_id area_name_en area_name_ar     master_project_en  \\\n",
       "714319       266     Al Satwa       السطوه                   NaN   \n",
       "1277310      266     Al Satwa       السطوه                   NaN   \n",
       "388406       266     Al Satwa       السطوه                   NaN   \n",
       "253432       266     Al Satwa       السطوه                   NaN   \n",
       "194995       266     Al Satwa       السطوه  Jumeriah Garden City   \n",
       "\n",
       "        master_project_ar  project_number project_name_en project_name_ar  \\\n",
       "714319                NaN             NaN             NaN             NaN   \n",
       "1277310               NaN             NaN             NaN             NaN   \n",
       "388406                NaN             NaN             NaN             NaN   \n",
       "253432                NaN             NaN             NaN             NaN   \n",
       "194995    جميرا جاردن ستي             NaN             NaN             NaN   \n",
       "\n",
       "        building_name_en building_name_ar rooms_en rooms_ar  has_parking  \\\n",
       "714319               NaN              NaN      NaN      NaN            0   \n",
       "1277310              NaN              NaN      NaN      NaN            0   \n",
       "388406               NaN              NaN      NaN      NaN            0   \n",
       "253432               NaN              NaN      NaN      NaN            0   \n",
       "194995               NaN              NaN      NaN      NaN            0   \n",
       "\n",
       "         procedure_area  meter_sale_price  actual_worth  \n",
       "714319           232.26           3099.97      720000.0  \n",
       "1277310        13679.87           4020.51    55000000.0  \n",
       "388406          1305.29           3830.57     5000000.0  \n",
       "253432           232.00           3448.28      800000.0  \n",
       "194995          1315.38          18245.68    24000000.0  "
      ]
     },
     "execution_count": 73,
     "metadata": {},
     "output_type": "execute_result"
    }
   ],
   "source": [
    "# Displaying a few random rows from the dataset\n",
    "transactions_satwa.sample(5)"
   ]
  },
  {
   "cell_type": "markdown",
   "metadata": {},
   "source": [
    "**Filter on Sales Transactions**\n",
    "\n",
    "I will start by filtering the dataset to include only sales transactions. This helps narrow down the data to only those transactions that directly impact property sales trends, excluding mortgages, gifts, or other unrelated transactions."
   ]
  },
  {
   "cell_type": "code",
   "execution_count": 74,
   "metadata": {},
   "outputs": [
    {
     "name": "stdout",
     "output_type": "stream",
     "text": [
      "Transactions Satwa Shape: (2133, 34)\n",
      "Filtered Transactions Shape: (1580, 34)\n"
     ]
    }
   ],
   "source": [
    "# Filter on Sales Transactions\n",
    "transactions_satwa_filtered = transactions_satwa[transactions_satwa['trans_group_en'] == 'Sales']\n",
    "\n",
    "# Comparing the shapes of the dataset\n",
    "print(\"Transactions Satwa Shape:\", transactions_satwa.shape)\n",
    "print(\"Filtered Transactions Shape:\", transactions_satwa_filtered.shape)"
   ]
  },
  {
   "cell_type": "markdown",
   "metadata": {},
   "source": [
    "**Focus on Residential Properties**\n",
    "\n",
    "Next, I will filter the `property_usage_en` column to include only residential properties. This ensures that the data is clean and focused on properties that are used for residential purposes, aligning with the goal of providing insights for potential homebuyers or real estate investors."
   ]
  },
  {
   "cell_type": "code",
   "execution_count": 75,
   "metadata": {},
   "outputs": [
    {
     "name": "stdout",
     "output_type": "stream",
     "text": [
      "Transactions Satwa Shape: (2133, 34)\n",
      "Filtered Transactions Shape: (1198, 34)\n"
     ]
    }
   ],
   "source": [
    "# Filter on property_usage_en\n",
    "transactions_satwa_filtered = transactions_satwa_filtered[transactions_satwa_filtered['property_usage_en'] == 'Residential']\n",
    "\n",
    "# Comparing the shapes of the dataset\n",
    "print(\"Transactions Satwa Shape:\", transactions_satwa.shape)\n",
    "print(\"Filtered Transactions Shape:\", transactions_satwa_filtered.shape)"
   ]
  },
  {
   "cell_type": "markdown",
   "metadata": {},
   "source": [
    "**Restrict to Villas and Units**\n",
    "\n",
    "Finally, I will filter the `property_type_en` to include only villas and units, since these are the key residential property types that will provide the most meaningful insights for residential investors."
   ]
  },
  {
   "cell_type": "code",
   "execution_count": 76,
   "metadata": {},
   "outputs": [
    {
     "name": "stdout",
     "output_type": "stream",
     "text": [
      "Transactions Satwa Shape: (2133, 34)\n",
      "Filtered Transactions Shape: (494, 34)\n"
     ]
    }
   ],
   "source": [
    "# Filter on property_type_en\n",
    "transactions_satwa_filtered = transactions_satwa_filtered[transactions_satwa_filtered['property_type_en'].isin(['Unit', 'Villa'])]\n",
    "\n",
    "# Comparing the shapes of the dataset\n",
    "print(\"Transactions Satwa Shape:\", transactions_satwa.shape)\n",
    "print(\"Filtered Transactions Shape:\", transactions_satwa_filtered.shape)"
   ]
  },
  {
   "cell_type": "code",
   "execution_count": 77,
   "metadata": {},
   "outputs": [
    {
     "name": "stdout",
     "output_type": "stream",
     "text": [
      "<class 'pandas.core.frame.DataFrame'>\n",
      "Index: 494 entries, 25 to 1311990\n",
      "Data columns (total 34 columns):\n",
      " #   Column                Non-Null Count  Dtype         \n",
      "---  ------                --------------  -----         \n",
      " 0   transaction_id        494 non-null    object        \n",
      " 1   instance_date         494 non-null    datetime64[ns]\n",
      " 2   trans_group_id        494 non-null    int64         \n",
      " 3   trans_group_en        494 non-null    object        \n",
      " 4   trans_group_ar        494 non-null    object        \n",
      " 5   procedure_id          494 non-null    int64         \n",
      " 6   procedure_name_en     494 non-null    object        \n",
      " 7   procedure_name_ar     494 non-null    object        \n",
      " 8   property_type_id      494 non-null    int64         \n",
      " 9   property_type_en      494 non-null    object        \n",
      " 10  property_type_ar      494 non-null    object        \n",
      " 11  property_sub_type_id  110 non-null    float64       \n",
      " 12  property_sub_type_en  110 non-null    object        \n",
      " 13  property_usage_en     494 non-null    object        \n",
      " 14  property_usage_ar     494 non-null    object        \n",
      " 15  reg_type_id           494 non-null    int64         \n",
      " 16  reg_type_en           494 non-null    object        \n",
      " 17  reg_type_ar           494 non-null    object        \n",
      " 18  area_id               494 non-null    int64         \n",
      " 19  area_name_en          494 non-null    object        \n",
      " 20  area_name_ar          494 non-null    object        \n",
      " 21  master_project_en     110 non-null    object        \n",
      " 22  master_project_ar     110 non-null    object        \n",
      " 23  project_number        106 non-null    float64       \n",
      " 24  project_name_en       106 non-null    object        \n",
      " 25  project_name_ar       106 non-null    object        \n",
      " 26  building_name_en      110 non-null    object        \n",
      " 27  building_name_ar      110 non-null    object        \n",
      " 28  rooms_en              110 non-null    object        \n",
      " 29  rooms_ar              110 non-null    object        \n",
      " 30  has_parking           494 non-null    int64         \n",
      " 31  procedure_area        494 non-null    float64       \n",
      " 32  meter_sale_price      494 non-null    float64       \n",
      " 33  actual_worth          494 non-null    float64       \n",
      "dtypes: datetime64[ns](1), float64(5), int64(6), object(22)\n",
      "memory usage: 135.1+ KB\n"
     ]
    }
   ],
   "source": [
    "# Checking information about the filtered dataset\n",
    "transactions_satwa_filtered.info()"
   ]
  },
  {
   "cell_type": "markdown",
   "metadata": {},
   "source": [
    "**Focusing on the Last 5 Years**\n",
    "\n",
    "To focus on more recent market trends and provide insights that reflect current property sales patterns, I'll filter the dataset to include only transactions from the last 5 years."
   ]
  },
  {
   "cell_type": "code",
   "execution_count": 78,
   "metadata": {},
   "outputs": [
    {
     "name": "stdout",
     "output_type": "stream",
     "text": [
      "Filtered Transactions Satwa Shape: (494, 34)\n",
      "Last 5 Years Transactions Shape: (207, 34)\n"
     ]
    }
   ],
   "source": [
    "# Filter the data on last 5 years\n",
    "transactions_satwa_filtered_5y = transactions_satwa_filtered[\n",
    "    transactions_satwa_filtered['instance_date'] >= pd.Timestamp.now() - pd.DateOffset(years=5)]\n",
    "\n",
    "# Comparing the shapes of the dataset\n",
    "print(\"Filtered Transactions Satwa Shape:\", transactions_satwa_filtered.shape)\n",
    "print(\"Last 5 Years Transactions Shape:\", transactions_satwa_filtered_5y.shape)"
   ]
  },
  {
   "cell_type": "code",
   "execution_count": 79,
   "metadata": {},
   "outputs": [
    {
     "name": "stdout",
     "output_type": "stream",
     "text": [
      "<class 'pandas.core.frame.DataFrame'>\n",
      "Index: 207 entries, 25 to 1311413\n",
      "Data columns (total 34 columns):\n",
      " #   Column                Non-Null Count  Dtype         \n",
      "---  ------                --------------  -----         \n",
      " 0   transaction_id        207 non-null    object        \n",
      " 1   instance_date         207 non-null    datetime64[ns]\n",
      " 2   trans_group_id        207 non-null    int64         \n",
      " 3   trans_group_en        207 non-null    object        \n",
      " 4   trans_group_ar        207 non-null    object        \n",
      " 5   procedure_id          207 non-null    int64         \n",
      " 6   procedure_name_en     207 non-null    object        \n",
      " 7   procedure_name_ar     207 non-null    object        \n",
      " 8   property_type_id      207 non-null    int64         \n",
      " 9   property_type_en      207 non-null    object        \n",
      " 10  property_type_ar      207 non-null    object        \n",
      " 11  property_sub_type_id  110 non-null    float64       \n",
      " 12  property_sub_type_en  110 non-null    object        \n",
      " 13  property_usage_en     207 non-null    object        \n",
      " 14  property_usage_ar     207 non-null    object        \n",
      " 15  reg_type_id           207 non-null    int64         \n",
      " 16  reg_type_en           207 non-null    object        \n",
      " 17  reg_type_ar           207 non-null    object        \n",
      " 18  area_id               207 non-null    int64         \n",
      " 19  area_name_en          207 non-null    object        \n",
      " 20  area_name_ar          207 non-null    object        \n",
      " 21  master_project_en     110 non-null    object        \n",
      " 22  master_project_ar     110 non-null    object        \n",
      " 23  project_number        106 non-null    float64       \n",
      " 24  project_name_en       106 non-null    object        \n",
      " 25  project_name_ar       106 non-null    object        \n",
      " 26  building_name_en      110 non-null    object        \n",
      " 27  building_name_ar      110 non-null    object        \n",
      " 28  rooms_en              110 non-null    object        \n",
      " 29  rooms_ar              110 non-null    object        \n",
      " 30  has_parking           207 non-null    int64         \n",
      " 31  procedure_area        207 non-null    float64       \n",
      " 32  meter_sale_price      207 non-null    float64       \n",
      " 33  actual_worth          207 non-null    float64       \n",
      "dtypes: datetime64[ns](1), float64(5), int64(6), object(22)\n",
      "memory usage: 56.6+ KB\n"
     ]
    }
   ],
   "source": [
    "# Checking information about the filtered dataset\n",
    "transactions_satwa_filtered_5y.info()"
   ]
  },
  {
   "cell_type": "code",
   "execution_count": 82,
   "metadata": {},
   "outputs": [
    {
     "data": {
      "text/plain": [
       "transaction_id           0.000000\n",
       "instance_date            0.000000\n",
       "trans_group_id           0.000000\n",
       "trans_group_en           0.000000\n",
       "trans_group_ar           0.000000\n",
       "procedure_id             0.000000\n",
       "procedure_name_en        0.000000\n",
       "procedure_name_ar        0.000000\n",
       "property_type_id         0.000000\n",
       "property_type_en         0.000000\n",
       "property_type_ar         0.000000\n",
       "property_sub_type_id    46.859903\n",
       "property_sub_type_en    46.859903\n",
       "property_usage_en        0.000000\n",
       "property_usage_ar        0.000000\n",
       "reg_type_id              0.000000\n",
       "reg_type_en              0.000000\n",
       "reg_type_ar              0.000000\n",
       "area_id                  0.000000\n",
       "area_name_en             0.000000\n",
       "area_name_ar             0.000000\n",
       "master_project_en       46.859903\n",
       "master_project_ar       46.859903\n",
       "project_number          48.792271\n",
       "project_name_en         48.792271\n",
       "project_name_ar         48.792271\n",
       "building_name_en        46.859903\n",
       "building_name_ar        46.859903\n",
       "rooms_en                46.859903\n",
       "rooms_ar                46.859903\n",
       "has_parking              0.000000\n",
       "procedure_area           0.000000\n",
       "meter_sale_price         0.000000\n",
       "actual_worth             0.000000\n",
       "dtype: float64"
      ]
     },
     "execution_count": 82,
     "metadata": {},
     "output_type": "execute_result"
    }
   ],
   "source": [
    "# Checking percentages of missing values\n",
    "transactions_satwa_filtered_5y.isnull().sum() / transactions_satwa_filtered_5y.shape[0] * 100"
   ]
  },
  {
   "cell_type": "code",
   "execution_count": 80,
   "metadata": {},
   "outputs": [
    {
     "data": {
      "text/html": [
       "<div>\n",
       "<style scoped>\n",
       "    .dataframe tbody tr th:only-of-type {\n",
       "        vertical-align: middle;\n",
       "    }\n",
       "\n",
       "    .dataframe tbody tr th {\n",
       "        vertical-align: top;\n",
       "    }\n",
       "\n",
       "    .dataframe thead th {\n",
       "        text-align: right;\n",
       "    }\n",
       "</style>\n",
       "<table border=\"1\" class=\"dataframe\">\n",
       "  <thead>\n",
       "    <tr style=\"text-align: right;\">\n",
       "      <th></th>\n",
       "      <th>transaction_id</th>\n",
       "      <th>instance_date</th>\n",
       "      <th>trans_group_id</th>\n",
       "      <th>trans_group_en</th>\n",
       "      <th>trans_group_ar</th>\n",
       "      <th>procedure_id</th>\n",
       "      <th>procedure_name_en</th>\n",
       "      <th>procedure_name_ar</th>\n",
       "      <th>property_type_id</th>\n",
       "      <th>property_type_en</th>\n",
       "      <th>property_type_ar</th>\n",
       "      <th>property_sub_type_id</th>\n",
       "      <th>property_sub_type_en</th>\n",
       "      <th>property_usage_en</th>\n",
       "      <th>property_usage_ar</th>\n",
       "      <th>reg_type_id</th>\n",
       "      <th>reg_type_en</th>\n",
       "      <th>reg_type_ar</th>\n",
       "      <th>area_id</th>\n",
       "      <th>area_name_en</th>\n",
       "      <th>area_name_ar</th>\n",
       "      <th>master_project_en</th>\n",
       "      <th>master_project_ar</th>\n",
       "      <th>project_number</th>\n",
       "      <th>project_name_en</th>\n",
       "      <th>project_name_ar</th>\n",
       "      <th>building_name_en</th>\n",
       "      <th>building_name_ar</th>\n",
       "      <th>rooms_en</th>\n",
       "      <th>rooms_ar</th>\n",
       "      <th>has_parking</th>\n",
       "      <th>procedure_area</th>\n",
       "      <th>meter_sale_price</th>\n",
       "      <th>actual_worth</th>\n",
       "    </tr>\n",
       "  </thead>\n",
       "  <tbody>\n",
       "    <tr>\n",
       "      <th>798198</th>\n",
       "      <td>1-102-2024-78538</td>\n",
       "      <td>2024-09-30</td>\n",
       "      <td>1</td>\n",
       "      <td>Sales</td>\n",
       "      <td>مبايعات</td>\n",
       "      <td>102</td>\n",
       "      <td>Sell - Pre registration</td>\n",
       "      <td>بيع - تسجيل مبدئى</td>\n",
       "      <td>3</td>\n",
       "      <td>Unit</td>\n",
       "      <td>وحدة</td>\n",
       "      <td>60.0</td>\n",
       "      <td>Flat</td>\n",
       "      <td>Residential</td>\n",
       "      <td>سكني</td>\n",
       "      <td>0</td>\n",
       "      <td>Off-Plan Properties</td>\n",
       "      <td>على الخارطة</td>\n",
       "      <td>266</td>\n",
       "      <td>Al Satwa</td>\n",
       "      <td>السطوه</td>\n",
       "      <td>Jumeriah Garden City</td>\n",
       "      <td>جميرا جاردن ستي</td>\n",
       "      <td>3061.0</td>\n",
       "      <td>Jardin Astral</td>\n",
       "      <td>جردن أسترل</td>\n",
       "      <td>Jardin Astral</td>\n",
       "      <td>جردن أسترل</td>\n",
       "      <td>2 B/R</td>\n",
       "      <td>غرفتين</td>\n",
       "      <td>1</td>\n",
       "      <td>135.21</td>\n",
       "      <td>18970.49</td>\n",
       "      <td>2565000.0</td>\n",
       "    </tr>\n",
       "    <tr>\n",
       "      <th>564006</th>\n",
       "      <td>1-102-2024-9087</td>\n",
       "      <td>2024-02-15</td>\n",
       "      <td>1</td>\n",
       "      <td>Sales</td>\n",
       "      <td>مبايعات</td>\n",
       "      <td>102</td>\n",
       "      <td>Sell - Pre registration</td>\n",
       "      <td>بيع - تسجيل مبدئى</td>\n",
       "      <td>3</td>\n",
       "      <td>Unit</td>\n",
       "      <td>وحدة</td>\n",
       "      <td>60.0</td>\n",
       "      <td>Flat</td>\n",
       "      <td>Residential</td>\n",
       "      <td>سكني</td>\n",
       "      <td>0</td>\n",
       "      <td>Off-Plan Properties</td>\n",
       "      <td>على الخارطة</td>\n",
       "      <td>266</td>\n",
       "      <td>Al Satwa</td>\n",
       "      <td>السطوه</td>\n",
       "      <td>Jumeriah Garden City</td>\n",
       "      <td>جميرا جاردن ستي</td>\n",
       "      <td>2860.0</td>\n",
       "      <td>Hyde Walk Residence by Imtiaz</td>\n",
       "      <td>هايد ووك ريزيدنس من امتياز</td>\n",
       "      <td>HYDE WALK RESIDENCE BY IMTIAZ</td>\n",
       "      <td>هايد ووك ريزيدنس من امتياز</td>\n",
       "      <td>Studio</td>\n",
       "      <td>استوديو</td>\n",
       "      <td>1</td>\n",
       "      <td>35.60</td>\n",
       "      <td>29635.96</td>\n",
       "      <td>1055040.0</td>\n",
       "    </tr>\n",
       "    <tr>\n",
       "      <th>646718</th>\n",
       "      <td>1-102-2024-14993</td>\n",
       "      <td>2024-03-11</td>\n",
       "      <td>1</td>\n",
       "      <td>Sales</td>\n",
       "      <td>مبايعات</td>\n",
       "      <td>102</td>\n",
       "      <td>Sell - Pre registration</td>\n",
       "      <td>بيع - تسجيل مبدئى</td>\n",
       "      <td>3</td>\n",
       "      <td>Unit</td>\n",
       "      <td>وحدة</td>\n",
       "      <td>60.0</td>\n",
       "      <td>Flat</td>\n",
       "      <td>Residential</td>\n",
       "      <td>سكني</td>\n",
       "      <td>0</td>\n",
       "      <td>Off-Plan Properties</td>\n",
       "      <td>على الخارطة</td>\n",
       "      <td>266</td>\n",
       "      <td>Al Satwa</td>\n",
       "      <td>السطوه</td>\n",
       "      <td>Jumeriah Garden City</td>\n",
       "      <td>جميرا جاردن ستي</td>\n",
       "      <td>2860.0</td>\n",
       "      <td>Hyde Walk Residence by Imtiaz</td>\n",
       "      <td>هايد ووك ريزيدنس من امتياز</td>\n",
       "      <td>HYDE WALK RESIDENCE BY IMTIAZ</td>\n",
       "      <td>هايد ووك ريزيدنس من امتياز</td>\n",
       "      <td>Studio</td>\n",
       "      <td>استوديو</td>\n",
       "      <td>1</td>\n",
       "      <td>35.94</td>\n",
       "      <td>29628.55</td>\n",
       "      <td>1064850.0</td>\n",
       "    </tr>\n",
       "    <tr>\n",
       "      <th>735486</th>\n",
       "      <td>1-11-2020-738</td>\n",
       "      <td>2020-01-20</td>\n",
       "      <td>1</td>\n",
       "      <td>Sales</td>\n",
       "      <td>مبايعات</td>\n",
       "      <td>11</td>\n",
       "      <td>Sell</td>\n",
       "      <td>بيع</td>\n",
       "      <td>4</td>\n",
       "      <td>Villa</td>\n",
       "      <td>فيلا</td>\n",
       "      <td>NaN</td>\n",
       "      <td>NaN</td>\n",
       "      <td>Residential</td>\n",
       "      <td>سكني</td>\n",
       "      <td>1</td>\n",
       "      <td>Existing Properties</td>\n",
       "      <td>العقارات القائمة</td>\n",
       "      <td>266</td>\n",
       "      <td>Al Satwa</td>\n",
       "      <td>السطوه</td>\n",
       "      <td>NaN</td>\n",
       "      <td>NaN</td>\n",
       "      <td>NaN</td>\n",
       "      <td>NaN</td>\n",
       "      <td>NaN</td>\n",
       "      <td>NaN</td>\n",
       "      <td>NaN</td>\n",
       "      <td>NaN</td>\n",
       "      <td>NaN</td>\n",
       "      <td>0</td>\n",
       "      <td>232.26</td>\n",
       "      <td>23034.53</td>\n",
       "      <td>5350000.0</td>\n",
       "    </tr>\n",
       "    <tr>\n",
       "      <th>11466</th>\n",
       "      <td>1-102-2024-9057</td>\n",
       "      <td>2024-02-15</td>\n",
       "      <td>1</td>\n",
       "      <td>Sales</td>\n",
       "      <td>مبايعات</td>\n",
       "      <td>102</td>\n",
       "      <td>Sell - Pre registration</td>\n",
       "      <td>بيع - تسجيل مبدئى</td>\n",
       "      <td>3</td>\n",
       "      <td>Unit</td>\n",
       "      <td>وحدة</td>\n",
       "      <td>60.0</td>\n",
       "      <td>Flat</td>\n",
       "      <td>Residential</td>\n",
       "      <td>سكني</td>\n",
       "      <td>0</td>\n",
       "      <td>Off-Plan Properties</td>\n",
       "      <td>على الخارطة</td>\n",
       "      <td>266</td>\n",
       "      <td>Al Satwa</td>\n",
       "      <td>السطوه</td>\n",
       "      <td>Jumeriah Garden City</td>\n",
       "      <td>جميرا جاردن ستي</td>\n",
       "      <td>2860.0</td>\n",
       "      <td>Hyde Walk Residence by Imtiaz</td>\n",
       "      <td>هايد ووك ريزيدنس من امتياز</td>\n",
       "      <td>HYDE WALK RESIDENCE BY IMTIAZ</td>\n",
       "      <td>هايد ووك ريزيدنس من امتياز</td>\n",
       "      <td>1 B/R</td>\n",
       "      <td>غرفة</td>\n",
       "      <td>1</td>\n",
       "      <td>89.64</td>\n",
       "      <td>18406.96</td>\n",
       "      <td>1650000.0</td>\n",
       "    </tr>\n",
       "  </tbody>\n",
       "</table>\n",
       "</div>"
      ],
      "text/plain": [
       "          transaction_id instance_date  trans_group_id trans_group_en  \\\n",
       "798198  1-102-2024-78538    2024-09-30               1          Sales   \n",
       "564006   1-102-2024-9087    2024-02-15               1          Sales   \n",
       "646718  1-102-2024-14993    2024-03-11               1          Sales   \n",
       "735486     1-11-2020-738    2020-01-20               1          Sales   \n",
       "11466    1-102-2024-9057    2024-02-15               1          Sales   \n",
       "\n",
       "       trans_group_ar  procedure_id        procedure_name_en  \\\n",
       "798198        مبايعات           102  Sell - Pre registration   \n",
       "564006        مبايعات           102  Sell - Pre registration   \n",
       "646718        مبايعات           102  Sell - Pre registration   \n",
       "735486        مبايعات            11                     Sell   \n",
       "11466         مبايعات           102  Sell - Pre registration   \n",
       "\n",
       "        procedure_name_ar  property_type_id property_type_en property_type_ar  \\\n",
       "798198  بيع - تسجيل مبدئى                 3             Unit             وحدة   \n",
       "564006  بيع - تسجيل مبدئى                 3             Unit             وحدة   \n",
       "646718  بيع - تسجيل مبدئى                 3             Unit             وحدة   \n",
       "735486                بيع                 4            Villa             فيلا   \n",
       "11466   بيع - تسجيل مبدئى                 3             Unit             وحدة   \n",
       "\n",
       "        property_sub_type_id property_sub_type_en property_usage_en  \\\n",
       "798198                  60.0                 Flat       Residential   \n",
       "564006                  60.0                 Flat       Residential   \n",
       "646718                  60.0                 Flat       Residential   \n",
       "735486                   NaN                  NaN       Residential   \n",
       "11466                   60.0                 Flat       Residential   \n",
       "\n",
       "       property_usage_ar  reg_type_id          reg_type_en       reg_type_ar  \\\n",
       "798198              سكني            0  Off-Plan Properties       على الخارطة   \n",
       "564006              سكني            0  Off-Plan Properties       على الخارطة   \n",
       "646718              سكني            0  Off-Plan Properties       على الخارطة   \n",
       "735486              سكني            1  Existing Properties  العقارات القائمة   \n",
       "11466               سكني            0  Off-Plan Properties       على الخارطة   \n",
       "\n",
       "        area_id area_name_en area_name_ar     master_project_en  \\\n",
       "798198      266     Al Satwa       السطوه  Jumeriah Garden City   \n",
       "564006      266     Al Satwa       السطوه  Jumeriah Garden City   \n",
       "646718      266     Al Satwa       السطوه  Jumeriah Garden City   \n",
       "735486      266     Al Satwa       السطوه                   NaN   \n",
       "11466       266     Al Satwa       السطوه  Jumeriah Garden City   \n",
       "\n",
       "       master_project_ar  project_number                 project_name_en  \\\n",
       "798198   جميرا جاردن ستي          3061.0                   Jardin Astral   \n",
       "564006   جميرا جاردن ستي          2860.0  Hyde Walk Residence by Imtiaz    \n",
       "646718   جميرا جاردن ستي          2860.0  Hyde Walk Residence by Imtiaz    \n",
       "735486               NaN             NaN                             NaN   \n",
       "11466    جميرا جاردن ستي          2860.0  Hyde Walk Residence by Imtiaz    \n",
       "\n",
       "                   project_name_ar               building_name_en  \\\n",
       "798198                  جردن أسترل                  Jardin Astral   \n",
       "564006  هايد ووك ريزيدنس من امتياز  HYDE WALK RESIDENCE BY IMTIAZ   \n",
       "646718  هايد ووك ريزيدنس من امتياز  HYDE WALK RESIDENCE BY IMTIAZ   \n",
       "735486                         NaN                            NaN   \n",
       "11466   هايد ووك ريزيدنس من امتياز  HYDE WALK RESIDENCE BY IMTIAZ   \n",
       "\n",
       "                  building_name_ar rooms_en rooms_ar  has_parking  \\\n",
       "798198                  جردن أسترل    2 B/R   غرفتين            1   \n",
       "564006  هايد ووك ريزيدنس من امتياز   Studio  استوديو            1   \n",
       "646718  هايد ووك ريزيدنس من امتياز   Studio  استوديو            1   \n",
       "735486                         NaN      NaN      NaN            0   \n",
       "11466   هايد ووك ريزيدنس من امتياز    1 B/R     غرفة            1   \n",
       "\n",
       "        procedure_area  meter_sale_price  actual_worth  \n",
       "798198          135.21          18970.49     2565000.0  \n",
       "564006           35.60          29635.96     1055040.0  \n",
       "646718           35.94          29628.55     1064850.0  \n",
       "735486          232.26          23034.53     5350000.0  \n",
       "11466            89.64          18406.96     1650000.0  "
      ]
     },
     "execution_count": 80,
     "metadata": {},
     "output_type": "execute_result"
    }
   ],
   "source": [
    "# Checking random rows from the filtered dataset\n",
    "transactions_satwa_filtered_5y.sample(5)"
   ]
  },
  {
   "cell_type": "markdown",
   "metadata": {},
   "source": [
    "### Property Type"
   ]
  },
  {
   "cell_type": "code",
   "execution_count": 88,
   "metadata": {},
   "outputs": [
    {
     "data": {
      "application/vnd.plotly.v1+json": {
       "config": {
        "plotlyServerURL": "https://plot.ly"
       },
       "data": [
        {
         "alignmentgroup": "True",
         "hovertemplate": "variable=count<br>Property Type=%{x}<br>Count=%{y}<br>text=%{text}<extra></extra>",
         "legendgroup": "count",
         "marker": {
          "color": "#636efa",
          "pattern": {
           "shape": ""
          }
         },
         "name": "count",
         "offsetgroup": "count",
         "orientation": "v",
         "showlegend": true,
         "text": [
          110,
          97
         ],
         "textposition": "outside",
         "texttemplate": "%{text}",
         "type": "bar",
         "x": [
          "Unit",
          "Villa"
         ],
         "xaxis": "x",
         "y": [
          110,
          97
         ],
         "yaxis": "y"
        }
       ],
       "layout": {
        "barmode": "relative",
        "legend": {
         "title": {
          "text": "variable"
         },
         "tracegroupgap": 0
        },
        "showlegend": false,
        "template": {
         "data": {
          "bar": [
           {
            "error_x": {
             "color": "#2a3f5f"
            },
            "error_y": {
             "color": "#2a3f5f"
            },
            "marker": {
             "line": {
              "color": "#E5ECF6",
              "width": 0.5
             },
             "pattern": {
              "fillmode": "overlay",
              "size": 10,
              "solidity": 0.2
             }
            },
            "type": "bar"
           }
          ],
          "barpolar": [
           {
            "marker": {
             "line": {
              "color": "#E5ECF6",
              "width": 0.5
             },
             "pattern": {
              "fillmode": "overlay",
              "size": 10,
              "solidity": 0.2
             }
            },
            "type": "barpolar"
           }
          ],
          "carpet": [
           {
            "aaxis": {
             "endlinecolor": "#2a3f5f",
             "gridcolor": "white",
             "linecolor": "white",
             "minorgridcolor": "white",
             "startlinecolor": "#2a3f5f"
            },
            "baxis": {
             "endlinecolor": "#2a3f5f",
             "gridcolor": "white",
             "linecolor": "white",
             "minorgridcolor": "white",
             "startlinecolor": "#2a3f5f"
            },
            "type": "carpet"
           }
          ],
          "choropleth": [
           {
            "colorbar": {
             "outlinewidth": 0,
             "ticks": ""
            },
            "type": "choropleth"
           }
          ],
          "contour": [
           {
            "colorbar": {
             "outlinewidth": 0,
             "ticks": ""
            },
            "colorscale": [
             [
              0,
              "#0d0887"
             ],
             [
              0.1111111111111111,
              "#46039f"
             ],
             [
              0.2222222222222222,
              "#7201a8"
             ],
             [
              0.3333333333333333,
              "#9c179e"
             ],
             [
              0.4444444444444444,
              "#bd3786"
             ],
             [
              0.5555555555555556,
              "#d8576b"
             ],
             [
              0.6666666666666666,
              "#ed7953"
             ],
             [
              0.7777777777777778,
              "#fb9f3a"
             ],
             [
              0.8888888888888888,
              "#fdca26"
             ],
             [
              1,
              "#f0f921"
             ]
            ],
            "type": "contour"
           }
          ],
          "contourcarpet": [
           {
            "colorbar": {
             "outlinewidth": 0,
             "ticks": ""
            },
            "type": "contourcarpet"
           }
          ],
          "heatmap": [
           {
            "colorbar": {
             "outlinewidth": 0,
             "ticks": ""
            },
            "colorscale": [
             [
              0,
              "#0d0887"
             ],
             [
              0.1111111111111111,
              "#46039f"
             ],
             [
              0.2222222222222222,
              "#7201a8"
             ],
             [
              0.3333333333333333,
              "#9c179e"
             ],
             [
              0.4444444444444444,
              "#bd3786"
             ],
             [
              0.5555555555555556,
              "#d8576b"
             ],
             [
              0.6666666666666666,
              "#ed7953"
             ],
             [
              0.7777777777777778,
              "#fb9f3a"
             ],
             [
              0.8888888888888888,
              "#fdca26"
             ],
             [
              1,
              "#f0f921"
             ]
            ],
            "type": "heatmap"
           }
          ],
          "heatmapgl": [
           {
            "colorbar": {
             "outlinewidth": 0,
             "ticks": ""
            },
            "colorscale": [
             [
              0,
              "#0d0887"
             ],
             [
              0.1111111111111111,
              "#46039f"
             ],
             [
              0.2222222222222222,
              "#7201a8"
             ],
             [
              0.3333333333333333,
              "#9c179e"
             ],
             [
              0.4444444444444444,
              "#bd3786"
             ],
             [
              0.5555555555555556,
              "#d8576b"
             ],
             [
              0.6666666666666666,
              "#ed7953"
             ],
             [
              0.7777777777777778,
              "#fb9f3a"
             ],
             [
              0.8888888888888888,
              "#fdca26"
             ],
             [
              1,
              "#f0f921"
             ]
            ],
            "type": "heatmapgl"
           }
          ],
          "histogram": [
           {
            "marker": {
             "pattern": {
              "fillmode": "overlay",
              "size": 10,
              "solidity": 0.2
             }
            },
            "type": "histogram"
           }
          ],
          "histogram2d": [
           {
            "colorbar": {
             "outlinewidth": 0,
             "ticks": ""
            },
            "colorscale": [
             [
              0,
              "#0d0887"
             ],
             [
              0.1111111111111111,
              "#46039f"
             ],
             [
              0.2222222222222222,
              "#7201a8"
             ],
             [
              0.3333333333333333,
              "#9c179e"
             ],
             [
              0.4444444444444444,
              "#bd3786"
             ],
             [
              0.5555555555555556,
              "#d8576b"
             ],
             [
              0.6666666666666666,
              "#ed7953"
             ],
             [
              0.7777777777777778,
              "#fb9f3a"
             ],
             [
              0.8888888888888888,
              "#fdca26"
             ],
             [
              1,
              "#f0f921"
             ]
            ],
            "type": "histogram2d"
           }
          ],
          "histogram2dcontour": [
           {
            "colorbar": {
             "outlinewidth": 0,
             "ticks": ""
            },
            "colorscale": [
             [
              0,
              "#0d0887"
             ],
             [
              0.1111111111111111,
              "#46039f"
             ],
             [
              0.2222222222222222,
              "#7201a8"
             ],
             [
              0.3333333333333333,
              "#9c179e"
             ],
             [
              0.4444444444444444,
              "#bd3786"
             ],
             [
              0.5555555555555556,
              "#d8576b"
             ],
             [
              0.6666666666666666,
              "#ed7953"
             ],
             [
              0.7777777777777778,
              "#fb9f3a"
             ],
             [
              0.8888888888888888,
              "#fdca26"
             ],
             [
              1,
              "#f0f921"
             ]
            ],
            "type": "histogram2dcontour"
           }
          ],
          "mesh3d": [
           {
            "colorbar": {
             "outlinewidth": 0,
             "ticks": ""
            },
            "type": "mesh3d"
           }
          ],
          "parcoords": [
           {
            "line": {
             "colorbar": {
              "outlinewidth": 0,
              "ticks": ""
             }
            },
            "type": "parcoords"
           }
          ],
          "pie": [
           {
            "automargin": true,
            "type": "pie"
           }
          ],
          "scatter": [
           {
            "fillpattern": {
             "fillmode": "overlay",
             "size": 10,
             "solidity": 0.2
            },
            "type": "scatter"
           }
          ],
          "scatter3d": [
           {
            "line": {
             "colorbar": {
              "outlinewidth": 0,
              "ticks": ""
             }
            },
            "marker": {
             "colorbar": {
              "outlinewidth": 0,
              "ticks": ""
             }
            },
            "type": "scatter3d"
           }
          ],
          "scattercarpet": [
           {
            "marker": {
             "colorbar": {
              "outlinewidth": 0,
              "ticks": ""
             }
            },
            "type": "scattercarpet"
           }
          ],
          "scattergeo": [
           {
            "marker": {
             "colorbar": {
              "outlinewidth": 0,
              "ticks": ""
             }
            },
            "type": "scattergeo"
           }
          ],
          "scattergl": [
           {
            "marker": {
             "colorbar": {
              "outlinewidth": 0,
              "ticks": ""
             }
            },
            "type": "scattergl"
           }
          ],
          "scattermapbox": [
           {
            "marker": {
             "colorbar": {
              "outlinewidth": 0,
              "ticks": ""
             }
            },
            "type": "scattermapbox"
           }
          ],
          "scatterpolar": [
           {
            "marker": {
             "colorbar": {
              "outlinewidth": 0,
              "ticks": ""
             }
            },
            "type": "scatterpolar"
           }
          ],
          "scatterpolargl": [
           {
            "marker": {
             "colorbar": {
              "outlinewidth": 0,
              "ticks": ""
             }
            },
            "type": "scatterpolargl"
           }
          ],
          "scatterternary": [
           {
            "marker": {
             "colorbar": {
              "outlinewidth": 0,
              "ticks": ""
             }
            },
            "type": "scatterternary"
           }
          ],
          "surface": [
           {
            "colorbar": {
             "outlinewidth": 0,
             "ticks": ""
            },
            "colorscale": [
             [
              0,
              "#0d0887"
             ],
             [
              0.1111111111111111,
              "#46039f"
             ],
             [
              0.2222222222222222,
              "#7201a8"
             ],
             [
              0.3333333333333333,
              "#9c179e"
             ],
             [
              0.4444444444444444,
              "#bd3786"
             ],
             [
              0.5555555555555556,
              "#d8576b"
             ],
             [
              0.6666666666666666,
              "#ed7953"
             ],
             [
              0.7777777777777778,
              "#fb9f3a"
             ],
             [
              0.8888888888888888,
              "#fdca26"
             ],
             [
              1,
              "#f0f921"
             ]
            ],
            "type": "surface"
           }
          ],
          "table": [
           {
            "cells": {
             "fill": {
              "color": "#EBF0F8"
             },
             "line": {
              "color": "white"
             }
            },
            "header": {
             "fill": {
              "color": "#C8D4E3"
             },
             "line": {
              "color": "white"
             }
            },
            "type": "table"
           }
          ]
         },
         "layout": {
          "annotationdefaults": {
           "arrowcolor": "#2a3f5f",
           "arrowhead": 0,
           "arrowwidth": 1
          },
          "autotypenumbers": "strict",
          "coloraxis": {
           "colorbar": {
            "outlinewidth": 0,
            "ticks": ""
           }
          },
          "colorscale": {
           "diverging": [
            [
             0,
             "#8e0152"
            ],
            [
             0.1,
             "#c51b7d"
            ],
            [
             0.2,
             "#de77ae"
            ],
            [
             0.3,
             "#f1b6da"
            ],
            [
             0.4,
             "#fde0ef"
            ],
            [
             0.5,
             "#f7f7f7"
            ],
            [
             0.6,
             "#e6f5d0"
            ],
            [
             0.7,
             "#b8e186"
            ],
            [
             0.8,
             "#7fbc41"
            ],
            [
             0.9,
             "#4d9221"
            ],
            [
             1,
             "#276419"
            ]
           ],
           "sequential": [
            [
             0,
             "#0d0887"
            ],
            [
             0.1111111111111111,
             "#46039f"
            ],
            [
             0.2222222222222222,
             "#7201a8"
            ],
            [
             0.3333333333333333,
             "#9c179e"
            ],
            [
             0.4444444444444444,
             "#bd3786"
            ],
            [
             0.5555555555555556,
             "#d8576b"
            ],
            [
             0.6666666666666666,
             "#ed7953"
            ],
            [
             0.7777777777777778,
             "#fb9f3a"
            ],
            [
             0.8888888888888888,
             "#fdca26"
            ],
            [
             1,
             "#f0f921"
            ]
           ],
           "sequentialminus": [
            [
             0,
             "#0d0887"
            ],
            [
             0.1111111111111111,
             "#46039f"
            ],
            [
             0.2222222222222222,
             "#7201a8"
            ],
            [
             0.3333333333333333,
             "#9c179e"
            ],
            [
             0.4444444444444444,
             "#bd3786"
            ],
            [
             0.5555555555555556,
             "#d8576b"
            ],
            [
             0.6666666666666666,
             "#ed7953"
            ],
            [
             0.7777777777777778,
             "#fb9f3a"
            ],
            [
             0.8888888888888888,
             "#fdca26"
            ],
            [
             1,
             "#f0f921"
            ]
           ]
          },
          "colorway": [
           "#636efa",
           "#EF553B",
           "#00cc96",
           "#ab63fa",
           "#FFA15A",
           "#19d3f3",
           "#FF6692",
           "#B6E880",
           "#FF97FF",
           "#FECB52"
          ],
          "font": {
           "color": "#2a3f5f"
          },
          "geo": {
           "bgcolor": "white",
           "lakecolor": "white",
           "landcolor": "#E5ECF6",
           "showlakes": true,
           "showland": true,
           "subunitcolor": "white"
          },
          "hoverlabel": {
           "align": "left"
          },
          "hovermode": "closest",
          "mapbox": {
           "style": "light"
          },
          "paper_bgcolor": "white",
          "plot_bgcolor": "#E5ECF6",
          "polar": {
           "angularaxis": {
            "gridcolor": "white",
            "linecolor": "white",
            "ticks": ""
           },
           "bgcolor": "#E5ECF6",
           "radialaxis": {
            "gridcolor": "white",
            "linecolor": "white",
            "ticks": ""
           }
          },
          "scene": {
           "xaxis": {
            "backgroundcolor": "#E5ECF6",
            "gridcolor": "white",
            "gridwidth": 2,
            "linecolor": "white",
            "showbackground": true,
            "ticks": "",
            "zerolinecolor": "white"
           },
           "yaxis": {
            "backgroundcolor": "#E5ECF6",
            "gridcolor": "white",
            "gridwidth": 2,
            "linecolor": "white",
            "showbackground": true,
            "ticks": "",
            "zerolinecolor": "white"
           },
           "zaxis": {
            "backgroundcolor": "#E5ECF6",
            "gridcolor": "white",
            "gridwidth": 2,
            "linecolor": "white",
            "showbackground": true,
            "ticks": "",
            "zerolinecolor": "white"
           }
          },
          "shapedefaults": {
           "line": {
            "color": "#2a3f5f"
           }
          },
          "ternary": {
           "aaxis": {
            "gridcolor": "white",
            "linecolor": "white",
            "ticks": ""
           },
           "baxis": {
            "gridcolor": "white",
            "linecolor": "white",
            "ticks": ""
           },
           "bgcolor": "#E5ECF6",
           "caxis": {
            "gridcolor": "white",
            "linecolor": "white",
            "ticks": ""
           }
          },
          "title": {
           "x": 0.05
          },
          "xaxis": {
           "automargin": true,
           "gridcolor": "white",
           "linecolor": "white",
           "ticks": "",
           "title": {
            "standoff": 15
           },
           "zerolinecolor": "white",
           "zerolinewidth": 2
          },
          "yaxis": {
           "automargin": true,
           "gridcolor": "white",
           "linecolor": "white",
           "ticks": "",
           "title": {
            "standoff": 15
           },
           "zerolinecolor": "white",
           "zerolinewidth": 2
          }
         }
        },
        "title": {
         "text": "Property Type Distribution (Last 5 Years)"
        },
        "xaxis": {
         "anchor": "y",
         "domain": [
          0,
          1
         ],
         "title": {
          "text": "Property Type"
         }
        },
        "yaxis": {
         "anchor": "x",
         "domain": [
          0,
          1
         ],
         "title": {
          "text": "Count"
         }
        }
       }
      }
     },
     "metadata": {},
     "output_type": "display_data"
    },
    {
     "name": "stdout",
     "output_type": "stream",
     "text": [
      "Property Type Distribution (Last 5 Years):\n",
      "property_type_en\n",
      "Unit     110\n",
      "Villa     97\n",
      "Name: count, dtype: int64\n"
     ]
    }
   ],
   "source": [
    "# Property Type Distribution\n",
    "property_type_distribution = transactions_satwa_filtered_5y['property_type_en'].value_counts()\n",
    "\n",
    "# Property Type Distribution Plot\n",
    "property_type_fig = px.bar(property_type_distribution, \n",
    "                           title=\"Property Type Distribution (Last 5 Years)\",\n",
    "                           labels={'property_type_en': 'Property Type', 'value': 'Count'},\n",
    "                           text=property_type_distribution)\n",
    "property_type_fig.update_traces(texttemplate='%{text}', textposition='outside')\n",
    "\n",
    "# Hide the legend\n",
    "property_type_fig.update_layout(showlegend=False)\n",
    "property_type_fig.write_image(f\"{output_dir}/property_type_distribution_5_years.png\")\n",
    "property_type_fig.show()\n",
    "\n",
    "# Printing the distribution of property types\n",
    "print(\"Property Type Distribution (Last 5 Years):\")\n",
    "print(property_type_distribution)"
   ]
  },
  {
   "cell_type": "markdown",
   "metadata": {},
   "source": [
    "**Property Type Distribution (Last 5 Years)**\n",
    "\n",
    "- **Units** slightly outnumber **Villas**, with 110 units compared to 97 villas in the dataset.\n",
    "\n",
    "- This distribution indicates a fairly balanced market between these two residential property types in the last five years.\n",
    "\n",
    "- The near parity suggests that both property types are in demand. However, the slight dominance of units might indicate that apartments/units are a slightly more popular choice in this specific timeframe, possibly due to factors like affordability, location preferences, or development projects focusing on apartment buildings."
   ]
  },
  {
   "cell_type": "markdown",
   "metadata": {},
   "source": [
    "### Registration Type"
   ]
  },
  {
   "cell_type": "code",
   "execution_count": 90,
   "metadata": {},
   "outputs": [
    {
     "data": {
      "application/vnd.plotly.v1+json": {
       "config": {
        "plotlyServerURL": "https://plot.ly"
       },
       "data": [
        {
         "alignmentgroup": "True",
         "hovertemplate": "variable=count<br>Registration Type=%{x}<br>Count=%{y}<br>text=%{text}<extra></extra>",
         "legendgroup": "count",
         "marker": {
          "color": "#636efa",
          "pattern": {
           "shape": ""
          }
         },
         "name": "count",
         "offsetgroup": "count",
         "orientation": "v",
         "showlegend": true,
         "text": [
          106,
          101
         ],
         "textposition": "outside",
         "texttemplate": "%{text}",
         "type": "bar",
         "x": [
          "Off-Plan Properties",
          "Existing Properties"
         ],
         "xaxis": "x",
         "y": [
          106,
          101
         ],
         "yaxis": "y"
        }
       ],
       "layout": {
        "barmode": "relative",
        "legend": {
         "title": {
          "text": "variable"
         },
         "tracegroupgap": 0
        },
        "showlegend": false,
        "template": {
         "data": {
          "bar": [
           {
            "error_x": {
             "color": "#2a3f5f"
            },
            "error_y": {
             "color": "#2a3f5f"
            },
            "marker": {
             "line": {
              "color": "#E5ECF6",
              "width": 0.5
             },
             "pattern": {
              "fillmode": "overlay",
              "size": 10,
              "solidity": 0.2
             }
            },
            "type": "bar"
           }
          ],
          "barpolar": [
           {
            "marker": {
             "line": {
              "color": "#E5ECF6",
              "width": 0.5
             },
             "pattern": {
              "fillmode": "overlay",
              "size": 10,
              "solidity": 0.2
             }
            },
            "type": "barpolar"
           }
          ],
          "carpet": [
           {
            "aaxis": {
             "endlinecolor": "#2a3f5f",
             "gridcolor": "white",
             "linecolor": "white",
             "minorgridcolor": "white",
             "startlinecolor": "#2a3f5f"
            },
            "baxis": {
             "endlinecolor": "#2a3f5f",
             "gridcolor": "white",
             "linecolor": "white",
             "minorgridcolor": "white",
             "startlinecolor": "#2a3f5f"
            },
            "type": "carpet"
           }
          ],
          "choropleth": [
           {
            "colorbar": {
             "outlinewidth": 0,
             "ticks": ""
            },
            "type": "choropleth"
           }
          ],
          "contour": [
           {
            "colorbar": {
             "outlinewidth": 0,
             "ticks": ""
            },
            "colorscale": [
             [
              0,
              "#0d0887"
             ],
             [
              0.1111111111111111,
              "#46039f"
             ],
             [
              0.2222222222222222,
              "#7201a8"
             ],
             [
              0.3333333333333333,
              "#9c179e"
             ],
             [
              0.4444444444444444,
              "#bd3786"
             ],
             [
              0.5555555555555556,
              "#d8576b"
             ],
             [
              0.6666666666666666,
              "#ed7953"
             ],
             [
              0.7777777777777778,
              "#fb9f3a"
             ],
             [
              0.8888888888888888,
              "#fdca26"
             ],
             [
              1,
              "#f0f921"
             ]
            ],
            "type": "contour"
           }
          ],
          "contourcarpet": [
           {
            "colorbar": {
             "outlinewidth": 0,
             "ticks": ""
            },
            "type": "contourcarpet"
           }
          ],
          "heatmap": [
           {
            "colorbar": {
             "outlinewidth": 0,
             "ticks": ""
            },
            "colorscale": [
             [
              0,
              "#0d0887"
             ],
             [
              0.1111111111111111,
              "#46039f"
             ],
             [
              0.2222222222222222,
              "#7201a8"
             ],
             [
              0.3333333333333333,
              "#9c179e"
             ],
             [
              0.4444444444444444,
              "#bd3786"
             ],
             [
              0.5555555555555556,
              "#d8576b"
             ],
             [
              0.6666666666666666,
              "#ed7953"
             ],
             [
              0.7777777777777778,
              "#fb9f3a"
             ],
             [
              0.8888888888888888,
              "#fdca26"
             ],
             [
              1,
              "#f0f921"
             ]
            ],
            "type": "heatmap"
           }
          ],
          "heatmapgl": [
           {
            "colorbar": {
             "outlinewidth": 0,
             "ticks": ""
            },
            "colorscale": [
             [
              0,
              "#0d0887"
             ],
             [
              0.1111111111111111,
              "#46039f"
             ],
             [
              0.2222222222222222,
              "#7201a8"
             ],
             [
              0.3333333333333333,
              "#9c179e"
             ],
             [
              0.4444444444444444,
              "#bd3786"
             ],
             [
              0.5555555555555556,
              "#d8576b"
             ],
             [
              0.6666666666666666,
              "#ed7953"
             ],
             [
              0.7777777777777778,
              "#fb9f3a"
             ],
             [
              0.8888888888888888,
              "#fdca26"
             ],
             [
              1,
              "#f0f921"
             ]
            ],
            "type": "heatmapgl"
           }
          ],
          "histogram": [
           {
            "marker": {
             "pattern": {
              "fillmode": "overlay",
              "size": 10,
              "solidity": 0.2
             }
            },
            "type": "histogram"
           }
          ],
          "histogram2d": [
           {
            "colorbar": {
             "outlinewidth": 0,
             "ticks": ""
            },
            "colorscale": [
             [
              0,
              "#0d0887"
             ],
             [
              0.1111111111111111,
              "#46039f"
             ],
             [
              0.2222222222222222,
              "#7201a8"
             ],
             [
              0.3333333333333333,
              "#9c179e"
             ],
             [
              0.4444444444444444,
              "#bd3786"
             ],
             [
              0.5555555555555556,
              "#d8576b"
             ],
             [
              0.6666666666666666,
              "#ed7953"
             ],
             [
              0.7777777777777778,
              "#fb9f3a"
             ],
             [
              0.8888888888888888,
              "#fdca26"
             ],
             [
              1,
              "#f0f921"
             ]
            ],
            "type": "histogram2d"
           }
          ],
          "histogram2dcontour": [
           {
            "colorbar": {
             "outlinewidth": 0,
             "ticks": ""
            },
            "colorscale": [
             [
              0,
              "#0d0887"
             ],
             [
              0.1111111111111111,
              "#46039f"
             ],
             [
              0.2222222222222222,
              "#7201a8"
             ],
             [
              0.3333333333333333,
              "#9c179e"
             ],
             [
              0.4444444444444444,
              "#bd3786"
             ],
             [
              0.5555555555555556,
              "#d8576b"
             ],
             [
              0.6666666666666666,
              "#ed7953"
             ],
             [
              0.7777777777777778,
              "#fb9f3a"
             ],
             [
              0.8888888888888888,
              "#fdca26"
             ],
             [
              1,
              "#f0f921"
             ]
            ],
            "type": "histogram2dcontour"
           }
          ],
          "mesh3d": [
           {
            "colorbar": {
             "outlinewidth": 0,
             "ticks": ""
            },
            "type": "mesh3d"
           }
          ],
          "parcoords": [
           {
            "line": {
             "colorbar": {
              "outlinewidth": 0,
              "ticks": ""
             }
            },
            "type": "parcoords"
           }
          ],
          "pie": [
           {
            "automargin": true,
            "type": "pie"
           }
          ],
          "scatter": [
           {
            "fillpattern": {
             "fillmode": "overlay",
             "size": 10,
             "solidity": 0.2
            },
            "type": "scatter"
           }
          ],
          "scatter3d": [
           {
            "line": {
             "colorbar": {
              "outlinewidth": 0,
              "ticks": ""
             }
            },
            "marker": {
             "colorbar": {
              "outlinewidth": 0,
              "ticks": ""
             }
            },
            "type": "scatter3d"
           }
          ],
          "scattercarpet": [
           {
            "marker": {
             "colorbar": {
              "outlinewidth": 0,
              "ticks": ""
             }
            },
            "type": "scattercarpet"
           }
          ],
          "scattergeo": [
           {
            "marker": {
             "colorbar": {
              "outlinewidth": 0,
              "ticks": ""
             }
            },
            "type": "scattergeo"
           }
          ],
          "scattergl": [
           {
            "marker": {
             "colorbar": {
              "outlinewidth": 0,
              "ticks": ""
             }
            },
            "type": "scattergl"
           }
          ],
          "scattermapbox": [
           {
            "marker": {
             "colorbar": {
              "outlinewidth": 0,
              "ticks": ""
             }
            },
            "type": "scattermapbox"
           }
          ],
          "scatterpolar": [
           {
            "marker": {
             "colorbar": {
              "outlinewidth": 0,
              "ticks": ""
             }
            },
            "type": "scatterpolar"
           }
          ],
          "scatterpolargl": [
           {
            "marker": {
             "colorbar": {
              "outlinewidth": 0,
              "ticks": ""
             }
            },
            "type": "scatterpolargl"
           }
          ],
          "scatterternary": [
           {
            "marker": {
             "colorbar": {
              "outlinewidth": 0,
              "ticks": ""
             }
            },
            "type": "scatterternary"
           }
          ],
          "surface": [
           {
            "colorbar": {
             "outlinewidth": 0,
             "ticks": ""
            },
            "colorscale": [
             [
              0,
              "#0d0887"
             ],
             [
              0.1111111111111111,
              "#46039f"
             ],
             [
              0.2222222222222222,
              "#7201a8"
             ],
             [
              0.3333333333333333,
              "#9c179e"
             ],
             [
              0.4444444444444444,
              "#bd3786"
             ],
             [
              0.5555555555555556,
              "#d8576b"
             ],
             [
              0.6666666666666666,
              "#ed7953"
             ],
             [
              0.7777777777777778,
              "#fb9f3a"
             ],
             [
              0.8888888888888888,
              "#fdca26"
             ],
             [
              1,
              "#f0f921"
             ]
            ],
            "type": "surface"
           }
          ],
          "table": [
           {
            "cells": {
             "fill": {
              "color": "#EBF0F8"
             },
             "line": {
              "color": "white"
             }
            },
            "header": {
             "fill": {
              "color": "#C8D4E3"
             },
             "line": {
              "color": "white"
             }
            },
            "type": "table"
           }
          ]
         },
         "layout": {
          "annotationdefaults": {
           "arrowcolor": "#2a3f5f",
           "arrowhead": 0,
           "arrowwidth": 1
          },
          "autotypenumbers": "strict",
          "coloraxis": {
           "colorbar": {
            "outlinewidth": 0,
            "ticks": ""
           }
          },
          "colorscale": {
           "diverging": [
            [
             0,
             "#8e0152"
            ],
            [
             0.1,
             "#c51b7d"
            ],
            [
             0.2,
             "#de77ae"
            ],
            [
             0.3,
             "#f1b6da"
            ],
            [
             0.4,
             "#fde0ef"
            ],
            [
             0.5,
             "#f7f7f7"
            ],
            [
             0.6,
             "#e6f5d0"
            ],
            [
             0.7,
             "#b8e186"
            ],
            [
             0.8,
             "#7fbc41"
            ],
            [
             0.9,
             "#4d9221"
            ],
            [
             1,
             "#276419"
            ]
           ],
           "sequential": [
            [
             0,
             "#0d0887"
            ],
            [
             0.1111111111111111,
             "#46039f"
            ],
            [
             0.2222222222222222,
             "#7201a8"
            ],
            [
             0.3333333333333333,
             "#9c179e"
            ],
            [
             0.4444444444444444,
             "#bd3786"
            ],
            [
             0.5555555555555556,
             "#d8576b"
            ],
            [
             0.6666666666666666,
             "#ed7953"
            ],
            [
             0.7777777777777778,
             "#fb9f3a"
            ],
            [
             0.8888888888888888,
             "#fdca26"
            ],
            [
             1,
             "#f0f921"
            ]
           ],
           "sequentialminus": [
            [
             0,
             "#0d0887"
            ],
            [
             0.1111111111111111,
             "#46039f"
            ],
            [
             0.2222222222222222,
             "#7201a8"
            ],
            [
             0.3333333333333333,
             "#9c179e"
            ],
            [
             0.4444444444444444,
             "#bd3786"
            ],
            [
             0.5555555555555556,
             "#d8576b"
            ],
            [
             0.6666666666666666,
             "#ed7953"
            ],
            [
             0.7777777777777778,
             "#fb9f3a"
            ],
            [
             0.8888888888888888,
             "#fdca26"
            ],
            [
             1,
             "#f0f921"
            ]
           ]
          },
          "colorway": [
           "#636efa",
           "#EF553B",
           "#00cc96",
           "#ab63fa",
           "#FFA15A",
           "#19d3f3",
           "#FF6692",
           "#B6E880",
           "#FF97FF",
           "#FECB52"
          ],
          "font": {
           "color": "#2a3f5f"
          },
          "geo": {
           "bgcolor": "white",
           "lakecolor": "white",
           "landcolor": "#E5ECF6",
           "showlakes": true,
           "showland": true,
           "subunitcolor": "white"
          },
          "hoverlabel": {
           "align": "left"
          },
          "hovermode": "closest",
          "mapbox": {
           "style": "light"
          },
          "paper_bgcolor": "white",
          "plot_bgcolor": "#E5ECF6",
          "polar": {
           "angularaxis": {
            "gridcolor": "white",
            "linecolor": "white",
            "ticks": ""
           },
           "bgcolor": "#E5ECF6",
           "radialaxis": {
            "gridcolor": "white",
            "linecolor": "white",
            "ticks": ""
           }
          },
          "scene": {
           "xaxis": {
            "backgroundcolor": "#E5ECF6",
            "gridcolor": "white",
            "gridwidth": 2,
            "linecolor": "white",
            "showbackground": true,
            "ticks": "",
            "zerolinecolor": "white"
           },
           "yaxis": {
            "backgroundcolor": "#E5ECF6",
            "gridcolor": "white",
            "gridwidth": 2,
            "linecolor": "white",
            "showbackground": true,
            "ticks": "",
            "zerolinecolor": "white"
           },
           "zaxis": {
            "backgroundcolor": "#E5ECF6",
            "gridcolor": "white",
            "gridwidth": 2,
            "linecolor": "white",
            "showbackground": true,
            "ticks": "",
            "zerolinecolor": "white"
           }
          },
          "shapedefaults": {
           "line": {
            "color": "#2a3f5f"
           }
          },
          "ternary": {
           "aaxis": {
            "gridcolor": "white",
            "linecolor": "white",
            "ticks": ""
           },
           "baxis": {
            "gridcolor": "white",
            "linecolor": "white",
            "ticks": ""
           },
           "bgcolor": "#E5ECF6",
           "caxis": {
            "gridcolor": "white",
            "linecolor": "white",
            "ticks": ""
           }
          },
          "title": {
           "x": 0.05
          },
          "xaxis": {
           "automargin": true,
           "gridcolor": "white",
           "linecolor": "white",
           "ticks": "",
           "title": {
            "standoff": 15
           },
           "zerolinecolor": "white",
           "zerolinewidth": 2
          },
          "yaxis": {
           "automargin": true,
           "gridcolor": "white",
           "linecolor": "white",
           "ticks": "",
           "title": {
            "standoff": 15
           },
           "zerolinecolor": "white",
           "zerolinewidth": 2
          }
         }
        },
        "title": {
         "text": "Registration Type Distribution (Last 5 Years)"
        },
        "xaxis": {
         "anchor": "y",
         "domain": [
          0,
          1
         ],
         "title": {
          "text": "Registration Type"
         }
        },
        "yaxis": {
         "anchor": "x",
         "domain": [
          0,
          1
         ],
         "title": {
          "text": "Count"
         }
        }
       }
      }
     },
     "metadata": {},
     "output_type": "display_data"
    },
    {
     "name": "stdout",
     "output_type": "stream",
     "text": [
      "Registration Type Distribution (Last 5 Years):\n",
      "reg_type_en\n",
      "Off-Plan Properties    106\n",
      "Existing Properties    101\n",
      "Name: count, dtype: int64\n"
     ]
    }
   ],
   "source": [
    "# Registration Type Distribution\n",
    "property_usage_distribution = transactions_satwa_filtered_5y['reg_type_en'].value_counts()\n",
    "property_usage_fig = px.bar(property_usage_distribution, \n",
    "                            title=\"Registration Type Distribution (Last 5 Years)\",\n",
    "                            labels={'reg_type_en': 'Registration Type', 'value': 'Count'},\n",
    "                            text=property_usage_distribution)\n",
    "property_usage_fig.update_traces(texttemplate='%{text}', textposition='outside')\n",
    "# Hide the legend\n",
    "property_usage_fig.update_layout(showlegend=False)\n",
    "property_usage_fig.write_image(f\"{output_dir}/registration_type_distribution_5_years.png\")\n",
    "property_usage_fig.show()\n",
    "\n",
    "# Printing the distribution of registration types\n",
    "print(\"Registration Type Distribution (Last 5 Years):\")\n",
    "print(property_usage_distribution)"
   ]
  },
  {
   "cell_type": "markdown",
   "metadata": {},
   "source": [
    "**Registration Type Distribution (Last 5 Years)**\n",
    "\n",
    "- **Off-Plan Properties** account for 106 transactions, while **Existing Properties** represent 101 transactions.\n",
    "\n",
    "- This indicates a balanced interest in both new developments (off-plan) and existing residential properties, signaling opportunities for investors in both markets.\n",
    "\n",
    "- The slight edge in off-plan properties might suggest recent developments or new projects gaining popularity in the last five years. These could be appealing to buyers looking for more flexible payment plans or wanting to invest in future-ready developments.\n",
    "\n"
   ]
  },
  {
   "cell_type": "markdown",
   "metadata": {},
   "source": [
    "### Property Size Distribution by Property Type"
   ]
  },
  {
   "cell_type": "code",
   "execution_count": 92,
   "metadata": {},
   "outputs": [
    {
     "data": {
      "application/vnd.plotly.v1+json": {
       "config": {
        "plotlyServerURL": "https://plot.ly"
       },
       "data": [
        {
         "alignmentgroup": "True",
         "hovertemplate": "Property Type=%{x}<br>Size (sqm)=%{y}<extra></extra>",
         "legendgroup": "",
         "marker": {
          "color": "#636efa"
         },
         "name": "",
         "notched": false,
         "offsetgroup": "",
         "orientation": "v",
         "showlegend": false,
         "type": "box",
         "x": [
          "Villa",
          "Villa",
          "Unit",
          "Unit",
          "Villa",
          "Villa",
          "Villa",
          "Villa",
          "Villa",
          "Unit",
          "Unit",
          "Unit",
          "Unit",
          "Unit",
          "Unit",
          "Unit",
          "Unit",
          "Unit",
          "Unit",
          "Unit",
          "Unit",
          "Unit",
          "Unit",
          "Unit",
          "Villa",
          "Villa",
          "Unit",
          "Unit",
          "Unit",
          "Villa",
          "Villa",
          "Unit",
          "Unit",
          "Unit",
          "Villa",
          "Unit",
          "Unit",
          "Villa",
          "Villa",
          "Unit",
          "Villa",
          "Villa",
          "Unit",
          "Unit",
          "Unit",
          "Villa",
          "Unit",
          "Unit",
          "Unit",
          "Villa",
          "Villa",
          "Unit",
          "Villa",
          "Unit",
          "Villa",
          "Villa",
          "Unit",
          "Unit",
          "Unit",
          "Unit",
          "Unit",
          "Unit",
          "Villa",
          "Villa",
          "Villa",
          "Villa",
          "Villa",
          "Unit",
          "Unit",
          "Villa",
          "Unit",
          "Unit",
          "Villa",
          "Unit",
          "Villa",
          "Unit",
          "Unit",
          "Villa",
          "Villa",
          "Villa",
          "Villa",
          "Unit",
          "Unit",
          "Villa",
          "Villa",
          "Villa",
          "Unit",
          "Unit",
          "Villa",
          "Villa",
          "Villa",
          "Unit",
          "Unit",
          "Unit",
          "Villa",
          "Villa",
          "Unit",
          "Villa",
          "Unit",
          "Unit",
          "Unit",
          "Villa",
          "Villa",
          "Villa",
          "Unit",
          "Villa",
          "Villa",
          "Villa",
          "Unit",
          "Unit",
          "Unit",
          "Villa",
          "Villa",
          "Villa",
          "Villa",
          "Unit",
          "Unit",
          "Unit",
          "Unit",
          "Villa",
          "Villa",
          "Villa",
          "Villa",
          "Unit",
          "Unit",
          "Villa",
          "Unit",
          "Unit",
          "Unit",
          "Unit",
          "Villa",
          "Unit",
          "Villa",
          "Unit",
          "Unit",
          "Unit",
          "Unit",
          "Villa",
          "Villa",
          "Villa",
          "Villa",
          "Unit",
          "Villa",
          "Villa",
          "Villa",
          "Unit",
          "Villa",
          "Unit",
          "Unit",
          "Villa",
          "Villa",
          "Villa",
          "Villa",
          "Unit",
          "Unit",
          "Unit",
          "Villa",
          "Villa",
          "Unit",
          "Villa",
          "Villa",
          "Villa",
          "Unit",
          "Unit",
          "Unit",
          "Villa",
          "Villa",
          "Unit",
          "Unit",
          "Unit",
          "Villa",
          "Unit",
          "Unit",
          "Unit",
          "Unit",
          "Unit",
          "Villa",
          "Villa",
          "Unit",
          "Unit",
          "Villa",
          "Unit",
          "Unit",
          "Villa",
          "Villa",
          "Villa",
          "Villa",
          "Unit",
          "Unit",
          "Villa",
          "Unit",
          "Unit",
          "Unit",
          "Unit",
          "Villa",
          "Villa",
          "Villa",
          "Unit",
          "Unit",
          "Villa",
          "Villa",
          "Unit",
          "Villa",
          "Villa",
          "Unit",
          "Villa",
          "Villa"
         ],
         "x0": " ",
         "xaxis": "x",
         "y": [
          239.23,
          1393.55,
          35.6,
          89.64,
          234.67,
          77.42,
          232.26,
          232.26,
          232.26,
          87.56,
          35.88,
          97.28,
          106,
          39.36,
          35.6,
          89.64,
          35.6,
          69.37,
          106,
          35.76,
          35.76,
          87.56,
          87.31,
          70.87,
          196.52,
          232.26,
          35.88,
          35.94,
          71.62,
          232.26,
          232.26,
          39.6,
          89.64,
          35.76,
          233.37,
          35.6,
          87.31,
          229.28,
          139.35,
          39.34,
          230.12,
          594.58,
          70.87,
          54.71,
          71.62,
          221.02,
          54.71,
          96,
          87.56,
          594.58,
          232.26,
          35.88,
          226,
          87.31,
          232.26,
          232.26,
          71.62,
          39.67,
          39.6,
          71.82,
          135.21,
          35.88,
          232.26,
          232.26,
          233.37,
          232.26,
          233.37,
          35.88,
          39.59,
          232.26,
          54.71,
          71.62,
          9606.8,
          46.42,
          232.26,
          35.75,
          35.76,
          232.26,
          232.26,
          232.26,
          232.26,
          89.64,
          70.87,
          222.87,
          232.26,
          231.51,
          35.76,
          87.56,
          231.05,
          232.81,
          209.03,
          89.64,
          35.6,
          39.4,
          278.71,
          243.22,
          35.76,
          1305.29,
          89.64,
          54.71,
          80.7,
          597.64,
          232.26,
          1393.55,
          35.94,
          227.61,
          25.4,
          232.26,
          51.27,
          70.87,
          39.67,
          222.87,
          233,
          232.26,
          1068.38,
          35.94,
          89.64,
          54.71,
          35.88,
          232.26,
          232.26,
          234.67,
          232.26,
          87.56,
          35.76,
          232.26,
          35.76,
          35.76,
          70.87,
          87.31,
          232.26,
          135.21,
          227.61,
          42.59,
          87.56,
          35.94,
          35.6,
          232.26,
          227.61,
          232.26,
          226,
          87.31,
          232.26,
          1393.55,
          1393.55,
          70.87,
          232.26,
          35.6,
          87.31,
          232.26,
          229.47,
          223.99,
          1374.96,
          82.77,
          71.82,
          45.9,
          218.23,
          232.26,
          78.95,
          668.9,
          213.68,
          234.39,
          35.76,
          71.62,
          35.94,
          232.26,
          234.58,
          35.76,
          35.88,
          35.94,
          232.26,
          44.81,
          70.87,
          69.36,
          51.63,
          35.76,
          235.97,
          278.71,
          87.31,
          54.71,
          1323.87,
          82.33,
          69.36,
          232.26,
          278.71,
          232.26,
          278.71,
          82.77,
          71.62,
          213.68,
          35.76,
          71.62,
          54.71,
          35.76,
          225.29,
          223.99,
          232.26,
          54.71,
          35.94,
          232.26,
          232.26,
          35.76,
          232.26,
          227.61,
          87.56,
          232.26,
          594.58
         ],
         "y0": " ",
         "yaxis": "y"
        }
       ],
       "layout": {
        "boxmode": "group",
        "legend": {
         "tracegroupgap": 0
        },
        "template": {
         "data": {
          "bar": [
           {
            "error_x": {
             "color": "#2a3f5f"
            },
            "error_y": {
             "color": "#2a3f5f"
            },
            "marker": {
             "line": {
              "color": "#E5ECF6",
              "width": 0.5
             },
             "pattern": {
              "fillmode": "overlay",
              "size": 10,
              "solidity": 0.2
             }
            },
            "type": "bar"
           }
          ],
          "barpolar": [
           {
            "marker": {
             "line": {
              "color": "#E5ECF6",
              "width": 0.5
             },
             "pattern": {
              "fillmode": "overlay",
              "size": 10,
              "solidity": 0.2
             }
            },
            "type": "barpolar"
           }
          ],
          "carpet": [
           {
            "aaxis": {
             "endlinecolor": "#2a3f5f",
             "gridcolor": "white",
             "linecolor": "white",
             "minorgridcolor": "white",
             "startlinecolor": "#2a3f5f"
            },
            "baxis": {
             "endlinecolor": "#2a3f5f",
             "gridcolor": "white",
             "linecolor": "white",
             "minorgridcolor": "white",
             "startlinecolor": "#2a3f5f"
            },
            "type": "carpet"
           }
          ],
          "choropleth": [
           {
            "colorbar": {
             "outlinewidth": 0,
             "ticks": ""
            },
            "type": "choropleth"
           }
          ],
          "contour": [
           {
            "colorbar": {
             "outlinewidth": 0,
             "ticks": ""
            },
            "colorscale": [
             [
              0,
              "#0d0887"
             ],
             [
              0.1111111111111111,
              "#46039f"
             ],
             [
              0.2222222222222222,
              "#7201a8"
             ],
             [
              0.3333333333333333,
              "#9c179e"
             ],
             [
              0.4444444444444444,
              "#bd3786"
             ],
             [
              0.5555555555555556,
              "#d8576b"
             ],
             [
              0.6666666666666666,
              "#ed7953"
             ],
             [
              0.7777777777777778,
              "#fb9f3a"
             ],
             [
              0.8888888888888888,
              "#fdca26"
             ],
             [
              1,
              "#f0f921"
             ]
            ],
            "type": "contour"
           }
          ],
          "contourcarpet": [
           {
            "colorbar": {
             "outlinewidth": 0,
             "ticks": ""
            },
            "type": "contourcarpet"
           }
          ],
          "heatmap": [
           {
            "colorbar": {
             "outlinewidth": 0,
             "ticks": ""
            },
            "colorscale": [
             [
              0,
              "#0d0887"
             ],
             [
              0.1111111111111111,
              "#46039f"
             ],
             [
              0.2222222222222222,
              "#7201a8"
             ],
             [
              0.3333333333333333,
              "#9c179e"
             ],
             [
              0.4444444444444444,
              "#bd3786"
             ],
             [
              0.5555555555555556,
              "#d8576b"
             ],
             [
              0.6666666666666666,
              "#ed7953"
             ],
             [
              0.7777777777777778,
              "#fb9f3a"
             ],
             [
              0.8888888888888888,
              "#fdca26"
             ],
             [
              1,
              "#f0f921"
             ]
            ],
            "type": "heatmap"
           }
          ],
          "heatmapgl": [
           {
            "colorbar": {
             "outlinewidth": 0,
             "ticks": ""
            },
            "colorscale": [
             [
              0,
              "#0d0887"
             ],
             [
              0.1111111111111111,
              "#46039f"
             ],
             [
              0.2222222222222222,
              "#7201a8"
             ],
             [
              0.3333333333333333,
              "#9c179e"
             ],
             [
              0.4444444444444444,
              "#bd3786"
             ],
             [
              0.5555555555555556,
              "#d8576b"
             ],
             [
              0.6666666666666666,
              "#ed7953"
             ],
             [
              0.7777777777777778,
              "#fb9f3a"
             ],
             [
              0.8888888888888888,
              "#fdca26"
             ],
             [
              1,
              "#f0f921"
             ]
            ],
            "type": "heatmapgl"
           }
          ],
          "histogram": [
           {
            "marker": {
             "pattern": {
              "fillmode": "overlay",
              "size": 10,
              "solidity": 0.2
             }
            },
            "type": "histogram"
           }
          ],
          "histogram2d": [
           {
            "colorbar": {
             "outlinewidth": 0,
             "ticks": ""
            },
            "colorscale": [
             [
              0,
              "#0d0887"
             ],
             [
              0.1111111111111111,
              "#46039f"
             ],
             [
              0.2222222222222222,
              "#7201a8"
             ],
             [
              0.3333333333333333,
              "#9c179e"
             ],
             [
              0.4444444444444444,
              "#bd3786"
             ],
             [
              0.5555555555555556,
              "#d8576b"
             ],
             [
              0.6666666666666666,
              "#ed7953"
             ],
             [
              0.7777777777777778,
              "#fb9f3a"
             ],
             [
              0.8888888888888888,
              "#fdca26"
             ],
             [
              1,
              "#f0f921"
             ]
            ],
            "type": "histogram2d"
           }
          ],
          "histogram2dcontour": [
           {
            "colorbar": {
             "outlinewidth": 0,
             "ticks": ""
            },
            "colorscale": [
             [
              0,
              "#0d0887"
             ],
             [
              0.1111111111111111,
              "#46039f"
             ],
             [
              0.2222222222222222,
              "#7201a8"
             ],
             [
              0.3333333333333333,
              "#9c179e"
             ],
             [
              0.4444444444444444,
              "#bd3786"
             ],
             [
              0.5555555555555556,
              "#d8576b"
             ],
             [
              0.6666666666666666,
              "#ed7953"
             ],
             [
              0.7777777777777778,
              "#fb9f3a"
             ],
             [
              0.8888888888888888,
              "#fdca26"
             ],
             [
              1,
              "#f0f921"
             ]
            ],
            "type": "histogram2dcontour"
           }
          ],
          "mesh3d": [
           {
            "colorbar": {
             "outlinewidth": 0,
             "ticks": ""
            },
            "type": "mesh3d"
           }
          ],
          "parcoords": [
           {
            "line": {
             "colorbar": {
              "outlinewidth": 0,
              "ticks": ""
             }
            },
            "type": "parcoords"
           }
          ],
          "pie": [
           {
            "automargin": true,
            "type": "pie"
           }
          ],
          "scatter": [
           {
            "fillpattern": {
             "fillmode": "overlay",
             "size": 10,
             "solidity": 0.2
            },
            "type": "scatter"
           }
          ],
          "scatter3d": [
           {
            "line": {
             "colorbar": {
              "outlinewidth": 0,
              "ticks": ""
             }
            },
            "marker": {
             "colorbar": {
              "outlinewidth": 0,
              "ticks": ""
             }
            },
            "type": "scatter3d"
           }
          ],
          "scattercarpet": [
           {
            "marker": {
             "colorbar": {
              "outlinewidth": 0,
              "ticks": ""
             }
            },
            "type": "scattercarpet"
           }
          ],
          "scattergeo": [
           {
            "marker": {
             "colorbar": {
              "outlinewidth": 0,
              "ticks": ""
             }
            },
            "type": "scattergeo"
           }
          ],
          "scattergl": [
           {
            "marker": {
             "colorbar": {
              "outlinewidth": 0,
              "ticks": ""
             }
            },
            "type": "scattergl"
           }
          ],
          "scattermapbox": [
           {
            "marker": {
             "colorbar": {
              "outlinewidth": 0,
              "ticks": ""
             }
            },
            "type": "scattermapbox"
           }
          ],
          "scatterpolar": [
           {
            "marker": {
             "colorbar": {
              "outlinewidth": 0,
              "ticks": ""
             }
            },
            "type": "scatterpolar"
           }
          ],
          "scatterpolargl": [
           {
            "marker": {
             "colorbar": {
              "outlinewidth": 0,
              "ticks": ""
             }
            },
            "type": "scatterpolargl"
           }
          ],
          "scatterternary": [
           {
            "marker": {
             "colorbar": {
              "outlinewidth": 0,
              "ticks": ""
             }
            },
            "type": "scatterternary"
           }
          ],
          "surface": [
           {
            "colorbar": {
             "outlinewidth": 0,
             "ticks": ""
            },
            "colorscale": [
             [
              0,
              "#0d0887"
             ],
             [
              0.1111111111111111,
              "#46039f"
             ],
             [
              0.2222222222222222,
              "#7201a8"
             ],
             [
              0.3333333333333333,
              "#9c179e"
             ],
             [
              0.4444444444444444,
              "#bd3786"
             ],
             [
              0.5555555555555556,
              "#d8576b"
             ],
             [
              0.6666666666666666,
              "#ed7953"
             ],
             [
              0.7777777777777778,
              "#fb9f3a"
             ],
             [
              0.8888888888888888,
              "#fdca26"
             ],
             [
              1,
              "#f0f921"
             ]
            ],
            "type": "surface"
           }
          ],
          "table": [
           {
            "cells": {
             "fill": {
              "color": "#EBF0F8"
             },
             "line": {
              "color": "white"
             }
            },
            "header": {
             "fill": {
              "color": "#C8D4E3"
             },
             "line": {
              "color": "white"
             }
            },
            "type": "table"
           }
          ]
         },
         "layout": {
          "annotationdefaults": {
           "arrowcolor": "#2a3f5f",
           "arrowhead": 0,
           "arrowwidth": 1
          },
          "autotypenumbers": "strict",
          "coloraxis": {
           "colorbar": {
            "outlinewidth": 0,
            "ticks": ""
           }
          },
          "colorscale": {
           "diverging": [
            [
             0,
             "#8e0152"
            ],
            [
             0.1,
             "#c51b7d"
            ],
            [
             0.2,
             "#de77ae"
            ],
            [
             0.3,
             "#f1b6da"
            ],
            [
             0.4,
             "#fde0ef"
            ],
            [
             0.5,
             "#f7f7f7"
            ],
            [
             0.6,
             "#e6f5d0"
            ],
            [
             0.7,
             "#b8e186"
            ],
            [
             0.8,
             "#7fbc41"
            ],
            [
             0.9,
             "#4d9221"
            ],
            [
             1,
             "#276419"
            ]
           ],
           "sequential": [
            [
             0,
             "#0d0887"
            ],
            [
             0.1111111111111111,
             "#46039f"
            ],
            [
             0.2222222222222222,
             "#7201a8"
            ],
            [
             0.3333333333333333,
             "#9c179e"
            ],
            [
             0.4444444444444444,
             "#bd3786"
            ],
            [
             0.5555555555555556,
             "#d8576b"
            ],
            [
             0.6666666666666666,
             "#ed7953"
            ],
            [
             0.7777777777777778,
             "#fb9f3a"
            ],
            [
             0.8888888888888888,
             "#fdca26"
            ],
            [
             1,
             "#f0f921"
            ]
           ],
           "sequentialminus": [
            [
             0,
             "#0d0887"
            ],
            [
             0.1111111111111111,
             "#46039f"
            ],
            [
             0.2222222222222222,
             "#7201a8"
            ],
            [
             0.3333333333333333,
             "#9c179e"
            ],
            [
             0.4444444444444444,
             "#bd3786"
            ],
            [
             0.5555555555555556,
             "#d8576b"
            ],
            [
             0.6666666666666666,
             "#ed7953"
            ],
            [
             0.7777777777777778,
             "#fb9f3a"
            ],
            [
             0.8888888888888888,
             "#fdca26"
            ],
            [
             1,
             "#f0f921"
            ]
           ]
          },
          "colorway": [
           "#636efa",
           "#EF553B",
           "#00cc96",
           "#ab63fa",
           "#FFA15A",
           "#19d3f3",
           "#FF6692",
           "#B6E880",
           "#FF97FF",
           "#FECB52"
          ],
          "font": {
           "color": "#2a3f5f"
          },
          "geo": {
           "bgcolor": "white",
           "lakecolor": "white",
           "landcolor": "#E5ECF6",
           "showlakes": true,
           "showland": true,
           "subunitcolor": "white"
          },
          "hoverlabel": {
           "align": "left"
          },
          "hovermode": "closest",
          "mapbox": {
           "style": "light"
          },
          "paper_bgcolor": "white",
          "plot_bgcolor": "#E5ECF6",
          "polar": {
           "angularaxis": {
            "gridcolor": "white",
            "linecolor": "white",
            "ticks": ""
           },
           "bgcolor": "#E5ECF6",
           "radialaxis": {
            "gridcolor": "white",
            "linecolor": "white",
            "ticks": ""
           }
          },
          "scene": {
           "xaxis": {
            "backgroundcolor": "#E5ECF6",
            "gridcolor": "white",
            "gridwidth": 2,
            "linecolor": "white",
            "showbackground": true,
            "ticks": "",
            "zerolinecolor": "white"
           },
           "yaxis": {
            "backgroundcolor": "#E5ECF6",
            "gridcolor": "white",
            "gridwidth": 2,
            "linecolor": "white",
            "showbackground": true,
            "ticks": "",
            "zerolinecolor": "white"
           },
           "zaxis": {
            "backgroundcolor": "#E5ECF6",
            "gridcolor": "white",
            "gridwidth": 2,
            "linecolor": "white",
            "showbackground": true,
            "ticks": "",
            "zerolinecolor": "white"
           }
          },
          "shapedefaults": {
           "line": {
            "color": "#2a3f5f"
           }
          },
          "ternary": {
           "aaxis": {
            "gridcolor": "white",
            "linecolor": "white",
            "ticks": ""
           },
           "baxis": {
            "gridcolor": "white",
            "linecolor": "white",
            "ticks": ""
           },
           "bgcolor": "#E5ECF6",
           "caxis": {
            "gridcolor": "white",
            "linecolor": "white",
            "ticks": ""
           }
          },
          "title": {
           "x": 0.05
          },
          "xaxis": {
           "automargin": true,
           "gridcolor": "white",
           "linecolor": "white",
           "ticks": "",
           "title": {
            "standoff": 15
           },
           "zerolinecolor": "white",
           "zerolinewidth": 2
          },
          "yaxis": {
           "automargin": true,
           "gridcolor": "white",
           "linecolor": "white",
           "ticks": "",
           "title": {
            "standoff": 15
           },
           "zerolinecolor": "white",
           "zerolinewidth": 2
          }
         }
        },
        "title": {
         "text": "Property Size Distribution by Property Type (Last 5 Years)"
        },
        "xaxis": {
         "anchor": "y",
         "domain": [
          0,
          1
         ],
         "title": {
          "text": "Property Type"
         }
        },
        "yaxis": {
         "anchor": "x",
         "domain": [
          0,
          1
         ],
         "title": {
          "text": "Size (sqm)"
         }
        }
       }
      }
     },
     "metadata": {},
     "output_type": "display_data"
    }
   ],
   "source": [
    "# Property Size Distribution by Property Type\n",
    "size_fig = px.box(transactions_satwa_filtered_5y, \n",
    "                  x='property_type_en', \n",
    "                  y='procedure_area',\n",
    "                  title=\"Property Size Distribution by Property Type (Last 5 Years)\",\n",
    "                  labels={'procedure_area': 'Size (sqm)', 'property_type_en': 'Property Type'})\n",
    "size_fig.write_image(f\"{output_dir}/property_size_distribution_5_years.png\")\n",
    "size_fig.show()"
   ]
  },
  {
   "cell_type": "code",
   "execution_count": 98,
   "metadata": {},
   "outputs": [
    {
     "name": "stdout",
     "output_type": "stream",
     "text": [
      "                  count        mean         std   min     25%     50%     75%  \\\n",
      "property_type_en                                                                \n",
      "Unit              110.0   60.405182   24.583114  35.6   35.88   54.71   82.77   \n",
      "Villa              97.0  434.468041  991.966174  25.4  231.51  232.26  234.39   \n",
      "\n",
      "                      max  \n",
      "property_type_en           \n",
      "Unit               135.21  \n",
      "Villa             9606.80  \n"
     ]
    }
   ],
   "source": [
    "print(transactions_satwa_filtered_5y.groupby('property_type_en')['procedure_area'].describe())"
   ]
  },
  {
   "cell_type": "markdown",
   "metadata": {},
   "source": [
    "**Property Size Distribution by Property Type (Last 5 Years)**\n",
    "\n",
    "- **Units**\n",
    "\n",
    "    - Average size: 60.41 sqm.\n",
    "\n",
    "    - Sizes are more compact, with most units falling between 35.6 sqm and 135.21 sqm, reflecting typical apartment dimensions.\n",
    "\n",
    "    - The relatively small variation in sizes (standard deviation of 24.58 sqm) shows a more consistent property offering, with sizes mostly concentrated within a similar range.\n",
    "\n",
    "- **Villas**\n",
    "\n",
    "    - Average size: 434.47 sqm, indicating a much larger footprint compared to units.\n",
    "\n",
    "    - The size distribution has a much broader range, with significant variation (standard deviation of 991.97 sqm) and a maximum size of 9606.80 sqm. This suggests that some villas in the dataset represent large, expansive properties, which could include luxury estates.\n",
    "\n",
    "    - The wide range in villa sizes points to different market segments, ranging from medium-sized family villas to very large luxury properties.\n",
    "\n"
   ]
  },
  {
   "cell_type": "markdown",
   "metadata": {},
   "source": [
    "### Price per Square Meter by Property Type"
   ]
  },
  {
   "cell_type": "code",
   "execution_count": 100,
   "metadata": {},
   "outputs": [
    {
     "data": {
      "application/vnd.plotly.v1+json": {
       "config": {
        "plotlyServerURL": "https://plot.ly"
       },
       "data": [
        {
         "alignmentgroup": "True",
         "hovertemplate": "Property Type=%{x}<br>Price per Square Meter (AED)=%{y}<extra></extra>",
         "legendgroup": "",
         "marker": {
          "color": "#636efa"
         },
         "name": "",
         "notched": false,
         "offsetgroup": "",
         "orientation": "v",
         "showlegend": false,
         "type": "box",
         "x": [
          "Villa",
          "Villa",
          "Unit",
          "Unit",
          "Villa",
          "Villa",
          "Villa",
          "Villa",
          "Villa",
          "Unit",
          "Unit",
          "Unit",
          "Unit",
          "Unit",
          "Unit",
          "Unit",
          "Unit",
          "Unit",
          "Unit",
          "Unit",
          "Unit",
          "Unit",
          "Unit",
          "Unit",
          "Villa",
          "Villa",
          "Unit",
          "Unit",
          "Unit",
          "Villa",
          "Villa",
          "Unit",
          "Unit",
          "Unit",
          "Villa",
          "Unit",
          "Unit",
          "Villa",
          "Villa",
          "Unit",
          "Villa",
          "Villa",
          "Unit",
          "Unit",
          "Unit",
          "Villa",
          "Unit",
          "Unit",
          "Unit",
          "Villa",
          "Villa",
          "Unit",
          "Villa",
          "Unit",
          "Villa",
          "Villa",
          "Unit",
          "Unit",
          "Unit",
          "Unit",
          "Unit",
          "Unit",
          "Villa",
          "Villa",
          "Villa",
          "Villa",
          "Villa",
          "Unit",
          "Unit",
          "Villa",
          "Unit",
          "Unit",
          "Villa",
          "Unit",
          "Villa",
          "Unit",
          "Unit",
          "Villa",
          "Villa",
          "Villa",
          "Villa",
          "Unit",
          "Unit",
          "Villa",
          "Villa",
          "Villa",
          "Unit",
          "Unit",
          "Villa",
          "Villa",
          "Villa",
          "Unit",
          "Unit",
          "Unit",
          "Villa",
          "Villa",
          "Unit",
          "Villa",
          "Unit",
          "Unit",
          "Unit",
          "Villa",
          "Villa",
          "Villa",
          "Unit",
          "Villa",
          "Villa",
          "Villa",
          "Unit",
          "Unit",
          "Unit",
          "Villa",
          "Villa",
          "Villa",
          "Villa",
          "Unit",
          "Unit",
          "Unit",
          "Unit",
          "Villa",
          "Villa",
          "Villa",
          "Villa",
          "Unit",
          "Unit",
          "Villa",
          "Unit",
          "Unit",
          "Unit",
          "Unit",
          "Villa",
          "Unit",
          "Villa",
          "Unit",
          "Unit",
          "Unit",
          "Unit",
          "Villa",
          "Villa",
          "Villa",
          "Villa",
          "Unit",
          "Villa",
          "Villa",
          "Villa",
          "Unit",
          "Villa",
          "Unit",
          "Unit",
          "Villa",
          "Villa",
          "Villa",
          "Villa",
          "Unit",
          "Unit",
          "Unit",
          "Villa",
          "Villa",
          "Unit",
          "Villa",
          "Villa",
          "Villa",
          "Unit",
          "Unit",
          "Unit",
          "Villa",
          "Villa",
          "Unit",
          "Unit",
          "Unit",
          "Villa",
          "Unit",
          "Unit",
          "Unit",
          "Unit",
          "Unit",
          "Villa",
          "Villa",
          "Unit",
          "Unit",
          "Villa",
          "Unit",
          "Unit",
          "Villa",
          "Villa",
          "Villa",
          "Villa",
          "Unit",
          "Unit",
          "Villa",
          "Unit",
          "Unit",
          "Unit",
          "Unit",
          "Villa",
          "Villa",
          "Villa",
          "Unit",
          "Unit",
          "Villa",
          "Villa",
          "Unit",
          "Villa",
          "Villa",
          "Unit",
          "Villa",
          "Villa"
         ],
         "x0": " ",
         "xaxis": "x",
         "y": [
          12540.23,
          5740.73,
          27247.19,
          18406.96,
          10333.66,
          12916.56,
          13777.66,
          10763.8,
          10333.25,
          21984.92,
          30629.88,
          16961.35,
          21028.3,
          26168.7,
          32162.92,
          20805.44,
          28709.83,
          18406.44,
          21099.06,
          25898.88,
          32130.87,
          19198.66,
          19162.41,
          20107.1,
          29022.49,
          25402.57,
          29542.92,
          26432.94,
          25118.68,
          14423.49,
          15069.32,
          25252.53,
          20069.17,
          28523.49,
          13926.38,
          33286.52,
          19108.92,
          10467.55,
          10764.26,
          25527.45,
          23031.46,
          4709.21,
          24410.89,
          20654.36,
          21362.75,
          9501.4,
          20908.43,
          16666.67,
          20545.91,
          4204.65,
          17222.08,
          31911.93,
          9734.51,
          22334.21,
          29225.44,
          15069.32,
          20664.62,
          25207.97,
          26010.1,
          21883.88,
          20338.73,
          30629.88,
          14638.77,
          10333.25,
          9641.34,
          6458.28,
          11141.11,
          33026.76,
          26016.67,
          13347.11,
          21630.41,
          24015.64,
          6766.04,
          18071.52,
          67144.58,
          26573.43,
          25898.88,
          12916.56,
          9902.7,
          23465.08,
          12916.56,
          19712.18,
          25384.51,
          25126.76,
          11194.35,
          31100.17,
          31166.95,
          22498.86,
          12984.2,
          1718.14,
          14352.01,
          19912.99,
          29635.96,
          26142.13,
          8880.2,
          13156.81,
          30855.29,
          6033.14,
          21028.56,
          22299.4,
          18339.53,
          4134.26,
          10333.25,
          6099.53,
          29628.55,
          61508.72,
          12047.24,
          10225.61,
          19641.12,
          24919.85,
          25964.2,
          8973.84,
          11587.98,
          12270.73,
          5147.98,
          30578.74,
          21753.68,
          21078.41,
          27870.68,
          12916.56,
          23034.53,
          24928.62,
          15499.87,
          21687.99,
          33529.08,
          11840.18,
          30732.66,
          32130.87,
          25384.51,
          17050.11,
          12916.56,
          18970.49,
          15816.53,
          22376.14,
          18387.39,
          30578.74,
          26123.6,
          12916.56,
          15816.53,
          12916.56,
          13274.34,
          21097.58,
          12916.56,
          4305.55,
          4449.07,
          24276.84,
          12916.56,
          30870.79,
          22047.88,
          10333.25,
          12637.82,
          13393.46,
          4373.95,
          18122.51,
          21177.94,
          18532.46,
          10081.11,
          12916.56,
          20405.32,
          6129.47,
          14039.69,
          8625.84,
          29810.68,
          19826.86,
          32971.62,
          24972.01,
          9058.74,
          33529.08,
          30629.88,
          27824.15,
          10333.25,
          20204.2,
          21729.93,
          21258.9,
          21092.39,
          28523.49,
          11442.13,
          9687.49,
          21360.67,
          22299.4,
          4958.95,
          18826.67,
          18454.44,
          12055.46,
          22962.94,
          24541.46,
          10763.88,
          19209.86,
          20549.29,
          70198.43,
          25894.85,
          25551.52,
          20087.74,
          27265.1,
          13538.11,
          27679.81,
          12938.09,
          18278.19,
          30578.74,
          11194.35,
          10763.8,
          25898.88,
          13777.66,
          18013.27,
          17020.61,
          60277.28,
          3363.72
         ],
         "y0": " ",
         "yaxis": "y"
        }
       ],
       "layout": {
        "boxmode": "group",
        "legend": {
         "tracegroupgap": 0
        },
        "template": {
         "data": {
          "bar": [
           {
            "error_x": {
             "color": "#2a3f5f"
            },
            "error_y": {
             "color": "#2a3f5f"
            },
            "marker": {
             "line": {
              "color": "#E5ECF6",
              "width": 0.5
             },
             "pattern": {
              "fillmode": "overlay",
              "size": 10,
              "solidity": 0.2
             }
            },
            "type": "bar"
           }
          ],
          "barpolar": [
           {
            "marker": {
             "line": {
              "color": "#E5ECF6",
              "width": 0.5
             },
             "pattern": {
              "fillmode": "overlay",
              "size": 10,
              "solidity": 0.2
             }
            },
            "type": "barpolar"
           }
          ],
          "carpet": [
           {
            "aaxis": {
             "endlinecolor": "#2a3f5f",
             "gridcolor": "white",
             "linecolor": "white",
             "minorgridcolor": "white",
             "startlinecolor": "#2a3f5f"
            },
            "baxis": {
             "endlinecolor": "#2a3f5f",
             "gridcolor": "white",
             "linecolor": "white",
             "minorgridcolor": "white",
             "startlinecolor": "#2a3f5f"
            },
            "type": "carpet"
           }
          ],
          "choropleth": [
           {
            "colorbar": {
             "outlinewidth": 0,
             "ticks": ""
            },
            "type": "choropleth"
           }
          ],
          "contour": [
           {
            "colorbar": {
             "outlinewidth": 0,
             "ticks": ""
            },
            "colorscale": [
             [
              0,
              "#0d0887"
             ],
             [
              0.1111111111111111,
              "#46039f"
             ],
             [
              0.2222222222222222,
              "#7201a8"
             ],
             [
              0.3333333333333333,
              "#9c179e"
             ],
             [
              0.4444444444444444,
              "#bd3786"
             ],
             [
              0.5555555555555556,
              "#d8576b"
             ],
             [
              0.6666666666666666,
              "#ed7953"
             ],
             [
              0.7777777777777778,
              "#fb9f3a"
             ],
             [
              0.8888888888888888,
              "#fdca26"
             ],
             [
              1,
              "#f0f921"
             ]
            ],
            "type": "contour"
           }
          ],
          "contourcarpet": [
           {
            "colorbar": {
             "outlinewidth": 0,
             "ticks": ""
            },
            "type": "contourcarpet"
           }
          ],
          "heatmap": [
           {
            "colorbar": {
             "outlinewidth": 0,
             "ticks": ""
            },
            "colorscale": [
             [
              0,
              "#0d0887"
             ],
             [
              0.1111111111111111,
              "#46039f"
             ],
             [
              0.2222222222222222,
              "#7201a8"
             ],
             [
              0.3333333333333333,
              "#9c179e"
             ],
             [
              0.4444444444444444,
              "#bd3786"
             ],
             [
              0.5555555555555556,
              "#d8576b"
             ],
             [
              0.6666666666666666,
              "#ed7953"
             ],
             [
              0.7777777777777778,
              "#fb9f3a"
             ],
             [
              0.8888888888888888,
              "#fdca26"
             ],
             [
              1,
              "#f0f921"
             ]
            ],
            "type": "heatmap"
           }
          ],
          "heatmapgl": [
           {
            "colorbar": {
             "outlinewidth": 0,
             "ticks": ""
            },
            "colorscale": [
             [
              0,
              "#0d0887"
             ],
             [
              0.1111111111111111,
              "#46039f"
             ],
             [
              0.2222222222222222,
              "#7201a8"
             ],
             [
              0.3333333333333333,
              "#9c179e"
             ],
             [
              0.4444444444444444,
              "#bd3786"
             ],
             [
              0.5555555555555556,
              "#d8576b"
             ],
             [
              0.6666666666666666,
              "#ed7953"
             ],
             [
              0.7777777777777778,
              "#fb9f3a"
             ],
             [
              0.8888888888888888,
              "#fdca26"
             ],
             [
              1,
              "#f0f921"
             ]
            ],
            "type": "heatmapgl"
           }
          ],
          "histogram": [
           {
            "marker": {
             "pattern": {
              "fillmode": "overlay",
              "size": 10,
              "solidity": 0.2
             }
            },
            "type": "histogram"
           }
          ],
          "histogram2d": [
           {
            "colorbar": {
             "outlinewidth": 0,
             "ticks": ""
            },
            "colorscale": [
             [
              0,
              "#0d0887"
             ],
             [
              0.1111111111111111,
              "#46039f"
             ],
             [
              0.2222222222222222,
              "#7201a8"
             ],
             [
              0.3333333333333333,
              "#9c179e"
             ],
             [
              0.4444444444444444,
              "#bd3786"
             ],
             [
              0.5555555555555556,
              "#d8576b"
             ],
             [
              0.6666666666666666,
              "#ed7953"
             ],
             [
              0.7777777777777778,
              "#fb9f3a"
             ],
             [
              0.8888888888888888,
              "#fdca26"
             ],
             [
              1,
              "#f0f921"
             ]
            ],
            "type": "histogram2d"
           }
          ],
          "histogram2dcontour": [
           {
            "colorbar": {
             "outlinewidth": 0,
             "ticks": ""
            },
            "colorscale": [
             [
              0,
              "#0d0887"
             ],
             [
              0.1111111111111111,
              "#46039f"
             ],
             [
              0.2222222222222222,
              "#7201a8"
             ],
             [
              0.3333333333333333,
              "#9c179e"
             ],
             [
              0.4444444444444444,
              "#bd3786"
             ],
             [
              0.5555555555555556,
              "#d8576b"
             ],
             [
              0.6666666666666666,
              "#ed7953"
             ],
             [
              0.7777777777777778,
              "#fb9f3a"
             ],
             [
              0.8888888888888888,
              "#fdca26"
             ],
             [
              1,
              "#f0f921"
             ]
            ],
            "type": "histogram2dcontour"
           }
          ],
          "mesh3d": [
           {
            "colorbar": {
             "outlinewidth": 0,
             "ticks": ""
            },
            "type": "mesh3d"
           }
          ],
          "parcoords": [
           {
            "line": {
             "colorbar": {
              "outlinewidth": 0,
              "ticks": ""
             }
            },
            "type": "parcoords"
           }
          ],
          "pie": [
           {
            "automargin": true,
            "type": "pie"
           }
          ],
          "scatter": [
           {
            "fillpattern": {
             "fillmode": "overlay",
             "size": 10,
             "solidity": 0.2
            },
            "type": "scatter"
           }
          ],
          "scatter3d": [
           {
            "line": {
             "colorbar": {
              "outlinewidth": 0,
              "ticks": ""
             }
            },
            "marker": {
             "colorbar": {
              "outlinewidth": 0,
              "ticks": ""
             }
            },
            "type": "scatter3d"
           }
          ],
          "scattercarpet": [
           {
            "marker": {
             "colorbar": {
              "outlinewidth": 0,
              "ticks": ""
             }
            },
            "type": "scattercarpet"
           }
          ],
          "scattergeo": [
           {
            "marker": {
             "colorbar": {
              "outlinewidth": 0,
              "ticks": ""
             }
            },
            "type": "scattergeo"
           }
          ],
          "scattergl": [
           {
            "marker": {
             "colorbar": {
              "outlinewidth": 0,
              "ticks": ""
             }
            },
            "type": "scattergl"
           }
          ],
          "scattermapbox": [
           {
            "marker": {
             "colorbar": {
              "outlinewidth": 0,
              "ticks": ""
             }
            },
            "type": "scattermapbox"
           }
          ],
          "scatterpolar": [
           {
            "marker": {
             "colorbar": {
              "outlinewidth": 0,
              "ticks": ""
             }
            },
            "type": "scatterpolar"
           }
          ],
          "scatterpolargl": [
           {
            "marker": {
             "colorbar": {
              "outlinewidth": 0,
              "ticks": ""
             }
            },
            "type": "scatterpolargl"
           }
          ],
          "scatterternary": [
           {
            "marker": {
             "colorbar": {
              "outlinewidth": 0,
              "ticks": ""
             }
            },
            "type": "scatterternary"
           }
          ],
          "surface": [
           {
            "colorbar": {
             "outlinewidth": 0,
             "ticks": ""
            },
            "colorscale": [
             [
              0,
              "#0d0887"
             ],
             [
              0.1111111111111111,
              "#46039f"
             ],
             [
              0.2222222222222222,
              "#7201a8"
             ],
             [
              0.3333333333333333,
              "#9c179e"
             ],
             [
              0.4444444444444444,
              "#bd3786"
             ],
             [
              0.5555555555555556,
              "#d8576b"
             ],
             [
              0.6666666666666666,
              "#ed7953"
             ],
             [
              0.7777777777777778,
              "#fb9f3a"
             ],
             [
              0.8888888888888888,
              "#fdca26"
             ],
             [
              1,
              "#f0f921"
             ]
            ],
            "type": "surface"
           }
          ],
          "table": [
           {
            "cells": {
             "fill": {
              "color": "#EBF0F8"
             },
             "line": {
              "color": "white"
             }
            },
            "header": {
             "fill": {
              "color": "#C8D4E3"
             },
             "line": {
              "color": "white"
             }
            },
            "type": "table"
           }
          ]
         },
         "layout": {
          "annotationdefaults": {
           "arrowcolor": "#2a3f5f",
           "arrowhead": 0,
           "arrowwidth": 1
          },
          "autotypenumbers": "strict",
          "coloraxis": {
           "colorbar": {
            "outlinewidth": 0,
            "ticks": ""
           }
          },
          "colorscale": {
           "diverging": [
            [
             0,
             "#8e0152"
            ],
            [
             0.1,
             "#c51b7d"
            ],
            [
             0.2,
             "#de77ae"
            ],
            [
             0.3,
             "#f1b6da"
            ],
            [
             0.4,
             "#fde0ef"
            ],
            [
             0.5,
             "#f7f7f7"
            ],
            [
             0.6,
             "#e6f5d0"
            ],
            [
             0.7,
             "#b8e186"
            ],
            [
             0.8,
             "#7fbc41"
            ],
            [
             0.9,
             "#4d9221"
            ],
            [
             1,
             "#276419"
            ]
           ],
           "sequential": [
            [
             0,
             "#0d0887"
            ],
            [
             0.1111111111111111,
             "#46039f"
            ],
            [
             0.2222222222222222,
             "#7201a8"
            ],
            [
             0.3333333333333333,
             "#9c179e"
            ],
            [
             0.4444444444444444,
             "#bd3786"
            ],
            [
             0.5555555555555556,
             "#d8576b"
            ],
            [
             0.6666666666666666,
             "#ed7953"
            ],
            [
             0.7777777777777778,
             "#fb9f3a"
            ],
            [
             0.8888888888888888,
             "#fdca26"
            ],
            [
             1,
             "#f0f921"
            ]
           ],
           "sequentialminus": [
            [
             0,
             "#0d0887"
            ],
            [
             0.1111111111111111,
             "#46039f"
            ],
            [
             0.2222222222222222,
             "#7201a8"
            ],
            [
             0.3333333333333333,
             "#9c179e"
            ],
            [
             0.4444444444444444,
             "#bd3786"
            ],
            [
             0.5555555555555556,
             "#d8576b"
            ],
            [
             0.6666666666666666,
             "#ed7953"
            ],
            [
             0.7777777777777778,
             "#fb9f3a"
            ],
            [
             0.8888888888888888,
             "#fdca26"
            ],
            [
             1,
             "#f0f921"
            ]
           ]
          },
          "colorway": [
           "#636efa",
           "#EF553B",
           "#00cc96",
           "#ab63fa",
           "#FFA15A",
           "#19d3f3",
           "#FF6692",
           "#B6E880",
           "#FF97FF",
           "#FECB52"
          ],
          "font": {
           "color": "#2a3f5f"
          },
          "geo": {
           "bgcolor": "white",
           "lakecolor": "white",
           "landcolor": "#E5ECF6",
           "showlakes": true,
           "showland": true,
           "subunitcolor": "white"
          },
          "hoverlabel": {
           "align": "left"
          },
          "hovermode": "closest",
          "mapbox": {
           "style": "light"
          },
          "paper_bgcolor": "white",
          "plot_bgcolor": "#E5ECF6",
          "polar": {
           "angularaxis": {
            "gridcolor": "white",
            "linecolor": "white",
            "ticks": ""
           },
           "bgcolor": "#E5ECF6",
           "radialaxis": {
            "gridcolor": "white",
            "linecolor": "white",
            "ticks": ""
           }
          },
          "scene": {
           "xaxis": {
            "backgroundcolor": "#E5ECF6",
            "gridcolor": "white",
            "gridwidth": 2,
            "linecolor": "white",
            "showbackground": true,
            "ticks": "",
            "zerolinecolor": "white"
           },
           "yaxis": {
            "backgroundcolor": "#E5ECF6",
            "gridcolor": "white",
            "gridwidth": 2,
            "linecolor": "white",
            "showbackground": true,
            "ticks": "",
            "zerolinecolor": "white"
           },
           "zaxis": {
            "backgroundcolor": "#E5ECF6",
            "gridcolor": "white",
            "gridwidth": 2,
            "linecolor": "white",
            "showbackground": true,
            "ticks": "",
            "zerolinecolor": "white"
           }
          },
          "shapedefaults": {
           "line": {
            "color": "#2a3f5f"
           }
          },
          "ternary": {
           "aaxis": {
            "gridcolor": "white",
            "linecolor": "white",
            "ticks": ""
           },
           "baxis": {
            "gridcolor": "white",
            "linecolor": "white",
            "ticks": ""
           },
           "bgcolor": "#E5ECF6",
           "caxis": {
            "gridcolor": "white",
            "linecolor": "white",
            "ticks": ""
           }
          },
          "title": {
           "x": 0.05
          },
          "xaxis": {
           "automargin": true,
           "gridcolor": "white",
           "linecolor": "white",
           "ticks": "",
           "title": {
            "standoff": 15
           },
           "zerolinecolor": "white",
           "zerolinewidth": 2
          },
          "yaxis": {
           "automargin": true,
           "gridcolor": "white",
           "linecolor": "white",
           "ticks": "",
           "title": {
            "standoff": 15
           },
           "zerolinecolor": "white",
           "zerolinewidth": 2
          }
         }
        },
        "title": {
         "text": "Price per Square Meter by Property Type (Last 5 Years)"
        },
        "xaxis": {
         "anchor": "y",
         "domain": [
          0,
          1
         ],
         "title": {
          "text": "Property Type"
         }
        },
        "yaxis": {
         "anchor": "x",
         "domain": [
          0,
          1
         ],
         "title": {
          "text": "Price per Square Meter (AED)"
         }
        }
       }
      }
     },
     "metadata": {},
     "output_type": "display_data"
    }
   ],
   "source": [
    "# Price per Square Meter by Property Type\n",
    "price_fig = px.box(transactions_satwa_filtered_5y, \n",
    "                   x='property_type_en', \n",
    "                   y='meter_sale_price',\n",
    "                   title=\"Price per Square Meter by Property Type (Last 5 Years)\",\n",
    "                   labels={'meter_sale_price': 'Price per Square Meter (AED)', 'property_type_en': 'Property Type'})\n",
    "price_fig.write_image(f\"{output_dir}/price_per_sqm_distribution_5_years.png\")\n",
    "price_fig.show()"
   ]
  },
  {
   "cell_type": "code",
   "execution_count": 103,
   "metadata": {},
   "outputs": [
    {
     "data": {
      "text/html": [
       "<div>\n",
       "<style scoped>\n",
       "    .dataframe tbody tr th:only-of-type {\n",
       "        vertical-align: middle;\n",
       "    }\n",
       "\n",
       "    .dataframe tbody tr th {\n",
       "        vertical-align: top;\n",
       "    }\n",
       "\n",
       "    .dataframe thead th {\n",
       "        text-align: right;\n",
       "    }\n",
       "</style>\n",
       "<table border=\"1\" class=\"dataframe\">\n",
       "  <thead>\n",
       "    <tr style=\"text-align: right;\">\n",
       "      <th></th>\n",
       "      <th>count</th>\n",
       "      <th>mean</th>\n",
       "      <th>std</th>\n",
       "      <th>min</th>\n",
       "      <th>25%</th>\n",
       "      <th>50%</th>\n",
       "      <th>75%</th>\n",
       "      <th>max</th>\n",
       "    </tr>\n",
       "    <tr>\n",
       "      <th>property_type_en</th>\n",
       "      <th></th>\n",
       "      <th></th>\n",
       "      <th></th>\n",
       "      <th></th>\n",
       "      <th></th>\n",
       "      <th></th>\n",
       "      <th></th>\n",
       "      <th></th>\n",
       "    </tr>\n",
       "  </thead>\n",
       "  <tbody>\n",
       "    <tr>\n",
       "      <th>Unit</th>\n",
       "      <td>110.0</td>\n",
       "      <td>24111.880000</td>\n",
       "      <td>4729.211166</td>\n",
       "      <td>16666.67</td>\n",
       "      <td>20355.3775</td>\n",
       "      <td>22355.175</td>\n",
       "      <td>27684.3875</td>\n",
       "      <td>33529.08</td>\n",
       "    </tr>\n",
       "    <tr>\n",
       "      <th>Villa</th>\n",
       "      <td>97.0</td>\n",
       "      <td>15002.503918</td>\n",
       "      <td>12066.579849</td>\n",
       "      <td>1718.14</td>\n",
       "      <td>9902.7000</td>\n",
       "      <td>12637.820</td>\n",
       "      <td>14638.7700</td>\n",
       "      <td>70198.43</td>\n",
       "    </tr>\n",
       "  </tbody>\n",
       "</table>\n",
       "</div>"
      ],
      "text/plain": [
       "                  count          mean           std       min         25%  \\\n",
       "property_type_en                                                            \n",
       "Unit              110.0  24111.880000   4729.211166  16666.67  20355.3775   \n",
       "Villa              97.0  15002.503918  12066.579849   1718.14   9902.7000   \n",
       "\n",
       "                        50%         75%       max  \n",
       "property_type_en                                   \n",
       "Unit              22355.175  27684.3875  33529.08  \n",
       "Villa             12637.820  14638.7700  70198.43  "
      ]
     },
     "execution_count": 103,
     "metadata": {},
     "output_type": "execute_result"
    }
   ],
   "source": [
    "(transactions_satwa_filtered_5y.groupby('property_type_en')['meter_sale_price'].describe())"
   ]
  },
  {
   "cell_type": "markdown",
   "metadata": {},
   "source": [
    "**Price per Square Meter by Property Type**:\n",
    "\n",
    "1. **Overall Price Levels**:\n",
    "\n",
    "\t- **Units** have a significantly higher average price per square meter (24,111.88 AED) compared to **villas** (15,002.50 AED). This indicates that units are perceived as more valuable on a per-square-meter basis, likely because they are in prime locations or have more modern amenities.\n",
    "\n",
    "\t- Villas, though larger, are not commanding as high a price per square meter, which could be due to their location, market demand, or the fact that villa buyers prioritize space over price per square meter.\n",
    "\n",
    "2. **Price Variability**:\n",
    "\n",
    "\t- **Villas** show much higher variability in price, with a standard deviation of 12,066.58 AED, compared to units (4,729.21 AED). This suggests that villas have a wider range of property characteristics, from lower-end to premium villas, depending on factors like location, luxury features, and exclusivity.\n",
    "\n",
    "\t- **Units**, on the other hand, appear to be more consistent in pricing, with less deviation between the lower and upper quartiles.\n",
    "\n",
    "3. **Quartile Analysis**:\n",
    "\n",
    "\t- The **median price** for **units** is 22,355.18 AED per square meter, while the **75th percentile** (upper quartile) is 27,684.39 AED, showing that the top 25% of unit sales fetch significantly higher prices.\n",
    "\n",
    "\t- **Villas** have a **median price** of 12,637.82 AED per square meter, with the **75th percentile** reaching 14,638.77 AED. This suggests that most villas fall in a narrower range of pricing but with a few outliers (likely luxury villas) pushing the max price up to 70,198.43 AED.\n",
    "\n",
    " 4.\t**Outliers in Villa Pricing**:\n",
    "\n",
    "\t- There are some villas priced at the extreme high end, with the maximum value reaching over 70,000 AED per square meter, signaling either ultra-luxury or highly desirable villa properties. These properties could be in exclusive areas or offer unique features that drive up the price."
   ]
  },
  {
   "cell_type": "markdown",
   "metadata": {},
   "source": [
    "### Actual Worth Distribution"
   ]
  },
  {
   "cell_type": "code",
   "execution_count": 105,
   "metadata": {},
   "outputs": [
    {
     "data": {
      "application/vnd.plotly.v1+json": {
       "config": {
        "plotlyServerURL": "https://plot.ly"
       },
       "data": [
        {
         "alignmentgroup": "True",
         "bingroup": "x",
         "hovertemplate": "Worth (AED)=%{x}<br>count=%{y}<extra></extra>",
         "legendgroup": "",
         "marker": {
          "color": "#636efa",
          "pattern": {
           "shape": ""
          }
         },
         "name": "",
         "nbinsx": 50,
         "offsetgroup": "",
         "orientation": "v",
         "showlegend": false,
         "type": "histogram",
         "x": [
          3000000,
          8000000,
          970000,
          1650000,
          2425000,
          1000000,
          3200000,
          2500000,
          2400000,
          1925000,
          1099000,
          1650000,
          2229000,
          1030000,
          1145000,
          1865000,
          1022070,
          1276855,
          2236500,
          926144,
          1149000,
          1681035,
          1673070,
          1424990,
          5703500,
          5900000,
          1060000,
          950000,
          1799000,
          3350000,
          3500000,
          1000000,
          1799000,
          1020000,
          3250000,
          1185000,
          1668400,
          2400000,
          1500000,
          1004250,
          5300000,
          2800000,
          1730000,
          1130000,
          1530000,
          2100000,
          1143900,
          1600000,
          1799000,
          2500000,
          4000000,
          1145000,
          2200000,
          1950000,
          6787900,
          3500000,
          1480000,
          1000000,
          1030000,
          1571700,
          2750000,
          1099000,
          3400000,
          2400000,
          2250000,
          1500000,
          2600000,
          1185000,
          1030000,
          3100000,
          1183400,
          1720000,
          65000000,
          838880,
          15595000,
          950000,
          926144,
          3000000,
          2300000,
          5450000,
          3000000,
          1767000,
          1799000,
          5600000,
          2600000,
          7200000,
          1114530,
          1970000,
          3000000,
          400000,
          3000000,
          1785000,
          1055040,
          1030000,
          2475000,
          3200000,
          1103385,
          7875000,
          1885000,
          1220000,
          1480000,
          2470800,
          2400000,
          8500000,
          1064850,
          14000000,
          306000,
          2375000,
          1007000,
          1766070,
          1030000,
          2000000,
          2700000,
          2850000,
          5500000,
          1099000,
          1950000,
          1153200,
          1000000,
          3000000,
          5350000,
          5850000,
          3600000,
          1899000,
          1199000,
          2750000,
          1099000,
          1149000,
          1799000,
          1488645,
          3000000,
          2565000,
          3600000,
          953000,
          1610000,
          1099000,
          930000,
          3000000,
          3600000,
          3000000,
          3000000,
          1842030,
          3000000,
          6000000,
          6200000,
          1720500,
          3000000,
          1099000,
          1925000,
          2400000,
          2900000,
          3000000,
          6014000,
          1500000,
          1521000,
          850640,
          2200000,
          3000000,
          1611000,
          4100000,
          3000000,
          2021810,
          1066030,
          1420000,
          1185000,
          5800000,
          2125000,
          1199000,
          1099000,
          1000000,
          2400000,
          905350,
          1540000,
          1474517,
          1089000,
          1020000,
          2700000,
          2700000,
          1865000,
          1220000,
          6565000,
          1550000,
          1280000,
          2800000,
          6400000,
          5700000,
          3000000,
          1590000,
          1471740,
          15000000,
          926000,
          1830000,
          1099000,
          975000,
          3050000,
          6200000,
          3005000,
          1000000,
          1099000,
          2600000,
          2500000,
          926144,
          3200000,
          4100000,
          1490325,
          14000000,
          2000000
         ],
         "xaxis": "x",
         "yaxis": "y"
        }
       ],
       "layout": {
        "barmode": "relative",
        "legend": {
         "tracegroupgap": 0
        },
        "template": {
         "data": {
          "bar": [
           {
            "error_x": {
             "color": "#2a3f5f"
            },
            "error_y": {
             "color": "#2a3f5f"
            },
            "marker": {
             "line": {
              "color": "#E5ECF6",
              "width": 0.5
             },
             "pattern": {
              "fillmode": "overlay",
              "size": 10,
              "solidity": 0.2
             }
            },
            "type": "bar"
           }
          ],
          "barpolar": [
           {
            "marker": {
             "line": {
              "color": "#E5ECF6",
              "width": 0.5
             },
             "pattern": {
              "fillmode": "overlay",
              "size": 10,
              "solidity": 0.2
             }
            },
            "type": "barpolar"
           }
          ],
          "carpet": [
           {
            "aaxis": {
             "endlinecolor": "#2a3f5f",
             "gridcolor": "white",
             "linecolor": "white",
             "minorgridcolor": "white",
             "startlinecolor": "#2a3f5f"
            },
            "baxis": {
             "endlinecolor": "#2a3f5f",
             "gridcolor": "white",
             "linecolor": "white",
             "minorgridcolor": "white",
             "startlinecolor": "#2a3f5f"
            },
            "type": "carpet"
           }
          ],
          "choropleth": [
           {
            "colorbar": {
             "outlinewidth": 0,
             "ticks": ""
            },
            "type": "choropleth"
           }
          ],
          "contour": [
           {
            "colorbar": {
             "outlinewidth": 0,
             "ticks": ""
            },
            "colorscale": [
             [
              0,
              "#0d0887"
             ],
             [
              0.1111111111111111,
              "#46039f"
             ],
             [
              0.2222222222222222,
              "#7201a8"
             ],
             [
              0.3333333333333333,
              "#9c179e"
             ],
             [
              0.4444444444444444,
              "#bd3786"
             ],
             [
              0.5555555555555556,
              "#d8576b"
             ],
             [
              0.6666666666666666,
              "#ed7953"
             ],
             [
              0.7777777777777778,
              "#fb9f3a"
             ],
             [
              0.8888888888888888,
              "#fdca26"
             ],
             [
              1,
              "#f0f921"
             ]
            ],
            "type": "contour"
           }
          ],
          "contourcarpet": [
           {
            "colorbar": {
             "outlinewidth": 0,
             "ticks": ""
            },
            "type": "contourcarpet"
           }
          ],
          "heatmap": [
           {
            "colorbar": {
             "outlinewidth": 0,
             "ticks": ""
            },
            "colorscale": [
             [
              0,
              "#0d0887"
             ],
             [
              0.1111111111111111,
              "#46039f"
             ],
             [
              0.2222222222222222,
              "#7201a8"
             ],
             [
              0.3333333333333333,
              "#9c179e"
             ],
             [
              0.4444444444444444,
              "#bd3786"
             ],
             [
              0.5555555555555556,
              "#d8576b"
             ],
             [
              0.6666666666666666,
              "#ed7953"
             ],
             [
              0.7777777777777778,
              "#fb9f3a"
             ],
             [
              0.8888888888888888,
              "#fdca26"
             ],
             [
              1,
              "#f0f921"
             ]
            ],
            "type": "heatmap"
           }
          ],
          "heatmapgl": [
           {
            "colorbar": {
             "outlinewidth": 0,
             "ticks": ""
            },
            "colorscale": [
             [
              0,
              "#0d0887"
             ],
             [
              0.1111111111111111,
              "#46039f"
             ],
             [
              0.2222222222222222,
              "#7201a8"
             ],
             [
              0.3333333333333333,
              "#9c179e"
             ],
             [
              0.4444444444444444,
              "#bd3786"
             ],
             [
              0.5555555555555556,
              "#d8576b"
             ],
             [
              0.6666666666666666,
              "#ed7953"
             ],
             [
              0.7777777777777778,
              "#fb9f3a"
             ],
             [
              0.8888888888888888,
              "#fdca26"
             ],
             [
              1,
              "#f0f921"
             ]
            ],
            "type": "heatmapgl"
           }
          ],
          "histogram": [
           {
            "marker": {
             "pattern": {
              "fillmode": "overlay",
              "size": 10,
              "solidity": 0.2
             }
            },
            "type": "histogram"
           }
          ],
          "histogram2d": [
           {
            "colorbar": {
             "outlinewidth": 0,
             "ticks": ""
            },
            "colorscale": [
             [
              0,
              "#0d0887"
             ],
             [
              0.1111111111111111,
              "#46039f"
             ],
             [
              0.2222222222222222,
              "#7201a8"
             ],
             [
              0.3333333333333333,
              "#9c179e"
             ],
             [
              0.4444444444444444,
              "#bd3786"
             ],
             [
              0.5555555555555556,
              "#d8576b"
             ],
             [
              0.6666666666666666,
              "#ed7953"
             ],
             [
              0.7777777777777778,
              "#fb9f3a"
             ],
             [
              0.8888888888888888,
              "#fdca26"
             ],
             [
              1,
              "#f0f921"
             ]
            ],
            "type": "histogram2d"
           }
          ],
          "histogram2dcontour": [
           {
            "colorbar": {
             "outlinewidth": 0,
             "ticks": ""
            },
            "colorscale": [
             [
              0,
              "#0d0887"
             ],
             [
              0.1111111111111111,
              "#46039f"
             ],
             [
              0.2222222222222222,
              "#7201a8"
             ],
             [
              0.3333333333333333,
              "#9c179e"
             ],
             [
              0.4444444444444444,
              "#bd3786"
             ],
             [
              0.5555555555555556,
              "#d8576b"
             ],
             [
              0.6666666666666666,
              "#ed7953"
             ],
             [
              0.7777777777777778,
              "#fb9f3a"
             ],
             [
              0.8888888888888888,
              "#fdca26"
             ],
             [
              1,
              "#f0f921"
             ]
            ],
            "type": "histogram2dcontour"
           }
          ],
          "mesh3d": [
           {
            "colorbar": {
             "outlinewidth": 0,
             "ticks": ""
            },
            "type": "mesh3d"
           }
          ],
          "parcoords": [
           {
            "line": {
             "colorbar": {
              "outlinewidth": 0,
              "ticks": ""
             }
            },
            "type": "parcoords"
           }
          ],
          "pie": [
           {
            "automargin": true,
            "type": "pie"
           }
          ],
          "scatter": [
           {
            "fillpattern": {
             "fillmode": "overlay",
             "size": 10,
             "solidity": 0.2
            },
            "type": "scatter"
           }
          ],
          "scatter3d": [
           {
            "line": {
             "colorbar": {
              "outlinewidth": 0,
              "ticks": ""
             }
            },
            "marker": {
             "colorbar": {
              "outlinewidth": 0,
              "ticks": ""
             }
            },
            "type": "scatter3d"
           }
          ],
          "scattercarpet": [
           {
            "marker": {
             "colorbar": {
              "outlinewidth": 0,
              "ticks": ""
             }
            },
            "type": "scattercarpet"
           }
          ],
          "scattergeo": [
           {
            "marker": {
             "colorbar": {
              "outlinewidth": 0,
              "ticks": ""
             }
            },
            "type": "scattergeo"
           }
          ],
          "scattergl": [
           {
            "marker": {
             "colorbar": {
              "outlinewidth": 0,
              "ticks": ""
             }
            },
            "type": "scattergl"
           }
          ],
          "scattermapbox": [
           {
            "marker": {
             "colorbar": {
              "outlinewidth": 0,
              "ticks": ""
             }
            },
            "type": "scattermapbox"
           }
          ],
          "scatterpolar": [
           {
            "marker": {
             "colorbar": {
              "outlinewidth": 0,
              "ticks": ""
             }
            },
            "type": "scatterpolar"
           }
          ],
          "scatterpolargl": [
           {
            "marker": {
             "colorbar": {
              "outlinewidth": 0,
              "ticks": ""
             }
            },
            "type": "scatterpolargl"
           }
          ],
          "scatterternary": [
           {
            "marker": {
             "colorbar": {
              "outlinewidth": 0,
              "ticks": ""
             }
            },
            "type": "scatterternary"
           }
          ],
          "surface": [
           {
            "colorbar": {
             "outlinewidth": 0,
             "ticks": ""
            },
            "colorscale": [
             [
              0,
              "#0d0887"
             ],
             [
              0.1111111111111111,
              "#46039f"
             ],
             [
              0.2222222222222222,
              "#7201a8"
             ],
             [
              0.3333333333333333,
              "#9c179e"
             ],
             [
              0.4444444444444444,
              "#bd3786"
             ],
             [
              0.5555555555555556,
              "#d8576b"
             ],
             [
              0.6666666666666666,
              "#ed7953"
             ],
             [
              0.7777777777777778,
              "#fb9f3a"
             ],
             [
              0.8888888888888888,
              "#fdca26"
             ],
             [
              1,
              "#f0f921"
             ]
            ],
            "type": "surface"
           }
          ],
          "table": [
           {
            "cells": {
             "fill": {
              "color": "#EBF0F8"
             },
             "line": {
              "color": "white"
             }
            },
            "header": {
             "fill": {
              "color": "#C8D4E3"
             },
             "line": {
              "color": "white"
             }
            },
            "type": "table"
           }
          ]
         },
         "layout": {
          "annotationdefaults": {
           "arrowcolor": "#2a3f5f",
           "arrowhead": 0,
           "arrowwidth": 1
          },
          "autotypenumbers": "strict",
          "coloraxis": {
           "colorbar": {
            "outlinewidth": 0,
            "ticks": ""
           }
          },
          "colorscale": {
           "diverging": [
            [
             0,
             "#8e0152"
            ],
            [
             0.1,
             "#c51b7d"
            ],
            [
             0.2,
             "#de77ae"
            ],
            [
             0.3,
             "#f1b6da"
            ],
            [
             0.4,
             "#fde0ef"
            ],
            [
             0.5,
             "#f7f7f7"
            ],
            [
             0.6,
             "#e6f5d0"
            ],
            [
             0.7,
             "#b8e186"
            ],
            [
             0.8,
             "#7fbc41"
            ],
            [
             0.9,
             "#4d9221"
            ],
            [
             1,
             "#276419"
            ]
           ],
           "sequential": [
            [
             0,
             "#0d0887"
            ],
            [
             0.1111111111111111,
             "#46039f"
            ],
            [
             0.2222222222222222,
             "#7201a8"
            ],
            [
             0.3333333333333333,
             "#9c179e"
            ],
            [
             0.4444444444444444,
             "#bd3786"
            ],
            [
             0.5555555555555556,
             "#d8576b"
            ],
            [
             0.6666666666666666,
             "#ed7953"
            ],
            [
             0.7777777777777778,
             "#fb9f3a"
            ],
            [
             0.8888888888888888,
             "#fdca26"
            ],
            [
             1,
             "#f0f921"
            ]
           ],
           "sequentialminus": [
            [
             0,
             "#0d0887"
            ],
            [
             0.1111111111111111,
             "#46039f"
            ],
            [
             0.2222222222222222,
             "#7201a8"
            ],
            [
             0.3333333333333333,
             "#9c179e"
            ],
            [
             0.4444444444444444,
             "#bd3786"
            ],
            [
             0.5555555555555556,
             "#d8576b"
            ],
            [
             0.6666666666666666,
             "#ed7953"
            ],
            [
             0.7777777777777778,
             "#fb9f3a"
            ],
            [
             0.8888888888888888,
             "#fdca26"
            ],
            [
             1,
             "#f0f921"
            ]
           ]
          },
          "colorway": [
           "#636efa",
           "#EF553B",
           "#00cc96",
           "#ab63fa",
           "#FFA15A",
           "#19d3f3",
           "#FF6692",
           "#B6E880",
           "#FF97FF",
           "#FECB52"
          ],
          "font": {
           "color": "#2a3f5f"
          },
          "geo": {
           "bgcolor": "white",
           "lakecolor": "white",
           "landcolor": "#E5ECF6",
           "showlakes": true,
           "showland": true,
           "subunitcolor": "white"
          },
          "hoverlabel": {
           "align": "left"
          },
          "hovermode": "closest",
          "mapbox": {
           "style": "light"
          },
          "paper_bgcolor": "white",
          "plot_bgcolor": "#E5ECF6",
          "polar": {
           "angularaxis": {
            "gridcolor": "white",
            "linecolor": "white",
            "ticks": ""
           },
           "bgcolor": "#E5ECF6",
           "radialaxis": {
            "gridcolor": "white",
            "linecolor": "white",
            "ticks": ""
           }
          },
          "scene": {
           "xaxis": {
            "backgroundcolor": "#E5ECF6",
            "gridcolor": "white",
            "gridwidth": 2,
            "linecolor": "white",
            "showbackground": true,
            "ticks": "",
            "zerolinecolor": "white"
           },
           "yaxis": {
            "backgroundcolor": "#E5ECF6",
            "gridcolor": "white",
            "gridwidth": 2,
            "linecolor": "white",
            "showbackground": true,
            "ticks": "",
            "zerolinecolor": "white"
           },
           "zaxis": {
            "backgroundcolor": "#E5ECF6",
            "gridcolor": "white",
            "gridwidth": 2,
            "linecolor": "white",
            "showbackground": true,
            "ticks": "",
            "zerolinecolor": "white"
           }
          },
          "shapedefaults": {
           "line": {
            "color": "#2a3f5f"
           }
          },
          "ternary": {
           "aaxis": {
            "gridcolor": "white",
            "linecolor": "white",
            "ticks": ""
           },
           "baxis": {
            "gridcolor": "white",
            "linecolor": "white",
            "ticks": ""
           },
           "bgcolor": "#E5ECF6",
           "caxis": {
            "gridcolor": "white",
            "linecolor": "white",
            "ticks": ""
           }
          },
          "title": {
           "x": 0.05
          },
          "xaxis": {
           "automargin": true,
           "gridcolor": "white",
           "linecolor": "white",
           "ticks": "",
           "title": {
            "standoff": 15
           },
           "zerolinecolor": "white",
           "zerolinewidth": 2
          },
          "yaxis": {
           "automargin": true,
           "gridcolor": "white",
           "linecolor": "white",
           "ticks": "",
           "title": {
            "standoff": 15
           },
           "zerolinecolor": "white",
           "zerolinewidth": 2
          }
         }
        },
        "title": {
         "text": "Actual Worth Distribution (Last 5 Years)"
        },
        "xaxis": {
         "anchor": "y",
         "domain": [
          0,
          1
         ],
         "title": {
          "text": "Worth (AED)"
         }
        },
        "yaxis": {
         "anchor": "x",
         "domain": [
          0,
          1
         ],
         "title": {
          "text": "count"
         }
        }
       }
      }
     },
     "metadata": {},
     "output_type": "display_data"
    }
   ],
   "source": [
    "# Actual Worth Distribution\n",
    "worth_fig = px.histogram(transactions_satwa_filtered_5y, \n",
    "                         x='actual_worth', \n",
    "                         nbins=50,\n",
    "                         title=\"Actual Worth Distribution (Last 5 Years)\",\n",
    "                         labels={'actual_worth': 'Worth (AED)'})\n",
    "worth_fig.write_image(f\"{output_dir}/actual_worth_distribution_5_years.png\")\n",
    "worth_fig.show()"
   ]
  },
  {
   "cell_type": "code",
   "execution_count": 106,
   "metadata": {},
   "outputs": [
    {
     "data": {
      "text/plain": [
       "count    2.070000e+02\n",
       "mean     2.891224e+06\n",
       "std      4.915825e+06\n",
       "min      3.060000e+05\n",
       "25%      1.149000e+06\n",
       "50%      1.865000e+06\n",
       "75%      3.000000e+06\n",
       "max      6.500000e+07\n",
       "Name: actual_worth, dtype: float64"
      ]
     },
     "execution_count": 106,
     "metadata": {},
     "output_type": "execute_result"
    }
   ],
   "source": [
    "transactions_satwa_filtered_5y['actual_worth'].describe()"
   ]
  },
  {
   "cell_type": "markdown",
   "metadata": {},
   "source": [
    "**Actual Worth Distribution**:\n",
    "\n",
    "1. **Concentration of Properties in the Lower Range**:\n",
    "\n",
    "\t- The majority of properties are concentrated in the lower price range, specifically between 300,000 AED and 10 million AED, as shown by the tall bar near the lower end of the distribution.\n",
    "\n",
    "\t- This indicates that most properties in the last five years have an actual worth of **less than 10 million AED**, with a significant clustering below 5 million AED. This suggests that the market has a high volume of **mid-range residential properties**, such as average-sized villas and units.\n",
    "\n",
    "2. **Outliers and High-Value Properties**:\n",
    "\n",
    "\t- There are a few **outliers** in the dataset, with property values reaching as high as **65 million AED**. These represent ultra-luxury properties, but they are relatively rare.\n",
    "\n",
    "\t- While the mean actual worth is approximately **2.89 million AED**, the presence of high-value outliers inflates this average. The **median** (1.865 million AED) is a better representation of typical properties in this dataset.\n",
    "\n",
    "3. **Price Range Spread**:\n",
    "\n",
    "\t- The **standard deviation** is **4.92 million AED**, indicating a wide spread of property values, from lower-end to high-end properties.\n",
    "\n",
    "\t- The **upper quartile** (75th percentile) is **3 million AED**, showing that only the top 25% of properties exceed this value, while 75% of the properties are valued below it.\n",
    "\n",
    "4. **Luxury Market Potential**:\n",
    "\n",
    "\t- The properties worth more than **20 million AED** are rare, signaling an exclusive high-end market. These properties could represent luxury villas or prime-location units, and targeting this niche could yield significant returns for agents who focus on premium property sales."
   ]
  },
  {
   "cell_type": "markdown",
   "metadata": {},
   "source": [
    "### Removing Outliers"
   ]
  },
  {
   "cell_type": "code",
   "execution_count": 107,
   "metadata": {},
   "outputs": [
    {
     "data": {
      "text/html": [
       "<div>\n",
       "<style scoped>\n",
       "    .dataframe tbody tr th:only-of-type {\n",
       "        vertical-align: middle;\n",
       "    }\n",
       "\n",
       "    .dataframe tbody tr th {\n",
       "        vertical-align: top;\n",
       "    }\n",
       "\n",
       "    .dataframe thead th {\n",
       "        text-align: right;\n",
       "    }\n",
       "</style>\n",
       "<table border=\"1\" class=\"dataframe\">\n",
       "  <thead>\n",
       "    <tr style=\"text-align: right;\">\n",
       "      <th></th>\n",
       "      <th>transaction_id</th>\n",
       "      <th>instance_date</th>\n",
       "      <th>trans_group_id</th>\n",
       "      <th>trans_group_en</th>\n",
       "      <th>trans_group_ar</th>\n",
       "      <th>procedure_id</th>\n",
       "      <th>procedure_name_en</th>\n",
       "      <th>procedure_name_ar</th>\n",
       "      <th>property_type_id</th>\n",
       "      <th>property_type_en</th>\n",
       "      <th>property_type_ar</th>\n",
       "      <th>property_sub_type_id</th>\n",
       "      <th>property_sub_type_en</th>\n",
       "      <th>property_usage_en</th>\n",
       "      <th>property_usage_ar</th>\n",
       "      <th>reg_type_id</th>\n",
       "      <th>reg_type_en</th>\n",
       "      <th>reg_type_ar</th>\n",
       "      <th>area_id</th>\n",
       "      <th>area_name_en</th>\n",
       "      <th>area_name_ar</th>\n",
       "      <th>master_project_en</th>\n",
       "      <th>master_project_ar</th>\n",
       "      <th>project_number</th>\n",
       "      <th>project_name_en</th>\n",
       "      <th>project_name_ar</th>\n",
       "      <th>building_name_en</th>\n",
       "      <th>building_name_ar</th>\n",
       "      <th>rooms_en</th>\n",
       "      <th>rooms_ar</th>\n",
       "      <th>has_parking</th>\n",
       "      <th>procedure_area</th>\n",
       "      <th>meter_sale_price</th>\n",
       "      <th>actual_worth</th>\n",
       "    </tr>\n",
       "  </thead>\n",
       "  <tbody>\n",
       "    <tr>\n",
       "      <th>1311413</th>\n",
       "      <td>1-11-2020-2969</td>\n",
       "      <td>2020-03-12</td>\n",
       "      <td>1</td>\n",
       "      <td>Sales</td>\n",
       "      <td>مبايعات</td>\n",
       "      <td>11</td>\n",
       "      <td>Sell</td>\n",
       "      <td>بيع</td>\n",
       "      <td>4</td>\n",
       "      <td>Villa</td>\n",
       "      <td>فيلا</td>\n",
       "      <td>NaN</td>\n",
       "      <td>NaN</td>\n",
       "      <td>Residential</td>\n",
       "      <td>سكني</td>\n",
       "      <td>1</td>\n",
       "      <td>Existing Properties</td>\n",
       "      <td>العقارات القائمة</td>\n",
       "      <td>266</td>\n",
       "      <td>Al Satwa</td>\n",
       "      <td>السطوه</td>\n",
       "      <td>NaN</td>\n",
       "      <td>NaN</td>\n",
       "      <td>NaN</td>\n",
       "      <td>NaN</td>\n",
       "      <td>NaN</td>\n",
       "      <td>NaN</td>\n",
       "      <td>NaN</td>\n",
       "      <td>NaN</td>\n",
       "      <td>NaN</td>\n",
       "      <td>0</td>\n",
       "      <td>594.58</td>\n",
       "      <td>3363.72</td>\n",
       "      <td>2000000.0</td>\n",
       "    </tr>\n",
       "    <tr>\n",
       "      <th>420212</th>\n",
       "      <td>1-102-2024-7536</td>\n",
       "      <td>2024-02-07</td>\n",
       "      <td>1</td>\n",
       "      <td>Sales</td>\n",
       "      <td>مبايعات</td>\n",
       "      <td>102</td>\n",
       "      <td>Sell - Pre registration</td>\n",
       "      <td>بيع - تسجيل مبدئى</td>\n",
       "      <td>3</td>\n",
       "      <td>Unit</td>\n",
       "      <td>وحدة</td>\n",
       "      <td>60.0</td>\n",
       "      <td>Flat</td>\n",
       "      <td>Residential</td>\n",
       "      <td>سكني</td>\n",
       "      <td>0</td>\n",
       "      <td>Off-Plan Properties</td>\n",
       "      <td>على الخارطة</td>\n",
       "      <td>266</td>\n",
       "      <td>Al Satwa</td>\n",
       "      <td>السطوه</td>\n",
       "      <td>Jumeriah Garden City</td>\n",
       "      <td>جميرا جاردن ستي</td>\n",
       "      <td>2860.0</td>\n",
       "      <td>Hyde Walk Residence by Imtiaz</td>\n",
       "      <td>هايد ووك ريزيدنس من امتياز</td>\n",
       "      <td>HYDE WALK RESIDENCE BY IMTIAZ</td>\n",
       "      <td>هايد ووك ريزيدنس من امتياز</td>\n",
       "      <td>Studio</td>\n",
       "      <td>استوديو</td>\n",
       "      <td>1</td>\n",
       "      <td>39.59</td>\n",
       "      <td>26016.67</td>\n",
       "      <td>1030000.0</td>\n",
       "    </tr>\n",
       "    <tr>\n",
       "      <th>748949</th>\n",
       "      <td>1-102-2024-14041</td>\n",
       "      <td>2024-03-07</td>\n",
       "      <td>1</td>\n",
       "      <td>Sales</td>\n",
       "      <td>مبايعات</td>\n",
       "      <td>102</td>\n",
       "      <td>Sell - Pre registration</td>\n",
       "      <td>بيع - تسجيل مبدئى</td>\n",
       "      <td>3</td>\n",
       "      <td>Unit</td>\n",
       "      <td>وحدة</td>\n",
       "      <td>60.0</td>\n",
       "      <td>Flat</td>\n",
       "      <td>Residential</td>\n",
       "      <td>سكني</td>\n",
       "      <td>0</td>\n",
       "      <td>Off-Plan Properties</td>\n",
       "      <td>على الخارطة</td>\n",
       "      <td>266</td>\n",
       "      <td>Al Satwa</td>\n",
       "      <td>السطوه</td>\n",
       "      <td>Jumeriah Garden City</td>\n",
       "      <td>جميرا جاردن ستي</td>\n",
       "      <td>2860.0</td>\n",
       "      <td>Hyde Walk Residence by Imtiaz</td>\n",
       "      <td>هايد ووك ريزيدنس من امتياز</td>\n",
       "      <td>HYDE WALK RESIDENCE BY IMTIAZ</td>\n",
       "      <td>هايد ووك ريزيدنس من امتياز</td>\n",
       "      <td>1 B/R</td>\n",
       "      <td>غرفة</td>\n",
       "      <td>1</td>\n",
       "      <td>87.56</td>\n",
       "      <td>21687.99</td>\n",
       "      <td>1899000.0</td>\n",
       "    </tr>\n",
       "    <tr>\n",
       "      <th>366743</th>\n",
       "      <td>1-102-2024-70498</td>\n",
       "      <td>2024-09-11</td>\n",
       "      <td>1</td>\n",
       "      <td>Sales</td>\n",
       "      <td>مبايعات</td>\n",
       "      <td>102</td>\n",
       "      <td>Sell - Pre registration</td>\n",
       "      <td>بيع - تسجيل مبدئى</td>\n",
       "      <td>3</td>\n",
       "      <td>Unit</td>\n",
       "      <td>وحدة</td>\n",
       "      <td>60.0</td>\n",
       "      <td>Flat</td>\n",
       "      <td>Residential</td>\n",
       "      <td>سكني</td>\n",
       "      <td>0</td>\n",
       "      <td>Off-Plan Properties</td>\n",
       "      <td>على الخارطة</td>\n",
       "      <td>266</td>\n",
       "      <td>Al Satwa</td>\n",
       "      <td>السطوه</td>\n",
       "      <td>Jumeriah Garden City</td>\n",
       "      <td>جميرا جاردن ستي</td>\n",
       "      <td>3061.0</td>\n",
       "      <td>Jardin Astral</td>\n",
       "      <td>جردن أسترل</td>\n",
       "      <td>Jardin Astral</td>\n",
       "      <td>جردن أسترل</td>\n",
       "      <td>2 B/R</td>\n",
       "      <td>غرفتين</td>\n",
       "      <td>1</td>\n",
       "      <td>135.21</td>\n",
       "      <td>20338.73</td>\n",
       "      <td>2750000.0</td>\n",
       "    </tr>\n",
       "    <tr>\n",
       "      <th>983835</th>\n",
       "      <td>1-11-2020-856</td>\n",
       "      <td>2020-01-23</td>\n",
       "      <td>1</td>\n",
       "      <td>Sales</td>\n",
       "      <td>مبايعات</td>\n",
       "      <td>11</td>\n",
       "      <td>Sell</td>\n",
       "      <td>بيع</td>\n",
       "      <td>4</td>\n",
       "      <td>Villa</td>\n",
       "      <td>فيلا</td>\n",
       "      <td>NaN</td>\n",
       "      <td>NaN</td>\n",
       "      <td>Residential</td>\n",
       "      <td>سكني</td>\n",
       "      <td>1</td>\n",
       "      <td>Existing Properties</td>\n",
       "      <td>العقارات القائمة</td>\n",
       "      <td>266</td>\n",
       "      <td>Al Satwa</td>\n",
       "      <td>السطوه</td>\n",
       "      <td>NaN</td>\n",
       "      <td>NaN</td>\n",
       "      <td>NaN</td>\n",
       "      <td>NaN</td>\n",
       "      <td>NaN</td>\n",
       "      <td>NaN</td>\n",
       "      <td>NaN</td>\n",
       "      <td>NaN</td>\n",
       "      <td>NaN</td>\n",
       "      <td>0</td>\n",
       "      <td>234.39</td>\n",
       "      <td>8625.84</td>\n",
       "      <td>2021810.0</td>\n",
       "    </tr>\n",
       "    <tr>\n",
       "      <th>1272518</th>\n",
       "      <td>1-11-2023-2688</td>\n",
       "      <td>2023-02-06</td>\n",
       "      <td>1</td>\n",
       "      <td>Sales</td>\n",
       "      <td>مبايعات</td>\n",
       "      <td>11</td>\n",
       "      <td>Sell</td>\n",
       "      <td>بيع</td>\n",
       "      <td>4</td>\n",
       "      <td>Villa</td>\n",
       "      <td>فيلا</td>\n",
       "      <td>NaN</td>\n",
       "      <td>NaN</td>\n",
       "      <td>Residential</td>\n",
       "      <td>سكني</td>\n",
       "      <td>1</td>\n",
       "      <td>Existing Properties</td>\n",
       "      <td>العقارات القائمة</td>\n",
       "      <td>266</td>\n",
       "      <td>Al Satwa</td>\n",
       "      <td>السطوه</td>\n",
       "      <td>NaN</td>\n",
       "      <td>NaN</td>\n",
       "      <td>NaN</td>\n",
       "      <td>NaN</td>\n",
       "      <td>NaN</td>\n",
       "      <td>NaN</td>\n",
       "      <td>NaN</td>\n",
       "      <td>NaN</td>\n",
       "      <td>NaN</td>\n",
       "      <td>0</td>\n",
       "      <td>227.61</td>\n",
       "      <td>18013.27</td>\n",
       "      <td>4100000.0</td>\n",
       "    </tr>\n",
       "    <tr>\n",
       "      <th>769453</th>\n",
       "      <td>1-102-2024-9444</td>\n",
       "      <td>2024-02-16</td>\n",
       "      <td>1</td>\n",
       "      <td>Sales</td>\n",
       "      <td>مبايعات</td>\n",
       "      <td>102</td>\n",
       "      <td>Sell - Pre registration</td>\n",
       "      <td>بيع - تسجيل مبدئى</td>\n",
       "      <td>3</td>\n",
       "      <td>Unit</td>\n",
       "      <td>وحدة</td>\n",
       "      <td>60.0</td>\n",
       "      <td>Flat</td>\n",
       "      <td>Residential</td>\n",
       "      <td>سكني</td>\n",
       "      <td>0</td>\n",
       "      <td>Off-Plan Properties</td>\n",
       "      <td>على الخارطة</td>\n",
       "      <td>266</td>\n",
       "      <td>Al Satwa</td>\n",
       "      <td>السطوه</td>\n",
       "      <td>Jumeriah Garden City</td>\n",
       "      <td>جميرا جاردن ستي</td>\n",
       "      <td>2860.0</td>\n",
       "      <td>Hyde Walk Residence by Imtiaz</td>\n",
       "      <td>هايد ووك ريزيدنس من امتياز</td>\n",
       "      <td>HYDE WALK RESIDENCE BY IMTIAZ</td>\n",
       "      <td>هايد ووك ريزيدنس من امتياز</td>\n",
       "      <td>1 B/R</td>\n",
       "      <td>غرفة</td>\n",
       "      <td>1</td>\n",
       "      <td>87.31</td>\n",
       "      <td>17050.11</td>\n",
       "      <td>1488645.0</td>\n",
       "    </tr>\n",
       "    <tr>\n",
       "      <th>636973</th>\n",
       "      <td>1-11-2022-3859</td>\n",
       "      <td>2022-03-01</td>\n",
       "      <td>1</td>\n",
       "      <td>Sales</td>\n",
       "      <td>مبايعات</td>\n",
       "      <td>11</td>\n",
       "      <td>Sell</td>\n",
       "      <td>بيع</td>\n",
       "      <td>4</td>\n",
       "      <td>Villa</td>\n",
       "      <td>فيلا</td>\n",
       "      <td>NaN</td>\n",
       "      <td>NaN</td>\n",
       "      <td>Residential</td>\n",
       "      <td>سكني</td>\n",
       "      <td>1</td>\n",
       "      <td>Existing Properties</td>\n",
       "      <td>العقارات القائمة</td>\n",
       "      <td>266</td>\n",
       "      <td>Al Satwa</td>\n",
       "      <td>السطوه</td>\n",
       "      <td>NaN</td>\n",
       "      <td>NaN</td>\n",
       "      <td>NaN</td>\n",
       "      <td>NaN</td>\n",
       "      <td>NaN</td>\n",
       "      <td>NaN</td>\n",
       "      <td>NaN</td>\n",
       "      <td>NaN</td>\n",
       "      <td>NaN</td>\n",
       "      <td>0</td>\n",
       "      <td>1393.55</td>\n",
       "      <td>6099.53</td>\n",
       "      <td>8500000.0</td>\n",
       "    </tr>\n",
       "    <tr>\n",
       "      <th>461197</th>\n",
       "      <td>1-102-2024-60563</td>\n",
       "      <td>2024-08-13</td>\n",
       "      <td>1</td>\n",
       "      <td>Sales</td>\n",
       "      <td>مبايعات</td>\n",
       "      <td>102</td>\n",
       "      <td>Sell - Pre registration</td>\n",
       "      <td>بيع - تسجيل مبدئى</td>\n",
       "      <td>3</td>\n",
       "      <td>Unit</td>\n",
       "      <td>وحدة</td>\n",
       "      <td>60.0</td>\n",
       "      <td>Flat</td>\n",
       "      <td>Residential</td>\n",
       "      <td>سكني</td>\n",
       "      <td>0</td>\n",
       "      <td>Off-Plan Properties</td>\n",
       "      <td>على الخارطة</td>\n",
       "      <td>266</td>\n",
       "      <td>Al Satwa</td>\n",
       "      <td>السطوه</td>\n",
       "      <td>Jumeriah Garden City</td>\n",
       "      <td>جميرا جاردن ستي</td>\n",
       "      <td>3046.0</td>\n",
       "      <td>The Grandala</td>\n",
       "      <td>جراندالا</td>\n",
       "      <td>The Grandala</td>\n",
       "      <td>ذا جراندالا</td>\n",
       "      <td>Studio</td>\n",
       "      <td>استوديو</td>\n",
       "      <td>1</td>\n",
       "      <td>46.42</td>\n",
       "      <td>18071.52</td>\n",
       "      <td>838880.0</td>\n",
       "    </tr>\n",
       "    <tr>\n",
       "      <th>1078232</th>\n",
       "      <td>1-102-2024-10047</td>\n",
       "      <td>2024-02-20</td>\n",
       "      <td>1</td>\n",
       "      <td>Sales</td>\n",
       "      <td>مبايعات</td>\n",
       "      <td>102</td>\n",
       "      <td>Sell - Pre registration</td>\n",
       "      <td>بيع - تسجيل مبدئى</td>\n",
       "      <td>3</td>\n",
       "      <td>Unit</td>\n",
       "      <td>وحدة</td>\n",
       "      <td>60.0</td>\n",
       "      <td>Flat</td>\n",
       "      <td>Residential</td>\n",
       "      <td>سكني</td>\n",
       "      <td>0</td>\n",
       "      <td>Off-Plan Properties</td>\n",
       "      <td>على الخارطة</td>\n",
       "      <td>266</td>\n",
       "      <td>Al Satwa</td>\n",
       "      <td>السطوه</td>\n",
       "      <td>Jumeriah Garden City</td>\n",
       "      <td>جميرا جاردن ستي</td>\n",
       "      <td>2860.0</td>\n",
       "      <td>Hyde Walk Residence by Imtiaz</td>\n",
       "      <td>هايد ووك ريزيدنس من امتياز</td>\n",
       "      <td>HYDE WALK RESIDENCE BY IMTIAZ</td>\n",
       "      <td>هايد ووك ريزيدنس من امتياز</td>\n",
       "      <td>1 B/R</td>\n",
       "      <td>غرفة</td>\n",
       "      <td>1</td>\n",
       "      <td>87.31</td>\n",
       "      <td>21360.67</td>\n",
       "      <td>1865000.0</td>\n",
       "    </tr>\n",
       "  </tbody>\n",
       "</table>\n",
       "</div>"
      ],
      "text/plain": [
       "           transaction_id instance_date  trans_group_id trans_group_en  \\\n",
       "1311413    1-11-2020-2969    2020-03-12               1          Sales   \n",
       "420212    1-102-2024-7536    2024-02-07               1          Sales   \n",
       "748949   1-102-2024-14041    2024-03-07               1          Sales   \n",
       "366743   1-102-2024-70498    2024-09-11               1          Sales   \n",
       "983835      1-11-2020-856    2020-01-23               1          Sales   \n",
       "1272518    1-11-2023-2688    2023-02-06               1          Sales   \n",
       "769453    1-102-2024-9444    2024-02-16               1          Sales   \n",
       "636973     1-11-2022-3859    2022-03-01               1          Sales   \n",
       "461197   1-102-2024-60563    2024-08-13               1          Sales   \n",
       "1078232  1-102-2024-10047    2024-02-20               1          Sales   \n",
       "\n",
       "        trans_group_ar  procedure_id        procedure_name_en  \\\n",
       "1311413        مبايعات            11                     Sell   \n",
       "420212         مبايعات           102  Sell - Pre registration   \n",
       "748949         مبايعات           102  Sell - Pre registration   \n",
       "366743         مبايعات           102  Sell - Pre registration   \n",
       "983835         مبايعات            11                     Sell   \n",
       "1272518        مبايعات            11                     Sell   \n",
       "769453         مبايعات           102  Sell - Pre registration   \n",
       "636973         مبايعات            11                     Sell   \n",
       "461197         مبايعات           102  Sell - Pre registration   \n",
       "1078232        مبايعات           102  Sell - Pre registration   \n",
       "\n",
       "         procedure_name_ar  property_type_id property_type_en  \\\n",
       "1311413                بيع                 4            Villa   \n",
       "420212   بيع - تسجيل مبدئى                 3             Unit   \n",
       "748949   بيع - تسجيل مبدئى                 3             Unit   \n",
       "366743   بيع - تسجيل مبدئى                 3             Unit   \n",
       "983835                 بيع                 4            Villa   \n",
       "1272518                بيع                 4            Villa   \n",
       "769453   بيع - تسجيل مبدئى                 3             Unit   \n",
       "636973                 بيع                 4            Villa   \n",
       "461197   بيع - تسجيل مبدئى                 3             Unit   \n",
       "1078232  بيع - تسجيل مبدئى                 3             Unit   \n",
       "\n",
       "        property_type_ar  property_sub_type_id property_sub_type_en  \\\n",
       "1311413             فيلا                   NaN                  NaN   \n",
       "420212              وحدة                  60.0                 Flat   \n",
       "748949              وحدة                  60.0                 Flat   \n",
       "366743              وحدة                  60.0                 Flat   \n",
       "983835              فيلا                   NaN                  NaN   \n",
       "1272518             فيلا                   NaN                  NaN   \n",
       "769453              وحدة                  60.0                 Flat   \n",
       "636973              فيلا                   NaN                  NaN   \n",
       "461197              وحدة                  60.0                 Flat   \n",
       "1078232             وحدة                  60.0                 Flat   \n",
       "\n",
       "        property_usage_en property_usage_ar  reg_type_id          reg_type_en  \\\n",
       "1311413       Residential              سكني            1  Existing Properties   \n",
       "420212        Residential              سكني            0  Off-Plan Properties   \n",
       "748949        Residential              سكني            0  Off-Plan Properties   \n",
       "366743        Residential              سكني            0  Off-Plan Properties   \n",
       "983835        Residential              سكني            1  Existing Properties   \n",
       "1272518       Residential              سكني            1  Existing Properties   \n",
       "769453        Residential              سكني            0  Off-Plan Properties   \n",
       "636973        Residential              سكني            1  Existing Properties   \n",
       "461197        Residential              سكني            0  Off-Plan Properties   \n",
       "1078232       Residential              سكني            0  Off-Plan Properties   \n",
       "\n",
       "              reg_type_ar  area_id area_name_en area_name_ar  \\\n",
       "1311413  العقارات القائمة      266     Al Satwa       السطوه   \n",
       "420212        على الخارطة      266     Al Satwa       السطوه   \n",
       "748949        على الخارطة      266     Al Satwa       السطوه   \n",
       "366743        على الخارطة      266     Al Satwa       السطوه   \n",
       "983835   العقارات القائمة      266     Al Satwa       السطوه   \n",
       "1272518  العقارات القائمة      266     Al Satwa       السطوه   \n",
       "769453        على الخارطة      266     Al Satwa       السطوه   \n",
       "636973   العقارات القائمة      266     Al Satwa       السطوه   \n",
       "461197        على الخارطة      266     Al Satwa       السطوه   \n",
       "1078232       على الخارطة      266     Al Satwa       السطوه   \n",
       "\n",
       "            master_project_en master_project_ar  project_number  \\\n",
       "1311413                   NaN               NaN             NaN   \n",
       "420212   Jumeriah Garden City   جميرا جاردن ستي          2860.0   \n",
       "748949   Jumeriah Garden City   جميرا جاردن ستي          2860.0   \n",
       "366743   Jumeriah Garden City   جميرا جاردن ستي          3061.0   \n",
       "983835                    NaN               NaN             NaN   \n",
       "1272518                   NaN               NaN             NaN   \n",
       "769453   Jumeriah Garden City   جميرا جاردن ستي          2860.0   \n",
       "636973                    NaN               NaN             NaN   \n",
       "461197   Jumeriah Garden City   جميرا جاردن ستي          3046.0   \n",
       "1078232  Jumeriah Garden City   جميرا جاردن ستي          2860.0   \n",
       "\n",
       "                        project_name_en             project_name_ar  \\\n",
       "1311413                             NaN                         NaN   \n",
       "420212   Hyde Walk Residence by Imtiaz   هايد ووك ريزيدنس من امتياز   \n",
       "748949   Hyde Walk Residence by Imtiaz   هايد ووك ريزيدنس من امتياز   \n",
       "366743                    Jardin Astral                  جردن أسترل   \n",
       "983835                              NaN                         NaN   \n",
       "1272518                             NaN                         NaN   \n",
       "769453   Hyde Walk Residence by Imtiaz   هايد ووك ريزيدنس من امتياز   \n",
       "636973                              NaN                         NaN   \n",
       "461197                     The Grandala                    جراندالا   \n",
       "1078232  Hyde Walk Residence by Imtiaz   هايد ووك ريزيدنس من امتياز   \n",
       "\n",
       "                      building_name_en            building_name_ar rooms_en  \\\n",
       "1311413                            NaN                         NaN      NaN   \n",
       "420212   HYDE WALK RESIDENCE BY IMTIAZ  هايد ووك ريزيدنس من امتياز   Studio   \n",
       "748949   HYDE WALK RESIDENCE BY IMTIAZ  هايد ووك ريزيدنس من امتياز    1 B/R   \n",
       "366743                   Jardin Astral                  جردن أسترل    2 B/R   \n",
       "983835                             NaN                         NaN      NaN   \n",
       "1272518                            NaN                         NaN      NaN   \n",
       "769453   HYDE WALK RESIDENCE BY IMTIAZ  هايد ووك ريزيدنس من امتياز    1 B/R   \n",
       "636973                             NaN                         NaN      NaN   \n",
       "461197                    The Grandala                 ذا جراندالا   Studio   \n",
       "1078232  HYDE WALK RESIDENCE BY IMTIAZ  هايد ووك ريزيدنس من امتياز    1 B/R   \n",
       "\n",
       "        rooms_ar  has_parking  procedure_area  meter_sale_price  actual_worth  \n",
       "1311413      NaN            0          594.58           3363.72     2000000.0  \n",
       "420212   استوديو            1           39.59          26016.67     1030000.0  \n",
       "748949      غرفة            1           87.56          21687.99     1899000.0  \n",
       "366743    غرفتين            1          135.21          20338.73     2750000.0  \n",
       "983835       NaN            0          234.39           8625.84     2021810.0  \n",
       "1272518      NaN            0          227.61          18013.27     4100000.0  \n",
       "769453      غرفة            1           87.31          17050.11     1488645.0  \n",
       "636973       NaN            0         1393.55           6099.53     8500000.0  \n",
       "461197   استوديو            1           46.42          18071.52      838880.0  \n",
       "1078232     غرفة            1           87.31          21360.67     1865000.0  "
      ]
     },
     "metadata": {},
     "output_type": "display_data"
    }
   ],
   "source": [
    "display(transactions_satwa_filtered_5y.sample(10))"
   ]
  },
  {
   "cell_type": "code",
   "execution_count": 108,
   "metadata": {},
   "outputs": [
    {
     "data": {
      "text/plain": [
       "count     207.000000\n",
       "mean      235.690676\n",
       "std       702.775464\n",
       "min        25.400000\n",
       "25%        53.170000\n",
       "50%        89.640000\n",
       "75%       232.260000\n",
       "max      9606.800000\n",
       "Name: procedure_area, dtype: float64"
      ]
     },
     "execution_count": 108,
     "metadata": {},
     "output_type": "execute_result"
    }
   ],
   "source": [
    "# Statistical summary on the procedure_area column\n",
    "transactions_satwa_filtered_5y['procedure_area'].describe()"
   ]
  },
  {
   "cell_type": "code",
   "execution_count": 112,
   "metadata": {},
   "outputs": [
    {
     "data": {
      "text/plain": [
       "transaction_id               1-11-2020-9639\n",
       "instance_date           2020-10-27 00:00:00\n",
       "trans_group_id                            1\n",
       "trans_group_en                        Sales\n",
       "trans_group_ar                      مبايعات\n",
       "procedure_id                             11\n",
       "procedure_name_en                      Sell\n",
       "procedure_name_ar                       بيع\n",
       "property_type_id                          4\n",
       "property_type_en                      Villa\n",
       "property_type_ar                       فيلا\n",
       "property_sub_type_id                    NaN\n",
       "property_sub_type_en                    NaN\n",
       "property_usage_en               Residential\n",
       "property_usage_ar                      سكني\n",
       "reg_type_id                               1\n",
       "reg_type_en             Existing Properties\n",
       "reg_type_ar                العقارات القائمة\n",
       "area_id                                 266\n",
       "area_name_en                       Al Satwa\n",
       "area_name_ar                         السطوه\n",
       "master_project_en                       NaN\n",
       "master_project_ar                       NaN\n",
       "project_number                          NaN\n",
       "project_name_en                         NaN\n",
       "project_name_ar                         NaN\n",
       "building_name_en                        NaN\n",
       "building_name_ar                        NaN\n",
       "rooms_en                                NaN\n",
       "rooms_ar                                NaN\n",
       "has_parking                               0\n",
       "procedure_area                       9606.8\n",
       "meter_sale_price                    6766.04\n",
       "actual_worth                     65000000.0\n",
       "Name: 449973, dtype: object"
      ]
     },
     "execution_count": 112,
     "metadata": {},
     "output_type": "execute_result"
    }
   ],
   "source": [
    "# Locating the the observation where the procedure_area is 9606 sqm\n",
    "transactions_satwa_filtered_5y.loc[transactions_satwa_filtered_5y['procedure_area'].idxmax()]\n",
    "\n"
   ]
  },
  {
   "cell_type": "code",
   "execution_count": 113,
   "metadata": {},
   "outputs": [
    {
     "name": "stdout",
     "output_type": "stream",
     "text": [
      "count     206.000000\n",
      "mean      190.199854\n",
      "std       256.601058\n",
      "min        25.400000\n",
      "25%        52.400000\n",
      "50%        89.640000\n",
      "75%       232.260000\n",
      "max      1393.550000\n",
      "Name: procedure_area, dtype: float64\n"
     ]
    }
   ],
   "source": [
    "# Locate the row with the maximum procedure_area\n",
    "outlier_index = transactions_satwa_filtered_5y['procedure_area'].idxmax()\n",
    "\n",
    "# Remove the outlier from the dataset\n",
    "transactions_satwa_filtered_5y_no_outliers = transactions_satwa_filtered_5y.drop(outlier_index)\n",
    "\n",
    "# Confirm the removal by checking the updated statistics\n",
    "print(transactions_satwa_filtered_5y_no_outliers['procedure_area'].describe())"
   ]
  },
  {
   "cell_type": "code",
   "execution_count": 114,
   "metadata": {},
   "outputs": [
    {
     "data": {
      "text/html": [
       "<div>\n",
       "<style scoped>\n",
       "    .dataframe tbody tr th:only-of-type {\n",
       "        vertical-align: middle;\n",
       "    }\n",
       "\n",
       "    .dataframe tbody tr th {\n",
       "        vertical-align: top;\n",
       "    }\n",
       "\n",
       "    .dataframe thead th {\n",
       "        text-align: right;\n",
       "    }\n",
       "</style>\n",
       "<table border=\"1\" class=\"dataframe\">\n",
       "  <thead>\n",
       "    <tr style=\"text-align: right;\">\n",
       "      <th></th>\n",
       "      <th>transaction_id</th>\n",
       "      <th>instance_date</th>\n",
       "      <th>trans_group_id</th>\n",
       "      <th>trans_group_en</th>\n",
       "      <th>trans_group_ar</th>\n",
       "      <th>procedure_id</th>\n",
       "      <th>procedure_name_en</th>\n",
       "      <th>procedure_name_ar</th>\n",
       "      <th>property_type_id</th>\n",
       "      <th>property_type_en</th>\n",
       "      <th>property_type_ar</th>\n",
       "      <th>property_sub_type_id</th>\n",
       "      <th>property_sub_type_en</th>\n",
       "      <th>property_usage_en</th>\n",
       "      <th>property_usage_ar</th>\n",
       "      <th>reg_type_id</th>\n",
       "      <th>reg_type_en</th>\n",
       "      <th>reg_type_ar</th>\n",
       "      <th>area_id</th>\n",
       "      <th>area_name_en</th>\n",
       "      <th>area_name_ar</th>\n",
       "      <th>master_project_en</th>\n",
       "      <th>master_project_ar</th>\n",
       "      <th>project_number</th>\n",
       "      <th>project_name_en</th>\n",
       "      <th>project_name_ar</th>\n",
       "      <th>building_name_en</th>\n",
       "      <th>building_name_ar</th>\n",
       "      <th>rooms_en</th>\n",
       "      <th>rooms_ar</th>\n",
       "      <th>has_parking</th>\n",
       "      <th>procedure_area</th>\n",
       "      <th>meter_sale_price</th>\n",
       "      <th>actual_worth</th>\n",
       "    </tr>\n",
       "  </thead>\n",
       "  <tbody>\n",
       "    <tr>\n",
       "      <th>1036559</th>\n",
       "      <td>1-102-2024-76418</td>\n",
       "      <td>2024-09-25</td>\n",
       "      <td>1</td>\n",
       "      <td>Sales</td>\n",
       "      <td>مبايعات</td>\n",
       "      <td>102</td>\n",
       "      <td>Sell - Pre registration</td>\n",
       "      <td>بيع - تسجيل مبدئى</td>\n",
       "      <td>3</td>\n",
       "      <td>Unit</td>\n",
       "      <td>وحدة</td>\n",
       "      <td>60.0</td>\n",
       "      <td>Flat</td>\n",
       "      <td>Residential</td>\n",
       "      <td>سكني</td>\n",
       "      <td>0</td>\n",
       "      <td>Off-Plan Properties</td>\n",
       "      <td>على الخارطة</td>\n",
       "      <td>266</td>\n",
       "      <td>Al Satwa</td>\n",
       "      <td>السطوه</td>\n",
       "      <td>Jumeriah Garden City</td>\n",
       "      <td>جميرا جاردن ستي</td>\n",
       "      <td>3046.0</td>\n",
       "      <td>The Grandala</td>\n",
       "      <td>جراندالا</td>\n",
       "      <td>The Grandala</td>\n",
       "      <td>ذا جراندالا</td>\n",
       "      <td>Studio</td>\n",
       "      <td>استوديو</td>\n",
       "      <td>1</td>\n",
       "      <td>44.81</td>\n",
       "      <td>20204.20</td>\n",
       "      <td>905350.0</td>\n",
       "    </tr>\n",
       "    <tr>\n",
       "      <th>1207580</th>\n",
       "      <td>1-11-2024-19480</td>\n",
       "      <td>2024-06-11</td>\n",
       "      <td>1</td>\n",
       "      <td>Sales</td>\n",
       "      <td>مبايعات</td>\n",
       "      <td>11</td>\n",
       "      <td>Sell</td>\n",
       "      <td>بيع</td>\n",
       "      <td>4</td>\n",
       "      <td>Villa</td>\n",
       "      <td>فيلا</td>\n",
       "      <td>NaN</td>\n",
       "      <td>NaN</td>\n",
       "      <td>Residential</td>\n",
       "      <td>سكني</td>\n",
       "      <td>1</td>\n",
       "      <td>Existing Properties</td>\n",
       "      <td>العقارات القائمة</td>\n",
       "      <td>266</td>\n",
       "      <td>Al Satwa</td>\n",
       "      <td>السطوه</td>\n",
       "      <td>NaN</td>\n",
       "      <td>NaN</td>\n",
       "      <td>NaN</td>\n",
       "      <td>NaN</td>\n",
       "      <td>NaN</td>\n",
       "      <td>NaN</td>\n",
       "      <td>NaN</td>\n",
       "      <td>NaN</td>\n",
       "      <td>NaN</td>\n",
       "      <td>0</td>\n",
       "      <td>225.29</td>\n",
       "      <td>13538.11</td>\n",
       "      <td>3050000.0</td>\n",
       "    </tr>\n",
       "    <tr>\n",
       "      <th>358634</th>\n",
       "      <td>1-102-2024-51275</td>\n",
       "      <td>2024-07-16</td>\n",
       "      <td>1</td>\n",
       "      <td>Sales</td>\n",
       "      <td>مبايعات</td>\n",
       "      <td>102</td>\n",
       "      <td>Sell - Pre registration</td>\n",
       "      <td>بيع - تسجيل مبدئى</td>\n",
       "      <td>3</td>\n",
       "      <td>Unit</td>\n",
       "      <td>وحدة</td>\n",
       "      <td>60.0</td>\n",
       "      <td>Flat</td>\n",
       "      <td>Residential</td>\n",
       "      <td>سكني</td>\n",
       "      <td>0</td>\n",
       "      <td>Off-Plan Properties</td>\n",
       "      <td>على الخارطة</td>\n",
       "      <td>266</td>\n",
       "      <td>Al Satwa</td>\n",
       "      <td>السطوه</td>\n",
       "      <td>Jumeriah Garden City</td>\n",
       "      <td>جميرا جاردن ستي</td>\n",
       "      <td>2860.0</td>\n",
       "      <td>Hyde Walk Residence by Imtiaz</td>\n",
       "      <td>هايد ووك ريزيدنس من امتياز</td>\n",
       "      <td>HYDE WALK RESIDENCE BY IMTIAZ</td>\n",
       "      <td>هايد ووك ريزيدنس من امتياز</td>\n",
       "      <td>Studio</td>\n",
       "      <td>استوديو</td>\n",
       "      <td>1</td>\n",
       "      <td>39.67</td>\n",
       "      <td>25207.97</td>\n",
       "      <td>1000000.0</td>\n",
       "    </tr>\n",
       "    <tr>\n",
       "      <th>549722</th>\n",
       "      <td>1-11-2024-36960</td>\n",
       "      <td>2024-10-02</td>\n",
       "      <td>1</td>\n",
       "      <td>Sales</td>\n",
       "      <td>مبايعات</td>\n",
       "      <td>11</td>\n",
       "      <td>Sell</td>\n",
       "      <td>بيع</td>\n",
       "      <td>4</td>\n",
       "      <td>Villa</td>\n",
       "      <td>فيلا</td>\n",
       "      <td>NaN</td>\n",
       "      <td>NaN</td>\n",
       "      <td>Residential</td>\n",
       "      <td>سكني</td>\n",
       "      <td>1</td>\n",
       "      <td>Existing Properties</td>\n",
       "      <td>العقارات القائمة</td>\n",
       "      <td>266</td>\n",
       "      <td>Al Satwa</td>\n",
       "      <td>السطوه</td>\n",
       "      <td>NaN</td>\n",
       "      <td>NaN</td>\n",
       "      <td>NaN</td>\n",
       "      <td>NaN</td>\n",
       "      <td>NaN</td>\n",
       "      <td>NaN</td>\n",
       "      <td>NaN</td>\n",
       "      <td>NaN</td>\n",
       "      <td>NaN</td>\n",
       "      <td>0</td>\n",
       "      <td>231.05</td>\n",
       "      <td>12984.20</td>\n",
       "      <td>3000000.0</td>\n",
       "    </tr>\n",
       "    <tr>\n",
       "      <th>255992</th>\n",
       "      <td>1-102-2024-14602</td>\n",
       "      <td>2024-03-08</td>\n",
       "      <td>1</td>\n",
       "      <td>Sales</td>\n",
       "      <td>مبايعات</td>\n",
       "      <td>102</td>\n",
       "      <td>Sell - Pre registration</td>\n",
       "      <td>بيع - تسجيل مبدئى</td>\n",
       "      <td>3</td>\n",
       "      <td>Unit</td>\n",
       "      <td>وحدة</td>\n",
       "      <td>60.0</td>\n",
       "      <td>Flat</td>\n",
       "      <td>Residential</td>\n",
       "      <td>سكني</td>\n",
       "      <td>0</td>\n",
       "      <td>Off-Plan Properties</td>\n",
       "      <td>على الخارطة</td>\n",
       "      <td>266</td>\n",
       "      <td>Al Satwa</td>\n",
       "      <td>السطوه</td>\n",
       "      <td>Jumeriah Garden City</td>\n",
       "      <td>جميرا جاردن ستي</td>\n",
       "      <td>2860.0</td>\n",
       "      <td>Hyde Walk Residence by Imtiaz</td>\n",
       "      <td>هايد ووك ريزيدنس من امتياز</td>\n",
       "      <td>HYDE WALK RESIDENCE BY IMTIAZ</td>\n",
       "      <td>هايد ووك ريزيدنس من امتياز</td>\n",
       "      <td>Studio</td>\n",
       "      <td>استوديو</td>\n",
       "      <td>1</td>\n",
       "      <td>54.71</td>\n",
       "      <td>20654.36</td>\n",
       "      <td>1130000.0</td>\n",
       "    </tr>\n",
       "    <tr>\n",
       "      <th>1128265</th>\n",
       "      <td>1-11-2022-12924</td>\n",
       "      <td>2022-06-10</td>\n",
       "      <td>1</td>\n",
       "      <td>Sales</td>\n",
       "      <td>مبايعات</td>\n",
       "      <td>11</td>\n",
       "      <td>Sell</td>\n",
       "      <td>بيع</td>\n",
       "      <td>4</td>\n",
       "      <td>Villa</td>\n",
       "      <td>فيلا</td>\n",
       "      <td>NaN</td>\n",
       "      <td>NaN</td>\n",
       "      <td>Residential</td>\n",
       "      <td>سكني</td>\n",
       "      <td>1</td>\n",
       "      <td>Existing Properties</td>\n",
       "      <td>العقارات القائمة</td>\n",
       "      <td>266</td>\n",
       "      <td>Al Satwa</td>\n",
       "      <td>السطوه</td>\n",
       "      <td>NaN</td>\n",
       "      <td>NaN</td>\n",
       "      <td>NaN</td>\n",
       "      <td>NaN</td>\n",
       "      <td>NaN</td>\n",
       "      <td>NaN</td>\n",
       "      <td>NaN</td>\n",
       "      <td>NaN</td>\n",
       "      <td>NaN</td>\n",
       "      <td>0</td>\n",
       "      <td>232.26</td>\n",
       "      <td>12055.46</td>\n",
       "      <td>2800000.0</td>\n",
       "    </tr>\n",
       "    <tr>\n",
       "      <th>605173</th>\n",
       "      <td>1-102-2024-11422</td>\n",
       "      <td>2024-02-26</td>\n",
       "      <td>1</td>\n",
       "      <td>Sales</td>\n",
       "      <td>مبايعات</td>\n",
       "      <td>102</td>\n",
       "      <td>Sell - Pre registration</td>\n",
       "      <td>بيع - تسجيل مبدئى</td>\n",
       "      <td>3</td>\n",
       "      <td>Unit</td>\n",
       "      <td>وحدة</td>\n",
       "      <td>60.0</td>\n",
       "      <td>Flat</td>\n",
       "      <td>Residential</td>\n",
       "      <td>سكني</td>\n",
       "      <td>0</td>\n",
       "      <td>Off-Plan Properties</td>\n",
       "      <td>على الخارطة</td>\n",
       "      <td>266</td>\n",
       "      <td>Al Satwa</td>\n",
       "      <td>السطوه</td>\n",
       "      <td>Jumeriah Garden City</td>\n",
       "      <td>جميرا جاردن ستي</td>\n",
       "      <td>2860.0</td>\n",
       "      <td>Hyde Walk Residence by Imtiaz</td>\n",
       "      <td>هايد ووك ريزيدنس من امتياز</td>\n",
       "      <td>HYDE WALK RESIDENCE BY IMTIAZ</td>\n",
       "      <td>هايد ووك ريزيدنس من امتياز</td>\n",
       "      <td>1 B/R</td>\n",
       "      <td>غرفة</td>\n",
       "      <td>1</td>\n",
       "      <td>80.70</td>\n",
       "      <td>18339.53</td>\n",
       "      <td>1480000.0</td>\n",
       "    </tr>\n",
       "    <tr>\n",
       "      <th>778319</th>\n",
       "      <td>1-11-2024-33090</td>\n",
       "      <td>2024-09-09</td>\n",
       "      <td>1</td>\n",
       "      <td>Sales</td>\n",
       "      <td>مبايعات</td>\n",
       "      <td>11</td>\n",
       "      <td>Sell</td>\n",
       "      <td>بيع</td>\n",
       "      <td>4</td>\n",
       "      <td>Villa</td>\n",
       "      <td>فيلا</td>\n",
       "      <td>NaN</td>\n",
       "      <td>NaN</td>\n",
       "      <td>Residential</td>\n",
       "      <td>سكني</td>\n",
       "      <td>1</td>\n",
       "      <td>Existing Properties</td>\n",
       "      <td>العقارات القائمة</td>\n",
       "      <td>266</td>\n",
       "      <td>Al Satwa</td>\n",
       "      <td>السطوه</td>\n",
       "      <td>NaN</td>\n",
       "      <td>NaN</td>\n",
       "      <td>NaN</td>\n",
       "      <td>NaN</td>\n",
       "      <td>NaN</td>\n",
       "      <td>NaN</td>\n",
       "      <td>NaN</td>\n",
       "      <td>NaN</td>\n",
       "      <td>NaN</td>\n",
       "      <td>0</td>\n",
       "      <td>232.26</td>\n",
       "      <td>12916.56</td>\n",
       "      <td>3000000.0</td>\n",
       "    </tr>\n",
       "    <tr>\n",
       "      <th>1004342</th>\n",
       "      <td>1-11-2021-18817</td>\n",
       "      <td>2021-10-26</td>\n",
       "      <td>1</td>\n",
       "      <td>Sales</td>\n",
       "      <td>مبايعات</td>\n",
       "      <td>11</td>\n",
       "      <td>Sell</td>\n",
       "      <td>بيع</td>\n",
       "      <td>4</td>\n",
       "      <td>Villa</td>\n",
       "      <td>فيلا</td>\n",
       "      <td>NaN</td>\n",
       "      <td>NaN</td>\n",
       "      <td>Residential</td>\n",
       "      <td>سكني</td>\n",
       "      <td>1</td>\n",
       "      <td>Existing Properties</td>\n",
       "      <td>العقارات القائمة</td>\n",
       "      <td>266</td>\n",
       "      <td>Al Satwa</td>\n",
       "      <td>السطوه</td>\n",
       "      <td>NaN</td>\n",
       "      <td>NaN</td>\n",
       "      <td>NaN</td>\n",
       "      <td>NaN</td>\n",
       "      <td>NaN</td>\n",
       "      <td>NaN</td>\n",
       "      <td>NaN</td>\n",
       "      <td>NaN</td>\n",
       "      <td>NaN</td>\n",
       "      <td>0</td>\n",
       "      <td>234.58</td>\n",
       "      <td>9058.74</td>\n",
       "      <td>2125000.0</td>\n",
       "    </tr>\n",
       "    <tr>\n",
       "      <th>799444</th>\n",
       "      <td>1-11-2023-19455</td>\n",
       "      <td>2023-06-20</td>\n",
       "      <td>1</td>\n",
       "      <td>Sales</td>\n",
       "      <td>مبايعات</td>\n",
       "      <td>11</td>\n",
       "      <td>Sell</td>\n",
       "      <td>بيع</td>\n",
       "      <td>4</td>\n",
       "      <td>Villa</td>\n",
       "      <td>فيلا</td>\n",
       "      <td>NaN</td>\n",
       "      <td>NaN</td>\n",
       "      <td>Residential</td>\n",
       "      <td>سكني</td>\n",
       "      <td>1</td>\n",
       "      <td>Existing Properties</td>\n",
       "      <td>العقارات القائمة</td>\n",
       "      <td>266</td>\n",
       "      <td>Al Satwa</td>\n",
       "      <td>السطوه</td>\n",
       "      <td>NaN</td>\n",
       "      <td>NaN</td>\n",
       "      <td>NaN</td>\n",
       "      <td>NaN</td>\n",
       "      <td>NaN</td>\n",
       "      <td>NaN</td>\n",
       "      <td>NaN</td>\n",
       "      <td>NaN</td>\n",
       "      <td>NaN</td>\n",
       "      <td>0</td>\n",
       "      <td>227.61</td>\n",
       "      <td>15816.53</td>\n",
       "      <td>3600000.0</td>\n",
       "    </tr>\n",
       "  </tbody>\n",
       "</table>\n",
       "</div>"
      ],
      "text/plain": [
       "           transaction_id instance_date  trans_group_id trans_group_en  \\\n",
       "1036559  1-102-2024-76418    2024-09-25               1          Sales   \n",
       "1207580   1-11-2024-19480    2024-06-11               1          Sales   \n",
       "358634   1-102-2024-51275    2024-07-16               1          Sales   \n",
       "549722    1-11-2024-36960    2024-10-02               1          Sales   \n",
       "255992   1-102-2024-14602    2024-03-08               1          Sales   \n",
       "1128265   1-11-2022-12924    2022-06-10               1          Sales   \n",
       "605173   1-102-2024-11422    2024-02-26               1          Sales   \n",
       "778319    1-11-2024-33090    2024-09-09               1          Sales   \n",
       "1004342   1-11-2021-18817    2021-10-26               1          Sales   \n",
       "799444    1-11-2023-19455    2023-06-20               1          Sales   \n",
       "\n",
       "        trans_group_ar  procedure_id        procedure_name_en  \\\n",
       "1036559        مبايعات           102  Sell - Pre registration   \n",
       "1207580        مبايعات            11                     Sell   \n",
       "358634         مبايعات           102  Sell - Pre registration   \n",
       "549722         مبايعات            11                     Sell   \n",
       "255992         مبايعات           102  Sell - Pre registration   \n",
       "1128265        مبايعات            11                     Sell   \n",
       "605173         مبايعات           102  Sell - Pre registration   \n",
       "778319         مبايعات            11                     Sell   \n",
       "1004342        مبايعات            11                     Sell   \n",
       "799444         مبايعات            11                     Sell   \n",
       "\n",
       "         procedure_name_ar  property_type_id property_type_en  \\\n",
       "1036559  بيع - تسجيل مبدئى                 3             Unit   \n",
       "1207580                بيع                 4            Villa   \n",
       "358634   بيع - تسجيل مبدئى                 3             Unit   \n",
       "549722                 بيع                 4            Villa   \n",
       "255992   بيع - تسجيل مبدئى                 3             Unit   \n",
       "1128265                بيع                 4            Villa   \n",
       "605173   بيع - تسجيل مبدئى                 3             Unit   \n",
       "778319                 بيع                 4            Villa   \n",
       "1004342                بيع                 4            Villa   \n",
       "799444                 بيع                 4            Villa   \n",
       "\n",
       "        property_type_ar  property_sub_type_id property_sub_type_en  \\\n",
       "1036559             وحدة                  60.0                 Flat   \n",
       "1207580             فيلا                   NaN                  NaN   \n",
       "358634              وحدة                  60.0                 Flat   \n",
       "549722              فيلا                   NaN                  NaN   \n",
       "255992              وحدة                  60.0                 Flat   \n",
       "1128265             فيلا                   NaN                  NaN   \n",
       "605173              وحدة                  60.0                 Flat   \n",
       "778319              فيلا                   NaN                  NaN   \n",
       "1004342             فيلا                   NaN                  NaN   \n",
       "799444              فيلا                   NaN                  NaN   \n",
       "\n",
       "        property_usage_en property_usage_ar  reg_type_id          reg_type_en  \\\n",
       "1036559       Residential              سكني            0  Off-Plan Properties   \n",
       "1207580       Residential              سكني            1  Existing Properties   \n",
       "358634        Residential              سكني            0  Off-Plan Properties   \n",
       "549722        Residential              سكني            1  Existing Properties   \n",
       "255992        Residential              سكني            0  Off-Plan Properties   \n",
       "1128265       Residential              سكني            1  Existing Properties   \n",
       "605173        Residential              سكني            0  Off-Plan Properties   \n",
       "778319        Residential              سكني            1  Existing Properties   \n",
       "1004342       Residential              سكني            1  Existing Properties   \n",
       "799444        Residential              سكني            1  Existing Properties   \n",
       "\n",
       "              reg_type_ar  area_id area_name_en area_name_ar  \\\n",
       "1036559       على الخارطة      266     Al Satwa       السطوه   \n",
       "1207580  العقارات القائمة      266     Al Satwa       السطوه   \n",
       "358634        على الخارطة      266     Al Satwa       السطوه   \n",
       "549722   العقارات القائمة      266     Al Satwa       السطوه   \n",
       "255992        على الخارطة      266     Al Satwa       السطوه   \n",
       "1128265  العقارات القائمة      266     Al Satwa       السطوه   \n",
       "605173        على الخارطة      266     Al Satwa       السطوه   \n",
       "778319   العقارات القائمة      266     Al Satwa       السطوه   \n",
       "1004342  العقارات القائمة      266     Al Satwa       السطوه   \n",
       "799444   العقارات القائمة      266     Al Satwa       السطوه   \n",
       "\n",
       "            master_project_en master_project_ar  project_number  \\\n",
       "1036559  Jumeriah Garden City   جميرا جاردن ستي          3046.0   \n",
       "1207580                   NaN               NaN             NaN   \n",
       "358634   Jumeriah Garden City   جميرا جاردن ستي          2860.0   \n",
       "549722                    NaN               NaN             NaN   \n",
       "255992   Jumeriah Garden City   جميرا جاردن ستي          2860.0   \n",
       "1128265                   NaN               NaN             NaN   \n",
       "605173   Jumeriah Garden City   جميرا جاردن ستي          2860.0   \n",
       "778319                    NaN               NaN             NaN   \n",
       "1004342                   NaN               NaN             NaN   \n",
       "799444                    NaN               NaN             NaN   \n",
       "\n",
       "                        project_name_en             project_name_ar  \\\n",
       "1036559                    The Grandala                    جراندالا   \n",
       "1207580                             NaN                         NaN   \n",
       "358634   Hyde Walk Residence by Imtiaz   هايد ووك ريزيدنس من امتياز   \n",
       "549722                              NaN                         NaN   \n",
       "255992   Hyde Walk Residence by Imtiaz   هايد ووك ريزيدنس من امتياز   \n",
       "1128265                             NaN                         NaN   \n",
       "605173   Hyde Walk Residence by Imtiaz   هايد ووك ريزيدنس من امتياز   \n",
       "778319                              NaN                         NaN   \n",
       "1004342                             NaN                         NaN   \n",
       "799444                              NaN                         NaN   \n",
       "\n",
       "                      building_name_en            building_name_ar rooms_en  \\\n",
       "1036559                   The Grandala                 ذا جراندالا   Studio   \n",
       "1207580                            NaN                         NaN      NaN   \n",
       "358634   HYDE WALK RESIDENCE BY IMTIAZ  هايد ووك ريزيدنس من امتياز   Studio   \n",
       "549722                             NaN                         NaN      NaN   \n",
       "255992   HYDE WALK RESIDENCE BY IMTIAZ  هايد ووك ريزيدنس من امتياز   Studio   \n",
       "1128265                            NaN                         NaN      NaN   \n",
       "605173   HYDE WALK RESIDENCE BY IMTIAZ  هايد ووك ريزيدنس من امتياز    1 B/R   \n",
       "778319                             NaN                         NaN      NaN   \n",
       "1004342                            NaN                         NaN      NaN   \n",
       "799444                             NaN                         NaN      NaN   \n",
       "\n",
       "        rooms_ar  has_parking  procedure_area  meter_sale_price  actual_worth  \n",
       "1036559  استوديو            1           44.81          20204.20      905350.0  \n",
       "1207580      NaN            0          225.29          13538.11     3050000.0  \n",
       "358634   استوديو            1           39.67          25207.97     1000000.0  \n",
       "549722       NaN            0          231.05          12984.20     3000000.0  \n",
       "255992   استوديو            1           54.71          20654.36     1130000.0  \n",
       "1128265      NaN            0          232.26          12055.46     2800000.0  \n",
       "605173      غرفة            1           80.70          18339.53     1480000.0  \n",
       "778319       NaN            0          232.26          12916.56     3000000.0  \n",
       "1004342      NaN            0          234.58           9058.74     2125000.0  \n",
       "799444       NaN            0          227.61          15816.53     3600000.0  "
      ]
     },
     "execution_count": 114,
     "metadata": {},
     "output_type": "execute_result"
    }
   ],
   "source": [
    "transactions_satwa_filtered_5y_no_outliers.sample(10)"
   ]
  },
  {
   "cell_type": "code",
   "execution_count": 116,
   "metadata": {},
   "outputs": [
    {
     "data": {
      "text/html": [
       "<div>\n",
       "<style scoped>\n",
       "    .dataframe tbody tr th:only-of-type {\n",
       "        vertical-align: middle;\n",
       "    }\n",
       "\n",
       "    .dataframe tbody tr th {\n",
       "        vertical-align: top;\n",
       "    }\n",
       "\n",
       "    .dataframe thead th {\n",
       "        text-align: right;\n",
       "    }\n",
       "</style>\n",
       "<table border=\"1\" class=\"dataframe\">\n",
       "  <thead>\n",
       "    <tr style=\"text-align: right;\">\n",
       "      <th></th>\n",
       "      <th>instance_date</th>\n",
       "      <th>property_type_en</th>\n",
       "      <th>reg_type_en</th>\n",
       "      <th>master_project_en</th>\n",
       "      <th>project_name_en</th>\n",
       "      <th>building_name_en</th>\n",
       "      <th>rooms_en</th>\n",
       "      <th>has_parking</th>\n",
       "      <th>procedure_area</th>\n",
       "      <th>meter_sale_price</th>\n",
       "      <th>actual_worth</th>\n",
       "    </tr>\n",
       "  </thead>\n",
       "  <tbody>\n",
       "    <tr>\n",
       "      <th>25</th>\n",
       "      <td>2021-06-23</td>\n",
       "      <td>Villa</td>\n",
       "      <td>Existing Properties</td>\n",
       "      <td>NaN</td>\n",
       "      <td>NaN</td>\n",
       "      <td>NaN</td>\n",
       "      <td>NaN</td>\n",
       "      <td>0</td>\n",
       "      <td>239.23</td>\n",
       "      <td>12540.23</td>\n",
       "      <td>3000000.0</td>\n",
       "    </tr>\n",
       "    <tr>\n",
       "      <th>760</th>\n",
       "      <td>2024-05-02</td>\n",
       "      <td>Villa</td>\n",
       "      <td>Existing Properties</td>\n",
       "      <td>NaN</td>\n",
       "      <td>NaN</td>\n",
       "      <td>NaN</td>\n",
       "      <td>NaN</td>\n",
       "      <td>0</td>\n",
       "      <td>1393.55</td>\n",
       "      <td>5740.73</td>\n",
       "      <td>8000000.0</td>\n",
       "    </tr>\n",
       "    <tr>\n",
       "      <th>11465</th>\n",
       "      <td>2024-02-16</td>\n",
       "      <td>Unit</td>\n",
       "      <td>Off-Plan Properties</td>\n",
       "      <td>Jumeriah Garden City</td>\n",
       "      <td>Hyde Walk Residence by Imtiaz</td>\n",
       "      <td>HYDE WALK RESIDENCE BY IMTIAZ</td>\n",
       "      <td>Studio</td>\n",
       "      <td>1</td>\n",
       "      <td>35.60</td>\n",
       "      <td>27247.19</td>\n",
       "      <td>970000.0</td>\n",
       "    </tr>\n",
       "    <tr>\n",
       "      <th>11466</th>\n",
       "      <td>2024-02-15</td>\n",
       "      <td>Unit</td>\n",
       "      <td>Off-Plan Properties</td>\n",
       "      <td>Jumeriah Garden City</td>\n",
       "      <td>Hyde Walk Residence by Imtiaz</td>\n",
       "      <td>HYDE WALK RESIDENCE BY IMTIAZ</td>\n",
       "      <td>1 B/R</td>\n",
       "      <td>1</td>\n",
       "      <td>89.64</td>\n",
       "      <td>18406.96</td>\n",
       "      <td>1650000.0</td>\n",
       "    </tr>\n",
       "    <tr>\n",
       "      <th>18267</th>\n",
       "      <td>2022-01-26</td>\n",
       "      <td>Villa</td>\n",
       "      <td>Existing Properties</td>\n",
       "      <td>NaN</td>\n",
       "      <td>NaN</td>\n",
       "      <td>NaN</td>\n",
       "      <td>NaN</td>\n",
       "      <td>0</td>\n",
       "      <td>234.67</td>\n",
       "      <td>10333.66</td>\n",
       "      <td>2425000.0</td>\n",
       "    </tr>\n",
       "  </tbody>\n",
       "</table>\n",
       "</div>"
      ],
      "text/plain": [
       "      instance_date property_type_en          reg_type_en  \\\n",
       "25       2021-06-23            Villa  Existing Properties   \n",
       "760      2024-05-02            Villa  Existing Properties   \n",
       "11465    2024-02-16             Unit  Off-Plan Properties   \n",
       "11466    2024-02-15             Unit  Off-Plan Properties   \n",
       "18267    2022-01-26            Villa  Existing Properties   \n",
       "\n",
       "          master_project_en                 project_name_en  \\\n",
       "25                      NaN                             NaN   \n",
       "760                     NaN                             NaN   \n",
       "11465  Jumeriah Garden City  Hyde Walk Residence by Imtiaz    \n",
       "11466  Jumeriah Garden City  Hyde Walk Residence by Imtiaz    \n",
       "18267                   NaN                             NaN   \n",
       "\n",
       "                    building_name_en rooms_en  has_parking  procedure_area  \\\n",
       "25                               NaN      NaN            0          239.23   \n",
       "760                              NaN      NaN            0         1393.55   \n",
       "11465  HYDE WALK RESIDENCE BY IMTIAZ   Studio            1           35.60   \n",
       "11466  HYDE WALK RESIDENCE BY IMTIAZ    1 B/R            1           89.64   \n",
       "18267                            NaN      NaN            0          234.67   \n",
       "\n",
       "       meter_sale_price  actual_worth  \n",
       "25             12540.23     3000000.0  \n",
       "760             5740.73     8000000.0  \n",
       "11465          27247.19      970000.0  \n",
       "11466          18406.96     1650000.0  \n",
       "18267          10333.66     2425000.0  "
      ]
     },
     "execution_count": 116,
     "metadata": {},
     "output_type": "execute_result"
    }
   ],
   "source": [
    "transactions_satwa_filtered_5y_no_outliers = transactions_satwa_filtered_5y_no_outliers[['instance_date', 'property_type_en', 'reg_type_en',\n",
    "                                                                                         'master_project_en', 'project_name_en', 'building_name_en',\n",
    "                                                                                         'rooms_en', 'has_parking', 'procedure_area', 'meter_sale_price',\n",
    "                                                                                         'actual_worth']]\n",
    "transactions_satwa_filtered_5y_no_outliers.head()"
   ]
  },
  {
   "cell_type": "code",
   "execution_count": 119,
   "metadata": {},
   "outputs": [
    {
     "data": {
      "text/html": [
       "<div>\n",
       "<style scoped>\n",
       "    .dataframe tbody tr th:only-of-type {\n",
       "        vertical-align: middle;\n",
       "    }\n",
       "\n",
       "    .dataframe tbody tr th {\n",
       "        vertical-align: top;\n",
       "    }\n",
       "\n",
       "    .dataframe thead th {\n",
       "        text-align: right;\n",
       "    }\n",
       "</style>\n",
       "<table border=\"1\" class=\"dataframe\">\n",
       "  <thead>\n",
       "    <tr style=\"text-align: right;\">\n",
       "      <th></th>\n",
       "      <th>instance_date</th>\n",
       "      <th>property_type_en</th>\n",
       "      <th>reg_type_en</th>\n",
       "      <th>master_project_en</th>\n",
       "      <th>project_name_en</th>\n",
       "      <th>building_name_en</th>\n",
       "      <th>rooms_en</th>\n",
       "      <th>has_parking</th>\n",
       "      <th>procedure_area</th>\n",
       "      <th>meter_sale_price</th>\n",
       "      <th>actual_worth</th>\n",
       "    </tr>\n",
       "  </thead>\n",
       "  <tbody>\n",
       "    <tr>\n",
       "      <th>569545</th>\n",
       "      <td>2023-03-27</td>\n",
       "      <td>Villa</td>\n",
       "      <td>Existing Properties</td>\n",
       "      <td>NaN</td>\n",
       "      <td>NaN</td>\n",
       "      <td>NaN</td>\n",
       "      <td>NaN</td>\n",
       "      <td>0</td>\n",
       "      <td>278.71</td>\n",
       "      <td>8880.20</td>\n",
       "      <td>2475000.0</td>\n",
       "    </tr>\n",
       "    <tr>\n",
       "      <th>408412</th>\n",
       "      <td>2024-04-02</td>\n",
       "      <td>Villa</td>\n",
       "      <td>Existing Properties</td>\n",
       "      <td>NaN</td>\n",
       "      <td>NaN</td>\n",
       "      <td>NaN</td>\n",
       "      <td>NaN</td>\n",
       "      <td>0</td>\n",
       "      <td>233.37</td>\n",
       "      <td>9641.34</td>\n",
       "      <td>2250000.0</td>\n",
       "    </tr>\n",
       "    <tr>\n",
       "      <th>358633</th>\n",
       "      <td>2024-02-15</td>\n",
       "      <td>Unit</td>\n",
       "      <td>Off-Plan Properties</td>\n",
       "      <td>Jumeriah Garden City</td>\n",
       "      <td>Hyde Walk Residence by Imtiaz</td>\n",
       "      <td>HYDE WALK RESIDENCE BY IMTIAZ</td>\n",
       "      <td>1 B/R</td>\n",
       "      <td>1</td>\n",
       "      <td>71.62</td>\n",
       "      <td>20664.62</td>\n",
       "      <td>1480000.0</td>\n",
       "    </tr>\n",
       "    <tr>\n",
       "      <th>1078233</th>\n",
       "      <td>2024-02-15</td>\n",
       "      <td>Unit</td>\n",
       "      <td>Off-Plan Properties</td>\n",
       "      <td>Jumeriah Garden City</td>\n",
       "      <td>Hyde Walk Residence by Imtiaz</td>\n",
       "      <td>HYDE WALK RESIDENCE BY IMTIAZ</td>\n",
       "      <td>Studio</td>\n",
       "      <td>1</td>\n",
       "      <td>54.71</td>\n",
       "      <td>22299.40</td>\n",
       "      <td>1220000.0</td>\n",
       "    </tr>\n",
       "    <tr>\n",
       "      <th>778319</th>\n",
       "      <td>2024-09-09</td>\n",
       "      <td>Villa</td>\n",
       "      <td>Existing Properties</td>\n",
       "      <td>NaN</td>\n",
       "      <td>NaN</td>\n",
       "      <td>NaN</td>\n",
       "      <td>NaN</td>\n",
       "      <td>0</td>\n",
       "      <td>232.26</td>\n",
       "      <td>12916.56</td>\n",
       "      <td>3000000.0</td>\n",
       "    </tr>\n",
       "  </tbody>\n",
       "</table>\n",
       "</div>"
      ],
      "text/plain": [
       "        instance_date property_type_en          reg_type_en  \\\n",
       "569545     2023-03-27            Villa  Existing Properties   \n",
       "408412     2024-04-02            Villa  Existing Properties   \n",
       "358633     2024-02-15             Unit  Off-Plan Properties   \n",
       "1078233    2024-02-15             Unit  Off-Plan Properties   \n",
       "778319     2024-09-09            Villa  Existing Properties   \n",
       "\n",
       "            master_project_en                 project_name_en  \\\n",
       "569545                    NaN                             NaN   \n",
       "408412                    NaN                             NaN   \n",
       "358633   Jumeriah Garden City  Hyde Walk Residence by Imtiaz    \n",
       "1078233  Jumeriah Garden City  Hyde Walk Residence by Imtiaz    \n",
       "778319                    NaN                             NaN   \n",
       "\n",
       "                      building_name_en rooms_en  has_parking  procedure_area  \\\n",
       "569545                             NaN      NaN            0          278.71   \n",
       "408412                             NaN      NaN            0          233.37   \n",
       "358633   HYDE WALK RESIDENCE BY IMTIAZ    1 B/R            1           71.62   \n",
       "1078233  HYDE WALK RESIDENCE BY IMTIAZ   Studio            1           54.71   \n",
       "778319                             NaN      NaN            0          232.26   \n",
       "\n",
       "         meter_sale_price  actual_worth  \n",
       "569545            8880.20     2475000.0  \n",
       "408412            9641.34     2250000.0  \n",
       "358633           20664.62     1480000.0  \n",
       "1078233          22299.40     1220000.0  \n",
       "778319           12916.56     3000000.0  "
      ]
     },
     "metadata": {},
     "output_type": "display_data"
    }
   ],
   "source": [
    "display(transactions_satwa_filtered_5y_no_outliers.sample(5))"
   ]
  },
  {
   "cell_type": "markdown",
   "metadata": {},
   "source": [
    "### Step 1: Property Type"
   ]
  },
  {
   "cell_type": "markdown",
   "metadata": {},
   "source": [
    "1. **Transaction Volume by Property Type**:\n",
    "\n",
    "    - We will first determine the number of transactions for each property type (Unit vs. Villa).\n",
    "    \n",
    "    - This will show which property type is more actively sold, providing insights into demand trends.\n",
    "\n",
    "2. **Price per Square Meter by Property Type**:\n",
    "\n",
    "    - We’ll calculate the average price per square meter for both Units and Villas.\n",
    "\n",
    "    - This can help the real estate agent understand whether units or villas are priced at a premium and which property type provides a better return on investment.\n",
    "\n",
    "3. **Size Distribution by Property Type**:\n",
    "\n",
    "    - We’ll analyze the average property size (procedure area) for Units and Villas.\n",
    "\n",
    "    - This can provide insights into whether larger properties are associated with higher prices or if there’s a sweet spot in size for a better price per square meter.\n",
    "\n",
    "4. **Price Distribution for Units vs. Villas**:\n",
    "\n",
    "    - We’ll visualize the distribution of actual worth for Units and Villas.\n",
    "    \n",
    "    - This will highlight any major differences in price ranges between these two property types."
   ]
  },
  {
   "cell_type": "markdown",
   "metadata": {},
   "source": [
    "**1.1 Transaction Volume by Property Type**\n",
    "\n",
    "We will begin by analyzing how many transactions occurred for Units vs. Villas. This will give us a quick insight into which property type is more actively sold."
   ]
  },
  {
   "cell_type": "code",
   "execution_count": 131,
   "metadata": {},
   "outputs": [
    {
     "data": {
      "application/vnd.plotly.v1+json": {
       "config": {
        "plotlyServerURL": "https://plot.ly"
       },
       "data": [
        {
         "alignmentgroup": "True",
         "hovertemplate": "variable=count<br>Property Type=%{x}<br>Number of Transactions=%{y}<br>text=%{text}<extra></extra>",
         "legendgroup": "count",
         "marker": {
          "color": "#636efa",
          "pattern": {
           "shape": ""
          }
         },
         "name": "count",
         "offsetgroup": "count",
         "orientation": "v",
         "showlegend": true,
         "text": [
          110,
          96
         ],
         "textposition": "auto",
         "type": "bar",
         "x": [
          "Unit",
          "Villa"
         ],
         "xaxis": "x",
         "y": [
          110,
          96
         ],
         "yaxis": "y"
        }
       ],
       "layout": {
        "barmode": "relative",
        "legend": {
         "title": {
          "text": "variable"
         },
         "tracegroupgap": 0
        },
        "showlegend": false,
        "template": {
         "data": {
          "bar": [
           {
            "error_x": {
             "color": "#2a3f5f"
            },
            "error_y": {
             "color": "#2a3f5f"
            },
            "marker": {
             "line": {
              "color": "#E5ECF6",
              "width": 0.5
             },
             "pattern": {
              "fillmode": "overlay",
              "size": 10,
              "solidity": 0.2
             }
            },
            "type": "bar"
           }
          ],
          "barpolar": [
           {
            "marker": {
             "line": {
              "color": "#E5ECF6",
              "width": 0.5
             },
             "pattern": {
              "fillmode": "overlay",
              "size": 10,
              "solidity": 0.2
             }
            },
            "type": "barpolar"
           }
          ],
          "carpet": [
           {
            "aaxis": {
             "endlinecolor": "#2a3f5f",
             "gridcolor": "white",
             "linecolor": "white",
             "minorgridcolor": "white",
             "startlinecolor": "#2a3f5f"
            },
            "baxis": {
             "endlinecolor": "#2a3f5f",
             "gridcolor": "white",
             "linecolor": "white",
             "minorgridcolor": "white",
             "startlinecolor": "#2a3f5f"
            },
            "type": "carpet"
           }
          ],
          "choropleth": [
           {
            "colorbar": {
             "outlinewidth": 0,
             "ticks": ""
            },
            "type": "choropleth"
           }
          ],
          "contour": [
           {
            "colorbar": {
             "outlinewidth": 0,
             "ticks": ""
            },
            "colorscale": [
             [
              0,
              "#0d0887"
             ],
             [
              0.1111111111111111,
              "#46039f"
             ],
             [
              0.2222222222222222,
              "#7201a8"
             ],
             [
              0.3333333333333333,
              "#9c179e"
             ],
             [
              0.4444444444444444,
              "#bd3786"
             ],
             [
              0.5555555555555556,
              "#d8576b"
             ],
             [
              0.6666666666666666,
              "#ed7953"
             ],
             [
              0.7777777777777778,
              "#fb9f3a"
             ],
             [
              0.8888888888888888,
              "#fdca26"
             ],
             [
              1,
              "#f0f921"
             ]
            ],
            "type": "contour"
           }
          ],
          "contourcarpet": [
           {
            "colorbar": {
             "outlinewidth": 0,
             "ticks": ""
            },
            "type": "contourcarpet"
           }
          ],
          "heatmap": [
           {
            "colorbar": {
             "outlinewidth": 0,
             "ticks": ""
            },
            "colorscale": [
             [
              0,
              "#0d0887"
             ],
             [
              0.1111111111111111,
              "#46039f"
             ],
             [
              0.2222222222222222,
              "#7201a8"
             ],
             [
              0.3333333333333333,
              "#9c179e"
             ],
             [
              0.4444444444444444,
              "#bd3786"
             ],
             [
              0.5555555555555556,
              "#d8576b"
             ],
             [
              0.6666666666666666,
              "#ed7953"
             ],
             [
              0.7777777777777778,
              "#fb9f3a"
             ],
             [
              0.8888888888888888,
              "#fdca26"
             ],
             [
              1,
              "#f0f921"
             ]
            ],
            "type": "heatmap"
           }
          ],
          "heatmapgl": [
           {
            "colorbar": {
             "outlinewidth": 0,
             "ticks": ""
            },
            "colorscale": [
             [
              0,
              "#0d0887"
             ],
             [
              0.1111111111111111,
              "#46039f"
             ],
             [
              0.2222222222222222,
              "#7201a8"
             ],
             [
              0.3333333333333333,
              "#9c179e"
             ],
             [
              0.4444444444444444,
              "#bd3786"
             ],
             [
              0.5555555555555556,
              "#d8576b"
             ],
             [
              0.6666666666666666,
              "#ed7953"
             ],
             [
              0.7777777777777778,
              "#fb9f3a"
             ],
             [
              0.8888888888888888,
              "#fdca26"
             ],
             [
              1,
              "#f0f921"
             ]
            ],
            "type": "heatmapgl"
           }
          ],
          "histogram": [
           {
            "marker": {
             "pattern": {
              "fillmode": "overlay",
              "size": 10,
              "solidity": 0.2
             }
            },
            "type": "histogram"
           }
          ],
          "histogram2d": [
           {
            "colorbar": {
             "outlinewidth": 0,
             "ticks": ""
            },
            "colorscale": [
             [
              0,
              "#0d0887"
             ],
             [
              0.1111111111111111,
              "#46039f"
             ],
             [
              0.2222222222222222,
              "#7201a8"
             ],
             [
              0.3333333333333333,
              "#9c179e"
             ],
             [
              0.4444444444444444,
              "#bd3786"
             ],
             [
              0.5555555555555556,
              "#d8576b"
             ],
             [
              0.6666666666666666,
              "#ed7953"
             ],
             [
              0.7777777777777778,
              "#fb9f3a"
             ],
             [
              0.8888888888888888,
              "#fdca26"
             ],
             [
              1,
              "#f0f921"
             ]
            ],
            "type": "histogram2d"
           }
          ],
          "histogram2dcontour": [
           {
            "colorbar": {
             "outlinewidth": 0,
             "ticks": ""
            },
            "colorscale": [
             [
              0,
              "#0d0887"
             ],
             [
              0.1111111111111111,
              "#46039f"
             ],
             [
              0.2222222222222222,
              "#7201a8"
             ],
             [
              0.3333333333333333,
              "#9c179e"
             ],
             [
              0.4444444444444444,
              "#bd3786"
             ],
             [
              0.5555555555555556,
              "#d8576b"
             ],
             [
              0.6666666666666666,
              "#ed7953"
             ],
             [
              0.7777777777777778,
              "#fb9f3a"
             ],
             [
              0.8888888888888888,
              "#fdca26"
             ],
             [
              1,
              "#f0f921"
             ]
            ],
            "type": "histogram2dcontour"
           }
          ],
          "mesh3d": [
           {
            "colorbar": {
             "outlinewidth": 0,
             "ticks": ""
            },
            "type": "mesh3d"
           }
          ],
          "parcoords": [
           {
            "line": {
             "colorbar": {
              "outlinewidth": 0,
              "ticks": ""
             }
            },
            "type": "parcoords"
           }
          ],
          "pie": [
           {
            "automargin": true,
            "type": "pie"
           }
          ],
          "scatter": [
           {
            "fillpattern": {
             "fillmode": "overlay",
             "size": 10,
             "solidity": 0.2
            },
            "type": "scatter"
           }
          ],
          "scatter3d": [
           {
            "line": {
             "colorbar": {
              "outlinewidth": 0,
              "ticks": ""
             }
            },
            "marker": {
             "colorbar": {
              "outlinewidth": 0,
              "ticks": ""
             }
            },
            "type": "scatter3d"
           }
          ],
          "scattercarpet": [
           {
            "marker": {
             "colorbar": {
              "outlinewidth": 0,
              "ticks": ""
             }
            },
            "type": "scattercarpet"
           }
          ],
          "scattergeo": [
           {
            "marker": {
             "colorbar": {
              "outlinewidth": 0,
              "ticks": ""
             }
            },
            "type": "scattergeo"
           }
          ],
          "scattergl": [
           {
            "marker": {
             "colorbar": {
              "outlinewidth": 0,
              "ticks": ""
             }
            },
            "type": "scattergl"
           }
          ],
          "scattermapbox": [
           {
            "marker": {
             "colorbar": {
              "outlinewidth": 0,
              "ticks": ""
             }
            },
            "type": "scattermapbox"
           }
          ],
          "scatterpolar": [
           {
            "marker": {
             "colorbar": {
              "outlinewidth": 0,
              "ticks": ""
             }
            },
            "type": "scatterpolar"
           }
          ],
          "scatterpolargl": [
           {
            "marker": {
             "colorbar": {
              "outlinewidth": 0,
              "ticks": ""
             }
            },
            "type": "scatterpolargl"
           }
          ],
          "scatterternary": [
           {
            "marker": {
             "colorbar": {
              "outlinewidth": 0,
              "ticks": ""
             }
            },
            "type": "scatterternary"
           }
          ],
          "surface": [
           {
            "colorbar": {
             "outlinewidth": 0,
             "ticks": ""
            },
            "colorscale": [
             [
              0,
              "#0d0887"
             ],
             [
              0.1111111111111111,
              "#46039f"
             ],
             [
              0.2222222222222222,
              "#7201a8"
             ],
             [
              0.3333333333333333,
              "#9c179e"
             ],
             [
              0.4444444444444444,
              "#bd3786"
             ],
             [
              0.5555555555555556,
              "#d8576b"
             ],
             [
              0.6666666666666666,
              "#ed7953"
             ],
             [
              0.7777777777777778,
              "#fb9f3a"
             ],
             [
              0.8888888888888888,
              "#fdca26"
             ],
             [
              1,
              "#f0f921"
             ]
            ],
            "type": "surface"
           }
          ],
          "table": [
           {
            "cells": {
             "fill": {
              "color": "#EBF0F8"
             },
             "line": {
              "color": "white"
             }
            },
            "header": {
             "fill": {
              "color": "#C8D4E3"
             },
             "line": {
              "color": "white"
             }
            },
            "type": "table"
           }
          ]
         },
         "layout": {
          "annotationdefaults": {
           "arrowcolor": "#2a3f5f",
           "arrowhead": 0,
           "arrowwidth": 1
          },
          "autotypenumbers": "strict",
          "coloraxis": {
           "colorbar": {
            "outlinewidth": 0,
            "ticks": ""
           }
          },
          "colorscale": {
           "diverging": [
            [
             0,
             "#8e0152"
            ],
            [
             0.1,
             "#c51b7d"
            ],
            [
             0.2,
             "#de77ae"
            ],
            [
             0.3,
             "#f1b6da"
            ],
            [
             0.4,
             "#fde0ef"
            ],
            [
             0.5,
             "#f7f7f7"
            ],
            [
             0.6,
             "#e6f5d0"
            ],
            [
             0.7,
             "#b8e186"
            ],
            [
             0.8,
             "#7fbc41"
            ],
            [
             0.9,
             "#4d9221"
            ],
            [
             1,
             "#276419"
            ]
           ],
           "sequential": [
            [
             0,
             "#0d0887"
            ],
            [
             0.1111111111111111,
             "#46039f"
            ],
            [
             0.2222222222222222,
             "#7201a8"
            ],
            [
             0.3333333333333333,
             "#9c179e"
            ],
            [
             0.4444444444444444,
             "#bd3786"
            ],
            [
             0.5555555555555556,
             "#d8576b"
            ],
            [
             0.6666666666666666,
             "#ed7953"
            ],
            [
             0.7777777777777778,
             "#fb9f3a"
            ],
            [
             0.8888888888888888,
             "#fdca26"
            ],
            [
             1,
             "#f0f921"
            ]
           ],
           "sequentialminus": [
            [
             0,
             "#0d0887"
            ],
            [
             0.1111111111111111,
             "#46039f"
            ],
            [
             0.2222222222222222,
             "#7201a8"
            ],
            [
             0.3333333333333333,
             "#9c179e"
            ],
            [
             0.4444444444444444,
             "#bd3786"
            ],
            [
             0.5555555555555556,
             "#d8576b"
            ],
            [
             0.6666666666666666,
             "#ed7953"
            ],
            [
             0.7777777777777778,
             "#fb9f3a"
            ],
            [
             0.8888888888888888,
             "#fdca26"
            ],
            [
             1,
             "#f0f921"
            ]
           ]
          },
          "colorway": [
           "#636efa",
           "#EF553B",
           "#00cc96",
           "#ab63fa",
           "#FFA15A",
           "#19d3f3",
           "#FF6692",
           "#B6E880",
           "#FF97FF",
           "#FECB52"
          ],
          "font": {
           "color": "#2a3f5f"
          },
          "geo": {
           "bgcolor": "white",
           "lakecolor": "white",
           "landcolor": "#E5ECF6",
           "showlakes": true,
           "showland": true,
           "subunitcolor": "white"
          },
          "hoverlabel": {
           "align": "left"
          },
          "hovermode": "closest",
          "mapbox": {
           "style": "light"
          },
          "paper_bgcolor": "white",
          "plot_bgcolor": "#E5ECF6",
          "polar": {
           "angularaxis": {
            "gridcolor": "white",
            "linecolor": "white",
            "ticks": ""
           },
           "bgcolor": "#E5ECF6",
           "radialaxis": {
            "gridcolor": "white",
            "linecolor": "white",
            "ticks": ""
           }
          },
          "scene": {
           "xaxis": {
            "backgroundcolor": "#E5ECF6",
            "gridcolor": "white",
            "gridwidth": 2,
            "linecolor": "white",
            "showbackground": true,
            "ticks": "",
            "zerolinecolor": "white"
           },
           "yaxis": {
            "backgroundcolor": "#E5ECF6",
            "gridcolor": "white",
            "gridwidth": 2,
            "linecolor": "white",
            "showbackground": true,
            "ticks": "",
            "zerolinecolor": "white"
           },
           "zaxis": {
            "backgroundcolor": "#E5ECF6",
            "gridcolor": "white",
            "gridwidth": 2,
            "linecolor": "white",
            "showbackground": true,
            "ticks": "",
            "zerolinecolor": "white"
           }
          },
          "shapedefaults": {
           "line": {
            "color": "#2a3f5f"
           }
          },
          "ternary": {
           "aaxis": {
            "gridcolor": "white",
            "linecolor": "white",
            "ticks": ""
           },
           "baxis": {
            "gridcolor": "white",
            "linecolor": "white",
            "ticks": ""
           },
           "bgcolor": "#E5ECF6",
           "caxis": {
            "gridcolor": "white",
            "linecolor": "white",
            "ticks": ""
           }
          },
          "title": {
           "x": 0.05
          },
          "xaxis": {
           "automargin": true,
           "gridcolor": "white",
           "linecolor": "white",
           "ticks": "",
           "title": {
            "standoff": 15
           },
           "zerolinecolor": "white",
           "zerolinewidth": 2
          },
          "yaxis": {
           "automargin": true,
           "gridcolor": "white",
           "linecolor": "white",
           "ticks": "",
           "title": {
            "standoff": 15
           },
           "zerolinecolor": "white",
           "zerolinewidth": 2
          }
         }
        },
        "title": {
         "text": "Transaction Volume by Property Type (Last 5 Years)"
        },
        "xaxis": {
         "anchor": "y",
         "domain": [
          0,
          1
         ],
         "title": {
          "text": "Property Type"
         }
        },
        "yaxis": {
         "anchor": "x",
         "domain": [
          0,
          1
         ],
         "title": {
          "text": "Number of Transactions"
         }
        }
       }
      }
     },
     "metadata": {},
     "output_type": "display_data"
    },
    {
     "name": "stdout",
     "output_type": "stream",
     "text": [
      "Transaction Volume by Property Type (Last 5 Years):\n",
      "property_type_en\n",
      "Unit     110\n",
      "Villa     96\n",
      "Name: count, dtype: int64\n"
     ]
    }
   ],
   "source": [
    "# Transaction volume by property type\n",
    "property_type_volume = transactions_satwa_filtered_5y_no_outliers['property_type_en'].value_counts()\n",
    "\n",
    "# Plotting the transaction volume\n",
    "fig_property_type_volume = px.bar(property_type_volume, \n",
    "                                  title=\"Transaction Volume by Property Type (Last 5 Years)\", \n",
    "                                  labels={'property_type_en': 'Property Type', 'value': 'Number of Transactions'},\n",
    "                                  text=property_type_volume.values)\n",
    "# Hide the legend\n",
    "fig_property_type_volume.update_layout(showlegend=False)\n",
    "\n",
    "fig_property_type_volume.write_image(f\"{output_dir}/transaction_volume_by_property_type_5_years.png\")\n",
    "fig_property_type_volume.show()\n",
    "\n",
    "# Displaying the transactions volume by property type\n",
    "print(\"Transaction Volume by Property Type (Last 5 Years):\")\n",
    "print(property_type_volume)"
   ]
  },
  {
   "cell_type": "markdown",
   "metadata": {},
   "source": [
    "**Transaction Volume by Property Type (Last 5 Years) Insights**\n",
    "\n",
    "1. **Balanced Demand Between Units and Villas**:\n",
    "\n",
    "    - The transaction volume between **Units (110 transactions)** and **Villas (96 transactions)** is relatively balanced.\n",
    "\n",
    "    - This suggests that there is strong interest in both property types, making it crucial for the agent to market both types effectively.\n",
    "\n",
    "2. **Slightly Higher Demand for Units**:\n",
    "\n",
    "    - Units had a slightly higher number of transactions. This may indicate that buyers are more inclined towards smaller, more affordable properties compared to Villas.\n",
    "\n",
    "    - For marketing purposes, it would be beneficial to target a broader range of buyers for Units, such as first-time homebuyers or investors looking for rental properties.\n",
    "\n",
    "3. **Villas for High-End Market**:\n",
    "\n",
    "    - Despite having slightly fewer transactions, the Villas market is still robust. This could indicate that Villas cater to a higher-end market segment where buyers prioritize space and luxury.\n",
    "\n",
    "    - The agent can use this information to focus on marketing Villas to wealthier clients or families looking for larger properties with more space and privacy.\n",
    "\n",
    "4. **Key Marketing Focus**:\n",
    "\n",
    "    - For **Units**: Emphasize affordability, rental yield, and convenience (especially for younger buyers, small families, and investors).\n",
    "    \n",
    "    - For **Villas**: Highlight exclusivity, luxury, and spaciousness (targeted more at families, long-term residents, or high-net-worth individuals)."
   ]
  },
  {
   "cell_type": "markdown",
   "metadata": {},
   "source": [
    "**1.2 Price per Square Meter by Property Type**\n",
    "\n",
    "Next, we’ll calculate and visualize the average price per square meter for Units and Villas."
   ]
  },
  {
   "cell_type": "code",
   "execution_count": 132,
   "metadata": {},
   "outputs": [
    {
     "data": {
      "application/vnd.plotly.v1+json": {
       "config": {
        "plotlyServerURL": "https://plot.ly"
       },
       "data": [
        {
         "alignmentgroup": "True",
         "hovertemplate": "variable=meter_sale_price<br>property_type_en=%{x}<br>Price per Square Meter (AED)=%{y}<br>text=%{text}<extra></extra>",
         "legendgroup": "meter_sale_price",
         "marker": {
          "color": "#636efa",
          "pattern": {
           "shape": ""
          }
         },
         "name": "meter_sale_price",
         "offsetgroup": "meter_sale_price",
         "orientation": "v",
         "showlegend": true,
         "text": [
          24111.88,
          15088.3
         ],
         "textposition": "auto",
         "type": "bar",
         "x": [
          "Unit",
          "Villa"
         ],
         "xaxis": "x",
         "y": [
          24111.879999999997,
          15088.300416666667
         ],
         "yaxis": "y"
        }
       ],
       "layout": {
        "barmode": "relative",
        "legend": {
         "title": {
          "text": "variable"
         },
         "tracegroupgap": 0
        },
        "showlegend": false,
        "template": {
         "data": {
          "bar": [
           {
            "error_x": {
             "color": "#2a3f5f"
            },
            "error_y": {
             "color": "#2a3f5f"
            },
            "marker": {
             "line": {
              "color": "#E5ECF6",
              "width": 0.5
             },
             "pattern": {
              "fillmode": "overlay",
              "size": 10,
              "solidity": 0.2
             }
            },
            "type": "bar"
           }
          ],
          "barpolar": [
           {
            "marker": {
             "line": {
              "color": "#E5ECF6",
              "width": 0.5
             },
             "pattern": {
              "fillmode": "overlay",
              "size": 10,
              "solidity": 0.2
             }
            },
            "type": "barpolar"
           }
          ],
          "carpet": [
           {
            "aaxis": {
             "endlinecolor": "#2a3f5f",
             "gridcolor": "white",
             "linecolor": "white",
             "minorgridcolor": "white",
             "startlinecolor": "#2a3f5f"
            },
            "baxis": {
             "endlinecolor": "#2a3f5f",
             "gridcolor": "white",
             "linecolor": "white",
             "minorgridcolor": "white",
             "startlinecolor": "#2a3f5f"
            },
            "type": "carpet"
           }
          ],
          "choropleth": [
           {
            "colorbar": {
             "outlinewidth": 0,
             "ticks": ""
            },
            "type": "choropleth"
           }
          ],
          "contour": [
           {
            "colorbar": {
             "outlinewidth": 0,
             "ticks": ""
            },
            "colorscale": [
             [
              0,
              "#0d0887"
             ],
             [
              0.1111111111111111,
              "#46039f"
             ],
             [
              0.2222222222222222,
              "#7201a8"
             ],
             [
              0.3333333333333333,
              "#9c179e"
             ],
             [
              0.4444444444444444,
              "#bd3786"
             ],
             [
              0.5555555555555556,
              "#d8576b"
             ],
             [
              0.6666666666666666,
              "#ed7953"
             ],
             [
              0.7777777777777778,
              "#fb9f3a"
             ],
             [
              0.8888888888888888,
              "#fdca26"
             ],
             [
              1,
              "#f0f921"
             ]
            ],
            "type": "contour"
           }
          ],
          "contourcarpet": [
           {
            "colorbar": {
             "outlinewidth": 0,
             "ticks": ""
            },
            "type": "contourcarpet"
           }
          ],
          "heatmap": [
           {
            "colorbar": {
             "outlinewidth": 0,
             "ticks": ""
            },
            "colorscale": [
             [
              0,
              "#0d0887"
             ],
             [
              0.1111111111111111,
              "#46039f"
             ],
             [
              0.2222222222222222,
              "#7201a8"
             ],
             [
              0.3333333333333333,
              "#9c179e"
             ],
             [
              0.4444444444444444,
              "#bd3786"
             ],
             [
              0.5555555555555556,
              "#d8576b"
             ],
             [
              0.6666666666666666,
              "#ed7953"
             ],
             [
              0.7777777777777778,
              "#fb9f3a"
             ],
             [
              0.8888888888888888,
              "#fdca26"
             ],
             [
              1,
              "#f0f921"
             ]
            ],
            "type": "heatmap"
           }
          ],
          "heatmapgl": [
           {
            "colorbar": {
             "outlinewidth": 0,
             "ticks": ""
            },
            "colorscale": [
             [
              0,
              "#0d0887"
             ],
             [
              0.1111111111111111,
              "#46039f"
             ],
             [
              0.2222222222222222,
              "#7201a8"
             ],
             [
              0.3333333333333333,
              "#9c179e"
             ],
             [
              0.4444444444444444,
              "#bd3786"
             ],
             [
              0.5555555555555556,
              "#d8576b"
             ],
             [
              0.6666666666666666,
              "#ed7953"
             ],
             [
              0.7777777777777778,
              "#fb9f3a"
             ],
             [
              0.8888888888888888,
              "#fdca26"
             ],
             [
              1,
              "#f0f921"
             ]
            ],
            "type": "heatmapgl"
           }
          ],
          "histogram": [
           {
            "marker": {
             "pattern": {
              "fillmode": "overlay",
              "size": 10,
              "solidity": 0.2
             }
            },
            "type": "histogram"
           }
          ],
          "histogram2d": [
           {
            "colorbar": {
             "outlinewidth": 0,
             "ticks": ""
            },
            "colorscale": [
             [
              0,
              "#0d0887"
             ],
             [
              0.1111111111111111,
              "#46039f"
             ],
             [
              0.2222222222222222,
              "#7201a8"
             ],
             [
              0.3333333333333333,
              "#9c179e"
             ],
             [
              0.4444444444444444,
              "#bd3786"
             ],
             [
              0.5555555555555556,
              "#d8576b"
             ],
             [
              0.6666666666666666,
              "#ed7953"
             ],
             [
              0.7777777777777778,
              "#fb9f3a"
             ],
             [
              0.8888888888888888,
              "#fdca26"
             ],
             [
              1,
              "#f0f921"
             ]
            ],
            "type": "histogram2d"
           }
          ],
          "histogram2dcontour": [
           {
            "colorbar": {
             "outlinewidth": 0,
             "ticks": ""
            },
            "colorscale": [
             [
              0,
              "#0d0887"
             ],
             [
              0.1111111111111111,
              "#46039f"
             ],
             [
              0.2222222222222222,
              "#7201a8"
             ],
             [
              0.3333333333333333,
              "#9c179e"
             ],
             [
              0.4444444444444444,
              "#bd3786"
             ],
             [
              0.5555555555555556,
              "#d8576b"
             ],
             [
              0.6666666666666666,
              "#ed7953"
             ],
             [
              0.7777777777777778,
              "#fb9f3a"
             ],
             [
              0.8888888888888888,
              "#fdca26"
             ],
             [
              1,
              "#f0f921"
             ]
            ],
            "type": "histogram2dcontour"
           }
          ],
          "mesh3d": [
           {
            "colorbar": {
             "outlinewidth": 0,
             "ticks": ""
            },
            "type": "mesh3d"
           }
          ],
          "parcoords": [
           {
            "line": {
             "colorbar": {
              "outlinewidth": 0,
              "ticks": ""
             }
            },
            "type": "parcoords"
           }
          ],
          "pie": [
           {
            "automargin": true,
            "type": "pie"
           }
          ],
          "scatter": [
           {
            "fillpattern": {
             "fillmode": "overlay",
             "size": 10,
             "solidity": 0.2
            },
            "type": "scatter"
           }
          ],
          "scatter3d": [
           {
            "line": {
             "colorbar": {
              "outlinewidth": 0,
              "ticks": ""
             }
            },
            "marker": {
             "colorbar": {
              "outlinewidth": 0,
              "ticks": ""
             }
            },
            "type": "scatter3d"
           }
          ],
          "scattercarpet": [
           {
            "marker": {
             "colorbar": {
              "outlinewidth": 0,
              "ticks": ""
             }
            },
            "type": "scattercarpet"
           }
          ],
          "scattergeo": [
           {
            "marker": {
             "colorbar": {
              "outlinewidth": 0,
              "ticks": ""
             }
            },
            "type": "scattergeo"
           }
          ],
          "scattergl": [
           {
            "marker": {
             "colorbar": {
              "outlinewidth": 0,
              "ticks": ""
             }
            },
            "type": "scattergl"
           }
          ],
          "scattermapbox": [
           {
            "marker": {
             "colorbar": {
              "outlinewidth": 0,
              "ticks": ""
             }
            },
            "type": "scattermapbox"
           }
          ],
          "scatterpolar": [
           {
            "marker": {
             "colorbar": {
              "outlinewidth": 0,
              "ticks": ""
             }
            },
            "type": "scatterpolar"
           }
          ],
          "scatterpolargl": [
           {
            "marker": {
             "colorbar": {
              "outlinewidth": 0,
              "ticks": ""
             }
            },
            "type": "scatterpolargl"
           }
          ],
          "scatterternary": [
           {
            "marker": {
             "colorbar": {
              "outlinewidth": 0,
              "ticks": ""
             }
            },
            "type": "scatterternary"
           }
          ],
          "surface": [
           {
            "colorbar": {
             "outlinewidth": 0,
             "ticks": ""
            },
            "colorscale": [
             [
              0,
              "#0d0887"
             ],
             [
              0.1111111111111111,
              "#46039f"
             ],
             [
              0.2222222222222222,
              "#7201a8"
             ],
             [
              0.3333333333333333,
              "#9c179e"
             ],
             [
              0.4444444444444444,
              "#bd3786"
             ],
             [
              0.5555555555555556,
              "#d8576b"
             ],
             [
              0.6666666666666666,
              "#ed7953"
             ],
             [
              0.7777777777777778,
              "#fb9f3a"
             ],
             [
              0.8888888888888888,
              "#fdca26"
             ],
             [
              1,
              "#f0f921"
             ]
            ],
            "type": "surface"
           }
          ],
          "table": [
           {
            "cells": {
             "fill": {
              "color": "#EBF0F8"
             },
             "line": {
              "color": "white"
             }
            },
            "header": {
             "fill": {
              "color": "#C8D4E3"
             },
             "line": {
              "color": "white"
             }
            },
            "type": "table"
           }
          ]
         },
         "layout": {
          "annotationdefaults": {
           "arrowcolor": "#2a3f5f",
           "arrowhead": 0,
           "arrowwidth": 1
          },
          "autotypenumbers": "strict",
          "coloraxis": {
           "colorbar": {
            "outlinewidth": 0,
            "ticks": ""
           }
          },
          "colorscale": {
           "diverging": [
            [
             0,
             "#8e0152"
            ],
            [
             0.1,
             "#c51b7d"
            ],
            [
             0.2,
             "#de77ae"
            ],
            [
             0.3,
             "#f1b6da"
            ],
            [
             0.4,
             "#fde0ef"
            ],
            [
             0.5,
             "#f7f7f7"
            ],
            [
             0.6,
             "#e6f5d0"
            ],
            [
             0.7,
             "#b8e186"
            ],
            [
             0.8,
             "#7fbc41"
            ],
            [
             0.9,
             "#4d9221"
            ],
            [
             1,
             "#276419"
            ]
           ],
           "sequential": [
            [
             0,
             "#0d0887"
            ],
            [
             0.1111111111111111,
             "#46039f"
            ],
            [
             0.2222222222222222,
             "#7201a8"
            ],
            [
             0.3333333333333333,
             "#9c179e"
            ],
            [
             0.4444444444444444,
             "#bd3786"
            ],
            [
             0.5555555555555556,
             "#d8576b"
            ],
            [
             0.6666666666666666,
             "#ed7953"
            ],
            [
             0.7777777777777778,
             "#fb9f3a"
            ],
            [
             0.8888888888888888,
             "#fdca26"
            ],
            [
             1,
             "#f0f921"
            ]
           ],
           "sequentialminus": [
            [
             0,
             "#0d0887"
            ],
            [
             0.1111111111111111,
             "#46039f"
            ],
            [
             0.2222222222222222,
             "#7201a8"
            ],
            [
             0.3333333333333333,
             "#9c179e"
            ],
            [
             0.4444444444444444,
             "#bd3786"
            ],
            [
             0.5555555555555556,
             "#d8576b"
            ],
            [
             0.6666666666666666,
             "#ed7953"
            ],
            [
             0.7777777777777778,
             "#fb9f3a"
            ],
            [
             0.8888888888888888,
             "#fdca26"
            ],
            [
             1,
             "#f0f921"
            ]
           ]
          },
          "colorway": [
           "#636efa",
           "#EF553B",
           "#00cc96",
           "#ab63fa",
           "#FFA15A",
           "#19d3f3",
           "#FF6692",
           "#B6E880",
           "#FF97FF",
           "#FECB52"
          ],
          "font": {
           "color": "#2a3f5f"
          },
          "geo": {
           "bgcolor": "white",
           "lakecolor": "white",
           "landcolor": "#E5ECF6",
           "showlakes": true,
           "showland": true,
           "subunitcolor": "white"
          },
          "hoverlabel": {
           "align": "left"
          },
          "hovermode": "closest",
          "mapbox": {
           "style": "light"
          },
          "paper_bgcolor": "white",
          "plot_bgcolor": "#E5ECF6",
          "polar": {
           "angularaxis": {
            "gridcolor": "white",
            "linecolor": "white",
            "ticks": ""
           },
           "bgcolor": "#E5ECF6",
           "radialaxis": {
            "gridcolor": "white",
            "linecolor": "white",
            "ticks": ""
           }
          },
          "scene": {
           "xaxis": {
            "backgroundcolor": "#E5ECF6",
            "gridcolor": "white",
            "gridwidth": 2,
            "linecolor": "white",
            "showbackground": true,
            "ticks": "",
            "zerolinecolor": "white"
           },
           "yaxis": {
            "backgroundcolor": "#E5ECF6",
            "gridcolor": "white",
            "gridwidth": 2,
            "linecolor": "white",
            "showbackground": true,
            "ticks": "",
            "zerolinecolor": "white"
           },
           "zaxis": {
            "backgroundcolor": "#E5ECF6",
            "gridcolor": "white",
            "gridwidth": 2,
            "linecolor": "white",
            "showbackground": true,
            "ticks": "",
            "zerolinecolor": "white"
           }
          },
          "shapedefaults": {
           "line": {
            "color": "#2a3f5f"
           }
          },
          "ternary": {
           "aaxis": {
            "gridcolor": "white",
            "linecolor": "white",
            "ticks": ""
           },
           "baxis": {
            "gridcolor": "white",
            "linecolor": "white",
            "ticks": ""
           },
           "bgcolor": "#E5ECF6",
           "caxis": {
            "gridcolor": "white",
            "linecolor": "white",
            "ticks": ""
           }
          },
          "title": {
           "x": 0.05
          },
          "xaxis": {
           "automargin": true,
           "gridcolor": "white",
           "linecolor": "white",
           "ticks": "",
           "title": {
            "standoff": 15
           },
           "zerolinecolor": "white",
           "zerolinewidth": 2
          },
          "yaxis": {
           "automargin": true,
           "gridcolor": "white",
           "linecolor": "white",
           "ticks": "",
           "title": {
            "standoff": 15
           },
           "zerolinecolor": "white",
           "zerolinewidth": 2
          }
         }
        },
        "title": {
         "text": "Average Price per Square Meter by Property Type (Last 5 Years)"
        },
        "xaxis": {
         "anchor": "y",
         "domain": [
          0,
          1
         ],
         "title": {
          "text": "property_type_en"
         }
        },
        "yaxis": {
         "anchor": "x",
         "domain": [
          0,
          1
         ],
         "title": {
          "text": "Price per Square Meter (AED)"
         }
        }
       }
      }
     },
     "metadata": {},
     "output_type": "display_data"
    },
    {
     "name": "stdout",
     "output_type": "stream",
     "text": [
      "Statistical summary on Price per Square Meter by Property Type (Last 5 Years):\n",
      "                  count          mean           std       min         25%  \\\n",
      "property_type_en                                                            \n",
      "Unit              110.0  24111.880000   4729.211166  16666.67  20355.3775   \n",
      "Villa              96.0  15088.300417  12100.143336   1718.14  10036.5075   \n",
      "\n",
      "                        50%         75%       max  \n",
      "property_type_en                                   \n",
      "Unit              22355.175  27684.3875  33529.08  \n",
      "Villa             12777.190  14746.4075  70198.43  \n"
     ]
    }
   ],
   "source": [
    "# Average price per square meter by property type\n",
    "price_per_sqm = transactions_satwa_filtered_5y_no_outliers.groupby('property_type_en')['meter_sale_price'].mean()\n",
    "\n",
    "# Plotting the average price per square meter\n",
    "fig_price_per_sqm = px.bar(price_per_sqm, \n",
    "                           title=\"Average Price per Square Meter by Property Type (Last 5 Years)\", \n",
    "                           labels={'index': 'Property Type', 'value': 'Price per Square Meter (AED)'},\n",
    "                           text=price_per_sqm.values.round(2))\n",
    "# Hide the legend\n",
    "fig_price_per_sqm.update_layout(showlegend=False)\n",
    "fig_price_per_sqm.write_image(f\"{output_dir}/price_per_sqm_by_property_type_5_years.png\")\n",
    "fig_price_per_sqm.show()\n",
    "\n",
    "print(\"Statistical summary on Price per Square Meter by Property Type (Last 5 Years):\")\n",
    "print(transactions_satwa_filtered_5y_no_outliers.groupby('property_type_en')['meter_sale_price'].describe())"
   ]
  },
  {
   "cell_type": "markdown",
   "metadata": {},
   "source": [
    "**Price per Square Meter by Property Type (Last 5 Years) Insights**\n",
    "\n",
    "1. **Higher Price per Square Meter for Units**:\n",
    "\n",
    "    - **Units** have an average price per square meter of **24,111.88 AED**, which is significantly higher than Villas at **15,088.30 AED**.\n",
    "\n",
    "    - This suggests that Units are commanding a premium, likely due to their location in higher-demand areas, smaller sizes (making them more affordable overall), or greater appeal to investors looking for rental properties with higher yields.\n",
    "\n",
    "2. **Villas Represent Good Value for Space**:\n",
    "\n",
    "    - Despite the higher total value of Villas, the **price per square meter is lower**. This may indicate that Villas offer better value for buyers looking for more space.\n",
    "\n",
    "    - The agent can use this insight to highlight the spaciousness and overall value that Villas provide, especially for buyers or investors seeking larger properties at a comparatively lower price per square meter.\n",
    "\n",
    "3. **Wide Range in Villa Prices**:\n",
    "\n",
    "    - The price range for Villas is broader, with a minimum of 1,718.14 AED per sqm and a maximum of 70,198.43 AED per sqm. This reflects a diverse market where Villas can cater to both middle-income and high-end buyers, depending on location and property features.\n",
    "\n",
    "    - Agents can segment Villas by price range and target specific types of buyers, from luxury investors to families seeking larger homes with more value for money.\n",
    "\n",
    "4. **Units as Prime Investment Properties**:\n",
    "\n",
    "    - With a high price per square meter and lower standard deviation compared to Villas, Units may appeal more to investors seeking properties with higher immediate returns and predictability in the market.\n",
    "\n",
    "    - The agent can highlight the **consistent high value** of Units and their strong investment potential, especially for short-term rentals or smaller properties in high-demand areas.\n",
    "\n"
   ]
  },
  {
   "cell_type": "markdown",
   "metadata": {},
   "source": [
    "**1.3 Size Distribution by Property Type**\n",
    "\n",
    "Now, let’s analyze the distribution of property sizes for Units and Villas."
   ]
  },
  {
   "cell_type": "code",
   "execution_count": 135,
   "metadata": {},
   "outputs": [
    {
     "data": {
      "application/vnd.plotly.v1+json": {
       "config": {
        "plotlyServerURL": "https://plot.ly"
       },
       "data": [
        {
         "alignmentgroup": "True",
         "hovertemplate": "Property Type=%{x}<br>Size (sqm)=%{y}<extra></extra>",
         "legendgroup": "",
         "marker": {
          "color": "#636efa"
         },
         "name": "",
         "notched": false,
         "offsetgroup": "",
         "orientation": "v",
         "showlegend": false,
         "type": "box",
         "x": [
          "Villa",
          "Villa",
          "Unit",
          "Unit",
          "Villa",
          "Villa",
          "Villa",
          "Villa",
          "Villa",
          "Unit",
          "Unit",
          "Unit",
          "Unit",
          "Unit",
          "Unit",
          "Unit",
          "Unit",
          "Unit",
          "Unit",
          "Unit",
          "Unit",
          "Unit",
          "Unit",
          "Unit",
          "Villa",
          "Villa",
          "Unit",
          "Unit",
          "Unit",
          "Villa",
          "Villa",
          "Unit",
          "Unit",
          "Unit",
          "Villa",
          "Unit",
          "Unit",
          "Villa",
          "Villa",
          "Unit",
          "Villa",
          "Villa",
          "Unit",
          "Unit",
          "Unit",
          "Villa",
          "Unit",
          "Unit",
          "Unit",
          "Villa",
          "Villa",
          "Unit",
          "Villa",
          "Unit",
          "Villa",
          "Villa",
          "Unit",
          "Unit",
          "Unit",
          "Unit",
          "Unit",
          "Unit",
          "Villa",
          "Villa",
          "Villa",
          "Villa",
          "Villa",
          "Unit",
          "Unit",
          "Villa",
          "Unit",
          "Unit",
          "Unit",
          "Villa",
          "Unit",
          "Unit",
          "Villa",
          "Villa",
          "Villa",
          "Villa",
          "Unit",
          "Unit",
          "Villa",
          "Villa",
          "Villa",
          "Unit",
          "Unit",
          "Villa",
          "Villa",
          "Villa",
          "Unit",
          "Unit",
          "Unit",
          "Villa",
          "Villa",
          "Unit",
          "Villa",
          "Unit",
          "Unit",
          "Unit",
          "Villa",
          "Villa",
          "Villa",
          "Unit",
          "Villa",
          "Villa",
          "Villa",
          "Unit",
          "Unit",
          "Unit",
          "Villa",
          "Villa",
          "Villa",
          "Villa",
          "Unit",
          "Unit",
          "Unit",
          "Unit",
          "Villa",
          "Villa",
          "Villa",
          "Villa",
          "Unit",
          "Unit",
          "Villa",
          "Unit",
          "Unit",
          "Unit",
          "Unit",
          "Villa",
          "Unit",
          "Villa",
          "Unit",
          "Unit",
          "Unit",
          "Unit",
          "Villa",
          "Villa",
          "Villa",
          "Villa",
          "Unit",
          "Villa",
          "Villa",
          "Villa",
          "Unit",
          "Villa",
          "Unit",
          "Unit",
          "Villa",
          "Villa",
          "Villa",
          "Villa",
          "Unit",
          "Unit",
          "Unit",
          "Villa",
          "Villa",
          "Unit",
          "Villa",
          "Villa",
          "Villa",
          "Unit",
          "Unit",
          "Unit",
          "Villa",
          "Villa",
          "Unit",
          "Unit",
          "Unit",
          "Villa",
          "Unit",
          "Unit",
          "Unit",
          "Unit",
          "Unit",
          "Villa",
          "Villa",
          "Unit",
          "Unit",
          "Villa",
          "Unit",
          "Unit",
          "Villa",
          "Villa",
          "Villa",
          "Villa",
          "Unit",
          "Unit",
          "Villa",
          "Unit",
          "Unit",
          "Unit",
          "Unit",
          "Villa",
          "Villa",
          "Villa",
          "Unit",
          "Unit",
          "Villa",
          "Villa",
          "Unit",
          "Villa",
          "Villa",
          "Unit",
          "Villa",
          "Villa"
         ],
         "x0": " ",
         "xaxis": "x",
         "y": [
          239.23,
          1393.55,
          35.6,
          89.64,
          234.67,
          77.42,
          232.26,
          232.26,
          232.26,
          87.56,
          35.88,
          97.28,
          106,
          39.36,
          35.6,
          89.64,
          35.6,
          69.37,
          106,
          35.76,
          35.76,
          87.56,
          87.31,
          70.87,
          196.52,
          232.26,
          35.88,
          35.94,
          71.62,
          232.26,
          232.26,
          39.6,
          89.64,
          35.76,
          233.37,
          35.6,
          87.31,
          229.28,
          139.35,
          39.34,
          230.12,
          594.58,
          70.87,
          54.71,
          71.62,
          221.02,
          54.71,
          96,
          87.56,
          594.58,
          232.26,
          35.88,
          226,
          87.31,
          232.26,
          232.26,
          71.62,
          39.67,
          39.6,
          71.82,
          135.21,
          35.88,
          232.26,
          232.26,
          233.37,
          232.26,
          233.37,
          35.88,
          39.59,
          232.26,
          54.71,
          71.62,
          46.42,
          232.26,
          35.75,
          35.76,
          232.26,
          232.26,
          232.26,
          232.26,
          89.64,
          70.87,
          222.87,
          232.26,
          231.51,
          35.76,
          87.56,
          231.05,
          232.81,
          209.03,
          89.64,
          35.6,
          39.4,
          278.71,
          243.22,
          35.76,
          1305.29,
          89.64,
          54.71,
          80.7,
          597.64,
          232.26,
          1393.55,
          35.94,
          227.61,
          25.4,
          232.26,
          51.27,
          70.87,
          39.67,
          222.87,
          233,
          232.26,
          1068.38,
          35.94,
          89.64,
          54.71,
          35.88,
          232.26,
          232.26,
          234.67,
          232.26,
          87.56,
          35.76,
          232.26,
          35.76,
          35.76,
          70.87,
          87.31,
          232.26,
          135.21,
          227.61,
          42.59,
          87.56,
          35.94,
          35.6,
          232.26,
          227.61,
          232.26,
          226,
          87.31,
          232.26,
          1393.55,
          1393.55,
          70.87,
          232.26,
          35.6,
          87.31,
          232.26,
          229.47,
          223.99,
          1374.96,
          82.77,
          71.82,
          45.9,
          218.23,
          232.26,
          78.95,
          668.9,
          213.68,
          234.39,
          35.76,
          71.62,
          35.94,
          232.26,
          234.58,
          35.76,
          35.88,
          35.94,
          232.26,
          44.81,
          70.87,
          69.36,
          51.63,
          35.76,
          235.97,
          278.71,
          87.31,
          54.71,
          1323.87,
          82.33,
          69.36,
          232.26,
          278.71,
          232.26,
          278.71,
          82.77,
          71.62,
          213.68,
          35.76,
          71.62,
          54.71,
          35.76,
          225.29,
          223.99,
          232.26,
          54.71,
          35.94,
          232.26,
          232.26,
          35.76,
          232.26,
          227.61,
          87.56,
          232.26,
          594.58
         ],
         "y0": " ",
         "yaxis": "y"
        }
       ],
       "layout": {
        "boxmode": "group",
        "legend": {
         "tracegroupgap": 0
        },
        "template": {
         "data": {
          "bar": [
           {
            "error_x": {
             "color": "#2a3f5f"
            },
            "error_y": {
             "color": "#2a3f5f"
            },
            "marker": {
             "line": {
              "color": "#E5ECF6",
              "width": 0.5
             },
             "pattern": {
              "fillmode": "overlay",
              "size": 10,
              "solidity": 0.2
             }
            },
            "type": "bar"
           }
          ],
          "barpolar": [
           {
            "marker": {
             "line": {
              "color": "#E5ECF6",
              "width": 0.5
             },
             "pattern": {
              "fillmode": "overlay",
              "size": 10,
              "solidity": 0.2
             }
            },
            "type": "barpolar"
           }
          ],
          "carpet": [
           {
            "aaxis": {
             "endlinecolor": "#2a3f5f",
             "gridcolor": "white",
             "linecolor": "white",
             "minorgridcolor": "white",
             "startlinecolor": "#2a3f5f"
            },
            "baxis": {
             "endlinecolor": "#2a3f5f",
             "gridcolor": "white",
             "linecolor": "white",
             "minorgridcolor": "white",
             "startlinecolor": "#2a3f5f"
            },
            "type": "carpet"
           }
          ],
          "choropleth": [
           {
            "colorbar": {
             "outlinewidth": 0,
             "ticks": ""
            },
            "type": "choropleth"
           }
          ],
          "contour": [
           {
            "colorbar": {
             "outlinewidth": 0,
             "ticks": ""
            },
            "colorscale": [
             [
              0,
              "#0d0887"
             ],
             [
              0.1111111111111111,
              "#46039f"
             ],
             [
              0.2222222222222222,
              "#7201a8"
             ],
             [
              0.3333333333333333,
              "#9c179e"
             ],
             [
              0.4444444444444444,
              "#bd3786"
             ],
             [
              0.5555555555555556,
              "#d8576b"
             ],
             [
              0.6666666666666666,
              "#ed7953"
             ],
             [
              0.7777777777777778,
              "#fb9f3a"
             ],
             [
              0.8888888888888888,
              "#fdca26"
             ],
             [
              1,
              "#f0f921"
             ]
            ],
            "type": "contour"
           }
          ],
          "contourcarpet": [
           {
            "colorbar": {
             "outlinewidth": 0,
             "ticks": ""
            },
            "type": "contourcarpet"
           }
          ],
          "heatmap": [
           {
            "colorbar": {
             "outlinewidth": 0,
             "ticks": ""
            },
            "colorscale": [
             [
              0,
              "#0d0887"
             ],
             [
              0.1111111111111111,
              "#46039f"
             ],
             [
              0.2222222222222222,
              "#7201a8"
             ],
             [
              0.3333333333333333,
              "#9c179e"
             ],
             [
              0.4444444444444444,
              "#bd3786"
             ],
             [
              0.5555555555555556,
              "#d8576b"
             ],
             [
              0.6666666666666666,
              "#ed7953"
             ],
             [
              0.7777777777777778,
              "#fb9f3a"
             ],
             [
              0.8888888888888888,
              "#fdca26"
             ],
             [
              1,
              "#f0f921"
             ]
            ],
            "type": "heatmap"
           }
          ],
          "heatmapgl": [
           {
            "colorbar": {
             "outlinewidth": 0,
             "ticks": ""
            },
            "colorscale": [
             [
              0,
              "#0d0887"
             ],
             [
              0.1111111111111111,
              "#46039f"
             ],
             [
              0.2222222222222222,
              "#7201a8"
             ],
             [
              0.3333333333333333,
              "#9c179e"
             ],
             [
              0.4444444444444444,
              "#bd3786"
             ],
             [
              0.5555555555555556,
              "#d8576b"
             ],
             [
              0.6666666666666666,
              "#ed7953"
             ],
             [
              0.7777777777777778,
              "#fb9f3a"
             ],
             [
              0.8888888888888888,
              "#fdca26"
             ],
             [
              1,
              "#f0f921"
             ]
            ],
            "type": "heatmapgl"
           }
          ],
          "histogram": [
           {
            "marker": {
             "pattern": {
              "fillmode": "overlay",
              "size": 10,
              "solidity": 0.2
             }
            },
            "type": "histogram"
           }
          ],
          "histogram2d": [
           {
            "colorbar": {
             "outlinewidth": 0,
             "ticks": ""
            },
            "colorscale": [
             [
              0,
              "#0d0887"
             ],
             [
              0.1111111111111111,
              "#46039f"
             ],
             [
              0.2222222222222222,
              "#7201a8"
             ],
             [
              0.3333333333333333,
              "#9c179e"
             ],
             [
              0.4444444444444444,
              "#bd3786"
             ],
             [
              0.5555555555555556,
              "#d8576b"
             ],
             [
              0.6666666666666666,
              "#ed7953"
             ],
             [
              0.7777777777777778,
              "#fb9f3a"
             ],
             [
              0.8888888888888888,
              "#fdca26"
             ],
             [
              1,
              "#f0f921"
             ]
            ],
            "type": "histogram2d"
           }
          ],
          "histogram2dcontour": [
           {
            "colorbar": {
             "outlinewidth": 0,
             "ticks": ""
            },
            "colorscale": [
             [
              0,
              "#0d0887"
             ],
             [
              0.1111111111111111,
              "#46039f"
             ],
             [
              0.2222222222222222,
              "#7201a8"
             ],
             [
              0.3333333333333333,
              "#9c179e"
             ],
             [
              0.4444444444444444,
              "#bd3786"
             ],
             [
              0.5555555555555556,
              "#d8576b"
             ],
             [
              0.6666666666666666,
              "#ed7953"
             ],
             [
              0.7777777777777778,
              "#fb9f3a"
             ],
             [
              0.8888888888888888,
              "#fdca26"
             ],
             [
              1,
              "#f0f921"
             ]
            ],
            "type": "histogram2dcontour"
           }
          ],
          "mesh3d": [
           {
            "colorbar": {
             "outlinewidth": 0,
             "ticks": ""
            },
            "type": "mesh3d"
           }
          ],
          "parcoords": [
           {
            "line": {
             "colorbar": {
              "outlinewidth": 0,
              "ticks": ""
             }
            },
            "type": "parcoords"
           }
          ],
          "pie": [
           {
            "automargin": true,
            "type": "pie"
           }
          ],
          "scatter": [
           {
            "fillpattern": {
             "fillmode": "overlay",
             "size": 10,
             "solidity": 0.2
            },
            "type": "scatter"
           }
          ],
          "scatter3d": [
           {
            "line": {
             "colorbar": {
              "outlinewidth": 0,
              "ticks": ""
             }
            },
            "marker": {
             "colorbar": {
              "outlinewidth": 0,
              "ticks": ""
             }
            },
            "type": "scatter3d"
           }
          ],
          "scattercarpet": [
           {
            "marker": {
             "colorbar": {
              "outlinewidth": 0,
              "ticks": ""
             }
            },
            "type": "scattercarpet"
           }
          ],
          "scattergeo": [
           {
            "marker": {
             "colorbar": {
              "outlinewidth": 0,
              "ticks": ""
             }
            },
            "type": "scattergeo"
           }
          ],
          "scattergl": [
           {
            "marker": {
             "colorbar": {
              "outlinewidth": 0,
              "ticks": ""
             }
            },
            "type": "scattergl"
           }
          ],
          "scattermapbox": [
           {
            "marker": {
             "colorbar": {
              "outlinewidth": 0,
              "ticks": ""
             }
            },
            "type": "scattermapbox"
           }
          ],
          "scatterpolar": [
           {
            "marker": {
             "colorbar": {
              "outlinewidth": 0,
              "ticks": ""
             }
            },
            "type": "scatterpolar"
           }
          ],
          "scatterpolargl": [
           {
            "marker": {
             "colorbar": {
              "outlinewidth": 0,
              "ticks": ""
             }
            },
            "type": "scatterpolargl"
           }
          ],
          "scatterternary": [
           {
            "marker": {
             "colorbar": {
              "outlinewidth": 0,
              "ticks": ""
             }
            },
            "type": "scatterternary"
           }
          ],
          "surface": [
           {
            "colorbar": {
             "outlinewidth": 0,
             "ticks": ""
            },
            "colorscale": [
             [
              0,
              "#0d0887"
             ],
             [
              0.1111111111111111,
              "#46039f"
             ],
             [
              0.2222222222222222,
              "#7201a8"
             ],
             [
              0.3333333333333333,
              "#9c179e"
             ],
             [
              0.4444444444444444,
              "#bd3786"
             ],
             [
              0.5555555555555556,
              "#d8576b"
             ],
             [
              0.6666666666666666,
              "#ed7953"
             ],
             [
              0.7777777777777778,
              "#fb9f3a"
             ],
             [
              0.8888888888888888,
              "#fdca26"
             ],
             [
              1,
              "#f0f921"
             ]
            ],
            "type": "surface"
           }
          ],
          "table": [
           {
            "cells": {
             "fill": {
              "color": "#EBF0F8"
             },
             "line": {
              "color": "white"
             }
            },
            "header": {
             "fill": {
              "color": "#C8D4E3"
             },
             "line": {
              "color": "white"
             }
            },
            "type": "table"
           }
          ]
         },
         "layout": {
          "annotationdefaults": {
           "arrowcolor": "#2a3f5f",
           "arrowhead": 0,
           "arrowwidth": 1
          },
          "autotypenumbers": "strict",
          "coloraxis": {
           "colorbar": {
            "outlinewidth": 0,
            "ticks": ""
           }
          },
          "colorscale": {
           "diverging": [
            [
             0,
             "#8e0152"
            ],
            [
             0.1,
             "#c51b7d"
            ],
            [
             0.2,
             "#de77ae"
            ],
            [
             0.3,
             "#f1b6da"
            ],
            [
             0.4,
             "#fde0ef"
            ],
            [
             0.5,
             "#f7f7f7"
            ],
            [
             0.6,
             "#e6f5d0"
            ],
            [
             0.7,
             "#b8e186"
            ],
            [
             0.8,
             "#7fbc41"
            ],
            [
             0.9,
             "#4d9221"
            ],
            [
             1,
             "#276419"
            ]
           ],
           "sequential": [
            [
             0,
             "#0d0887"
            ],
            [
             0.1111111111111111,
             "#46039f"
            ],
            [
             0.2222222222222222,
             "#7201a8"
            ],
            [
             0.3333333333333333,
             "#9c179e"
            ],
            [
             0.4444444444444444,
             "#bd3786"
            ],
            [
             0.5555555555555556,
             "#d8576b"
            ],
            [
             0.6666666666666666,
             "#ed7953"
            ],
            [
             0.7777777777777778,
             "#fb9f3a"
            ],
            [
             0.8888888888888888,
             "#fdca26"
            ],
            [
             1,
             "#f0f921"
            ]
           ],
           "sequentialminus": [
            [
             0,
             "#0d0887"
            ],
            [
             0.1111111111111111,
             "#46039f"
            ],
            [
             0.2222222222222222,
             "#7201a8"
            ],
            [
             0.3333333333333333,
             "#9c179e"
            ],
            [
             0.4444444444444444,
             "#bd3786"
            ],
            [
             0.5555555555555556,
             "#d8576b"
            ],
            [
             0.6666666666666666,
             "#ed7953"
            ],
            [
             0.7777777777777778,
             "#fb9f3a"
            ],
            [
             0.8888888888888888,
             "#fdca26"
            ],
            [
             1,
             "#f0f921"
            ]
           ]
          },
          "colorway": [
           "#636efa",
           "#EF553B",
           "#00cc96",
           "#ab63fa",
           "#FFA15A",
           "#19d3f3",
           "#FF6692",
           "#B6E880",
           "#FF97FF",
           "#FECB52"
          ],
          "font": {
           "color": "#2a3f5f"
          },
          "geo": {
           "bgcolor": "white",
           "lakecolor": "white",
           "landcolor": "#E5ECF6",
           "showlakes": true,
           "showland": true,
           "subunitcolor": "white"
          },
          "hoverlabel": {
           "align": "left"
          },
          "hovermode": "closest",
          "mapbox": {
           "style": "light"
          },
          "paper_bgcolor": "white",
          "plot_bgcolor": "#E5ECF6",
          "polar": {
           "angularaxis": {
            "gridcolor": "white",
            "linecolor": "white",
            "ticks": ""
           },
           "bgcolor": "#E5ECF6",
           "radialaxis": {
            "gridcolor": "white",
            "linecolor": "white",
            "ticks": ""
           }
          },
          "scene": {
           "xaxis": {
            "backgroundcolor": "#E5ECF6",
            "gridcolor": "white",
            "gridwidth": 2,
            "linecolor": "white",
            "showbackground": true,
            "ticks": "",
            "zerolinecolor": "white"
           },
           "yaxis": {
            "backgroundcolor": "#E5ECF6",
            "gridcolor": "white",
            "gridwidth": 2,
            "linecolor": "white",
            "showbackground": true,
            "ticks": "",
            "zerolinecolor": "white"
           },
           "zaxis": {
            "backgroundcolor": "#E5ECF6",
            "gridcolor": "white",
            "gridwidth": 2,
            "linecolor": "white",
            "showbackground": true,
            "ticks": "",
            "zerolinecolor": "white"
           }
          },
          "shapedefaults": {
           "line": {
            "color": "#2a3f5f"
           }
          },
          "ternary": {
           "aaxis": {
            "gridcolor": "white",
            "linecolor": "white",
            "ticks": ""
           },
           "baxis": {
            "gridcolor": "white",
            "linecolor": "white",
            "ticks": ""
           },
           "bgcolor": "#E5ECF6",
           "caxis": {
            "gridcolor": "white",
            "linecolor": "white",
            "ticks": ""
           }
          },
          "title": {
           "x": 0.05
          },
          "xaxis": {
           "automargin": true,
           "gridcolor": "white",
           "linecolor": "white",
           "ticks": "",
           "title": {
            "standoff": 15
           },
           "zerolinecolor": "white",
           "zerolinewidth": 2
          },
          "yaxis": {
           "automargin": true,
           "gridcolor": "white",
           "linecolor": "white",
           "ticks": "",
           "title": {
            "standoff": 15
           },
           "zerolinecolor": "white",
           "zerolinewidth": 2
          }
         }
        },
        "title": {
         "text": "Property Size Distribution by Property Type (Last 5 Years)"
        },
        "xaxis": {
         "anchor": "y",
         "domain": [
          0,
          1
         ],
         "title": {
          "text": "Property Type"
         }
        },
        "yaxis": {
         "anchor": "x",
         "domain": [
          0,
          1
         ],
         "title": {
          "text": "Size (sqm)"
         }
        }
       }
      }
     },
     "metadata": {},
     "output_type": "display_data"
    },
    {
     "name": "stdout",
     "output_type": "stream",
     "text": [
      "Statistical summary on Procedure Area by Property Type (Last 5 Years):\n",
      "                  count        mean         std   min      25%     50%  \\\n",
      "property_type_en                                                         \n",
      "Unit              110.0   60.405182   24.583114  35.6   35.880   54.71   \n",
      "Villa              96.0  338.922917  315.488864  25.4  231.395  232.26   \n",
      "\n",
      "                      75%      max  \n",
      "property_type_en                    \n",
      "Unit               82.770   135.21  \n",
      "Villa             233.625  1393.55  \n"
     ]
    }
   ],
   "source": [
    "# Property size distribution by property type\n",
    "size_distribution = transactions_satwa_filtered_5y_no_outliers.groupby('property_type_en')['procedure_area'].describe()\n",
    "\n",
    "# Plotting the size distribution\n",
    "fig_size_distribution = px.box(transactions_satwa_filtered_5y_no_outliers, \n",
    "                               x='property_type_en', \n",
    "                               y='procedure_area', \n",
    "                               title=\"Property Size Distribution by Property Type (Last 5 Years)\", \n",
    "                               labels={'property_type_en': 'Property Type', 'procedure_area': 'Size (sqm)'})\n",
    "fig_size_distribution.write_image(f\"{output_dir}/size_distribution_by_property_type_5_years.png\")\n",
    "fig_size_distribution.show()\n",
    "\n",
    "# Displaying the statistical summary of property size by property type\n",
    "print(\"Statistical summary on Procedure Area by Property Type (Last 5 Years):\")\n",
    "print(size_distribution)"
   ]
  },
  {
   "cell_type": "markdown",
   "metadata": {},
   "source": [
    "**Property Size Distribution by Property Type (Last 5 Years) Insights**\n",
    "\n",
    "1. **Villas Offer Significantly Larger Spaces**:\n",
    "\n",
    "    - **Villas** have a much larger average size at **338.92 sqm** compared to **Units**, which average **60.41 sqm**. This is consistent with the general expectation that Villas provide more living space.\n",
    "\n",
    "    - The agent can use this insight to target families or buyers seeking larger living spaces, emphasizing that Villas are a great option for those looking for spacious properties.\n",
    "\n",
    "2. **Concentrated Distribution for Units**:\n",
    "\n",
    "    - **Units** have a relatively tight range in size, with a 75th percentile of **82.77 sqm**, and a maximum size of **135.21 sqm**. This suggests that Units are typically small, compact properties, ideal for individual buyers, couples, or investors looking for rental properties.\n",
    "\n",
    "    - This can be used to attract buyers looking for more affordable or manageable properties, such as young professionals or small families.\n",
    "\n",
    "3. **Wide Range of Villa Sizes**:\n",
    "\n",
    "    - The **Villa** market displays a broader range of property sizes, from a minimum of **25.4 sqm** to a maximum of **1,393.55 sqm**. This indicates that Villas are available in various sizes, catering to different buyer profiles, from smaller Villas to luxury properties with extensive land.\n",
    "\n",
    "    - The agent can highlight this range of options, catering to both mid-market buyers and those seeking high-end, large Villas.\n",
    "\n",
    "4. **Appealing to Different Buyer Segments**:\n",
    "\n",
    "    - The contrast in sizes between Villas and Units highlights the opportunity to target different buyer segments. Villas can be marketed to those seeking more space, privacy, and luxury, while Units can be promoted to individuals or investors seeking affordable, low-maintenance properties in high-demand locations.\n",
    "\n",
    "    - This insight can help the agent design more effective marketing strategies for different property types, addressing the needs of diverse buyers in the real estate market."
   ]
  },
  {
   "cell_type": "code",
   "execution_count": 136,
   "metadata": {},
   "outputs": [],
   "source": [
    "transactions_satwa_filtered_5y_no_outliers.to_csv(\"satwa_transactions_cleaned.csv\", index=False)"
   ]
  },
  {
   "cell_type": "markdown",
   "metadata": {},
   "source": [
    "**1.4 Price Distribution for Units vs. Villas**\n",
    "\n",
    "Lastly, we’ll plot the distribution of actual property worth for Units and Villas."
   ]
  },
  {
   "cell_type": "code",
   "execution_count": 137,
   "metadata": {},
   "outputs": [
    {
     "data": {
      "application/vnd.plotly.v1+json": {
       "config": {
        "plotlyServerURL": "https://plot.ly"
       },
       "data": [
        {
         "alignmentgroup": "True",
         "hovertemplate": "Property Type=%{x}<br>Property Worth (AED)=%{y}<extra></extra>",
         "legendgroup": "",
         "marker": {
          "color": "#636efa"
         },
         "name": "",
         "notched": false,
         "offsetgroup": "",
         "orientation": "v",
         "showlegend": false,
         "type": "box",
         "x": [
          "Villa",
          "Villa",
          "Unit",
          "Unit",
          "Villa",
          "Villa",
          "Villa",
          "Villa",
          "Villa",
          "Unit",
          "Unit",
          "Unit",
          "Unit",
          "Unit",
          "Unit",
          "Unit",
          "Unit",
          "Unit",
          "Unit",
          "Unit",
          "Unit",
          "Unit",
          "Unit",
          "Unit",
          "Villa",
          "Villa",
          "Unit",
          "Unit",
          "Unit",
          "Villa",
          "Villa",
          "Unit",
          "Unit",
          "Unit",
          "Villa",
          "Unit",
          "Unit",
          "Villa",
          "Villa",
          "Unit",
          "Villa",
          "Villa",
          "Unit",
          "Unit",
          "Unit",
          "Villa",
          "Unit",
          "Unit",
          "Unit",
          "Villa",
          "Villa",
          "Unit",
          "Villa",
          "Unit",
          "Villa",
          "Villa",
          "Unit",
          "Unit",
          "Unit",
          "Unit",
          "Unit",
          "Unit",
          "Villa",
          "Villa",
          "Villa",
          "Villa",
          "Villa",
          "Unit",
          "Unit",
          "Villa",
          "Unit",
          "Unit",
          "Unit",
          "Villa",
          "Unit",
          "Unit",
          "Villa",
          "Villa",
          "Villa",
          "Villa",
          "Unit",
          "Unit",
          "Villa",
          "Villa",
          "Villa",
          "Unit",
          "Unit",
          "Villa",
          "Villa",
          "Villa",
          "Unit",
          "Unit",
          "Unit",
          "Villa",
          "Villa",
          "Unit",
          "Villa",
          "Unit",
          "Unit",
          "Unit",
          "Villa",
          "Villa",
          "Villa",
          "Unit",
          "Villa",
          "Villa",
          "Villa",
          "Unit",
          "Unit",
          "Unit",
          "Villa",
          "Villa",
          "Villa",
          "Villa",
          "Unit",
          "Unit",
          "Unit",
          "Unit",
          "Villa",
          "Villa",
          "Villa",
          "Villa",
          "Unit",
          "Unit",
          "Villa",
          "Unit",
          "Unit",
          "Unit",
          "Unit",
          "Villa",
          "Unit",
          "Villa",
          "Unit",
          "Unit",
          "Unit",
          "Unit",
          "Villa",
          "Villa",
          "Villa",
          "Villa",
          "Unit",
          "Villa",
          "Villa",
          "Villa",
          "Unit",
          "Villa",
          "Unit",
          "Unit",
          "Villa",
          "Villa",
          "Villa",
          "Villa",
          "Unit",
          "Unit",
          "Unit",
          "Villa",
          "Villa",
          "Unit",
          "Villa",
          "Villa",
          "Villa",
          "Unit",
          "Unit",
          "Unit",
          "Villa",
          "Villa",
          "Unit",
          "Unit",
          "Unit",
          "Villa",
          "Unit",
          "Unit",
          "Unit",
          "Unit",
          "Unit",
          "Villa",
          "Villa",
          "Unit",
          "Unit",
          "Villa",
          "Unit",
          "Unit",
          "Villa",
          "Villa",
          "Villa",
          "Villa",
          "Unit",
          "Unit",
          "Villa",
          "Unit",
          "Unit",
          "Unit",
          "Unit",
          "Villa",
          "Villa",
          "Villa",
          "Unit",
          "Unit",
          "Villa",
          "Villa",
          "Unit",
          "Villa",
          "Villa",
          "Unit",
          "Villa",
          "Villa"
         ],
         "x0": " ",
         "xaxis": "x",
         "y": [
          3000000,
          8000000,
          970000,
          1650000,
          2425000,
          1000000,
          3200000,
          2500000,
          2400000,
          1925000,
          1099000,
          1650000,
          2229000,
          1030000,
          1145000,
          1865000,
          1022070,
          1276855,
          2236500,
          926144,
          1149000,
          1681035,
          1673070,
          1424990,
          5703500,
          5900000,
          1060000,
          950000,
          1799000,
          3350000,
          3500000,
          1000000,
          1799000,
          1020000,
          3250000,
          1185000,
          1668400,
          2400000,
          1500000,
          1004250,
          5300000,
          2800000,
          1730000,
          1130000,
          1530000,
          2100000,
          1143900,
          1600000,
          1799000,
          2500000,
          4000000,
          1145000,
          2200000,
          1950000,
          6787900,
          3500000,
          1480000,
          1000000,
          1030000,
          1571700,
          2750000,
          1099000,
          3400000,
          2400000,
          2250000,
          1500000,
          2600000,
          1185000,
          1030000,
          3100000,
          1183400,
          1720000,
          838880,
          15595000,
          950000,
          926144,
          3000000,
          2300000,
          5450000,
          3000000,
          1767000,
          1799000,
          5600000,
          2600000,
          7200000,
          1114530,
          1970000,
          3000000,
          400000,
          3000000,
          1785000,
          1055040,
          1030000,
          2475000,
          3200000,
          1103385,
          7875000,
          1885000,
          1220000,
          1480000,
          2470800,
          2400000,
          8500000,
          1064850,
          14000000,
          306000,
          2375000,
          1007000,
          1766070,
          1030000,
          2000000,
          2700000,
          2850000,
          5500000,
          1099000,
          1950000,
          1153200,
          1000000,
          3000000,
          5350000,
          5850000,
          3600000,
          1899000,
          1199000,
          2750000,
          1099000,
          1149000,
          1799000,
          1488645,
          3000000,
          2565000,
          3600000,
          953000,
          1610000,
          1099000,
          930000,
          3000000,
          3600000,
          3000000,
          3000000,
          1842030,
          3000000,
          6000000,
          6200000,
          1720500,
          3000000,
          1099000,
          1925000,
          2400000,
          2900000,
          3000000,
          6014000,
          1500000,
          1521000,
          850640,
          2200000,
          3000000,
          1611000,
          4100000,
          3000000,
          2021810,
          1066030,
          1420000,
          1185000,
          5800000,
          2125000,
          1199000,
          1099000,
          1000000,
          2400000,
          905350,
          1540000,
          1474517,
          1089000,
          1020000,
          2700000,
          2700000,
          1865000,
          1220000,
          6565000,
          1550000,
          1280000,
          2800000,
          6400000,
          5700000,
          3000000,
          1590000,
          1471740,
          15000000,
          926000,
          1830000,
          1099000,
          975000,
          3050000,
          6200000,
          3005000,
          1000000,
          1099000,
          2600000,
          2500000,
          926144,
          3200000,
          4100000,
          1490325,
          14000000,
          2000000
         ],
         "y0": " ",
         "yaxis": "y"
        }
       ],
       "layout": {
        "boxmode": "group",
        "legend": {
         "tracegroupgap": 0
        },
        "template": {
         "data": {
          "bar": [
           {
            "error_x": {
             "color": "#2a3f5f"
            },
            "error_y": {
             "color": "#2a3f5f"
            },
            "marker": {
             "line": {
              "color": "#E5ECF6",
              "width": 0.5
             },
             "pattern": {
              "fillmode": "overlay",
              "size": 10,
              "solidity": 0.2
             }
            },
            "type": "bar"
           }
          ],
          "barpolar": [
           {
            "marker": {
             "line": {
              "color": "#E5ECF6",
              "width": 0.5
             },
             "pattern": {
              "fillmode": "overlay",
              "size": 10,
              "solidity": 0.2
             }
            },
            "type": "barpolar"
           }
          ],
          "carpet": [
           {
            "aaxis": {
             "endlinecolor": "#2a3f5f",
             "gridcolor": "white",
             "linecolor": "white",
             "minorgridcolor": "white",
             "startlinecolor": "#2a3f5f"
            },
            "baxis": {
             "endlinecolor": "#2a3f5f",
             "gridcolor": "white",
             "linecolor": "white",
             "minorgridcolor": "white",
             "startlinecolor": "#2a3f5f"
            },
            "type": "carpet"
           }
          ],
          "choropleth": [
           {
            "colorbar": {
             "outlinewidth": 0,
             "ticks": ""
            },
            "type": "choropleth"
           }
          ],
          "contour": [
           {
            "colorbar": {
             "outlinewidth": 0,
             "ticks": ""
            },
            "colorscale": [
             [
              0,
              "#0d0887"
             ],
             [
              0.1111111111111111,
              "#46039f"
             ],
             [
              0.2222222222222222,
              "#7201a8"
             ],
             [
              0.3333333333333333,
              "#9c179e"
             ],
             [
              0.4444444444444444,
              "#bd3786"
             ],
             [
              0.5555555555555556,
              "#d8576b"
             ],
             [
              0.6666666666666666,
              "#ed7953"
             ],
             [
              0.7777777777777778,
              "#fb9f3a"
             ],
             [
              0.8888888888888888,
              "#fdca26"
             ],
             [
              1,
              "#f0f921"
             ]
            ],
            "type": "contour"
           }
          ],
          "contourcarpet": [
           {
            "colorbar": {
             "outlinewidth": 0,
             "ticks": ""
            },
            "type": "contourcarpet"
           }
          ],
          "heatmap": [
           {
            "colorbar": {
             "outlinewidth": 0,
             "ticks": ""
            },
            "colorscale": [
             [
              0,
              "#0d0887"
             ],
             [
              0.1111111111111111,
              "#46039f"
             ],
             [
              0.2222222222222222,
              "#7201a8"
             ],
             [
              0.3333333333333333,
              "#9c179e"
             ],
             [
              0.4444444444444444,
              "#bd3786"
             ],
             [
              0.5555555555555556,
              "#d8576b"
             ],
             [
              0.6666666666666666,
              "#ed7953"
             ],
             [
              0.7777777777777778,
              "#fb9f3a"
             ],
             [
              0.8888888888888888,
              "#fdca26"
             ],
             [
              1,
              "#f0f921"
             ]
            ],
            "type": "heatmap"
           }
          ],
          "heatmapgl": [
           {
            "colorbar": {
             "outlinewidth": 0,
             "ticks": ""
            },
            "colorscale": [
             [
              0,
              "#0d0887"
             ],
             [
              0.1111111111111111,
              "#46039f"
             ],
             [
              0.2222222222222222,
              "#7201a8"
             ],
             [
              0.3333333333333333,
              "#9c179e"
             ],
             [
              0.4444444444444444,
              "#bd3786"
             ],
             [
              0.5555555555555556,
              "#d8576b"
             ],
             [
              0.6666666666666666,
              "#ed7953"
             ],
             [
              0.7777777777777778,
              "#fb9f3a"
             ],
             [
              0.8888888888888888,
              "#fdca26"
             ],
             [
              1,
              "#f0f921"
             ]
            ],
            "type": "heatmapgl"
           }
          ],
          "histogram": [
           {
            "marker": {
             "pattern": {
              "fillmode": "overlay",
              "size": 10,
              "solidity": 0.2
             }
            },
            "type": "histogram"
           }
          ],
          "histogram2d": [
           {
            "colorbar": {
             "outlinewidth": 0,
             "ticks": ""
            },
            "colorscale": [
             [
              0,
              "#0d0887"
             ],
             [
              0.1111111111111111,
              "#46039f"
             ],
             [
              0.2222222222222222,
              "#7201a8"
             ],
             [
              0.3333333333333333,
              "#9c179e"
             ],
             [
              0.4444444444444444,
              "#bd3786"
             ],
             [
              0.5555555555555556,
              "#d8576b"
             ],
             [
              0.6666666666666666,
              "#ed7953"
             ],
             [
              0.7777777777777778,
              "#fb9f3a"
             ],
             [
              0.8888888888888888,
              "#fdca26"
             ],
             [
              1,
              "#f0f921"
             ]
            ],
            "type": "histogram2d"
           }
          ],
          "histogram2dcontour": [
           {
            "colorbar": {
             "outlinewidth": 0,
             "ticks": ""
            },
            "colorscale": [
             [
              0,
              "#0d0887"
             ],
             [
              0.1111111111111111,
              "#46039f"
             ],
             [
              0.2222222222222222,
              "#7201a8"
             ],
             [
              0.3333333333333333,
              "#9c179e"
             ],
             [
              0.4444444444444444,
              "#bd3786"
             ],
             [
              0.5555555555555556,
              "#d8576b"
             ],
             [
              0.6666666666666666,
              "#ed7953"
             ],
             [
              0.7777777777777778,
              "#fb9f3a"
             ],
             [
              0.8888888888888888,
              "#fdca26"
             ],
             [
              1,
              "#f0f921"
             ]
            ],
            "type": "histogram2dcontour"
           }
          ],
          "mesh3d": [
           {
            "colorbar": {
             "outlinewidth": 0,
             "ticks": ""
            },
            "type": "mesh3d"
           }
          ],
          "parcoords": [
           {
            "line": {
             "colorbar": {
              "outlinewidth": 0,
              "ticks": ""
             }
            },
            "type": "parcoords"
           }
          ],
          "pie": [
           {
            "automargin": true,
            "type": "pie"
           }
          ],
          "scatter": [
           {
            "fillpattern": {
             "fillmode": "overlay",
             "size": 10,
             "solidity": 0.2
            },
            "type": "scatter"
           }
          ],
          "scatter3d": [
           {
            "line": {
             "colorbar": {
              "outlinewidth": 0,
              "ticks": ""
             }
            },
            "marker": {
             "colorbar": {
              "outlinewidth": 0,
              "ticks": ""
             }
            },
            "type": "scatter3d"
           }
          ],
          "scattercarpet": [
           {
            "marker": {
             "colorbar": {
              "outlinewidth": 0,
              "ticks": ""
             }
            },
            "type": "scattercarpet"
           }
          ],
          "scattergeo": [
           {
            "marker": {
             "colorbar": {
              "outlinewidth": 0,
              "ticks": ""
             }
            },
            "type": "scattergeo"
           }
          ],
          "scattergl": [
           {
            "marker": {
             "colorbar": {
              "outlinewidth": 0,
              "ticks": ""
             }
            },
            "type": "scattergl"
           }
          ],
          "scattermapbox": [
           {
            "marker": {
             "colorbar": {
              "outlinewidth": 0,
              "ticks": ""
             }
            },
            "type": "scattermapbox"
           }
          ],
          "scatterpolar": [
           {
            "marker": {
             "colorbar": {
              "outlinewidth": 0,
              "ticks": ""
             }
            },
            "type": "scatterpolar"
           }
          ],
          "scatterpolargl": [
           {
            "marker": {
             "colorbar": {
              "outlinewidth": 0,
              "ticks": ""
             }
            },
            "type": "scatterpolargl"
           }
          ],
          "scatterternary": [
           {
            "marker": {
             "colorbar": {
              "outlinewidth": 0,
              "ticks": ""
             }
            },
            "type": "scatterternary"
           }
          ],
          "surface": [
           {
            "colorbar": {
             "outlinewidth": 0,
             "ticks": ""
            },
            "colorscale": [
             [
              0,
              "#0d0887"
             ],
             [
              0.1111111111111111,
              "#46039f"
             ],
             [
              0.2222222222222222,
              "#7201a8"
             ],
             [
              0.3333333333333333,
              "#9c179e"
             ],
             [
              0.4444444444444444,
              "#bd3786"
             ],
             [
              0.5555555555555556,
              "#d8576b"
             ],
             [
              0.6666666666666666,
              "#ed7953"
             ],
             [
              0.7777777777777778,
              "#fb9f3a"
             ],
             [
              0.8888888888888888,
              "#fdca26"
             ],
             [
              1,
              "#f0f921"
             ]
            ],
            "type": "surface"
           }
          ],
          "table": [
           {
            "cells": {
             "fill": {
              "color": "#EBF0F8"
             },
             "line": {
              "color": "white"
             }
            },
            "header": {
             "fill": {
              "color": "#C8D4E3"
             },
             "line": {
              "color": "white"
             }
            },
            "type": "table"
           }
          ]
         },
         "layout": {
          "annotationdefaults": {
           "arrowcolor": "#2a3f5f",
           "arrowhead": 0,
           "arrowwidth": 1
          },
          "autotypenumbers": "strict",
          "coloraxis": {
           "colorbar": {
            "outlinewidth": 0,
            "ticks": ""
           }
          },
          "colorscale": {
           "diverging": [
            [
             0,
             "#8e0152"
            ],
            [
             0.1,
             "#c51b7d"
            ],
            [
             0.2,
             "#de77ae"
            ],
            [
             0.3,
             "#f1b6da"
            ],
            [
             0.4,
             "#fde0ef"
            ],
            [
             0.5,
             "#f7f7f7"
            ],
            [
             0.6,
             "#e6f5d0"
            ],
            [
             0.7,
             "#b8e186"
            ],
            [
             0.8,
             "#7fbc41"
            ],
            [
             0.9,
             "#4d9221"
            ],
            [
             1,
             "#276419"
            ]
           ],
           "sequential": [
            [
             0,
             "#0d0887"
            ],
            [
             0.1111111111111111,
             "#46039f"
            ],
            [
             0.2222222222222222,
             "#7201a8"
            ],
            [
             0.3333333333333333,
             "#9c179e"
            ],
            [
             0.4444444444444444,
             "#bd3786"
            ],
            [
             0.5555555555555556,
             "#d8576b"
            ],
            [
             0.6666666666666666,
             "#ed7953"
            ],
            [
             0.7777777777777778,
             "#fb9f3a"
            ],
            [
             0.8888888888888888,
             "#fdca26"
            ],
            [
             1,
             "#f0f921"
            ]
           ],
           "sequentialminus": [
            [
             0,
             "#0d0887"
            ],
            [
             0.1111111111111111,
             "#46039f"
            ],
            [
             0.2222222222222222,
             "#7201a8"
            ],
            [
             0.3333333333333333,
             "#9c179e"
            ],
            [
             0.4444444444444444,
             "#bd3786"
            ],
            [
             0.5555555555555556,
             "#d8576b"
            ],
            [
             0.6666666666666666,
             "#ed7953"
            ],
            [
             0.7777777777777778,
             "#fb9f3a"
            ],
            [
             0.8888888888888888,
             "#fdca26"
            ],
            [
             1,
             "#f0f921"
            ]
           ]
          },
          "colorway": [
           "#636efa",
           "#EF553B",
           "#00cc96",
           "#ab63fa",
           "#FFA15A",
           "#19d3f3",
           "#FF6692",
           "#B6E880",
           "#FF97FF",
           "#FECB52"
          ],
          "font": {
           "color": "#2a3f5f"
          },
          "geo": {
           "bgcolor": "white",
           "lakecolor": "white",
           "landcolor": "#E5ECF6",
           "showlakes": true,
           "showland": true,
           "subunitcolor": "white"
          },
          "hoverlabel": {
           "align": "left"
          },
          "hovermode": "closest",
          "mapbox": {
           "style": "light"
          },
          "paper_bgcolor": "white",
          "plot_bgcolor": "#E5ECF6",
          "polar": {
           "angularaxis": {
            "gridcolor": "white",
            "linecolor": "white",
            "ticks": ""
           },
           "bgcolor": "#E5ECF6",
           "radialaxis": {
            "gridcolor": "white",
            "linecolor": "white",
            "ticks": ""
           }
          },
          "scene": {
           "xaxis": {
            "backgroundcolor": "#E5ECF6",
            "gridcolor": "white",
            "gridwidth": 2,
            "linecolor": "white",
            "showbackground": true,
            "ticks": "",
            "zerolinecolor": "white"
           },
           "yaxis": {
            "backgroundcolor": "#E5ECF6",
            "gridcolor": "white",
            "gridwidth": 2,
            "linecolor": "white",
            "showbackground": true,
            "ticks": "",
            "zerolinecolor": "white"
           },
           "zaxis": {
            "backgroundcolor": "#E5ECF6",
            "gridcolor": "white",
            "gridwidth": 2,
            "linecolor": "white",
            "showbackground": true,
            "ticks": "",
            "zerolinecolor": "white"
           }
          },
          "shapedefaults": {
           "line": {
            "color": "#2a3f5f"
           }
          },
          "ternary": {
           "aaxis": {
            "gridcolor": "white",
            "linecolor": "white",
            "ticks": ""
           },
           "baxis": {
            "gridcolor": "white",
            "linecolor": "white",
            "ticks": ""
           },
           "bgcolor": "#E5ECF6",
           "caxis": {
            "gridcolor": "white",
            "linecolor": "white",
            "ticks": ""
           }
          },
          "title": {
           "x": 0.05
          },
          "xaxis": {
           "automargin": true,
           "gridcolor": "white",
           "linecolor": "white",
           "ticks": "",
           "title": {
            "standoff": 15
           },
           "zerolinecolor": "white",
           "zerolinewidth": 2
          },
          "yaxis": {
           "automargin": true,
           "gridcolor": "white",
           "linecolor": "white",
           "ticks": "",
           "title": {
            "standoff": 15
           },
           "zerolinecolor": "white",
           "zerolinewidth": 2
          }
         }
        },
        "title": {
         "text": "Price Distribution by Property Type (Last 5 Years)"
        },
        "xaxis": {
         "anchor": "y",
         "domain": [
          0,
          1
         ],
         "title": {
          "text": "Property Type"
         }
        },
        "yaxis": {
         "anchor": "x",
         "domain": [
          0,
          1
         ],
         "title": {
          "text": "Property Worth (AED)"
         }
        }
       }
      }
     },
     "metadata": {},
     "output_type": "display_data"
    },
    {
     "name": "stdout",
     "output_type": "stream",
     "text": [
      "Price Statitical Summary by Property Type (Last 5 Years):\n",
      "                  count          mean           std       min        25%  \\\n",
      "property_type_en                                                           \n",
      "Unit              110.0  1.369903e+06  3.946362e+05  838880.0  1036260.0   \n",
      "Villa              96.0  3.987438e+06  2.778937e+06  306000.0  2493750.0   \n",
      "\n",
      "                        50%        75%         max  \n",
      "property_type_en                                    \n",
      "Unit              1192000.0  1671902.5   2750000.0  \n",
      "Villa             3000000.0  5312500.0  15595000.0  \n"
     ]
    }
   ],
   "source": [
    "# Price distribution by property type\n",
    "fig_price_distribution = px.box(transactions_satwa_filtered_5y_no_outliers, \n",
    "                                x='property_type_en', \n",
    "                                y='actual_worth', \n",
    "                                title=\"Price Distribution by Property Type (Last 5 Years)\", \n",
    "                                labels={'property_type_en': 'Property Type', 'actual_worth': 'Property Worth (AED)'})\n",
    "fig_price_distribution.write_image(f\"{output_dir}/price_distribution_by_property_type_5_years.png\")\n",
    "fig_price_distribution.show()\n",
    "\n",
    "# Price statistical summary by property type\n",
    "print(\"Price Statitical Summary by Property Type (Last 5 Years):\")\n",
    "print(transactions_satwa_filtered_5y_no_outliers.groupby('property_type_en')['actual_worth'].describe())"
   ]
  },
  {
   "cell_type": "markdown",
   "metadata": {},
   "source": [
    "**Price Distribution by Property Type (Last 5 Years) Insights**\n",
    "\n",
    "\n",
    "1. **Villas**:\n",
    "\n",
    "- Average worth (mean): AED 3.99 million.\n",
    "\n",
    "- Villas show a wide range of property values, with a minimum of AED 306,000 and a maximum of AED 15.6 million. The 25th percentile sits at AED 2.49 million, while the median (50th percentile) is AED 3 million, indicating most villas are valued around AED 3 million or higher.\n",
    "\n",
    "- The standard deviation is quite high (AED 2.78 million), indicating significant variability in villa prices, with a few extremely high-value properties driving the variance.\n",
    "\n",
    "2. **Units**:\n",
    "\n",
    "- Average worth (mean): AED 1.37 million.\n",
    "\n",
    "- The range for units is narrower compared to villas, with prices starting at AED 838,880 and reaching a maximum of AED 2.75 million. The median (50th percentile) price is AED 1.19 million.\n",
    "\n",
    "- The standard deviation (AED 394,636) is much smaller than for villas, showing more consistency in unit pricing, and no extreme outliers like we see with villas.\n",
    "\n",
    "**Strategic Insight for the Real Estate Agent**:\n",
    "\n",
    "1. **Villa Market**:\n",
    "\n",
    "- Villas cater to higher-value investors, with a substantial portion priced over AED 3 million. The higher variability and the presence of a few luxury properties (above AED 10 million) may indicate that luxury villas in prime locations represent a premium market segment. Targeting high-net-worth buyers would be key for this segment.\n",
    "\n",
    "- The range of pricing suggests flexibility for both mid-tier buyers and those looking for high-end, exclusive properties.\n",
    "\n",
    "2. **Unit Market**:\n",
    "\n",
    "- Units offer a more stable and predictable investment opportunity, with most properties priced between AED 1 million and AED 1.67 million. This price range is attractive for mid-tier investors, expatriates, and buyers looking for rental properties.\n",
    "\n",
    "- The tighter price distribution means that buyers have less risk in terms of price volatility, making units a safer investment compared to villas.\n",
    "\n",
    "3. **Marketing Strategy**:\n",
    "\n",
    "- Villas should be marketed as luxury or premium investments, particularly highlighting the unique and upscale features of high-end properties.\n",
    "\n",
    "- Units should focus on value for money, return on investment, and predictability, especially appealing to expatriates or investors seeking rental income.\n",
    "\n",
    "This analysis would provide useful guidance for tailoring marketing and sales strategies to the needs of different client segments based on their budget and investment goals."
   ]
  },
  {
   "cell_type": "code",
   "execution_count": 138,
   "metadata": {},
   "outputs": [],
   "source": [
    "rent_contracts = pd.read_csv(\"../data/raw/rent_contracts.csv\")"
   ]
  },
  {
   "cell_type": "code",
   "execution_count": 139,
   "metadata": {},
   "outputs": [
    {
     "data": {
      "text/html": [
       "<div>\n",
       "<style scoped>\n",
       "    .dataframe tbody tr th:only-of-type {\n",
       "        vertical-align: middle;\n",
       "    }\n",
       "\n",
       "    .dataframe tbody tr th {\n",
       "        vertical-align: top;\n",
       "    }\n",
       "\n",
       "    .dataframe thead th {\n",
       "        text-align: right;\n",
       "    }\n",
       "</style>\n",
       "<table border=\"1\" class=\"dataframe\">\n",
       "  <thead>\n",
       "    <tr style=\"text-align: right;\">\n",
       "      <th></th>\n",
       "      <th>contract_id</th>\n",
       "      <th>contract_reg_type_id</th>\n",
       "      <th>contract_reg_type_ar</th>\n",
       "      <th>contract_reg_type_en</th>\n",
       "      <th>contract_start_date</th>\n",
       "      <th>contract_end_date</th>\n",
       "      <th>contract_amount</th>\n",
       "      <th>annual_amount</th>\n",
       "      <th>no_of_prop</th>\n",
       "      <th>line_number</th>\n",
       "      <th>is_free_hold</th>\n",
       "      <th>ejari_bus_property_type_id</th>\n",
       "      <th>ejari_bus_property_type_ar</th>\n",
       "      <th>ejari_bus_property_type_en</th>\n",
       "      <th>ejari_property_type_id</th>\n",
       "      <th>ejari_property_type_en</th>\n",
       "      <th>ejari_property_type_ar</th>\n",
       "      <th>ejari_property_sub_type_id</th>\n",
       "      <th>ejari_property_sub_type_en</th>\n",
       "      <th>ejari_property_sub_type_ar</th>\n",
       "      <th>property_usage_en</th>\n",
       "      <th>property_usage_ar</th>\n",
       "      <th>project_number</th>\n",
       "      <th>project_name_ar</th>\n",
       "      <th>project_name_en</th>\n",
       "      <th>master_project_ar</th>\n",
       "      <th>master_project_en</th>\n",
       "      <th>area_id</th>\n",
       "      <th>area_name_ar</th>\n",
       "      <th>area_name_en</th>\n",
       "      <th>actual_area</th>\n",
       "      <th>nearest_landmark_ar</th>\n",
       "      <th>nearest_landmark_en</th>\n",
       "      <th>nearest_metro_ar</th>\n",
       "      <th>nearest_metro_en</th>\n",
       "      <th>nearest_mall_ar</th>\n",
       "      <th>nearest_mall_en</th>\n",
       "      <th>tenant_type_id</th>\n",
       "      <th>tenant_type_ar</th>\n",
       "      <th>tenant_type_en</th>\n",
       "    </tr>\n",
       "  </thead>\n",
       "  <tbody>\n",
       "    <tr>\n",
       "      <th>0</th>\n",
       "      <td>CRT1012981266</td>\n",
       "      <td>1</td>\n",
       "      <td>جديد</td>\n",
       "      <td>New</td>\n",
       "      <td>07-04-2019</td>\n",
       "      <td>06-04-2020</td>\n",
       "      <td>85000</td>\n",
       "      <td>85000</td>\n",
       "      <td>1</td>\n",
       "      <td>1</td>\n",
       "      <td>1.0</td>\n",
       "      <td>2.0</td>\n",
       "      <td>وحدة</td>\n",
       "      <td>Unit</td>\n",
       "      <td>2.0</td>\n",
       "      <td>Office</td>\n",
       "      <td>مكتب</td>\n",
       "      <td>422.0</td>\n",
       "      <td>Office</td>\n",
       "      <td>مكتب</td>\n",
       "      <td>Commercial</td>\n",
       "      <td>تجاري</td>\n",
       "      <td>467.0</td>\n",
       "      <td>إمباير هايتس</td>\n",
       "      <td>EMPIRE HEIGHTS</td>\n",
       "      <td>الخليج التجاري</td>\n",
       "      <td>Business Bay</td>\n",
       "      <td>526.0</td>\n",
       "      <td>الخليج التجارى</td>\n",
       "      <td>Business Bay</td>\n",
       "      <td>140.0</td>\n",
       "      <td>وسط مدينة دبي</td>\n",
       "      <td>Downtown Dubai</td>\n",
       "      <td>محطة مترو بوج خليفة دبي مول</td>\n",
       "      <td>Buj Khalifa Dubai Mall Metro Station</td>\n",
       "      <td>مول دبي</td>\n",
       "      <td>Dubai Mall</td>\n",
       "      <td>1.0</td>\n",
       "      <td>شخص</td>\n",
       "      <td>Person</td>\n",
       "    </tr>\n",
       "    <tr>\n",
       "      <th>1</th>\n",
       "      <td>CRT1012983196</td>\n",
       "      <td>1</td>\n",
       "      <td>جديد</td>\n",
       "      <td>New</td>\n",
       "      <td>20-04-2019</td>\n",
       "      <td>19-04-2020</td>\n",
       "      <td>110000</td>\n",
       "      <td>110000</td>\n",
       "      <td>1</td>\n",
       "      <td>1</td>\n",
       "      <td>1.0</td>\n",
       "      <td>4.0</td>\n",
       "      <td>فيلا</td>\n",
       "      <td>Villa</td>\n",
       "      <td>841.0</td>\n",
       "      <td>Villa</td>\n",
       "      <td>فيلا</td>\n",
       "      <td>2.0</td>\n",
       "      <td>2 bed rooms+hall</td>\n",
       "      <td>غرفتين و صالة</td>\n",
       "      <td>Residential</td>\n",
       "      <td>سكني</td>\n",
       "      <td>NaN</td>\n",
       "      <td>NaN</td>\n",
       "      <td>NaN</td>\n",
       "      <td>قرية جميرا المثلثة</td>\n",
       "      <td>Jumeirah Village Triangle</td>\n",
       "      <td>442.0</td>\n",
       "      <td>البرشاء جنوب الخامسة</td>\n",
       "      <td>Al Barsha South Fifth</td>\n",
       "      <td>734.0</td>\n",
       "      <td>أكاديمية المدينة الرياضية للسباحة</td>\n",
       "      <td>Sports City Swimming Academy</td>\n",
       "      <td>محطة مترو النخيل</td>\n",
       "      <td>Nakheel Metro Station</td>\n",
       "      <td>مارينا مول</td>\n",
       "      <td>Marina Mall</td>\n",
       "      <td>1.0</td>\n",
       "      <td>شخص</td>\n",
       "      <td>Person</td>\n",
       "    </tr>\n",
       "    <tr>\n",
       "      <th>2</th>\n",
       "      <td>CRT1012984226</td>\n",
       "      <td>1</td>\n",
       "      <td>جديد</td>\n",
       "      <td>New</td>\n",
       "      <td>11-04-2019</td>\n",
       "      <td>10-04-2020</td>\n",
       "      <td>100000</td>\n",
       "      <td>100000</td>\n",
       "      <td>1</td>\n",
       "      <td>1</td>\n",
       "      <td>1.0</td>\n",
       "      <td>4.0</td>\n",
       "      <td>فيلا</td>\n",
       "      <td>Villa</td>\n",
       "      <td>841.0</td>\n",
       "      <td>Villa</td>\n",
       "      <td>فيلا</td>\n",
       "      <td>3.0</td>\n",
       "      <td>3 bed rooms+hall</td>\n",
       "      <td>ثلاثة غرفة و صالة</td>\n",
       "      <td>Residential</td>\n",
       "      <td>سكني</td>\n",
       "      <td>1488.0</td>\n",
       "      <td>ريم - ميرا أوسيس كوميونتي</td>\n",
       "      <td>REEM - MIRA OASIS COMMUNITY</td>\n",
       "      <td>NaN</td>\n",
       "      <td>NaN</td>\n",
       "      <td>506.0</td>\n",
       "      <td>اليلايس 1</td>\n",
       "      <td>Al Yelayiss 1</td>\n",
       "      <td>324.0</td>\n",
       "      <td>دورة دبي للدراجات</td>\n",
       "      <td>Dubai Cycling Course</td>\n",
       "      <td>NaN</td>\n",
       "      <td>NaN</td>\n",
       "      <td>NaN</td>\n",
       "      <td>NaN</td>\n",
       "      <td>1.0</td>\n",
       "      <td>شخص</td>\n",
       "      <td>Person</td>\n",
       "    </tr>\n",
       "    <tr>\n",
       "      <th>3</th>\n",
       "      <td>CRT1012984996</td>\n",
       "      <td>2</td>\n",
       "      <td>تجديد</td>\n",
       "      <td>Renew</td>\n",
       "      <td>18-03-2019</td>\n",
       "      <td>17-03-2020</td>\n",
       "      <td>150000</td>\n",
       "      <td>150000</td>\n",
       "      <td>1</td>\n",
       "      <td>1</td>\n",
       "      <td>1.0</td>\n",
       "      <td>4.0</td>\n",
       "      <td>فيلا</td>\n",
       "      <td>Villa</td>\n",
       "      <td>841.0</td>\n",
       "      <td>Villa</td>\n",
       "      <td>فيلا</td>\n",
       "      <td>3.0</td>\n",
       "      <td>3 bed rooms+hall</td>\n",
       "      <td>ثلاثة غرفة و صالة</td>\n",
       "      <td>Residential</td>\n",
       "      <td>سكني</td>\n",
       "      <td>1377.0</td>\n",
       "      <td>أرابيان رانشز - مجمع بالما</td>\n",
       "      <td>ARABIAN RANCHES - PALMA COMMUNITY</td>\n",
       "      <td>المرابع العربية 2 - بالما</td>\n",
       "      <td>Arabian Ranches II - PALMA</td>\n",
       "      <td>463.0</td>\n",
       "      <td>وادي الصفا 7</td>\n",
       "      <td>Wadi Al Safa 7</td>\n",
       "      <td>405.0</td>\n",
       "      <td>موتور سيتي</td>\n",
       "      <td>Motor City</td>\n",
       "      <td>NaN</td>\n",
       "      <td>NaN</td>\n",
       "      <td>NaN</td>\n",
       "      <td>NaN</td>\n",
       "      <td>1.0</td>\n",
       "      <td>شخص</td>\n",
       "      <td>Person</td>\n",
       "    </tr>\n",
       "    <tr>\n",
       "      <th>4</th>\n",
       "      <td>CRT1012986616</td>\n",
       "      <td>1</td>\n",
       "      <td>جديد</td>\n",
       "      <td>New</td>\n",
       "      <td>15-04-2019</td>\n",
       "      <td>14-04-2020</td>\n",
       "      <td>95000</td>\n",
       "      <td>95000</td>\n",
       "      <td>1</td>\n",
       "      <td>1</td>\n",
       "      <td>1.0</td>\n",
       "      <td>2.0</td>\n",
       "      <td>وحدة</td>\n",
       "      <td>Unit</td>\n",
       "      <td>842.0</td>\n",
       "      <td>Flat</td>\n",
       "      <td>شقه</td>\n",
       "      <td>1.0</td>\n",
       "      <td>1bed room+Hall</td>\n",
       "      <td>غرفة و صالة</td>\n",
       "      <td>Residential</td>\n",
       "      <td>سكني</td>\n",
       "      <td>NaN</td>\n",
       "      <td>NaN</td>\n",
       "      <td>NaN</td>\n",
       "      <td>جميرا بيتش ريزيدنس  - الجيه بي آر</td>\n",
       "      <td>Jumeriah Beach Residence  - JBR</td>\n",
       "      <td>330.0</td>\n",
       "      <td>مرسى دبي</td>\n",
       "      <td>Marsa Dubai</td>\n",
       "      <td>103.0</td>\n",
       "      <td>برج العرب</td>\n",
       "      <td>Burj Al Arab</td>\n",
       "      <td>مساكن شاطئ جميرا</td>\n",
       "      <td>Jumeirah Beach Residency</td>\n",
       "      <td>مارينا مول</td>\n",
       "      <td>Marina Mall</td>\n",
       "      <td>NaN</td>\n",
       "      <td>NaN</td>\n",
       "      <td>NaN</td>\n",
       "    </tr>\n",
       "  </tbody>\n",
       "</table>\n",
       "</div>"
      ],
      "text/plain": [
       "     contract_id  contract_reg_type_id contract_reg_type_ar  \\\n",
       "0  CRT1012981266                     1                 جديد   \n",
       "1  CRT1012983196                     1                 جديد   \n",
       "2  CRT1012984226                     1                 جديد   \n",
       "3  CRT1012984996                     2                تجديد   \n",
       "4  CRT1012986616                     1                 جديد   \n",
       "\n",
       "  contract_reg_type_en contract_start_date contract_end_date  contract_amount  \\\n",
       "0                  New          07-04-2019        06-04-2020            85000   \n",
       "1                  New          20-04-2019        19-04-2020           110000   \n",
       "2                  New          11-04-2019        10-04-2020           100000   \n",
       "3                Renew          18-03-2019        17-03-2020           150000   \n",
       "4                  New          15-04-2019        14-04-2020            95000   \n",
       "\n",
       "   annual_amount  no_of_prop  line_number  is_free_hold  \\\n",
       "0          85000           1            1           1.0   \n",
       "1         110000           1            1           1.0   \n",
       "2         100000           1            1           1.0   \n",
       "3         150000           1            1           1.0   \n",
       "4          95000           1            1           1.0   \n",
       "\n",
       "   ejari_bus_property_type_id ejari_bus_property_type_ar  \\\n",
       "0                         2.0                       وحدة   \n",
       "1                         4.0                       فيلا   \n",
       "2                         4.0                       فيلا   \n",
       "3                         4.0                       فيلا   \n",
       "4                         2.0                       وحدة   \n",
       "\n",
       "  ejari_bus_property_type_en  ejari_property_type_id ejari_property_type_en  \\\n",
       "0                       Unit                     2.0                 Office   \n",
       "1                      Villa                   841.0                  Villa   \n",
       "2                      Villa                   841.0                  Villa   \n",
       "3                      Villa                   841.0                  Villa   \n",
       "4                       Unit                   842.0                   Flat   \n",
       "\n",
       "  ejari_property_type_ar  ejari_property_sub_type_id  \\\n",
       "0                   مكتب                       422.0   \n",
       "1                   فيلا                         2.0   \n",
       "2                   فيلا                         3.0   \n",
       "3                   فيلا                         3.0   \n",
       "4                    شقه                         1.0   \n",
       "\n",
       "  ejari_property_sub_type_en ejari_property_sub_type_ar property_usage_en  \\\n",
       "0                     Office                       مكتب        Commercial   \n",
       "1           2 bed rooms+hall              غرفتين و صالة       Residential   \n",
       "2           3 bed rooms+hall          ثلاثة غرفة و صالة       Residential   \n",
       "3           3 bed rooms+hall          ثلاثة غرفة و صالة       Residential   \n",
       "4             1bed room+Hall                غرفة و صالة       Residential   \n",
       "\n",
       "  property_usage_ar  project_number             project_name_ar  \\\n",
       "0             تجاري           467.0                إمباير هايتس   \n",
       "1              سكني             NaN                         NaN   \n",
       "2              سكني          1488.0   ريم - ميرا أوسيس كوميونتي   \n",
       "3              سكني          1377.0  أرابيان رانشز - مجمع بالما   \n",
       "4              سكني             NaN                         NaN   \n",
       "\n",
       "                     project_name_en                   master_project_ar  \\\n",
       "0                     EMPIRE HEIGHTS                      الخليج التجاري   \n",
       "1                                NaN                  قرية جميرا المثلثة   \n",
       "2        REEM - MIRA OASIS COMMUNITY                                 NaN   \n",
       "3  ARABIAN RANCHES - PALMA COMMUNITY           المرابع العربية 2 - بالما   \n",
       "4                                NaN  جميرا بيتش ريزيدنس  - الجيه بي آر    \n",
       "\n",
       "                 master_project_en  area_id          area_name_ar  \\\n",
       "0                     Business Bay    526.0        الخليج التجارى   \n",
       "1        Jumeirah Village Triangle    442.0  البرشاء جنوب الخامسة   \n",
       "2                              NaN    506.0             اليلايس 1   \n",
       "3       Arabian Ranches II - PALMA    463.0          وادي الصفا 7   \n",
       "4  Jumeriah Beach Residence  - JBR    330.0              مرسى دبي   \n",
       "\n",
       "            area_name_en  actual_area                nearest_landmark_ar  \\\n",
       "0           Business Bay        140.0                      وسط مدينة دبي   \n",
       "1  Al Barsha South Fifth        734.0  أكاديمية المدينة الرياضية للسباحة   \n",
       "2          Al Yelayiss 1        324.0                  دورة دبي للدراجات   \n",
       "3         Wadi Al Safa 7        405.0                         موتور سيتي   \n",
       "4            Marsa Dubai        103.0                          برج العرب   \n",
       "\n",
       "            nearest_landmark_en             nearest_metro_ar  \\\n",
       "0                Downtown Dubai  محطة مترو بوج خليفة دبي مول   \n",
       "1  Sports City Swimming Academy             محطة مترو النخيل   \n",
       "2          Dubai Cycling Course                          NaN   \n",
       "3                    Motor City                          NaN   \n",
       "4                  Burj Al Arab             مساكن شاطئ جميرا   \n",
       "\n",
       "                       nearest_metro_en nearest_mall_ar nearest_mall_en  \\\n",
       "0  Buj Khalifa Dubai Mall Metro Station         مول دبي      Dubai Mall   \n",
       "1                 Nakheel Metro Station      مارينا مول     Marina Mall   \n",
       "2                                   NaN             NaN             NaN   \n",
       "3                                   NaN             NaN             NaN   \n",
       "4              Jumeirah Beach Residency      مارينا مول     Marina Mall   \n",
       "\n",
       "   tenant_type_id tenant_type_ar tenant_type_en  \n",
       "0             1.0            شخص         Person  \n",
       "1             1.0            شخص         Person  \n",
       "2             1.0            شخص         Person  \n",
       "3             1.0            شخص         Person  \n",
       "4             NaN            NaN            NaN  "
      ]
     },
     "execution_count": 139,
     "metadata": {},
     "output_type": "execute_result"
    }
   ],
   "source": [
    "rent_contracts.head()"
   ]
  },
  {
   "cell_type": "code",
   "execution_count": 140,
   "metadata": {},
   "outputs": [
    {
     "name": "stdout",
     "output_type": "stream",
     "text": [
      "Shape of Rent Contracts Dataset: (7810167, 40)\n",
      "Shape of Rent Contracts in Al Satwa: (35305, 40)\n"
     ]
    }
   ],
   "source": [
    "rent_contracts_satwa = rent_contracts[rent_contracts['area_name_en'] == 'Al Satwa']\n",
    "\n",
    "print(\"Shape of Rent Contracts Dataset:\", rent_contracts.shape)\n",
    "print(\"Shape of Rent Contracts in Al Satwa:\", rent_contracts_satwa.shape)"
   ]
  },
  {
   "cell_type": "code",
   "execution_count": 141,
   "metadata": {},
   "outputs": [
    {
     "name": "stdout",
     "output_type": "stream",
     "text": [
      "Shape of Rent Contracts in Al Satwa: (35305, 40)\n",
      "Shape of Rent Contracts in Al Satwa After filtering: (24663, 40)\n"
     ]
    }
   ],
   "source": [
    "print(\"Shape of Rent Contracts in Al Satwa:\", rent_contracts_satwa.shape)\n",
    "\n",
    "rent_contracts_satwa = rent_contracts_satwa[rent_contracts_satwa['property_usage_en'] == 'Residential']\n",
    "\n",
    "print(\"Shape of Rent Contracts in Al Satwa After filtering:\", rent_contracts_satwa.shape)"
   ]
  },
  {
   "cell_type": "code",
   "execution_count": 142,
   "metadata": {},
   "outputs": [],
   "source": [
    "rent_contracts_satwa = rent_contracts_satwa.drop(columns=['property_usage_en', 'property_usage_ar'])"
   ]
  },
  {
   "cell_type": "code",
   "execution_count": 143,
   "metadata": {},
   "outputs": [],
   "source": [
    "rent_contracts_satwa = rent_contracts_satwa.drop(columns=['area_id', 'area_name_en', 'area_name_ar'])"
   ]
  },
  {
   "cell_type": "code",
   "execution_count": 144,
   "metadata": {},
   "outputs": [
    {
     "data": {
      "text/html": [
       "<div>\n",
       "<style scoped>\n",
       "    .dataframe tbody tr th:only-of-type {\n",
       "        vertical-align: middle;\n",
       "    }\n",
       "\n",
       "    .dataframe tbody tr th {\n",
       "        vertical-align: top;\n",
       "    }\n",
       "\n",
       "    .dataframe thead th {\n",
       "        text-align: right;\n",
       "    }\n",
       "</style>\n",
       "<table border=\"1\" class=\"dataframe\">\n",
       "  <thead>\n",
       "    <tr style=\"text-align: right;\">\n",
       "      <th></th>\n",
       "      <th>contract_id</th>\n",
       "      <th>contract_reg_type_id</th>\n",
       "      <th>contract_reg_type_ar</th>\n",
       "      <th>contract_reg_type_en</th>\n",
       "      <th>contract_start_date</th>\n",
       "      <th>contract_end_date</th>\n",
       "      <th>contract_amount</th>\n",
       "      <th>annual_amount</th>\n",
       "      <th>no_of_prop</th>\n",
       "      <th>line_number</th>\n",
       "      <th>is_free_hold</th>\n",
       "      <th>ejari_bus_property_type_id</th>\n",
       "      <th>ejari_bus_property_type_ar</th>\n",
       "      <th>ejari_bus_property_type_en</th>\n",
       "      <th>ejari_property_type_id</th>\n",
       "      <th>ejari_property_type_en</th>\n",
       "      <th>ejari_property_type_ar</th>\n",
       "      <th>ejari_property_sub_type_id</th>\n",
       "      <th>ejari_property_sub_type_en</th>\n",
       "      <th>ejari_property_sub_type_ar</th>\n",
       "      <th>project_number</th>\n",
       "      <th>project_name_ar</th>\n",
       "      <th>project_name_en</th>\n",
       "      <th>master_project_ar</th>\n",
       "      <th>master_project_en</th>\n",
       "      <th>actual_area</th>\n",
       "      <th>nearest_landmark_ar</th>\n",
       "      <th>nearest_landmark_en</th>\n",
       "      <th>nearest_metro_ar</th>\n",
       "      <th>nearest_metro_en</th>\n",
       "      <th>nearest_mall_ar</th>\n",
       "      <th>nearest_mall_en</th>\n",
       "      <th>tenant_type_id</th>\n",
       "      <th>tenant_type_ar</th>\n",
       "      <th>tenant_type_en</th>\n",
       "    </tr>\n",
       "  </thead>\n",
       "  <tbody>\n",
       "    <tr>\n",
       "      <th>1226</th>\n",
       "      <td>CRT1014406536</td>\n",
       "      <td>1</td>\n",
       "      <td>جديد</td>\n",
       "      <td>New</td>\n",
       "      <td>04-04-2019</td>\n",
       "      <td>03-04-2020</td>\n",
       "      <td>43000</td>\n",
       "      <td>43000</td>\n",
       "      <td>1</td>\n",
       "      <td>1</td>\n",
       "      <td>0.0</td>\n",
       "      <td>2.0</td>\n",
       "      <td>وحدة</td>\n",
       "      <td>Unit</td>\n",
       "      <td>842.0</td>\n",
       "      <td>Flat</td>\n",
       "      <td>شقه</td>\n",
       "      <td>11.0</td>\n",
       "      <td>Studio</td>\n",
       "      <td>أستوديو</td>\n",
       "      <td>NaN</td>\n",
       "      <td>NaN</td>\n",
       "      <td>NaN</td>\n",
       "      <td>NaN</td>\n",
       "      <td>NaN</td>\n",
       "      <td>23.0</td>\n",
       "      <td>برج خليفة</td>\n",
       "      <td>Burj Khalifa</td>\n",
       "      <td>محطة مترو المركز التجاري</td>\n",
       "      <td>Trade Centre Metro Station</td>\n",
       "      <td>مول دبي</td>\n",
       "      <td>Dubai Mall</td>\n",
       "      <td>1.0</td>\n",
       "      <td>شخص</td>\n",
       "      <td>Person</td>\n",
       "    </tr>\n",
       "    <tr>\n",
       "      <th>1513</th>\n",
       "      <td>CRT1015217806</td>\n",
       "      <td>1</td>\n",
       "      <td>جديد</td>\n",
       "      <td>New</td>\n",
       "      <td>08-04-2019</td>\n",
       "      <td>07-05-2020</td>\n",
       "      <td>160000</td>\n",
       "      <td>160000</td>\n",
       "      <td>1</td>\n",
       "      <td>1</td>\n",
       "      <td>0.0</td>\n",
       "      <td>4.0</td>\n",
       "      <td>فيلا</td>\n",
       "      <td>Villa</td>\n",
       "      <td>841.0</td>\n",
       "      <td>Villa</td>\n",
       "      <td>فيلا</td>\n",
       "      <td>7.0</td>\n",
       "      <td>7 bed rooms+hall</td>\n",
       "      <td>سبعة غرف و صالة</td>\n",
       "      <td>NaN</td>\n",
       "      <td>NaN</td>\n",
       "      <td>NaN</td>\n",
       "      <td>NaN</td>\n",
       "      <td>NaN</td>\n",
       "      <td>NaN</td>\n",
       "      <td>برج خليفة</td>\n",
       "      <td>Burj Khalifa</td>\n",
       "      <td>محطة مترو المركز التجاري</td>\n",
       "      <td>Trade Centre Metro Station</td>\n",
       "      <td>مول دبي</td>\n",
       "      <td>Dubai Mall</td>\n",
       "      <td>NaN</td>\n",
       "      <td>NaN</td>\n",
       "      <td>NaN</td>\n",
       "    </tr>\n",
       "    <tr>\n",
       "      <th>1689</th>\n",
       "      <td>CRT1015412266</td>\n",
       "      <td>2</td>\n",
       "      <td>تجديد</td>\n",
       "      <td>Renew</td>\n",
       "      <td>12-02-2019</td>\n",
       "      <td>11-02-2020</td>\n",
       "      <td>96000</td>\n",
       "      <td>96000</td>\n",
       "      <td>1</td>\n",
       "      <td>1</td>\n",
       "      <td>0.0</td>\n",
       "      <td>4.0</td>\n",
       "      <td>فيلا</td>\n",
       "      <td>Villa</td>\n",
       "      <td>841.0</td>\n",
       "      <td>Villa</td>\n",
       "      <td>فيلا</td>\n",
       "      <td>4.0</td>\n",
       "      <td>4 bed rooms+hall</td>\n",
       "      <td>اربعة غرف و صالة</td>\n",
       "      <td>NaN</td>\n",
       "      <td>NaN</td>\n",
       "      <td>NaN</td>\n",
       "      <td>NaN</td>\n",
       "      <td>NaN</td>\n",
       "      <td>NaN</td>\n",
       "      <td>برج خليفة</td>\n",
       "      <td>Burj Khalifa</td>\n",
       "      <td>محطة مترو بوج خليفة دبي مول</td>\n",
       "      <td>Buj Khalifa Dubai Mall Metro Station</td>\n",
       "      <td>مول دبي</td>\n",
       "      <td>Dubai Mall</td>\n",
       "      <td>NaN</td>\n",
       "      <td>NaN</td>\n",
       "      <td>NaN</td>\n",
       "    </tr>\n",
       "    <tr>\n",
       "      <th>2390</th>\n",
       "      <td>CRT1017677636</td>\n",
       "      <td>2</td>\n",
       "      <td>تجديد</td>\n",
       "      <td>Renew</td>\n",
       "      <td>01-01-2019</td>\n",
       "      <td>31-12-2019</td>\n",
       "      <td>36000</td>\n",
       "      <td>36000</td>\n",
       "      <td>1</td>\n",
       "      <td>1</td>\n",
       "      <td>0.0</td>\n",
       "      <td>2.0</td>\n",
       "      <td>وحدة</td>\n",
       "      <td>Unit</td>\n",
       "      <td>842.0</td>\n",
       "      <td>Flat</td>\n",
       "      <td>شقه</td>\n",
       "      <td>1.0</td>\n",
       "      <td>1bed room+Hall</td>\n",
       "      <td>غرفة و صالة</td>\n",
       "      <td>NaN</td>\n",
       "      <td>NaN</td>\n",
       "      <td>NaN</td>\n",
       "      <td>NaN</td>\n",
       "      <td>NaN</td>\n",
       "      <td>NaN</td>\n",
       "      <td>برج خليفة</td>\n",
       "      <td>Burj Khalifa</td>\n",
       "      <td>محطة مترو المركز التجاري</td>\n",
       "      <td>Trade Centre Metro Station</td>\n",
       "      <td>مول دبي</td>\n",
       "      <td>Dubai Mall</td>\n",
       "      <td>NaN</td>\n",
       "      <td>NaN</td>\n",
       "      <td>NaN</td>\n",
       "    </tr>\n",
       "    <tr>\n",
       "      <th>3527</th>\n",
       "      <td>CRT1019228486</td>\n",
       "      <td>1</td>\n",
       "      <td>جديد</td>\n",
       "      <td>New</td>\n",
       "      <td>01-05-2019</td>\n",
       "      <td>30-04-2020</td>\n",
       "      <td>200000</td>\n",
       "      <td>200000</td>\n",
       "      <td>1</td>\n",
       "      <td>1</td>\n",
       "      <td>0.0</td>\n",
       "      <td>4.0</td>\n",
       "      <td>فيلا</td>\n",
       "      <td>Villa</td>\n",
       "      <td>841.0</td>\n",
       "      <td>Villa</td>\n",
       "      <td>فيلا</td>\n",
       "      <td>4.0</td>\n",
       "      <td>4 bed rooms+hall</td>\n",
       "      <td>اربعة غرف و صالة</td>\n",
       "      <td>NaN</td>\n",
       "      <td>NaN</td>\n",
       "      <td>NaN</td>\n",
       "      <td>NaN</td>\n",
       "      <td>NaN</td>\n",
       "      <td>0.0</td>\n",
       "      <td>برج خليفة</td>\n",
       "      <td>Burj Khalifa</td>\n",
       "      <td>محطة مترو بوج خليفة دبي مول</td>\n",
       "      <td>Buj Khalifa Dubai Mall Metro Station</td>\n",
       "      <td>مول دبي</td>\n",
       "      <td>Dubai Mall</td>\n",
       "      <td>1.0</td>\n",
       "      <td>شخص</td>\n",
       "      <td>Person</td>\n",
       "    </tr>\n",
       "  </tbody>\n",
       "</table>\n",
       "</div>"
      ],
      "text/plain": [
       "        contract_id  contract_reg_type_id contract_reg_type_ar  \\\n",
       "1226  CRT1014406536                     1                 جديد   \n",
       "1513  CRT1015217806                     1                 جديد   \n",
       "1689  CRT1015412266                     2                تجديد   \n",
       "2390  CRT1017677636                     2                تجديد   \n",
       "3527  CRT1019228486                     1                 جديد   \n",
       "\n",
       "     contract_reg_type_en contract_start_date contract_end_date  \\\n",
       "1226                  New          04-04-2019        03-04-2020   \n",
       "1513                  New          08-04-2019        07-05-2020   \n",
       "1689                Renew          12-02-2019        11-02-2020   \n",
       "2390                Renew          01-01-2019        31-12-2019   \n",
       "3527                  New          01-05-2019        30-04-2020   \n",
       "\n",
       "      contract_amount  annual_amount  no_of_prop  line_number  is_free_hold  \\\n",
       "1226            43000          43000           1            1           0.0   \n",
       "1513           160000         160000           1            1           0.0   \n",
       "1689            96000          96000           1            1           0.0   \n",
       "2390            36000          36000           1            1           0.0   \n",
       "3527           200000         200000           1            1           0.0   \n",
       "\n",
       "      ejari_bus_property_type_id ejari_bus_property_type_ar  \\\n",
       "1226                         2.0                       وحدة   \n",
       "1513                         4.0                       فيلا   \n",
       "1689                         4.0                       فيلا   \n",
       "2390                         2.0                       وحدة   \n",
       "3527                         4.0                       فيلا   \n",
       "\n",
       "     ejari_bus_property_type_en  ejari_property_type_id  \\\n",
       "1226                       Unit                   842.0   \n",
       "1513                      Villa                   841.0   \n",
       "1689                      Villa                   841.0   \n",
       "2390                       Unit                   842.0   \n",
       "3527                      Villa                   841.0   \n",
       "\n",
       "     ejari_property_type_en ejari_property_type_ar  \\\n",
       "1226                   Flat                    شقه   \n",
       "1513                  Villa                   فيلا   \n",
       "1689                  Villa                   فيلا   \n",
       "2390                   Flat                    شقه   \n",
       "3527                  Villa                   فيلا   \n",
       "\n",
       "      ejari_property_sub_type_id ejari_property_sub_type_en  \\\n",
       "1226                        11.0                     Studio   \n",
       "1513                         7.0           7 bed rooms+hall   \n",
       "1689                         4.0           4 bed rooms+hall   \n",
       "2390                         1.0             1bed room+Hall   \n",
       "3527                         4.0           4 bed rooms+hall   \n",
       "\n",
       "     ejari_property_sub_type_ar  project_number project_name_ar  \\\n",
       "1226                    أستوديو             NaN             NaN   \n",
       "1513            سبعة غرف و صالة             NaN             NaN   \n",
       "1689           اربعة غرف و صالة             NaN             NaN   \n",
       "2390                غرفة و صالة             NaN             NaN   \n",
       "3527           اربعة غرف و صالة             NaN             NaN   \n",
       "\n",
       "     project_name_en master_project_ar master_project_en  actual_area  \\\n",
       "1226             NaN               NaN               NaN         23.0   \n",
       "1513             NaN               NaN               NaN          NaN   \n",
       "1689             NaN               NaN               NaN          NaN   \n",
       "2390             NaN               NaN               NaN          NaN   \n",
       "3527             NaN               NaN               NaN          0.0   \n",
       "\n",
       "     nearest_landmark_ar nearest_landmark_en             nearest_metro_ar  \\\n",
       "1226           برج خليفة        Burj Khalifa     محطة مترو المركز التجاري   \n",
       "1513           برج خليفة        Burj Khalifa     محطة مترو المركز التجاري   \n",
       "1689           برج خليفة        Burj Khalifa  محطة مترو بوج خليفة دبي مول   \n",
       "2390           برج خليفة        Burj Khalifa     محطة مترو المركز التجاري   \n",
       "3527           برج خليفة        Burj Khalifa  محطة مترو بوج خليفة دبي مول   \n",
       "\n",
       "                          nearest_metro_en nearest_mall_ar nearest_mall_en  \\\n",
       "1226            Trade Centre Metro Station         مول دبي      Dubai Mall   \n",
       "1513            Trade Centre Metro Station         مول دبي      Dubai Mall   \n",
       "1689  Buj Khalifa Dubai Mall Metro Station         مول دبي      Dubai Mall   \n",
       "2390            Trade Centre Metro Station         مول دبي      Dubai Mall   \n",
       "3527  Buj Khalifa Dubai Mall Metro Station         مول دبي      Dubai Mall   \n",
       "\n",
       "      tenant_type_id tenant_type_ar tenant_type_en  \n",
       "1226             1.0            شخص         Person  \n",
       "1513             NaN            NaN            NaN  \n",
       "1689             NaN            NaN            NaN  \n",
       "2390             NaN            NaN            NaN  \n",
       "3527             1.0            شخص         Person  "
      ]
     },
     "execution_count": 144,
     "metadata": {},
     "output_type": "execute_result"
    }
   ],
   "source": [
    "rent_contracts_satwa.head()"
   ]
  },
  {
   "cell_type": "code",
   "execution_count": 146,
   "metadata": {},
   "outputs": [
    {
     "name": "stdout",
     "output_type": "stream",
     "text": [
      "Shape of Rent Contracts in Al Satwa: (24663, 35)\n",
      "Shape of Rent Contracts in Al Satwa After filtering: (24663, 35)\n"
     ]
    }
   ],
   "source": [
    "rent_contracts_satwa['contract_start_date'] = pd.to_datetime(rent_contracts_satwa['contract_start_date'], format=\"%d-%m-%Y\")\n",
    "rent_contracts_satwa['contract_end_date'] = pd.to_datetime(rent_contracts_satwa['contract_end_date'], format=\"%d-%m-%Y\")\n",
    "\n",
    "print(\"Shape of Rent Contracts in Al Satwa:\", rent_contracts_satwa.shape)\n",
    "rent_contracts_satwa[rent_contracts_satwa['contract_start_date'] >= \"01-01-2019\"]\n",
    "print(\"Shape of Rent Contracts in Al Satwa After filtering:\", rent_contracts_satwa.shape)"
   ]
  },
  {
   "cell_type": "code",
   "execution_count": 147,
   "metadata": {},
   "outputs": [
    {
     "data": {
      "text/html": [
       "<div>\n",
       "<style scoped>\n",
       "    .dataframe tbody tr th:only-of-type {\n",
       "        vertical-align: middle;\n",
       "    }\n",
       "\n",
       "    .dataframe tbody tr th {\n",
       "        vertical-align: top;\n",
       "    }\n",
       "\n",
       "    .dataframe thead th {\n",
       "        text-align: right;\n",
       "    }\n",
       "</style>\n",
       "<table border=\"1\" class=\"dataframe\">\n",
       "  <thead>\n",
       "    <tr style=\"text-align: right;\">\n",
       "      <th></th>\n",
       "      <th>transaction_id</th>\n",
       "      <th>procedure_id</th>\n",
       "      <th>trans_group_id</th>\n",
       "      <th>trans_group_ar</th>\n",
       "      <th>trans_group_en</th>\n",
       "      <th>procedure_name_ar</th>\n",
       "      <th>procedure_name_en</th>\n",
       "      <th>instance_date</th>\n",
       "      <th>property_type_id</th>\n",
       "      <th>property_type_ar</th>\n",
       "      <th>property_type_en</th>\n",
       "      <th>property_sub_type_id</th>\n",
       "      <th>property_sub_type_ar</th>\n",
       "      <th>property_sub_type_en</th>\n",
       "      <th>property_usage_ar</th>\n",
       "      <th>property_usage_en</th>\n",
       "      <th>reg_type_id</th>\n",
       "      <th>reg_type_ar</th>\n",
       "      <th>reg_type_en</th>\n",
       "      <th>area_id</th>\n",
       "      <th>area_name_ar</th>\n",
       "      <th>area_name_en</th>\n",
       "      <th>building_name_ar</th>\n",
       "      <th>building_name_en</th>\n",
       "      <th>project_number</th>\n",
       "      <th>project_name_ar</th>\n",
       "      <th>project_name_en</th>\n",
       "      <th>master_project_en</th>\n",
       "      <th>master_project_ar</th>\n",
       "      <th>nearest_landmark_ar</th>\n",
       "      <th>nearest_landmark_en</th>\n",
       "      <th>nearest_metro_ar</th>\n",
       "      <th>nearest_metro_en</th>\n",
       "      <th>nearest_mall_ar</th>\n",
       "      <th>nearest_mall_en</th>\n",
       "      <th>rooms_ar</th>\n",
       "      <th>rooms_en</th>\n",
       "      <th>has_parking</th>\n",
       "      <th>procedure_area</th>\n",
       "      <th>actual_worth</th>\n",
       "      <th>meter_sale_price</th>\n",
       "      <th>rent_value</th>\n",
       "      <th>meter_rent_price</th>\n",
       "      <th>no_of_parties_role_1</th>\n",
       "      <th>no_of_parties_role_2</th>\n",
       "      <th>no_of_parties_role_3</th>\n",
       "    </tr>\n",
       "  </thead>\n",
       "  <tbody>\n",
       "    <tr>\n",
       "      <th>0</th>\n",
       "      <td>1-11-2018-8205</td>\n",
       "      <td>11</td>\n",
       "      <td>1</td>\n",
       "      <td>مبايعات</td>\n",
       "      <td>Sales</td>\n",
       "      <td>بيع</td>\n",
       "      <td>Sell</td>\n",
       "      <td>13-08-2018</td>\n",
       "      <td>4</td>\n",
       "      <td>فيلا</td>\n",
       "      <td>Villa</td>\n",
       "      <td>NaN</td>\n",
       "      <td>NaN</td>\n",
       "      <td>NaN</td>\n",
       "      <td>أخرى</td>\n",
       "      <td>Other</td>\n",
       "      <td>1</td>\n",
       "      <td>العقارات القائمة</td>\n",
       "      <td>Existing Properties</td>\n",
       "      <td>278</td>\n",
       "      <td>منخول</td>\n",
       "      <td>Mankhool</td>\n",
       "      <td>NaN</td>\n",
       "      <td>NaN</td>\n",
       "      <td>NaN</td>\n",
       "      <td>NaN</td>\n",
       "      <td>NaN</td>\n",
       "      <td>NaN</td>\n",
       "      <td>NaN</td>\n",
       "      <td>برج خليفة</td>\n",
       "      <td>Burj Khalifa</td>\n",
       "      <td>محطة مترو بنك أبوظبي التجاري</td>\n",
       "      <td>ADCB Metro Station</td>\n",
       "      <td>مول دبي</td>\n",
       "      <td>Dubai Mall</td>\n",
       "      <td>NaN</td>\n",
       "      <td>NaN</td>\n",
       "      <td>0</td>\n",
       "      <td>34.41</td>\n",
       "      <td>165000.0</td>\n",
       "      <td>4795.12</td>\n",
       "      <td>NaN</td>\n",
       "      <td>NaN</td>\n",
       "      <td>1.0</td>\n",
       "      <td>2.0</td>\n",
       "      <td>0.0</td>\n",
       "    </tr>\n",
       "    <tr>\n",
       "      <th>1</th>\n",
       "      <td>1-11-2016-12930</td>\n",
       "      <td>11</td>\n",
       "      <td>1</td>\n",
       "      <td>مبايعات</td>\n",
       "      <td>Sales</td>\n",
       "      <td>بيع</td>\n",
       "      <td>Sell</td>\n",
       "      <td>02-11-2016</td>\n",
       "      <td>4</td>\n",
       "      <td>فيلا</td>\n",
       "      <td>Villa</td>\n",
       "      <td>NaN</td>\n",
       "      <td>NaN</td>\n",
       "      <td>NaN</td>\n",
       "      <td>سكني</td>\n",
       "      <td>Residential</td>\n",
       "      <td>1</td>\n",
       "      <td>العقارات القائمة</td>\n",
       "      <td>Existing Properties</td>\n",
       "      <td>276</td>\n",
       "      <td>البدع</td>\n",
       "      <td>Al Bada</td>\n",
       "      <td>NaN</td>\n",
       "      <td>NaN</td>\n",
       "      <td>NaN</td>\n",
       "      <td>NaN</td>\n",
       "      <td>NaN</td>\n",
       "      <td>NaN</td>\n",
       "      <td>NaN</td>\n",
       "      <td>برج خليفة</td>\n",
       "      <td>Burj Khalifa</td>\n",
       "      <td>محطة مترو أبراج الإمارات</td>\n",
       "      <td>Emirates Towers Metro Station</td>\n",
       "      <td>مول دبي</td>\n",
       "      <td>Dubai Mall</td>\n",
       "      <td>NaN</td>\n",
       "      <td>NaN</td>\n",
       "      <td>0</td>\n",
       "      <td>390.00</td>\n",
       "      <td>2089900.0</td>\n",
       "      <td>5358.72</td>\n",
       "      <td>NaN</td>\n",
       "      <td>NaN</td>\n",
       "      <td>1.0</td>\n",
       "      <td>1.0</td>\n",
       "      <td>0.0</td>\n",
       "    </tr>\n",
       "    <tr>\n",
       "      <th>2</th>\n",
       "      <td>1-11-2016-13524</td>\n",
       "      <td>11</td>\n",
       "      <td>1</td>\n",
       "      <td>مبايعات</td>\n",
       "      <td>Sales</td>\n",
       "      <td>بيع</td>\n",
       "      <td>Sell</td>\n",
       "      <td>15-11-2016</td>\n",
       "      <td>4</td>\n",
       "      <td>فيلا</td>\n",
       "      <td>Villa</td>\n",
       "      <td>NaN</td>\n",
       "      <td>NaN</td>\n",
       "      <td>NaN</td>\n",
       "      <td>أخرى</td>\n",
       "      <td>Other</td>\n",
       "      <td>1</td>\n",
       "      <td>العقارات القائمة</td>\n",
       "      <td>Existing Properties</td>\n",
       "      <td>276</td>\n",
       "      <td>البدع</td>\n",
       "      <td>Al Bada</td>\n",
       "      <td>NaN</td>\n",
       "      <td>NaN</td>\n",
       "      <td>NaN</td>\n",
       "      <td>NaN</td>\n",
       "      <td>NaN</td>\n",
       "      <td>NaN</td>\n",
       "      <td>NaN</td>\n",
       "      <td>برج خليفة</td>\n",
       "      <td>Burj Khalifa</td>\n",
       "      <td>محطة مترو أبراج الإمارات</td>\n",
       "      <td>Emirates Towers Metro Station</td>\n",
       "      <td>مول دبي</td>\n",
       "      <td>Dubai Mall</td>\n",
       "      <td>NaN</td>\n",
       "      <td>NaN</td>\n",
       "      <td>0</td>\n",
       "      <td>278.71</td>\n",
       "      <td>2800000.0</td>\n",
       "      <td>10046.28</td>\n",
       "      <td>NaN</td>\n",
       "      <td>NaN</td>\n",
       "      <td>1.0</td>\n",
       "      <td>1.0</td>\n",
       "      <td>0.0</td>\n",
       "    </tr>\n",
       "    <tr>\n",
       "      <th>3</th>\n",
       "      <td>2-13-2014-4939</td>\n",
       "      <td>13</td>\n",
       "      <td>2</td>\n",
       "      <td>رهون</td>\n",
       "      <td>Mortgages</td>\n",
       "      <td>تسجيل رهن</td>\n",
       "      <td>Mortgage Registration</td>\n",
       "      <td>23-06-2014</td>\n",
       "      <td>4</td>\n",
       "      <td>فيلا</td>\n",
       "      <td>Villa</td>\n",
       "      <td>NaN</td>\n",
       "      <td>NaN</td>\n",
       "      <td>NaN</td>\n",
       "      <td>تجاري</td>\n",
       "      <td>Commercial</td>\n",
       "      <td>1</td>\n",
       "      <td>العقارات القائمة</td>\n",
       "      <td>Existing Properties</td>\n",
       "      <td>276</td>\n",
       "      <td>البدع</td>\n",
       "      <td>Al Bada</td>\n",
       "      <td>NaN</td>\n",
       "      <td>NaN</td>\n",
       "      <td>NaN</td>\n",
       "      <td>NaN</td>\n",
       "      <td>NaN</td>\n",
       "      <td>NaN</td>\n",
       "      <td>NaN</td>\n",
       "      <td>برج خليفة</td>\n",
       "      <td>Burj Khalifa</td>\n",
       "      <td>محطة مترو المركز التجاري</td>\n",
       "      <td>Trade Centre Metro Station</td>\n",
       "      <td>مول دبي</td>\n",
       "      <td>Dubai Mall</td>\n",
       "      <td>NaN</td>\n",
       "      <td>NaN</td>\n",
       "      <td>0</td>\n",
       "      <td>16952.94</td>\n",
       "      <td>12000000.0</td>\n",
       "      <td>707.84</td>\n",
       "      <td>NaN</td>\n",
       "      <td>NaN</td>\n",
       "      <td>1.0</td>\n",
       "      <td>1.0</td>\n",
       "      <td>0.0</td>\n",
       "    </tr>\n",
       "    <tr>\n",
       "      <th>4</th>\n",
       "      <td>1-11-2002-81</td>\n",
       "      <td>11</td>\n",
       "      <td>1</td>\n",
       "      <td>مبايعات</td>\n",
       "      <td>Sales</td>\n",
       "      <td>بيع</td>\n",
       "      <td>Sell</td>\n",
       "      <td>14-01-2002</td>\n",
       "      <td>2</td>\n",
       "      <td>مبنى</td>\n",
       "      <td>Building</td>\n",
       "      <td>NaN</td>\n",
       "      <td>NaN</td>\n",
       "      <td>NaN</td>\n",
       "      <td>تجاري</td>\n",
       "      <td>Commercial</td>\n",
       "      <td>1</td>\n",
       "      <td>العقارات القائمة</td>\n",
       "      <td>Existing Properties</td>\n",
       "      <td>271</td>\n",
       "      <td>الكرامه</td>\n",
       "      <td>Al Karama</td>\n",
       "      <td>NaN</td>\n",
       "      <td>NaN</td>\n",
       "      <td>NaN</td>\n",
       "      <td>NaN</td>\n",
       "      <td>NaN</td>\n",
       "      <td>NaN</td>\n",
       "      <td>NaN</td>\n",
       "      <td>مطار دبي الدولي</td>\n",
       "      <td>Dubai International Airport</td>\n",
       "      <td>محطة مترو بنك أبوظبي التجاري</td>\n",
       "      <td>ADCB Metro Station</td>\n",
       "      <td>مول دبي</td>\n",
       "      <td>Dubai Mall</td>\n",
       "      <td>NaN</td>\n",
       "      <td>NaN</td>\n",
       "      <td>0</td>\n",
       "      <td>232.26</td>\n",
       "      <td>1500000.0</td>\n",
       "      <td>6458.28</td>\n",
       "      <td>NaN</td>\n",
       "      <td>NaN</td>\n",
       "      <td>2.0</td>\n",
       "      <td>1.0</td>\n",
       "      <td>0.0</td>\n",
       "    </tr>\n",
       "  </tbody>\n",
       "</table>\n",
       "</div>"
      ],
      "text/plain": [
       "    transaction_id  procedure_id  trans_group_id trans_group_ar  \\\n",
       "0   1-11-2018-8205            11               1        مبايعات   \n",
       "1  1-11-2016-12930            11               1        مبايعات   \n",
       "2  1-11-2016-13524            11               1        مبايعات   \n",
       "3   2-13-2014-4939            13               2           رهون   \n",
       "4     1-11-2002-81            11               1        مبايعات   \n",
       "\n",
       "  trans_group_en procedure_name_ar      procedure_name_en instance_date  \\\n",
       "0          Sales               بيع                   Sell    13-08-2018   \n",
       "1          Sales               بيع                   Sell    02-11-2016   \n",
       "2          Sales               بيع                   Sell    15-11-2016   \n",
       "3      Mortgages         تسجيل رهن  Mortgage Registration    23-06-2014   \n",
       "4          Sales               بيع                   Sell    14-01-2002   \n",
       "\n",
       "   property_type_id property_type_ar property_type_en  property_sub_type_id  \\\n",
       "0                 4             فيلا            Villa                   NaN   \n",
       "1                 4             فيلا            Villa                   NaN   \n",
       "2                 4             فيلا            Villa                   NaN   \n",
       "3                 4             فيلا            Villa                   NaN   \n",
       "4                 2             مبنى         Building                   NaN   \n",
       "\n",
       "  property_sub_type_ar property_sub_type_en property_usage_ar  \\\n",
       "0                  NaN                  NaN              أخرى   \n",
       "1                  NaN                  NaN              سكني   \n",
       "2                  NaN                  NaN              أخرى   \n",
       "3                  NaN                  NaN             تجاري   \n",
       "4                  NaN                  NaN             تجاري   \n",
       "\n",
       "  property_usage_en  reg_type_id       reg_type_ar          reg_type_en  \\\n",
       "0             Other            1  العقارات القائمة  Existing Properties   \n",
       "1       Residential            1  العقارات القائمة  Existing Properties   \n",
       "2             Other            1  العقارات القائمة  Existing Properties   \n",
       "3        Commercial            1  العقارات القائمة  Existing Properties   \n",
       "4        Commercial            1  العقارات القائمة  Existing Properties   \n",
       "\n",
       "   area_id area_name_ar area_name_en building_name_ar building_name_en  \\\n",
       "0      278        منخول     Mankhool              NaN              NaN   \n",
       "1      276        البدع      Al Bada              NaN              NaN   \n",
       "2      276        البدع      Al Bada              NaN              NaN   \n",
       "3      276        البدع      Al Bada              NaN              NaN   \n",
       "4      271      الكرامه    Al Karama              NaN              NaN   \n",
       "\n",
       "   project_number project_name_ar project_name_en master_project_en  \\\n",
       "0             NaN             NaN             NaN               NaN   \n",
       "1             NaN             NaN             NaN               NaN   \n",
       "2             NaN             NaN             NaN               NaN   \n",
       "3             NaN             NaN             NaN               NaN   \n",
       "4             NaN             NaN             NaN               NaN   \n",
       "\n",
       "  master_project_ar nearest_landmark_ar          nearest_landmark_en  \\\n",
       "0               NaN           برج خليفة                 Burj Khalifa   \n",
       "1               NaN           برج خليفة                 Burj Khalifa   \n",
       "2               NaN           برج خليفة                 Burj Khalifa   \n",
       "3               NaN           برج خليفة                 Burj Khalifa   \n",
       "4               NaN     مطار دبي الدولي  Dubai International Airport   \n",
       "\n",
       "               nearest_metro_ar               nearest_metro_en  \\\n",
       "0  محطة مترو بنك أبوظبي التجاري             ADCB Metro Station   \n",
       "1      محطة مترو أبراج الإمارات  Emirates Towers Metro Station   \n",
       "2      محطة مترو أبراج الإمارات  Emirates Towers Metro Station   \n",
       "3      محطة مترو المركز التجاري     Trade Centre Metro Station   \n",
       "4  محطة مترو بنك أبوظبي التجاري             ADCB Metro Station   \n",
       "\n",
       "  nearest_mall_ar nearest_mall_en rooms_ar rooms_en  has_parking  \\\n",
       "0         مول دبي      Dubai Mall      NaN      NaN            0   \n",
       "1         مول دبي      Dubai Mall      NaN      NaN            0   \n",
       "2         مول دبي      Dubai Mall      NaN      NaN            0   \n",
       "3         مول دبي      Dubai Mall      NaN      NaN            0   \n",
       "4         مول دبي      Dubai Mall      NaN      NaN            0   \n",
       "\n",
       "   procedure_area  actual_worth  meter_sale_price  rent_value  \\\n",
       "0           34.41      165000.0           4795.12         NaN   \n",
       "1          390.00     2089900.0           5358.72         NaN   \n",
       "2          278.71     2800000.0          10046.28         NaN   \n",
       "3        16952.94    12000000.0            707.84         NaN   \n",
       "4          232.26     1500000.0           6458.28         NaN   \n",
       "\n",
       "   meter_rent_price  no_of_parties_role_1  no_of_parties_role_2  \\\n",
       "0               NaN                   1.0                   2.0   \n",
       "1               NaN                   1.0                   1.0   \n",
       "2               NaN                   1.0                   1.0   \n",
       "3               NaN                   1.0                   1.0   \n",
       "4               NaN                   2.0                   1.0   \n",
       "\n",
       "   no_of_parties_role_3  \n",
       "0                   0.0  \n",
       "1                   0.0  \n",
       "2                   0.0  \n",
       "3                   0.0  \n",
       "4                   0.0  "
      ]
     },
     "execution_count": 147,
     "metadata": {},
     "output_type": "execute_result"
    }
   ],
   "source": [
    "transactions.head()"
   ]
  },
  {
   "cell_type": "code",
   "execution_count": null,
   "metadata": {},
   "outputs": [],
   "source": []
  }
 ],
 "metadata": {
  "kernelspec": {
   "display_name": "base",
   "language": "python",
   "name": "python3"
  },
  "language_info": {
   "codemirror_mode": {
    "name": "ipython",
    "version": 3
   },
   "file_extension": ".py",
   "mimetype": "text/x-python",
   "name": "python",
   "nbconvert_exporter": "python",
   "pygments_lexer": "ipython3",
   "version": "3.11.0"
  }
 },
 "nbformat": 4,
 "nbformat_minor": 2
}
